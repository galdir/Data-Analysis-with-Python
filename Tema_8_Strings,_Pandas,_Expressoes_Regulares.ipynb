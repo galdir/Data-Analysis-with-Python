{
  "nbformat": 4,
  "nbformat_minor": 0,
  "metadata": {
    "colab": {
      "provenance": [],
      "toc_visible": true,
      "authorship_tag": "ABX9TyNPPiEPruHBdRYlf3uWF/xe",
      "include_colab_link": true
    },
    "kernelspec": {
      "name": "python3",
      "display_name": "Python 3"
    },
    "language_info": {
      "name": "python"
    }
  },
  "cells": [
    {
      "cell_type": "markdown",
      "metadata": {
        "id": "view-in-github",
        "colab_type": "text"
      },
      "source": [
        "<a href=\"https://colab.research.google.com/github/galdir/Data-Analysis-with-Python/blob/main/Tema_8_Strings%2C_Pandas%2C_Expressoes_Regulares.ipynb\" target=\"_parent\"><img src=\"https://colab.research.google.com/assets/colab-badge.svg\" alt=\"Open In Colab\"/></a>"
      ]
    },
    {
      "cell_type": "markdown",
      "source": [
        "# Introdução"
      ],
      "metadata": {
        "id": "usFp5CwF02LQ"
      }
    },
    {
      "cell_type": "markdown",
      "source": [
        "Strings suportam muitas das mesmas operações de sequência que listas e tuplas, e que strings, como tuplas, são imutáveis. \n",
        "\n",
        "Agora, vamos dar uma olhada mais profunda em strings e introduzir expressões regulares e o módulo re, que usaremos para combinar patterns1 em text. \n",
        "\n",
        "As expressões regulares são particularmente importantes nas aplicações com dados de hoje. \n",
        "\n",
        "Na seção Intro to Data Science, apresentamos brevemente a limpeza/munging/wrangling de dados com Pandas Series e DataFrames."
      ],
      "metadata": {
        "id": "Mlvnvw8l04X_"
      }
    },
    {
      "cell_type": "markdown",
      "source": [
        "# 2 Formatação de Strings"
      ],
      "metadata": {
        "id": "GwOLevab1zkm"
      }
    },
    {
      "cell_type": "markdown",
      "metadata": {
        "id": "h9ifwy2G0kJI"
      },
      "source": [
        "## 2.1 Tipos de apresentação"
      ]
    },
    {
      "cell_type": "markdown",
      "source": [
        "Quando você especifica um espaço reservado para um valor em uma string f, o Python assume que o valor deve ser exibido como uma string, a menos que você especifique outro tipo."
      ],
      "metadata": {
        "id": "KSWQao7C16KW"
      }
    },
    {
      "cell_type": "code",
      "source": [
        "f'{17.489:.2f}'"
      ],
      "metadata": {
        "colab": {
          "base_uri": "https://localhost:8080/",
          "height": 36
        },
        "id": "fEysDs1cfYTe",
        "outputId": "8c945dbe-7298-4743-d208-671c47d35e06"
      },
      "execution_count": null,
      "outputs": [
        {
          "output_type": "execute_result",
          "data": {
            "text/plain": [
              "'17.49'"
            ],
            "application/vnd.google.colaboratory.intrinsic+json": {
              "type": "string"
            }
          },
          "metadata": {},
          "execution_count": 1
        }
      ]
    },
    {
      "cell_type": "markdown",
      "metadata": {
        "id": "DcuyqhXI0kJO"
      },
      "source": [
        "### Integers"
      ]
    },
    {
      "cell_type": "code",
      "execution_count": null,
      "metadata": {
        "colab": {
          "base_uri": "https://localhost:8080/",
          "height": 36
        },
        "id": "YEIywBMR0kJO",
        "outputId": "4c0b5a8d-44fd-4af5-bef8-609d6c1fe2f1"
      },
      "outputs": [
        {
          "output_type": "execute_result",
          "data": {
            "text/plain": [
              "'10'"
            ],
            "application/vnd.google.colaboratory.intrinsic+json": {
              "type": "string"
            }
          },
          "metadata": {},
          "execution_count": 2
        }
      ],
      "source": [
        "f'{10:d}'"
      ]
    },
    {
      "cell_type": "code",
      "source": [
        "f'{10:5d}'"
      ],
      "metadata": {
        "colab": {
          "base_uri": "https://localhost:8080/",
          "height": 36
        },
        "id": "OLJBo1G3fvuO",
        "outputId": "0485705e-b433-442a-cfae-6dd84db8b8b0"
      },
      "execution_count": null,
      "outputs": [
        {
          "output_type": "execute_result",
          "data": {
            "text/plain": [
              "'   10'"
            ],
            "application/vnd.google.colaboratory.intrinsic+json": {
              "type": "string"
            }
          },
          "metadata": {},
          "execution_count": 7
        }
      ]
    },
    {
      "cell_type": "markdown",
      "metadata": {
        "id": "3wTcJvlS0kJP"
      },
      "source": [
        "### Characters"
      ]
    },
    {
      "cell_type": "code",
      "execution_count": null,
      "metadata": {
        "colab": {
          "base_uri": "https://localhost:8080/",
          "height": 36
        },
        "id": "po4dMM8u0kJP",
        "outputId": "e24c97b7-d481-4cb1-dbfd-1e608aae2952"
      },
      "outputs": [
        {
          "output_type": "execute_result",
          "data": {
            "text/plain": [
              "'A a'"
            ],
            "application/vnd.google.colaboratory.intrinsic+json": {
              "type": "string"
            }
          },
          "metadata": {},
          "execution_count": 6
        }
      ],
      "source": [
        "f'{65:c} {97:c}'"
      ]
    },
    {
      "cell_type": "markdown",
      "metadata": {
        "id": "J1RCdJJH0kJQ"
      },
      "source": [
        "### Strings"
      ]
    },
    {
      "cell_type": "code",
      "execution_count": null,
      "metadata": {
        "colab": {
          "base_uri": "https://localhost:8080/",
          "height": 36
        },
        "id": "g_KS0kUh0kJR",
        "outputId": "0a55997e-908e-490f-c224-e262dcd0d35d"
      },
      "outputs": [
        {
          "output_type": "execute_result",
          "data": {
            "text/plain": [
              "'hello 7'"
            ],
            "application/vnd.google.colaboratory.intrinsic+json": {
              "type": "string"
            }
          },
          "metadata": {},
          "execution_count": 8
        }
      ],
      "source": [
        "f'{\"hello\":s} {7}'"
      ]
    },
    {
      "cell_type": "markdown",
      "metadata": {
        "id": "s-HMDkk_0kJS"
      },
      "source": [
        "### Ponto Flutuante e Valores Decimais"
      ]
    },
    {
      "cell_type": "code",
      "source": [
        "2 + 1"
      ],
      "metadata": {
        "colab": {
          "base_uri": "https://localhost:8080/"
        },
        "id": "mOOlQV9mgmUX",
        "outputId": "6ac12592-c06e-477d-c597-c9d9c7f379d5"
      },
      "execution_count": null,
      "outputs": [
        {
          "output_type": "execute_result",
          "data": {
            "text/plain": [
              "3"
            ]
          },
          "metadata": {},
          "execution_count": 13
        }
      ]
    },
    {
      "cell_type": "code",
      "source": [
        "0.2 + 0.1"
      ],
      "metadata": {
        "colab": {
          "base_uri": "https://localhost:8080/"
        },
        "id": "1br3P85Ygo1o",
        "outputId": "131d9aa9-2902-49b3-aa54-58e06433efa1"
      },
      "execution_count": null,
      "outputs": [
        {
          "output_type": "execute_result",
          "data": {
            "text/plain": [
              "0.30000000000000004"
            ]
          },
          "metadata": {},
          "execution_count": 12
        }
      ]
    },
    {
      "cell_type": "code",
      "execution_count": null,
      "metadata": {
        "id": "8ZPDwWFf0kJS"
      },
      "outputs": [],
      "source": [
        "from decimal import Decimal"
      ]
    },
    {
      "cell_type": "code",
      "source": [
        "f'{Decimal(\"0.3\"):.20f}'"
      ],
      "metadata": {
        "colab": {
          "base_uri": "https://localhost:8080/",
          "height": 36
        },
        "id": "IK72dUFUhLSd",
        "outputId": "583911ad-d377-4e0d-a444-7eb5e64e98de"
      },
      "execution_count": null,
      "outputs": [
        {
          "output_type": "execute_result",
          "data": {
            "text/plain": [
              "'0.30000000000000000000'"
            ],
            "application/vnd.google.colaboratory.intrinsic+json": {
              "type": "string"
            }
          },
          "metadata": {},
          "execution_count": 16
        }
      ]
    },
    {
      "cell_type": "code",
      "execution_count": null,
      "metadata": {
        "colab": {
          "base_uri": "https://localhost:8080/",
          "height": 36
        },
        "id": "KERek8ik0kJT",
        "outputId": "b5390258-835b-4808-f2b3-a519505cffb8"
      },
      "outputs": [
        {
          "output_type": "execute_result",
          "data": {
            "text/plain": [
              "'10000000000000000000000000.000'"
            ],
            "application/vnd.google.colaboratory.intrinsic+json": {
              "type": "string"
            }
          },
          "metadata": {},
          "execution_count": 10
        }
      ],
      "source": [
        "f'{Decimal(\"10000000000000000000000000.0\"):.3f}'"
      ]
    },
    {
      "cell_type": "code",
      "source": [
        "f'{Decimal(\"10000000000000000000000000.0\"):.3e}'"
      ],
      "metadata": {
        "colab": {
          "base_uri": "https://localhost:8080/",
          "height": 36
        },
        "id": "PwkOfF4og-Ld",
        "outputId": "c85051c4-52fc-446f-c52a-1c44ad130c6e"
      },
      "execution_count": null,
      "outputs": [
        {
          "output_type": "execute_result",
          "data": {
            "text/plain": [
              "'1.000e+25'"
            ],
            "application/vnd.google.colaboratory.intrinsic+json": {
              "type": "string"
            }
          },
          "metadata": {},
          "execution_count": 15
        }
      ]
    },
    {
      "cell_type": "code",
      "source": [
        "Decimal(0.1) + Decimal(0.2)"
      ],
      "metadata": {
        "colab": {
          "base_uri": "https://localhost:8080/"
        },
        "id": "7scWGtFfhfY3",
        "outputId": "f58c5e7d-ae74-4718-dba9-f6f66e341bf5"
      },
      "execution_count": null,
      "outputs": [
        {
          "output_type": "execute_result",
          "data": {
            "text/plain": [
              "Decimal('0.3000000000000000166533453694')"
            ]
          },
          "metadata": {},
          "execution_count": 17
        }
      ]
    },
    {
      "cell_type": "markdown",
      "metadata": {
        "id": "7somcIqG0kJU"
      },
      "source": [
        "## Atividade "
      ]
    },
    {
      "cell_type": "markdown",
      "metadata": {
        "id": "dcMDZGDB0kJU"
      },
      "source": [
        "### Use o especificador de tipo `c` para exibir os caracteres que correspondem aos códigos de caracteres 58, 45 e 41."
      ]
    },
    {
      "cell_type": "code",
      "source": [],
      "metadata": {
        "id": "Ma-QOjXqh9dY"
      },
      "execution_count": null,
      "outputs": []
    },
    {
      "cell_type": "markdown",
      "metadata": {
        "id": "WRHQ3z7m0kJW"
      },
      "source": [
        "## 2.2 Larguras de Campo e Alinhamento"
      ]
    },
    {
      "cell_type": "markdown",
      "source": [
        "Python alinha números à direita e alinha à esquerda outros valores, como strings"
      ],
      "metadata": {
        "id": "kLU0qRqH8ahX"
      }
    },
    {
      "cell_type": "code",
      "execution_count": null,
      "metadata": {
        "colab": {
          "base_uri": "https://localhost:8080/",
          "height": 36
        },
        "id": "inF7kwPs0kJW",
        "outputId": "eaad4a8e-d86d-4dd4-ed3a-cb26be10fed4"
      },
      "outputs": [
        {
          "output_type": "execute_result",
          "data": {
            "text/plain": [
              "'[        27]'"
            ],
            "application/vnd.google.colaboratory.intrinsic+json": {
              "type": "string"
            }
          },
          "metadata": {},
          "execution_count": 18
        }
      ],
      "source": [
        "f'[{27:10d}]'"
      ]
    },
    {
      "cell_type": "code",
      "source": [
        "f'[{27:10f}]'"
      ],
      "metadata": {
        "colab": {
          "base_uri": "https://localhost:8080/",
          "height": 36
        },
        "id": "VRVS-EDPizM_",
        "outputId": "b237909c-712f-4487-f1fc-e1840bc9a14e"
      },
      "execution_count": null,
      "outputs": [
        {
          "output_type": "execute_result",
          "data": {
            "text/plain": [
              "'[ 27.000000]'"
            ],
            "application/vnd.google.colaboratory.intrinsic+json": {
              "type": "string"
            }
          },
          "metadata": {},
          "execution_count": 20
        }
      ]
    },
    {
      "cell_type": "code",
      "source": [
        "f'[{\"hello\":10}]'"
      ],
      "metadata": {
        "colab": {
          "base_uri": "https://localhost:8080/",
          "height": 36
        },
        "id": "oz08oPYzi5yL",
        "outputId": "411719bc-8349-4037-f2e4-dea660bb899c"
      },
      "execution_count": null,
      "outputs": [
        {
          "output_type": "execute_result",
          "data": {
            "text/plain": [
              "'[hello     ]'"
            ],
            "application/vnd.google.colaboratory.intrinsic+json": {
              "type": "string"
            }
          },
          "metadata": {},
          "execution_count": 21
        }
      ]
    },
    {
      "cell_type": "code",
      "source": [],
      "metadata": {
        "id": "pNfUvKA-jIGC"
      },
      "execution_count": null,
      "outputs": []
    },
    {
      "cell_type": "markdown",
      "metadata": {
        "id": "aGHYTCEG0kJX"
      },
      "source": [
        "### Especificando explicitamente o alinhamento à esquerda e à direita em um campo"
      ]
    },
    {
      "cell_type": "code",
      "execution_count": null,
      "metadata": {
        "id": "yvOikUO40kJX",
        "colab": {
          "base_uri": "https://localhost:8080/",
          "height": 36
        },
        "outputId": "0dc5f93e-a1e5-4f01-81be-6e59ace258aa"
      },
      "outputs": [
        {
          "output_type": "execute_result",
          "data": {
            "text/plain": [
              "'[27             ]'"
            ],
            "application/vnd.google.colaboratory.intrinsic+json": {
              "type": "string"
            }
          },
          "metadata": {},
          "execution_count": 22
        }
      ],
      "source": [
        "f'[{27:<15d}]'"
      ]
    },
    {
      "cell_type": "code",
      "source": [
        "f'[{3.5:<15f}]'"
      ],
      "metadata": {
        "colab": {
          "base_uri": "https://localhost:8080/",
          "height": 36
        },
        "id": "xJwywnhQjZ2s",
        "outputId": "304db761-bc23-41c1-f8ae-683ef0d82962"
      },
      "execution_count": null,
      "outputs": [
        {
          "output_type": "execute_result",
          "data": {
            "text/plain": [
              "'[3.500000       ]'"
            ],
            "application/vnd.google.colaboratory.intrinsic+json": {
              "type": "string"
            }
          },
          "metadata": {},
          "execution_count": 23
        }
      ]
    },
    {
      "cell_type": "code",
      "source": [
        "f'[{\"hello\":>15}]'"
      ],
      "metadata": {
        "colab": {
          "base_uri": "https://localhost:8080/",
          "height": 36
        },
        "id": "ZsUr9qpQjbVi",
        "outputId": "2419af94-1119-47b8-9968-fd8c7024df75"
      },
      "execution_count": null,
      "outputs": [
        {
          "output_type": "execute_result",
          "data": {
            "text/plain": [
              "'[          hello]'"
            ],
            "application/vnd.google.colaboratory.intrinsic+json": {
              "type": "string"
            }
          },
          "metadata": {},
          "execution_count": 24
        }
      ]
    },
    {
      "cell_type": "code",
      "source": [],
      "metadata": {
        "id": "mlfeOsUGjhjH"
      },
      "execution_count": null,
      "outputs": []
    },
    {
      "cell_type": "markdown",
      "metadata": {
        "id": "Y5-jQCG10kJX"
      },
      "source": [
        "### Centralizando um valor em um campo"
      ]
    },
    {
      "cell_type": "code",
      "execution_count": null,
      "metadata": {
        "colab": {
          "base_uri": "https://localhost:8080/",
          "height": 36
        },
        "id": "K5nXk2Rm0kJY",
        "outputId": "d0f3bbb6-6b97-424a-882c-abb048f09cd5"
      },
      "outputs": [
        {
          "output_type": "execute_result",
          "data": {
            "text/plain": [
              "'[  27   ]'"
            ],
            "application/vnd.google.colaboratory.intrinsic+json": {
              "type": "string"
            }
          },
          "metadata": {},
          "execution_count": 25
        }
      ],
      "source": [
        "f'[{27:^7d}]'"
      ]
    },
    {
      "cell_type": "code",
      "source": [
        "f'[{27:^8d}]'"
      ],
      "metadata": {
        "colab": {
          "base_uri": "https://localhost:8080/",
          "height": 36
        },
        "id": "cpQRU_wZjscB",
        "outputId": "5729d675-ad91-4368-ec33-198142e29b6c"
      },
      "execution_count": null,
      "outputs": [
        {
          "output_type": "execute_result",
          "data": {
            "text/plain": [
              "'[   27   ]'"
            ],
            "application/vnd.google.colaboratory.intrinsic+json": {
              "type": "string"
            }
          },
          "metadata": {},
          "execution_count": 26
        }
      ]
    },
    {
      "cell_type": "code",
      "source": [
        "f'[{3.5:^10f}]'"
      ],
      "metadata": {
        "colab": {
          "base_uri": "https://localhost:8080/",
          "height": 36
        },
        "id": "7Mvr6wvVjtL6",
        "outputId": "80012819-7845-47f0-a440-a1508778255b"
      },
      "execution_count": null,
      "outputs": [
        {
          "output_type": "execute_result",
          "data": {
            "text/plain": [
              "'[ 3.500000 ]'"
            ],
            "application/vnd.google.colaboratory.intrinsic+json": {
              "type": "string"
            }
          },
          "metadata": {},
          "execution_count": 27
        }
      ]
    },
    {
      "cell_type": "code",
      "source": [
        "f'[{\"hello\":^7}]'"
      ],
      "metadata": {
        "colab": {
          "base_uri": "https://localhost:8080/",
          "height": 36
        },
        "id": "2pThFngqj0hK",
        "outputId": "3d9fb164-0eea-482a-8e29-e57841b86383"
      },
      "execution_count": null,
      "outputs": [
        {
          "output_type": "execute_result",
          "data": {
            "text/plain": [
              "'[ hello ]'"
            ],
            "application/vnd.google.colaboratory.intrinsic+json": {
              "type": "string"
            }
          },
          "metadata": {},
          "execution_count": 28
        }
      ]
    },
    {
      "cell_type": "markdown",
      "metadata": {
        "id": "bSnoAznZ0kJY"
      },
      "source": [
        "## Atividade"
      ]
    },
    {
      "cell_type": "markdown",
      "metadata": {
        "id": "tCD_yK8c0kJY"
      },
      "source": [
        "### Exiba em linhas separadas o nome `'Amanda'` alinhado à direita, ao centro e à esquerda em um campo de 10 caracteres. Coloque cada resultado entre colchetes para que você possa ver os resultados do alinhamento com mais clareza."
      ]
    },
    {
      "cell_type": "code",
      "source": [],
      "metadata": {
        "id": "cuFZ6mJxj4kb"
      },
      "execution_count": null,
      "outputs": []
    },
    {
      "cell_type": "markdown",
      "metadata": {
        "id": "rPNZOb1f0kJZ"
      },
      "source": [
        "## 2.3 Formatação Numérica"
      ]
    },
    {
      "cell_type": "markdown",
      "metadata": {
        "id": "qP2N5iMW0kJZ"
      },
      "source": [
        "### Formatando Números Positivos com Sinais"
      ]
    },
    {
      "cell_type": "markdown",
      "source": [
        "O + antes da largura do campo especifica que um número positivo deve ser precedido por um +. Um número negativo sempre começa com um -."
      ],
      "metadata": {
        "id": "CVWKDbWZXTem"
      }
    },
    {
      "cell_type": "code",
      "execution_count": null,
      "metadata": {
        "colab": {
          "base_uri": "https://localhost:8080/",
          "height": 36
        },
        "id": "5kTleLc00kJZ",
        "outputId": "00719550-ae1a-49e6-c55b-930cab1b28d1"
      },
      "outputs": [
        {
          "output_type": "execute_result",
          "data": {
            "text/plain": [
              "'[       +27]'"
            ],
            "application/vnd.google.colaboratory.intrinsic+json": {
              "type": "string"
            }
          },
          "metadata": {},
          "execution_count": 30
        }
      ],
      "source": [
        "f'[{27:+10d}]'"
      ]
    },
    {
      "cell_type": "markdown",
      "source": [
        "Para preencher os caracteres restantes do campo com 0s em vez de espaços, coloque um 0 antes da largura do campo"
      ],
      "metadata": {
        "id": "yJ9-Yf3aXdzj"
      }
    },
    {
      "cell_type": "code",
      "execution_count": null,
      "metadata": {
        "colab": {
          "base_uri": "https://localhost:8080/",
          "height": 36
        },
        "id": "F5wSh3d90kJZ",
        "outputId": "eecca04b-23d2-4f92-e492-551b82a58f32"
      },
      "outputs": [
        {
          "output_type": "execute_result",
          "data": {
            "text/plain": [
              "'[+000000027]'"
            ],
            "application/vnd.google.colaboratory.intrinsic+json": {
              "type": "string"
            }
          },
          "metadata": {},
          "execution_count": 32
        }
      ],
      "source": [
        "f'[{27:+010d}]'"
      ]
    },
    {
      "cell_type": "markdown",
      "metadata": {
        "id": "v8buV4DS0kJZ"
      },
      "source": [
        "### Usando um espaço onde um sinal + apareceria em um valor positivo"
      ]
    },
    {
      "cell_type": "markdown",
      "source": [
        "Um espaço indica que os números positivos devem mostrar um caractere de espaço na posição do sinal."
      ],
      "metadata": {
        "id": "ncW-DGYuXueh"
      }
    },
    {
      "cell_type": "code",
      "execution_count": null,
      "metadata": {
        "colab": {
          "base_uri": "https://localhost:8080/"
        },
        "id": "sNhXoO3n0kJa",
        "outputId": "e3b8f4f9-6945-4adb-834b-fe107e3ea2ab"
      },
      "outputs": [
        {
          "output_type": "stream",
          "name": "stdout",
          "text": [
            "27\n",
            " 27\n",
            "-27\n"
          ]
        }
      ],
      "source": [
        "print(f'{27:d}\\n{27: d}\\n{-27: d}')"
      ]
    },
    {
      "cell_type": "markdown",
      "metadata": {
        "id": "xQKAh7e90kJa"
      },
      "source": [
        "### Separadores de Milhares"
      ]
    },
    {
      "cell_type": "markdown",
      "source": [
        "Você pode formatar números com separadores de milhares usando uma vírgula (,)"
      ],
      "metadata": {
        "id": "iWd7Fbu0X4LW"
      }
    },
    {
      "cell_type": "code",
      "execution_count": null,
      "metadata": {
        "colab": {
          "base_uri": "https://localhost:8080/",
          "height": 36
        },
        "id": "mKUJYPfD0kJa",
        "outputId": "3a280b73-56cb-4524-bf27-a294efd68c0d"
      },
      "outputs": [
        {
          "output_type": "execute_result",
          "data": {
            "text/plain": [
              "'12,345,678'"
            ],
            "application/vnd.google.colaboratory.intrinsic+json": {
              "type": "string"
            }
          },
          "metadata": {},
          "execution_count": 36
        }
      ],
      "source": [
        "f'{12345678:,d}'"
      ]
    },
    {
      "cell_type": "code",
      "source": [
        "f'{123456.78:,.2f}'"
      ],
      "metadata": {
        "colab": {
          "base_uri": "https://localhost:8080/",
          "height": 36
        },
        "id": "iQ6vadbVkpap",
        "outputId": "759d1102-1493-42b0-c20b-937f27a5021d"
      },
      "execution_count": null,
      "outputs": [
        {
          "output_type": "execute_result",
          "data": {
            "text/plain": [
              "'123,456.78'"
            ],
            "application/vnd.google.colaboratory.intrinsic+json": {
              "type": "string"
            }
          },
          "metadata": {},
          "execution_count": 37
        }
      ]
    },
    {
      "cell_type": "markdown",
      "metadata": {
        "id": "U5MIjLEU0kJa"
      },
      "source": [
        "## Atividade"
      ]
    },
    {
      "cell_type": "markdown",
      "metadata": {
        "id": "sJmac7ud0kJa"
      },
      "source": [
        "### Imprima os valores `10240.473` e `-3210.9521`, cada um precedido por seu sinal em campos de 10 caracteres com separadores de milhares, seus pontos decimais alinhados verticalmente e dois dígitos de precisão."
      ]
    },
    {
      "cell_type": "code",
      "source": [],
      "metadata": {
        "id": "FCUXyvuHk0rA"
      },
      "execution_count": null,
      "outputs": []
    },
    {
      "cell_type": "markdown",
      "metadata": {
        "id": "wjQIcSOg0kJb"
      },
      "source": [
        "## 2.4 Método de formato de string"
      ]
    },
    {
      "cell_type": "markdown",
      "source": [
        "As strings f do Python foram adicionadas à linguagem na versão 3.6. Antes disso, a formatação era realizada com o formato do método string. Na verdade, a formatação da string f é baseada nos recursos do método de formato. Mostramos o método de formato aqui porque você o encontrará no código escrito antes do Python 3.6."
      ],
      "metadata": {
        "id": "ynTCNFVSZ3yh"
      }
    },
    {
      "cell_type": "code",
      "execution_count": null,
      "metadata": {
        "colab": {
          "base_uri": "https://localhost:8080/",
          "height": 36
        },
        "id": "0DTdpzTq0kJb",
        "outputId": "67919340-fdb6-4220-f384-f21fcc1c7645"
      },
      "outputs": [
        {
          "output_type": "execute_result",
          "data": {
            "text/plain": [
              "'17.49'"
            ],
            "application/vnd.google.colaboratory.intrinsic+json": {
              "type": "string"
            }
          },
          "metadata": {},
          "execution_count": 38
        }
      ],
      "source": [
        "'{:.2f}'.format(17.489)"
      ]
    },
    {
      "cell_type": "markdown",
      "metadata": {
        "id": "-QEGNrF_0kJb"
      },
      "source": [
        "### Vários espaços reservados\n"
      ]
    },
    {
      "cell_type": "code",
      "execution_count": null,
      "metadata": {
        "colab": {
          "base_uri": "https://localhost:8080/",
          "height": 36
        },
        "id": "ePY-oHW40kJb",
        "outputId": "1e32b0af-4eb3-4da7-9df4-2e786da30489"
      },
      "outputs": [
        {
          "output_type": "execute_result",
          "data": {
            "text/plain": [
              "'Amanda Cyan'"
            ],
            "application/vnd.google.colaboratory.intrinsic+json": {
              "type": "string"
            }
          },
          "metadata": {},
          "execution_count": 39
        }
      ],
      "source": [
        "'{} {}'.format('Amanda', 'Cyan')"
      ]
    },
    {
      "cell_type": "markdown",
      "metadata": {
        "id": "LkejEBoq0kJb"
      },
      "source": [
        "### Argumentos de referência por número de posição"
      ]
    },
    {
      "cell_type": "code",
      "execution_count": null,
      "metadata": {
        "colab": {
          "base_uri": "https://localhost:8080/",
          "height": 36
        },
        "id": "-CHchTkg0kJc",
        "outputId": "5d062dd7-1629-4076-b41c-7bd1fe73a60b"
      },
      "outputs": [
        {
          "output_type": "execute_result",
          "data": {
            "text/plain": [
              "'Happy Happy Birthday'"
            ],
            "application/vnd.google.colaboratory.intrinsic+json": {
              "type": "string"
            }
          },
          "metadata": {},
          "execution_count": 41
        }
      ],
      "source": [
        "'{0} {0} {1}'.format('Happy', 'Birthday')"
      ]
    },
    {
      "cell_type": "markdown",
      "metadata": {
        "id": "39KLlNF20kJc"
      },
      "source": [
        "### Como fazer referência a argumentos de palavra-chave"
      ]
    },
    {
      "cell_type": "code",
      "execution_count": null,
      "metadata": {
        "colab": {
          "base_uri": "https://localhost:8080/",
          "height": 36
        },
        "id": "EsG_OT3M0kJc",
        "outputId": "db3ebb6a-0bd9-41f8-929a-2439bd932fa3"
      },
      "outputs": [
        {
          "output_type": "execute_result",
          "data": {
            "text/plain": [
              "'Amanda Gray'"
            ],
            "application/vnd.google.colaboratory.intrinsic+json": {
              "type": "string"
            }
          },
          "metadata": {},
          "execution_count": 42
        }
      ],
      "source": [
        "'{first} {last}'.format(first='Amanda', last='Gray', banana='Silva')"
      ]
    },
    {
      "cell_type": "code",
      "execution_count": null,
      "metadata": {
        "colab": {
          "base_uri": "https://localhost:8080/",
          "height": 36
        },
        "id": "PjWMlL8F0kJc",
        "outputId": "7cd13457-9b7d-4108-9c10-5b6a9e562282"
      },
      "outputs": [
        {
          "output_type": "execute_result",
          "data": {
            "text/plain": [
              "'Gray Amanda'"
            ],
            "application/vnd.google.colaboratory.intrinsic+json": {
              "type": "string"
            }
          },
          "metadata": {},
          "execution_count": 35
        }
      ],
      "source": [
        "'{last} {first}'.format(first='Amanda', last='Gray')"
      ]
    },
    {
      "cell_type": "markdown",
      "metadata": {
        "id": "VNhXbxKC0kJd"
      },
      "source": [
        "# 3 Concatenar e repetir strings"
      ]
    },
    {
      "cell_type": "code",
      "execution_count": null,
      "metadata": {
        "id": "BlwNMFz70kJd"
      },
      "outputs": [],
      "source": [
        "s1 = 'happy'"
      ]
    },
    {
      "cell_type": "code",
      "execution_count": null,
      "metadata": {
        "id": "h_gZA9VZ0kJe"
      },
      "outputs": [],
      "source": [
        "s2 = 'birthday'"
      ]
    },
    {
      "cell_type": "code",
      "source": [
        "s1 += ' ' + s2"
      ],
      "metadata": {
        "id": "eeCEwm9tmzQ_"
      },
      "execution_count": null,
      "outputs": []
    },
    {
      "cell_type": "code",
      "source": [
        "s1"
      ],
      "metadata": {
        "colab": {
          "base_uri": "https://localhost:8080/",
          "height": 36
        },
        "id": "Kkg-HZVKm6ha",
        "outputId": "f97feb8b-bbdd-4344-e5c7-b2237977b6a4"
      },
      "execution_count": null,
      "outputs": [
        {
          "output_type": "execute_result",
          "data": {
            "text/plain": [
              "'happy birthday'"
            ],
            "application/vnd.google.colaboratory.intrinsic+json": {
              "type": "string"
            }
          },
          "metadata": {},
          "execution_count": 56
        }
      ]
    },
    {
      "cell_type": "code",
      "source": [
        "simbolo = '>'"
      ],
      "metadata": {
        "id": "sxcHU-rEm66C"
      },
      "execution_count": null,
      "outputs": []
    },
    {
      "cell_type": "code",
      "source": [
        "simbolo *= 5"
      ],
      "metadata": {
        "id": "T2557rppnHnR"
      },
      "execution_count": null,
      "outputs": []
    },
    {
      "cell_type": "code",
      "source": [
        "simbolo"
      ],
      "metadata": {
        "colab": {
          "base_uri": "https://localhost:8080/",
          "height": 36
        },
        "id": "tRf31v9bnQ2a",
        "outputId": "bca20fca-c3c6-4625-fc8f-2d8f85cfd377"
      },
      "execution_count": null,
      "outputs": [
        {
          "output_type": "execute_result",
          "data": {
            "text/plain": [
              "'>>>>>'"
            ],
            "application/vnd.google.colaboratory.intrinsic+json": {
              "type": "string"
            }
          },
          "metadata": {},
          "execution_count": 60
        }
      ]
    },
    {
      "cell_type": "code",
      "source": [],
      "metadata": {
        "id": "HICyNIxwnRTa"
      },
      "execution_count": null,
      "outputs": []
    },
    {
      "cell_type": "markdown",
      "metadata": {
        "id": "QIC6jqwF0kJe"
      },
      "source": [
        "## Atividade"
      ]
    },
    {
      "cell_type": "markdown",
      "metadata": {
        "id": "NjvTxtBS0kJf"
      },
      "source": [
        "### Use o operador `+=` para concatenar seu nome e sobrenome. Em seguida, use o operador `*=` para criar uma barra de asteriscos com o mesmo número de caracteres do seu nome completo e exibir a barra acima e abaixo do seu nome."
      ]
    },
    {
      "cell_type": "code",
      "source": [],
      "metadata": {
        "id": "sh8Rn0DCnYHB"
      },
      "execution_count": null,
      "outputs": []
    },
    {
      "cell_type": "markdown",
      "metadata": {
        "id": "uR7woZVb0kJg"
      },
      "source": [
        "# 4 Tirando o espaço em branco das strings"
      ]
    },
    {
      "cell_type": "markdown",
      "metadata": {
        "id": "KV-b3Lvp0kJg"
      },
      "source": [
        "### Removendo espaços em branco à esquerda e à direita"
      ]
    },
    {
      "cell_type": "code",
      "execution_count": null,
      "metadata": {
        "id": "o3BOHoU50kJg"
      },
      "outputs": [],
      "source": [
        "sentence = '\\t  \\n  This is a test string. \\t\\t \\n'"
      ]
    },
    {
      "cell_type": "code",
      "source": [
        "sentence"
      ],
      "metadata": {
        "colab": {
          "base_uri": "https://localhost:8080/",
          "height": 36
        },
        "id": "6at5K3ginhti",
        "outputId": "196dfa8a-bfa2-4cca-c371-b7dc63ecbc85"
      },
      "execution_count": null,
      "outputs": [
        {
          "output_type": "execute_result",
          "data": {
            "text/plain": [
              "'\\t  \\n  This is a test string. \\t\\t \\n'"
            ],
            "application/vnd.google.colaboratory.intrinsic+json": {
              "type": "string"
            }
          },
          "metadata": {},
          "execution_count": 63
        }
      ]
    },
    {
      "cell_type": "code",
      "source": [
        "print(sentence)"
      ],
      "metadata": {
        "colab": {
          "base_uri": "https://localhost:8080/"
        },
        "id": "s54_zRuAnioS",
        "outputId": "3d13ab13-db07-4a87-f666-e6b9ae3a8b07"
      },
      "execution_count": null,
      "outputs": [
        {
          "output_type": "stream",
          "name": "stdout",
          "text": [
            "\t  \n",
            "  This is a test string. \t\t \n",
            "\n"
          ]
        }
      ]
    },
    {
      "cell_type": "code",
      "source": [
        "sentence.strip()"
      ],
      "metadata": {
        "colab": {
          "base_uri": "https://localhost:8080/",
          "height": 36
        },
        "id": "ohZMl474nmbq",
        "outputId": "58fefbc3-f3c8-47dd-e01d-d0f832f40da2"
      },
      "execution_count": null,
      "outputs": [
        {
          "output_type": "execute_result",
          "data": {
            "text/plain": [
              "'This is a test string.'"
            ],
            "application/vnd.google.colaboratory.intrinsic+json": {
              "type": "string"
            }
          },
          "metadata": {},
          "execution_count": 65
        }
      ]
    },
    {
      "cell_type": "code",
      "source": [
        "print(sentence.strip())"
      ],
      "metadata": {
        "colab": {
          "base_uri": "https://localhost:8080/"
        },
        "id": "MYOlP0Ijn2e5",
        "outputId": "5903e8c7-5bb2-478d-9cac-0e92a711a4df"
      },
      "execution_count": null,
      "outputs": [
        {
          "output_type": "stream",
          "name": "stdout",
          "text": [
            "This is a test string.\n"
          ]
        }
      ]
    },
    {
      "cell_type": "code",
      "source": [],
      "metadata": {
        "id": "GPoXKK70n4zj"
      },
      "execution_count": null,
      "outputs": []
    },
    {
      "cell_type": "markdown",
      "metadata": {
        "id": "vTFfJaSd0kJh"
      },
      "source": [
        "### Removendo o espaço em branco à esquerda"
      ]
    },
    {
      "cell_type": "code",
      "execution_count": null,
      "metadata": {
        "colab": {
          "base_uri": "https://localhost:8080/",
          "height": 36
        },
        "id": "3cD118RK0kJh",
        "outputId": "e2976473-8f3e-4143-fc16-00711cad552f"
      },
      "outputs": [
        {
          "output_type": "execute_result",
          "data": {
            "text/plain": [
              "'This is a test string. \\t\\t \\n'"
            ],
            "application/vnd.google.colaboratory.intrinsic+json": {
              "type": "string"
            }
          },
          "metadata": {},
          "execution_count": 67
        }
      ],
      "source": [
        "sentence.lstrip()"
      ]
    },
    {
      "cell_type": "markdown",
      "metadata": {
        "id": "VsquRJhM0kJh"
      },
      "source": [
        "### Removendo o espaço em branco à direita"
      ]
    },
    {
      "cell_type": "code",
      "execution_count": null,
      "metadata": {
        "colab": {
          "base_uri": "https://localhost:8080/",
          "height": 36
        },
        "id": "sXN3ond30kJh",
        "outputId": "b7c7adca-1e9c-4920-ca54-33a449d15d8c"
      },
      "outputs": [
        {
          "output_type": "execute_result",
          "data": {
            "text/plain": [
              "'\\t  \\n  This is a test string.'"
            ],
            "application/vnd.google.colaboratory.intrinsic+json": {
              "type": "string"
            }
          },
          "metadata": {},
          "execution_count": 68
        }
      ],
      "source": [
        "sentence.rstrip()"
      ]
    },
    {
      "cell_type": "markdown",
      "metadata": {
        "id": "_2aMAcsi0kJk"
      },
      "source": [
        "# 5 Alterar maiúsculas e minúsculas"
      ]
    },
    {
      "cell_type": "markdown",
      "metadata": {
        "id": "mBGQ-Tnd0kJk"
      },
      "source": [
        "### Capitalizando apenas o primeiro caractere de uma string"
      ]
    },
    {
      "cell_type": "code",
      "execution_count": null,
      "metadata": {
        "colab": {
          "base_uri": "https://localhost:8080/",
          "height": 36
        },
        "id": "JTZd7-6L0kJk",
        "outputId": "d698f123-d10a-45cf-b9bb-f4fc681e5251"
      },
      "outputs": [
        {
          "output_type": "execute_result",
          "data": {
            "text/plain": [
              "'Happy birthday'"
            ],
            "application/vnd.google.colaboratory.intrinsic+json": {
              "type": "string"
            }
          },
          "metadata": {},
          "execution_count": 69
        }
      ],
      "source": [
        "'happy birthday'.capitalize()"
      ]
    },
    {
      "cell_type": "markdown",
      "metadata": {
        "id": "oTZeRiA60kJk"
      },
      "source": [
        "### Capitalizando o primeiro caractere de cada palavra em uma string"
      ]
    },
    {
      "cell_type": "code",
      "execution_count": null,
      "metadata": {
        "colab": {
          "base_uri": "https://localhost:8080/",
          "height": 36
        },
        "id": "mJ7Q4g-g0kJk",
        "outputId": "688716c8-2692-42f5-b840-f0b08d9d5bee"
      },
      "outputs": [
        {
          "output_type": "execute_result",
          "data": {
            "text/plain": [
              "'Strings: A Deeper Look'"
            ],
            "application/vnd.google.colaboratory.intrinsic+json": {
              "type": "string"
            }
          },
          "metadata": {},
          "execution_count": 70
        }
      ],
      "source": [
        "'strings: a deeper look'.title()"
      ]
    },
    {
      "cell_type": "markdown",
      "metadata": {
        "id": "typ0r8sG0kJm"
      },
      "source": [
        "# 6 Operadores de comparação para strings"
      ]
    },
    {
      "cell_type": "code",
      "source": [
        "print(f'A: {ord(\"A\")}; a: {ord(\"a\")}')"
      ],
      "metadata": {
        "colab": {
          "base_uri": "https://localhost:8080/"
        },
        "id": "jv0FJ8vSoTbZ",
        "outputId": "40266f34-0300-4a43-c146-46e430ae7638"
      },
      "execution_count": null,
      "outputs": [
        {
          "output_type": "stream",
          "name": "stdout",
          "text": [
            "A: 65; a: 97\n"
          ]
        }
      ]
    },
    {
      "cell_type": "code",
      "source": [
        "'Orange' == 'orange'"
      ],
      "metadata": {
        "colab": {
          "base_uri": "https://localhost:8080/"
        },
        "id": "523ejzwKogXX",
        "outputId": "a36d9f79-32be-431b-fc8e-cf3455bd78eb"
      },
      "execution_count": null,
      "outputs": [
        {
          "output_type": "execute_result",
          "data": {
            "text/plain": [
              "False"
            ]
          },
          "metadata": {},
          "execution_count": 72
        }
      ]
    },
    {
      "cell_type": "code",
      "source": [
        "'Orange' != 'orange'"
      ],
      "metadata": {
        "colab": {
          "base_uri": "https://localhost:8080/"
        },
        "id": "1E_PPZ-woi5r",
        "outputId": "3ab4ca44-0f34-4fd9-801d-33d77c5e3774"
      },
      "execution_count": null,
      "outputs": [
        {
          "output_type": "execute_result",
          "data": {
            "text/plain": [
              "True"
            ]
          },
          "metadata": {},
          "execution_count": 73
        }
      ]
    },
    {
      "cell_type": "code",
      "source": [
        "'Orange' < 'orange'"
      ],
      "metadata": {
        "colab": {
          "base_uri": "https://localhost:8080/"
        },
        "id": "MlBv5uYvotUr",
        "outputId": "e0c2dddf-a479-4883-eb31-6464b5561dcb"
      },
      "execution_count": null,
      "outputs": [
        {
          "output_type": "execute_result",
          "data": {
            "text/plain": [
              "True"
            ]
          },
          "metadata": {},
          "execution_count": 74
        }
      ]
    },
    {
      "cell_type": "code",
      "source": [
        "'Orange' <= 'orange'"
      ],
      "metadata": {
        "colab": {
          "base_uri": "https://localhost:8080/"
        },
        "id": "TAYm-Ye5o4PX",
        "outputId": "e2ec455e-6ce2-4ec9-de21-7c54303b02a7"
      },
      "execution_count": null,
      "outputs": [
        {
          "output_type": "execute_result",
          "data": {
            "text/plain": [
              "True"
            ]
          },
          "metadata": {},
          "execution_count": 75
        }
      ]
    },
    {
      "cell_type": "code",
      "source": [
        "'Orange' > 'orange'"
      ],
      "metadata": {
        "colab": {
          "base_uri": "https://localhost:8080/"
        },
        "id": "wSjwd2xoo5CC",
        "outputId": "fed9fb37-9b66-4644-9a42-dd327fbf4bf3"
      },
      "execution_count": null,
      "outputs": [
        {
          "output_type": "execute_result",
          "data": {
            "text/plain": [
              "False"
            ]
          },
          "metadata": {},
          "execution_count": 76
        }
      ]
    },
    {
      "cell_type": "code",
      "source": [],
      "metadata": {
        "id": "9WGuRGMVo6Nr"
      },
      "execution_count": null,
      "outputs": []
    },
    {
      "cell_type": "markdown",
      "metadata": {
        "id": "JIRrFT1t0kJn"
      },
      "source": [
        "# 7 Procurando por substrings"
      ]
    },
    {
      "cell_type": "markdown",
      "metadata": {
        "id": "RKk3zUyi0kJn"
      },
      "source": [
        "### Contando Ocorrências"
      ]
    },
    {
      "cell_type": "code",
      "execution_count": null,
      "metadata": {
        "id": "PvmGt9Ae0kJn"
      },
      "outputs": [],
      "source": [
        "sentence = 'to be or not to be that is the question'"
      ]
    },
    {
      "cell_type": "code",
      "source": [
        "sentence.count('to')"
      ],
      "metadata": {
        "colab": {
          "base_uri": "https://localhost:8080/"
        },
        "id": "fQ7EWGuRo97p",
        "outputId": "25f2cd6e-6879-4624-837e-dca5ff8ed868"
      },
      "execution_count": null,
      "outputs": [
        {
          "output_type": "execute_result",
          "data": {
            "text/plain": [
              "2"
            ]
          },
          "metadata": {},
          "execution_count": 78
        }
      ]
    },
    {
      "cell_type": "code",
      "source": [
        "sentence.count('to', 12)"
      ],
      "metadata": {
        "colab": {
          "base_uri": "https://localhost:8080/"
        },
        "id": "CZjsq-BFpA-7",
        "outputId": "b939fb6d-d85a-41f9-cb5d-ebda2d390f48"
      },
      "execution_count": null,
      "outputs": [
        {
          "output_type": "execute_result",
          "data": {
            "text/plain": [
              "1"
            ]
          },
          "metadata": {},
          "execution_count": 79
        }
      ]
    },
    {
      "cell_type": "code",
      "source": [],
      "metadata": {
        "id": "zAJTq9YApG6D"
      },
      "execution_count": null,
      "outputs": []
    },
    {
      "cell_type": "markdown",
      "metadata": {
        "id": "zhQLQGaZ0kJo"
      },
      "source": [
        "### Localizando uma Substring em uma String"
      ]
    },
    {
      "cell_type": "code",
      "source": [
        "sentence.index('to')"
      ],
      "metadata": {
        "colab": {
          "base_uri": "https://localhost:8080/"
        },
        "id": "5qdsexHSpLZl",
        "outputId": "b835628c-c3c2-4226-d12c-9ecce9494dc1"
      },
      "execution_count": null,
      "outputs": [
        {
          "output_type": "execute_result",
          "data": {
            "text/plain": [
              "0"
            ]
          },
          "metadata": {},
          "execution_count": 80
        }
      ]
    },
    {
      "cell_type": "code",
      "source": [
        "sentence.index('to', 12)"
      ],
      "metadata": {
        "colab": {
          "base_uri": "https://localhost:8080/"
        },
        "id": "iHHWj1kkpQSC",
        "outputId": "2091d71c-ce7d-48a9-ccff-0307734e6ae2"
      },
      "execution_count": null,
      "outputs": [
        {
          "output_type": "execute_result",
          "data": {
            "text/plain": [
              "13"
            ]
          },
          "metadata": {},
          "execution_count": 81
        }
      ]
    },
    {
      "cell_type": "code",
      "source": [
        "sentence.index('be')"
      ],
      "metadata": {
        "colab": {
          "base_uri": "https://localhost:8080/"
        },
        "id": "zQLo_EOkpRSb",
        "outputId": "0f2714cd-7714-4612-edf1-5ebcea4405e3"
      },
      "execution_count": null,
      "outputs": [
        {
          "output_type": "execute_result",
          "data": {
            "text/plain": [
              "3"
            ]
          },
          "metadata": {},
          "execution_count": 82
        }
      ]
    },
    {
      "cell_type": "code",
      "source": [],
      "metadata": {
        "id": "NhSfX3MZpUcT"
      },
      "execution_count": null,
      "outputs": []
    },
    {
      "cell_type": "markdown",
      "source": [
        "O método de string rindex executa a mesma operação que index, mas pesquisa a partir do final da string e retorna o último índice no qual a substring foi encontrada"
      ],
      "metadata": {
        "id": "UzUQtDvadJIG"
      }
    },
    {
      "cell_type": "code",
      "execution_count": null,
      "metadata": {
        "colab": {
          "base_uri": "https://localhost:8080/"
        },
        "id": "CxJ9aB1P0kJo",
        "outputId": "58ed1982-483c-4855-cc0c-17c5de1f3e0f"
      },
      "outputs": [
        {
          "output_type": "execute_result",
          "data": {
            "text/plain": [
              "16"
            ]
          },
          "metadata": {},
          "execution_count": 83
        }
      ],
      "source": [
        "sentence.rindex('be')"
      ]
    },
    {
      "cell_type": "markdown",
      "metadata": {
        "id": "B2djyeh60kJo"
      },
      "source": [
        "### Determinando se uma string contém uma substring"
      ]
    },
    {
      "cell_type": "code",
      "execution_count": null,
      "metadata": {
        "colab": {
          "base_uri": "https://localhost:8080/"
        },
        "id": "f20B7rn40kJo",
        "outputId": "21e20c9a-170f-4a51-a2f1-0d8afd6a1bdc"
      },
      "outputs": [
        {
          "output_type": "execute_result",
          "data": {
            "text/plain": [
              "True"
            ]
          },
          "metadata": {},
          "execution_count": 83
        }
      ],
      "source": [
        "'that' in sentence"
      ]
    },
    {
      "cell_type": "code",
      "source": [
        "'THAT' in sentence"
      ],
      "metadata": {
        "colab": {
          "base_uri": "https://localhost:8080/"
        },
        "id": "tycT1PTRpefy",
        "outputId": "11b75b6d-28b2-4ffa-9db0-d5a6337c2b28"
      },
      "execution_count": null,
      "outputs": [
        {
          "output_type": "execute_result",
          "data": {
            "text/plain": [
              "False"
            ]
          },
          "metadata": {},
          "execution_count": 84
        }
      ]
    },
    {
      "cell_type": "code",
      "source": [
        "'THAT' not in sentence"
      ],
      "metadata": {
        "colab": {
          "base_uri": "https://localhost:8080/"
        },
        "id": "9qH1vv9qpgCH",
        "outputId": "ef2913db-b902-4eb2-e968-a1c498d883da"
      },
      "execution_count": null,
      "outputs": [
        {
          "output_type": "execute_result",
          "data": {
            "text/plain": [
              "True"
            ]
          },
          "metadata": {},
          "execution_count": 85
        }
      ]
    },
    {
      "cell_type": "code",
      "source": [],
      "metadata": {
        "id": "F6-7z6z_pi2T"
      },
      "execution_count": null,
      "outputs": []
    },
    {
      "cell_type": "markdown",
      "metadata": {
        "id": "nfQfRdmP0kJo"
      },
      "source": [
        "### Localizando uma substring no início ou no final de uma string"
      ]
    },
    {
      "cell_type": "code",
      "source": [
        "sentence"
      ],
      "metadata": {
        "colab": {
          "base_uri": "https://localhost:8080/",
          "height": 36
        },
        "id": "PiVbihfZd5_w",
        "outputId": "1b22e5b6-393e-4530-dee0-4cd0ae319659"
      },
      "execution_count": null,
      "outputs": [
        {
          "output_type": "execute_result",
          "data": {
            "text/plain": [
              "'to be or not to be that is the question'"
            ],
            "application/vnd.google.colaboratory.intrinsic+json": {
              "type": "string"
            }
          },
          "metadata": {},
          "execution_count": 88
        }
      ]
    },
    {
      "cell_type": "code",
      "source": [
        "sentence.startswith('to')"
      ],
      "metadata": {
        "colab": {
          "base_uri": "https://localhost:8080/"
        },
        "id": "-udpfyjtpoAa",
        "outputId": "23208154-0885-4f57-b00e-ed92ce92a503"
      },
      "execution_count": null,
      "outputs": [
        {
          "output_type": "execute_result",
          "data": {
            "text/plain": [
              "True"
            ]
          },
          "metadata": {},
          "execution_count": 86
        }
      ]
    },
    {
      "cell_type": "code",
      "source": [
        "sentence.startswith('be')"
      ],
      "metadata": {
        "colab": {
          "base_uri": "https://localhost:8080/"
        },
        "id": "dzoiP727pqgz",
        "outputId": "115a1f66-ae3f-43a7-f482-0ac18cba404c"
      },
      "execution_count": null,
      "outputs": [
        {
          "output_type": "execute_result",
          "data": {
            "text/plain": [
              "False"
            ]
          },
          "metadata": {},
          "execution_count": 87
        }
      ]
    },
    {
      "cell_type": "code",
      "source": [
        "sentence.endswith('to')"
      ],
      "metadata": {
        "colab": {
          "base_uri": "https://localhost:8080/"
        },
        "id": "fywyGA6GpszD",
        "outputId": "02a304c0-2293-4836-ffdf-dda2e54cf28a"
      },
      "execution_count": null,
      "outputs": [
        {
          "output_type": "execute_result",
          "data": {
            "text/plain": [
              "False"
            ]
          },
          "metadata": {},
          "execution_count": 88
        }
      ]
    },
    {
      "cell_type": "code",
      "source": [
        "sentence.endswith('question')"
      ],
      "metadata": {
        "colab": {
          "base_uri": "https://localhost:8080/"
        },
        "id": "sKdhVChVpvrj",
        "outputId": "2707ec72-dbed-4aba-c561-4bd21a1c61dc"
      },
      "execution_count": null,
      "outputs": [
        {
          "output_type": "execute_result",
          "data": {
            "text/plain": [
              "True"
            ]
          },
          "metadata": {},
          "execution_count": 89
        }
      ]
    },
    {
      "cell_type": "code",
      "source": [],
      "metadata": {
        "id": "XpugUo1ppxk2"
      },
      "execution_count": null,
      "outputs": []
    },
    {
      "cell_type": "markdown",
      "metadata": {
        "id": "8HemA9Ik0kJp"
      },
      "source": [
        "## Atividade"
      ]
    },
    {
      "cell_type": "markdown",
      "metadata": {
        "id": "2thutO7M0kJp"
      },
      "source": [
        "### Crie um loop que localize e exiba cada palavra que começa com `'t'` na string `'to be or not to be that is the question'`."
      ]
    },
    {
      "cell_type": "code",
      "source": [
        "for palavra in 'to be or not to be that is the question'.split():"
      ],
      "metadata": {
        "id": "GzlQE9UKp4iB"
      },
      "execution_count": null,
      "outputs": []
    },
    {
      "cell_type": "markdown",
      "metadata": {
        "id": "NRgRMrOp0kJq"
      },
      "source": [
        "# 8 Substituindo Substrings"
      ]
    },
    {
      "cell_type": "code",
      "execution_count": null,
      "metadata": {
        "id": "sD6m55z10kJq"
      },
      "outputs": [],
      "source": [
        "values = '1\\t2\\t3\\t4\\t5'"
      ]
    },
    {
      "cell_type": "code",
      "source": [
        "values"
      ],
      "metadata": {
        "colab": {
          "base_uri": "https://localhost:8080/",
          "height": 36
        },
        "id": "PiQ4UD7NeTfT",
        "outputId": "47d7a724-3721-46c7-cf11-c1bd73bbbcde"
      },
      "execution_count": null,
      "outputs": [
        {
          "output_type": "execute_result",
          "data": {
            "text/plain": [
              "'1\\t2\\t3\\t4\\t5'"
            ],
            "application/vnd.google.colaboratory.intrinsic+json": {
              "type": "string"
            }
          },
          "metadata": {},
          "execution_count": 91
        }
      ]
    },
    {
      "cell_type": "code",
      "source": [
        "print(values)"
      ],
      "metadata": {
        "colab": {
          "base_uri": "https://localhost:8080/"
        },
        "id": "qj94nvu1eR7l",
        "outputId": "c9a49f69-4c12-4d41-fdae-93037cc96a36"
      },
      "execution_count": null,
      "outputs": [
        {
          "output_type": "stream",
          "name": "stdout",
          "text": [
            "1\t2\t3\t4\t5\n"
          ]
        }
      ]
    },
    {
      "cell_type": "code",
      "source": [
        "values.replace('\\t', ',')"
      ],
      "metadata": {
        "colab": {
          "base_uri": "https://localhost:8080/",
          "height": 36
        },
        "id": "Di55_iBSrKYG",
        "outputId": "218a26ee-6182-4d96-9a30-e68781d9651a"
      },
      "execution_count": null,
      "outputs": [
        {
          "output_type": "execute_result",
          "data": {
            "text/plain": [
              "'1,2,3,4,5'"
            ],
            "application/vnd.google.colaboratory.intrinsic+json": {
              "type": "string"
            }
          },
          "metadata": {},
          "execution_count": 94
        }
      ]
    },
    {
      "cell_type": "code",
      "source": [],
      "metadata": {
        "id": "Fi9NxykjrU18"
      },
      "execution_count": null,
      "outputs": []
    },
    {
      "cell_type": "markdown",
      "metadata": {
        "id": "BRki-bIA0kJq"
      },
      "source": [
        "## Atividade"
      ]
    },
    {
      "cell_type": "markdown",
      "metadata": {
        "id": "VZsQljba0kJq"
      },
      "source": [
        "Substitua os espaços na string `'1 2 3 4 5'` por `' --> '`."
      ]
    },
    {
      "cell_type": "code",
      "source": [],
      "metadata": {
        "id": "bN8dUYdrrpfq"
      },
      "execution_count": null,
      "outputs": []
    },
    {
      "cell_type": "code",
      "source": [],
      "metadata": {
        "id": "9LJvJfNPrv_M"
      },
      "execution_count": null,
      "outputs": []
    },
    {
      "cell_type": "markdown",
      "metadata": {
        "id": "Ymde4pmA0kJr"
      },
      "source": [
        "# 9 Dividindo e Unindo Strings"
      ]
    },
    {
      "cell_type": "markdown",
      "metadata": {
        "id": "OCwxLRC00kJr"
      },
      "source": [
        "### Separando Strings"
      ]
    },
    {
      "cell_type": "markdown",
      "source": [
        "Tokenização"
      ],
      "metadata": {
        "id": "NVQuqsRrfvG8"
      }
    },
    {
      "cell_type": "code",
      "execution_count": null,
      "metadata": {
        "id": "gxsyKZxr0kJr"
      },
      "outputs": [],
      "source": [
        "letters = 'A, B, C, D'"
      ]
    },
    {
      "cell_type": "code",
      "source": [
        "letters.split(',')"
      ],
      "metadata": {
        "colab": {
          "base_uri": "https://localhost:8080/"
        },
        "id": "ew6GFKxur4Ob",
        "outputId": "6c17aca8-9c18-494b-a16e-cd838a07cdbc"
      },
      "execution_count": null,
      "outputs": [
        {
          "output_type": "execute_result",
          "data": {
            "text/plain": [
              "['A', ' B', ' C', ' D']"
            ]
          },
          "metadata": {},
          "execution_count": 97
        }
      ]
    },
    {
      "cell_type": "code",
      "source": [
        "letters.split(', ')"
      ],
      "metadata": {
        "colab": {
          "base_uri": "https://localhost:8080/"
        },
        "id": "PeeGkYb5r8wk",
        "outputId": "b70904c3-667c-43a3-ac64-682df385434b"
      },
      "execution_count": null,
      "outputs": [
        {
          "output_type": "execute_result",
          "data": {
            "text/plain": [
              "['A', 'B', 'C', 'D']"
            ]
          },
          "metadata": {},
          "execution_count": 98
        }
      ]
    },
    {
      "cell_type": "markdown",
      "source": [
        "Se você fornecer um número inteiro como segundo argumento, ele especificará o número máximo de divisões."
      ],
      "metadata": {
        "id": "PI29jM6VgCO9"
      }
    },
    {
      "cell_type": "code",
      "execution_count": null,
      "metadata": {
        "colab": {
          "base_uri": "https://localhost:8080/"
        },
        "id": "E11-ywUV0kJr",
        "outputId": "2e931014-9e86-4823-b9a6-2ac0da7f6658"
      },
      "outputs": [
        {
          "output_type": "execute_result",
          "data": {
            "text/plain": [
              "['A', 'B', 'C, D']"
            ]
          },
          "metadata": {},
          "execution_count": 99
        }
      ],
      "source": [
        "letters.split(', ', 2)"
      ]
    },
    {
      "cell_type": "markdown",
      "metadata": {
        "id": "F2zuOmTL0kJr"
      },
      "source": [
        "### Unindo Strings"
      ]
    },
    {
      "cell_type": "code",
      "execution_count": null,
      "metadata": {
        "id": "KoShl_JC0kJr"
      },
      "outputs": [],
      "source": [
        "letters_list = ['A', 'B', 'C', 'D']"
      ]
    },
    {
      "cell_type": "code",
      "source": [
        "','.join(letters_list)"
      ],
      "metadata": {
        "colab": {
          "base_uri": "https://localhost:8080/",
          "height": 36
        },
        "id": "evt_c91NsSCF",
        "outputId": "db529681-13fb-4cfa-a3af-8160d563f434"
      },
      "execution_count": null,
      "outputs": [
        {
          "output_type": "execute_result",
          "data": {
            "text/plain": [
              "'A,B,C,D'"
            ],
            "application/vnd.google.colaboratory.intrinsic+json": {
              "type": "string"
            }
          },
          "metadata": {},
          "execution_count": 102
        }
      ]
    },
    {
      "cell_type": "code",
      "source": [
        "','.join([str(i) for i in range(10)])"
      ],
      "metadata": {
        "colab": {
          "base_uri": "https://localhost:8080/",
          "height": 36
        },
        "id": "irim70oGsW3L",
        "outputId": "4ea158d5-1a6d-417a-beeb-e29c52665806"
      },
      "execution_count": null,
      "outputs": [
        {
          "output_type": "execute_result",
          "data": {
            "text/plain": [
              "'0,1,2,3,4,5,6,7,8,9'"
            ],
            "application/vnd.google.colaboratory.intrinsic+json": {
              "type": "string"
            }
          },
          "metadata": {},
          "execution_count": 103
        }
      ]
    },
    {
      "cell_type": "code",
      "source": [],
      "metadata": {
        "id": "F-AJV_BIsyTV"
      },
      "execution_count": null,
      "outputs": []
    },
    {
      "cell_type": "markdown",
      "metadata": {
        "id": "wXbJP0dp0kJu"
      },
      "source": [
        "### Os métodos partition e rpartition "
      ]
    },
    {
      "cell_type": "markdown",
      "source": [
        "A partição do método String divide uma string em uma tupla de três strings com base no argumento separador do método."
      ],
      "metadata": {
        "id": "cHakZutthUFJ"
      }
    },
    {
      "cell_type": "code",
      "execution_count": null,
      "metadata": {
        "colab": {
          "base_uri": "https://localhost:8080/"
        },
        "id": "HQOXVjBQ0kJu",
        "outputId": "a5a2ede5-6fb6-4cad-8b4c-0718629f0a47"
      },
      "outputs": [
        {
          "output_type": "execute_result",
          "data": {
            "text/plain": [
              "('Amanda', ': ', '89, 97, 92')"
            ]
          },
          "metadata": {},
          "execution_count": 111
        }
      ],
      "source": [
        "'Amanda: 89, 97, 92'.partition(': ')"
      ]
    },
    {
      "cell_type": "markdown",
      "source": [
        "Para procurar o separador no final da string, use o método rpartition para dividir"
      ],
      "metadata": {
        "id": "gg4sxy8EhkqZ"
      }
    },
    {
      "cell_type": "code",
      "execution_count": null,
      "metadata": {
        "id": "-7Fb11dd0kJu"
      },
      "outputs": [],
      "source": [
        "url = 'http://www.deitel.com/books/PyCDS/table_of_contents.html'"
      ]
    },
    {
      "cell_type": "code",
      "source": [
        "parte_da_url, separador, arquivo = url.rpartition('/')"
      ],
      "metadata": {
        "id": "7wtjAjIKtJEj"
      },
      "execution_count": null,
      "outputs": []
    },
    {
      "cell_type": "code",
      "source": [
        "parte_da_url"
      ],
      "metadata": {
        "colab": {
          "base_uri": "https://localhost:8080/",
          "height": 36
        },
        "id": "ZvvsUP7otYX3",
        "outputId": "77be61cf-537a-444f-9374-bff3405aa335"
      },
      "execution_count": null,
      "outputs": [
        {
          "output_type": "execute_result",
          "data": {
            "text/plain": [
              "'http://www.deitel.com/books/PyCDS'"
            ],
            "application/vnd.google.colaboratory.intrinsic+json": {
              "type": "string"
            }
          },
          "metadata": {},
          "execution_count": 108
        }
      ]
    },
    {
      "cell_type": "code",
      "source": [
        "separador\n"
      ],
      "metadata": {
        "colab": {
          "base_uri": "https://localhost:8080/",
          "height": 36
        },
        "id": "yhGyaM_ztf1k",
        "outputId": "e0a1efa1-2a49-4821-f1b7-ed0ad0ffb167"
      },
      "execution_count": null,
      "outputs": [
        {
          "output_type": "execute_result",
          "data": {
            "text/plain": [
              "'/'"
            ],
            "application/vnd.google.colaboratory.intrinsic+json": {
              "type": "string"
            }
          },
          "metadata": {},
          "execution_count": 109
        }
      ]
    },
    {
      "cell_type": "code",
      "source": [
        "arquivo"
      ],
      "metadata": {
        "colab": {
          "base_uri": "https://localhost:8080/",
          "height": 36
        },
        "id": "bw9-i62lthzM",
        "outputId": "7543c194-e98a-4b98-b102-a3202231e7ce"
      },
      "execution_count": null,
      "outputs": [
        {
          "output_type": "execute_result",
          "data": {
            "text/plain": [
              "'table_of_contents.html'"
            ],
            "application/vnd.google.colaboratory.intrinsic+json": {
              "type": "string"
            }
          },
          "metadata": {},
          "execution_count": 110
        }
      ]
    },
    {
      "cell_type": "code",
      "source": [],
      "metadata": {
        "id": "aIXXO9oeti-0"
      },
      "execution_count": null,
      "outputs": []
    },
    {
      "cell_type": "markdown",
      "metadata": {
        "id": "CncNPrPh0kJv"
      },
      "source": [
        "### Divisões do método de string"
      ]
    },
    {
      "cell_type": "markdown",
      "source": [
        "Se você ler grandes quantidades de texto em uma string, talvez queira dividir a string em uma lista de linhas com base em caracteres de nova linha."
      ],
      "metadata": {
        "id": "39jO3-iLh1O7"
      }
    },
    {
      "cell_type": "code",
      "execution_count": null,
      "metadata": {
        "id": "u7JbqBXO0kJv"
      },
      "outputs": [],
      "source": [
        "lines = \"\"\"This is line 1\n",
        "This is line2\n",
        "This is line3\"\"\""
      ]
    },
    {
      "cell_type": "code",
      "source": [
        "lines"
      ],
      "metadata": {
        "colab": {
          "base_uri": "https://localhost:8080/",
          "height": 36
        },
        "id": "QyTEaDSrtsUY",
        "outputId": "aa5676ee-367a-440c-caaf-00b85ad9b15e"
      },
      "execution_count": null,
      "outputs": [
        {
          "output_type": "execute_result",
          "data": {
            "text/plain": [
              "'This is line 1\\nThis is line2\\nThis is line3'"
            ],
            "application/vnd.google.colaboratory.intrinsic+json": {
              "type": "string"
            }
          },
          "metadata": {},
          "execution_count": 112
        }
      ]
    },
    {
      "cell_type": "code",
      "source": [
        "lines.splitlines()"
      ],
      "metadata": {
        "colab": {
          "base_uri": "https://localhost:8080/"
        },
        "id": "lrcgbYeftt2j",
        "outputId": "a0d0c2e2-cfef-454c-c8c1-4fdae36df98b"
      },
      "execution_count": null,
      "outputs": [
        {
          "output_type": "execute_result",
          "data": {
            "text/plain": [
              "['This is line 1', 'This is line2', 'This is line3']"
            ]
          },
          "metadata": {},
          "execution_count": 113
        }
      ]
    },
    {
      "cell_type": "code",
      "source": [],
      "metadata": {
        "id": "Hb-jZawat0wb"
      },
      "execution_count": null,
      "outputs": []
    },
    {
      "cell_type": "markdown",
      "source": [
        "Passar True para splitlines mantém as novas linhas no final de cada string:"
      ],
      "metadata": {
        "id": "ZCqjao9Mh7OI"
      }
    },
    {
      "cell_type": "code",
      "execution_count": null,
      "metadata": {
        "colab": {
          "base_uri": "https://localhost:8080/"
        },
        "id": "iUQjwuMh0kJw",
        "outputId": "bbdd50c8-b962-43da-c863-cb21d05eb850"
      },
      "outputs": [
        {
          "output_type": "execute_result",
          "data": {
            "text/plain": [
              "['This is line 1\\n', 'This is line2\\n', 'This is line3']"
            ]
          },
          "metadata": {},
          "execution_count": 114
        }
      ],
      "source": [
        "lines.splitlines(True)"
      ]
    },
    {
      "cell_type": "markdown",
      "metadata": {
        "id": "2lS1NH6W0kJw"
      },
      "source": [
        "## Atividade"
      ]
    },
    {
      "cell_type": "markdown",
      "metadata": {
        "id": "6sB6lA540kJw"
      },
      "source": [
        "### Use `split` e `join` em uma instrução para reformatar a string\n",
        "```python\n",
        "'Pamela White'\n",
        "```\n",
        "na string\n",
        "```python\n",
        "'White, Pamela'\n",
        "```\n"
      ]
    },
    {
      "cell_type": "code",
      "source": [],
      "metadata": {
        "id": "fGfhjQ6ZuJHI"
      },
      "execution_count": null,
      "outputs": []
    },
    {
      "cell_type": "markdown",
      "metadata": {
        "id": "wEQQr0mI0kJx"
      },
      "source": [
        "### Use `partition` e `rpartition` para extrair da string de URL\n",
        "```\n",
        "'http://www.deitel.com/books/PyCDS/table_of_contents.html'\n",
        "```\n",
        "as substrings `'www.deitel.com'` e `'books/PyCDS'`.\n",
        "\n"
      ]
    },
    {
      "cell_type": "code",
      "source": [],
      "metadata": {
        "id": "BYnLTt5ouO9I"
      },
      "execution_count": null,
      "outputs": []
    },
    {
      "cell_type": "code",
      "source": [],
      "metadata": {
        "id": "K5gIDzeduR3K"
      },
      "execution_count": null,
      "outputs": []
    },
    {
      "cell_type": "markdown",
      "metadata": {
        "id": "ja9APp1N0kJy"
      },
      "source": [
        "# 10 Métodos de caracteres"
      ]
    },
    {
      "cell_type": "code",
      "execution_count": null,
      "metadata": {
        "colab": {
          "base_uri": "https://localhost:8080/"
        },
        "id": "6JMLhjeX0kJy",
        "outputId": "3b2b8c9a-ac73-43a4-d518-dd5d8bb9bb14"
      },
      "outputs": [
        {
          "output_type": "execute_result",
          "data": {
            "text/plain": [
              "False"
            ]
          },
          "metadata": {},
          "execution_count": 115
        }
      ],
      "source": [
        "'-27'.isdigit()"
      ]
    },
    {
      "cell_type": "code",
      "execution_count": null,
      "metadata": {
        "colab": {
          "base_uri": "https://localhost:8080/"
        },
        "id": "8FWWy0jg0kJy",
        "outputId": "e74788dd-2c22-4a4a-b75e-7b45f9271d64"
      },
      "outputs": [
        {
          "output_type": "execute_result",
          "data": {
            "text/plain": [
              "True"
            ]
          },
          "metadata": {},
          "execution_count": 116
        }
      ],
      "source": [
        "'27'.isdigit()"
      ]
    },
    {
      "cell_type": "markdown",
      "source": [
        "o método de string isalnum retornará True se a string na qual você chama o método for alfanumérica—ou seja, ela contém apenas dígitos e letras"
      ],
      "metadata": {
        "id": "QsT675eVizbb"
      }
    },
    {
      "cell_type": "code",
      "execution_count": null,
      "metadata": {
        "colab": {
          "base_uri": "https://localhost:8080/"
        },
        "id": "XIv8Zwaa0kJy",
        "outputId": "7c9eb22e-2959-4d6f-f7d8-b9e77ea79e54"
      },
      "outputs": [
        {
          "output_type": "execute_result",
          "data": {
            "text/plain": [
              "True"
            ]
          },
          "metadata": {},
          "execution_count": 117
        }
      ],
      "source": [
        "'A9876'.isalnum()"
      ]
    },
    {
      "cell_type": "code",
      "source": [
        "'123 Main Street'.isalnum()"
      ],
      "metadata": {
        "colab": {
          "base_uri": "https://localhost:8080/"
        },
        "id": "K7kP4Vviueob",
        "outputId": "9e197514-c275-446c-ced8-895f4d97aaac"
      },
      "execution_count": null,
      "outputs": [
        {
          "output_type": "execute_result",
          "data": {
            "text/plain": [
              "False"
            ]
          },
          "metadata": {},
          "execution_count": 118
        }
      ]
    },
    {
      "cell_type": "markdown",
      "source": [
        "A tabela abaixo mostra muitos dos métodos de teste de caractere."
      ],
      "metadata": {
        "id": "xQcG6eHnkReo"
      }
    },
    {
      "cell_type": "markdown",
      "source": [
        "![image.png](data:image/png;base64,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)"
      ],
      "metadata": {
        "id": "9haJ4Xp-juV_"
      }
    },
    {
      "cell_type": "markdown",
      "metadata": {
        "id": "q_AlQTvy0kJy"
      },
      "source": [
        "# 11 Strings Brutas"
      ]
    },
    {
      "cell_type": "markdown",
      "source": [
        "Lembre-se de que os caracteres de barra invertida em strings introduzem sequências de escape, como \\n para nova linha e \\t para tabulação. Então, se você deseja incluir uma barra invertida em uma string, você deve usar dois caracteres de barra invertida \\\\. Isso dificulta a leitura e escrita de algumas strings."
      ],
      "metadata": {
        "id": "Sm1EqN9pni_D"
      }
    },
    {
      "cell_type": "code",
      "execution_count": null,
      "metadata": {
        "id": "dyZDNfGI0kJy"
      },
      "outputs": [],
      "source": [
        "file_path = 'C:\\\\MyFolder\\\\MySubFolder\\\\MyFile.txt'"
      ]
    },
    {
      "cell_type": "code",
      "source": [
        "print(file_path)"
      ],
      "metadata": {
        "colab": {
          "base_uri": "https://localhost:8080/"
        },
        "id": "_cx5Twt-u8k3",
        "outputId": "3daef97b-72c6-493d-afbd-94e9ede57bb7"
      },
      "execution_count": null,
      "outputs": [
        {
          "output_type": "stream",
          "name": "stdout",
          "text": [
            "C:\\MyFolder\\MySubFolder\\MyFile.txt\n"
          ]
        }
      ]
    },
    {
      "cell_type": "code",
      "source": [],
      "metadata": {
        "id": "oPh9jm1Ku9h7"
      },
      "execution_count": null,
      "outputs": []
    },
    {
      "cell_type": "markdown",
      "source": [
        "Para esses casos, strings brutas — precedidas pelo caractere r (raw) — são mais convenientes. Eles tratam cada barra invertida como um caractere regular, em vez do início de uma sequência de escape:"
      ],
      "metadata": {
        "id": "ejxuZSqCnpwj"
      }
    },
    {
      "cell_type": "code",
      "execution_count": null,
      "metadata": {
        "id": "0NugJ6aV0kJy"
      },
      "outputs": [],
      "source": [
        "file_path = r'C:\\MyFolder\\MySubFolder\\MyFile.txt'"
      ]
    },
    {
      "cell_type": "code",
      "source": [
        "file_path"
      ],
      "metadata": {
        "colab": {
          "base_uri": "https://localhost:8080/",
          "height": 36
        },
        "id": "gSvXen1yvJNO",
        "outputId": "13a2088a-4f0f-498f-f498-574558cdfe06"
      },
      "execution_count": null,
      "outputs": [
        {
          "output_type": "execute_result",
          "data": {
            "text/plain": [
              "'C:\\\\MyFolder\\\\MySubFolder\\\\MyFile.txt'"
            ],
            "application/vnd.google.colaboratory.intrinsic+json": {
              "type": "string"
            }
          },
          "metadata": {},
          "execution_count": 128
        }
      ]
    },
    {
      "cell_type": "code",
      "source": [
        "print(file_path)"
      ],
      "metadata": {
        "colab": {
          "base_uri": "https://localhost:8080/"
        },
        "id": "pQjkPtHIvKZr",
        "outputId": "13b19911-0890-413c-9a5d-5731a0a862c5"
      },
      "execution_count": null,
      "outputs": [
        {
          "output_type": "stream",
          "name": "stdout",
          "text": [
            "C:\\MyFolder\\MySubFolder\\MyFile.txt\n"
          ]
        }
      ]
    },
    {
      "cell_type": "code",
      "source": [],
      "metadata": {
        "id": "inJIuVYjvM5F"
      },
      "execution_count": null,
      "outputs": []
    },
    {
      "cell_type": "markdown",
      "source": [
        "# 12 Introdução às expressões regulares"
      ],
      "metadata": {
        "id": "EAPXIkHvoW8D"
      }
    },
    {
      "cell_type": "markdown",
      "metadata": {
        "id": "KGENbvbx0kJz"
      },
      "source": [
        "## 12.1 Módulo re e Função Fullmatch"
      ]
    },
    {
      "cell_type": "markdown",
      "source": [
        "Às vezes, você precisará reconhecer padrões no texto, como números de telefone, endereços de e-mail, CEPs, endereços de páginas da web, números de seguro social e muito mais. \n",
        "\n",
        "Uma expressão regular descreve um padrão de pesquisa para caracteres correspondentes em outras strings."
      ],
      "metadata": {
        "id": "qukDf4XIo6Ya"
      }
    },
    {
      "cell_type": "markdown",
      "source": [
        "As expressões regulares podem ajudá-lo a extrair dados de texto não estruturado, como postagens de mídia social. \n",
        "\n",
        "Elas também são importantes para garantir que os dados estejam no formato correto antes de tentar processá-los."
      ],
      "metadata": {
        "id": "IrqZVZxNpHF3"
      }
    },
    {
      "cell_type": "markdown",
      "source": [
        "Validando dados\n",
        "\n",
        "Antes de trabalhar com dados de texto, você costuma usar expressões regulares para validar os dados. Por exemplo, você pode verificar que:\n",
        "\n",
        "* Um CEP consiste em cinco dígitos (como 40215) ou cinco dígitos seguidos por um hífen e mais três dígitos (como 40215-470).\n",
        "* Um endereço de e-mail contém apenas os caracteres permitidos na ordem permitida"
      ],
      "metadata": {
        "id": "Elo2ikqZpYm9"
      }
    },
    {
      "cell_type": "markdown",
      "source": [
        "Você raramente precisará criar suas próprias expressões regulares para itens comuns como esses.\n",
        "Sites como\n",
        "• https://regex101.com\n",
        "• http://www.regexlib.com\n",
        "• https://www.regular-expressions.info\n",
        "e outros oferecem repositórios de expressões regulares existentes que você pode copiar e usar."
      ],
      "metadata": {
        "id": "Bwld2rgrpjQB"
      }
    },
    {
      "cell_type": "markdown",
      "source": [
        "Outros usos de expressões regulares\n",
        "\n",
        "Além de validar dados, expressões regulares geralmente são usadas para:\n",
        "* Extrair dados de texto (às vezes conhecido como scraping) — Por exemplo, localizar todos os URLs em uma página da web. [Você pode preferir ferramentas como BeautifulSoup, XPath e lxml.]\n",
        "* Limpar Dados — Por exemplo, remover dados que não são necessários, remover dados duplicados, lidar com dados incompletos, corrigir erros de digitação, garantir formatos de dados consistentes, lidar com discrepâncias e muito mais."
      ],
      "metadata": {
        "id": "in8pTcBdp7iO"
      }
    },
    {
      "cell_type": "code",
      "source": [
        "import re"
      ],
      "metadata": {
        "id": "oucb3zMuwbD8"
      },
      "execution_count": null,
      "outputs": []
    },
    {
      "cell_type": "markdown",
      "metadata": {
        "id": "FgNJfgmV0kJz"
      },
      "source": [
        "### Correspondência de caracteres literais"
      ]
    },
    {
      "cell_type": "markdown",
      "source": [
        "Uma das funções de expressão regular mais simples é fullmatch, que verifica se a string inteira em seu segundo argumento corresponde ao padrão em seu primeiro argumento."
      ],
      "metadata": {
        "id": "DK4p_ZA0qKoi"
      }
    },
    {
      "cell_type": "code",
      "execution_count": null,
      "metadata": {
        "id": "T0TiVnVW0kJz"
      },
      "outputs": [],
      "source": [
        "pattern = '02215'"
      ]
    },
    {
      "cell_type": "code",
      "source": [
        "re.fullmatch(pattern,'adsjhfajsldkfjlkjsdalk')"
      ],
      "metadata": {
        "id": "2xzpY72hwiWg"
      },
      "execution_count": null,
      "outputs": []
    },
    {
      "cell_type": "code",
      "source": [
        "re.fullmatch(pattern,'02215')"
      ],
      "metadata": {
        "colab": {
          "base_uri": "https://localhost:8080/"
        },
        "id": "ynV8vh9BwnIj",
        "outputId": "6d97dd89-21fd-4ea3-89d3-61557861c63a"
      },
      "execution_count": null,
      "outputs": [
        {
          "output_type": "execute_result",
          "data": {
            "text/plain": [
              "<re.Match object; span=(0, 5), match='02215'>"
            ]
          },
          "metadata": {},
          "execution_count": 133
        }
      ]
    },
    {
      "cell_type": "code",
      "source": [],
      "metadata": {
        "id": "ZMOZNzD3wsDc"
      },
      "execution_count": null,
      "outputs": []
    },
    {
      "cell_type": "markdown",
      "source": [
        "Se o segundo argumento corresponder ao padrão do primeiro argumento, fullmatch retornará um objeto contendo o texto correspondente, que será avaliado como True."
      ],
      "metadata": {
        "id": "9OrOZljEqmfB"
      }
    },
    {
      "cell_type": "code",
      "execution_count": null,
      "metadata": {
        "colab": {
          "base_uri": "https://localhost:8080/",
          "height": 36
        },
        "id": "xMesx2pU0kJz",
        "outputId": "5b91b748-c7c8-411c-dd24-7dfb5b3ec8ea"
      },
      "outputs": [
        {
          "output_type": "execute_result",
          "data": {
            "text/plain": [
              "'Achou'"
            ],
            "application/vnd.google.colaboratory.intrinsic+json": {
              "type": "string"
            }
          },
          "metadata": {},
          "execution_count": 134
        }
      ],
      "source": [
        "'Achou' if re.fullmatch(pattern, '02215') else 'Não achou'"
      ]
    },
    {
      "cell_type": "code",
      "source": [
        "'Achou' if re.fullmatch(pattern, '002215') else 'Não achou'"
      ],
      "metadata": {
        "colab": {
          "base_uri": "https://localhost:8080/",
          "height": 36
        },
        "id": "1HKdnkg0w5bs",
        "outputId": "d076a7ca-4100-4bca-fae2-897c8330188c"
      },
      "execution_count": null,
      "outputs": [
        {
          "output_type": "execute_result",
          "data": {
            "text/plain": [
              "'Não achou'"
            ],
            "application/vnd.google.colaboratory.intrinsic+json": {
              "type": "string"
            }
          },
          "metadata": {},
          "execution_count": 135
        }
      ]
    },
    {
      "cell_type": "code",
      "source": [],
      "metadata": {
        "id": "UbLCT1SVw66j"
      },
      "execution_count": null,
      "outputs": []
    },
    {
      "cell_type": "markdown",
      "metadata": {
        "id": "vwT8CtZL0kJz"
      },
      "source": [
        "### Metacharacters, Classes de Caracteres e Quantificadores"
      ]
    },
    {
      "cell_type": "markdown",
      "source": [
        "As expressões regulares normalmente contêm vários símbolos especiais chamados metacaracteres, que são mostrados na tabela abaixo:"
      ],
      "metadata": {
        "id": "9SS8Jp5zq1Yt"
      }
    },
    {
      "cell_type": "markdown",
      "source": [
        "![image.png](data:image/png;base64,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)"
      ],
      "metadata": {
        "id": "mgkBHaAaq2Ff"
      }
    },
    {
      "cell_type": "markdown",
      "source": [
        "O metacaractere \\ inicia cada uma das classes de caracteres predefinidas, cada uma correspondendo a um conjunto específico de caracteres."
      ],
      "metadata": {
        "id": "rKtLln-6rWYn"
      }
    },
    {
      "cell_type": "code",
      "source": [
        "'Achou' if re.fullmatch(r'\\d{5}', '02215') else \"Não achou\""
      ],
      "metadata": {
        "colab": {
          "base_uri": "https://localhost:8080/",
          "height": 36
        },
        "id": "kcd7qsBTxH-O",
        "outputId": "72410665-ca8b-4752-ae91-c22a7c6de331"
      },
      "execution_count": null,
      "outputs": [
        {
          "output_type": "execute_result",
          "data": {
            "text/plain": [
              "'Achou'"
            ],
            "application/vnd.google.colaboratory.intrinsic+json": {
              "type": "string"
            }
          },
          "metadata": {},
          "execution_count": 136
        }
      ]
    },
    {
      "cell_type": "code",
      "source": [
        "'Achou' if re.fullmatch(r'\\d{4}', '02215') else \"Não achou\""
      ],
      "metadata": {
        "colab": {
          "base_uri": "https://localhost:8080/",
          "height": 36
        },
        "id": "dixcALHKxaOc",
        "outputId": "149b8ba0-630d-4a87-de0a-233145772296"
      },
      "execution_count": null,
      "outputs": [
        {
          "output_type": "execute_result",
          "data": {
            "text/plain": [
              "'Não achou'"
            ],
            "application/vnd.google.colaboratory.intrinsic+json": {
              "type": "string"
            }
          },
          "metadata": {},
          "execution_count": 137
        }
      ]
    },
    {
      "cell_type": "code",
      "source": [
        "'Achou' if re.fullmatch(r'\\d\\d\\d\\d\\d', '11111') else 'Nao achou'"
      ],
      "metadata": {
        "colab": {
          "base_uri": "https://localhost:8080/",
          "height": 36
        },
        "id": "ebQBGda6xdaV",
        "outputId": "16c00c64-2fcc-48ba-8986-0ea1ca15a42a"
      },
      "execution_count": null,
      "outputs": [
        {
          "output_type": "execute_result",
          "data": {
            "text/plain": [
              "'Achou'"
            ],
            "application/vnd.google.colaboratory.intrinsic+json": {
              "type": "string"
            }
          },
          "metadata": {},
          "execution_count": 138
        }
      ]
    },
    {
      "cell_type": "code",
      "source": [
        "'Achou' if re.fullmatch(r'\\d\\d\\d\\d\\d', '11a11') else 'Nao achou'"
      ],
      "metadata": {
        "colab": {
          "base_uri": "https://localhost:8080/",
          "height": 36
        },
        "id": "JLAI3mc_xxFN",
        "outputId": "5005b421-764a-4348-84b7-dc0f852b586a"
      },
      "execution_count": null,
      "outputs": [
        {
          "output_type": "execute_result",
          "data": {
            "text/plain": [
              "'Nao achou'"
            ],
            "application/vnd.google.colaboratory.intrinsic+json": {
              "type": "string"
            }
          },
          "metadata": {},
          "execution_count": 139
        }
      ]
    },
    {
      "cell_type": "code",
      "source": [],
      "metadata": {
        "id": "ioaDH9EqxywN"
      },
      "execution_count": null,
      "outputs": []
    },
    {
      "cell_type": "markdown",
      "metadata": {
        "id": "zOooyAMM0kJ0"
      },
      "source": [
        "### Outras classes de caracteres predefinidas"
      ]
    },
    {
      "cell_type": "markdown",
      "source": [
        "* \\d Qualquer dígito (0–9).\n",
        "* \\D Qualquer caractere que não seja um dígito.\n",
        "* \\s Qualquer caractere de espaço em branco (como espaços, tabulações e novas linhas).\n",
        "* \\S Qualquer caractere que não seja um caractere de espaço em branco.\n",
        "* \\w Qualquer caractere de palavra (também chamado de caractere alfanumérico) — ou seja, qualquer letra maiúscula ou minúscula, qualquer dígito ou sublinhado\n",
        "* \\W Qualquer caractere que não seja um caractere de palavra."
      ],
      "metadata": {
        "id": "_OM5pG63rjYK"
      }
    },
    {
      "cell_type": "markdown",
      "source": [
        "### Classes de caracteres personalizadas"
      ],
      "metadata": {
        "id": "ru_5eqNNrgHs"
      }
    },
    {
      "cell_type": "markdown",
      "source": [
        "Colchetes, [ ], definem uma classe de caractere personalizada que corresponde a um único caractere."
      ],
      "metadata": {
        "id": "suYT75BRr7r3"
      }
    },
    {
      "cell_type": "markdown",
      "source": [
        "Vamos validar um nome simples sem espaços ou pontuação. Garantiremos que ele comece com uma letra maiúscula (A–Z) seguida por qualquer número de letras minúsculas (a–z)"
      ],
      "metadata": {
        "id": "urz1CjgBsII8"
      }
    },
    {
      "cell_type": "code",
      "source": [
        "'Achou' if re.fullmatch(r'[A-Z][a-z]*', 'Wally') else 'Nao achou'"
      ],
      "metadata": {
        "colab": {
          "base_uri": "https://localhost:8080/",
          "height": 36
        },
        "id": "rYF5bYo8yNLE",
        "outputId": "37d5902e-e850-4a87-eb85-165385d957bc"
      },
      "execution_count": null,
      "outputs": [
        {
          "output_type": "execute_result",
          "data": {
            "text/plain": [
              "'Achou'"
            ],
            "application/vnd.google.colaboratory.intrinsic+json": {
              "type": "string"
            }
          },
          "metadata": {},
          "execution_count": 140
        }
      ]
    },
    {
      "cell_type": "code",
      "source": [
        "'Achou' if re.fullmatch(r'[A-Z][a-z]*', 'Reges') else 'Nao achou'"
      ],
      "metadata": {
        "colab": {
          "base_uri": "https://localhost:8080/",
          "height": 36
        },
        "id": "X-IfysJTyhIh",
        "outputId": "4a1fac9b-4d53-4df4-baaf-962b5a68a088"
      },
      "execution_count": null,
      "outputs": [
        {
          "output_type": "execute_result",
          "data": {
            "text/plain": [
              "'Achou'"
            ],
            "application/vnd.google.colaboratory.intrinsic+json": {
              "type": "string"
            }
          },
          "metadata": {},
          "execution_count": 141
        }
      ]
    },
    {
      "cell_type": "code",
      "source": [
        "'Achou' if re.fullmatch(r'[A-Z][a-z]*', 'Galdir Reges') else 'Nao achou'"
      ],
      "metadata": {
        "colab": {
          "base_uri": "https://localhost:8080/",
          "height": 36
        },
        "id": "lay9yK2vyi3b",
        "outputId": "2374fc06-171e-4664-ec9a-23193e61e1bd"
      },
      "execution_count": null,
      "outputs": [
        {
          "output_type": "execute_result",
          "data": {
            "text/plain": [
              "'Nao achou'"
            ],
            "application/vnd.google.colaboratory.intrinsic+json": {
              "type": "string"
            }
          },
          "metadata": {},
          "execution_count": 142
        }
      ]
    },
    {
      "cell_type": "markdown",
      "source": [
        "O quantificador * corresponde a zero ou mais ocorrências da subexpressão à sua esquerda"
      ],
      "metadata": {
        "id": "XXXLTYvrsYTp"
      }
    },
    {
      "cell_type": "code",
      "source": [
        "'Achou' if re.fullmatch(r'[A-Z][a-z]*', 'G') else 'Nao achou'"
      ],
      "metadata": {
        "colab": {
          "base_uri": "https://localhost:8080/",
          "height": 36
        },
        "id": "C0TGsxGkykIz",
        "outputId": "df1f5cff-dd8e-4007-f8f0-4c8cb368f596"
      },
      "execution_count": null,
      "outputs": [
        {
          "output_type": "execute_result",
          "data": {
            "text/plain": [
              "'Achou'"
            ],
            "application/vnd.google.colaboratory.intrinsic+json": {
              "type": "string"
            }
          },
          "metadata": {},
          "execution_count": 143
        }
      ]
    },
    {
      "cell_type": "markdown",
      "source": [
        "Quando uma classe de caractere personalizada começa com um acento circunflexo (^), a classe corresponde a qualquer caractere não especificado."
      ],
      "metadata": {
        "id": "TW3Rh0SjsjWH"
      }
    },
    {
      "cell_type": "code",
      "source": [
        "'Corresponde' if re.fullmatch(r'[^a-z]', 'A') else 'Nao corresponde'"
      ],
      "metadata": {
        "colab": {
          "base_uri": "https://localhost:8080/",
          "height": 36
        },
        "id": "gLgHs904yvKs",
        "outputId": "eac3b4f9-c9ca-421b-b5c0-437ca61a44b3"
      },
      "execution_count": null,
      "outputs": [
        {
          "output_type": "execute_result",
          "data": {
            "text/plain": [
              "'Achou'"
            ],
            "application/vnd.google.colaboratory.intrinsic+json": {
              "type": "string"
            }
          },
          "metadata": {},
          "execution_count": 144
        }
      ]
    },
    {
      "cell_type": "code",
      "source": [
        "'Corresponde' if re.fullmatch(r'[^a-z]', 'a') else 'Nao corresponde'"
      ],
      "metadata": {
        "colab": {
          "base_uri": "https://localhost:8080/",
          "height": 36
        },
        "id": "UVK10dsDzD5P",
        "outputId": "351f103e-4321-4a6e-8afb-e5692b7450d9"
      },
      "execution_count": null,
      "outputs": [
        {
          "output_type": "execute_result",
          "data": {
            "text/plain": [
              "'Nao achou'"
            ],
            "application/vnd.google.colaboratory.intrinsic+json": {
              "type": "string"
            }
          },
          "metadata": {},
          "execution_count": 145
        }
      ]
    },
    {
      "cell_type": "code",
      "source": [],
      "metadata": {
        "id": "Q6_6bNG_zFek"
      },
      "execution_count": null,
      "outputs": []
    },
    {
      "cell_type": "markdown",
      "source": [
        "Metacaracteres em uma classe de caracteres personalizada são tratados como caracteres literais, ou seja, os próprios caracteres."
      ],
      "metadata": {
        "id": "A9_MimsgsxcT"
      }
    },
    {
      "cell_type": "code",
      "execution_count": null,
      "metadata": {
        "colab": {
          "base_uri": "https://localhost:8080/",
          "height": 36
        },
        "id": "dVVZnMAF0kJ0",
        "outputId": "01a02bb5-61c2-4874-821b-2bef52961c90"
      },
      "outputs": [
        {
          "output_type": "execute_result",
          "data": {
            "text/plain": [
              "'Match'"
            ],
            "application/vnd.google.colaboratory.intrinsic+json": {
              "type": "string"
            }
          },
          "metadata": {},
          "execution_count": 146
        }
      ],
      "source": [
        "'Match' if re.fullmatch('[*+$]', '*') else 'No match'"
      ]
    },
    {
      "cell_type": "code",
      "source": [
        "'Match' if re.fullmatch('[*+$]', '+') else 'No match'"
      ],
      "metadata": {
        "colab": {
          "base_uri": "https://localhost:8080/",
          "height": 36
        },
        "id": "XLkGcojZza04",
        "outputId": "911f3485-92c1-4e1b-bfdf-f9939ed296b1"
      },
      "execution_count": null,
      "outputs": [
        {
          "output_type": "execute_result",
          "data": {
            "text/plain": [
              "'Match'"
            ],
            "application/vnd.google.colaboratory.intrinsic+json": {
              "type": "string"
            }
          },
          "metadata": {},
          "execution_count": 147
        }
      ]
    },
    {
      "cell_type": "code",
      "source": [
        "'Match' if re.fullmatch('[*+$]', 'a') else 'No match'"
      ],
      "metadata": {
        "colab": {
          "base_uri": "https://localhost:8080/",
          "height": 36
        },
        "id": "omnc8hYYzb6M",
        "outputId": "ca875dff-456c-43c1-e4a2-77e5677ccf2c"
      },
      "execution_count": null,
      "outputs": [
        {
          "output_type": "execute_result",
          "data": {
            "text/plain": [
              "'No match'"
            ],
            "application/vnd.google.colaboratory.intrinsic+json": {
              "type": "string"
            }
          },
          "metadata": {},
          "execution_count": 148
        }
      ]
    },
    {
      "cell_type": "code",
      "source": [],
      "metadata": {
        "id": "DKrogNXRzdBW"
      },
      "execution_count": null,
      "outputs": []
    },
    {
      "cell_type": "markdown",
      "metadata": {
        "id": "2aQl976j0kJ1"
      },
      "source": [
        "### O quantificador * vs. + "
      ]
    },
    {
      "cell_type": "markdown",
      "source": [
        "Se você quiser exigir pelo menos uma letra minúscula em um primeiro nome, substitua o quantificador * por +, que corresponde a pelo menos uma ocorrência de uma subexpressão"
      ],
      "metadata": {
        "id": "VF8JBGV6tEiY"
      }
    },
    {
      "cell_type": "code",
      "execution_count": null,
      "metadata": {
        "colab": {
          "base_uri": "https://localhost:8080/",
          "height": 36
        },
        "id": "92iZBX9A0kJ1",
        "outputId": "fbd73076-ccc1-414b-b768-e9040a3c2b18"
      },
      "outputs": [
        {
          "output_type": "execute_result",
          "data": {
            "text/plain": [
              "'Valid'"
            ],
            "application/vnd.google.colaboratory.intrinsic+json": {
              "type": "string"
            }
          },
          "metadata": {},
          "execution_count": 149
        }
      ],
      "source": [
        "'Valid' if re.fullmatch('[A-Z][a-z]+', 'Wally') else 'Invalid'"
      ]
    },
    {
      "cell_type": "code",
      "source": [
        "'Valid' if re.fullmatch('[A-Z][a-z]+', 'A') else 'Invalid'"
      ],
      "metadata": {
        "colab": {
          "base_uri": "https://localhost:8080/",
          "height": 36
        },
        "id": "-Y-ms7sOzpTf",
        "outputId": "d6327e1e-a0f6-48c1-b719-cabc23f61903"
      },
      "execution_count": null,
      "outputs": [
        {
          "output_type": "execute_result",
          "data": {
            "text/plain": [
              "'Invalid'"
            ],
            "application/vnd.google.colaboratory.intrinsic+json": {
              "type": "string"
            }
          },
          "metadata": {},
          "execution_count": 150
        }
      ]
    },
    {
      "cell_type": "code",
      "source": [
        "'Valid' if re.fullmatch('[A-Z][a-z]*', 'A') else 'Invalid'"
      ],
      "metadata": {
        "colab": {
          "base_uri": "https://localhost:8080/",
          "height": 36
        },
        "id": "TNrUbfxyzurx",
        "outputId": "3478e3c4-832b-48c4-b105-4dc08b1f5616"
      },
      "execution_count": null,
      "outputs": [
        {
          "output_type": "execute_result",
          "data": {
            "text/plain": [
              "'Valid'"
            ],
            "application/vnd.google.colaboratory.intrinsic+json": {
              "type": "string"
            }
          },
          "metadata": {},
          "execution_count": 151
        }
      ]
    },
    {
      "cell_type": "code",
      "source": [],
      "metadata": {
        "id": "tdStwRByzxlY"
      },
      "execution_count": null,
      "outputs": []
    },
    {
      "cell_type": "markdown",
      "metadata": {
        "id": "1eocQJ3N0kJ1"
      },
      "source": [
        "### Outros quantificadores"
      ]
    },
    {
      "cell_type": "markdown",
      "source": [
        "O ? quantificador corresponde a zero ou uma ocorrência de uma subexpressão:"
      ],
      "metadata": {
        "id": "PjfhJ8cyte6v"
      }
    },
    {
      "cell_type": "code",
      "execution_count": null,
      "metadata": {
        "colab": {
          "base_uri": "https://localhost:8080/",
          "height": 36
        },
        "id": "7Zm4QQb90kJ1",
        "outputId": "44b3534d-d376-4dca-e1ad-46b48810440e"
      },
      "outputs": [
        {
          "output_type": "execute_result",
          "data": {
            "text/plain": [
              "'Match'"
            ],
            "application/vnd.google.colaboratory.intrinsic+json": {
              "type": "string"
            }
          },
          "metadata": {},
          "execution_count": 152
        }
      ],
      "source": [
        "'Match' if re.fullmatch('labell?ed', 'labelled') else 'No match'"
      ]
    },
    {
      "cell_type": "code",
      "source": [
        "'Match' if re.fullmatch('labell?ed', 'labeled') else 'No match'"
      ],
      "metadata": {
        "colab": {
          "base_uri": "https://localhost:8080/",
          "height": 36
        },
        "id": "249CuIlH0MsA",
        "outputId": "583318bc-dc6e-4600-abd2-9389c275f435"
      },
      "execution_count": null,
      "outputs": [
        {
          "output_type": "execute_result",
          "data": {
            "text/plain": [
              "'Match'"
            ],
            "application/vnd.google.colaboratory.intrinsic+json": {
              "type": "string"
            }
          },
          "metadata": {},
          "execution_count": 153
        }
      ]
    },
    {
      "cell_type": "code",
      "source": [
        "'Match' if re.fullmatch('labell?ed', 'labellled') else 'No match'"
      ],
      "metadata": {
        "colab": {
          "base_uri": "https://localhost:8080/",
          "height": 36
        },
        "id": "X8_9UzG-0Ov5",
        "outputId": "92fc044c-585e-4064-a1ec-0bc2168cf7c2"
      },
      "execution_count": null,
      "outputs": [
        {
          "output_type": "execute_result",
          "data": {
            "text/plain": [
              "'No match'"
            ],
            "application/vnd.google.colaboratory.intrinsic+json": {
              "type": "string"
            }
          },
          "metadata": {},
          "execution_count": 154
        }
      ]
    },
    {
      "cell_type": "code",
      "source": [],
      "metadata": {
        "id": "Gu7-Zabt0QT7"
      },
      "execution_count": null,
      "outputs": []
    },
    {
      "cell_type": "markdown",
      "source": [
        "l? indica que pode haver zero ou mais um caractere l antes dos caracteres literais ed restantes."
      ],
      "metadata": {
        "id": "CHbAa_ZYt0Sk"
      }
    },
    {
      "cell_type": "markdown",
      "source": [
        "Você pode fazer correspondência de pelo menos n ocorrências de uma subexpressão com o quantificador {n,}."
      ],
      "metadata": {
        "id": "pgql_XYquheu"
      }
    },
    {
      "cell_type": "code",
      "execution_count": null,
      "metadata": {
        "colab": {
          "base_uri": "https://localhost:8080/",
          "height": 36
        },
        "id": "MTv42-kT0kJ1",
        "outputId": "5bff6d5e-85f1-4568-b041-d7ba660a0cbd"
      },
      "outputs": [
        {
          "output_type": "execute_result",
          "data": {
            "text/plain": [
              "'Match'"
            ],
            "application/vnd.google.colaboratory.intrinsic+json": {
              "type": "string"
            }
          },
          "metadata": {},
          "execution_count": 155
        }
      ],
      "source": [
        "'Match' if re.fullmatch(r'\\d{3,}', '123') else 'No match'"
      ]
    },
    {
      "cell_type": "code",
      "source": [
        "'Match' if re.fullmatch(r'\\d{3,}', '123456789') else 'No match'"
      ],
      "metadata": {
        "colab": {
          "base_uri": "https://localhost:8080/",
          "height": 36
        },
        "id": "NRYwp9jJ0hx1",
        "outputId": "a26b9878-5207-46b5-a9a7-8415dc099b51"
      },
      "execution_count": null,
      "outputs": [
        {
          "output_type": "execute_result",
          "data": {
            "text/plain": [
              "'Match'"
            ],
            "application/vnd.google.colaboratory.intrinsic+json": {
              "type": "string"
            }
          },
          "metadata": {},
          "execution_count": 156
        }
      ]
    },
    {
      "cell_type": "code",
      "source": [
        "'Match' if re.fullmatch(r'\\d{3,}', '12') else 'No match'"
      ],
      "metadata": {
        "colab": {
          "base_uri": "https://localhost:8080/",
          "height": 36
        },
        "id": "KZ1Gr6fD0jeG",
        "outputId": "4ec78ddf-4086-4aab-bb73-58804c6289e9"
      },
      "execution_count": null,
      "outputs": [
        {
          "output_type": "execute_result",
          "data": {
            "text/plain": [
              "'No match'"
            ],
            "application/vnd.google.colaboratory.intrinsic+json": {
              "type": "string"
            }
          },
          "metadata": {},
          "execution_count": 157
        }
      ]
    },
    {
      "cell_type": "code",
      "source": [],
      "metadata": {
        "id": "wWCHBwZp0nwN"
      },
      "execution_count": null,
      "outputs": []
    },
    {
      "cell_type": "markdown",
      "source": [
        "voce pode definir o maximo de correspondencia"
      ],
      "metadata": {
        "id": "mN2XBCP3u4nZ"
      }
    },
    {
      "cell_type": "code",
      "execution_count": null,
      "metadata": {
        "colab": {
          "base_uri": "https://localhost:8080/",
          "height": 36
        },
        "id": "3iVIJOqy0kJ2",
        "outputId": "9c39dfc3-0528-49e6-d63f-6bb017442f81"
      },
      "outputs": [
        {
          "output_type": "execute_result",
          "data": {
            "text/plain": [
              "'Match'"
            ],
            "application/vnd.google.colaboratory.intrinsic+json": {
              "type": "string"
            }
          },
          "metadata": {},
          "execution_count": 158
        }
      ],
      "source": [
        "'Match' if re.fullmatch(r'\\d{3,6}', '123') else 'No match'"
      ]
    },
    {
      "cell_type": "code",
      "source": [
        "'Match' if re.fullmatch(r'\\d{3,6}', '123456') else 'No match'"
      ],
      "metadata": {
        "colab": {
          "base_uri": "https://localhost:8080/",
          "height": 36
        },
        "id": "u1eYNv240t-q",
        "outputId": "acacde78-0263-4350-dc35-98c7eda2c546"
      },
      "execution_count": null,
      "outputs": [
        {
          "output_type": "execute_result",
          "data": {
            "text/plain": [
              "'Match'"
            ],
            "application/vnd.google.colaboratory.intrinsic+json": {
              "type": "string"
            }
          },
          "metadata": {},
          "execution_count": 159
        }
      ]
    },
    {
      "cell_type": "code",
      "source": [
        "'Match' if re.fullmatch(r'\\d{3,6}', '1234567') else 'No match'"
      ],
      "metadata": {
        "colab": {
          "base_uri": "https://localhost:8080/",
          "height": 36
        },
        "id": "u-PTKtO80uxZ",
        "outputId": "c0f61822-8c9d-4727-9aaa-c342e86e8a73"
      },
      "execution_count": null,
      "outputs": [
        {
          "output_type": "execute_result",
          "data": {
            "text/plain": [
              "'No match'"
            ],
            "application/vnd.google.colaboratory.intrinsic+json": {
              "type": "string"
            }
          },
          "metadata": {},
          "execution_count": 160
        }
      ]
    },
    {
      "cell_type": "code",
      "source": [],
      "metadata": {
        "id": "RHWOx9ye0wMT"
      },
      "execution_count": null,
      "outputs": []
    },
    {
      "cell_type": "markdown",
      "metadata": {
        "id": "v3DEjzOl0kJ2"
      },
      "source": [
        "## Atividade"
      ]
    },
    {
      "cell_type": "markdown",
      "metadata": {
        "id": "pkivh-1R0kJ2"
      },
      "source": [
        "### Crie e teste uma expressão regular que corresponda a um endereço de rua que consiste em um número com um ou mais dígitos seguido por duas palavras de um ou mais caracteres cada. Os tokens devem ser separados por um espaço cada, como em `123 Main Street`.\n",
        "    "
      ]
    },
    {
      "cell_type": "code",
      "source": [
        "endereco1='123 Main Street'\n",
        "endereco2='13 M Street'\n",
        "endereco3='7000 Main S'\n",
        "naoEndereco='123 Street'\n",
        "naoEndereco2='123 STreet'"
      ],
      "metadata": {
        "id": "Vbw2cADl1A_G"
      },
      "execution_count": null,
      "outputs": []
    },
    {
      "cell_type": "markdown",
      "metadata": {
        "id": "wdQsSmrp0kJ3"
      },
      "source": [
        "## 12.2 Substituindo Substrings e Dividindo Strings"
      ]
    },
    {
      "cell_type": "markdown",
      "metadata": {
        "id": "s2w8fJKZ0kJ3"
      },
      "source": [
        "### Função sub — Substituindo padrões"
      ]
    },
    {
      "cell_type": "markdown",
      "source": [
        "Por padrão, a função sub do módulo re substitui todas as ocorrências de um padrão pelo texto de substituição especificado."
      ],
      "metadata": {
        "id": "QyTm1HpdwVPt"
      }
    },
    {
      "cell_type": "code",
      "execution_count": null,
      "metadata": {
        "id": "GrUaF6Ja0kJ3"
      },
      "outputs": [],
      "source": [
        "import re"
      ]
    },
    {
      "cell_type": "code",
      "source": [
        "print('1\\t2\\t3\\t4')"
      ],
      "metadata": {
        "colab": {
          "base_uri": "https://localhost:8080/"
        },
        "id": "WkMJUkDM4Ww1",
        "outputId": "ffc09ffe-f398-45d8-b1b1-1026ac99c519"
      },
      "execution_count": null,
      "outputs": [
        {
          "output_type": "stream",
          "name": "stdout",
          "text": [
            "1\t2\t3\t4\n"
          ]
        }
      ]
    },
    {
      "cell_type": "code",
      "source": [
        "re.sub(r'\\t', ', ', '1\\t2\\t3\\t4')"
      ],
      "metadata": {
        "colab": {
          "base_uri": "https://localhost:8080/",
          "height": 36
        },
        "id": "jBqY2pXs4YYt",
        "outputId": "c9d51b39-0201-43b5-eb92-a735db2b81c6"
      },
      "execution_count": null,
      "outputs": [
        {
          "output_type": "execute_result",
          "data": {
            "text/plain": [
              "'1, 2, 3, 4'"
            ],
            "application/vnd.google.colaboratory.intrinsic+json": {
              "type": "string"
            }
          },
          "metadata": {},
          "execution_count": 163
        }
      ]
    },
    {
      "cell_type": "markdown",
      "source": [
        "A contagem de argumentos de palavra-chave pode ser usada para especificar o número máximo de substituições:"
      ],
      "metadata": {
        "id": "DWT3P6NNwbDD"
      }
    },
    {
      "cell_type": "code",
      "execution_count": null,
      "metadata": {
        "colab": {
          "base_uri": "https://localhost:8080/",
          "height": 36
        },
        "id": "30u2iQ3_0kJ3",
        "outputId": "bc3154b3-7d36-4184-eefe-b420f11abddc"
      },
      "outputs": [
        {
          "output_type": "execute_result",
          "data": {
            "text/plain": [
              "'1, 2, 3\\t4'"
            ],
            "application/vnd.google.colaboratory.intrinsic+json": {
              "type": "string"
            }
          },
          "metadata": {},
          "execution_count": 164
        }
      ],
      "source": [
        "re.sub(r'\\t', ', ', '1\\t2\\t3\\t4', count=2)"
      ]
    },
    {
      "cell_type": "markdown",
      "metadata": {
        "id": "WHQsp09V0kJ3"
      },
      "source": [
        "### A função split "
      ]
    },
    {
      "cell_type": "markdown",
      "source": [
        "A função split tokeniza uma string, usando uma expressão regular para especificar o delimitador, e retorna uma lista de strings."
      ],
      "metadata": {
        "id": "_ZpBp-Lowx-x"
      }
    },
    {
      "cell_type": "markdown",
      "source": [
        "\\s é a classe de caracteres de espaço em branco"
      ],
      "metadata": {
        "id": "6GVJ3Pdzw28q"
      }
    },
    {
      "cell_type": "code",
      "execution_count": null,
      "metadata": {
        "colab": {
          "base_uri": "https://localhost:8080/"
        },
        "id": "tboP_ViD0kJ4",
        "outputId": "9acad2cb-06a4-4da4-a2e4-0a4a78df78d2"
      },
      "outputs": [
        {
          "output_type": "execute_result",
          "data": {
            "text/plain": [
              "['1', '2', '3', '4', '5', '6', '7', '8']"
            ]
          },
          "metadata": {},
          "execution_count": 165
        }
      ],
      "source": [
        "re.split(r',\\s*', '1,  2,  3,4,    5,6,7,8')"
      ]
    },
    {
      "cell_type": "code",
      "source": [
        "re.split(r',\\s*', '1,  2,  3,4,    5,6,7,8', maxsplit=3)"
      ],
      "metadata": {
        "colab": {
          "base_uri": "https://localhost:8080/"
        },
        "id": "oYoYRwki42vS",
        "outputId": "8919113a-1533-462e-b0ec-8deae9d0c818"
      },
      "execution_count": null,
      "outputs": [
        {
          "output_type": "execute_result",
          "data": {
            "text/plain": [
              "['1', '2', '3', '4,    5,6,7,8']"
            ]
          },
          "metadata": {},
          "execution_count": 166
        }
      ]
    },
    {
      "cell_type": "markdown",
      "metadata": {
        "id": "uqictgGk0kJ4"
      },
      "source": [
        "## Atividade"
      ]
    },
    {
      "cell_type": "markdown",
      "metadata": {
        "id": "DlZXy5Uf0kJ4"
      },
      "source": [
        "### Substitua cada ocorrência de um ou mais caracteres de tabulação adjacentes na sequência a seguir por uma vírgula e um espaço:\n",
        "```python\n",
        "'A\\tB\\t\\tC\\t\\t\\tD'\n",
        "```\n"
      ]
    },
    {
      "cell_type": "markdown",
      "source": [
        "Resposta"
      ],
      "metadata": {
        "id": "UYB1I9eHxCfD"
      }
    },
    {
      "cell_type": "code",
      "source": [],
      "metadata": {
        "id": "PUpJAhGs4_FR"
      },
      "execution_count": null,
      "outputs": []
    },
    {
      "cell_type": "markdown",
      "metadata": {
        "id": "IveKb4v70kJ4"
      },
      "source": [
        "### Use uma expressão regular e a função `split` para dividir a seguinte string em _um ou mais_ caracteres `$` adjacentes.\n",
        "```python\n",
        "'123$Main$$Street'\n",
        "```\n"
      ]
    },
    {
      "cell_type": "markdown",
      "metadata": {
        "id": "jRAvgsGT0kJ5"
      },
      "source": [
        "## 12.3 Outras funções de pesquisa; Acessando correspondências"
      ]
    },
    {
      "cell_type": "markdown",
      "metadata": {
        "id": "RagfVbow0kJ5"
      },
      "source": [
        "### A função search — Encontrando a primeira correspondência em qualquer lugar em uma string"
      ]
    },
    {
      "cell_type": "code",
      "execution_count": null,
      "metadata": {
        "id": "07Qi7dSb0kJ5"
      },
      "outputs": [],
      "source": [
        "import re"
      ]
    },
    {
      "cell_type": "code",
      "source": [
        "result = re.search('Python', 'Python is fun')"
      ],
      "metadata": {
        "id": "G07CR9E55Mrn"
      },
      "execution_count": null,
      "outputs": []
    },
    {
      "cell_type": "code",
      "source": [
        "result"
      ],
      "metadata": {
        "colab": {
          "base_uri": "https://localhost:8080/"
        },
        "id": "Gtrf4Xo45QQy",
        "outputId": "924ec7cc-6991-4e56-db6c-e8141cb0502b"
      },
      "execution_count": null,
      "outputs": [
        {
          "output_type": "execute_result",
          "data": {
            "text/plain": [
              "<re.Match object; span=(0, 6), match='Python'>"
            ]
          },
          "metadata": {},
          "execution_count": 168
        }
      ]
    },
    {
      "cell_type": "code",
      "source": [],
      "metadata": {
        "id": "37pW8Tfp5Qxt"
      },
      "execution_count": null,
      "outputs": []
    },
    {
      "cell_type": "markdown",
      "source": [
        "O método group do objeto resultante retorna a substring"
      ],
      "metadata": {
        "id": "K3XSgxLVztw0"
      }
    },
    {
      "cell_type": "code",
      "source": [
        "result.group()"
      ],
      "metadata": {
        "colab": {
          "base_uri": "https://localhost:8080/",
          "height": 36
        },
        "id": "rnvzTkR-znQf",
        "outputId": "1afb2827-9295-41b9-93ad-5d06ec70e0ae"
      },
      "execution_count": null,
      "outputs": [
        {
          "output_type": "execute_result",
          "data": {
            "text/plain": [
              "'Python'"
            ],
            "application/vnd.google.colaboratory.intrinsic+json": {
              "type": "string"
            }
          },
          "metadata": {},
          "execution_count": 169
        }
      ]
    },
    {
      "cell_type": "code",
      "source": [
        "result.group() if result else \"nao encontrou\""
      ],
      "metadata": {
        "colab": {
          "base_uri": "https://localhost:8080/",
          "height": 36
        },
        "id": "oAgaD7Bp5a7T",
        "outputId": "700fbe35-9861-4506-887b-01308241f984"
      },
      "execution_count": null,
      "outputs": [
        {
          "output_type": "execute_result",
          "data": {
            "text/plain": [
              "'Python'"
            ],
            "application/vnd.google.colaboratory.intrinsic+json": {
              "type": "string"
            }
          },
          "metadata": {},
          "execution_count": 170
        }
      ]
    },
    {
      "cell_type": "code",
      "source": [
        "result2 = re.search('fun!', 'Python is fun')"
      ],
      "metadata": {
        "id": "VxW84_705gdm"
      },
      "execution_count": null,
      "outputs": []
    },
    {
      "cell_type": "code",
      "source": [
        "result2.group() if result2 else 'not found'"
      ],
      "metadata": {
        "colab": {
          "base_uri": "https://localhost:8080/",
          "height": 36
        },
        "id": "yusl_pog5mAy",
        "outputId": "a3bf2162-de34-4f47-bad5-03b0f1292ce2"
      },
      "execution_count": null,
      "outputs": [
        {
          "output_type": "execute_result",
          "data": {
            "text/plain": [
              "'not found'"
            ],
            "application/vnd.google.colaboratory.intrinsic+json": {
              "type": "string"
            }
          },
          "metadata": {},
          "execution_count": 172
        }
      ]
    },
    {
      "cell_type": "markdown",
      "metadata": {
        "id": "xtmLHK5v0kJ5"
      },
      "source": [
        "### Ignorando maiúsculas e minúsculas com o argumento opcional flags"
      ]
    },
    {
      "cell_type": "code",
      "execution_count": null,
      "metadata": {
        "id": "aPwdPMYq0kJ5"
      },
      "outputs": [],
      "source": [
        "result3 = re.search('Sam', 'SAM WHITE', flags=re.IGNORECASE)"
      ]
    },
    {
      "cell_type": "code",
      "source": [
        "result3.group() if result3 else 'not found'"
      ],
      "metadata": {
        "colab": {
          "base_uri": "https://localhost:8080/",
          "height": 36
        },
        "id": "iW1P7mpo5zuM",
        "outputId": "845e3f0c-2de9-439b-cb8e-27f8b0785a63"
      },
      "execution_count": null,
      "outputs": [
        {
          "output_type": "execute_result",
          "data": {
            "text/plain": [
              "'SAM'"
            ],
            "application/vnd.google.colaboratory.intrinsic+json": {
              "type": "string"
            }
          },
          "metadata": {},
          "execution_count": 174
        }
      ]
    },
    {
      "cell_type": "markdown",
      "metadata": {
        "id": "_dGMCoEe0kJ6"
      },
      "source": [
        "### Metacaracteres que restringem correspondências ao início ou fim de uma string"
      ]
    },
    {
      "cell_type": "markdown",
      "source": [
        "O metacaractere ^ no início de uma expressão regular (e não entre colchetes) é uma âncora que indica que a expressão corresponde apenas ao início de uma string:"
      ],
      "metadata": {
        "id": "CFxjYlWz0XKk"
      }
    },
    {
      "cell_type": "code",
      "execution_count": null,
      "metadata": {
        "id": "6Y_laDra0kJ6"
      },
      "outputs": [],
      "source": [
        "result = re.search('^Python', 'Python is fun')"
      ]
    },
    {
      "cell_type": "code",
      "source": [
        "result.group() if result else 'not found'"
      ],
      "metadata": {
        "colab": {
          "base_uri": "https://localhost:8080/",
          "height": 36
        },
        "id": "OGpw6tOJ5_Ki",
        "outputId": "f15ba510-eb85-42a4-e4c0-9f794f56e648"
      },
      "execution_count": null,
      "outputs": [
        {
          "output_type": "execute_result",
          "data": {
            "text/plain": [
              "'Python'"
            ],
            "application/vnd.google.colaboratory.intrinsic+json": {
              "type": "string"
            }
          },
          "metadata": {},
          "execution_count": 176
        }
      ]
    },
    {
      "cell_type": "code",
      "execution_count": null,
      "metadata": {
        "id": "qE8EKFfS0kJ6"
      },
      "outputs": [],
      "source": [
        "result = re.search('^fun', 'Python is fun')"
      ]
    },
    {
      "cell_type": "code",
      "execution_count": null,
      "metadata": {
        "colab": {
          "base_uri": "https://localhost:8080/",
          "height": 36
        },
        "id": "Z4mPuLnh0kJ6",
        "outputId": "1be2d6d0-c976-451a-f748-0bf77ed83378"
      },
      "outputs": [
        {
          "output_type": "execute_result",
          "data": {
            "text/plain": [
              "'not found'"
            ],
            "application/vnd.google.colaboratory.intrinsic+json": {
              "type": "string"
            }
          },
          "metadata": {},
          "execution_count": 178
        }
      ],
      "source": [
        "result.group() if result else 'not found'"
      ]
    },
    {
      "cell_type": "markdown",
      "source": [
        "Da mesma forma, o metacaractere $ no final de uma expressão regular é uma âncora que indica que a expressão corresponde apenas ao final de uma string:"
      ],
      "metadata": {
        "id": "xNq91mGP0cHo"
      }
    },
    {
      "cell_type": "code",
      "execution_count": null,
      "metadata": {
        "id": "Z0mDwjrf0kJ6"
      },
      "outputs": [],
      "source": [
        "result = re.search('Python$', 'Python is fun')"
      ]
    },
    {
      "cell_type": "code",
      "execution_count": null,
      "metadata": {
        "colab": {
          "base_uri": "https://localhost:8080/",
          "height": 36
        },
        "id": "qjw2HXzo0kJ6",
        "outputId": "d17af759-eec5-4b20-e8ce-51eec5d0ab9a"
      },
      "outputs": [
        {
          "output_type": "execute_result",
          "data": {
            "text/plain": [
              "'not found'"
            ],
            "application/vnd.google.colaboratory.intrinsic+json": {
              "type": "string"
            }
          },
          "metadata": {},
          "execution_count": 180
        }
      ],
      "source": [
        "result.group() if result else 'not found'"
      ]
    },
    {
      "cell_type": "code",
      "execution_count": null,
      "metadata": {
        "id": "d_j20v190kJ6"
      },
      "outputs": [],
      "source": [
        "result = re.search('fun$', 'Python is fun')"
      ]
    },
    {
      "cell_type": "code",
      "execution_count": null,
      "metadata": {
        "colab": {
          "base_uri": "https://localhost:8080/",
          "height": 36
        },
        "id": "0W3RNxmh0kJ6",
        "outputId": "5583969b-2cdd-47fb-d94b-22a9d0b1b282"
      },
      "outputs": [
        {
          "output_type": "execute_result",
          "data": {
            "text/plain": [
              "'fun'"
            ],
            "application/vnd.google.colaboratory.intrinsic+json": {
              "type": "string"
            }
          },
          "metadata": {},
          "execution_count": 182
        }
      ],
      "source": [
        "result.group() if result else 'not found'"
      ]
    },
    {
      "cell_type": "markdown",
      "metadata": {
        "id": "6trCskK00kJ6"
      },
      "source": [
        "### Função findall e finditer — Encontrando todas as correspondências em uma string"
      ]
    },
    {
      "cell_type": "code",
      "execution_count": null,
      "metadata": {
        "id": "iL-uG23o0kJ6"
      },
      "outputs": [],
      "source": [
        "contact = 'Wally White, Home: 555-555-1234, Work: 555-555-4321'"
      ]
    },
    {
      "cell_type": "code",
      "execution_count": null,
      "metadata": {
        "colab": {
          "base_uri": "https://localhost:8080/"
        },
        "id": "UzIMfYTM0kJ7",
        "outputId": "9ec6d9a4-97c0-411a-9b1c-499fb66422d8"
      },
      "outputs": [
        {
          "output_type": "execute_result",
          "data": {
            "text/plain": [
              "['555-555-1234', '555-555-4321']"
            ]
          },
          "metadata": {},
          "execution_count": 184
        }
      ],
      "source": [
        "re.findall(r'\\d{3}-\\d{3}-\\d{4}', contact)"
      ]
    },
    {
      "cell_type": "code",
      "source": [
        "for phone in re.finditer(r'\\d{3}-\\d{3}-\\d{4}', contact):\n",
        "    print(phone.group())"
      ],
      "metadata": {
        "colab": {
          "base_uri": "https://localhost:8080/"
        },
        "id": "SqPQPrdM6oUH",
        "outputId": "a3d442e7-5cbb-4401-ff08-88dbbd7fa44b"
      },
      "execution_count": null,
      "outputs": [
        {
          "output_type": "stream",
          "name": "stdout",
          "text": [
            "555-555-1234\n",
            "555-555-4321\n"
          ]
        }
      ]
    },
    {
      "cell_type": "markdown",
      "metadata": {
        "id": "M1xa5NhA0kJ7"
      },
      "source": [
        "### Capturando substrings em uma correspondência"
      ]
    },
    {
      "cell_type": "markdown",
      "source": [
        "Você pode usar metacaracteres de parênteses — ( e ) — para capturar substrings em uma correspondência."
      ],
      "metadata": {
        "id": "zsNKQFzR1gI-"
      }
    },
    {
      "cell_type": "code",
      "execution_count": null,
      "metadata": {
        "id": "-vM4Xp1-0kJ7"
      },
      "outputs": [],
      "source": [
        "text = 'Charlie Cyan, e-mail: demo1@deitel.com'"
      ]
    },
    {
      "cell_type": "code",
      "execution_count": null,
      "metadata": {
        "id": "CZNo5_D-0kJ7"
      },
      "outputs": [],
      "source": [
        "pattern = r'([A-Z][a-z]+ [A-Z][a-z]+), e-mail: (\\w+@\\w+\\.\\w{3})'"
      ]
    },
    {
      "cell_type": "code",
      "source": [
        "result = re.search(pattern, text)"
      ],
      "metadata": {
        "id": "1PpZREmL6825"
      },
      "execution_count": null,
      "outputs": []
    },
    {
      "cell_type": "code",
      "source": [
        "result.groups()"
      ],
      "metadata": {
        "colab": {
          "base_uri": "https://localhost:8080/"
        },
        "id": "tPyad98x7BdQ",
        "outputId": "79f83376-088e-4760-b3c1-a1aebd69c906"
      },
      "execution_count": null,
      "outputs": [
        {
          "output_type": "execute_result",
          "data": {
            "text/plain": [
              "('Charlie Cyan', 'demo1@deitel.com')"
            ]
          },
          "metadata": {},
          "execution_count": 191
        }
      ]
    },
    {
      "cell_type": "code",
      "source": [
        "result.group()"
      ],
      "metadata": {
        "colab": {
          "base_uri": "https://localhost:8080/",
          "height": 36
        },
        "id": "aztnzKyj7D38",
        "outputId": "c8f1da41-3d52-4b7f-d27b-d40fee6a4b8b"
      },
      "execution_count": null,
      "outputs": [
        {
          "output_type": "execute_result",
          "data": {
            "text/plain": [
              "'Charlie Cyan, e-mail: demo1@deitel.com'"
            ],
            "application/vnd.google.colaboratory.intrinsic+json": {
              "type": "string"
            }
          },
          "metadata": {},
          "execution_count": 192
        }
      ]
    },
    {
      "cell_type": "code",
      "source": [
        "result.group(1)"
      ],
      "metadata": {
        "colab": {
          "base_uri": "https://localhost:8080/",
          "height": 36
        },
        "id": "JJQC7pPo7H4I",
        "outputId": "78d12e6b-7756-4cbc-c5f9-e29e6b07eb15"
      },
      "execution_count": null,
      "outputs": [
        {
          "output_type": "execute_result",
          "data": {
            "text/plain": [
              "'Charlie Cyan'"
            ],
            "application/vnd.google.colaboratory.intrinsic+json": {
              "type": "string"
            }
          },
          "metadata": {},
          "execution_count": 193
        }
      ]
    },
    {
      "cell_type": "code",
      "source": [
        "result.group(2)"
      ],
      "metadata": {
        "colab": {
          "base_uri": "https://localhost:8080/",
          "height": 36
        },
        "id": "zm2SaIpk7NmW",
        "outputId": "8a73a700-2981-4cbd-9269-a021ec6b67fd"
      },
      "execution_count": null,
      "outputs": [
        {
          "output_type": "execute_result",
          "data": {
            "text/plain": [
              "'demo1@deitel.com'"
            ],
            "application/vnd.google.colaboratory.intrinsic+json": {
              "type": "string"
            }
          },
          "metadata": {},
          "execution_count": 194
        }
      ]
    },
    {
      "cell_type": "code",
      "source": [],
      "metadata": {
        "id": "8V8lENWP7Or0"
      },
      "execution_count": null,
      "outputs": []
    },
    {
      "cell_type": "markdown",
      "metadata": {
        "id": "ubZq1E140kJ8"
      },
      "source": [
        "## Atividade"
      ]
    },
    {
      "cell_type": "markdown",
      "metadata": {
        "id": "40g_BmGI0kJ8"
      },
      "source": [
        "### Suponha que você tenha uma string representando um problema de adição, como\n",
        "```python\n",
        "'10 + 5'\n",
        "```\n",
        "Use uma expressão regular para dividir a string em três grupos que representam os dois operandos e o operador e, em seguida, exiba os grupos."
      ]
    },
    {
      "cell_type": "markdown",
      "metadata": {
        "id": "mIqMQl_90kJ8"
      },
      "source": [
        "# 13 Introdução à Ciência de Dados: Pandas, Expressões Regulares e tratamento de dados\n"
      ]
    },
    {
      "cell_type": "markdown",
      "source": [
        "### Validação de dados"
      ],
      "metadata": {
        "id": "YwrgkCdx4NA0"
      }
    },
    {
      "cell_type": "markdown",
      "source": [
        "Vamos inserir intencionalmente um CEP inválido para Miami:"
      ],
      "metadata": {
        "id": "2zLQ1kvGKFPJ"
      }
    },
    {
      "cell_type": "code",
      "execution_count": null,
      "metadata": {
        "id": "LxwyitKK0kJ9"
      },
      "outputs": [],
      "source": [
        "import pandas as pd"
      ]
    },
    {
      "cell_type": "code",
      "execution_count": null,
      "metadata": {
        "id": "4mJOssVQ0kJ9"
      },
      "outputs": [],
      "source": [
        "ceps = pd.Series({'Boston': '02215', 'Miami': '3310'})"
      ]
    },
    {
      "cell_type": "code",
      "source": [
        "ceps"
      ],
      "metadata": {
        "colab": {
          "base_uri": "https://localhost:8080/"
        },
        "id": "zrTRBMdI7omR",
        "outputId": "37d17ad7-412b-4079-c0d5-a2ff04ea3bde"
      },
      "execution_count": null,
      "outputs": [
        {
          "output_type": "execute_result",
          "data": {
            "text/plain": [
              "Boston    02215\n",
              "Miami      3310\n",
              "dtype: object"
            ]
          },
          "metadata": {},
          "execution_count": 197
        }
      ]
    },
    {
      "cell_type": "code",
      "source": [],
      "metadata": {
        "id": "icIPybTR7o3W"
      },
      "execution_count": null,
      "outputs": []
    },
    {
      "cell_type": "markdown",
      "source": [
        "Podemos usar expressões regulares com Pandas para validar dados."
      ],
      "metadata": {
        "id": "2oXlTX7QKaoW"
      }
    },
    {
      "cell_type": "code",
      "source": [
        "ceps.str.match(r'\\d{5}')"
      ],
      "metadata": {
        "colab": {
          "base_uri": "https://localhost:8080/"
        },
        "id": "iEPMqddl7sdk",
        "outputId": "a25fd66f-78ba-46bb-cf6c-4294236ccb68"
      },
      "execution_count": null,
      "outputs": [
        {
          "output_type": "execute_result",
          "data": {
            "text/plain": [
              "Boston     True\n",
              "Miami     False\n",
              "dtype: bool"
            ]
          },
          "metadata": {},
          "execution_count": 198
        }
      ]
    },
    {
      "cell_type": "code",
      "source": [
        "cidades = pd.Series(['Boston, MA 02215', 'Miami, FL 33101'])"
      ],
      "metadata": {
        "id": "4CS49Vqi7_a8"
      },
      "execution_count": null,
      "outputs": []
    },
    {
      "cell_type": "code",
      "source": [
        "cidades"
      ],
      "metadata": {
        "colab": {
          "base_uri": "https://localhost:8080/"
        },
        "id": "hsdZ22tb8HYJ",
        "outputId": "5b0e2b77-94df-4c60-b2ad-bcba3e7c6332"
      },
      "execution_count": null,
      "outputs": [
        {
          "output_type": "execute_result",
          "data": {
            "text/plain": [
              "0    Boston, MA 02215\n",
              "1     Miami, FL 33101\n",
              "dtype: object"
            ]
          },
          "metadata": {},
          "execution_count": 200
        }
      ]
    },
    {
      "cell_type": "code",
      "source": [
        "cidades.str.contains(r'[A-Z]{2}')"
      ],
      "metadata": {
        "colab": {
          "base_uri": "https://localhost:8080/"
        },
        "id": "6rD-IEa88K2-",
        "outputId": "adcfacf2-61fc-463b-e73e-f2c644b0ee55"
      },
      "execution_count": null,
      "outputs": [
        {
          "output_type": "execute_result",
          "data": {
            "text/plain": [
              "0    True\n",
              "1    True\n",
              "dtype: bool"
            ]
          },
          "metadata": {},
          "execution_count": 201
        }
      ]
    },
    {
      "cell_type": "code",
      "source": [
        "cidades.str.match(r'[A-Z]{2}')"
      ],
      "metadata": {
        "colab": {
          "base_uri": "https://localhost:8080/"
        },
        "id": "IM1TaRY28WCn",
        "outputId": "d0c52a6a-f747-4d6a-e79b-14db649f1fb8"
      },
      "execution_count": null,
      "outputs": [
        {
          "output_type": "execute_result",
          "data": {
            "text/plain": [
              "0    False\n",
              "1    False\n",
              "dtype: bool"
            ]
          },
          "metadata": {},
          "execution_count": 202
        }
      ]
    },
    {
      "cell_type": "code",
      "source": [],
      "metadata": {
        "id": "2rjBiT7_8dmc"
      },
      "execution_count": null,
      "outputs": []
    },
    {
      "cell_type": "markdown",
      "metadata": {
        "id": "hml04aHM0kJ9"
      },
      "source": [
        "### Reformatando seus dados"
      ]
    },
    {
      "cell_type": "markdown",
      "source": [
        "Agora vamos considerar tratar os dados para um formato diferente."
      ],
      "metadata": {
        "id": "QLEcWoJsRj4-"
      }
    },
    {
      "cell_type": "markdown",
      "source": [
        "Como um exemplo simples, suponha que um aplicativo exija números de telefone dos EUA no formato ###-###-####, com hifens separando cada grupo de dígitos. \n",
        "\n",
        "Os números de telefone nos foram fornecidos como strings de 10 dígitos sem hífens."
      ],
      "metadata": {
        "id": "Sp4qKQTZRz1Q"
      }
    },
    {
      "cell_type": "code",
      "execution_count": null,
      "metadata": {
        "id": "FPEP0Cb_0kJ9"
      },
      "outputs": [],
      "source": [
        "contacts = [['Mike Green', 'demo1@deitel.com', '5555555555'],\n",
        "            ['Sue Brown', 'demo2@deitel.com', '5555551234']]"
      ]
    },
    {
      "cell_type": "code",
      "execution_count": null,
      "metadata": {
        "id": "yC9HtVpb0kJ9"
      },
      "outputs": [],
      "source": [
        "contactsdf = pd.DataFrame(contacts, \n",
        "                          columns=['Name', 'Email', 'Phone'])"
      ]
    },
    {
      "cell_type": "code",
      "execution_count": null,
      "metadata": {
        "colab": {
          "base_uri": "https://localhost:8080/",
          "height": 112
        },
        "id": "DHGsqNL60kJ-",
        "outputId": "8a1c95b7-2f22-45c3-cabf-e0db43c6c304"
      },
      "outputs": [
        {
          "output_type": "execute_result",
          "data": {
            "text/plain": [
              "         Name             Email       Phone\n",
              "0  Mike Green  demo1@deitel.com  5555555555\n",
              "1   Sue Brown  demo2@deitel.com  5555551234"
            ],
            "text/html": [
              "\n",
              "  <div id=\"df-c1bb6b22-6b5f-4189-9e4b-86a0ce36d651\">\n",
              "    <div class=\"colab-df-container\">\n",
              "      <div>\n",
              "<style scoped>\n",
              "    .dataframe tbody tr th:only-of-type {\n",
              "        vertical-align: middle;\n",
              "    }\n",
              "\n",
              "    .dataframe tbody tr th {\n",
              "        vertical-align: top;\n",
              "    }\n",
              "\n",
              "    .dataframe thead th {\n",
              "        text-align: right;\n",
              "    }\n",
              "</style>\n",
              "<table border=\"1\" class=\"dataframe\">\n",
              "  <thead>\n",
              "    <tr style=\"text-align: right;\">\n",
              "      <th></th>\n",
              "      <th>Name</th>\n",
              "      <th>Email</th>\n",
              "      <th>Phone</th>\n",
              "    </tr>\n",
              "  </thead>\n",
              "  <tbody>\n",
              "    <tr>\n",
              "      <th>0</th>\n",
              "      <td>Mike Green</td>\n",
              "      <td>demo1@deitel.com</td>\n",
              "      <td>5555555555</td>\n",
              "    </tr>\n",
              "    <tr>\n",
              "      <th>1</th>\n",
              "      <td>Sue Brown</td>\n",
              "      <td>demo2@deitel.com</td>\n",
              "      <td>5555551234</td>\n",
              "    </tr>\n",
              "  </tbody>\n",
              "</table>\n",
              "</div>\n",
              "      <button class=\"colab-df-convert\" onclick=\"convertToInteractive('df-c1bb6b22-6b5f-4189-9e4b-86a0ce36d651')\"\n",
              "              title=\"Convert this dataframe to an interactive table.\"\n",
              "              style=\"display:none;\">\n",
              "        \n",
              "  <svg xmlns=\"http://www.w3.org/2000/svg\" height=\"24px\"viewBox=\"0 0 24 24\"\n",
              "       width=\"24px\">\n",
              "    <path d=\"M0 0h24v24H0V0z\" fill=\"none\"/>\n",
              "    <path d=\"M18.56 5.44l.94 2.06.94-2.06 2.06-.94-2.06-.94-.94-2.06-.94 2.06-2.06.94zm-11 1L8.5 8.5l.94-2.06 2.06-.94-2.06-.94L8.5 2.5l-.94 2.06-2.06.94zm10 10l.94 2.06.94-2.06 2.06-.94-2.06-.94-.94-2.06-.94 2.06-2.06.94z\"/><path d=\"M17.41 7.96l-1.37-1.37c-.4-.4-.92-.59-1.43-.59-.52 0-1.04.2-1.43.59L10.3 9.45l-7.72 7.72c-.78.78-.78 2.05 0 2.83L4 21.41c.39.39.9.59 1.41.59.51 0 1.02-.2 1.41-.59l7.78-7.78 2.81-2.81c.8-.78.8-2.07 0-2.86zM5.41 20L4 18.59l7.72-7.72 1.47 1.35L5.41 20z\"/>\n",
              "  </svg>\n",
              "      </button>\n",
              "      \n",
              "  <style>\n",
              "    .colab-df-container {\n",
              "      display:flex;\n",
              "      flex-wrap:wrap;\n",
              "      gap: 12px;\n",
              "    }\n",
              "\n",
              "    .colab-df-convert {\n",
              "      background-color: #E8F0FE;\n",
              "      border: none;\n",
              "      border-radius: 50%;\n",
              "      cursor: pointer;\n",
              "      display: none;\n",
              "      fill: #1967D2;\n",
              "      height: 32px;\n",
              "      padding: 0 0 0 0;\n",
              "      width: 32px;\n",
              "    }\n",
              "\n",
              "    .colab-df-convert:hover {\n",
              "      background-color: #E2EBFA;\n",
              "      box-shadow: 0px 1px 2px rgba(60, 64, 67, 0.3), 0px 1px 3px 1px rgba(60, 64, 67, 0.15);\n",
              "      fill: #174EA6;\n",
              "    }\n",
              "\n",
              "    [theme=dark] .colab-df-convert {\n",
              "      background-color: #3B4455;\n",
              "      fill: #D2E3FC;\n",
              "    }\n",
              "\n",
              "    [theme=dark] .colab-df-convert:hover {\n",
              "      background-color: #434B5C;\n",
              "      box-shadow: 0px 1px 3px 1px rgba(0, 0, 0, 0.15);\n",
              "      filter: drop-shadow(0px 1px 2px rgba(0, 0, 0, 0.3));\n",
              "      fill: #FFFFFF;\n",
              "    }\n",
              "  </style>\n",
              "\n",
              "      <script>\n",
              "        const buttonEl =\n",
              "          document.querySelector('#df-c1bb6b22-6b5f-4189-9e4b-86a0ce36d651 button.colab-df-convert');\n",
              "        buttonEl.style.display =\n",
              "          google.colab.kernel.accessAllowed ? 'block' : 'none';\n",
              "\n",
              "        async function convertToInteractive(key) {\n",
              "          const element = document.querySelector('#df-c1bb6b22-6b5f-4189-9e4b-86a0ce36d651');\n",
              "          const dataTable =\n",
              "            await google.colab.kernel.invokeFunction('convertToInteractive',\n",
              "                                                     [key], {});\n",
              "          if (!dataTable) return;\n",
              "\n",
              "          const docLinkHtml = 'Like what you see? Visit the ' +\n",
              "            '<a target=\"_blank\" href=https://colab.research.google.com/notebooks/data_table.ipynb>data table notebook</a>'\n",
              "            + ' to learn more about interactive tables.';\n",
              "          element.innerHTML = '';\n",
              "          dataTable['output_type'] = 'display_data';\n",
              "          await google.colab.output.renderOutput(dataTable, element);\n",
              "          const docLink = document.createElement('div');\n",
              "          docLink.innerHTML = docLinkHtml;\n",
              "          element.appendChild(docLink);\n",
              "        }\n",
              "      </script>\n",
              "    </div>\n",
              "  </div>\n",
              "  "
            ]
          },
          "metadata": {},
          "execution_count": 274
        }
      ],
      "source": [
        "contactsdf"
      ]
    },
    {
      "cell_type": "markdown",
      "source": [
        "Neste DataFrame, especificamos índices de coluna por meio do argumento de palavra-chave columns, mas não especificamos índices de linha, portanto, as linhas são indexadas a partir de 0."
      ],
      "metadata": {
        "id": "20GTeh-gSEBx"
      }
    },
    {
      "cell_type": "markdown",
      "source": [
        "Podemos mapear os números de telefone para o formato adequado chamando o mapa do método Series na coluna 'Phone' do DataFrame."
      ],
      "metadata": {
        "id": "B9c3vE4ISRUy"
      }
    },
    {
      "cell_type": "markdown",
      "source": [
        "O argumento do method map é uma função que recebe um valor\n",
        "e retorna o valor mapeado."
      ],
      "metadata": {
        "id": "EvwlZV6sSX9X"
      }
    },
    {
      "cell_type": "code",
      "execution_count": null,
      "metadata": {
        "id": "QQXzVTVW0kJ-"
      },
      "outputs": [],
      "source": [
        "import re"
      ]
    },
    {
      "cell_type": "code",
      "execution_count": null,
      "metadata": {
        "id": "7EzeR6YZ0kJ-"
      },
      "outputs": [],
      "source": [
        "def get_formatted_phone(value):\n",
        "    result = re.fullmatch(r'(\\d{3})(\\d{3})(\\d{4})', value)\n",
        "    return '-'.join(result.groups()) if result else value"
      ]
    },
    {
      "cell_type": "markdown",
      "source": [
        "A expressão regular na primeira instrução do bloco corresponde a apenas 10 dígitos consecutivos. Ele captura substrings contendo os três primeiros dígitos, os próximos três dígitos e os últimos quatro dígitos. A instrução return funciona da seguinte forma:\n",
        "* Se result for None, simplesmente retornamos o valor não modificado.\n",
        "* Caso contrário, chamamos result.groups() para obter uma tupla contendo as substrings capturadas e passar essa tupla para o método de string join para concatenar os elementos, separando cada um do próximo com '-' para formar o número de telefone mapeado."
      ],
      "metadata": {
        "id": "VrnR2x90So7s"
      }
    },
    {
      "cell_type": "code",
      "execution_count": null,
      "metadata": {
        "id": "acjDIBo70kJ-"
      },
      "outputs": [],
      "source": [
        "formatted_phone = contactsdf['Phone'].map(get_formatted_phone)"
      ]
    },
    {
      "cell_type": "markdown",
      "source": [
        "O método map retorna uma nova serie"
      ],
      "metadata": {
        "id": "c6942GpjSyyx"
      }
    },
    {
      "cell_type": "code",
      "execution_count": null,
      "metadata": {
        "colab": {
          "base_uri": "https://localhost:8080/"
        },
        "id": "MHEVbasp0kJ-",
        "outputId": "54a06be0-90fb-48ca-9904-62f5ff26660e"
      },
      "outputs": [
        {
          "output_type": "execute_result",
          "data": {
            "text/plain": [
              "0    555-555-5555\n",
              "1    555-555-1234\n",
              "Name: Phone, dtype: object"
            ]
          },
          "metadata": {},
          "execution_count": 278
        }
      ],
      "source": [
        "formatted_phone"
      ]
    },
    {
      "cell_type": "code",
      "execution_count": null,
      "metadata": {
        "id": "GtFFqPQA0kJ-"
      },
      "outputs": [],
      "source": [
        "contactsdf['Phone'] = formatted_phone"
      ]
    },
    {
      "cell_type": "code",
      "execution_count": null,
      "metadata": {
        "colab": {
          "base_uri": "https://localhost:8080/",
          "height": 112
        },
        "id": "8mc8Qeae0kJ-",
        "outputId": "c6bba442-e547-499d-af69-cc2187ab95ac"
      },
      "outputs": [
        {
          "output_type": "execute_result",
          "data": {
            "text/plain": [
              "         Name             Email         Phone\n",
              "0  Mike Green  demo1@deitel.com  555-555-5555\n",
              "1   Sue Brown  demo2@deitel.com  555-555-1234"
            ],
            "text/html": [
              "\n",
              "  <div id=\"df-dc75fbcf-2100-4d7f-a3e7-cfb9a786e61d\">\n",
              "    <div class=\"colab-df-container\">\n",
              "      <div>\n",
              "<style scoped>\n",
              "    .dataframe tbody tr th:only-of-type {\n",
              "        vertical-align: middle;\n",
              "    }\n",
              "\n",
              "    .dataframe tbody tr th {\n",
              "        vertical-align: top;\n",
              "    }\n",
              "\n",
              "    .dataframe thead th {\n",
              "        text-align: right;\n",
              "    }\n",
              "</style>\n",
              "<table border=\"1\" class=\"dataframe\">\n",
              "  <thead>\n",
              "    <tr style=\"text-align: right;\">\n",
              "      <th></th>\n",
              "      <th>Name</th>\n",
              "      <th>Email</th>\n",
              "      <th>Phone</th>\n",
              "    </tr>\n",
              "  </thead>\n",
              "  <tbody>\n",
              "    <tr>\n",
              "      <th>0</th>\n",
              "      <td>Mike Green</td>\n",
              "      <td>demo1@deitel.com</td>\n",
              "      <td>555-555-5555</td>\n",
              "    </tr>\n",
              "    <tr>\n",
              "      <th>1</th>\n",
              "      <td>Sue Brown</td>\n",
              "      <td>demo2@deitel.com</td>\n",
              "      <td>555-555-1234</td>\n",
              "    </tr>\n",
              "  </tbody>\n",
              "</table>\n",
              "</div>\n",
              "      <button class=\"colab-df-convert\" onclick=\"convertToInteractive('df-dc75fbcf-2100-4d7f-a3e7-cfb9a786e61d')\"\n",
              "              title=\"Convert this dataframe to an interactive table.\"\n",
              "              style=\"display:none;\">\n",
              "        \n",
              "  <svg xmlns=\"http://www.w3.org/2000/svg\" height=\"24px\"viewBox=\"0 0 24 24\"\n",
              "       width=\"24px\">\n",
              "    <path d=\"M0 0h24v24H0V0z\" fill=\"none\"/>\n",
              "    <path d=\"M18.56 5.44l.94 2.06.94-2.06 2.06-.94-2.06-.94-.94-2.06-.94 2.06-2.06.94zm-11 1L8.5 8.5l.94-2.06 2.06-.94-2.06-.94L8.5 2.5l-.94 2.06-2.06.94zm10 10l.94 2.06.94-2.06 2.06-.94-2.06-.94-.94-2.06-.94 2.06-2.06.94z\"/><path d=\"M17.41 7.96l-1.37-1.37c-.4-.4-.92-.59-1.43-.59-.52 0-1.04.2-1.43.59L10.3 9.45l-7.72 7.72c-.78.78-.78 2.05 0 2.83L4 21.41c.39.39.9.59 1.41.59.51 0 1.02-.2 1.41-.59l7.78-7.78 2.81-2.81c.8-.78.8-2.07 0-2.86zM5.41 20L4 18.59l7.72-7.72 1.47 1.35L5.41 20z\"/>\n",
              "  </svg>\n",
              "      </button>\n",
              "      \n",
              "  <style>\n",
              "    .colab-df-container {\n",
              "      display:flex;\n",
              "      flex-wrap:wrap;\n",
              "      gap: 12px;\n",
              "    }\n",
              "\n",
              "    .colab-df-convert {\n",
              "      background-color: #E8F0FE;\n",
              "      border: none;\n",
              "      border-radius: 50%;\n",
              "      cursor: pointer;\n",
              "      display: none;\n",
              "      fill: #1967D2;\n",
              "      height: 32px;\n",
              "      padding: 0 0 0 0;\n",
              "      width: 32px;\n",
              "    }\n",
              "\n",
              "    .colab-df-convert:hover {\n",
              "      background-color: #E2EBFA;\n",
              "      box-shadow: 0px 1px 2px rgba(60, 64, 67, 0.3), 0px 1px 3px 1px rgba(60, 64, 67, 0.15);\n",
              "      fill: #174EA6;\n",
              "    }\n",
              "\n",
              "    [theme=dark] .colab-df-convert {\n",
              "      background-color: #3B4455;\n",
              "      fill: #D2E3FC;\n",
              "    }\n",
              "\n",
              "    [theme=dark] .colab-df-convert:hover {\n",
              "      background-color: #434B5C;\n",
              "      box-shadow: 0px 1px 3px 1px rgba(0, 0, 0, 0.15);\n",
              "      filter: drop-shadow(0px 1px 2px rgba(0, 0, 0, 0.3));\n",
              "      fill: #FFFFFF;\n",
              "    }\n",
              "  </style>\n",
              "\n",
              "      <script>\n",
              "        const buttonEl =\n",
              "          document.querySelector('#df-dc75fbcf-2100-4d7f-a3e7-cfb9a786e61d button.colab-df-convert');\n",
              "        buttonEl.style.display =\n",
              "          google.colab.kernel.accessAllowed ? 'block' : 'none';\n",
              "\n",
              "        async function convertToInteractive(key) {\n",
              "          const element = document.querySelector('#df-dc75fbcf-2100-4d7f-a3e7-cfb9a786e61d');\n",
              "          const dataTable =\n",
              "            await google.colab.kernel.invokeFunction('convertToInteractive',\n",
              "                                                     [key], {});\n",
              "          if (!dataTable) return;\n",
              "\n",
              "          const docLinkHtml = 'Like what you see? Visit the ' +\n",
              "            '<a target=\"_blank\" href=https://colab.research.google.com/notebooks/data_table.ipynb>data table notebook</a>'\n",
              "            + ' to learn more about interactive tables.';\n",
              "          element.innerHTML = '';\n",
              "          dataTable['output_type'] = 'display_data';\n",
              "          await google.colab.output.renderOutput(dataTable, element);\n",
              "          const docLink = document.createElement('div');\n",
              "          docLink.innerHTML = docLinkHtml;\n",
              "          element.appendChild(docLink);\n",
              "        }\n",
              "      </script>\n",
              "    </div>\n",
              "  </div>\n",
              "  "
            ]
          },
          "metadata": {},
          "execution_count": 280
        }
      ],
      "source": [
        "contactsdf"
      ]
    },
    {
      "cell_type": "markdown",
      "metadata": {
        "id": "fHLuGo-Z0kJ-"
      },
      "source": [
        "## Atividade"
      ]
    },
    {
      "cell_type": "markdown",
      "metadata": {
        "id": "ktmZbkxB0kJ_"
      },
      "source": [
        "### Vamos supor que um aplicativo exija números de telefone dos EUA no formato `(###) ###-####`. Modifique a função `get_formatted_phone` no snippet `[13]` para retornar o número de telefone neste novo formato. Em seguida, recrie o `DataFrame` dos snippets `[9]` e `[10]` e use a função `get_formatted_phone` atualizada para alterar os dados."
      ]
    }
  ]
}