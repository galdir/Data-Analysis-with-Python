{
  "nbformat": 4,
  "nbformat_minor": 0,
  "metadata": {
    "colab": {
      "provenance": [],
      "toc_visible": true
    },
    "kernelspec": {
      "name": "python3",
      "display_name": "Python 3"
    },
    "language_info": {
      "name": "python"
    }
  },
  "cells": [
    {
      "cell_type": "markdown",
      "source": [
        "#1 Declarações de controle"
      ],
      "metadata": {
        "id": "y9yrklIx7Q1t"
      }
    },
    {
      "cell_type": "markdown",
      "source": [
        "#2 Declaração if"
      ],
      "metadata": {
        "id": "y4ZCI-Eiavgg"
      }
    },
    {
      "cell_type": "code",
      "execution_count": null,
      "metadata": {
        "id": "HeuSw7k2akTV"
      },
      "outputs": [],
      "source": [
        "grade = 65"
      ]
    },
    {
      "cell_type": "code",
      "source": [
        "if grade >= 70:\n",
        "  print('passed')\n",
        "  print('ok')\n",
        "print('parabéns')\n"
      ],
      "metadata": {
        "colab": {
          "base_uri": "https://localhost:8080/"
        },
        "id": "IoRWmr_WKAtH",
        "outputId": "c8fe710d-bcc1-4012-e21a-ff1cda56bbca"
      },
      "execution_count": null,
      "outputs": [
        {
          "output_type": "stream",
          "name": "stdout",
          "text": [
            "parabéns\n"
          ]
        }
      ]
    },
    {
      "cell_type": "markdown",
      "source": [
        "## Indentação de bloco"
      ],
      "metadata": {
        "id": "MYpAb8-ldniu"
      }
    },
    {
      "cell_type": "code",
      "source": [
        "if grade >= 60:\n",
        "print('Passed')  # statement is not indented properly"
      ],
      "metadata": {
        "id": "5kjeerwUdsE-",
        "colab": {
          "base_uri": "https://localhost:8080/",
          "height": 132
        },
        "outputId": "144de9a2-11f0-41bd-a7ff-31d8ce043eff"
      },
      "execution_count": null,
      "outputs": [
        {
          "output_type": "error",
          "ename": "IndentationError",
          "evalue": "ignored",
          "traceback": [
            "\u001b[0;36m  File \u001b[0;32m\"<ipython-input-11-eb5359d7857b>\"\u001b[0;36m, line \u001b[0;32m2\u001b[0m\n\u001b[0;31m    print('Passed')  # statement is not indented properly\u001b[0m\n\u001b[0m        ^\u001b[0m\n\u001b[0;31mIndentationError\u001b[0m\u001b[0;31m:\u001b[0m expected an indented block\n"
          ]
        }
      ]
    },
    {
      "cell_type": "code",
      "source": [
        "if grade >= 60:\n",
        "    print('Passed')\n",
        "print('Good job!')"
      ],
      "metadata": {
        "colab": {
          "base_uri": "https://localhost:8080/"
        },
        "id": "KYjlA8IGLAyZ",
        "outputId": "604115a5-55d2-4831-d5c6-0ad710b41672"
      },
      "execution_count": null,
      "outputs": [
        {
          "output_type": "stream",
          "name": "stdout",
          "text": [
            "Passed\n",
            "Good job!\n"
          ]
        }
      ]
    },
    {
      "cell_type": "markdown",
      "source": [
        "##Toda expressão pode ser tratada como True ou False"
      ],
      "metadata": {
        "id": "PJS97SoddzkY"
      }
    },
    {
      "cell_type": "code",
      "source": [
        "if 1:\n",
        "    print('Nonzero values are true, so this will print')"
      ],
      "metadata": {
        "id": "qWG71drzd5Jt",
        "colab": {
          "base_uri": "https://localhost:8080/"
        },
        "outputId": "06fbe559-0c74-4920-8e55-10f616cc2c10"
      },
      "execution_count": null,
      "outputs": [
        {
          "output_type": "stream",
          "name": "stdout",
          "text": [
            "Nonzero values are true, so this will print\n"
          ]
        }
      ]
    },
    {
      "cell_type": "code",
      "source": [
        "if 1.5:\n",
        "    print('Nonzero values are true, so this will print')"
      ],
      "metadata": {
        "id": "5-myz9zCd-kG",
        "colab": {
          "base_uri": "https://localhost:8080/"
        },
        "outputId": "2d15edc4-7c10-4ed6-b7b4-d986bb82e403"
      },
      "execution_count": null,
      "outputs": [
        {
          "output_type": "stream",
          "name": "stdout",
          "text": [
            "Nonzero values are true, so this will print\n"
          ]
        }
      ]
    },
    {
      "cell_type": "code",
      "source": [
        "if 8000:\n",
        "    print('Nonzero values are true, so this will print')"
      ],
      "metadata": {
        "colab": {
          "base_uri": "https://localhost:8080/"
        },
        "id": "t-xKWG7uLS9I",
        "outputId": "afbe7ab7-5880-4818-b669-3eda4049686f"
      },
      "execution_count": null,
      "outputs": [
        {
          "output_type": "stream",
          "name": "stdout",
          "text": [
            "Nonzero values are true, so this will print\n"
          ]
        }
      ]
    },
    {
      "cell_type": "code",
      "source": [
        "if 0:\n",
        "    print('Zero is false, so this will not print')"
      ],
      "metadata": {
        "id": "P-pPdd_ud9Wy"
      },
      "execution_count": null,
      "outputs": []
    },
    {
      "cell_type": "code",
      "source": [
        "if False:\n",
        "    print('nao vai exibir')"
      ],
      "metadata": {
        "id": "8e1TyUApLbkN"
      },
      "execution_count": null,
      "outputs": []
    },
    {
      "cell_type": "code",
      "source": [
        "if True:\n",
        "  print(grade)"
      ],
      "metadata": {
        "colab": {
          "base_uri": "https://localhost:8080/"
        },
        "id": "e4qQSzY-LfvV",
        "outputId": "f78430e0-c9b6-48fd-aeda-8b679bf1a386"
      },
      "execution_count": null,
      "outputs": [
        {
          "output_type": "stream",
          "name": "stdout",
          "text": [
            "65\n"
          ]
        }
      ]
    },
    {
      "cell_type": "markdown",
      "source": [
        "# 3: declarações `if`…`else` and `if`…`elif`…`else` "
      ],
      "metadata": {
        "id": "oXSH8FvBeDv1"
      }
    },
    {
      "cell_type": "code",
      "source": [
        "grade = 85"
      ],
      "metadata": {
        "id": "1CLlr3zyeDWz"
      },
      "execution_count": null,
      "outputs": []
    },
    {
      "cell_type": "code",
      "source": [
        "if grade >= 60: \n",
        "    print('Passed')\n",
        "    print('ok')\n",
        "else:\n",
        "    print('Failed')\n",
        "\n"
      ],
      "metadata": {
        "id": "Dpgs1fsQecjY",
        "colab": {
          "base_uri": "https://localhost:8080/"
        },
        "outputId": "9fa19a94-6cde-4630-fecf-4f7b56eb8c48"
      },
      "execution_count": null,
      "outputs": [
        {
          "output_type": "stream",
          "name": "stdout",
          "text": [
            "Passed\n",
            "ok\n"
          ]
        }
      ]
    },
    {
      "cell_type": "code",
      "source": [
        "grade = 57"
      ],
      "metadata": {
        "id": "19STEzUfed1X"
      },
      "execution_count": null,
      "outputs": []
    },
    {
      "cell_type": "code",
      "source": [
        "if grade >= 60: \n",
        "    print('Passed')\n",
        "else:\n",
        "    print('Failed')"
      ],
      "metadata": {
        "id": "ZZqDOxibefhT",
        "colab": {
          "base_uri": "https://localhost:8080/"
        },
        "outputId": "49b3e3c2-9d16-4bef-de25-5e902ff10028"
      },
      "execution_count": null,
      "outputs": [
        {
          "output_type": "stream",
          "name": "stdout",
          "text": [
            "Failed\n"
          ]
        }
      ]
    },
    {
      "cell_type": "markdown",
      "source": [
        "##Expressão condicional"
      ],
      "metadata": {
        "id": "upo91r8kfqJt"
      }
    },
    {
      "cell_type": "code",
      "source": [
        "grade = 87"
      ],
      "metadata": {
        "id": "VrUiQV1rfryF"
      },
      "execution_count": null,
      "outputs": []
    },
    {
      "cell_type": "code",
      "source": [
        "if grade >= 60:\n",
        "    result = 'Passed'\n",
        "else:\n",
        "    result = 'Failed'"
      ],
      "metadata": {
        "id": "qLMKuwBgfyNL"
      },
      "execution_count": null,
      "outputs": []
    },
    {
      "cell_type": "code",
      "source": [
        "result"
      ],
      "metadata": {
        "id": "qSPDO0-yf070",
        "colab": {
          "base_uri": "https://localhost:8080/",
          "height": 35
        },
        "outputId": "c95c8234-8709-4be4-bf9d-bc5f87c9aac0"
      },
      "execution_count": null,
      "outputs": [
        {
          "output_type": "execute_result",
          "data": {
            "text/plain": [
              "'Passed'"
            ],
            "application/vnd.google.colaboratory.intrinsic+json": {
              "type": "string"
            }
          },
          "metadata": {},
          "execution_count": 29
        }
      ]
    },
    {
      "cell_type": "code",
      "source": [
        "result = ('Passed' if grade >= 60 else 'Failed') #Expressão condicional concisa"
      ],
      "metadata": {
        "id": "3fT0Mmq4f2IN"
      },
      "execution_count": null,
      "outputs": []
    },
    {
      "cell_type": "code",
      "source": [
        "result"
      ],
      "metadata": {
        "id": "hVpwUYgAf4Wv",
        "colab": {
          "base_uri": "https://localhost:8080/",
          "height": 35
        },
        "outputId": "f1fb1127-21d7-418d-8737-39f60a799c1a"
      },
      "execution_count": null,
      "outputs": [
        {
          "output_type": "execute_result",
          "data": {
            "text/plain": [
              "'Passed'"
            ],
            "application/vnd.google.colaboratory.intrinsic+json": {
              "type": "string"
            }
          },
          "metadata": {},
          "execution_count": 31
        }
      ]
    },
    {
      "cell_type": "code",
      "source": [
        "'Passed' if grade >= 60 else 'Failed'"
      ],
      "metadata": {
        "id": "EICHJyJ_gkfs",
        "colab": {
          "base_uri": "https://localhost:8080/",
          "height": 35
        },
        "outputId": "d14a5a5c-c92f-44e3-de05-dfbc4654b6ee"
      },
      "execution_count": null,
      "outputs": [
        {
          "output_type": "execute_result",
          "data": {
            "text/plain": [
              "'Passed'"
            ],
            "application/vnd.google.colaboratory.intrinsic+json": {
              "type": "string"
            }
          },
          "metadata": {},
          "execution_count": 32
        }
      ]
    },
    {
      "cell_type": "code",
      "source": [
        "1 if grade >= 60 else 0"
      ],
      "metadata": {
        "colab": {
          "base_uri": "https://localhost:8080/"
        },
        "id": "diQDcCJELkyM",
        "outputId": "59db852c-36df-4382-eded-d980450a8f95"
      },
      "execution_count": null,
      "outputs": [
        {
          "output_type": "execute_result",
          "data": {
            "text/plain": [
              "1"
            ]
          },
          "metadata": {},
          "execution_count": 33
        }
      ]
    },
    {
      "cell_type": "code",
      "source": [
        "True if grade >= 60 else False"
      ],
      "metadata": {
        "colab": {
          "base_uri": "https://localhost:8080/"
        },
        "id": "a9_0TsE6M8tO",
        "outputId": "1f52019f-f8b7-4e2a-985f-c3ee2b7f4917"
      },
      "execution_count": null,
      "outputs": [
        {
          "output_type": "execute_result",
          "data": {
            "text/plain": [
              "True"
            ]
          },
          "metadata": {},
          "execution_count": 34
        }
      ]
    },
    {
      "cell_type": "markdown",
      "source": [
        "##Multiplas declarações em um bloco"
      ],
      "metadata": {
        "id": "HSb67jcRg1P9"
      }
    },
    {
      "cell_type": "code",
      "source": [
        "grade = 49"
      ],
      "metadata": {
        "id": "x5g1dgt6gzRV"
      },
      "execution_count": null,
      "outputs": []
    },
    {
      "cell_type": "code",
      "source": [
        "if grade >= 60:\n",
        "    print('Passed')\n",
        "else:\n",
        "    print('Failed')\n",
        "    print('You must take this course again')"
      ],
      "metadata": {
        "id": "lCGlq6I1g5bb",
        "colab": {
          "base_uri": "https://localhost:8080/"
        },
        "outputId": "7131e514-460e-4289-b6b5-d5684a732dd0"
      },
      "execution_count": null,
      "outputs": [
        {
          "output_type": "stream",
          "name": "stdout",
          "text": [
            "Failed\n",
            "You must take this course again\n"
          ]
        }
      ]
    },
    {
      "cell_type": "code",
      "source": [
        "grade = 100"
      ],
      "metadata": {
        "id": "jn4YXXyjg7Xh"
      },
      "execution_count": null,
      "outputs": []
    },
    {
      "cell_type": "markdown",
      "source": [
        "Cuidado com a indentação"
      ],
      "metadata": {
        "id": "stBIYInfg_NK"
      }
    },
    {
      "cell_type": "code",
      "source": [
        "if grade >= 60:\n",
        "    print('Passed')\n",
        "else:\n",
        "    print('Failed')\n",
        "print('You must take this course again')"
      ],
      "metadata": {
        "id": "PA9vvfphg8-j",
        "colab": {
          "base_uri": "https://localhost:8080/"
        },
        "outputId": "456a6bcd-9d39-4088-b7ef-38029ce8b3c3"
      },
      "execution_count": null,
      "outputs": [
        {
          "output_type": "stream",
          "name": "stdout",
          "text": [
            "Passed\n",
            "You must take this course again\n"
          ]
        }
      ]
    },
    {
      "cell_type": "code",
      "source": [],
      "metadata": {
        "id": "bjyY-ywSNSrp"
      },
      "execution_count": null,
      "outputs": []
    },
    {
      "cell_type": "markdown",
      "source": [
        "## `if`…`elif`…`else` Statement"
      ],
      "metadata": {
        "id": "_Eng1BWlhCVR"
      }
    },
    {
      "cell_type": "code",
      "source": [
        "grade = 77"
      ],
      "metadata": {
        "id": "Y_6vOmBQhDrV"
      },
      "execution_count": null,
      "outputs": []
    },
    {
      "cell_type": "code",
      "source": [
        "if grade >= 90:\n",
        "    print('A')\n",
        "elif grade >= 80:\n",
        "    print('B')\n",
        "elif grade >= 70:\n",
        "    print('C')\n",
        "elif grade >= 60:\n",
        "    print('D')\n",
        "else:                 #ultima opcao\n",
        "    print('F')"
      ],
      "metadata": {
        "id": "Dq2cCYs2hGL4"
      },
      "execution_count": null,
      "outputs": []
    },
    {
      "cell_type": "code",
      "source": [
        "!python --version"
      ],
      "metadata": {
        "colab": {
          "base_uri": "https://localhost:8080/"
        },
        "id": "t3DK2dbTNfF2",
        "outputId": "57cf2dd9-5bda-48b4-9cb7-bb213f367f4d"
      },
      "execution_count": null,
      "outputs": [
        {
          "output_type": "stream",
          "name": "stdout",
          "text": [
            "Python 3.7.13\n"
          ]
        }
      ]
    },
    {
      "cell_type": "markdown",
      "source": [
        "##Atividade"
      ],
      "metadata": {
        "id": "hEOurFXnN9Aj"
      }
    },
    {
      "cell_type": "markdown",
      "source": [
        "Mostre que um SyntaxError ocorre se uma instrução if…elif especifica um else antes do último elif."
      ],
      "metadata": {
        "id": "A_hbrKD6OBNl"
      }
    },
    {
      "cell_type": "code",
      "source": [
        "if grade >= 90:\n",
        "    print('A')\n",
        "elif grade >= 80:\n",
        "    print('B')\n",
        "else grade >= 70:\n",
        "    print('C')\n",
        "elif grade >= 60:\n",
        "    print('D')\n",
        "else:                 #ultima opcao\n",
        "    print('F')"
      ],
      "metadata": {
        "colab": {
          "base_uri": "https://localhost:8080/",
          "height": 132
        },
        "id": "lxf3F2H1NglE",
        "outputId": "3548c118-4f83-4d21-c443-30c0d9187c5c"
      },
      "execution_count": null,
      "outputs": [
        {
          "output_type": "error",
          "ename": "SyntaxError",
          "evalue": "ignored",
          "traceback": [
            "\u001b[0;36m  File \u001b[0;32m\"<ipython-input-42-f39be3710d41>\"\u001b[0;36m, line \u001b[0;32m5\u001b[0m\n\u001b[0;31m    else grade >= 70:\u001b[0m\n\u001b[0m             ^\u001b[0m\n\u001b[0;31mSyntaxError\u001b[0m\u001b[0;31m:\u001b[0m invalid syntax\n"
          ]
        }
      ]
    },
    {
      "cell_type": "code",
      "source": [
        "if grade >= 90:\n",
        "    print('A')\n",
        "elif grade >= 80:\n",
        "    print('B')\n",
        "elif grade >= 70:\n",
        "    print('C')\n",
        "elif grade >= 60:\n",
        "    print('D')\n"
      ],
      "metadata": {
        "colab": {
          "base_uri": "https://localhost:8080/"
        },
        "id": "JJFzcfi3O_2L",
        "outputId": "a649c08a-17ff-4511-e46f-3fc87d239884"
      },
      "execution_count": null,
      "outputs": [
        {
          "output_type": "stream",
          "name": "stdout",
          "text": [
            "C\n"
          ]
        }
      ]
    },
    {
      "cell_type": "code",
      "source": [
        "grade=33"
      ],
      "metadata": {
        "id": "WXexd_oFPLk7"
      },
      "execution_count": null,
      "outputs": []
    },
    {
      "cell_type": "code",
      "source": [
        "if grade >= 90:\n",
        "    print('A')\n",
        "elif grade >= 80:\n",
        "    print('B')\n",
        "elif grade >= 70:\n",
        "    print('C')\n",
        "elif grade >= 60:\n",
        "    print('D')"
      ],
      "metadata": {
        "id": "Z1iS_tJnPNbo"
      },
      "execution_count": null,
      "outputs": []
    },
    {
      "cell_type": "markdown",
      "source": [
        "# 4 Declaração While"
      ],
      "metadata": {
        "id": "dtcYQPS_iLOy"
      }
    },
    {
      "cell_type": "code",
      "source": [
        "product = 3"
      ],
      "metadata": {
        "id": "ulzh3UlMiHN1"
      },
      "execution_count": null,
      "outputs": []
    },
    {
      "cell_type": "code",
      "source": [
        "while product <= 50:\n",
        "  product = product * 3    "
      ],
      "metadata": {
        "id": "HKR15yBDiSI9"
      },
      "execution_count": null,
      "outputs": []
    },
    {
      "cell_type": "code",
      "source": [
        "product"
      ],
      "metadata": {
        "id": "VjwzJJSuiUDd",
        "colab": {
          "base_uri": "https://localhost:8080/"
        },
        "outputId": "35bb2785-3ffe-4aa0-f4c5-f852c0c4b3bc"
      },
      "execution_count": null,
      "outputs": [
        {
          "output_type": "execute_result",
          "data": {
            "text/plain": [
              "81"
            ]
          },
          "metadata": {},
          "execution_count": 48
        }
      ]
    },
    {
      "cell_type": "markdown",
      "source": [
        "##Atividade "
      ],
      "metadata": {
        "id": "t4D9vgvNiogc"
      }
    },
    {
      "cell_type": "markdown",
      "source": [
        "Escreva instruções para determinar a primeira potência de 7 maior que 1000. (7 x 7 x 7...)"
      ],
      "metadata": {
        "id": "jryZMGPPCwqb"
      }
    },
    {
      "cell_type": "code",
      "source": [
        "7 * 7 * 7"
      ],
      "metadata": {
        "colab": {
          "base_uri": "https://localhost:8080/"
        },
        "id": "pA541vAJP0Kj",
        "outputId": "ba77ea00-e48e-45d8-8bbf-65ef822ba38c"
      },
      "execution_count": null,
      "outputs": [
        {
          "output_type": "execute_result",
          "data": {
            "text/plain": [
              "343"
            ]
          },
          "metadata": {},
          "execution_count": 50
        }
      ]
    },
    {
      "cell_type": "code",
      "source": [
        "product = 7\n",
        "while product <= 1000:\n",
        "  product = product * 7 "
      ],
      "metadata": {
        "id": "R1cYxj6eQec9"
      },
      "execution_count": null,
      "outputs": []
    },
    {
      "cell_type": "code",
      "source": [
        "product"
      ],
      "metadata": {
        "colab": {
          "base_uri": "https://localhost:8080/"
        },
        "id": "ybxVsVu8QqHe",
        "outputId": "c744459d-bf59-4bf7-b054-bf25c6bec59f"
      },
      "execution_count": null,
      "outputs": [
        {
          "output_type": "execute_result",
          "data": {
            "text/plain": [
              "2401"
            ]
          },
          "metadata": {},
          "execution_count": 52
        }
      ]
    },
    {
      "cell_type": "markdown",
      "source": [
        "# 5 Declação for"
      ],
      "metadata": {
        "id": "4QOY2mKBiZ9l"
      }
    },
    {
      "cell_type": "code",
      "source": [
        "for character in 'Programming':\n",
        "    print(character)"
      ],
      "metadata": {
        "id": "HElUCMwaib-w",
        "colab": {
          "base_uri": "https://localhost:8080/"
        },
        "outputId": "dc1d1c0a-5d45-43de-dcba-dcbd3bbc4473"
      },
      "execution_count": null,
      "outputs": [
        {
          "output_type": "stream",
          "name": "stdout",
          "text": [
            "P\n",
            "r\n",
            "o\n",
            "g\n",
            "r\n",
            "a\n",
            "m\n",
            "m\n",
            "i\n",
            "n\n",
            "g\n"
          ]
        }
      ]
    },
    {
      "cell_type": "code",
      "source": [
        "for character in 'Programming':\n",
        "    print(character, end='  ')"
      ],
      "metadata": {
        "colab": {
          "base_uri": "https://localhost:8080/"
        },
        "id": "s_YSO2eqQqgr",
        "outputId": "e076137b-9b9f-481d-f260-c8e3b6d1aa62"
      },
      "execution_count": null,
      "outputs": [
        {
          "output_type": "stream",
          "name": "stdout",
          "text": [
            "P  r  o  g  r  a  m  m  i  n  g  "
          ]
        }
      ]
    },
    {
      "cell_type": "code",
      "source": [
        "for letra in 'Programming':\n",
        "    print(letra, end=' - ')"
      ],
      "metadata": {
        "colab": {
          "base_uri": "https://localhost:8080/"
        },
        "id": "fZBe2qTaRJZn",
        "outputId": "7db89ddf-ef07-4330-da24-7f52c060e04f"
      },
      "execution_count": null,
      "outputs": [
        {
          "output_type": "stream",
          "name": "stdout",
          "text": [
            "P - r - o - g - r - a - m - m - i - n - g - "
          ]
        }
      ]
    },
    {
      "cell_type": "code",
      "source": [
        "print?"
      ],
      "metadata": {
        "id": "t1LReZl4RN3a"
      },
      "execution_count": null,
      "outputs": []
    },
    {
      "cell_type": "markdown",
      "source": [
        "A função interna print exibe seu(s) argumento(s) e, em seguida, move o cursor para a próxima linha. Você pode alterar esse comportamento com o argumento end"
      ],
      "metadata": {
        "id": "rXeSUAagjPGF"
      }
    },
    {
      "cell_type": "code",
      "source": [
        "print(10, 20, 30)"
      ],
      "metadata": {
        "colab": {
          "base_uri": "https://localhost:8080/"
        },
        "id": "HQkiBWriRncZ",
        "outputId": "8e699c47-3d5d-43e4-a17d-9082a2fc7fe1"
      },
      "execution_count": null,
      "outputs": [
        {
          "output_type": "stream",
          "name": "stdout",
          "text": [
            "10 20 30\n"
          ]
        }
      ]
    },
    {
      "cell_type": "code",
      "source": [
        "print(10, 20, 30, sep=', ')"
      ],
      "metadata": {
        "id": "9jZ2UeJnjP_Y",
        "colab": {
          "base_uri": "https://localhost:8080/"
        },
        "outputId": "374b1eb4-7089-48ee-e462-f442da7bf64b"
      },
      "execution_count": null,
      "outputs": [
        {
          "output_type": "stream",
          "name": "stdout",
          "text": [
            "10, 20, 30\n"
          ]
        }
      ]
    },
    {
      "cell_type": "markdown",
      "source": [
        "##Iteráveis, listas e iteradores"
      ],
      "metadata": {
        "id": "P5SPIsl0jbwR"
      }
    },
    {
      "cell_type": "markdown",
      "source": [
        "Um iterável é um objeto do qual a instrução for pode pegar um item por vez até que não restem mais itens."
      ],
      "metadata": {
        "id": "4Qqsk9A5kgzO"
      }
    },
    {
      "cell_type": "code",
      "source": [
        "total = 0"
      ],
      "metadata": {
        "id": "6Sc8vHuGjhHM"
      },
      "execution_count": null,
      "outputs": []
    },
    {
      "cell_type": "code",
      "source": [
        "for number in [2, -3, 0, 17, 9]: #lista não é array\n",
        "    total = total + number"
      ],
      "metadata": {
        "id": "OZbBVYZZjnxL"
      },
      "execution_count": null,
      "outputs": []
    },
    {
      "cell_type": "code",
      "source": [
        "total"
      ],
      "metadata": {
        "id": "CDydmczujplE",
        "colab": {
          "base_uri": "https://localhost:8080/"
        },
        "outputId": "6283225e-b2a8-4e49-d8e5-d13dc572871d"
      },
      "execution_count": null,
      "outputs": [
        {
          "output_type": "execute_result",
          "data": {
            "text/plain": [
              "25"
            ]
          },
          "metadata": {},
          "execution_count": 63
        }
      ]
    },
    {
      "cell_type": "markdown",
      "source": [
        "Uma lista é diferente de um array. Uma lista permite objetos de tipos diferentes."
      ],
      "metadata": {
        "id": "qkyVzQQ2k4Xk"
      }
    },
    {
      "cell_type": "markdown",
      "source": [
        "##A função range"
      ],
      "metadata": {
        "id": "fsZldcSVj8Kj"
      }
    },
    {
      "cell_type": "code",
      "source": [
        "range(10)"
      ],
      "metadata": {
        "id": "WG4hrqGVSaDW"
      },
      "execution_count": null,
      "outputs": []
    },
    {
      "cell_type": "code",
      "source": [
        "type(range(10))"
      ],
      "metadata": {
        "colab": {
          "base_uri": "https://localhost:8080/"
        },
        "id": "9gj51q01SRr-",
        "outputId": "d8fc7a80-1c2c-4a5d-8f07-af2a0d81489b"
      },
      "execution_count": null,
      "outputs": [
        {
          "output_type": "execute_result",
          "data": {
            "text/plain": [
              "range"
            ]
          },
          "metadata": {},
          "execution_count": 65
        }
      ]
    },
    {
      "cell_type": "code",
      "source": [
        "for counter in range(10):\n",
        "    print(counter, end=' ')"
      ],
      "metadata": {
        "id": "qqdMDZ3gkBwo",
        "colab": {
          "base_uri": "https://localhost:8080/"
        },
        "outputId": "4881d4da-a7d9-46cc-a0a4-b98eb71d0b0d"
      },
      "execution_count": null,
      "outputs": [
        {
          "output_type": "stream",
          "name": "stdout",
          "text": [
            "0 1 2 3 4 5 6 7 8 9 "
          ]
        }
      ]
    },
    {
      "cell_type": "markdown",
      "source": [
        "observar que só gerou até o 9"
      ],
      "metadata": {
        "id": "oSM9ecf-kSI6"
      }
    },
    {
      "cell_type": "markdown",
      "source": [
        "# 6 Atribuições ampliadas"
      ],
      "metadata": {
        "id": "EXrJ87NjlP8p"
      }
    },
    {
      "cell_type": "code",
      "source": [
        "total = 0"
      ],
      "metadata": {
        "id": "VeihQAIblTj1"
      },
      "execution_count": null,
      "outputs": []
    },
    {
      "cell_type": "code",
      "source": [
        "total = total + 1"
      ],
      "metadata": {
        "id": "VGEZGCnAS4r-"
      },
      "execution_count": null,
      "outputs": []
    },
    {
      "cell_type": "code",
      "source": [
        "total"
      ],
      "metadata": {
        "colab": {
          "base_uri": "https://localhost:8080/"
        },
        "id": "gnw2T1vZS77A",
        "outputId": "e14915f4-49ff-431a-a4fd-06a374decf3c"
      },
      "execution_count": null,
      "outputs": [
        {
          "output_type": "execute_result",
          "data": {
            "text/plain": [
              "1"
            ]
          },
          "metadata": {},
          "execution_count": 69
        }
      ]
    },
    {
      "cell_type": "code",
      "source": [
        "total += 1"
      ],
      "metadata": {
        "id": "LvwGR3W8S9LU"
      },
      "execution_count": null,
      "outputs": []
    },
    {
      "cell_type": "code",
      "source": [
        "total"
      ],
      "metadata": {
        "colab": {
          "base_uri": "https://localhost:8080/"
        },
        "id": "x-cugYDjTAaP",
        "outputId": "0bfc1744-1642-482d-dff1-1c966718fd56"
      },
      "execution_count": null,
      "outputs": [
        {
          "output_type": "execute_result",
          "data": {
            "text/plain": [
              "2"
            ]
          },
          "metadata": {},
          "execution_count": 71
        }
      ]
    },
    {
      "cell_type": "code",
      "source": [
        "total=0"
      ],
      "metadata": {
        "id": "zspVukC2TPWs"
      },
      "execution_count": null,
      "outputs": []
    },
    {
      "cell_type": "code",
      "source": [
        "for number in [1, 2, 3, 4, 5]:\n",
        "    total += number  # add number to total and store in number"
      ],
      "metadata": {
        "id": "445DVRbLlVDF"
      },
      "execution_count": null,
      "outputs": []
    },
    {
      "cell_type": "code",
      "source": [
        "total"
      ],
      "metadata": {
        "id": "8lzknhCIlWNp",
        "colab": {
          "base_uri": "https://localhost:8080/"
        },
        "outputId": "897d1f37-d9c5-4189-ee7b-c6deea7fa763"
      },
      "execution_count": null,
      "outputs": [
        {
          "output_type": "execute_result",
          "data": {
            "text/plain": [
              "15"
            ]
          },
          "metadata": {},
          "execution_count": 80
        }
      ]
    },
    {
      "cell_type": "markdown",
      "source": [
        "## Atividade"
      ],
      "metadata": {
        "id": "pGa1SjrnlXeR"
      }
    },
    {
      "cell_type": "markdown",
      "source": [
        "Crie uma variável x com o valor 12. Use uma instrução de atribuição de exponenciação aumentada para elevar o valor de x ao quadrado. Mostre o novo valor de x."
      ],
      "metadata": {
        "id": "CMp3A552C-4j"
      }
    },
    {
      "cell_type": "markdown",
      "source": [
        "Resposta"
      ],
      "metadata": {
        "id": "jJL7R2iX8HqK"
      }
    },
    {
      "cell_type": "code",
      "source": [
        "x = 12"
      ],
      "metadata": {
        "id": "5_AWp2E9RUdK"
      },
      "execution_count": null,
      "outputs": []
    },
    {
      "cell_type": "code",
      "source": [
        "x ** 2"
      ],
      "metadata": {
        "colab": {
          "base_uri": "https://localhost:8080/"
        },
        "id": "cHUTW8V7TWYC",
        "outputId": "32214a3f-3985-4379-d99f-4c80ae1bd510"
      },
      "execution_count": null,
      "outputs": [
        {
          "output_type": "execute_result",
          "data": {
            "text/plain": [
              "144"
            ]
          },
          "metadata": {},
          "execution_count": 82
        }
      ]
    },
    {
      "cell_type": "code",
      "source": [
        "x **= 2"
      ],
      "metadata": {
        "id": "tDtFKbNgThQy"
      },
      "execution_count": null,
      "outputs": []
    },
    {
      "cell_type": "code",
      "source": [
        "x"
      ],
      "metadata": {
        "colab": {
          "base_uri": "https://localhost:8080/"
        },
        "id": "5p71VIvbTk-q",
        "outputId": "c2d5b8f9-9496-4a2f-e1bf-545edb1622f7"
      },
      "execution_count": null,
      "outputs": [
        {
          "output_type": "execute_result",
          "data": {
            "text/plain": [
              "144"
            ]
          },
          "metadata": {},
          "execution_count": 84
        }
      ]
    },
    {
      "cell_type": "markdown",
      "source": [
        "#7 Desenvolvimento do Programa: Repetição Controlada por Sequência"
      ],
      "metadata": {
        "id": "fsVm7C0-ljK2"
      }
    },
    {
      "cell_type": "code",
      "source": [
        "\"\"\"Class average program with sequence-controlled repetition.\"\"\"\n",
        "# initialization phase\n",
        "total = 0 # sum of grades\n",
        "grade_counter = 0\n",
        "grades = [98, 76, 71, 87, 83, 90, 57, 79, 82, 94] # list of 10 grades\n",
        "\n",
        "# processing phase\n",
        "for grade in grades:\n",
        "    total += grade # add current grade to the running total\n",
        "    grade_counter += 1 # indicate that one more grade was processed\n",
        "# termination phase\n",
        "average = total / grade_counter\n",
        "print(f'A média da classe é {average}')"
      ],
      "metadata": {
        "id": "eHoTwj1GmWdo",
        "colab": {
          "base_uri": "https://localhost:8080/"
        },
        "outputId": "4a1e44a1-9cdc-41cf-d5de-a15b7d156cd6"
      },
      "execution_count": null,
      "outputs": [
        {
          "output_type": "stream",
          "name": "stdout",
          "text": [
            "A média da classe é 81.7\n"
          ]
        }
      ]
    },
    {
      "cell_type": "markdown",
      "source": [
        "f-string"
      ],
      "metadata": {
        "id": "gYxEm-rdTx8b"
      }
    },
    {
      "cell_type": "markdown",
      "source": [
        "##Atividade - Exiba uma f-string na qual você insere os valores das variáveis\n",
        "número1 (7) e número2 (5) e seu produto. A string exibida deve ser \n",
        "> 7 vezes 5 é 35\n",
        "\n",
        "\n",
        "\n"
      ],
      "metadata": {
        "id": "_DfW9Xeum2MY"
      }
    },
    {
      "cell_type": "markdown",
      "source": [
        "Resposta"
      ],
      "metadata": {
        "id": "IkNVPyRJ8VOB"
      }
    },
    {
      "cell_type": "code",
      "source": [
        "numero1 = 7\n",
        "numero2 = 5\n",
        "\n",
        "print(f'{numero1} vezes {numero2} é {numero1 * numero2}')\n"
      ],
      "metadata": {
        "colab": {
          "base_uri": "https://localhost:8080/"
        },
        "id": "bLAD2RmTTlZ6",
        "outputId": "26205daf-9f04-4a1a-c4c9-f2fc79d16518"
      },
      "execution_count": null,
      "outputs": [
        {
          "output_type": "stream",
          "name": "stdout",
          "text": [
            "7 vezes 5 é 35\n"
          ]
        }
      ]
    },
    {
      "cell_type": "code",
      "source": [],
      "metadata": {
        "id": "R_moznETUvln"
      },
      "execution_count": null,
      "outputs": []
    },
    {
      "cell_type": "markdown",
      "source": [
        "# 8 Desenvolvimento do Programa: Repetição Controlada Sentinela"
      ],
      "metadata": {
        "id": "MdqyYzn0nTqh"
      }
    },
    {
      "cell_type": "code",
      "source": [
        "\"\"\"Class average program with sentinel-controlled iteration.\"\"\"\n",
        "\n",
        "# initialization phase\n",
        "total = 0  # sum of grades\n",
        "grade_counter = 0  # number of grades entered\n",
        "\n",
        "# processing phase\n",
        "grade = int(input('Entre uma nota, -1 para encerrar: '))  # get one grade\n",
        "\n",
        "while grade != -1: #sentinela\n",
        "    total += grade\n",
        "    grade_counter += 1\n",
        "    grade = int(input('Enter grade, -1 to end: '))\n",
        "\n",
        "# termination phase\n",
        "if grade_counter != 0:\n",
        "    average = total / grade_counter\n",
        "    print(f'Class average is {average:.2f}')\n",
        "else:\n",
        "    print('No grades were entered')"
      ],
      "metadata": {
        "id": "B3yBRDVonLKm",
        "colab": {
          "base_uri": "https://localhost:8080/"
        },
        "outputId": "9c4167f7-9c8f-42f3-b8ed-684ef16d916a"
      },
      "execution_count": null,
      "outputs": [
        {
          "output_type": "stream",
          "name": "stdout",
          "text": [
            "Entre uma nota, -1 para encerrar: 8\n",
            "Enter grade, -1 to end: 9\n",
            "Enter grade, -1 to end: 8\n",
            "Enter grade, -1 to end: -1\n",
            "Class average is 8.333333333333334\n"
          ]
        }
      ]
    },
    {
      "cell_type": "markdown",
      "source": [
        "# 9 Desenvolvimento do Programa: Declarações de Controle Aninhadas"
      ],
      "metadata": {
        "id": "e4CsS-xhn_Ib"
      }
    },
    {
      "cell_type": "code",
      "source": [
        "\"\"\"Using nested control statements to analyze examination results.\"\"\"\n",
        "\n",
        "# initialize variables\n",
        "passes = 0  # number of passes\n",
        "failures = 0  # number of failures\n",
        "\n",
        "# process 10 students\n",
        "for student in range(10):\n",
        "    # get one exam result\n",
        "    result = int(input('Enter result (1=pass, 2=fail): '))\n",
        "\n",
        "    if result == 1:\n",
        "        passes = passes + 1\n",
        "    else:\n",
        "        failures = failures + 1\n",
        "\n",
        "# termination phase\n",
        "print('Passed:', passes)\n",
        "print('Failed:', failures)\n",
        "\n",
        "if passes > 8:\n",
        "    print('Bonus to instructor')"
      ],
      "metadata": {
        "id": "TMhznyNdneS9"
      },
      "execution_count": null,
      "outputs": []
    },
    {
      "cell_type": "markdown",
      "source": [
        "Observar a formatação do objeto average com duas casas decimais"
      ],
      "metadata": {
        "id": "fyn0PRmSnk3O"
      }
    },
    {
      "cell_type": "markdown",
      "source": [
        "##Atividade - Use uma instrução for para receber dois números inteiros. Use uma instrução if…else aninhada para exibir se cada valor é par ou ímpar. Digite 10 e 7 para testar seu código."
      ],
      "metadata": {
        "id": "V7Nxmf5YoYoH"
      }
    },
    {
      "cell_type": "markdown",
      "source": [
        "Resposta"
      ],
      "metadata": {
        "id": "mfJG2rc_8l1U"
      }
    },
    {
      "cell_type": "code",
      "source": [
        "valor = input(\"Entre um inteiro: \")"
      ],
      "metadata": {
        "colab": {
          "base_uri": "https://localhost:8080/"
        },
        "id": "0ubzlWupWEP-",
        "outputId": "5a2a0092-102b-4683-d82e-3249086de282"
      },
      "execution_count": null,
      "outputs": [
        {
          "name": "stdout",
          "output_type": "stream",
          "text": [
            "Entre um inteiro: 8\n"
          ]
        }
      ]
    },
    {
      "cell_type": "code",
      "source": [
        "valor"
      ],
      "metadata": {
        "colab": {
          "base_uri": "https://localhost:8080/",
          "height": 35
        },
        "id": "aacXrQznWHDN",
        "outputId": "bb2a71f8-d3e2-42b1-f7b4-02ef6f64a0ab"
      },
      "execution_count": null,
      "outputs": [
        {
          "output_type": "execute_result",
          "data": {
            "text/plain": [
              "'8'"
            ],
            "application/vnd.google.colaboratory.intrinsic+json": {
              "type": "string"
            }
          },
          "metadata": {},
          "execution_count": 90
        }
      ]
    },
    {
      "cell_type": "code",
      "source": [
        "type(valor)"
      ],
      "metadata": {
        "colab": {
          "base_uri": "https://localhost:8080/"
        },
        "id": "Jw7Ro7FJWKwC",
        "outputId": "4ac827d1-36b1-42d2-fcdf-acf889257651"
      },
      "execution_count": null,
      "outputs": [
        {
          "output_type": "execute_result",
          "data": {
            "text/plain": [
              "str"
            ]
          },
          "metadata": {},
          "execution_count": 91
        }
      ]
    },
    {
      "cell_type": "code",
      "source": [
        "int(valor)"
      ],
      "metadata": {
        "colab": {
          "base_uri": "https://localhost:8080/"
        },
        "id": "OFt75wVuWN5c",
        "outputId": "99c3e4fe-466c-45c0-e597-6faf8f5cf031"
      },
      "execution_count": null,
      "outputs": [
        {
          "output_type": "execute_result",
          "data": {
            "text/plain": [
              "8"
            ]
          },
          "metadata": {},
          "execution_count": 92
        }
      ]
    },
    {
      "cell_type": "code",
      "source": [
        "for contador in range(2):\n",
        "  valor = int(input(\"Entre um inteiro: \"))\n",
        "  if valor % 2 == 0:\n",
        "    print(f'{valor} é par')\n",
        "  else:\n",
        "    print(f'{valor} é impar')"
      ],
      "metadata": {
        "colab": {
          "base_uri": "https://localhost:8080/"
        },
        "id": "OH6RR7LNV5jR",
        "outputId": "03751f3b-a376-4ef7-96f2-4ad54d5115a8"
      },
      "execution_count": null,
      "outputs": [
        {
          "output_type": "stream",
          "name": "stdout",
          "text": [
            "Entre um inteiro: 4\n",
            "4 é par\n",
            "Entre um inteiro: 5\n",
            "5 é impar\n"
          ]
        }
      ]
    },
    {
      "cell_type": "markdown",
      "source": [
        "#10 A função interna range: mais detalhes"
      ],
      "metadata": {
        "id": "g5MnC0TqoeOi"
      }
    },
    {
      "cell_type": "code",
      "source": [
        "for number in range(5, 10):\n",
        "    print(number, end=' ')"
      ],
      "metadata": {
        "id": "_WiZzw3kojKD",
        "colab": {
          "base_uri": "https://localhost:8080/"
        },
        "outputId": "3a0a400e-a517-45da-fe37-44f439c8bcd5"
      },
      "execution_count": null,
      "outputs": [
        {
          "output_type": "stream",
          "name": "stdout",
          "text": [
            "5 6 7 8 9 "
          ]
        }
      ]
    },
    {
      "cell_type": "code",
      "source": [
        "for number in range(0, 10, 2):\n",
        "    print(number, end=' ')"
      ],
      "metadata": {
        "id": "AcazQ2KKokYN",
        "colab": {
          "base_uri": "https://localhost:8080/"
        },
        "outputId": "dbbd2e89-fd15-4022-b77d-78bc0b112497"
      },
      "execution_count": null,
      "outputs": [
        {
          "output_type": "stream",
          "name": "stdout",
          "text": [
            "0 2 4 6 8 "
          ]
        }
      ]
    },
    {
      "cell_type": "code",
      "source": [
        "for number in range(10, 0, -2):\n",
        "    print(number, end=' ')"
      ],
      "metadata": {
        "id": "zy2YXTTKolhK",
        "colab": {
          "base_uri": "https://localhost:8080/"
        },
        "outputId": "20e3e9db-7bf4-45af-d657-d0fb99f2cade"
      },
      "execution_count": null,
      "outputs": [
        {
          "output_type": "stream",
          "name": "stdout",
          "text": [
            "10 8 6 4 2 "
          ]
        }
      ]
    },
    {
      "cell_type": "markdown",
      "source": [
        "##Atividade - Use uma instrução for, range e print para exibir em uma linha a\n",
        "sequência de valores 99 88 77 66 55 44 33 22 11 0, cada um separado por um espaço."
      ],
      "metadata": {
        "id": "g6gfJopRo0ZM"
      }
    },
    {
      "cell_type": "markdown",
      "source": [
        "Resposta"
      ],
      "metadata": {
        "id": "z8T-3Zof89KX"
      }
    },
    {
      "cell_type": "code",
      "source": [
        "for number in range(99, -1, -11):\n",
        "    print(number, end=' ')"
      ],
      "metadata": {
        "colab": {
          "base_uri": "https://localhost:8080/"
        },
        "id": "uQrYyo7nXRh8",
        "outputId": "6619f0ec-67e5-4c30-c032-3cfa8e84df19"
      },
      "execution_count": null,
      "outputs": [
        {
          "output_type": "stream",
          "name": "stdout",
          "text": [
            "99 88 77 66 55 44 33 22 11 0 "
          ]
        }
      ]
    },
    {
      "cell_type": "markdown",
      "source": [
        "#11 Usando o tipo decimal para valores monetários"
      ],
      "metadata": {
        "id": "nZjeufl2pKLX"
      }
    },
    {
      "cell_type": "code",
      "source": [
        "amount = 112.31"
      ],
      "metadata": {
        "id": "j_2U-AhSpNAY"
      },
      "execution_count": null,
      "outputs": []
    },
    {
      "cell_type": "code",
      "source": [
        "print(amount)"
      ],
      "metadata": {
        "id": "qDSY2RNOpODL",
        "colab": {
          "base_uri": "https://localhost:8080/"
        },
        "outputId": "2bca363a-9265-4846-ce86-896ec105797d"
      },
      "execution_count": null,
      "outputs": [
        {
          "output_type": "stream",
          "name": "stdout",
          "text": [
            "112.31\n"
          ]
        }
      ]
    },
    {
      "cell_type": "code",
      "source": [
        "print(f'{amount:.20f}')"
      ],
      "metadata": {
        "id": "eUIJFnLdpPE5",
        "colab": {
          "base_uri": "https://localhost:8080/"
        },
        "outputId": "59e0ff94-7cca-4383-c998-d7e41b529033"
      },
      "execution_count": null,
      "outputs": [
        {
          "output_type": "stream",
          "name": "stdout",
          "text": [
            "112.31000000000000227374\n"
          ]
        }
      ]
    },
    {
      "cell_type": "code",
      "source": [
        "type(amount)"
      ],
      "metadata": {
        "colab": {
          "base_uri": "https://localhost:8080/"
        },
        "id": "TMB1u_TcYU5Z",
        "outputId": "eafc9238-5610-4d53-9e3f-4ec2be2e9266"
      },
      "execution_count": null,
      "outputs": [
        {
          "output_type": "execute_result",
          "data": {
            "text/plain": [
              "float"
            ]
          },
          "metadata": {},
          "execution_count": 111
        }
      ]
    },
    {
      "cell_type": "code",
      "source": [
        "a = 0.2"
      ],
      "metadata": {
        "id": "oo-yeCuIXnZ1"
      },
      "execution_count": null,
      "outputs": []
    },
    {
      "cell_type": "code",
      "source": [
        "b = 0.1"
      ],
      "metadata": {
        "id": "0SBb0H1kXpbx"
      },
      "execution_count": null,
      "outputs": []
    },
    {
      "cell_type": "code",
      "source": [
        "a + b"
      ],
      "metadata": {
        "colab": {
          "base_uri": "https://localhost:8080/"
        },
        "id": "42Olrz20XrAY",
        "outputId": "8445b934-468b-436c-a338-23617f9200bf"
      },
      "execution_count": null,
      "outputs": [
        {
          "output_type": "execute_result",
          "data": {
            "text/plain": [
              "0.30000000000000004"
            ]
          },
          "metadata": {},
          "execution_count": 103
        }
      ]
    },
    {
      "cell_type": "markdown",
      "source": [
        "##importando o tipo Decimal do modulo decimal"
      ],
      "metadata": {
        "id": "7f-PmHtdpRhD"
      }
    },
    {
      "cell_type": "code",
      "source": [
        "from decimal import Decimal"
      ],
      "metadata": {
        "id": "od5kvCaGpU91"
      },
      "execution_count": null,
      "outputs": []
    },
    {
      "cell_type": "code",
      "source": [
        "principal = Decimal('1000.00')"
      ],
      "metadata": {
        "id": "M3tXxd-LpW6Y"
      },
      "execution_count": null,
      "outputs": []
    },
    {
      "cell_type": "code",
      "source": [
        "principal"
      ],
      "metadata": {
        "id": "hzcXmWi9pX1z",
        "colab": {
          "base_uri": "https://localhost:8080/"
        },
        "outputId": "4a2e26ed-0371-4ed4-b0a2-c4e0014a5427"
      },
      "execution_count": null,
      "outputs": [
        {
          "output_type": "execute_result",
          "data": {
            "text/plain": [
              "Decimal('1000.00')"
            ]
          },
          "metadata": {},
          "execution_count": 106
        }
      ]
    },
    {
      "cell_type": "code",
      "source": [
        "rate = Decimal('0.05')"
      ],
      "metadata": {
        "id": "fyEF4xHQpf0i"
      },
      "execution_count": null,
      "outputs": []
    },
    {
      "cell_type": "code",
      "source": [
        "rate"
      ],
      "metadata": {
        "id": "3PXWTeZwphIC",
        "colab": {
          "base_uri": "https://localhost:8080/"
        },
        "outputId": "7849c5e4-0edb-4269-ff0a-fe13ff62067c"
      },
      "execution_count": null,
      "outputs": [
        {
          "output_type": "execute_result",
          "data": {
            "text/plain": [
              "Decimal('0.05')"
            ]
          },
          "metadata": {},
          "execution_count": 108
        }
      ]
    },
    {
      "cell_type": "code",
      "source": [
        "rate = Decimal('0.3')\n",
        "rate"
      ],
      "metadata": {
        "colab": {
          "base_uri": "https://localhost:8080/"
        },
        "id": "oYnS5TxSX6_4",
        "outputId": "be32db00-84d5-48ee-bf37-0967ef62412a"
      },
      "execution_count": null,
      "outputs": [
        {
          "output_type": "execute_result",
          "data": {
            "text/plain": [
              "Decimal('0.3')"
            ]
          },
          "metadata": {},
          "execution_count": 109
        }
      ]
    },
    {
      "cell_type": "markdown",
      "source": [
        "# 12 Declarações break e continue"
      ],
      "metadata": {
        "id": "ycSuNxwMr7qN"
      }
    },
    {
      "cell_type": "code",
      "source": [
        "for number in range(100):\n",
        "    if number == 10:\n",
        "        break\n",
        "    print(number, end=' ')"
      ],
      "metadata": {
        "id": "AYoM3yhKr-gH",
        "colab": {
          "base_uri": "https://localhost:8080/"
        },
        "outputId": "9ffcfb1c-f5e0-4294-e498-bd8de581da49"
      },
      "execution_count": null,
      "outputs": [
        {
          "output_type": "stream",
          "name": "stdout",
          "text": [
            "0 1 2 3 4 5 6 7 8 9 "
          ]
        }
      ]
    },
    {
      "cell_type": "code",
      "source": [
        "for number in range(10):\n",
        "    if number == 5:\n",
        "        continue\n",
        "    print(number, end=' ')"
      ],
      "metadata": {
        "id": "LTxK2w3rsDRM",
        "colab": {
          "base_uri": "https://localhost:8080/"
        },
        "outputId": "d1acd666-4257-44d7-81ef-6de47347f308"
      },
      "execution_count": null,
      "outputs": [
        {
          "output_type": "stream",
          "name": "stdout",
          "text": [
            "0 1 2 3 4 6 7 8 9 "
          ]
        }
      ]
    },
    {
      "cell_type": "markdown",
      "source": [
        "#Operadores booleanos and, or e not\n",
        "\n",
        "\n"
      ],
      "metadata": {
        "id": "pYbsCL6-sKpH"
      }
    },
    {
      "cell_type": "markdown",
      "source": [
        "##and"
      ],
      "metadata": {
        "id": "rO6G-uCDsXHM"
      }
    },
    {
      "cell_type": "code",
      "source": [
        "gender = 'Female'"
      ],
      "metadata": {
        "id": "EK3Ar2QVsTN2"
      },
      "execution_count": null,
      "outputs": []
    },
    {
      "cell_type": "code",
      "source": [
        "age = 70"
      ],
      "metadata": {
        "id": "0dtYAqf9sYfX"
      },
      "execution_count": null,
      "outputs": []
    },
    {
      "cell_type": "code",
      "source": [
        "if gender == 'Female' and age >= 65:\n",
        "    print('Senior female')"
      ],
      "metadata": {
        "id": "a_haVpPQsaeq",
        "colab": {
          "base_uri": "https://localhost:8080/"
        },
        "outputId": "cb7862bd-f899-488f-bec4-f50a11fc55c0"
      },
      "execution_count": null,
      "outputs": [
        {
          "output_type": "stream",
          "name": "stdout",
          "text": [
            "Senior female\n"
          ]
        }
      ]
    },
    {
      "cell_type": "markdown",
      "source": [
        "##or"
      ],
      "metadata": {
        "id": "KKZSXI1fsbXR"
      }
    },
    {
      "cell_type": "code",
      "source": [
        "semester_average = 83"
      ],
      "metadata": {
        "id": "lCxReV0LsdcI"
      },
      "execution_count": null,
      "outputs": []
    },
    {
      "cell_type": "code",
      "source": [
        "final_exam = 95"
      ],
      "metadata": {
        "id": "MbZnrFwrsfst"
      },
      "execution_count": null,
      "outputs": []
    },
    {
      "cell_type": "code",
      "source": [
        "if semester_average >= 90 or final_exam >= 90:\n",
        "    print('Student gets an A')"
      ],
      "metadata": {
        "id": "EtaCnr9-sg6B",
        "colab": {
          "base_uri": "https://localhost:8080/"
        },
        "outputId": "9966f776-c380-45a3-ecd8-89a52ea758c6"
      },
      "execution_count": null,
      "outputs": [
        {
          "output_type": "stream",
          "name": "stdout",
          "text": [
            "Student gets an A\n"
          ]
        }
      ]
    },
    {
      "cell_type": "markdown",
      "source": [
        "##not"
      ],
      "metadata": {
        "id": "SFnFkks9sjnS"
      }
    },
    {
      "cell_type": "code",
      "source": [
        "grade = 87"
      ],
      "metadata": {
        "id": "_f_59A2Nshz-"
      },
      "execution_count": null,
      "outputs": []
    },
    {
      "cell_type": "code",
      "source": [
        "if not grade == -1:\n",
        "   print('The next grade is', grade)"
      ],
      "metadata": {
        "id": "eZugvRqPsmC2",
        "colab": {
          "base_uri": "https://localhost:8080/"
        },
        "outputId": "4c196fb3-a9c8-4cb9-cd03-39206eb567e0"
      },
      "execution_count": null,
      "outputs": [
        {
          "output_type": "stream",
          "name": "stdout",
          "text": [
            "The next grade is 87\n"
          ]
        }
      ]
    },
    {
      "cell_type": "code",
      "source": [
        "if grade != -1:\n",
        "   print('The next grade is', grade)"
      ],
      "metadata": {
        "id": "oPJ1NFRTsnMb",
        "colab": {
          "base_uri": "https://localhost:8080/"
        },
        "outputId": "5ee9b8c2-e492-4ed5-e820-fae37af068c1"
      },
      "execution_count": null,
      "outputs": [
        {
          "output_type": "stream",
          "name": "stdout",
          "text": [
            "The next grade is 87\n"
          ]
        }
      ]
    },
    {
      "cell_type": "markdown",
      "source": [
        "#13 Introdução à Ciência de Dados: Medidas de Tendência Central - Média, Mediana e Moda"
      ],
      "metadata": {
        "id": "nLpJak7ltZxI"
      }
    },
    {
      "cell_type": "markdown",
      "source": [
        "Variáveis com dados medidos ou de contagem podem ter milhares de valores distintos. \n",
        "\n",
        "Uma etapa básica na exploração de seus dados é obter um “valor típico” para cada recurso (variável): uma estimativa de onde a maioria dos dados está localizada (ou seja, sua tendência central)."
      ],
      "metadata": {
        "id": "mWNcjs0oywaB"
      }
    },
    {
      "cell_type": "markdown",
      "source": [
        "* média — o valor médio em um conjunto de valores.\n",
        "* mediana — o valor do meio quando todos os valores são organizados em ordem de classificação.\n",
        "* moda — o valor que ocorre com mais frequência."
      ],
      "metadata": {
        "id": "z-HQQwlqtjxo"
      }
    },
    {
      "cell_type": "markdown",
      "source": [
        "###Média"
      ],
      "metadata": {
        "id": "BnoSrZg9otNx"
      }
    },
    {
      "cell_type": "markdown",
      "source": [
        "![image.png](data:image/png;base64,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)"
      ],
      "metadata": {
        "id": "Wrx8zCLvoaU7"
      }
    },
    {
      "cell_type": "markdown",
      "source": [
        "###Média em outra notação"
      ],
      "metadata": {
        "id": "-oV2NbrEtGz6"
      }
    },
    {
      "cell_type": "markdown",
      "source": [
        "![image.png](data:image/png;base64,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)"
      ],
      "metadata": {
        "id": "CJMorKa7s7t2"
      }
    },
    {
      "cell_type": "code",
      "source": [
        "grades = [85, 93, 45, 89, 85]"
      ],
      "metadata": {
        "id": "oNMwaMB1Zy0z"
      },
      "execution_count": null,
      "outputs": []
    },
    {
      "cell_type": "code",
      "source": [
        "sum(grades) "
      ],
      "metadata": {
        "colab": {
          "base_uri": "https://localhost:8080/"
        },
        "id": "IfFX_LYLZ6xW",
        "outputId": "d2c38cfc-8026-4996-b0fd-a9a0dcbdb135"
      },
      "execution_count": null,
      "outputs": [
        {
          "output_type": "execute_result",
          "data": {
            "text/plain": [
              "397"
            ]
          },
          "metadata": {},
          "execution_count": 123
        }
      ]
    },
    {
      "cell_type": "code",
      "source": [
        "len(grades)"
      ],
      "metadata": {
        "colab": {
          "base_uri": "https://localhost:8080/"
        },
        "id": "IDCV-1W0Z8f3",
        "outputId": "2e2b0369-f6c5-4342-9820-6e5a6cb69aae"
      },
      "execution_count": null,
      "outputs": [
        {
          "output_type": "execute_result",
          "data": {
            "text/plain": [
              "5"
            ]
          },
          "metadata": {},
          "execution_count": 124
        }
      ]
    },
    {
      "cell_type": "code",
      "source": [
        "sum(grades) / len(grades)"
      ],
      "metadata": {
        "colab": {
          "base_uri": "https://localhost:8080/"
        },
        "id": "Stm452M4ZzMg",
        "outputId": "bb97d014-4e99-42bd-c2b0-5c87a996f661"
      },
      "execution_count": null,
      "outputs": [
        {
          "output_type": "execute_result",
          "data": {
            "text/plain": [
              "79.4"
            ]
          },
          "metadata": {},
          "execution_count": 125
        }
      ]
    },
    {
      "cell_type": "code",
      "source": [
        "import statistics"
      ],
      "metadata": {
        "id": "Tx5miBxAZ_x7"
      },
      "execution_count": null,
      "outputs": []
    },
    {
      "cell_type": "code",
      "source": [
        "statistics.mean(grades)"
      ],
      "metadata": {
        "colab": {
          "base_uri": "https://localhost:8080/"
        },
        "id": "eFmcIYrRaE8W",
        "outputId": "6b7857cc-6059-454c-ac89-59f9b9c83d2f"
      },
      "execution_count": null,
      "outputs": [
        {
          "output_type": "execute_result",
          "data": {
            "text/plain": [
              "79.4"
            ]
          },
          "metadata": {},
          "execution_count": 127
        }
      ]
    },
    {
      "cell_type": "markdown",
      "source": [
        "###Mediana"
      ],
      "metadata": {
        "id": "1_qjOvzxsowm"
      }
    },
    {
      "cell_type": "markdown",
      "source": [
        "Comparada com a média, que usa todas as observações, a mediana depende apenas dos valores no centro dos dados ordenados."
      ],
      "metadata": {
        "id": "N8ea6Edey_J0"
      }
    },
    {
      "cell_type": "markdown",
      "source": [
        "Para calcular a mediana:\n",
        "\n",
        "* Devemos ordenar o conjunto de dados em ordem crescente;\n",
        "* Se o número de elementos for par, então a mediana é a média dos dois valores centrais. Soma os dois valores centrais e divide o resultado por 2: (a + b)/2.\n",
        "* Se o número de elementos for ímpar, então a mediana é o valor central."
      ],
      "metadata": {
        "id": "SwRdUz7Vsqaw"
      }
    },
    {
      "cell_type": "markdown",
      "source": [
        "A mediana é referida como uma estimativa robusta de localização, uma vez que não é influenciada por outliers (casos extremos) que podem distorcer os resultados. Um outlier é qualquer valor que esteja muito distante dos outros valores em um conjunto de dados."
      ],
      "metadata": {
        "id": "s0qbS9OSzSdS"
      }
    },
    {
      "cell_type": "code",
      "source": [
        "statistics.median(grades)"
      ],
      "metadata": {
        "colab": {
          "base_uri": "https://localhost:8080/"
        },
        "id": "RMMis_8iazC5",
        "outputId": "21e966c0-c9a5-499e-f4ae-cd993be51464"
      },
      "execution_count": null,
      "outputs": [
        {
          "output_type": "execute_result",
          "data": {
            "text/plain": [
              "85"
            ]
          },
          "metadata": {},
          "execution_count": 129
        }
      ]
    },
    {
      "cell_type": "code",
      "source": [
        "grades = [85, 93, 45, 89, 85, 889]"
      ],
      "metadata": {
        "id": "0Gbun0qva4aj"
      },
      "execution_count": null,
      "outputs": []
    },
    {
      "cell_type": "code",
      "source": [
        "statistics.mean(grades)"
      ],
      "metadata": {
        "colab": {
          "base_uri": "https://localhost:8080/"
        },
        "id": "_-EdqEWba7lQ",
        "outputId": "cc33cbd5-7775-48ee-faa5-d56613424977"
      },
      "execution_count": null,
      "outputs": [
        {
          "output_type": "execute_result",
          "data": {
            "text/plain": [
              "214.33333333333334"
            ]
          },
          "metadata": {},
          "execution_count": 131
        }
      ]
    },
    {
      "cell_type": "code",
      "source": [
        "statistics.median(grades)"
      ],
      "metadata": {
        "colab": {
          "base_uri": "https://localhost:8080/"
        },
        "id": "CYwIcbCoa8_y",
        "outputId": "a1ee9ca6-85e5-40f7-e4f3-b86c9db90abf"
      },
      "execution_count": null,
      "outputs": [
        {
          "output_type": "execute_result",
          "data": {
            "text/plain": [
              "87.0"
            ]
          },
          "metadata": {},
          "execution_count": 132
        }
      ]
    },
    {
      "cell_type": "markdown",
      "source": [
        "###Moda"
      ],
      "metadata": {
        "id": "O4AC-IN2szpA"
      }
    },
    {
      "cell_type": "markdown",
      "source": [
        "A moda de um determinado conjunto de dados é o resultado que mais se repete no conjunto, ou seja, o que possui maior frequência absoluta. "
      ],
      "metadata": {
        "id": "XVjymehByglu"
      }
    },
    {
      "cell_type": "code",
      "source": [
        "statistics.mode(grades)"
      ],
      "metadata": {
        "id": "eSMrO14lt3dX",
        "colab": {
          "base_uri": "https://localhost:8080/"
        },
        "outputId": "67c20c6f-dc87-4474-d6e4-5fcee65791c5"
      },
      "execution_count": null,
      "outputs": [
        {
          "output_type": "execute_result",
          "data": {
            "text/plain": [
              "85"
            ]
          },
          "metadata": {},
          "execution_count": 133
        }
      ]
    },
    {
      "cell_type": "code",
      "source": [
        "sorted(grades)"
      ],
      "metadata": {
        "id": "IhgOJJott7M3",
        "colab": {
          "base_uri": "https://localhost:8080/"
        },
        "outputId": "84d1b34f-8000-49e4-dd45-991cde41a1da"
      },
      "execution_count": null,
      "outputs": [
        {
          "output_type": "execute_result",
          "data": {
            "text/plain": [
              "[45, 85, 85, 89, 93, 889]"
            ]
          },
          "metadata": {},
          "execution_count": 134
        }
      ]
    },
    {
      "cell_type": "code",
      "source": [
        "grades"
      ],
      "metadata": {
        "colab": {
          "base_uri": "https://localhost:8080/"
        },
        "id": "tMNwqlsqbDto",
        "outputId": "df090a6f-d78b-4546-8e94-4e7283dc3480"
      },
      "execution_count": null,
      "outputs": [
        {
          "output_type": "execute_result",
          "data": {
            "text/plain": [
              "[85, 93, 45, 89, 85, 889]"
            ]
          },
          "metadata": {},
          "execution_count": 135
        }
      ]
    },
    {
      "cell_type": "markdown",
      "source": [
        "A função mode causa um StatisticsError para listas como\n",
        "[85, 93, 45, 89, 85, 93]\n",
        "em que existem dois ou mais valores “mais frequentes”. Esse conjunto de valores é dito bimodal."
      ],
      "metadata": {
        "id": "6HTnowPduKbQ"
      }
    },
    {
      "cell_type": "code",
      "source": [
        "statistics.mode([85, 93, 45, 89, 85, 93])"
      ],
      "metadata": {
        "id": "BiH7VebjyDNS",
        "colab": {
          "base_uri": "https://localhost:8080/",
          "height": 288
        },
        "outputId": "6f173db5-251d-4578-8f12-1d0c6df7178b"
      },
      "execution_count": null,
      "outputs": [
        {
          "output_type": "error",
          "ename": "StatisticsError",
          "evalue": "ignored",
          "traceback": [
            "\u001b[0;31m---------------------------------------------------------------------------\u001b[0m",
            "\u001b[0;31mStatisticsError\u001b[0m                           Traceback (most recent call last)",
            "\u001b[0;32m<ipython-input-136-bfa27a798a57>\u001b[0m in \u001b[0;36m<module>\u001b[0;34m\u001b[0m\n\u001b[0;32m----> 1\u001b[0;31m \u001b[0mstatistics\u001b[0m\u001b[0;34m.\u001b[0m\u001b[0mmode\u001b[0m\u001b[0;34m(\u001b[0m\u001b[0;34m[\u001b[0m\u001b[0;36m85\u001b[0m\u001b[0;34m,\u001b[0m \u001b[0;36m93\u001b[0m\u001b[0;34m,\u001b[0m \u001b[0;36m45\u001b[0m\u001b[0;34m,\u001b[0m \u001b[0;36m89\u001b[0m\u001b[0;34m,\u001b[0m \u001b[0;36m85\u001b[0m\u001b[0;34m,\u001b[0m \u001b[0;36m93\u001b[0m\u001b[0;34m]\u001b[0m\u001b[0;34m)\u001b[0m\u001b[0;34m\u001b[0m\u001b[0;34m\u001b[0m\u001b[0m\n\u001b[0m",
            "\u001b[0;32m/usr/lib/python3.7/statistics.py\u001b[0m in \u001b[0;36mmode\u001b[0;34m(data)\u001b[0m\n\u001b[1;32m    504\u001b[0m     \u001b[0;32melif\u001b[0m \u001b[0mtable\u001b[0m\u001b[0;34m:\u001b[0m\u001b[0;34m\u001b[0m\u001b[0;34m\u001b[0m\u001b[0m\n\u001b[1;32m    505\u001b[0m         raise StatisticsError(\n\u001b[0;32m--> 506\u001b[0;31m                 \u001b[0;34m'no unique mode; found %d equally common values'\u001b[0m \u001b[0;34m%\u001b[0m \u001b[0mlen\u001b[0m\u001b[0;34m(\u001b[0m\u001b[0mtable\u001b[0m\u001b[0;34m)\u001b[0m\u001b[0;34m\u001b[0m\u001b[0;34m\u001b[0m\u001b[0m\n\u001b[0m\u001b[1;32m    507\u001b[0m                 )\n\u001b[1;32m    508\u001b[0m     \u001b[0;32melse\u001b[0m\u001b[0;34m:\u001b[0m\u001b[0;34m\u001b[0m\u001b[0;34m\u001b[0m\u001b[0m\n",
            "\u001b[0;31mStatisticsError\u001b[0m: no unique mode; found 2 equally common values"
          ]
        }
      ]
    },
    {
      "cell_type": "markdown",
      "source": [
        "##Atividade -  Para os valores 47, 95, 88, 73, 88 e 84, utilize o módulo de estatística para calcular a média, mediana e moda."
      ],
      "metadata": {
        "id": "xArLq4O5uSEO"
      }
    },
    {
      "cell_type": "code",
      "source": [
        "import statistics"
      ],
      "metadata": {
        "id": "G-XBgf1b-8ka"
      },
      "execution_count": null,
      "outputs": []
    },
    {
      "cell_type": "code",
      "source": [
        "values = [47, 95, 88, 73, 88, 84]"
      ],
      "metadata": {
        "id": "r73cXPqrcfOP"
      },
      "execution_count": null,
      "outputs": []
    },
    {
      "cell_type": "code",
      "source": [
        "statistics.mean(values)"
      ],
      "metadata": {
        "colab": {
          "base_uri": "https://localhost:8080/"
        },
        "id": "ul3-or9pcgAY",
        "outputId": "5dffd36a-8194-434f-e982-ead7f8f38799"
      },
      "execution_count": null,
      "outputs": [
        {
          "output_type": "execute_result",
          "data": {
            "text/plain": [
              "79.16666666666667"
            ]
          },
          "metadata": {},
          "execution_count": 139
        }
      ]
    },
    {
      "cell_type": "code",
      "source": [
        "statistics.median(values)"
      ],
      "metadata": {
        "colab": {
          "base_uri": "https://localhost:8080/"
        },
        "id": "bG9ENOF1cpeo",
        "outputId": "c197807b-0824-4649-d495-432b564b30e6"
      },
      "execution_count": null,
      "outputs": [
        {
          "output_type": "execute_result",
          "data": {
            "text/plain": [
              "86.0"
            ]
          },
          "metadata": {},
          "execution_count": 140
        }
      ]
    },
    {
      "cell_type": "code",
      "source": [
        "statistics.mode(values)"
      ],
      "metadata": {
        "colab": {
          "base_uri": "https://localhost:8080/"
        },
        "id": "7BP3PH-JcsLA",
        "outputId": "7067a622-ba72-432a-d964-d989591cef94"
      },
      "execution_count": null,
      "outputs": [
        {
          "output_type": "execute_result",
          "data": {
            "text/plain": [
              "88"
            ]
          },
          "metadata": {},
          "execution_count": 142
        }
      ]
    },
    {
      "cell_type": "markdown",
      "source": [
        "#Uma análise básica de um conjunto de dados"
      ],
      "metadata": {
        "id": "0mGQCV7ZxDG6"
      }
    },
    {
      "cell_type": "markdown",
      "source": [
        "pegar o conjunto de dados \"state.csv\"\n",
        "https://github.com/gedeck/practical-statistics-for-data-scientists/tree/master/data"
      ],
      "metadata": {
        "id": "lAuRbnVCxICD"
      }
    },
    {
      "cell_type": "code",
      "source": [
        "import pandas\n",
        "estados = pandas.read_csv(\"https://raw.githubusercontent.com/gedeck/practical-statistics-for-data-scientists/master/data/state.csv\")"
      ],
      "metadata": {
        "id": "vChs7oC4xVxO"
      },
      "execution_count": null,
      "outputs": []
    },
    {
      "cell_type": "code",
      "source": [
        "type(estados)"
      ],
      "metadata": {
        "colab": {
          "base_uri": "https://localhost:8080/"
        },
        "id": "UsHy1rT2dM5J",
        "outputId": "23b83e98-441d-4d4f-a9ea-844070b64051"
      },
      "execution_count": null,
      "outputs": [
        {
          "output_type": "execute_result",
          "data": {
            "text/plain": [
              "pandas.core.frame.DataFrame"
            ]
          },
          "metadata": {},
          "execution_count": 144
        }
      ]
    },
    {
      "cell_type": "code",
      "source": [
        "estados"
      ],
      "metadata": {
        "colab": {
          "base_uri": "https://localhost:8080/",
          "height": 1000
        },
        "id": "BvUgDL-ddOQX",
        "outputId": "5c1880cc-e9b2-411b-cbe1-2f81aebc0c51"
      },
      "execution_count": null,
      "outputs": [
        {
          "output_type": "execute_result",
          "data": {
            "text/plain": [
              "             State  Population  Murder.Rate Abbreviation\n",
              "0          Alabama     4779736          5.7           AL\n",
              "1           Alaska      710231          5.6           AK\n",
              "2          Arizona     6392017          4.7           AZ\n",
              "3         Arkansas     2915918          5.6           AR\n",
              "4       California    37253956          4.4           CA\n",
              "5         Colorado     5029196          2.8           CO\n",
              "6      Connecticut     3574097          2.4           CT\n",
              "7         Delaware      897934          5.8           DE\n",
              "8          Florida    18801310          5.8           FL\n",
              "9          Georgia     9687653          5.7           GA\n",
              "10          Hawaii     1360301          1.8           HI\n",
              "11           Idaho     1567582          2.0           ID\n",
              "12        Illinois    12830632          5.3           IL\n",
              "13         Indiana     6483802          5.0           IN\n",
              "14            Iowa     3046355          1.9           IA\n",
              "15          Kansas     2853118          3.1           KS\n",
              "16        Kentucky     4339367          3.6           KY\n",
              "17       Louisiana     4533372         10.3           LA\n",
              "18           Maine     1328361          1.6           ME\n",
              "19        Maryland     5773552          6.1           MD\n",
              "20   Massachusetts     6547629          2.0           MA\n",
              "21        Michigan     9883640          5.4           MI\n",
              "22       Minnesota     5303925          1.6           MN\n",
              "23     Mississippi     2967297          8.6           MS\n",
              "24        Missouri     5988927          6.6           MO\n",
              "25         Montana      989415          3.6           MT\n",
              "26        Nebraska     1826341          2.9           NE\n",
              "27          Nevada     2700551          6.0           NV\n",
              "28   New Hampshire     1316470          0.9           NH\n",
              "29      New Jersey     8791894          3.9           NJ\n",
              "30      New Mexico     2059179          4.8           NM\n",
              "31        New York    19378102          3.1           NY\n",
              "32  North Carolina     9535483          5.1           NC\n",
              "33    North Dakota      672591          3.0           ND\n",
              "34            Ohio    11536504          4.0           OH\n",
              "35        Oklahoma     3751351          4.5           OK\n",
              "36          Oregon     3831074          2.0           OR\n",
              "37    Pennsylvania    12702379          4.8           PA\n",
              "38    Rhode Island     1052567          2.4           RI\n",
              "39  South Carolina     4625364          6.4           SC\n",
              "40    South Dakota      814180          2.3           SD\n",
              "41       Tennessee     6346105          5.7           TN\n",
              "42           Texas    25145561          4.4           TX\n",
              "43            Utah     2763885          2.3           UT\n",
              "44         Vermont      625741          1.6           VT\n",
              "45        Virginia     8001024          4.1           VA\n",
              "46      Washington     6724540          2.5           WA\n",
              "47   West Virginia     1852994          4.0           WV\n",
              "48       Wisconsin     5686986          2.9           WI\n",
              "49         Wyoming      563626          2.7           WY"
            ],
            "text/html": [
              "\n",
              "  <div id=\"df-fbda5858-e48c-4b17-be3d-313d80b49b0d\">\n",
              "    <div class=\"colab-df-container\">\n",
              "      <div>\n",
              "<style scoped>\n",
              "    .dataframe tbody tr th:only-of-type {\n",
              "        vertical-align: middle;\n",
              "    }\n",
              "\n",
              "    .dataframe tbody tr th {\n",
              "        vertical-align: top;\n",
              "    }\n",
              "\n",
              "    .dataframe thead th {\n",
              "        text-align: right;\n",
              "    }\n",
              "</style>\n",
              "<table border=\"1\" class=\"dataframe\">\n",
              "  <thead>\n",
              "    <tr style=\"text-align: right;\">\n",
              "      <th></th>\n",
              "      <th>State</th>\n",
              "      <th>Population</th>\n",
              "      <th>Murder.Rate</th>\n",
              "      <th>Abbreviation</th>\n",
              "    </tr>\n",
              "  </thead>\n",
              "  <tbody>\n",
              "    <tr>\n",
              "      <th>0</th>\n",
              "      <td>Alabama</td>\n",
              "      <td>4779736</td>\n",
              "      <td>5.7</td>\n",
              "      <td>AL</td>\n",
              "    </tr>\n",
              "    <tr>\n",
              "      <th>1</th>\n",
              "      <td>Alaska</td>\n",
              "      <td>710231</td>\n",
              "      <td>5.6</td>\n",
              "      <td>AK</td>\n",
              "    </tr>\n",
              "    <tr>\n",
              "      <th>2</th>\n",
              "      <td>Arizona</td>\n",
              "      <td>6392017</td>\n",
              "      <td>4.7</td>\n",
              "      <td>AZ</td>\n",
              "    </tr>\n",
              "    <tr>\n",
              "      <th>3</th>\n",
              "      <td>Arkansas</td>\n",
              "      <td>2915918</td>\n",
              "      <td>5.6</td>\n",
              "      <td>AR</td>\n",
              "    </tr>\n",
              "    <tr>\n",
              "      <th>4</th>\n",
              "      <td>California</td>\n",
              "      <td>37253956</td>\n",
              "      <td>4.4</td>\n",
              "      <td>CA</td>\n",
              "    </tr>\n",
              "    <tr>\n",
              "      <th>5</th>\n",
              "      <td>Colorado</td>\n",
              "      <td>5029196</td>\n",
              "      <td>2.8</td>\n",
              "      <td>CO</td>\n",
              "    </tr>\n",
              "    <tr>\n",
              "      <th>6</th>\n",
              "      <td>Connecticut</td>\n",
              "      <td>3574097</td>\n",
              "      <td>2.4</td>\n",
              "      <td>CT</td>\n",
              "    </tr>\n",
              "    <tr>\n",
              "      <th>7</th>\n",
              "      <td>Delaware</td>\n",
              "      <td>897934</td>\n",
              "      <td>5.8</td>\n",
              "      <td>DE</td>\n",
              "    </tr>\n",
              "    <tr>\n",
              "      <th>8</th>\n",
              "      <td>Florida</td>\n",
              "      <td>18801310</td>\n",
              "      <td>5.8</td>\n",
              "      <td>FL</td>\n",
              "    </tr>\n",
              "    <tr>\n",
              "      <th>9</th>\n",
              "      <td>Georgia</td>\n",
              "      <td>9687653</td>\n",
              "      <td>5.7</td>\n",
              "      <td>GA</td>\n",
              "    </tr>\n",
              "    <tr>\n",
              "      <th>10</th>\n",
              "      <td>Hawaii</td>\n",
              "      <td>1360301</td>\n",
              "      <td>1.8</td>\n",
              "      <td>HI</td>\n",
              "    </tr>\n",
              "    <tr>\n",
              "      <th>11</th>\n",
              "      <td>Idaho</td>\n",
              "      <td>1567582</td>\n",
              "      <td>2.0</td>\n",
              "      <td>ID</td>\n",
              "    </tr>\n",
              "    <tr>\n",
              "      <th>12</th>\n",
              "      <td>Illinois</td>\n",
              "      <td>12830632</td>\n",
              "      <td>5.3</td>\n",
              "      <td>IL</td>\n",
              "    </tr>\n",
              "    <tr>\n",
              "      <th>13</th>\n",
              "      <td>Indiana</td>\n",
              "      <td>6483802</td>\n",
              "      <td>5.0</td>\n",
              "      <td>IN</td>\n",
              "    </tr>\n",
              "    <tr>\n",
              "      <th>14</th>\n",
              "      <td>Iowa</td>\n",
              "      <td>3046355</td>\n",
              "      <td>1.9</td>\n",
              "      <td>IA</td>\n",
              "    </tr>\n",
              "    <tr>\n",
              "      <th>15</th>\n",
              "      <td>Kansas</td>\n",
              "      <td>2853118</td>\n",
              "      <td>3.1</td>\n",
              "      <td>KS</td>\n",
              "    </tr>\n",
              "    <tr>\n",
              "      <th>16</th>\n",
              "      <td>Kentucky</td>\n",
              "      <td>4339367</td>\n",
              "      <td>3.6</td>\n",
              "      <td>KY</td>\n",
              "    </tr>\n",
              "    <tr>\n",
              "      <th>17</th>\n",
              "      <td>Louisiana</td>\n",
              "      <td>4533372</td>\n",
              "      <td>10.3</td>\n",
              "      <td>LA</td>\n",
              "    </tr>\n",
              "    <tr>\n",
              "      <th>18</th>\n",
              "      <td>Maine</td>\n",
              "      <td>1328361</td>\n",
              "      <td>1.6</td>\n",
              "      <td>ME</td>\n",
              "    </tr>\n",
              "    <tr>\n",
              "      <th>19</th>\n",
              "      <td>Maryland</td>\n",
              "      <td>5773552</td>\n",
              "      <td>6.1</td>\n",
              "      <td>MD</td>\n",
              "    </tr>\n",
              "    <tr>\n",
              "      <th>20</th>\n",
              "      <td>Massachusetts</td>\n",
              "      <td>6547629</td>\n",
              "      <td>2.0</td>\n",
              "      <td>MA</td>\n",
              "    </tr>\n",
              "    <tr>\n",
              "      <th>21</th>\n",
              "      <td>Michigan</td>\n",
              "      <td>9883640</td>\n",
              "      <td>5.4</td>\n",
              "      <td>MI</td>\n",
              "    </tr>\n",
              "    <tr>\n",
              "      <th>22</th>\n",
              "      <td>Minnesota</td>\n",
              "      <td>5303925</td>\n",
              "      <td>1.6</td>\n",
              "      <td>MN</td>\n",
              "    </tr>\n",
              "    <tr>\n",
              "      <th>23</th>\n",
              "      <td>Mississippi</td>\n",
              "      <td>2967297</td>\n",
              "      <td>8.6</td>\n",
              "      <td>MS</td>\n",
              "    </tr>\n",
              "    <tr>\n",
              "      <th>24</th>\n",
              "      <td>Missouri</td>\n",
              "      <td>5988927</td>\n",
              "      <td>6.6</td>\n",
              "      <td>MO</td>\n",
              "    </tr>\n",
              "    <tr>\n",
              "      <th>25</th>\n",
              "      <td>Montana</td>\n",
              "      <td>989415</td>\n",
              "      <td>3.6</td>\n",
              "      <td>MT</td>\n",
              "    </tr>\n",
              "    <tr>\n",
              "      <th>26</th>\n",
              "      <td>Nebraska</td>\n",
              "      <td>1826341</td>\n",
              "      <td>2.9</td>\n",
              "      <td>NE</td>\n",
              "    </tr>\n",
              "    <tr>\n",
              "      <th>27</th>\n",
              "      <td>Nevada</td>\n",
              "      <td>2700551</td>\n",
              "      <td>6.0</td>\n",
              "      <td>NV</td>\n",
              "    </tr>\n",
              "    <tr>\n",
              "      <th>28</th>\n",
              "      <td>New Hampshire</td>\n",
              "      <td>1316470</td>\n",
              "      <td>0.9</td>\n",
              "      <td>NH</td>\n",
              "    </tr>\n",
              "    <tr>\n",
              "      <th>29</th>\n",
              "      <td>New Jersey</td>\n",
              "      <td>8791894</td>\n",
              "      <td>3.9</td>\n",
              "      <td>NJ</td>\n",
              "    </tr>\n",
              "    <tr>\n",
              "      <th>30</th>\n",
              "      <td>New Mexico</td>\n",
              "      <td>2059179</td>\n",
              "      <td>4.8</td>\n",
              "      <td>NM</td>\n",
              "    </tr>\n",
              "    <tr>\n",
              "      <th>31</th>\n",
              "      <td>New York</td>\n",
              "      <td>19378102</td>\n",
              "      <td>3.1</td>\n",
              "      <td>NY</td>\n",
              "    </tr>\n",
              "    <tr>\n",
              "      <th>32</th>\n",
              "      <td>North Carolina</td>\n",
              "      <td>9535483</td>\n",
              "      <td>5.1</td>\n",
              "      <td>NC</td>\n",
              "    </tr>\n",
              "    <tr>\n",
              "      <th>33</th>\n",
              "      <td>North Dakota</td>\n",
              "      <td>672591</td>\n",
              "      <td>3.0</td>\n",
              "      <td>ND</td>\n",
              "    </tr>\n",
              "    <tr>\n",
              "      <th>34</th>\n",
              "      <td>Ohio</td>\n",
              "      <td>11536504</td>\n",
              "      <td>4.0</td>\n",
              "      <td>OH</td>\n",
              "    </tr>\n",
              "    <tr>\n",
              "      <th>35</th>\n",
              "      <td>Oklahoma</td>\n",
              "      <td>3751351</td>\n",
              "      <td>4.5</td>\n",
              "      <td>OK</td>\n",
              "    </tr>\n",
              "    <tr>\n",
              "      <th>36</th>\n",
              "      <td>Oregon</td>\n",
              "      <td>3831074</td>\n",
              "      <td>2.0</td>\n",
              "      <td>OR</td>\n",
              "    </tr>\n",
              "    <tr>\n",
              "      <th>37</th>\n",
              "      <td>Pennsylvania</td>\n",
              "      <td>12702379</td>\n",
              "      <td>4.8</td>\n",
              "      <td>PA</td>\n",
              "    </tr>\n",
              "    <tr>\n",
              "      <th>38</th>\n",
              "      <td>Rhode Island</td>\n",
              "      <td>1052567</td>\n",
              "      <td>2.4</td>\n",
              "      <td>RI</td>\n",
              "    </tr>\n",
              "    <tr>\n",
              "      <th>39</th>\n",
              "      <td>South Carolina</td>\n",
              "      <td>4625364</td>\n",
              "      <td>6.4</td>\n",
              "      <td>SC</td>\n",
              "    </tr>\n",
              "    <tr>\n",
              "      <th>40</th>\n",
              "      <td>South Dakota</td>\n",
              "      <td>814180</td>\n",
              "      <td>2.3</td>\n",
              "      <td>SD</td>\n",
              "    </tr>\n",
              "    <tr>\n",
              "      <th>41</th>\n",
              "      <td>Tennessee</td>\n",
              "      <td>6346105</td>\n",
              "      <td>5.7</td>\n",
              "      <td>TN</td>\n",
              "    </tr>\n",
              "    <tr>\n",
              "      <th>42</th>\n",
              "      <td>Texas</td>\n",
              "      <td>25145561</td>\n",
              "      <td>4.4</td>\n",
              "      <td>TX</td>\n",
              "    </tr>\n",
              "    <tr>\n",
              "      <th>43</th>\n",
              "      <td>Utah</td>\n",
              "      <td>2763885</td>\n",
              "      <td>2.3</td>\n",
              "      <td>UT</td>\n",
              "    </tr>\n",
              "    <tr>\n",
              "      <th>44</th>\n",
              "      <td>Vermont</td>\n",
              "      <td>625741</td>\n",
              "      <td>1.6</td>\n",
              "      <td>VT</td>\n",
              "    </tr>\n",
              "    <tr>\n",
              "      <th>45</th>\n",
              "      <td>Virginia</td>\n",
              "      <td>8001024</td>\n",
              "      <td>4.1</td>\n",
              "      <td>VA</td>\n",
              "    </tr>\n",
              "    <tr>\n",
              "      <th>46</th>\n",
              "      <td>Washington</td>\n",
              "      <td>6724540</td>\n",
              "      <td>2.5</td>\n",
              "      <td>WA</td>\n",
              "    </tr>\n",
              "    <tr>\n",
              "      <th>47</th>\n",
              "      <td>West Virginia</td>\n",
              "      <td>1852994</td>\n",
              "      <td>4.0</td>\n",
              "      <td>WV</td>\n",
              "    </tr>\n",
              "    <tr>\n",
              "      <th>48</th>\n",
              "      <td>Wisconsin</td>\n",
              "      <td>5686986</td>\n",
              "      <td>2.9</td>\n",
              "      <td>WI</td>\n",
              "    </tr>\n",
              "    <tr>\n",
              "      <th>49</th>\n",
              "      <td>Wyoming</td>\n",
              "      <td>563626</td>\n",
              "      <td>2.7</td>\n",
              "      <td>WY</td>\n",
              "    </tr>\n",
              "  </tbody>\n",
              "</table>\n",
              "</div>\n",
              "      <button class=\"colab-df-convert\" onclick=\"convertToInteractive('df-fbda5858-e48c-4b17-be3d-313d80b49b0d')\"\n",
              "              title=\"Convert this dataframe to an interactive table.\"\n",
              "              style=\"display:none;\">\n",
              "        \n",
              "  <svg xmlns=\"http://www.w3.org/2000/svg\" height=\"24px\"viewBox=\"0 0 24 24\"\n",
              "       width=\"24px\">\n",
              "    <path d=\"M0 0h24v24H0V0z\" fill=\"none\"/>\n",
              "    <path d=\"M18.56 5.44l.94 2.06.94-2.06 2.06-.94-2.06-.94-.94-2.06-.94 2.06-2.06.94zm-11 1L8.5 8.5l.94-2.06 2.06-.94-2.06-.94L8.5 2.5l-.94 2.06-2.06.94zm10 10l.94 2.06.94-2.06 2.06-.94-2.06-.94-.94-2.06-.94 2.06-2.06.94z\"/><path d=\"M17.41 7.96l-1.37-1.37c-.4-.4-.92-.59-1.43-.59-.52 0-1.04.2-1.43.59L10.3 9.45l-7.72 7.72c-.78.78-.78 2.05 0 2.83L4 21.41c.39.39.9.59 1.41.59.51 0 1.02-.2 1.41-.59l7.78-7.78 2.81-2.81c.8-.78.8-2.07 0-2.86zM5.41 20L4 18.59l7.72-7.72 1.47 1.35L5.41 20z\"/>\n",
              "  </svg>\n",
              "      </button>\n",
              "      \n",
              "  <style>\n",
              "    .colab-df-container {\n",
              "      display:flex;\n",
              "      flex-wrap:wrap;\n",
              "      gap: 12px;\n",
              "    }\n",
              "\n",
              "    .colab-df-convert {\n",
              "      background-color: #E8F0FE;\n",
              "      border: none;\n",
              "      border-radius: 50%;\n",
              "      cursor: pointer;\n",
              "      display: none;\n",
              "      fill: #1967D2;\n",
              "      height: 32px;\n",
              "      padding: 0 0 0 0;\n",
              "      width: 32px;\n",
              "    }\n",
              "\n",
              "    .colab-df-convert:hover {\n",
              "      background-color: #E2EBFA;\n",
              "      box-shadow: 0px 1px 2px rgba(60, 64, 67, 0.3), 0px 1px 3px 1px rgba(60, 64, 67, 0.15);\n",
              "      fill: #174EA6;\n",
              "    }\n",
              "\n",
              "    [theme=dark] .colab-df-convert {\n",
              "      background-color: #3B4455;\n",
              "      fill: #D2E3FC;\n",
              "    }\n",
              "\n",
              "    [theme=dark] .colab-df-convert:hover {\n",
              "      background-color: #434B5C;\n",
              "      box-shadow: 0px 1px 3px 1px rgba(0, 0, 0, 0.15);\n",
              "      filter: drop-shadow(0px 1px 2px rgba(0, 0, 0, 0.3));\n",
              "      fill: #FFFFFF;\n",
              "    }\n",
              "  </style>\n",
              "\n",
              "      <script>\n",
              "        const buttonEl =\n",
              "          document.querySelector('#df-fbda5858-e48c-4b17-be3d-313d80b49b0d button.colab-df-convert');\n",
              "        buttonEl.style.display =\n",
              "          google.colab.kernel.accessAllowed ? 'block' : 'none';\n",
              "\n",
              "        async function convertToInteractive(key) {\n",
              "          const element = document.querySelector('#df-fbda5858-e48c-4b17-be3d-313d80b49b0d');\n",
              "          const dataTable =\n",
              "            await google.colab.kernel.invokeFunction('convertToInteractive',\n",
              "                                                     [key], {});\n",
              "          if (!dataTable) return;\n",
              "\n",
              "          const docLinkHtml = 'Like what you see? Visit the ' +\n",
              "            '<a target=\"_blank\" href=https://colab.research.google.com/notebooks/data_table.ipynb>data table notebook</a>'\n",
              "            + ' to learn more about interactive tables.';\n",
              "          element.innerHTML = '';\n",
              "          dataTable['output_type'] = 'display_data';\n",
              "          await google.colab.output.renderOutput(dataTable, element);\n",
              "          const docLink = document.createElement('div');\n",
              "          docLink.innerHTML = docLinkHtml;\n",
              "          element.appendChild(docLink);\n",
              "        }\n",
              "      </script>\n",
              "    </div>\n",
              "  </div>\n",
              "  "
            ]
          },
          "metadata": {},
          "execution_count": 145
        }
      ]
    },
    {
      "cell_type": "code",
      "source": [
        "estados.head(10)"
      ],
      "metadata": {
        "colab": {
          "base_uri": "https://localhost:8080/",
          "height": 363
        },
        "id": "yVKygerPdUfc",
        "outputId": "3f587edc-75e2-4d2a-eded-1426f7430db2"
      },
      "execution_count": null,
      "outputs": [
        {
          "output_type": "execute_result",
          "data": {
            "text/plain": [
              "         State  Population  Murder.Rate Abbreviation\n",
              "0      Alabama     4779736          5.7           AL\n",
              "1       Alaska      710231          5.6           AK\n",
              "2      Arizona     6392017          4.7           AZ\n",
              "3     Arkansas     2915918          5.6           AR\n",
              "4   California    37253956          4.4           CA\n",
              "5     Colorado     5029196          2.8           CO\n",
              "6  Connecticut     3574097          2.4           CT\n",
              "7     Delaware      897934          5.8           DE\n",
              "8      Florida    18801310          5.8           FL\n",
              "9      Georgia     9687653          5.7           GA"
            ],
            "text/html": [
              "\n",
              "  <div id=\"df-ec7d11a0-5afa-4523-940c-919c075600d6\">\n",
              "    <div class=\"colab-df-container\">\n",
              "      <div>\n",
              "<style scoped>\n",
              "    .dataframe tbody tr th:only-of-type {\n",
              "        vertical-align: middle;\n",
              "    }\n",
              "\n",
              "    .dataframe tbody tr th {\n",
              "        vertical-align: top;\n",
              "    }\n",
              "\n",
              "    .dataframe thead th {\n",
              "        text-align: right;\n",
              "    }\n",
              "</style>\n",
              "<table border=\"1\" class=\"dataframe\">\n",
              "  <thead>\n",
              "    <tr style=\"text-align: right;\">\n",
              "      <th></th>\n",
              "      <th>State</th>\n",
              "      <th>Population</th>\n",
              "      <th>Murder.Rate</th>\n",
              "      <th>Abbreviation</th>\n",
              "    </tr>\n",
              "  </thead>\n",
              "  <tbody>\n",
              "    <tr>\n",
              "      <th>0</th>\n",
              "      <td>Alabama</td>\n",
              "      <td>4779736</td>\n",
              "      <td>5.7</td>\n",
              "      <td>AL</td>\n",
              "    </tr>\n",
              "    <tr>\n",
              "      <th>1</th>\n",
              "      <td>Alaska</td>\n",
              "      <td>710231</td>\n",
              "      <td>5.6</td>\n",
              "      <td>AK</td>\n",
              "    </tr>\n",
              "    <tr>\n",
              "      <th>2</th>\n",
              "      <td>Arizona</td>\n",
              "      <td>6392017</td>\n",
              "      <td>4.7</td>\n",
              "      <td>AZ</td>\n",
              "    </tr>\n",
              "    <tr>\n",
              "      <th>3</th>\n",
              "      <td>Arkansas</td>\n",
              "      <td>2915918</td>\n",
              "      <td>5.6</td>\n",
              "      <td>AR</td>\n",
              "    </tr>\n",
              "    <tr>\n",
              "      <th>4</th>\n",
              "      <td>California</td>\n",
              "      <td>37253956</td>\n",
              "      <td>4.4</td>\n",
              "      <td>CA</td>\n",
              "    </tr>\n",
              "    <tr>\n",
              "      <th>5</th>\n",
              "      <td>Colorado</td>\n",
              "      <td>5029196</td>\n",
              "      <td>2.8</td>\n",
              "      <td>CO</td>\n",
              "    </tr>\n",
              "    <tr>\n",
              "      <th>6</th>\n",
              "      <td>Connecticut</td>\n",
              "      <td>3574097</td>\n",
              "      <td>2.4</td>\n",
              "      <td>CT</td>\n",
              "    </tr>\n",
              "    <tr>\n",
              "      <th>7</th>\n",
              "      <td>Delaware</td>\n",
              "      <td>897934</td>\n",
              "      <td>5.8</td>\n",
              "      <td>DE</td>\n",
              "    </tr>\n",
              "    <tr>\n",
              "      <th>8</th>\n",
              "      <td>Florida</td>\n",
              "      <td>18801310</td>\n",
              "      <td>5.8</td>\n",
              "      <td>FL</td>\n",
              "    </tr>\n",
              "    <tr>\n",
              "      <th>9</th>\n",
              "      <td>Georgia</td>\n",
              "      <td>9687653</td>\n",
              "      <td>5.7</td>\n",
              "      <td>GA</td>\n",
              "    </tr>\n",
              "  </tbody>\n",
              "</table>\n",
              "</div>\n",
              "      <button class=\"colab-df-convert\" onclick=\"convertToInteractive('df-ec7d11a0-5afa-4523-940c-919c075600d6')\"\n",
              "              title=\"Convert this dataframe to an interactive table.\"\n",
              "              style=\"display:none;\">\n",
              "        \n",
              "  <svg xmlns=\"http://www.w3.org/2000/svg\" height=\"24px\"viewBox=\"0 0 24 24\"\n",
              "       width=\"24px\">\n",
              "    <path d=\"M0 0h24v24H0V0z\" fill=\"none\"/>\n",
              "    <path d=\"M18.56 5.44l.94 2.06.94-2.06 2.06-.94-2.06-.94-.94-2.06-.94 2.06-2.06.94zm-11 1L8.5 8.5l.94-2.06 2.06-.94-2.06-.94L8.5 2.5l-.94 2.06-2.06.94zm10 10l.94 2.06.94-2.06 2.06-.94-2.06-.94-.94-2.06-.94 2.06-2.06.94z\"/><path d=\"M17.41 7.96l-1.37-1.37c-.4-.4-.92-.59-1.43-.59-.52 0-1.04.2-1.43.59L10.3 9.45l-7.72 7.72c-.78.78-.78 2.05 0 2.83L4 21.41c.39.39.9.59 1.41.59.51 0 1.02-.2 1.41-.59l7.78-7.78 2.81-2.81c.8-.78.8-2.07 0-2.86zM5.41 20L4 18.59l7.72-7.72 1.47 1.35L5.41 20z\"/>\n",
              "  </svg>\n",
              "      </button>\n",
              "      \n",
              "  <style>\n",
              "    .colab-df-container {\n",
              "      display:flex;\n",
              "      flex-wrap:wrap;\n",
              "      gap: 12px;\n",
              "    }\n",
              "\n",
              "    .colab-df-convert {\n",
              "      background-color: #E8F0FE;\n",
              "      border: none;\n",
              "      border-radius: 50%;\n",
              "      cursor: pointer;\n",
              "      display: none;\n",
              "      fill: #1967D2;\n",
              "      height: 32px;\n",
              "      padding: 0 0 0 0;\n",
              "      width: 32px;\n",
              "    }\n",
              "\n",
              "    .colab-df-convert:hover {\n",
              "      background-color: #E2EBFA;\n",
              "      box-shadow: 0px 1px 2px rgba(60, 64, 67, 0.3), 0px 1px 3px 1px rgba(60, 64, 67, 0.15);\n",
              "      fill: #174EA6;\n",
              "    }\n",
              "\n",
              "    [theme=dark] .colab-df-convert {\n",
              "      background-color: #3B4455;\n",
              "      fill: #D2E3FC;\n",
              "    }\n",
              "\n",
              "    [theme=dark] .colab-df-convert:hover {\n",
              "      background-color: #434B5C;\n",
              "      box-shadow: 0px 1px 3px 1px rgba(0, 0, 0, 0.15);\n",
              "      filter: drop-shadow(0px 1px 2px rgba(0, 0, 0, 0.3));\n",
              "      fill: #FFFFFF;\n",
              "    }\n",
              "  </style>\n",
              "\n",
              "      <script>\n",
              "        const buttonEl =\n",
              "          document.querySelector('#df-ec7d11a0-5afa-4523-940c-919c075600d6 button.colab-df-convert');\n",
              "        buttonEl.style.display =\n",
              "          google.colab.kernel.accessAllowed ? 'block' : 'none';\n",
              "\n",
              "        async function convertToInteractive(key) {\n",
              "          const element = document.querySelector('#df-ec7d11a0-5afa-4523-940c-919c075600d6');\n",
              "          const dataTable =\n",
              "            await google.colab.kernel.invokeFunction('convertToInteractive',\n",
              "                                                     [key], {});\n",
              "          if (!dataTable) return;\n",
              "\n",
              "          const docLinkHtml = 'Like what you see? Visit the ' +\n",
              "            '<a target=\"_blank\" href=https://colab.research.google.com/notebooks/data_table.ipynb>data table notebook</a>'\n",
              "            + ' to learn more about interactive tables.';\n",
              "          element.innerHTML = '';\n",
              "          dataTable['output_type'] = 'display_data';\n",
              "          await google.colab.output.renderOutput(dataTable, element);\n",
              "          const docLink = document.createElement('div');\n",
              "          docLink.innerHTML = docLinkHtml;\n",
              "          element.appendChild(docLink);\n",
              "        }\n",
              "      </script>\n",
              "    </div>\n",
              "  </div>\n",
              "  "
            ]
          },
          "metadata": {},
          "execution_count": 146
        }
      ]
    },
    {
      "cell_type": "code",
      "source": [
        "statistics.mean(estados['Population'])"
      ],
      "metadata": {
        "colab": {
          "base_uri": "https://localhost:8080/"
        },
        "id": "uatv4DR-diEH",
        "outputId": "b21f7aa3-916e-4e57-de32-87d1bdf05dbd"
      },
      "execution_count": null,
      "outputs": [
        {
          "output_type": "execute_result",
          "data": {
            "text/plain": [
              "6162876.3"
            ]
          },
          "metadata": {},
          "execution_count": 148
        }
      ]
    },
    {
      "cell_type": "code",
      "source": [
        "estados['Population'].mean()"
      ],
      "metadata": {
        "colab": {
          "base_uri": "https://localhost:8080/"
        },
        "id": "llJbMy-rdst_",
        "outputId": "14fd56aa-3bea-49e2-f3cf-808b40311b64"
      },
      "execution_count": null,
      "outputs": [
        {
          "output_type": "execute_result",
          "data": {
            "text/plain": [
              "6162876.3"
            ]
          },
          "metadata": {},
          "execution_count": 149
        }
      ]
    },
    {
      "cell_type": "code",
      "source": [
        "estados['Population'].median()"
      ],
      "metadata": {
        "colab": {
          "base_uri": "https://localhost:8080/"
        },
        "id": "CJY3x2Kzd_pY",
        "outputId": "3577c459-d2ec-4c61-fc40-1c0341124fc4"
      },
      "execution_count": null,
      "outputs": [
        {
          "output_type": "execute_result",
          "data": {
            "text/plain": [
              "4436369.5"
            ]
          },
          "metadata": {},
          "execution_count": 150
        }
      ]
    },
    {
      "cell_type": "code",
      "source": [
        "estados['Population'].mode()"
      ],
      "metadata": {
        "colab": {
          "base_uri": "https://localhost:8080/"
        },
        "id": "Bp0ImML4eJL3",
        "outputId": "02091f99-3c26-415f-84fa-96f133bf275b"
      },
      "execution_count": null,
      "outputs": [
        {
          "output_type": "execute_result",
          "data": {
            "text/plain": [
              "0       563626\n",
              "1       625741\n",
              "2       672591\n",
              "3       710231\n",
              "4       814180\n",
              "5       897934\n",
              "6       989415\n",
              "7      1052567\n",
              "8      1316470\n",
              "9      1328361\n",
              "10     1360301\n",
              "11     1567582\n",
              "12     1826341\n",
              "13     1852994\n",
              "14     2059179\n",
              "15     2700551\n",
              "16     2763885\n",
              "17     2853118\n",
              "18     2915918\n",
              "19     2967297\n",
              "20     3046355\n",
              "21     3574097\n",
              "22     3751351\n",
              "23     3831074\n",
              "24     4339367\n",
              "25     4533372\n",
              "26     4625364\n",
              "27     4779736\n",
              "28     5029196\n",
              "29     5303925\n",
              "30     5686986\n",
              "31     5773552\n",
              "32     5988927\n",
              "33     6346105\n",
              "34     6392017\n",
              "35     6483802\n",
              "36     6547629\n",
              "37     6724540\n",
              "38     8001024\n",
              "39     8791894\n",
              "40     9535483\n",
              "41     9687653\n",
              "42     9883640\n",
              "43    11536504\n",
              "44    12702379\n",
              "45    12830632\n",
              "46    18801310\n",
              "47    19378102\n",
              "48    25145561\n",
              "49    37253956\n",
              "dtype: int64"
            ]
          },
          "metadata": {},
          "execution_count": 152
        }
      ]
    },
    {
      "cell_type": "code",
      "source": [
        "estados['Murder.Rate'].mean()"
      ],
      "metadata": {
        "colab": {
          "base_uri": "https://localhost:8080/"
        },
        "id": "fIIcZ8aSeUe2",
        "outputId": "3bad5047-cc7d-4cd6-c044-971f736585a9"
      },
      "execution_count": null,
      "outputs": [
        {
          "output_type": "execute_result",
          "data": {
            "text/plain": [
              "4.066"
            ]
          },
          "metadata": {},
          "execution_count": 153
        }
      ]
    },
    {
      "cell_type": "code",
      "source": [
        "estados['Murder.Rate'].median()"
      ],
      "metadata": {
        "colab": {
          "base_uri": "https://localhost:8080/"
        },
        "id": "ekBgHcnqefpf",
        "outputId": "94d97d9a-8de2-423a-f8ff-5a5aceed6fe1"
      },
      "execution_count": null,
      "outputs": [
        {
          "output_type": "execute_result",
          "data": {
            "text/plain": [
              "4.0"
            ]
          },
          "metadata": {},
          "execution_count": 154
        }
      ]
    },
    {
      "cell_type": "markdown",
      "source": [
        "## Atividade"
      ],
      "metadata": {
        "id": "EQjCPgJP99k9"
      }
    },
    {
      "cell_type": "markdown",
      "source": [
        "Import o conjunto de dados com o código a seguir\n",
        "\n",
        "```\n",
        "import pandas as pd\n",
        "casas = pd.read_csv(\"https://raw.githubusercontent.com/ageron/handson-ml2/master/datasets/housing/housing.csv\")\n",
        "casas.head()\n",
        "```\n",
        "\n",
        "\n",
        "\n",
        "Este conjunto de dados apareceu em um artigo de 1997 intitulado Sparse Spatial Autoregressions por Pace, R. Kelley e Ronald Barry, publicado na revista Statistics and Probability Letters. Eles o construíram usando os dados do censo da Califórnia de 1990. Ele contém uma linha por grupo de quarteirões do censo. Um grupo de quarteirões é a menor unidade geográfica para a qual o U.S. Census Bureau publica dados de amostra (um grupo de quarteirões normalmente tem uma população de 600 a 3.000 pessoas). \n",
        "\n",
        "Usando o exemplo que apresentamos anteriormente, calcule a média e a mediana median_house_value e do median_income"
      ],
      "metadata": {
        "id": "G0602GMMUlEF"
      }
    },
    {
      "cell_type": "code",
      "source": [
        "import pandas as pd\n",
        "casas = pd.read_csv(\"https://raw.githubusercontent.com/ageron/handson-ml2/master/datasets/housing/housing.csv\")\n",
        "casas.head()"
      ],
      "metadata": {
        "colab": {
          "base_uri": "https://localhost:8080/",
          "height": 270
        },
        "id": "031YPqbNe2HC",
        "outputId": "200a31cf-62f0-4622-df98-b9ff4bda9a9f"
      },
      "execution_count": null,
      "outputs": [
        {
          "output_type": "execute_result",
          "data": {
            "text/plain": [
              "   longitude  latitude  housing_median_age  total_rooms  total_bedrooms  \\\n",
              "0    -122.23     37.88                41.0        880.0           129.0   \n",
              "1    -122.22     37.86                21.0       7099.0          1106.0   \n",
              "2    -122.24     37.85                52.0       1467.0           190.0   \n",
              "3    -122.25     37.85                52.0       1274.0           235.0   \n",
              "4    -122.25     37.85                52.0       1627.0           280.0   \n",
              "\n",
              "   population  households  median_income  median_house_value ocean_proximity  \n",
              "0       322.0       126.0         8.3252            452600.0        NEAR BAY  \n",
              "1      2401.0      1138.0         8.3014            358500.0        NEAR BAY  \n",
              "2       496.0       177.0         7.2574            352100.0        NEAR BAY  \n",
              "3       558.0       219.0         5.6431            341300.0        NEAR BAY  \n",
              "4       565.0       259.0         3.8462            342200.0        NEAR BAY  "
            ],
            "text/html": [
              "\n",
              "  <div id=\"df-705c1fe0-eb30-4196-9b10-92e5952a5e52\">\n",
              "    <div class=\"colab-df-container\">\n",
              "      <div>\n",
              "<style scoped>\n",
              "    .dataframe tbody tr th:only-of-type {\n",
              "        vertical-align: middle;\n",
              "    }\n",
              "\n",
              "    .dataframe tbody tr th {\n",
              "        vertical-align: top;\n",
              "    }\n",
              "\n",
              "    .dataframe thead th {\n",
              "        text-align: right;\n",
              "    }\n",
              "</style>\n",
              "<table border=\"1\" class=\"dataframe\">\n",
              "  <thead>\n",
              "    <tr style=\"text-align: right;\">\n",
              "      <th></th>\n",
              "      <th>longitude</th>\n",
              "      <th>latitude</th>\n",
              "      <th>housing_median_age</th>\n",
              "      <th>total_rooms</th>\n",
              "      <th>total_bedrooms</th>\n",
              "      <th>population</th>\n",
              "      <th>households</th>\n",
              "      <th>median_income</th>\n",
              "      <th>median_house_value</th>\n",
              "      <th>ocean_proximity</th>\n",
              "    </tr>\n",
              "  </thead>\n",
              "  <tbody>\n",
              "    <tr>\n",
              "      <th>0</th>\n",
              "      <td>-122.23</td>\n",
              "      <td>37.88</td>\n",
              "      <td>41.0</td>\n",
              "      <td>880.0</td>\n",
              "      <td>129.0</td>\n",
              "      <td>322.0</td>\n",
              "      <td>126.0</td>\n",
              "      <td>8.3252</td>\n",
              "      <td>452600.0</td>\n",
              "      <td>NEAR BAY</td>\n",
              "    </tr>\n",
              "    <tr>\n",
              "      <th>1</th>\n",
              "      <td>-122.22</td>\n",
              "      <td>37.86</td>\n",
              "      <td>21.0</td>\n",
              "      <td>7099.0</td>\n",
              "      <td>1106.0</td>\n",
              "      <td>2401.0</td>\n",
              "      <td>1138.0</td>\n",
              "      <td>8.3014</td>\n",
              "      <td>358500.0</td>\n",
              "      <td>NEAR BAY</td>\n",
              "    </tr>\n",
              "    <tr>\n",
              "      <th>2</th>\n",
              "      <td>-122.24</td>\n",
              "      <td>37.85</td>\n",
              "      <td>52.0</td>\n",
              "      <td>1467.0</td>\n",
              "      <td>190.0</td>\n",
              "      <td>496.0</td>\n",
              "      <td>177.0</td>\n",
              "      <td>7.2574</td>\n",
              "      <td>352100.0</td>\n",
              "      <td>NEAR BAY</td>\n",
              "    </tr>\n",
              "    <tr>\n",
              "      <th>3</th>\n",
              "      <td>-122.25</td>\n",
              "      <td>37.85</td>\n",
              "      <td>52.0</td>\n",
              "      <td>1274.0</td>\n",
              "      <td>235.0</td>\n",
              "      <td>558.0</td>\n",
              "      <td>219.0</td>\n",
              "      <td>5.6431</td>\n",
              "      <td>341300.0</td>\n",
              "      <td>NEAR BAY</td>\n",
              "    </tr>\n",
              "    <tr>\n",
              "      <th>4</th>\n",
              "      <td>-122.25</td>\n",
              "      <td>37.85</td>\n",
              "      <td>52.0</td>\n",
              "      <td>1627.0</td>\n",
              "      <td>280.0</td>\n",
              "      <td>565.0</td>\n",
              "      <td>259.0</td>\n",
              "      <td>3.8462</td>\n",
              "      <td>342200.0</td>\n",
              "      <td>NEAR BAY</td>\n",
              "    </tr>\n",
              "  </tbody>\n",
              "</table>\n",
              "</div>\n",
              "      <button class=\"colab-df-convert\" onclick=\"convertToInteractive('df-705c1fe0-eb30-4196-9b10-92e5952a5e52')\"\n",
              "              title=\"Convert this dataframe to an interactive table.\"\n",
              "              style=\"display:none;\">\n",
              "        \n",
              "  <svg xmlns=\"http://www.w3.org/2000/svg\" height=\"24px\"viewBox=\"0 0 24 24\"\n",
              "       width=\"24px\">\n",
              "    <path d=\"M0 0h24v24H0V0z\" fill=\"none\"/>\n",
              "    <path d=\"M18.56 5.44l.94 2.06.94-2.06 2.06-.94-2.06-.94-.94-2.06-.94 2.06-2.06.94zm-11 1L8.5 8.5l.94-2.06 2.06-.94-2.06-.94L8.5 2.5l-.94 2.06-2.06.94zm10 10l.94 2.06.94-2.06 2.06-.94-2.06-.94-.94-2.06-.94 2.06-2.06.94z\"/><path d=\"M17.41 7.96l-1.37-1.37c-.4-.4-.92-.59-1.43-.59-.52 0-1.04.2-1.43.59L10.3 9.45l-7.72 7.72c-.78.78-.78 2.05 0 2.83L4 21.41c.39.39.9.59 1.41.59.51 0 1.02-.2 1.41-.59l7.78-7.78 2.81-2.81c.8-.78.8-2.07 0-2.86zM5.41 20L4 18.59l7.72-7.72 1.47 1.35L5.41 20z\"/>\n",
              "  </svg>\n",
              "      </button>\n",
              "      \n",
              "  <style>\n",
              "    .colab-df-container {\n",
              "      display:flex;\n",
              "      flex-wrap:wrap;\n",
              "      gap: 12px;\n",
              "    }\n",
              "\n",
              "    .colab-df-convert {\n",
              "      background-color: #E8F0FE;\n",
              "      border: none;\n",
              "      border-radius: 50%;\n",
              "      cursor: pointer;\n",
              "      display: none;\n",
              "      fill: #1967D2;\n",
              "      height: 32px;\n",
              "      padding: 0 0 0 0;\n",
              "      width: 32px;\n",
              "    }\n",
              "\n",
              "    .colab-df-convert:hover {\n",
              "      background-color: #E2EBFA;\n",
              "      box-shadow: 0px 1px 2px rgba(60, 64, 67, 0.3), 0px 1px 3px 1px rgba(60, 64, 67, 0.15);\n",
              "      fill: #174EA6;\n",
              "    }\n",
              "\n",
              "    [theme=dark] .colab-df-convert {\n",
              "      background-color: #3B4455;\n",
              "      fill: #D2E3FC;\n",
              "    }\n",
              "\n",
              "    [theme=dark] .colab-df-convert:hover {\n",
              "      background-color: #434B5C;\n",
              "      box-shadow: 0px 1px 3px 1px rgba(0, 0, 0, 0.15);\n",
              "      filter: drop-shadow(0px 1px 2px rgba(0, 0, 0, 0.3));\n",
              "      fill: #FFFFFF;\n",
              "    }\n",
              "  </style>\n",
              "\n",
              "      <script>\n",
              "        const buttonEl =\n",
              "          document.querySelector('#df-705c1fe0-eb30-4196-9b10-92e5952a5e52 button.colab-df-convert');\n",
              "        buttonEl.style.display =\n",
              "          google.colab.kernel.accessAllowed ? 'block' : 'none';\n",
              "\n",
              "        async function convertToInteractive(key) {\n",
              "          const element = document.querySelector('#df-705c1fe0-eb30-4196-9b10-92e5952a5e52');\n",
              "          const dataTable =\n",
              "            await google.colab.kernel.invokeFunction('convertToInteractive',\n",
              "                                                     [key], {});\n",
              "          if (!dataTable) return;\n",
              "\n",
              "          const docLinkHtml = 'Like what you see? Visit the ' +\n",
              "            '<a target=\"_blank\" href=https://colab.research.google.com/notebooks/data_table.ipynb>data table notebook</a>'\n",
              "            + ' to learn more about interactive tables.';\n",
              "          element.innerHTML = '';\n",
              "          dataTable['output_type'] = 'display_data';\n",
              "          await google.colab.output.renderOutput(dataTable, element);\n",
              "          const docLink = document.createElement('div');\n",
              "          docLink.innerHTML = docLinkHtml;\n",
              "          element.appendChild(docLink);\n",
              "        }\n",
              "      </script>\n",
              "    </div>\n",
              "  </div>\n",
              "  "
            ]
          },
          "metadata": {},
          "execution_count": 155
        }
      ]
    },
    {
      "cell_type": "code",
      "source": [
        "casas[\"median_house_value\"].mean()"
      ],
      "metadata": {
        "colab": {
          "base_uri": "https://localhost:8080/"
        },
        "id": "EvaGRKoChpPP",
        "outputId": "84dff0c5-3cc5-42f0-d7af-41640aa14ecf"
      },
      "execution_count": null,
      "outputs": [
        {
          "output_type": "execute_result",
          "data": {
            "text/plain": [
              "206855.81690891474"
            ]
          },
          "metadata": {},
          "execution_count": 162
        }
      ]
    },
    {
      "cell_type": "code",
      "source": [
        "casas[\"median_house_value\"].median()"
      ],
      "metadata": {
        "colab": {
          "base_uri": "https://localhost:8080/"
        },
        "id": "cBH4RXNhhqUm",
        "outputId": "7880e2f1-3627-46fe-93e2-c98edeb0c859"
      },
      "execution_count": null,
      "outputs": [
        {
          "output_type": "execute_result",
          "data": {
            "text/plain": [
              "179700.0"
            ]
          },
          "metadata": {},
          "execution_count": 163
        }
      ]
    },
    {
      "cell_type": "code",
      "source": [
        "print(f'asdf\"a\"sfd')"
      ],
      "metadata": {
        "colab": {
          "base_uri": "https://localhost:8080/"
        },
        "id": "tQUiHJY-hibI",
        "outputId": "cb2fc9b3-3d1f-4d9d-a7d0-1f308811fca9"
      },
      "execution_count": null,
      "outputs": [
        {
          "output_type": "stream",
          "name": "stdout",
          "text": [
            "asdf\"a\"sfd\n"
          ]
        }
      ]
    },
    {
      "cell_type": "code",
      "source": [
        "print(f'{casas[\"median_house_value\"].mean():.2f}')"
      ],
      "metadata": {
        "colab": {
          "base_uri": "https://localhost:8080/"
        },
        "id": "06v2AbRchG6c",
        "outputId": "75d8a957-ad2e-4fc2-9765-69ad752067f2"
      },
      "execution_count": null,
      "outputs": [
        {
          "output_type": "stream",
          "name": "stdout",
          "text": [
            "206855.82\n"
          ]
        }
      ]
    },
    {
      "cell_type": "code",
      "source": [
        "casas[\"median_income\"].mean()"
      ],
      "metadata": {
        "colab": {
          "base_uri": "https://localhost:8080/"
        },
        "id": "KTL6wNAYhKFh",
        "outputId": "0833c0f4-caf0-4d36-a58a-2d253eafa62b"
      },
      "execution_count": null,
      "outputs": [
        {
          "output_type": "execute_result",
          "data": {
            "text/plain": [
              "3.8706710029069766"
            ]
          },
          "metadata": {},
          "execution_count": 164
        }
      ]
    },
    {
      "cell_type": "code",
      "source": [
        "casas[\"median_income\"].median()"
      ],
      "metadata": {
        "id": "8fYWvrHyh9lv",
        "outputId": "c6e3a7a1-f4ec-4a64-fd22-000b7d97e936",
        "colab": {
          "base_uri": "https://localhost:8080/"
        }
      },
      "execution_count": null,
      "outputs": [
        {
          "output_type": "execute_result",
          "data": {
            "text/plain": [
              "3.5347999999999997"
            ]
          },
          "metadata": {},
          "execution_count": 166
        }
      ]
    },
    {
      "cell_type": "code",
      "source": [],
      "metadata": {
        "id": "8xPJ8al_iA6Y"
      },
      "execution_count": null,
      "outputs": []
    }
  ]
}