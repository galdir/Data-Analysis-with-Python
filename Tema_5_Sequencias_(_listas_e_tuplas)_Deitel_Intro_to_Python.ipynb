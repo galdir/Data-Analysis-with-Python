{
  "nbformat": 4,
  "nbformat_minor": 0,
  "metadata": {
    "colab": {
      "provenance": [],
      "toc_visible": true
    },
    "kernelspec": {
      "name": "python3",
      "display_name": "Python 3"
    },
    "language_info": {
      "name": "python"
    }
  },
  "cells": [
    {
      "cell_type": "markdown",
      "source": [
        "#1 - Sequencias: listas e tuplas"
      ],
      "metadata": {
        "id": "BVVZpXBtXYsG"
      }
    },
    {
      "cell_type": "markdown",
      "source": [
        "* Lista e tupla são tipos de sequencias usadas para representar coleções ordenadas de itens.\n",
        "\n",
        "* As coleções são estruturas de dados pré-empacotadas que consistem em itens de dados relacionados.\n",
        "\n",
        "* Veremos que listas (que são modificáveis) e tuplas (que não são) têm muitos recursos comuns.\n",
        "\n",
        "* Cada uma pode conter itens do mesmo tipo ou de tipos diferentes.\n",
        "\n",
        "* As listas podem ser redimensionadas dinamicamente conforme necessário, crescendo e diminuindo em tempo de execução.sob demanda.\n",
        "* Veremos listas bidimensionais.\n",
        "\n",
        "* Desenvolvermos habilidades de análise e apresentação com as bibliotecas de visualização Seaborn e Matplotlib."
      ],
      "metadata": {
        "id": "bCTKWsJcqYOF"
      }
    },
    {
      "cell_type": "markdown",
      "source": [
        "# 2 - Listas"
      ],
      "metadata": {
        "id": "OgngBnu5XjhG"
      }
    },
    {
      "cell_type": "markdown",
      "source": [
        "##Criando uma lista"
      ],
      "metadata": {
        "id": "OREFr3LFYPbC"
      }
    },
    {
      "cell_type": "code",
      "source": [
        "c = [-45, 6, 0, 72, 1543]"
      ],
      "metadata": {
        "id": "MZoq1zMAYRlY"
      },
      "execution_count": null,
      "outputs": []
    },
    {
      "cell_type": "code",
      "source": [
        "c"
      ],
      "metadata": {
        "colab": {
          "base_uri": "https://localhost:8080/"
        },
        "id": "jKuZwB0SYR-6",
        "outputId": "38cccfd3-250b-4b5b-ff47-685e96eff2bd"
      },
      "execution_count": null,
      "outputs": [
        {
          "output_type": "execute_result",
          "data": {
            "text/plain": [
              "[-45, 6, 0, 72, 1543]"
            ]
          },
          "metadata": {},
          "execution_count": 3
        }
      ]
    },
    {
      "cell_type": "code",
      "source": [
        "type(c)"
      ],
      "metadata": {
        "colab": {
          "base_uri": "https://localhost:8080/"
        },
        "id": "KQmRmAtYYOIF",
        "outputId": "77eb7a0a-8740-45c3-dfd5-78b5d389eaf9"
      },
      "execution_count": null,
      "outputs": [
        {
          "output_type": "execute_result",
          "data": {
            "text/plain": [
              "list"
            ]
          },
          "metadata": {},
          "execution_count": 4
        }
      ]
    },
    {
      "cell_type": "code",
      "source": [
        "coisas = [1 , 1000.0, 'coisa']"
      ],
      "metadata": {
        "id": "gYm9gI9AeRU1"
      },
      "execution_count": null,
      "outputs": []
    },
    {
      "cell_type": "code",
      "source": [
        "coisas"
      ],
      "metadata": {
        "colab": {
          "base_uri": "https://localhost:8080/"
        },
        "id": "RfDxrn5UeUUt",
        "outputId": "ad013fc7-dc48-46ee-d367-f1a3c56ae718"
      },
      "execution_count": null,
      "outputs": [
        {
          "output_type": "execute_result",
          "data": {
            "text/plain": [
              "[1, 1000, 'coisa']"
            ]
          },
          "metadata": {},
          "execution_count": 4
        }
      ]
    },
    {
      "cell_type": "code",
      "source": [
        "type(coisas)"
      ],
      "metadata": {
        "colab": {
          "base_uri": "https://localhost:8080/"
        },
        "id": "wK3UtFjJYTih",
        "outputId": "d0636ed1-9c7e-4e25-c97d-5528a53f4888"
      },
      "execution_count": null,
      "outputs": [
        {
          "output_type": "execute_result",
          "data": {
            "text/plain": [
              "list"
            ]
          },
          "metadata": {},
          "execution_count": 7
        }
      ]
    },
    {
      "cell_type": "code",
      "source": [
        "type(coisas[0])"
      ],
      "metadata": {
        "colab": {
          "base_uri": "https://localhost:8080/"
        },
        "id": "skTmKS5OYU6B",
        "outputId": "2fdacd79-68b1-4752-ffac-a6f88b68c0a9"
      },
      "execution_count": null,
      "outputs": [
        {
          "output_type": "execute_result",
          "data": {
            "text/plain": [
              "int"
            ]
          },
          "metadata": {},
          "execution_count": 8
        }
      ]
    },
    {
      "cell_type": "code",
      "source": [
        "type(coisas[1])"
      ],
      "metadata": {
        "colab": {
          "base_uri": "https://localhost:8080/"
        },
        "id": "6ICUgej0YXB4",
        "outputId": "b135af43-071d-4b24-c6ac-fb6f568ce499"
      },
      "execution_count": null,
      "outputs": [
        {
          "output_type": "execute_result",
          "data": {
            "text/plain": [
              "float"
            ]
          },
          "metadata": {},
          "execution_count": 9
        }
      ]
    },
    {
      "cell_type": "markdown",
      "source": [
        "##Acessando elementos"
      ],
      "metadata": {
        "id": "uhbAYecBYbx0"
      }
    },
    {
      "cell_type": "code",
      "source": [
        "c[0]"
      ],
      "metadata": {
        "colab": {
          "base_uri": "https://localhost:8080/"
        },
        "id": "YBDj_k4iYSR1",
        "outputId": "5567aa97-a7be-4e44-db8d-8d42900f318c"
      },
      "execution_count": null,
      "outputs": [
        {
          "output_type": "execute_result",
          "data": {
            "text/plain": [
              "-45"
            ]
          },
          "metadata": {},
          "execution_count": 10
        }
      ]
    },
    {
      "cell_type": "code",
      "source": [
        "c[4]"
      ],
      "metadata": {
        "colab": {
          "base_uri": "https://localhost:8080/"
        },
        "id": "pNjx7vssYTxR",
        "outputId": "3094b0b4-02c6-412d-cf61-786bc07d86d6"
      },
      "execution_count": null,
      "outputs": [
        {
          "output_type": "execute_result",
          "data": {
            "text/plain": [
              "1543"
            ]
          },
          "metadata": {},
          "execution_count": 11
        }
      ]
    },
    {
      "cell_type": "markdown",
      "source": [
        "##Tamanho da lista"
      ],
      "metadata": {
        "id": "CdVkGBWGYaKU"
      }
    },
    {
      "cell_type": "code",
      "source": [
        "len(c)"
      ],
      "metadata": {
        "colab": {
          "base_uri": "https://localhost:8080/"
        },
        "id": "vEUyzHePYU0h",
        "outputId": "cf6efd96-1b17-431a-934a-2564386a01aa"
      },
      "execution_count": null,
      "outputs": [
        {
          "output_type": "execute_result",
          "data": {
            "text/plain": [
              "5"
            ]
          },
          "metadata": {},
          "execution_count": 12
        }
      ]
    },
    {
      "cell_type": "markdown",
      "source": [
        "##Acessando elementos do final da lista com índices negativos"
      ],
      "metadata": {
        "id": "u2MGUXPJYdkz"
      }
    },
    {
      "cell_type": "code",
      "source": [
        "c[-1]"
      ],
      "metadata": {
        "colab": {
          "base_uri": "https://localhost:8080/"
        },
        "id": "sYaEZn-WYWEZ",
        "outputId": "f012fd87-1f94-4b47-9bd1-18bef3d535a4"
      },
      "execution_count": null,
      "outputs": [
        {
          "output_type": "execute_result",
          "data": {
            "text/plain": [
              "1543"
            ]
          },
          "metadata": {},
          "execution_count": 13
        }
      ]
    },
    {
      "cell_type": "code",
      "source": [
        "c"
      ],
      "metadata": {
        "colab": {
          "base_uri": "https://localhost:8080/"
        },
        "id": "bVBWAm9vYiWb",
        "outputId": "cf7ed5d9-d5a9-4d30-d810-005a3279fd8b"
      },
      "execution_count": null,
      "outputs": [
        {
          "output_type": "execute_result",
          "data": {
            "text/plain": [
              "[-45, 6, 0, 72, 1543]"
            ]
          },
          "metadata": {},
          "execution_count": 14
        }
      ]
    },
    {
      "cell_type": "code",
      "source": [
        "c[-5]"
      ],
      "metadata": {
        "colab": {
          "base_uri": "https://localhost:8080/"
        },
        "id": "H-tjrnpmYfPJ",
        "outputId": "19be4e9d-7819-4087-c423-7987fd351317"
      },
      "execution_count": null,
      "outputs": [
        {
          "output_type": "execute_result",
          "data": {
            "text/plain": [
              "-45"
            ]
          },
          "metadata": {},
          "execution_count": 15
        }
      ]
    },
    {
      "cell_type": "code",
      "source": [
        "c[-6]"
      ],
      "metadata": {
        "colab": {
          "base_uri": "https://localhost:8080/",
          "height": 167
        },
        "id": "ZQzM7m5srG01",
        "outputId": "07615cb5-4e73-4f44-f7d5-30f990bbacdd"
      },
      "execution_count": null,
      "outputs": [
        {
          "output_type": "error",
          "ename": "IndexError",
          "evalue": "ignored",
          "traceback": [
            "\u001b[0;31m---------------------------------------------------------------------------\u001b[0m",
            "\u001b[0;31mIndexError\u001b[0m                                Traceback (most recent call last)",
            "\u001b[0;32m<ipython-input-16-dfb8996802a6>\u001b[0m in \u001b[0;36m<module>\u001b[0;34m\u001b[0m\n\u001b[0;32m----> 1\u001b[0;31m \u001b[0mc\u001b[0m\u001b[0;34m[\u001b[0m\u001b[0;34m-\u001b[0m\u001b[0;36m6\u001b[0m\u001b[0;34m]\u001b[0m\u001b[0;34m\u001b[0m\u001b[0;34m\u001b[0m\u001b[0m\n\u001b[0m",
            "\u001b[0;31mIndexError\u001b[0m: list index out of range"
          ]
        }
      ]
    },
    {
      "cell_type": "markdown",
      "source": [
        "##Índices têm que ser inteiros"
      ],
      "metadata": {
        "id": "1-bnIMG-YjVo"
      }
    },
    {
      "cell_type": "code",
      "source": [
        "a = 1\n",
        "b = 2"
      ],
      "metadata": {
        "id": "b_P0-BTcYgLB"
      },
      "execution_count": null,
      "outputs": []
    },
    {
      "cell_type": "code",
      "source": [
        "c"
      ],
      "metadata": {
        "colab": {
          "base_uri": "https://localhost:8080/"
        },
        "id": "j6NuzalUYwPF",
        "outputId": "ac08621b-b6d4-4637-d2be-c69c9624f5a6"
      },
      "execution_count": null,
      "outputs": [
        {
          "output_type": "execute_result",
          "data": {
            "text/plain": [
              "[-45, 6, 0, 72, 1543]"
            ]
          },
          "metadata": {},
          "execution_count": 20
        }
      ]
    },
    {
      "cell_type": "code",
      "source": [
        "c[a + b]"
      ],
      "metadata": {
        "colab": {
          "base_uri": "https://localhost:8080/"
        },
        "id": "SiZ-m6ikYoW6",
        "outputId": "f181088b-f486-434f-81e1-a0c211f882a2"
      },
      "execution_count": null,
      "outputs": [
        {
          "output_type": "execute_result",
          "data": {
            "text/plain": [
              "72"
            ]
          },
          "metadata": {},
          "execution_count": 18
        }
      ]
    },
    {
      "cell_type": "markdown",
      "source": [
        "##Listas são mutáveis"
      ],
      "metadata": {
        "id": "9w1TdBkEYsux"
      }
    },
    {
      "cell_type": "code",
      "source": [
        "c"
      ],
      "metadata": {
        "colab": {
          "base_uri": "https://localhost:8080/"
        },
        "id": "JPnxCR-1Ys0z",
        "outputId": "b0b311dd-3364-4016-8756-f34d9826b51a"
      },
      "execution_count": null,
      "outputs": [
        {
          "output_type": "execute_result",
          "data": {
            "text/plain": [
              "[-45, 6, 0, 72, 1543]"
            ]
          },
          "metadata": {},
          "execution_count": 19
        }
      ]
    },
    {
      "cell_type": "code",
      "source": [
        "c[4] = 12"
      ],
      "metadata": {
        "id": "73R2yWrEYqGS"
      },
      "execution_count": null,
      "outputs": []
    },
    {
      "cell_type": "code",
      "source": [
        "c"
      ],
      "metadata": {
        "colab": {
          "base_uri": "https://localhost:8080/"
        },
        "id": "qCuYarbUYvZJ",
        "outputId": "badbb6db-b44f-4841-a8e1-63b9dfbcadcf"
      },
      "execution_count": null,
      "outputs": [
        {
          "output_type": "execute_result",
          "data": {
            "text/plain": [
              "[-45, 6, 0, 72, 12]"
            ]
          },
          "metadata": {},
          "execution_count": 22
        }
      ]
    },
    {
      "cell_type": "markdown",
      "source": [
        "##Elemento inexistente"
      ],
      "metadata": {
        "id": "ND2rrjvtYzWF"
      }
    },
    {
      "cell_type": "code",
      "source": [
        "c[100]"
      ],
      "metadata": {
        "colab": {
          "base_uri": "https://localhost:8080/",
          "height": 167
        },
        "id": "aHVknYdVYv26",
        "outputId": "7ad0a672-fddd-4e41-9595-92ea866ac0db"
      },
      "execution_count": null,
      "outputs": [
        {
          "output_type": "error",
          "ename": "IndexError",
          "evalue": "ignored",
          "traceback": [
            "\u001b[0;31m---------------------------------------------------------------------------\u001b[0m",
            "\u001b[0;31mIndexError\u001b[0m                                Traceback (most recent call last)",
            "\u001b[0;32m<ipython-input-23-78fb4de297cc>\u001b[0m in \u001b[0;36m<module>\u001b[0;34m\u001b[0m\n\u001b[0;32m----> 1\u001b[0;31m \u001b[0mc\u001b[0m\u001b[0;34m[\u001b[0m\u001b[0;36m100\u001b[0m\u001b[0;34m]\u001b[0m\u001b[0;34m\u001b[0m\u001b[0;34m\u001b[0m\u001b[0m\n\u001b[0m",
            "\u001b[0;31mIndexError\u001b[0m: list index out of range"
          ]
        }
      ]
    },
    {
      "cell_type": "markdown",
      "source": [
        "##Elementos em Expresões"
      ],
      "metadata": {
        "id": "Cm_xdGWQY3oi"
      }
    },
    {
      "cell_type": "code",
      "source": [
        "c"
      ],
      "metadata": {
        "colab": {
          "base_uri": "https://localhost:8080/"
        },
        "id": "5fJBiVcBY8ZX",
        "outputId": "f82b7198-f9c9-4832-b954-e4041908dda7"
      },
      "execution_count": null,
      "outputs": [
        {
          "output_type": "execute_result",
          "data": {
            "text/plain": [
              "[-45, 6, 0, 72, 12]"
            ]
          },
          "metadata": {},
          "execution_count": 24
        }
      ]
    },
    {
      "cell_type": "code",
      "source": [
        "c[0] + c[1] + c[2]"
      ],
      "metadata": {
        "colab": {
          "base_uri": "https://localhost:8080/"
        },
        "id": "2AqTgcXkY1sp",
        "outputId": "7e1132a7-804a-49c2-e09f-dd3e61a865a6"
      },
      "execution_count": null,
      "outputs": [
        {
          "output_type": "execute_result",
          "data": {
            "text/plain": [
              "-39"
            ]
          },
          "metadata": {},
          "execution_count": 25
        }
      ]
    },
    {
      "cell_type": "code",
      "source": [],
      "metadata": {
        "id": "ZR8Iw30orneS"
      },
      "execution_count": null,
      "outputs": []
    },
    {
      "cell_type": "markdown",
      "metadata": {
        "id": "qdfU72aqbgLR"
      },
      "source": [
        "### Adicionando elementos em uma lista com +="
      ]
    },
    {
      "cell_type": "code",
      "execution_count": null,
      "metadata": {
        "id": "OdtAm9e3bgLR"
      },
      "outputs": [],
      "source": [
        "a_list = []"
      ]
    },
    {
      "cell_type": "code",
      "execution_count": null,
      "metadata": {
        "id": "DQw-x48VbgLS",
        "colab": {
          "base_uri": "https://localhost:8080/"
        },
        "outputId": "1e301e5a-02d7-49da-f544-96b44551c175"
      },
      "outputs": [
        {
          "output_type": "stream",
          "name": "stdout",
          "text": [
            "[1]\n",
            "[1, 2]\n",
            "[1, 2, 3]\n",
            "[1, 2, 3, 4]\n",
            "[1, 2, 3, 4, 5]\n"
          ]
        }
      ],
      "source": [
        "for number in range(1, 6):\n",
        "    a_list += [number]\n",
        "    print(a_list)"
      ]
    },
    {
      "cell_type": "code",
      "source": [
        "a_list"
      ],
      "metadata": {
        "colab": {
          "base_uri": "https://localhost:8080/"
        },
        "id": "FjgWNZWQrtyG",
        "outputId": "cc47401f-6e9e-4d60-b20d-a906da71479a"
      },
      "execution_count": null,
      "outputs": [
        {
          "output_type": "execute_result",
          "data": {
            "text/plain": [
              "[1, 2, 3, 4, 5]"
            ]
          },
          "metadata": {},
          "execution_count": 28
        }
      ]
    },
    {
      "cell_type": "code",
      "source": [],
      "metadata": {
        "id": "Ly6hw2jCruQp"
      },
      "execution_count": null,
      "outputs": []
    },
    {
      "cell_type": "code",
      "execution_count": null,
      "metadata": {
        "id": "WGCVBdDIbgLS"
      },
      "outputs": [],
      "source": [
        "letters = []"
      ]
    },
    {
      "cell_type": "code",
      "execution_count": null,
      "metadata": {
        "id": "3fEv803zbgLS"
      },
      "outputs": [],
      "source": [
        "letters += 'Python'"
      ]
    },
    {
      "cell_type": "code",
      "source": [
        "letters"
      ],
      "metadata": {
        "colab": {
          "base_uri": "https://localhost:8080/"
        },
        "id": "qjJiEwspr4NU",
        "outputId": "02d0b919-90a7-47cc-ba26-982aa53110f6"
      },
      "execution_count": null,
      "outputs": [
        {
          "output_type": "execute_result",
          "data": {
            "text/plain": [
              "['P', 'y', 't', 'h', 'o', 'n']"
            ]
          },
          "metadata": {},
          "execution_count": 32
        }
      ]
    },
    {
      "cell_type": "code",
      "source": [
        "outra_lista = []"
      ],
      "metadata": {
        "id": "uNiKMogar5fY"
      },
      "execution_count": null,
      "outputs": []
    },
    {
      "cell_type": "code",
      "source": [
        "outra_lista += range(1,6)"
      ],
      "metadata": {
        "id": "7mo7aRPeZspw"
      },
      "execution_count": null,
      "outputs": []
    },
    {
      "cell_type": "code",
      "source": [
        "outra_lista"
      ],
      "metadata": {
        "colab": {
          "base_uri": "https://localhost:8080/"
        },
        "id": "VNcM-kfIZyrH",
        "outputId": "18f67bd2-77e0-4e64-cfa9-916136eac953"
      },
      "execution_count": null,
      "outputs": [
        {
          "output_type": "execute_result",
          "data": {
            "text/plain": [
              "[1, 2, 3, 4, 5]"
            ]
          },
          "metadata": {},
          "execution_count": 35
        }
      ]
    },
    {
      "cell_type": "markdown",
      "metadata": {
        "id": "ACrRLi45bgLS"
      },
      "source": [
        "### Concatenando listas com +"
      ]
    },
    {
      "cell_type": "code",
      "execution_count": null,
      "metadata": {
        "id": "-CqTSP36bgLT"
      },
      "outputs": [],
      "source": [
        "list1 = [10, 20, 30]"
      ]
    },
    {
      "cell_type": "code",
      "execution_count": null,
      "metadata": {
        "id": "xIFyvkAibgLT"
      },
      "outputs": [],
      "source": [
        "list2 = [40, 50]"
      ]
    },
    {
      "cell_type": "code",
      "source": [
        "concatenated_list = list1 + list2"
      ],
      "metadata": {
        "id": "WplvOekhsBYn"
      },
      "execution_count": null,
      "outputs": []
    },
    {
      "cell_type": "code",
      "source": [
        "concatenated_list"
      ],
      "metadata": {
        "colab": {
          "base_uri": "https://localhost:8080/"
        },
        "id": "K_DE6h3osEar",
        "outputId": "a3512246-ee28-4a30-db00-b522338d3137"
      },
      "execution_count": null,
      "outputs": [
        {
          "output_type": "execute_result",
          "data": {
            "text/plain": [
              "[10, 20, 30, 40, 50]"
            ]
          },
          "metadata": {},
          "execution_count": 39
        }
      ]
    },
    {
      "cell_type": "markdown",
      "metadata": {
        "id": "X3aqDnrpbgLT"
      },
      "source": [
        "### Usando `for` e `range` para acessar indices e valores de listas "
      ]
    },
    {
      "cell_type": "code",
      "execution_count": null,
      "metadata": {
        "id": "Sg96ur-cbgLU",
        "colab": {
          "base_uri": "https://localhost:8080/"
        },
        "outputId": "7d34ffb1-9e95-4263-97c7-bf59ee15859d"
      },
      "outputs": [
        {
          "output_type": "stream",
          "name": "stdout",
          "text": [
            "0: 10\n",
            "1: 20\n",
            "2: 30\n",
            "3: 40\n",
            "4: 50\n"
          ]
        }
      ],
      "source": [
        "for i in range(len(concatenated_list)):  \n",
        "    print(f'{i}: {concatenated_list[i]}')"
      ]
    },
    {
      "cell_type": "markdown",
      "metadata": {
        "id": "qBsrJuaFbgLU"
      },
      "source": [
        "### Operadores de comparação"
      ]
    },
    {
      "cell_type": "code",
      "execution_count": null,
      "metadata": {
        "id": "SzvouLJsbgLU"
      },
      "outputs": [],
      "source": [
        "a = [1, 2, 3]"
      ]
    },
    {
      "cell_type": "code",
      "execution_count": null,
      "metadata": {
        "id": "oOeXgfDybgLV"
      },
      "outputs": [],
      "source": [
        "b = [1, 2, 3]"
      ]
    },
    {
      "cell_type": "code",
      "execution_count": null,
      "metadata": {
        "id": "gEJbMGp9bgLV"
      },
      "outputs": [],
      "source": [
        "c = [1, 2, 3, 4]"
      ]
    },
    {
      "cell_type": "code",
      "execution_count": null,
      "metadata": {
        "id": "BzanwO2bbgLV",
        "colab": {
          "base_uri": "https://localhost:8080/"
        },
        "outputId": "08050135-4e64-4446-ac3d-1278885fbe59"
      },
      "outputs": [
        {
          "output_type": "execute_result",
          "data": {
            "text/plain": [
              "True"
            ]
          },
          "metadata": {},
          "execution_count": 45
        }
      ],
      "source": [
        "a == b"
      ]
    },
    {
      "cell_type": "code",
      "source": [
        "a === b"
      ],
      "metadata": {
        "colab": {
          "base_uri": "https://localhost:8080/",
          "height": 132
        },
        "id": "hUb3t0j9ad3K",
        "outputId": "64ef1273-8dc7-4bd1-d4ad-e24adec245b1"
      },
      "execution_count": null,
      "outputs": [
        {
          "output_type": "error",
          "ename": "SyntaxError",
          "evalue": "ignored",
          "traceback": [
            "\u001b[0;36m  File \u001b[0;32m\"<ipython-input-46-4af1ec01c719>\"\u001b[0;36m, line \u001b[0;32m1\u001b[0m\n\u001b[0;31m    a === b\u001b[0m\n\u001b[0m        ^\u001b[0m\n\u001b[0;31mSyntaxError\u001b[0m\u001b[0;31m:\u001b[0m invalid syntax\n"
          ]
        }
      ]
    },
    {
      "cell_type": "code",
      "source": [
        "a == c"
      ],
      "metadata": {
        "colab": {
          "base_uri": "https://localhost:8080/"
        },
        "id": "10s5jSAvstzm",
        "outputId": "cd02999b-e2ca-4500-f385-1e4a3cace9dc"
      },
      "execution_count": null,
      "outputs": [
        {
          "output_type": "execute_result",
          "data": {
            "text/plain": [
              "False"
            ]
          },
          "metadata": {},
          "execution_count": 47
        }
      ]
    },
    {
      "cell_type": "code",
      "execution_count": null,
      "metadata": {
        "id": "Fe87R0lbbgLW",
        "colab": {
          "base_uri": "https://localhost:8080/"
        },
        "outputId": "50346e57-e278-40a4-c85d-e4a0453dadbb"
      },
      "outputs": [
        {
          "output_type": "execute_result",
          "data": {
            "text/plain": [
              "True"
            ]
          },
          "metadata": {},
          "execution_count": 48
        }
      ],
      "source": [
        "a < c"
      ]
    },
    {
      "cell_type": "code",
      "execution_count": null,
      "metadata": {
        "id": "lXIBrwxUbgLW",
        "colab": {
          "base_uri": "https://localhost:8080/"
        },
        "outputId": "6413f810-007f-4b2f-c0e9-a2ff32df0dca"
      },
      "outputs": [
        {
          "output_type": "execute_result",
          "data": {
            "text/plain": [
              "True"
            ]
          },
          "metadata": {},
          "execution_count": 49
        }
      ],
      "source": [
        "c >= b"
      ]
    },
    {
      "cell_type": "code",
      "source": [
        "d = [0, 1, 2]"
      ],
      "metadata": {
        "id": "ExADOJPpcrNi"
      },
      "execution_count": null,
      "outputs": []
    },
    {
      "cell_type": "code",
      "source": [
        "a < d"
      ],
      "metadata": {
        "colab": {
          "base_uri": "https://localhost:8080/"
        },
        "id": "bFUB1PHnc2LS",
        "outputId": "417ed907-7715-4e87-9e60-b96598a09a1b"
      },
      "execution_count": null,
      "outputs": [
        {
          "output_type": "execute_result",
          "data": {
            "text/plain": [
              "False"
            ]
          },
          "metadata": {},
          "execution_count": 52
        }
      ]
    },
    {
      "cell_type": "code",
      "source": [
        "d < a"
      ],
      "metadata": {
        "colab": {
          "base_uri": "https://localhost:8080/"
        },
        "id": "Fu9qPe1Bs6jY",
        "outputId": "04ef632c-d1a1-4370-be85-cf085a832b0a"
      },
      "execution_count": null,
      "outputs": [
        {
          "output_type": "execute_result",
          "data": {
            "text/plain": [
              "True"
            ]
          },
          "metadata": {},
          "execution_count": 53
        }
      ]
    },
    {
      "cell_type": "code",
      "source": [
        "a is b"
      ],
      "metadata": {
        "colab": {
          "base_uri": "https://localhost:8080/"
        },
        "id": "naiKNKKabNSH",
        "outputId": "32793421-cd6c-433a-ab28-5fc2136dc330"
      },
      "execution_count": null,
      "outputs": [
        {
          "output_type": "execute_result",
          "data": {
            "text/plain": [
              "False"
            ]
          },
          "metadata": {},
          "execution_count": 54
        }
      ]
    },
    {
      "cell_type": "markdown",
      "source": [
        "##Atividade"
      ],
      "metadata": {
        "id": "Oh4QTl1CdT2N"
      }
    },
    {
      "cell_type": "markdown",
      "source": [
        "(Sessão do IPython) Crie uma função cube_list que eleva ao cubo cada elemento de uma lista. Chame a função com os números da lista contendo de 1 a 10. Mostre os números após a chamada."
      ],
      "metadata": {
        "id": "tJt4hLjydXzx"
      }
    },
    {
      "cell_type": "markdown",
      "source": [
        "Resposta do lucassouza"
      ],
      "metadata": {
        "id": "K7RxO2T7dUhH"
      }
    },
    {
      "cell_type": "code",
      "source": [
        "from typing import List\n",
        "\n",
        "def cube_list(arr: List[int]) -> List[int] : #comparando lista\n",
        "  return [x ** 3 for x in arr]\n"
      ],
      "metadata": {
        "id": "fUv2mgPmtBNb"
      },
      "execution_count": null,
      "outputs": []
    },
    {
      "cell_type": "code",
      "source": [
        "cube_list(list(range(1,11)))\n"
      ],
      "metadata": {
        "colab": {
          "base_uri": "https://localhost:8080/"
        },
        "id": "iEmQ5MzwdgYA",
        "outputId": "b8fde57d-5cc5-4938-947c-46ba764c3063"
      },
      "execution_count": null,
      "outputs": [
        {
          "output_type": "execute_result",
          "data": {
            "text/plain": [
              "[1, 8, 27, 64, 125, 216, 343, 512, 729, 1000]"
            ]
          },
          "metadata": {},
          "execution_count": 60
        }
      ]
    },
    {
      "cell_type": "markdown",
      "source": [
        "Resposta do jorge filipe"
      ],
      "metadata": {
        "id": "l6Ig2OXQdoJI"
      }
    },
    {
      "cell_type": "code",
      "source": [
        "def cube_list(lista):\n",
        "    return [i**3 for i in lista]\n",
        "\n",
        "print(cube_list(range(1,11)))\n"
      ],
      "metadata": {
        "colab": {
          "base_uri": "https://localhost:8080/"
        },
        "id": "vE7K3IzXdxUs",
        "outputId": "85dd6dab-f2a2-4031-e561-1dfeb47fcdcd"
      },
      "execution_count": null,
      "outputs": [
        {
          "output_type": "stream",
          "name": "stdout",
          "text": [
            "[1, 8, 27, 64, 125, 216, 343, 512, 729, 1000]\n"
          ]
        }
      ]
    },
    {
      "cell_type": "markdown",
      "source": [
        "Resposta do breno"
      ],
      "metadata": {
        "id": "TzmZYRf4d7S_"
      }
    },
    {
      "cell_type": "code",
      "source": [
        "def cube_list(list):\n",
        "  new_list = []\n",
        "  for i in range(len(list)):\n",
        "    new_list.append(list[i] ** 3)\n",
        "  return new_list\n",
        "\n",
        "my_list = [1, 2, 3, 4, 5, 6, 7, 8, 9, 10]\n",
        "print(cube_list(my_list))\n"
      ],
      "metadata": {
        "colab": {
          "base_uri": "https://localhost:8080/"
        },
        "id": "veZtRcFDd_zV",
        "outputId": "65d35478-813c-48f6-835d-c8f87f3ff149"
      },
      "execution_count": null,
      "outputs": [
        {
          "output_type": "stream",
          "name": "stdout",
          "text": [
            "[1, 8, 27, 64, 125, 216, 343, 512, 729, 1000]\n"
          ]
        }
      ]
    },
    {
      "cell_type": "markdown",
      "source": [
        "Resposta do felipe serra"
      ],
      "metadata": {
        "id": "kDVvnkXjfMhN"
      }
    },
    {
      "cell_type": "code",
      "source": [
        "def club_list(list):\n",
        "  for i in range(len(list)):  \n",
        "    cubo = list[i] ** 3\n",
        "    print(i, \":\", cubo )\n"
      ],
      "metadata": {
        "id": "I8ZUxQ0TfPur"
      },
      "execution_count": null,
      "outputs": []
    },
    {
      "cell_type": "code",
      "source": [
        "lista = range(1, 10)\n",
        "club_list(lista)\n"
      ],
      "metadata": {
        "colab": {
          "base_uri": "https://localhost:8080/"
        },
        "id": "iESlJ2N7fV7a",
        "outputId": "7dee144d-8950-4742-8f9c-3027cdd0b96a"
      },
      "execution_count": null,
      "outputs": [
        {
          "output_type": "stream",
          "name": "stdout",
          "text": [
            "0 : 1\n",
            "1 : 8\n",
            "2 : 27\n",
            "3 : 64\n",
            "4 : 125\n",
            "5 : 216\n",
            "6 : 343\n",
            "7 : 512\n",
            "8 : 729\n"
          ]
        }
      ]
    },
    {
      "cell_type": "markdown",
      "metadata": {
        "id": "9LM9oVU_bgLg"
      },
      "source": [
        "# 3 Tuplas"
      ]
    },
    {
      "cell_type": "markdown",
      "metadata": {
        "id": "DlC7x_gtbgLg"
      },
      "source": [
        "### Criando tuplas"
      ]
    },
    {
      "cell_type": "code",
      "execution_count": null,
      "metadata": {
        "id": "9W6t4P7hbgLh"
      },
      "outputs": [],
      "source": [
        "student_tuple = ()"
      ]
    },
    {
      "cell_type": "code",
      "execution_count": null,
      "metadata": {
        "id": "Dz5uVe6HbgLi",
        "colab": {
          "base_uri": "https://localhost:8080/"
        },
        "outputId": "cdbae484-893b-472c-ed76-54ec1f34de71"
      },
      "outputs": [
        {
          "output_type": "execute_result",
          "data": {
            "text/plain": [
              "()"
            ]
          },
          "metadata": {},
          "execution_count": 70
        }
      ],
      "source": [
        "student_tuple"
      ]
    },
    {
      "cell_type": "code",
      "source": [
        "type(student_tuple)"
      ],
      "metadata": {
        "colab": {
          "base_uri": "https://localhost:8080/"
        },
        "id": "znKHdO1Qfs7B",
        "outputId": "263179d7-ef81-4b87-e3eb-df348391a666"
      },
      "execution_count": null,
      "outputs": [
        {
          "output_type": "execute_result",
          "data": {
            "text/plain": [
              "tuple"
            ]
          },
          "metadata": {},
          "execution_count": 71
        }
      ]
    },
    {
      "cell_type": "code",
      "execution_count": null,
      "metadata": {
        "id": "glTjQ9UxbgLi",
        "colab": {
          "base_uri": "https://localhost:8080/"
        },
        "outputId": "11f6cba8-239a-4224-8e6a-4d7a58500502"
      },
      "outputs": [
        {
          "output_type": "execute_result",
          "data": {
            "text/plain": [
              "0"
            ]
          },
          "metadata": {},
          "execution_count": 72
        }
      ],
      "source": [
        "len(student_tuple)"
      ]
    },
    {
      "cell_type": "code",
      "execution_count": null,
      "metadata": {
        "id": "-TY4_0JvbgLj"
      },
      "outputs": [],
      "source": [
        "student_tuple = 'John', 'Green', 3.3"
      ]
    },
    {
      "cell_type": "code",
      "source": [
        "student_tuple"
      ],
      "metadata": {
        "colab": {
          "base_uri": "https://localhost:8080/"
        },
        "id": "DaOG3FvFtaWc",
        "outputId": "0053b748-2875-4e48-c3eb-98d0c56f1970"
      },
      "execution_count": null,
      "outputs": [
        {
          "output_type": "execute_result",
          "data": {
            "text/plain": [
              "('John', 'Green', 3.3)"
            ]
          },
          "metadata": {},
          "execution_count": 74
        }
      ]
    },
    {
      "cell_type": "code",
      "source": [
        "type(student_tuple)"
      ],
      "metadata": {
        "colab": {
          "base_uri": "https://localhost:8080/"
        },
        "id": "aPziHW0itb0U",
        "outputId": "87281921-b49f-4ad8-c973-492a64685e7c"
      },
      "execution_count": null,
      "outputs": [
        {
          "output_type": "execute_result",
          "data": {
            "text/plain": [
              "tuple"
            ]
          },
          "metadata": {},
          "execution_count": 75
        }
      ]
    },
    {
      "cell_type": "code",
      "source": [],
      "metadata": {
        "id": "pEaUHXjytdDg"
      },
      "execution_count": null,
      "outputs": []
    },
    {
      "cell_type": "code",
      "execution_count": null,
      "metadata": {
        "id": "2k7KzRPKbgLj",
        "colab": {
          "base_uri": "https://localhost:8080/"
        },
        "outputId": "13fe7302-7cf2-4297-84b0-a1543c612faa"
      },
      "outputs": [
        {
          "output_type": "execute_result",
          "data": {
            "text/plain": [
              "3"
            ]
          },
          "metadata": {},
          "execution_count": 76
        }
      ],
      "source": [
        "len(student_tuple)"
      ]
    },
    {
      "cell_type": "code",
      "execution_count": null,
      "metadata": {
        "id": "asmQpg3TbgLk"
      },
      "outputs": [],
      "source": [
        "another_student_tuple = ('Mary', 'Red', 3.3)"
      ]
    },
    {
      "cell_type": "code",
      "execution_count": null,
      "metadata": {
        "id": "aJYlso60bgLk",
        "colab": {
          "base_uri": "https://localhost:8080/"
        },
        "outputId": "aa85efa5-ddd8-49ec-ad6f-34c7a5a159a5"
      },
      "outputs": [
        {
          "output_type": "execute_result",
          "data": {
            "text/plain": [
              "('Mary', 'Red', 3.3)"
            ]
          },
          "metadata": {},
          "execution_count": 78
        }
      ],
      "source": [
        "another_student_tuple"
      ]
    },
    {
      "cell_type": "code",
      "source": [
        "a_singleton_tuple = ('red') "
      ],
      "metadata": {
        "id": "GtqDihwktyNn"
      },
      "execution_count": null,
      "outputs": []
    },
    {
      "cell_type": "code",
      "source": [
        "type(a_singleton_tuple)"
      ],
      "metadata": {
        "colab": {
          "base_uri": "https://localhost:8080/"
        },
        "id": "stCVJyZwt04Y",
        "outputId": "b6df3261-f826-4b1f-8727-91afcec753d5"
      },
      "execution_count": null,
      "outputs": [
        {
          "output_type": "execute_result",
          "data": {
            "text/plain": [
              "str"
            ]
          },
          "metadata": {},
          "execution_count": 80
        }
      ]
    },
    {
      "cell_type": "code",
      "execution_count": null,
      "metadata": {
        "id": "sd6eiMxIbgLl"
      },
      "outputs": [],
      "source": [
        "a_singleton_tuple = ('red',)  # note the comma"
      ]
    },
    {
      "cell_type": "code",
      "execution_count": null,
      "metadata": {
        "id": "ayAsV7OAbgLm",
        "colab": {
          "base_uri": "https://localhost:8080/"
        },
        "outputId": "8276aaee-e3ea-4fb8-827a-a78d5bf08b3d"
      },
      "outputs": [
        {
          "output_type": "execute_result",
          "data": {
            "text/plain": [
              "('red',)"
            ]
          },
          "metadata": {},
          "execution_count": 82
        }
      ],
      "source": [
        "a_singleton_tuple"
      ]
    },
    {
      "cell_type": "markdown",
      "metadata": {
        "id": "2oQMN9HhbgLo"
      },
      "source": [
        "   \n",
        "\n",
        "### Acessando elementos das tuplas"
      ]
    },
    {
      "cell_type": "code",
      "execution_count": null,
      "metadata": {
        "id": "l5jv7kXcbgLp"
      },
      "outputs": [],
      "source": [
        "time_tuple = (9, 16, 1)"
      ]
    },
    {
      "cell_type": "code",
      "execution_count": null,
      "metadata": {
        "id": "QwSe72XBbgLp",
        "colab": {
          "base_uri": "https://localhost:8080/"
        },
        "outputId": "64116c0a-6466-48d6-b051-5516877f9d37"
      },
      "outputs": [
        {
          "output_type": "execute_result",
          "data": {
            "text/plain": [
              "(9, 16, 1)"
            ]
          },
          "metadata": {},
          "execution_count": 84
        }
      ],
      "source": [
        "time_tuple"
      ]
    },
    {
      "cell_type": "code",
      "source": [
        "time_tuple[0]"
      ],
      "metadata": {
        "colab": {
          "base_uri": "https://localhost:8080/"
        },
        "id": "sTki3PZdfKDM",
        "outputId": "f76a89c6-fde5-42df-cc56-a8f08e900879"
      },
      "execution_count": null,
      "outputs": [
        {
          "output_type": "execute_result",
          "data": {
            "text/plain": [
              "9"
            ]
          },
          "metadata": {},
          "execution_count": 85
        }
      ]
    },
    {
      "cell_type": "code",
      "source": [
        "time_tuple[0] * 3600 + time_tuple[1] * 60 + time_tuple[2]  "
      ],
      "metadata": {
        "colab": {
          "base_uri": "https://localhost:8080/"
        },
        "id": "UxdMluhRuHGh",
        "outputId": "a7878903-d966-42ea-c600-946312eceba4"
      },
      "execution_count": null,
      "outputs": [
        {
          "output_type": "execute_result",
          "data": {
            "text/plain": [
              "33361"
            ]
          },
          "metadata": {},
          "execution_count": 86
        }
      ]
    },
    {
      "cell_type": "markdown",
      "metadata": {
        "id": "CjuRgIW3bgLq"
      },
      "source": [
        "### Adicionando elementos à uma string ou tupla"
      ]
    },
    {
      "cell_type": "code",
      "execution_count": null,
      "metadata": {
        "id": "U2JQYXWibgLq"
      },
      "outputs": [],
      "source": [
        "tuple1 = (10, 20, 30)"
      ]
    },
    {
      "cell_type": "code",
      "source": [
        "id(tuple1)"
      ],
      "metadata": {
        "colab": {
          "base_uri": "https://localhost:8080/"
        },
        "id": "1qqGBwttfgBO",
        "outputId": "3a8461cb-7851-40b1-979a-20ac9aa2486f"
      },
      "execution_count": null,
      "outputs": [
        {
          "output_type": "execute_result",
          "data": {
            "text/plain": [
              "140620623534192"
            ]
          },
          "metadata": {},
          "execution_count": 88
        }
      ]
    },
    {
      "cell_type": "code",
      "source": [
        "tuple2 = tuple1"
      ],
      "metadata": {
        "id": "xEeuv9YhuUWO"
      },
      "execution_count": null,
      "outputs": []
    },
    {
      "cell_type": "code",
      "source": [
        "id(tuple2)"
      ],
      "metadata": {
        "colab": {
          "base_uri": "https://localhost:8080/"
        },
        "id": "xwLb8CdIuXFh",
        "outputId": "d2bbb661-4bdd-47f7-efaf-115f16435645"
      },
      "execution_count": null,
      "outputs": [
        {
          "output_type": "execute_result",
          "data": {
            "text/plain": [
              "140620623534192"
            ]
          },
          "metadata": {},
          "execution_count": 90
        }
      ]
    },
    {
      "cell_type": "code",
      "source": [
        "tuple1 is tuple2"
      ],
      "metadata": {
        "colab": {
          "base_uri": "https://localhost:8080/"
        },
        "id": "VEe3X3w_gi4M",
        "outputId": "a281a586-048f-441d-8e50-8d747472fc92"
      },
      "execution_count": null,
      "outputs": [
        {
          "output_type": "execute_result",
          "data": {
            "text/plain": [
              "True"
            ]
          },
          "metadata": {},
          "execution_count": 91
        }
      ]
    },
    {
      "cell_type": "code",
      "execution_count": null,
      "metadata": {
        "id": "iw2tEEc1bgLr"
      },
      "outputs": [],
      "source": [
        "tuple1 += (40, 50)"
      ]
    },
    {
      "cell_type": "code",
      "execution_count": null,
      "metadata": {
        "id": "oexNKRO9bgLr",
        "colab": {
          "base_uri": "https://localhost:8080/"
        },
        "outputId": "a0574475-55ba-4bbd-ab08-0a5659b846a9"
      },
      "outputs": [
        {
          "output_type": "execute_result",
          "data": {
            "text/plain": [
              "(10, 20, 30, 40, 50)"
            ]
          },
          "metadata": {},
          "execution_count": 93
        }
      ],
      "source": [
        "tuple1   "
      ]
    },
    {
      "cell_type": "code",
      "source": [
        "id(tuple1)"
      ],
      "metadata": {
        "colab": {
          "base_uri": "https://localhost:8080/"
        },
        "id": "YdH_kza7upxf",
        "outputId": "04620db7-d7e6-41da-bd2e-e6547351d1ca"
      },
      "execution_count": null,
      "outputs": [
        {
          "output_type": "execute_result",
          "data": {
            "text/plain": [
              "140620624329232"
            ]
          },
          "metadata": {},
          "execution_count": 94
        }
      ]
    },
    {
      "cell_type": "code",
      "source": [
        "tuple2"
      ],
      "metadata": {
        "colab": {
          "base_uri": "https://localhost:8080/"
        },
        "id": "uKOnEBw9umKA",
        "outputId": "0c2781d0-b423-4294-d08b-793a08e8d536"
      },
      "execution_count": null,
      "outputs": [
        {
          "output_type": "execute_result",
          "data": {
            "text/plain": [
              "(10, 20, 30)"
            ]
          },
          "metadata": {},
          "execution_count": 95
        }
      ]
    },
    {
      "cell_type": "code",
      "source": [
        "id(tuple2)"
      ],
      "metadata": {
        "colab": {
          "base_uri": "https://localhost:8080/"
        },
        "id": "tE5xVCg-hAXd",
        "outputId": "e8bd3f90-2af0-4e22-bf3f-b9b2269d659e"
      },
      "execution_count": null,
      "outputs": [
        {
          "output_type": "execute_result",
          "data": {
            "text/plain": [
              "140620623534192"
            ]
          },
          "metadata": {},
          "execution_count": 96
        }
      ]
    },
    {
      "cell_type": "code",
      "source": [],
      "metadata": {
        "id": "vk3S5iphum5Z"
      },
      "execution_count": null,
      "outputs": []
    },
    {
      "cell_type": "code",
      "source": [
        "lista1 = [10, 20, 30]"
      ],
      "metadata": {
        "id": "cSU_4a0ofzAT"
      },
      "execution_count": null,
      "outputs": []
    },
    {
      "cell_type": "markdown",
      "source": [
        "listas são mutaveis, tuplas nao"
      ],
      "metadata": {
        "id": "wz2iubeYghZw"
      }
    },
    {
      "cell_type": "code",
      "source": [
        "id(lista1)"
      ],
      "metadata": {
        "colab": {
          "base_uri": "https://localhost:8080/"
        },
        "id": "B1_vz-KHgEVD",
        "outputId": "0409c185-cd42-4487-f877-3fdb2864761e"
      },
      "execution_count": null,
      "outputs": [
        {
          "output_type": "execute_result",
          "data": {
            "text/plain": [
              "140620623062912"
            ]
          },
          "metadata": {},
          "execution_count": 98
        }
      ]
    },
    {
      "cell_type": "code",
      "source": [
        "lista1 += [40,50]"
      ],
      "metadata": {
        "id": "fckSv0tlu4vY"
      },
      "execution_count": null,
      "outputs": []
    },
    {
      "cell_type": "code",
      "source": [
        "lista1"
      ],
      "metadata": {
        "colab": {
          "base_uri": "https://localhost:8080/"
        },
        "id": "HJprUm_bu81x",
        "outputId": "68d56209-bdab-49d9-bcd6-2a48304dafa8"
      },
      "execution_count": null,
      "outputs": [
        {
          "output_type": "execute_result",
          "data": {
            "text/plain": [
              "[10, 20, 30, 40, 50]"
            ]
          },
          "metadata": {},
          "execution_count": 100
        }
      ]
    },
    {
      "cell_type": "code",
      "source": [
        "id(lista1)"
      ],
      "metadata": {
        "colab": {
          "base_uri": "https://localhost:8080/"
        },
        "id": "Jx_jEv1Eu-JG",
        "outputId": "d385ccb3-aeb8-422a-e28b-ab99281cadc2"
      },
      "execution_count": null,
      "outputs": [
        {
          "output_type": "execute_result",
          "data": {
            "text/plain": [
              "140620623062912"
            ]
          },
          "metadata": {},
          "execution_count": 101
        }
      ]
    },
    {
      "cell_type": "markdown",
      "source": [
        "adicionando em strings"
      ],
      "metadata": {
        "id": "3Tg3pq05gwAQ"
      }
    },
    {
      "cell_type": "code",
      "source": [
        "texto = 'coisa'"
      ],
      "metadata": {
        "id": "vIoZoy0xgKPT"
      },
      "execution_count": null,
      "outputs": []
    },
    {
      "cell_type": "code",
      "source": [
        "texto += 's'"
      ],
      "metadata": {
        "id": "joOGg5fxgsUL"
      },
      "execution_count": null,
      "outputs": []
    },
    {
      "cell_type": "code",
      "source": [
        "texto"
      ],
      "metadata": {
        "colab": {
          "base_uri": "https://localhost:8080/",
          "height": 35
        },
        "id": "M2G7kuboguOD",
        "outputId": "4938ea5e-b1fa-4260-aae2-ff4242957c89"
      },
      "execution_count": null,
      "outputs": [
        {
          "output_type": "execute_result",
          "data": {
            "text/plain": [
              "'coisas'"
            ],
            "application/vnd.google.colaboratory.intrinsic+json": {
              "type": "string"
            }
          },
          "metadata": {},
          "execution_count": 104
        }
      ]
    },
    {
      "cell_type": "markdown",
      "metadata": {
        "id": "jKGih9dFbgLs"
      },
      "source": [
        " \n",
        "\n",
        "### Adicionando tuplas em listas"
      ]
    },
    {
      "cell_type": "code",
      "execution_count": null,
      "metadata": {
        "id": "WtngjWqHbgLs"
      },
      "outputs": [],
      "source": [
        "numbers = [1, 2, 3, 4, 5]"
      ]
    },
    {
      "cell_type": "code",
      "execution_count": null,
      "metadata": {
        "id": "cN2Vjvk8bgLt"
      },
      "outputs": [],
      "source": [
        "numbers += (6, 7)"
      ]
    },
    {
      "cell_type": "code",
      "execution_count": null,
      "metadata": {
        "id": "HgieIav0bgLt",
        "colab": {
          "base_uri": "https://localhost:8080/"
        },
        "outputId": "c955b1d2-eb65-452a-f679-98c16b427a51"
      },
      "outputs": [
        {
          "output_type": "execute_result",
          "data": {
            "text/plain": [
              "[1, 2, 3, 4, 5, 6, 7]"
            ]
          },
          "metadata": {},
          "execution_count": 111
        }
      ],
      "source": [
        "numbers"
      ]
    },
    {
      "cell_type": "code",
      "source": [],
      "metadata": {
        "id": "b2zweOLWg38j"
      },
      "execution_count": null,
      "outputs": []
    },
    {
      "cell_type": "markdown",
      "metadata": {
        "id": "LPiQmSDfbgLu"
      },
      "source": [
        "   \n",
        "\n",
        "### Tuplas podem conter objetos mutaveis"
      ]
    },
    {
      "cell_type": "code",
      "execution_count": null,
      "metadata": {
        "id": "prjPhxxBbgLu"
      },
      "outputs": [],
      "source": [
        "student_tuple = ('Amanda', 'Blue', [98, 75, 87])"
      ]
    },
    {
      "cell_type": "code",
      "execution_count": null,
      "metadata": {
        "id": "4fUzZyQkbgLu"
      },
      "outputs": [],
      "source": [
        "student_tuple[2][1] = 85"
      ]
    },
    {
      "cell_type": "code",
      "execution_count": null,
      "metadata": {
        "id": "FSp2iMufbgLv",
        "colab": {
          "base_uri": "https://localhost:8080/"
        },
        "outputId": "34ac76d2-2271-4598-958b-859616b36a17"
      },
      "outputs": [
        {
          "output_type": "execute_result",
          "data": {
            "text/plain": [
              "('Amanda', 'Blue', [98, 85, 87])"
            ]
          },
          "metadata": {},
          "execution_count": 114
        }
      ],
      "source": [
        "student_tuple"
      ]
    },
    {
      "cell_type": "code",
      "source": [
        "student_tuple[1] = 'Maria'"
      ],
      "metadata": {
        "colab": {
          "base_uri": "https://localhost:8080/",
          "height": 167
        },
        "id": "vXvLSHYRv5j7",
        "outputId": "b8bae627-c688-4e35-c357-35b700311003"
      },
      "execution_count": null,
      "outputs": [
        {
          "output_type": "error",
          "ename": "TypeError",
          "evalue": "ignored",
          "traceback": [
            "\u001b[0;31m---------------------------------------------------------------------------\u001b[0m",
            "\u001b[0;31mTypeError\u001b[0m                                 Traceback (most recent call last)",
            "\u001b[0;32m<ipython-input-115-4ff74d4759f4>\u001b[0m in \u001b[0;36m<module>\u001b[0;34m\u001b[0m\n\u001b[0;32m----> 1\u001b[0;31m \u001b[0mstudent_tuple\u001b[0m\u001b[0;34m[\u001b[0m\u001b[0;36m1\u001b[0m\u001b[0;34m]\u001b[0m \u001b[0;34m=\u001b[0m \u001b[0;34m'Maria'\u001b[0m\u001b[0;34m\u001b[0m\u001b[0;34m\u001b[0m\u001b[0m\n\u001b[0m",
            "\u001b[0;31mTypeError\u001b[0m: 'tuple' object does not support item assignment"
          ]
        }
      ]
    },
    {
      "cell_type": "code",
      "source": [
        "lista_de_tupla = ['coisa', (1,2,3)]"
      ],
      "metadata": {
        "id": "cEG0LIYCiZJe"
      },
      "execution_count": null,
      "outputs": []
    },
    {
      "cell_type": "code",
      "source": [
        "type(lista_de_tupla)"
      ],
      "metadata": {
        "colab": {
          "base_uri": "https://localhost:8080/"
        },
        "id": "suOxe63bifBp",
        "outputId": "bc140c89-d7d8-4337-c2dc-d40132358a59"
      },
      "execution_count": null,
      "outputs": [
        {
          "output_type": "execute_result",
          "data": {
            "text/plain": [
              "list"
            ]
          },
          "metadata": {},
          "execution_count": 117
        }
      ]
    },
    {
      "cell_type": "code",
      "source": [
        "type(lista_de_tupla[1])"
      ],
      "metadata": {
        "colab": {
          "base_uri": "https://localhost:8080/"
        },
        "id": "osUO4gMcijOz",
        "outputId": "d22e3f59-aa1e-4e20-b2e1-82205b6c0467"
      },
      "execution_count": null,
      "outputs": [
        {
          "output_type": "execute_result",
          "data": {
            "text/plain": [
              "tuple"
            ]
          },
          "metadata": {},
          "execution_count": 118
        }
      ]
    },
    {
      "cell_type": "markdown",
      "source": [
        "##atividade"
      ],
      "metadata": {
        "id": "gQGhrYA0wBfj"
      }
    },
    {
      "cell_type": "markdown",
      "source": [
        "(IPython Session) Mostre o que acontece quando se tenta concatenar sequencias de dois tipos diferentes - lista [1, 2, 3] e tupla (4, 5, 6)— usando o operador +"
      ],
      "metadata": {
        "id": "u6S19yBzwDbA"
      }
    },
    {
      "cell_type": "code",
      "source": [],
      "metadata": {
        "id": "_4FhR2q1iQYs"
      },
      "execution_count": null,
      "outputs": []
    },
    {
      "cell_type": "markdown",
      "metadata": {
        "id": "siKP1LL5bgLx"
      },
      "source": [
        "#4 Desempacotando sequencias"
      ]
    },
    {
      "cell_type": "code",
      "execution_count": null,
      "metadata": {
        "id": "oP__8KaZbgLx"
      },
      "outputs": [],
      "source": [
        "student_tuple = ('Amanda', [98, 85, 87])"
      ]
    },
    {
      "cell_type": "code",
      "execution_count": null,
      "metadata": {
        "id": "hT6L3JsjbgLx"
      },
      "outputs": [],
      "source": [
        "first_name, grades = student_tuple"
      ]
    },
    {
      "cell_type": "code",
      "execution_count": null,
      "metadata": {
        "id": "CWZjeYSgbgLy",
        "colab": {
          "base_uri": "https://localhost:8080/",
          "height": 35
        },
        "outputId": "54cb5389-b49e-4397-94a9-cb1233f33d37"
      },
      "outputs": [
        {
          "output_type": "execute_result",
          "data": {
            "text/plain": [
              "'Amanda'"
            ],
            "application/vnd.google.colaboratory.intrinsic+json": {
              "type": "string"
            }
          },
          "metadata": {},
          "execution_count": 121
        }
      ],
      "source": [
        "first_name"
      ]
    },
    {
      "cell_type": "code",
      "execution_count": null,
      "metadata": {
        "id": "35RFfOGRbgLy",
        "colab": {
          "base_uri": "https://localhost:8080/"
        },
        "outputId": "24eecc38-83b2-4693-e408-f999a9f57b10"
      },
      "outputs": [
        {
          "output_type": "execute_result",
          "data": {
            "text/plain": [
              "[98, 85, 87]"
            ]
          },
          "metadata": {},
          "execution_count": 122
        }
      ],
      "source": [
        "grades"
      ]
    },
    {
      "cell_type": "code",
      "execution_count": null,
      "metadata": {
        "id": "Nk89YhrqbgLy"
      },
      "outputs": [],
      "source": [
        "first, second = 'hi'"
      ]
    },
    {
      "cell_type": "code",
      "execution_count": null,
      "metadata": {
        "id": "ZCQsQK7dbgLy",
        "colab": {
          "base_uri": "https://localhost:8080/"
        },
        "outputId": "b6c020d4-8fe4-4a57-b637-caabf4c70ed6"
      },
      "outputs": [
        {
          "output_type": "stream",
          "name": "stdout",
          "text": [
            "h  i\n"
          ]
        }
      ],
      "source": [
        "print(f'{first}  {second}')"
      ]
    },
    {
      "cell_type": "code",
      "execution_count": null,
      "metadata": {
        "id": "KudfkT2lbgLy"
      },
      "outputs": [],
      "source": [
        "number1, number2, number3 = [2, 3, 5]"
      ]
    },
    {
      "cell_type": "code",
      "execution_count": null,
      "metadata": {
        "id": "uQ8npqQYbgLz",
        "colab": {
          "base_uri": "https://localhost:8080/"
        },
        "outputId": "cdab0756-405f-4b4b-feb5-5630737cc823"
      },
      "outputs": [
        {
          "output_type": "stream",
          "name": "stdout",
          "text": [
            "2  3  5\n"
          ]
        }
      ],
      "source": [
        "print(f'{number1}  {number2}  {number3}')"
      ]
    },
    {
      "cell_type": "code",
      "execution_count": null,
      "metadata": {
        "id": "60l5Dms6bgLz"
      },
      "outputs": [],
      "source": [
        "number1, number2, number3 = range(10, 40, 10)"
      ]
    },
    {
      "cell_type": "code",
      "execution_count": null,
      "metadata": {
        "id": "kIMB8UVWbgLz",
        "colab": {
          "base_uri": "https://localhost:8080/"
        },
        "outputId": "3dd94a0c-1c9a-4172-ddb5-ca91485b3777"
      },
      "outputs": [
        {
          "output_type": "stream",
          "name": "stdout",
          "text": [
            "10  20  30\n"
          ]
        }
      ],
      "source": [
        "print(f'{number1}  {number2}  {number3}')"
      ]
    },
    {
      "cell_type": "markdown",
      "metadata": {
        "id": "BZSX75YfbgL0"
      },
      "source": [
        "### trocando valores por meio de empacotamento e desempacotamento"
      ]
    },
    {
      "cell_type": "code",
      "execution_count": null,
      "metadata": {
        "id": "hlodmLGFbgL0"
      },
      "outputs": [],
      "source": [
        "number1 = 99"
      ]
    },
    {
      "cell_type": "code",
      "execution_count": null,
      "metadata": {
        "id": "PrX_tXi5bgL0"
      },
      "outputs": [],
      "source": [
        "number2 = 22"
      ]
    },
    {
      "cell_type": "code",
      "execution_count": null,
      "metadata": {
        "id": "88KFbBS3bgL0"
      },
      "outputs": [],
      "source": [
        "number1, number2 = (number2, number1)"
      ]
    },
    {
      "cell_type": "code",
      "execution_count": null,
      "metadata": {
        "id": "vSXQlj-EbgL1",
        "colab": {
          "base_uri": "https://localhost:8080/"
        },
        "outputId": "06695c72-da68-408f-90dd-8297793a2984"
      },
      "outputs": [
        {
          "output_type": "stream",
          "name": "stdout",
          "text": [
            "number1 = 22; number2 = 99\n"
          ]
        }
      ],
      "source": [
        "print(f'number1 = {number1}; number2 = {number2}')"
      ]
    },
    {
      "cell_type": "markdown",
      "metadata": {
        "id": "jJ4bZO7BbgL1"
      },
      "source": [
        "### Acessando indices e valores com segurança com a função enumerate"
      ]
    },
    {
      "cell_type": "code",
      "execution_count": null,
      "metadata": {
        "id": "KpYLJ5e_bgL1"
      },
      "outputs": [],
      "source": [
        "colors = ['red', 'orange', 'yellow']"
      ]
    },
    {
      "cell_type": "code",
      "source": [
        "for value in colors:\n",
        "    print(f'{value}')"
      ],
      "metadata": {
        "colab": {
          "base_uri": "https://localhost:8080/"
        },
        "id": "WD9gfs8Ei8R7",
        "outputId": "32d4668e-a985-46c1-823e-13e68c7902f8"
      },
      "execution_count": null,
      "outputs": [
        {
          "output_type": "stream",
          "name": "stdout",
          "text": [
            "red\n",
            "orange\n",
            "yellow\n"
          ]
        }
      ]
    },
    {
      "cell_type": "code",
      "source": [
        "for index in range(len(colors)):\n",
        "    print(f'{index}: {colors[index]}')"
      ],
      "metadata": {
        "colab": {
          "base_uri": "https://localhost:8080/"
        },
        "id": "XAJF0Q8ui_9T",
        "outputId": "d5f6d73b-6c87-416f-baff-f3de5fba36d2"
      },
      "execution_count": null,
      "outputs": [
        {
          "output_type": "stream",
          "name": "stdout",
          "text": [
            "0: red\n",
            "1: orange\n",
            "2: yellow\n"
          ]
        }
      ]
    },
    {
      "cell_type": "code",
      "execution_count": null,
      "metadata": {
        "id": "hio3YfTUbgL1",
        "colab": {
          "base_uri": "https://localhost:8080/"
        },
        "outputId": "7ec285ec-780a-4048-a2c6-0900d239d73b"
      },
      "outputs": [
        {
          "output_type": "execute_result",
          "data": {
            "text/plain": [
              "[(0, 'red'), (1, 'orange'), (2, 'yellow')]"
            ]
          },
          "metadata": {},
          "execution_count": 136
        }
      ],
      "source": [
        "list(enumerate(colors))"
      ]
    },
    {
      "cell_type": "code",
      "execution_count": null,
      "metadata": {
        "id": "DA6aODSebgL1",
        "colab": {
          "base_uri": "https://localhost:8080/"
        },
        "outputId": "930d3919-3c18-471d-f7e0-2cb147bcbece"
      },
      "outputs": [
        {
          "output_type": "execute_result",
          "data": {
            "text/plain": [
              "((0, 'red'), (1, 'orange'), (2, 'yellow'))"
            ]
          },
          "metadata": {},
          "execution_count": 137
        }
      ],
      "source": [
        "tuple(enumerate(colors))"
      ]
    },
    {
      "cell_type": "code",
      "execution_count": null,
      "metadata": {
        "id": "KhJMEnM9bgL1",
        "colab": {
          "base_uri": "https://localhost:8080/"
        },
        "outputId": "26336a0d-77ed-4a75-f16c-bfea72fd8b18"
      },
      "outputs": [
        {
          "output_type": "stream",
          "name": "stdout",
          "text": [
            "0: red\n",
            "1: orange\n",
            "2: yellow\n"
          ]
        }
      ],
      "source": [
        "for index, value in enumerate(colors):\n",
        "    print(f'{index}: {value}')"
      ]
    },
    {
      "cell_type": "markdown",
      "metadata": {
        "id": "aFEVd0P6bgMF"
      },
      "source": [
        "# 5 Fatiando sequencias"
      ]
    },
    {
      "cell_type": "markdown",
      "metadata": {
        "id": "1Bqqk15xbgMG"
      },
      "source": [
        "###Especificando uma fatia com índices iniciais e finais"
      ]
    },
    {
      "cell_type": "code",
      "execution_count": null,
      "metadata": {
        "id": "4yXCBPljbgMG"
      },
      "outputs": [],
      "source": [
        "numbers = [2, 3, 5, 7, 11, 13, 17, 19]"
      ]
    },
    {
      "cell_type": "code",
      "execution_count": null,
      "metadata": {
        "id": "T6g8vQxdbgMG",
        "colab": {
          "base_uri": "https://localhost:8080/"
        },
        "outputId": "76ef7a2e-ea90-4526-c03e-95f00d459079"
      },
      "outputs": [
        {
          "output_type": "execute_result",
          "data": {
            "text/plain": [
              "[5, 7, 11, 13]"
            ]
          },
          "metadata": {},
          "execution_count": 140
        }
      ],
      "source": [
        "numbers[2:6]"
      ]
    },
    {
      "cell_type": "markdown",
      "metadata": {
        "id": "_eNM4RG3bgMG"
      },
      "source": [
        "### Especificando uma fatia apenas com o índice final"
      ]
    },
    {
      "cell_type": "code",
      "execution_count": null,
      "metadata": {
        "id": "xxTeH0xNbgMG",
        "colab": {
          "base_uri": "https://localhost:8080/"
        },
        "outputId": "04135771-9afa-49cd-9d13-3ace65f126db"
      },
      "outputs": [
        {
          "output_type": "execute_result",
          "data": {
            "text/plain": [
              "[2, 3, 5, 7, 11, 13]"
            ]
          },
          "metadata": {},
          "execution_count": 141
        }
      ],
      "source": [
        "numbers[:6]"
      ]
    },
    {
      "cell_type": "code",
      "source": [
        "numbers[6:len(numbers)]"
      ],
      "metadata": {
        "colab": {
          "base_uri": "https://localhost:8080/"
        },
        "id": "DRqMebMElngr",
        "outputId": "009bd9f0-dc7a-48a0-efd4-1799e2b165df"
      },
      "execution_count": null,
      "outputs": [
        {
          "output_type": "execute_result",
          "data": {
            "text/plain": [
              "[17, 19]"
            ]
          },
          "metadata": {},
          "execution_count": 142
        }
      ]
    },
    {
      "cell_type": "code",
      "source": [
        "numbers[6:]"
      ],
      "metadata": {
        "colab": {
          "base_uri": "https://localhost:8080/"
        },
        "id": "KpLkgLxFlrE8",
        "outputId": "6c51caa8-ce28-4fc1-fa95-8d67bb3afb85"
      },
      "execution_count": null,
      "outputs": [
        {
          "output_type": "execute_result",
          "data": {
            "text/plain": [
              "[17, 19]"
            ]
          },
          "metadata": {},
          "execution_count": 143
        }
      ]
    },
    {
      "cell_type": "markdown",
      "metadata": {
        "id": "RWudUuD3bgMH"
      },
      "source": [
        "### Especificando uma fatia sem índices"
      ]
    },
    {
      "cell_type": "code",
      "execution_count": null,
      "metadata": {
        "id": "utmoCOn_bgMI",
        "colab": {
          "base_uri": "https://localhost:8080/"
        },
        "outputId": "02b8863a-8510-4db7-d93f-98dc0ee6b762"
      },
      "outputs": [
        {
          "output_type": "execute_result",
          "data": {
            "text/plain": [
              "[2, 3, 5, 7, 11, 13, 17, 19]"
            ]
          },
          "metadata": {},
          "execution_count": 144
        }
      ],
      "source": [
        "numbers[:]"
      ]
    },
    {
      "cell_type": "markdown",
      "metadata": {
        "id": "vQDBVOYhbgMI"
      },
      "source": [
        "### Fatiando em passos"
      ]
    },
    {
      "cell_type": "code",
      "execution_count": null,
      "metadata": {
        "id": "onV5KhA7bgMI",
        "colab": {
          "base_uri": "https://localhost:8080/"
        },
        "outputId": "90934ffd-96a3-417d-8230-fc61c5a78e8e"
      },
      "outputs": [
        {
          "output_type": "execute_result",
          "data": {
            "text/plain": [
              "[2, 5, 11, 17]"
            ]
          },
          "metadata": {},
          "execution_count": 145
        }
      ],
      "source": [
        "numbers[::2]"
      ]
    },
    {
      "cell_type": "markdown",
      "metadata": {
        "id": "bBBALiY9bgMI"
      },
      "source": [
        "### Fatiando com indices e passos negativos"
      ]
    },
    {
      "cell_type": "code",
      "execution_count": null,
      "metadata": {
        "id": "zc5UGkOXbgMI",
        "colab": {
          "base_uri": "https://localhost:8080/"
        },
        "outputId": "42e21647-e7c2-4c9d-da92-164a491752c4"
      },
      "outputs": [
        {
          "output_type": "execute_result",
          "data": {
            "text/plain": [
              "[19, 17, 13, 11, 7, 5, 3, 2]"
            ]
          },
          "metadata": {},
          "execution_count": 150
        }
      ],
      "source": [
        "numbers[::-1]"
      ]
    },
    {
      "cell_type": "code",
      "execution_count": null,
      "metadata": {
        "id": "clGo2T-nbgMJ",
        "colab": {
          "base_uri": "https://localhost:8080/"
        },
        "outputId": "62d73452-e373-4a7c-8728-163177eb0703"
      },
      "outputs": [
        {
          "output_type": "execute_result",
          "data": {
            "text/plain": [
              "[19, 17, 13, 11, 7, 5, 3, 2]"
            ]
          },
          "metadata": {},
          "execution_count": 151
        }
      ],
      "source": [
        "numbers[-1:-9:-1]"
      ]
    },
    {
      "cell_type": "markdown",
      "metadata": {
        "id": "NyVYfPFYbgMJ"
      },
      "source": [
        "### Modificando listas por meio de fatias"
      ]
    },
    {
      "cell_type": "code",
      "execution_count": null,
      "metadata": {
        "id": "8YIYgaaNbgMJ"
      },
      "outputs": [],
      "source": [
        "numbers[0:3] = ['two', 'three', 'five']"
      ]
    },
    {
      "cell_type": "code",
      "execution_count": null,
      "metadata": {
        "id": "YFbY4te5bgMJ",
        "colab": {
          "base_uri": "https://localhost:8080/"
        },
        "outputId": "b0cfc07f-2005-45a3-a44b-4d824fdcb2fa"
      },
      "outputs": [
        {
          "output_type": "execute_result",
          "data": {
            "text/plain": [
              "['two', 'three', 'five', 7, 11, 13, 17, 19]"
            ]
          },
          "metadata": {},
          "execution_count": 153
        }
      ],
      "source": [
        "numbers"
      ]
    },
    {
      "cell_type": "code",
      "execution_count": null,
      "metadata": {
        "id": "sojFfF-ybgMJ"
      },
      "outputs": [],
      "source": [
        "numbers[0:3] = []"
      ]
    },
    {
      "cell_type": "code",
      "execution_count": null,
      "metadata": {
        "id": "FnlxkYoWbgMJ",
        "colab": {
          "base_uri": "https://localhost:8080/"
        },
        "outputId": "7b135007-2614-4c02-ecf4-07f28d833039"
      },
      "outputs": [
        {
          "output_type": "execute_result",
          "data": {
            "text/plain": [
              "[2, 3, 5, 7, 11, 13, 17, 19]"
            ]
          },
          "metadata": {},
          "execution_count": 162
        }
      ],
      "source": [
        "numbers"
      ]
    },
    {
      "cell_type": "code",
      "source": [
        "numbers[-6::-1]"
      ],
      "metadata": {
        "colab": {
          "base_uri": "https://localhost:8080/"
        },
        "id": "mvdFgV6VnWmy",
        "outputId": "7949f5b2-73d8-4f25-d939-7d47d49016ae"
      },
      "execution_count": null,
      "outputs": [
        {
          "output_type": "execute_result",
          "data": {
            "text/plain": [
              "[5, 3, 2]"
            ]
          },
          "metadata": {},
          "execution_count": 164
        }
      ]
    },
    {
      "cell_type": "code",
      "execution_count": null,
      "metadata": {
        "id": "UOLR_1mNbgMK"
      },
      "outputs": [],
      "source": [
        "numbers = [2, 3, 5, 7, 11, 13, 17, 19]"
      ]
    },
    {
      "cell_type": "code",
      "execution_count": null,
      "metadata": {
        "id": "JvpSOs9sbgMK"
      },
      "outputs": [],
      "source": [
        "numbers[::2] = [100, 100, 100, 100]"
      ]
    },
    {
      "cell_type": "code",
      "execution_count": null,
      "metadata": {
        "id": "d0NOEwjYbgMK",
        "colab": {
          "base_uri": "https://localhost:8080/"
        },
        "outputId": "025140a2-2f01-4925-c07c-4541986438a8"
      },
      "outputs": [
        {
          "output_type": "execute_result",
          "data": {
            "text/plain": [
              "[100, 3, 100, 7, 100, 13, 100, 19]"
            ]
          },
          "metadata": {},
          "execution_count": 176
        }
      ],
      "source": [
        "numbers"
      ]
    },
    {
      "cell_type": "markdown",
      "metadata": {
        "id": "00c4PBK5bgMO"
      },
      "source": [
        "## Atividade"
      ]
    },
    {
      "cell_type": "markdown",
      "metadata": {
        "id": "ioPLCbGebgMO"
      },
      "source": [
        "Crie uma lista chamada `numbers` contendo os valores de `1` a `15` e use _slices_ para realizar as seguintes operações consecutivamente:\n",
        "\n",
        "a. Selecione o elementos de `number` com indice par. \n",
        "\n",
        "b. Substitua os elementos de indices `5` a `9` com `0`s, então mostre a lista resultante.\n",
        "\n",
        "c. Mantenha apenas os primeiros 5 elementos, então mostre a lista resultante.\n",
        "\n",
        "d. Apague todos os elementos restantes por meio de fatiamento (mantenha o id da lista). Mostre a lista resultante"
      ]
    },
    {
      "cell_type": "markdown",
      "source": [
        "resposta"
      ],
      "metadata": {
        "id": "CoyPq8SYqKtD"
      }
    },
    {
      "cell_type": "code",
      "source": [],
      "metadata": {
        "id": "otm2LxKXoE6V"
      },
      "execution_count": null,
      "outputs": []
    },
    {
      "cell_type": "markdown",
      "metadata": {
        "id": "JVa-qqlKbgMQ"
      },
      "source": [
        "# 6 A instrução del"
      ]
    },
    {
      "cell_type": "markdown",
      "metadata": {
        "id": "3sIk1aqxbgMQ"
      },
      "source": [
        "### Removendo o elemento de uma posicao na lista"
      ]
    },
    {
      "cell_type": "code",
      "execution_count": null,
      "metadata": {
        "id": "Oa1dIoDAbgMQ"
      },
      "outputs": [],
      "source": [
        "numbers = list(range(0, 10))"
      ]
    },
    {
      "cell_type": "code",
      "execution_count": null,
      "metadata": {
        "id": "9axhwXcqbgMQ",
        "colab": {
          "base_uri": "https://localhost:8080/"
        },
        "outputId": "7fb53e8a-0a9f-44e3-fad6-1b7736246a29"
      },
      "outputs": [
        {
          "output_type": "execute_result",
          "data": {
            "text/plain": [
              "[0, 1, 2, 3, 4, 5, 6, 7, 8, 9]"
            ]
          },
          "metadata": {},
          "execution_count": 168
        }
      ],
      "source": [
        "numbers"
      ]
    },
    {
      "cell_type": "code",
      "execution_count": null,
      "metadata": {
        "id": "yXeBadGHbgMQ"
      },
      "outputs": [],
      "source": [
        "del numbers[-1]"
      ]
    },
    {
      "cell_type": "code",
      "execution_count": null,
      "metadata": {
        "id": "znu3e0cebgMR",
        "colab": {
          "base_uri": "https://localhost:8080/"
        },
        "outputId": "7cc824f0-0844-440b-b9b8-3e50eca4e458"
      },
      "outputs": [
        {
          "output_type": "execute_result",
          "data": {
            "text/plain": [
              "[0, 1, 2, 3, 4, 5, 6, 7, 8]"
            ]
          },
          "metadata": {},
          "execution_count": 170
        }
      ],
      "source": [
        "numbers"
      ]
    },
    {
      "cell_type": "markdown",
      "metadata": {
        "id": "LC9CIPTubgMR"
      },
      "source": [
        "### Removendo uma fatia de uma lista"
      ]
    },
    {
      "cell_type": "code",
      "execution_count": null,
      "metadata": {
        "id": "er920KrrbgMR"
      },
      "outputs": [],
      "source": [
        "del numbers[0:2]"
      ]
    },
    {
      "cell_type": "code",
      "execution_count": null,
      "metadata": {
        "id": "U5OT7rsubgMR",
        "colab": {
          "base_uri": "https://localhost:8080/"
        },
        "outputId": "f4edf466-3ce5-470c-ae22-5324d9d19441"
      },
      "outputs": [
        {
          "output_type": "execute_result",
          "data": {
            "text/plain": [
              "[2, 3, 4, 5, 6, 7, 8]"
            ]
          },
          "metadata": {},
          "execution_count": 172
        }
      ],
      "source": [
        "numbers"
      ]
    },
    {
      "cell_type": "code",
      "execution_count": null,
      "metadata": {
        "id": "JrcfbfQsbgMR"
      },
      "outputs": [],
      "source": [
        "del numbers[::2]"
      ]
    },
    {
      "cell_type": "code",
      "execution_count": null,
      "metadata": {
        "id": "TY3vJeZqbgMS",
        "colab": {
          "base_uri": "https://localhost:8080/"
        },
        "outputId": "0d5f0da8-4e85-480f-9591-4c3ba5dea0e1"
      },
      "outputs": [
        {
          "output_type": "execute_result",
          "data": {
            "text/plain": [
              "[3, 5, 7]"
            ]
          },
          "metadata": {},
          "execution_count": 174
        }
      ],
      "source": [
        "numbers"
      ]
    },
    {
      "cell_type": "markdown",
      "metadata": {
        "id": "FnuYw9JGbgMS"
      },
      "source": [
        "### Removendo uma fatia representando uma lista inteira"
      ]
    },
    {
      "cell_type": "code",
      "execution_count": null,
      "metadata": {
        "id": "UsMjLAd1bgMS"
      },
      "outputs": [],
      "source": [
        "del numbers[:]"
      ]
    },
    {
      "cell_type": "code",
      "execution_count": null,
      "metadata": {
        "id": "UVHFkDYmbgMS",
        "colab": {
          "base_uri": "https://localhost:8080/"
        },
        "outputId": "9953cb8c-20c2-4401-a649-b6af2c03e765"
      },
      "outputs": [
        {
          "output_type": "execute_result",
          "data": {
            "text/plain": [
              "[]"
            ]
          },
          "metadata": {},
          "execution_count": 176
        }
      ],
      "source": [
        "numbers"
      ]
    },
    {
      "cell_type": "markdown",
      "metadata": {
        "id": "U7mzs2lMbgMS"
      },
      "source": [
        "### Removendo uma variavel da sessão corrente"
      ]
    },
    {
      "cell_type": "code",
      "execution_count": null,
      "metadata": {
        "id": "FOWqcjSvbgMT"
      },
      "outputs": [],
      "source": [
        "del numbers"
      ]
    },
    {
      "cell_type": "code",
      "execution_count": null,
      "metadata": {
        "id": "JRhGRxAQbgMT",
        "colab": {
          "base_uri": "https://localhost:8080/",
          "height": 167
        },
        "outputId": "a54b0611-8016-4eb7-a45d-73d8a018b1c0"
      },
      "outputs": [
        {
          "output_type": "error",
          "ename": "NameError",
          "evalue": "ignored",
          "traceback": [
            "\u001b[0;31m---------------------------------------------------------------------------\u001b[0m",
            "\u001b[0;31mNameError\u001b[0m                                 Traceback (most recent call last)",
            "\u001b[0;32m<ipython-input-178-6a54518a0c2c>\u001b[0m in \u001b[0;36m<module>\u001b[0;34m\u001b[0m\n\u001b[0;32m----> 1\u001b[0;31m \u001b[0mnumbers\u001b[0m\u001b[0;34m\u001b[0m\u001b[0;34m\u001b[0m\u001b[0m\n\u001b[0m",
            "\u001b[0;31mNameError\u001b[0m: name 'numbers' is not defined"
          ]
        }
      ],
      "source": [
        "numbers"
      ]
    },
    {
      "cell_type": "markdown",
      "metadata": {
        "id": "B6lD-d5GbgMW"
      },
      "source": [
        "# 7 Passando listas para funções"
      ]
    },
    {
      "cell_type": "markdown",
      "metadata": {
        "id": "7BV5z7WXbgMX"
      },
      "source": [
        "### Passando uma lista inteira para uma função"
      ]
    },
    {
      "cell_type": "code",
      "execution_count": null,
      "metadata": {
        "id": "MKrnU_aObgMX"
      },
      "outputs": [],
      "source": [
        "def modify_elements(items):\n",
        "    \"\"\"\"Multiplies all element values in items by 2.\"\"\"\n",
        "    for i in range(len(items)):\n",
        "        items[i] *= 2"
      ]
    },
    {
      "cell_type": "code",
      "execution_count": null,
      "metadata": {
        "id": "LQ_PhzCZbgMX"
      },
      "outputs": [],
      "source": [
        "numbers = [10, 3, 7, 1, 9]"
      ]
    },
    {
      "cell_type": "code",
      "execution_count": null,
      "metadata": {
        "id": "W3Rol4EobgMX"
      },
      "outputs": [],
      "source": [
        "modify_elements(numbers)"
      ]
    },
    {
      "cell_type": "code",
      "execution_count": null,
      "metadata": {
        "id": "DXUI3r97bgMX",
        "colab": {
          "base_uri": "https://localhost:8080/"
        },
        "outputId": "df02b221-7b55-4252-86dc-a3e06fce4a86"
      },
      "outputs": [
        {
          "output_type": "execute_result",
          "data": {
            "text/plain": [
              "[20, 6, 14, 2, 18]"
            ]
          },
          "metadata": {},
          "execution_count": 182
        }
      ],
      "source": [
        "numbers"
      ]
    },
    {
      "cell_type": "markdown",
      "metadata": {
        "id": "UYoPAgDJbgMY"
      },
      "source": [
        "### Passando uma tupla para uma função"
      ]
    },
    {
      "cell_type": "code",
      "execution_count": null,
      "metadata": {
        "id": "x7pftnWBbgMY"
      },
      "outputs": [],
      "source": [
        "numbers_tuple = (10, 20, 30)"
      ]
    },
    {
      "cell_type": "code",
      "execution_count": null,
      "metadata": {
        "id": "CFi7NZKcbgMY",
        "colab": {
          "base_uri": "https://localhost:8080/"
        },
        "outputId": "90681795-1be9-40d3-e645-5794d777a2e2"
      },
      "outputs": [
        {
          "output_type": "execute_result",
          "data": {
            "text/plain": [
              "(10, 20, 30)"
            ]
          },
          "metadata": {},
          "execution_count": 184
        }
      ],
      "source": [
        "numbers_tuple"
      ]
    },
    {
      "cell_type": "code",
      "execution_count": null,
      "metadata": {
        "id": "reKAhAC_bgMY",
        "colab": {
          "base_uri": "https://localhost:8080/",
          "height": 253
        },
        "outputId": "c29101b5-1cba-4c7d-d8c3-3b810df9698c"
      },
      "outputs": [
        {
          "output_type": "error",
          "ename": "TypeError",
          "evalue": "ignored",
          "traceback": [
            "\u001b[0;31m---------------------------------------------------------------------------\u001b[0m",
            "\u001b[0;31mTypeError\u001b[0m                                 Traceback (most recent call last)",
            "\u001b[0;32m<ipython-input-185-9339741cd595>\u001b[0m in \u001b[0;36m<module>\u001b[0;34m\u001b[0m\n\u001b[0;32m----> 1\u001b[0;31m \u001b[0mmodify_elements\u001b[0m\u001b[0;34m(\u001b[0m\u001b[0mnumbers_tuple\u001b[0m\u001b[0;34m)\u001b[0m\u001b[0;34m\u001b[0m\u001b[0;34m\u001b[0m\u001b[0m\n\u001b[0m",
            "\u001b[0;32m<ipython-input-179-aa30cff7ee99>\u001b[0m in \u001b[0;36mmodify_elements\u001b[0;34m(items)\u001b[0m\n\u001b[1;32m      2\u001b[0m     \u001b[0;34m\"\"\"\"Multiplies all element values in items by 2.\"\"\"\u001b[0m\u001b[0;34m\u001b[0m\u001b[0;34m\u001b[0m\u001b[0m\n\u001b[1;32m      3\u001b[0m     \u001b[0;32mfor\u001b[0m \u001b[0mi\u001b[0m \u001b[0;32min\u001b[0m \u001b[0mrange\u001b[0m\u001b[0;34m(\u001b[0m\u001b[0mlen\u001b[0m\u001b[0;34m(\u001b[0m\u001b[0mitems\u001b[0m\u001b[0;34m)\u001b[0m\u001b[0;34m)\u001b[0m\u001b[0;34m:\u001b[0m\u001b[0;34m\u001b[0m\u001b[0;34m\u001b[0m\u001b[0m\n\u001b[0;32m----> 4\u001b[0;31m         \u001b[0mitems\u001b[0m\u001b[0;34m[\u001b[0m\u001b[0mi\u001b[0m\u001b[0;34m]\u001b[0m \u001b[0;34m*=\u001b[0m \u001b[0;36m2\u001b[0m\u001b[0;34m\u001b[0m\u001b[0;34m\u001b[0m\u001b[0m\n\u001b[0m",
            "\u001b[0;31mTypeError\u001b[0m: 'tuple' object does not support item assignment"
          ]
        }
      ],
      "source": [
        "modify_elements(numbers_tuple)"
      ]
    },
    {
      "cell_type": "markdown",
      "metadata": {
        "id": "pEhhgIXzbgMZ"
      },
      "source": [
        "# 8 Ordenando listas"
      ]
    },
    {
      "cell_type": "markdown",
      "metadata": {
        "id": "tHhb08mobgMZ"
      },
      "source": [
        "### Ordenando uma lista em ordem ascendente"
      ]
    },
    {
      "cell_type": "code",
      "execution_count": null,
      "metadata": {
        "id": "VljioQz9bgMZ"
      },
      "outputs": [],
      "source": [
        "numbers = [10, 3, 7, 1, 9, 4, 2, 8, 5, 6]"
      ]
    },
    {
      "cell_type": "code",
      "execution_count": null,
      "metadata": {
        "id": "T-W9nguwbgMa"
      },
      "outputs": [],
      "source": [
        "numbers.sort()"
      ]
    },
    {
      "cell_type": "code",
      "execution_count": null,
      "metadata": {
        "id": "V70fks40bgMa",
        "colab": {
          "base_uri": "https://localhost:8080/"
        },
        "outputId": "790bdad2-df5a-41df-ef80-a917a4ebdc8b"
      },
      "outputs": [
        {
          "output_type": "execute_result",
          "data": {
            "text/plain": [
              "[1, 2, 3, 4, 5, 6, 7, 8, 9, 10]"
            ]
          },
          "metadata": {},
          "execution_count": 188
        }
      ],
      "source": [
        "numbers"
      ]
    },
    {
      "cell_type": "markdown",
      "metadata": {
        "id": "cXL32coCbgMa"
      },
      "source": [
        "### Ordenando uma lista em ordem descendente"
      ]
    },
    {
      "cell_type": "code",
      "execution_count": null,
      "metadata": {
        "id": "FE3-XIelbgMb"
      },
      "outputs": [],
      "source": [
        "numbers.sort(reverse=True)"
      ]
    },
    {
      "cell_type": "code",
      "execution_count": null,
      "metadata": {
        "id": "FhdgqKREbgMb",
        "colab": {
          "base_uri": "https://localhost:8080/"
        },
        "outputId": "64caf064-14c6-4a92-d60a-e8ac6a41fd5c"
      },
      "outputs": [
        {
          "output_type": "execute_result",
          "data": {
            "text/plain": [
              "[10, 9, 8, 7, 6, 5, 4, 3, 2, 1]"
            ]
          },
          "metadata": {},
          "execution_count": 190
        }
      ],
      "source": [
        "numbers"
      ]
    },
    {
      "cell_type": "markdown",
      "metadata": {
        "id": "jUia5qrobgMb"
      },
      "source": [
        "### A função `sorted`"
      ]
    },
    {
      "cell_type": "code",
      "execution_count": null,
      "metadata": {
        "id": "QSxJDuYQbgMb"
      },
      "outputs": [],
      "source": [
        "numbers = [10, 3, 7, 1, 9, 4, 2, 8, 5, 6]"
      ]
    },
    {
      "cell_type": "code",
      "source": [
        "sorted(numbers)"
      ],
      "metadata": {
        "colab": {
          "base_uri": "https://localhost:8080/"
        },
        "id": "BTl3ILrVpUts",
        "outputId": "178b1d60-d82c-4c00-ffc6-5fb47693cde5"
      },
      "execution_count": null,
      "outputs": [
        {
          "output_type": "execute_result",
          "data": {
            "text/plain": [
              "[1, 2, 3, 4, 5, 6, 7, 8, 9, 10]"
            ]
          },
          "metadata": {},
          "execution_count": 194
        }
      ]
    },
    {
      "cell_type": "code",
      "execution_count": null,
      "metadata": {
        "id": "Z4xj0tntbgMc"
      },
      "outputs": [],
      "source": [
        "ascending_numbers = sorted(numbers)"
      ]
    },
    {
      "cell_type": "code",
      "execution_count": null,
      "metadata": {
        "id": "scarl1CjbgMc",
        "colab": {
          "base_uri": "https://localhost:8080/"
        },
        "outputId": "18aba8f2-2c51-4cba-fe09-bba587b1a69c"
      },
      "outputs": [
        {
          "output_type": "execute_result",
          "data": {
            "text/plain": [
              "[1, 2, 3, 4, 5, 6, 7, 8, 9, 10]"
            ]
          },
          "metadata": {},
          "execution_count": 193
        }
      ],
      "source": [
        "ascending_numbers"
      ]
    },
    {
      "cell_type": "code",
      "execution_count": null,
      "metadata": {
        "id": "nlbrU2qubgMc",
        "colab": {
          "base_uri": "https://localhost:8080/"
        },
        "outputId": "246ad806-1d8d-4b46-f3db-27f943c7eb34"
      },
      "outputs": [
        {
          "output_type": "execute_result",
          "data": {
            "text/plain": [
              "[10, 3, 7, 1, 9, 4, 2, 8, 5, 6]"
            ]
          },
          "metadata": {},
          "execution_count": 195
        }
      ],
      "source": [
        "numbers"
      ]
    },
    {
      "cell_type": "code",
      "execution_count": null,
      "metadata": {
        "id": "fO0D2OQLbgMd"
      },
      "outputs": [],
      "source": [
        "letters = 'fadgchjebi'"
      ]
    },
    {
      "cell_type": "code",
      "execution_count": null,
      "metadata": {
        "id": "HTSwyWc_bgMd"
      },
      "outputs": [],
      "source": [
        "ascending_letters = sorted(letters)"
      ]
    },
    {
      "cell_type": "code",
      "execution_count": null,
      "metadata": {
        "id": "Wu7s2txkbgMd",
        "colab": {
          "base_uri": "https://localhost:8080/"
        },
        "outputId": "5ace0c20-1cb5-4898-901c-b070e3c35032"
      },
      "outputs": [
        {
          "output_type": "execute_result",
          "data": {
            "text/plain": [
              "['a', 'b', 'c', 'd', 'e', 'f', 'g', 'h', 'i', 'j']"
            ]
          },
          "metadata": {},
          "execution_count": 198
        }
      ],
      "source": [
        "ascending_letters"
      ]
    },
    {
      "cell_type": "code",
      "execution_count": null,
      "metadata": {
        "id": "sYwFUW82bgMd",
        "colab": {
          "base_uri": "https://localhost:8080/",
          "height": 35
        },
        "outputId": "ac639ec7-5317-4e9e-a86c-86f986de59ba"
      },
      "outputs": [
        {
          "output_type": "execute_result",
          "data": {
            "text/plain": [
              "'fadgchjebi'"
            ],
            "application/vnd.google.colaboratory.intrinsic+json": {
              "type": "string"
            }
          },
          "metadata": {},
          "execution_count": 199
        }
      ],
      "source": [
        "letters"
      ]
    },
    {
      "cell_type": "code",
      "execution_count": null,
      "metadata": {
        "id": "gOQUPEHVbgMd"
      },
      "outputs": [],
      "source": [
        "colors = ('red', 'orange', 'yellow', 'green', 'blue')"
      ]
    },
    {
      "cell_type": "code",
      "execution_count": null,
      "metadata": {
        "id": "75Xlc1stbgMe"
      },
      "outputs": [],
      "source": [
        "ascending_colors = sorted(colors)"
      ]
    },
    {
      "cell_type": "code",
      "execution_count": null,
      "metadata": {
        "id": "1gFYudjsbgMe",
        "colab": {
          "base_uri": "https://localhost:8080/"
        },
        "outputId": "bbb576ab-7ee7-4fab-fcd8-6c780b9d5ab7"
      },
      "outputs": [
        {
          "output_type": "execute_result",
          "data": {
            "text/plain": [
              "['blue', 'green', 'orange', 'red', 'yellow']"
            ]
          },
          "metadata": {},
          "execution_count": 202
        }
      ],
      "source": [
        "ascending_colors"
      ]
    },
    {
      "cell_type": "code",
      "source": [
        "colors"
      ],
      "metadata": {
        "colab": {
          "base_uri": "https://localhost:8080/"
        },
        "id": "pODIfpDcprPV",
        "outputId": "681b0446-0dba-4318-e192-17748377df43"
      },
      "execution_count": null,
      "outputs": [
        {
          "output_type": "execute_result",
          "data": {
            "text/plain": [
              "('red', 'orange', 'yellow', 'green', 'blue')"
            ]
          },
          "metadata": {},
          "execution_count": 203
        }
      ]
    },
    {
      "cell_type": "markdown",
      "metadata": {
        "id": "wOY0JGrhbgMg"
      },
      "source": [
        "# 9 Buscando em sequências"
      ]
    },
    {
      "cell_type": "markdown",
      "metadata": {
        "id": "Dy9AttXRbgMg"
      },
      "source": [
        "### O método de lista index"
      ]
    },
    {
      "cell_type": "code",
      "execution_count": null,
      "metadata": {
        "id": "Bpw4kVzRbgMh"
      },
      "outputs": [],
      "source": [
        "numbers = [3, 7, 1, 4, 2, 8, 5, 6]"
      ]
    },
    {
      "cell_type": "code",
      "source": [
        "numbers[5]"
      ],
      "metadata": {
        "colab": {
          "base_uri": "https://localhost:8080/"
        },
        "id": "rFkN2pN8qNBS",
        "outputId": "f230d0b2-60e4-4c57-8b43-0333b400d573"
      },
      "execution_count": null,
      "outputs": [
        {
          "output_type": "execute_result",
          "data": {
            "text/plain": [
              "8"
            ]
          },
          "metadata": {},
          "execution_count": 210
        }
      ]
    },
    {
      "cell_type": "code",
      "execution_count": null,
      "metadata": {
        "id": "l0zThJnWbgMh",
        "colab": {
          "base_uri": "https://localhost:8080/"
        },
        "outputId": "547aabf1-b0b4-4ecc-b687-1975f07f6c4d"
      },
      "outputs": [
        {
          "output_type": "execute_result",
          "data": {
            "text/plain": [
              "6"
            ]
          },
          "metadata": {},
          "execution_count": 211
        }
      ],
      "source": [
        "numbers.index(5)"
      ]
    },
    {
      "cell_type": "code",
      "source": [
        "numbers.index(11)"
      ],
      "metadata": {
        "colab": {
          "base_uri": "https://localhost:8080/",
          "height": 167
        },
        "id": "Jh7WXoshqW7z",
        "outputId": "c3d5fb8b-e7c4-4d9d-bd89-0502e9c59f45"
      },
      "execution_count": null,
      "outputs": [
        {
          "output_type": "error",
          "ename": "ValueError",
          "evalue": "ignored",
          "traceback": [
            "\u001b[0;31m---------------------------------------------------------------------------\u001b[0m",
            "\u001b[0;31mValueError\u001b[0m                                Traceback (most recent call last)",
            "\u001b[0;32m<ipython-input-212-c002e16b02b3>\u001b[0m in \u001b[0;36m<module>\u001b[0;34m\u001b[0m\n\u001b[0;32m----> 1\u001b[0;31m \u001b[0mnumbers\u001b[0m\u001b[0;34m.\u001b[0m\u001b[0mindex\u001b[0m\u001b[0;34m(\u001b[0m\u001b[0;36m11\u001b[0m\u001b[0;34m)\u001b[0m\u001b[0;34m\u001b[0m\u001b[0;34m\u001b[0m\u001b[0m\n\u001b[0m",
            "\u001b[0;31mValueError\u001b[0m: 11 is not in list"
          ]
        }
      ]
    },
    {
      "cell_type": "markdown",
      "metadata": {
        "id": "f3Fb20U4bgMh"
      },
      "source": [
        "### Especificando o índice de início da busca"
      ]
    },
    {
      "cell_type": "code",
      "execution_count": null,
      "metadata": {
        "id": "bT-jCfaubgMh"
      },
      "outputs": [],
      "source": [
        "numbers *= 2"
      ]
    },
    {
      "cell_type": "code",
      "execution_count": null,
      "metadata": {
        "id": "79y3F77LbgMh",
        "colab": {
          "base_uri": "https://localhost:8080/"
        },
        "outputId": "e4b6f439-09c6-43d1-8b63-56046295520b"
      },
      "outputs": [
        {
          "output_type": "execute_result",
          "data": {
            "text/plain": [
              "[3, 7, 1, 4, 2, 8, 5, 6, 3, 7, 1, 4, 2, 8, 5, 6]"
            ]
          },
          "metadata": {},
          "execution_count": 209
        }
      ],
      "source": [
        "numbers"
      ]
    },
    {
      "cell_type": "code",
      "execution_count": null,
      "metadata": {
        "id": "VsDdIl11bgMi",
        "colab": {
          "base_uri": "https://localhost:8080/"
        },
        "outputId": "57e49e70-656a-46ff-e490-2e80a5a73251"
      },
      "outputs": [
        {
          "output_type": "execute_result",
          "data": {
            "text/plain": [
              "14"
            ]
          },
          "metadata": {},
          "execution_count": 213
        }
      ],
      "source": [
        "numbers.index(5, 7)"
      ]
    },
    {
      "cell_type": "markdown",
      "metadata": {
        "id": "RcJsY-8IbgMi"
      },
      "source": [
        "### Especificando os índices de início e fim da busca"
      ]
    },
    {
      "cell_type": "code",
      "execution_count": null,
      "metadata": {
        "id": "z3lofVS3bgMi",
        "colab": {
          "base_uri": "https://localhost:8080/"
        },
        "outputId": "4621c78e-b9b3-4df4-da89-85d86f8984c4"
      },
      "outputs": [
        {
          "output_type": "execute_result",
          "data": {
            "text/plain": [
              "1"
            ]
          },
          "metadata": {},
          "execution_count": 214
        }
      ],
      "source": [
        "numbers.index(7, 0, 4)"
      ]
    },
    {
      "cell_type": "markdown",
      "metadata": {
        "id": "jgRDYcpebgMi"
      },
      "source": [
        "### Operadores `in` e `not in`"
      ]
    },
    {
      "cell_type": "code",
      "execution_count": null,
      "metadata": {
        "id": "KYLBAa89bgMi",
        "colab": {
          "base_uri": "https://localhost:8080/"
        },
        "outputId": "38bc215e-cc49-471d-b725-04cfdeb2190c"
      },
      "outputs": [
        {
          "output_type": "execute_result",
          "data": {
            "text/plain": [
              "False"
            ]
          },
          "metadata": {},
          "execution_count": 215
        }
      ],
      "source": [
        "1000 in numbers"
      ]
    },
    {
      "cell_type": "code",
      "execution_count": null,
      "metadata": {
        "id": "yVvpA77lbgMj",
        "colab": {
          "base_uri": "https://localhost:8080/"
        },
        "outputId": "52e6db10-e75c-4bb6-8e39-b4e457c49373"
      },
      "outputs": [
        {
          "output_type": "execute_result",
          "data": {
            "text/plain": [
              "True"
            ]
          },
          "metadata": {},
          "execution_count": 216
        }
      ],
      "source": [
        "5 in numbers"
      ]
    },
    {
      "cell_type": "code",
      "execution_count": null,
      "metadata": {
        "id": "zgfVDSmNbgMj",
        "colab": {
          "base_uri": "https://localhost:8080/"
        },
        "outputId": "15fa36d2-0370-49c8-b274-47371b9487f5"
      },
      "outputs": [
        {
          "output_type": "execute_result",
          "data": {
            "text/plain": [
              "True"
            ]
          },
          "metadata": {},
          "execution_count": 217
        }
      ],
      "source": [
        "1000 not in numbers"
      ]
    },
    {
      "cell_type": "code",
      "execution_count": null,
      "metadata": {
        "id": "yhTS5UU5bgMj",
        "colab": {
          "base_uri": "https://localhost:8080/"
        },
        "outputId": "a2abadf9-5e8e-4332-f34d-8ab2ddbc2ceb"
      },
      "outputs": [
        {
          "output_type": "execute_result",
          "data": {
            "text/plain": [
              "False"
            ]
          },
          "metadata": {},
          "execution_count": 218
        }
      ],
      "source": [
        "5 not in numbers"
      ]
    },
    {
      "cell_type": "markdown",
      "metadata": {
        "id": "PpQ5k8p6bgMj"
      },
      "source": [
        "### Usando o operador `in` para prevenir um `ValueError`"
      ]
    },
    {
      "cell_type": "code",
      "execution_count": null,
      "metadata": {
        "id": "MKWwPNu8bgMk"
      },
      "outputs": [],
      "source": [
        "key = 1000"
      ]
    },
    {
      "cell_type": "code",
      "execution_count": null,
      "metadata": {
        "id": "klj1XdJfbgMk",
        "colab": {
          "base_uri": "https://localhost:8080/"
        },
        "outputId": "555b817c-5dd6-44d6-c72e-8404b531ce9b"
      },
      "outputs": [
        {
          "output_type": "stream",
          "name": "stdout",
          "text": [
            "1000 not found\n"
          ]
        }
      ],
      "source": [
        "if key in numbers:\n",
        "    print(f'found {key} at index {numbers.index(key)}')\n",
        "else:\n",
        "    print(f'{key} not found')"
      ]
    },
    {
      "cell_type": "markdown",
      "metadata": {
        "id": "Q9RLD5UMbgMk"
      },
      "source": [
        "### Funções `any` e `all`"
      ]
    },
    {
      "cell_type": "code",
      "source": [
        "numeros = [0, 0, 1]"
      ],
      "metadata": {
        "id": "XxJXRKDvWb9K"
      },
      "execution_count": null,
      "outputs": []
    },
    {
      "cell_type": "code",
      "source": [
        "all(numeros)"
      ],
      "metadata": {
        "colab": {
          "base_uri": "https://localhost:8080/"
        },
        "id": "ixJ6ybO3WhnD",
        "outputId": "a1a02cd0-457b-4b4a-e315-59bc3691b382"
      },
      "execution_count": null,
      "outputs": [
        {
          "output_type": "execute_result",
          "data": {
            "text/plain": [
              "False"
            ]
          },
          "metadata": {},
          "execution_count": 228
        }
      ]
    },
    {
      "cell_type": "code",
      "source": [
        "any(numeros)"
      ],
      "metadata": {
        "colab": {
          "base_uri": "https://localhost:8080/"
        },
        "id": "ClUNMRLmWiVC",
        "outputId": "75f1f756-fec8-4d84-8147-949ea4f1c88d"
      },
      "execution_count": null,
      "outputs": [
        {
          "output_type": "execute_result",
          "data": {
            "text/plain": [
              "True"
            ]
          },
          "metadata": {},
          "execution_count": 229
        }
      ]
    },
    {
      "cell_type": "code",
      "source": [
        "boleanos = [True, False, False]"
      ],
      "metadata": {
        "id": "t2YHf-u6WkZr"
      },
      "execution_count": null,
      "outputs": []
    },
    {
      "cell_type": "code",
      "source": [
        "all(boleanos)"
      ],
      "metadata": {
        "colab": {
          "base_uri": "https://localhost:8080/"
        },
        "id": "b6Drbh_DXYtM",
        "outputId": "de5f830d-6389-491f-a2e9-c19d3137b676"
      },
      "execution_count": null,
      "outputs": [
        {
          "output_type": "execute_result",
          "data": {
            "text/plain": [
              "False"
            ]
          },
          "metadata": {},
          "execution_count": 231
        }
      ]
    },
    {
      "cell_type": "code",
      "source": [
        "any(boleanos)"
      ],
      "metadata": {
        "colab": {
          "base_uri": "https://localhost:8080/"
        },
        "id": "76AxFaVDXZmO",
        "outputId": "db369434-7013-41f7-b87e-3a9a0a1d88d3"
      },
      "execution_count": null,
      "outputs": [
        {
          "output_type": "execute_result",
          "data": {
            "text/plain": [
              "True"
            ]
          },
          "metadata": {},
          "execution_count": 232
        }
      ]
    },
    {
      "cell_type": "markdown",
      "metadata": {
        "id": "vHsEry6gbgMl"
      },
      "source": [
        "## 9 Atividade"
      ]
    },
    {
      "cell_type": "markdown",
      "metadata": {
        "id": "QFe5RbDPbgMl"
      },
      "source": [
        "Crie uma lista de cinco elementos contendo `67`, `12`, `46`, `43` e `13`, então use o método de lista `index` para procurar por `43` e `44`. Certifique-se de que nenhum `ValueError` ocorra ao pesquisar por `44`."
      ]
    },
    {
      "cell_type": "markdown",
      "source": [
        "Resposta"
      ],
      "metadata": {
        "id": "dKKbdKJYXrTC"
      }
    },
    {
      "cell_type": "code",
      "source": [
        "minha_lista = [67, 12, 46, 43, 13]\n",
        "print(minha_lista.index(43))\n",
        "if 44 in minha_lista:\n",
        "    print(minha_lista.index(44))\n"
      ],
      "metadata": {
        "colab": {
          "base_uri": "https://localhost:8080/"
        },
        "id": "8cpIsuKsrnu_",
        "outputId": "7365721f-5fd0-441f-fe1b-629ce8f01e8a"
      },
      "execution_count": null,
      "outputs": [
        {
          "output_type": "stream",
          "name": "stdout",
          "text": [
            "3\n"
          ]
        }
      ]
    },
    {
      "cell_type": "code",
      "source": [
        "def search_in_list(num1, num2):\n",
        "  lista = [67, 12, 46, 43, 13]\n",
        "  if num1 in lista:\n",
        "    print(f'found {num1} at index {lista.index(num1)}')\n",
        "  else:\n",
        "    print(f'{num1} not found')\n",
        "  if num2 in lista:\n",
        "    print(f'found {num2} at index {lista.index(num2)}')\n",
        "  else:\n",
        "    print(f'{num2} not found')\n",
        "\n",
        "search_in_list(43,44)\n"
      ],
      "metadata": {
        "colab": {
          "base_uri": "https://localhost:8080/"
        },
        "id": "E5ND6ku7tlYd",
        "outputId": "d5879142-68c5-4fc6-a4a9-aef6da94f273"
      },
      "execution_count": null,
      "outputs": [
        {
          "output_type": "stream",
          "name": "stdout",
          "text": [
            "found 43 at index 3\n",
            "44 not found\n"
          ]
        }
      ]
    },
    {
      "cell_type": "code",
      "source": [
        "def search_number(query, arr):\n",
        "  if query in arr:\n",
        "    return arr.index(query)\n",
        "  return -1\n",
        "\n",
        "numList = [67, 12, 46, 43, 13]\n",
        "\n",
        "print(search_number(43, numList))\n",
        "print(search_number(44, numList))\n"
      ],
      "metadata": {
        "colab": {
          "base_uri": "https://localhost:8080/"
        },
        "id": "MY3tGqQyt0Tn",
        "outputId": "9f1608ea-fd56-4d56-b175-8f094ff71f9f"
      },
      "execution_count": null,
      "outputs": [
        {
          "output_type": "stream",
          "name": "stdout",
          "text": [
            "3\n",
            "-1\n"
          ]
        }
      ]
    },
    {
      "cell_type": "markdown",
      "metadata": {
        "id": "GiLOPQOobgMm"
      },
      "source": [
        "# 10 Outros métodos de list"
      ]
    },
    {
      "cell_type": "code",
      "execution_count": null,
      "metadata": {
        "id": "JT_oWd60bgMm"
      },
      "outputs": [],
      "source": [
        "color_names = ['orange', 'yellow', 'green']"
      ]
    },
    {
      "cell_type": "markdown",
      "metadata": {
        "id": "iX49gKLHbgMm"
      },
      "source": [
        "### Inserindo um elemento em um índice específico"
      ]
    },
    {
      "cell_type": "code",
      "execution_count": null,
      "metadata": {
        "id": "4gTqBL4-bgMm"
      },
      "outputs": [],
      "source": [
        "color_names.insert(0, 'red')"
      ]
    },
    {
      "cell_type": "code",
      "execution_count": null,
      "metadata": {
        "id": "tDwXB_NTbgMm",
        "colab": {
          "base_uri": "https://localhost:8080/"
        },
        "outputId": "1fd58c59-de4c-4cf4-f822-ba0575c38de9"
      },
      "outputs": [
        {
          "output_type": "execute_result",
          "data": {
            "text/plain": [
              "['red', 'orange', 'yellow', 'green']"
            ]
          },
          "metadata": {},
          "execution_count": 238
        }
      ],
      "source": [
        "color_names"
      ]
    },
    {
      "cell_type": "markdown",
      "metadata": {
        "id": "rofnsttwbgMn"
      },
      "source": [
        "### Adicionando um elemento no fim da lista"
      ]
    },
    {
      "cell_type": "code",
      "execution_count": null,
      "metadata": {
        "id": "JuNIoKaQbgMn"
      },
      "outputs": [],
      "source": [
        "color_names.append('blue')"
      ]
    },
    {
      "cell_type": "code",
      "execution_count": null,
      "metadata": {
        "id": "GbCJMRmIbgMn",
        "colab": {
          "base_uri": "https://localhost:8080/"
        },
        "outputId": "3237c24d-8267-4a99-c902-8c49d1d37166"
      },
      "outputs": [
        {
          "output_type": "execute_result",
          "data": {
            "text/plain": [
              "['red', 'orange', 'yellow', 'green', 'blue']"
            ]
          },
          "metadata": {},
          "execution_count": 240
        }
      ],
      "source": [
        "color_names"
      ]
    },
    {
      "cell_type": "markdown",
      "metadata": {
        "id": "u3zaBLqEbgMn"
      },
      "source": [
        "### Adicionando todos os elementos de uma sequencia no final de uma lista "
      ]
    },
    {
      "cell_type": "code",
      "execution_count": null,
      "metadata": {
        "id": "kGTzuLxFbgMn"
      },
      "outputs": [],
      "source": [
        "color_names.extend(['indigo', 'violet'])"
      ]
    },
    {
      "cell_type": "code",
      "execution_count": null,
      "metadata": {
        "id": "MUd19NHjbgMn",
        "colab": {
          "base_uri": "https://localhost:8080/"
        },
        "outputId": "2a521001-f9a9-4ecc-deda-27817a4c7f1f"
      },
      "outputs": [
        {
          "output_type": "execute_result",
          "data": {
            "text/plain": [
              "['red', 'orange', 'yellow', 'green', 'blue', 'indigo', 'violet']"
            ]
          },
          "metadata": {},
          "execution_count": 242
        }
      ],
      "source": [
        "color_names"
      ]
    },
    {
      "cell_type": "code",
      "execution_count": null,
      "metadata": {
        "id": "Z38ABXSdbgMo"
      },
      "outputs": [],
      "source": [
        "sample_list = []"
      ]
    },
    {
      "cell_type": "code",
      "execution_count": null,
      "metadata": {
        "id": "_tNAIgyUbgMo"
      },
      "outputs": [],
      "source": [
        "s = 'abc'"
      ]
    },
    {
      "cell_type": "code",
      "execution_count": null,
      "metadata": {
        "id": "_bzvYhupbgMo"
      },
      "outputs": [],
      "source": [
        "sample_list.extend(s)"
      ]
    },
    {
      "cell_type": "code",
      "source": [
        "sample_list"
      ],
      "metadata": {
        "colab": {
          "base_uri": "https://localhost:8080/"
        },
        "id": "Q1TGxGCquQWW",
        "outputId": "c4b17809-45eb-4772-8b1d-7566e228de72"
      },
      "execution_count": null,
      "outputs": [
        {
          "output_type": "execute_result",
          "data": {
            "text/plain": [
              "['a', 'b', 'c']"
            ]
          },
          "metadata": {},
          "execution_count": 246
        }
      ]
    },
    {
      "cell_type": "code",
      "execution_count": null,
      "metadata": {
        "id": "NP-L2k66bgMo"
      },
      "outputs": [],
      "source": [
        "t = (1, 2, 3)"
      ]
    },
    {
      "cell_type": "code",
      "execution_count": null,
      "metadata": {
        "id": "aiudTm03bgMo"
      },
      "outputs": [],
      "source": [
        "sample_list.extend(t)"
      ]
    },
    {
      "cell_type": "code",
      "execution_count": null,
      "metadata": {
        "id": "FDb4FCkCbgMo",
        "colab": {
          "base_uri": "https://localhost:8080/"
        },
        "outputId": "bb8d02ba-af8f-4f40-8f8a-413860c61fc7"
      },
      "outputs": [
        {
          "output_type": "execute_result",
          "data": {
            "text/plain": [
              "['a', 'b', 'c', 1, 2, 3]"
            ]
          },
          "metadata": {},
          "execution_count": 249
        }
      ],
      "source": [
        "sample_list"
      ]
    },
    {
      "cell_type": "code",
      "execution_count": null,
      "metadata": {
        "id": "-7WhpDtGbgMo"
      },
      "outputs": [],
      "source": [
        "sample_list.extend((4, 5, 6))  # note the extra parentheses"
      ]
    },
    {
      "cell_type": "code",
      "execution_count": null,
      "metadata": {
        "id": "7kQLi8HzbgMp",
        "colab": {
          "base_uri": "https://localhost:8080/"
        },
        "outputId": "d2e56646-23b5-4933-fc37-d1253088df17"
      },
      "outputs": [
        {
          "output_type": "execute_result",
          "data": {
            "text/plain": [
              "['a', 'b', 'c', 1, 2, 3, 4, 5, 6]"
            ]
          },
          "metadata": {},
          "execution_count": 252
        }
      ],
      "source": [
        "sample_list"
      ]
    },
    {
      "cell_type": "markdown",
      "metadata": {
        "id": "yBn9C5b3bgMp"
      },
      "source": [
        "### Removendo a primeira ocorrência de um elementos de uma lista"
      ]
    },
    {
      "cell_type": "code",
      "execution_count": null,
      "metadata": {
        "id": "gWfvLMujbgMp"
      },
      "outputs": [],
      "source": [
        "color_names.remove('green')"
      ]
    },
    {
      "cell_type": "code",
      "execution_count": null,
      "metadata": {
        "id": "d95hbAsubgMp",
        "colab": {
          "base_uri": "https://localhost:8080/"
        },
        "outputId": "6f6ef277-8478-4898-ba6f-0918e528529a"
      },
      "outputs": [
        {
          "output_type": "execute_result",
          "data": {
            "text/plain": [
              "['red', 'orange', 'yellow', 'blue', 'indigo', 'violet']"
            ]
          },
          "metadata": {},
          "execution_count": 254
        }
      ],
      "source": [
        "color_names"
      ]
    },
    {
      "cell_type": "markdown",
      "metadata": {
        "id": "DjK7F9E9bgMp"
      },
      "source": [
        "### Esvaziando uma lista"
      ]
    },
    {
      "cell_type": "code",
      "execution_count": null,
      "metadata": {
        "id": "8rDxr4mcbgMp"
      },
      "outputs": [],
      "source": [
        "color_names.clear()"
      ]
    },
    {
      "cell_type": "code",
      "execution_count": null,
      "metadata": {
        "id": "IvIq2-DTbgMp",
        "colab": {
          "base_uri": "https://localhost:8080/"
        },
        "outputId": "984bce94-205c-4783-9640-3b1dec03df65"
      },
      "outputs": [
        {
          "output_type": "execute_result",
          "data": {
            "text/plain": [
              "[]"
            ]
          },
          "metadata": {},
          "execution_count": 256
        }
      ],
      "source": [
        "color_names"
      ]
    },
    {
      "cell_type": "markdown",
      "metadata": {
        "id": "vaMg0WWWbgMp"
      },
      "source": [
        "### Contando o número de ocorrências de um item"
      ]
    },
    {
      "cell_type": "code",
      "execution_count": null,
      "metadata": {
        "id": "O_qSRjgYbgMq"
      },
      "outputs": [],
      "source": [
        "responses = [1, 2, 5, 4, 3, 5, 2, 1, 3, 3, 1, 4, 3, 3, 3, 2, 3, 3, 2, 2]"
      ]
    },
    {
      "cell_type": "code",
      "source": [
        "responses.count(3)"
      ],
      "metadata": {
        "colab": {
          "base_uri": "https://localhost:8080/"
        },
        "id": "SpAHa9tYYb6K",
        "outputId": "0be52ac3-a468-4976-c24b-c4b2b5b02165"
      },
      "execution_count": null,
      "outputs": [
        {
          "output_type": "execute_result",
          "data": {
            "text/plain": [
              "8"
            ]
          },
          "metadata": {},
          "execution_count": 258
        }
      ]
    },
    {
      "cell_type": "code",
      "source": [
        "for i in range(1, 6):\n",
        "    print(f'{i} appears {responses.count(i)} times in responses')"
      ],
      "metadata": {
        "colab": {
          "base_uri": "https://localhost:8080/"
        },
        "id": "RcCOfnTyu8mj",
        "outputId": "99b39b68-5e78-4530-faef-76973cdd82c5"
      },
      "execution_count": null,
      "outputs": [
        {
          "output_type": "stream",
          "name": "stdout",
          "text": [
            "1 appears 3 times in responses\n",
            "2 appears 5 times in responses\n",
            "3 appears 8 times in responses\n",
            "4 appears 2 times in responses\n",
            "5 appears 2 times in responses\n"
          ]
        }
      ]
    },
    {
      "cell_type": "markdown",
      "metadata": {
        "id": "uKiW4iFabgMq"
      },
      "source": [
        "### Revertendo os elementos da lista"
      ]
    },
    {
      "cell_type": "code",
      "execution_count": null,
      "metadata": {
        "id": "RA1_siJwbgMq"
      },
      "outputs": [],
      "source": [
        "color_names = ['red', 'orange', 'yellow', 'green', 'blue']"
      ]
    },
    {
      "cell_type": "code",
      "execution_count": null,
      "metadata": {
        "id": "E6eh1L0JbgMq"
      },
      "outputs": [],
      "source": [
        "color_names.reverse()"
      ]
    },
    {
      "cell_type": "code",
      "source": [
        "color_names"
      ],
      "metadata": {
        "colab": {
          "base_uri": "https://localhost:8080/"
        },
        "id": "8Vm09e6uvLhd",
        "outputId": "7d55fd98-3084-4d1e-d016-2235b26b501d"
      },
      "execution_count": null,
      "outputs": [
        {
          "output_type": "execute_result",
          "data": {
            "text/plain": [
              "['blue', 'green', 'yellow', 'orange', 'red']"
            ]
          },
          "metadata": {},
          "execution_count": 262
        }
      ]
    },
    {
      "cell_type": "markdown",
      "metadata": {
        "id": "xvKke3qWbgMr"
      },
      "source": [
        "### Copiando uma lista"
      ]
    },
    {
      "cell_type": "code",
      "execution_count": null,
      "metadata": {
        "id": "-2cfPCLobgMr"
      },
      "outputs": [],
      "source": [
        "copied_list = color_names.copy()"
      ]
    },
    {
      "cell_type": "code",
      "execution_count": null,
      "metadata": {
        "id": "u0lTx-RhbgMr",
        "colab": {
          "base_uri": "https://localhost:8080/"
        },
        "outputId": "058c6fd3-cf5f-4c38-a03b-717a72cb8ec2"
      },
      "outputs": [
        {
          "output_type": "execute_result",
          "data": {
            "text/plain": [
              "['blue', 'green', 'yellow', 'orange', 'red']"
            ]
          },
          "metadata": {},
          "execution_count": 264
        }
      ],
      "source": [
        "copied_list"
      ]
    },
    {
      "cell_type": "markdown",
      "metadata": {
        "id": "Q4OFY26TbgMr"
      },
      "source": [
        "## Atividade"
      ]
    },
    {
      "cell_type": "markdown",
      "metadata": {
        "id": "imGNFgstbgMs"
      },
      "source": [
        "Crie uma lista chamada `rainbow` contendo `'green'`, `'orange'` e `'violet'`. Execute as seguintes operações consecutivamente usando métodos de lista e mostre o conteúdo da lista após cada operação:\n",
        "\n",
        "uma. Determine o índice de `'violet'` e use-o para inserir `'red'` antes de `'violet'`.\n",
        "\n",
        "b. Acrescente `'amarelo'` ao final da lista.\n",
        "\n",
        "c. Inverta os elementos da lista.\n",
        "\n",
        "d. Remova o elemento `'laranja'`.\n"
      ]
    },
    {
      "cell_type": "markdown",
      "source": [
        "Resposta"
      ],
      "metadata": {
        "id": "H7_WpQFHYz3E"
      }
    },
    {
      "cell_type": "code",
      "source": [],
      "metadata": {
        "id": "Aq_MCWJGva2y"
      },
      "execution_count": null,
      "outputs": []
    },
    {
      "cell_type": "markdown",
      "metadata": {
        "id": "VMqVuwZibgMx"
      },
      "source": [
        "# 12 List Comprehensions"
      ]
    },
    {
      "cell_type": "markdown",
      "source": [
        "Aqui, continuamos discutindo recursos de estilo funcional com List Comprehensions — uma notação concisa e conveniente para criar novas listas. \n",
        "\n",
        "As compreensões de lista podem substituir muitas instruções que iteram sobre sequências existentes e criam novas listas, como:"
      ],
      "metadata": {
        "id": "_418lAi7b3cC"
      }
    },
    {
      "cell_type": "code",
      "execution_count": null,
      "metadata": {
        "id": "2oCgRuIEbgMx"
      },
      "outputs": [],
      "source": [
        "list1 = []"
      ]
    },
    {
      "cell_type": "code",
      "execution_count": null,
      "metadata": {
        "id": "KT8xIUMPbgMx"
      },
      "outputs": [],
      "source": [
        "for item in range(1, 6):\n",
        "    list1.append(item)"
      ]
    },
    {
      "cell_type": "code",
      "execution_count": null,
      "metadata": {
        "id": "3FEU0Vi-bgMy",
        "colab": {
          "base_uri": "https://localhost:8080/"
        },
        "outputId": "0985f7c5-916b-4ad6-ff76-46d292ef6714"
      },
      "outputs": [
        {
          "output_type": "execute_result",
          "data": {
            "text/plain": [
              "[1, 2, 3, 4, 5]"
            ]
          },
          "metadata": {},
          "execution_count": 267
        }
      ],
      "source": [
        "list1"
      ]
    },
    {
      "cell_type": "markdown",
      "source": [
        "### Usando List Comprehension para criar uma lista de inteiros"
      ],
      "metadata": {
        "id": "lEjCLszevraJ"
      }
    },
    {
      "cell_type": "code",
      "source": [
        "list2 = [item for item in range(1, 6)]"
      ],
      "metadata": {
        "id": "6Sbt8cY-vshj"
      },
      "execution_count": null,
      "outputs": []
    },
    {
      "cell_type": "code",
      "source": [
        "list2"
      ],
      "metadata": {
        "colab": {
          "base_uri": "https://localhost:8080/"
        },
        "id": "1w09VC39v5qn",
        "outputId": "c13cd268-b720-41ca-8ff6-1a1c13ee37f9"
      },
      "execution_count": null,
      "outputs": [
        {
          "output_type": "execute_result",
          "data": {
            "text/plain": [
              "[1, 2, 3, 4, 5]"
            ]
          },
          "metadata": {},
          "execution_count": 269
        }
      ]
    },
    {
      "cell_type": "markdown",
      "source": [
        "### Mapeamento: realizando operações em uma expressão List Comprehension"
      ],
      "metadata": {
        "id": "gbUIAoaWv-4q"
      }
    },
    {
      "cell_type": "code",
      "source": [
        "list3 = [item ** 3 for item in range(1, 6)]"
      ],
      "metadata": {
        "id": "ROH6iR2GwAAh"
      },
      "execution_count": null,
      "outputs": []
    },
    {
      "cell_type": "code",
      "source": [
        "list3"
      ],
      "metadata": {
        "colab": {
          "base_uri": "https://localhost:8080/"
        },
        "id": "dGg80SmtwIAj",
        "outputId": "6e87ef7c-0cc3-40d7-d3be-23c6c83b2f21"
      },
      "execution_count": null,
      "outputs": [
        {
          "output_type": "execute_result",
          "data": {
            "text/plain": [
              "[1, 8, 27, 64, 125]"
            ]
          },
          "metadata": {},
          "execution_count": 271
        }
      ]
    },
    {
      "cell_type": "markdown",
      "source": [
        "### Filtrando: List Comprehensions com clásula `if`"
      ],
      "metadata": {
        "id": "fIH8tPCxwP02"
      }
    },
    {
      "cell_type": "code",
      "source": [
        "list4 = [item for item in range(1, 6) if item % 2 == 0]"
      ],
      "metadata": {
        "id": "ilPm439hwInQ"
      },
      "execution_count": null,
      "outputs": []
    },
    {
      "cell_type": "code",
      "source": [
        "list4"
      ],
      "metadata": {
        "colab": {
          "base_uri": "https://localhost:8080/"
        },
        "id": "DjNcvcICwhlU",
        "outputId": "2ae15b02-8835-40be-e5a0-0e829101d6da"
      },
      "execution_count": null,
      "outputs": [
        {
          "output_type": "execute_result",
          "data": {
            "text/plain": [
              "[2, 4]"
            ]
          },
          "metadata": {},
          "execution_count": 273
        }
      ]
    },
    {
      "cell_type": "markdown",
      "metadata": {
        "id": "hvdrdsGFbgM3"
      },
      "source": [
        "### um List Comprehension que processa elementos de outra lista"
      ]
    },
    {
      "cell_type": "code",
      "execution_count": null,
      "metadata": {
        "id": "tx-fntZzbgM3"
      },
      "outputs": [],
      "source": [
        "colors = ['red', 'orange', 'yellow', 'green', 'blue']"
      ]
    },
    {
      "cell_type": "code",
      "execution_count": null,
      "metadata": {
        "id": "3c72HjPgbgM4"
      },
      "outputs": [],
      "source": [
        "colors2 = [item.upper() for item in colors]"
      ]
    },
    {
      "cell_type": "code",
      "source": [
        "colors2"
      ],
      "metadata": {
        "colab": {
          "base_uri": "https://localhost:8080/"
        },
        "id": "yiSmQGC7wiAo",
        "outputId": "06060af8-9fb3-4237-f576-7f549abc9ee2"
      },
      "execution_count": null,
      "outputs": [
        {
          "output_type": "execute_result",
          "data": {
            "text/plain": [
              "['RED', 'ORANGE', 'YELLOW', 'GREEN', 'BLUE']"
            ]
          },
          "metadata": {},
          "execution_count": 276
        }
      ]
    },
    {
      "cell_type": "code",
      "source": [
        "colors"
      ],
      "metadata": {
        "colab": {
          "base_uri": "https://localhost:8080/"
        },
        "id": "8VJytHyqwzfw",
        "outputId": "d2517541-382c-440d-865c-903553fb7e37"
      },
      "execution_count": null,
      "outputs": [
        {
          "output_type": "execute_result",
          "data": {
            "text/plain": [
              "['red', 'orange', 'yellow', 'green', 'blue']"
            ]
          },
          "metadata": {},
          "execution_count": 277
        }
      ]
    },
    {
      "cell_type": "code",
      "source": [],
      "metadata": {
        "id": "CC4aMLd0w1dZ"
      },
      "execution_count": null,
      "outputs": []
    },
    {
      "cell_type": "markdown",
      "metadata": {
        "id": "M2lW2I8FbgM9"
      },
      "source": [
        "## Atividade"
      ]
    },
    {
      "cell_type": "markdown",
      "metadata": {
        "id": "umxIJPR1bgM-"
      },
      "source": [
        "Use uma List Comprehension para criar uma lista de tuplas contendo os números de 1 a 5 e seus cubos, ou seja, `[(1, 1), (2, 8), (3, 27), …]`. Para criar tuplas, coloque parênteses ao redor da expressão à esquerda da cláusula `for` da compreensão da lista.\n",
        "\n"
      ]
    },
    {
      "cell_type": "markdown",
      "source": [
        "Resposta"
      ],
      "metadata": {
        "id": "vLninDJpa53h"
      }
    },
    {
      "cell_type": "code",
      "source": [],
      "metadata": {
        "id": "1HpcSKcuw7IY"
      },
      "execution_count": null,
      "outputs": []
    },
    {
      "cell_type": "markdown",
      "metadata": {
        "id": "QzueuyD2bgNB"
      },
      "source": [
        "# 13 Expressão geradora"
      ]
    },
    {
      "cell_type": "markdown",
      "source": [
        "Para um grande número de itens, criar uma lista pode consumir bastante memória e tempo. \n",
        "\n",
        "Portanto, expressões geradoras podem reduzir o consumo de memória do seu programa e melhorar o desempenho se a lista inteira não for necessária de uma só vez."
      ],
      "metadata": {
        "id": "wJz2Hn8FdFaH"
      }
    },
    {
      "cell_type": "code",
      "execution_count": null,
      "metadata": {
        "id": "iwZQJwJEbgNB"
      },
      "outputs": [],
      "source": [
        "numbers = [10, 3, 7, 1, 9, 4, 2, 8, 5, 6]"
      ]
    },
    {
      "cell_type": "markdown",
      "source": [
        "Para mostrar que uma expressão geradora não cria uma lista, vamos atribuir a expressão geradora do snippet anterior a uma variável e avaliar a variável:"
      ],
      "metadata": {
        "id": "XABziDyHdQq5"
      }
    },
    {
      "cell_type": "code",
      "execution_count": null,
      "metadata": {
        "id": "XzKDRN9dbgNC"
      },
      "outputs": [],
      "source": [
        "squares_of_odds = (x ** 2 for x in numbers if x % 2 != 0)"
      ]
    },
    {
      "cell_type": "code",
      "source": [
        "type(squares_of_odds)"
      ],
      "metadata": {
        "colab": {
          "base_uri": "https://localhost:8080/"
        },
        "id": "B6J1yJpDxdIO",
        "outputId": "dad73b17-aa93-49df-9d1e-9b43b43fc829"
      },
      "execution_count": null,
      "outputs": [
        {
          "output_type": "execute_result",
          "data": {
            "text/plain": [
              "generator"
            ]
          },
          "metadata": {},
          "execution_count": 280
        }
      ]
    },
    {
      "cell_type": "code",
      "source": [
        "squares_of_odds"
      ],
      "metadata": {
        "colab": {
          "base_uri": "https://localhost:8080/"
        },
        "id": "EoJEpQJbxn7y",
        "outputId": "0f98c5cd-6fe0-45e8-d693-4aa0d1ece8bf"
      },
      "execution_count": null,
      "outputs": [
        {
          "output_type": "execute_result",
          "data": {
            "text/plain": [
              "<generator object <genexpr> at 0x7fe4ca493850>"
            ]
          },
          "metadata": {},
          "execution_count": 281
        }
      ]
    },
    {
      "cell_type": "code",
      "source": [
        "for value in squares_of_odds:\n",
        "    print(value, end='  ')"
      ],
      "metadata": {
        "colab": {
          "base_uri": "https://localhost:8080/"
        },
        "id": "C6SqjxlmxfNI",
        "outputId": "76106bf4-1b2e-4083-8879-e8c72d4ab67a"
      },
      "execution_count": null,
      "outputs": [
        {
          "output_type": "stream",
          "name": "stdout",
          "text": [
            "9  49  1  81  25  "
          ]
        }
      ]
    },
    {
      "cell_type": "markdown",
      "metadata": {
        "id": "NOfjDte-bgNH"
      },
      "source": [
        "## Atividade"
      ]
    },
    {
      "cell_type": "markdown",
      "metadata": {
        "id": "baXmwa2fbgNI"
      },
      "source": [
        "Crie uma expressão geradora que cube os inteiros pares em uma lista contendo 10, 3, 7, 1, 9, 4 e 2. Use a função `list` para criar uma lista dos resultados. Observe que os parênteses da chamada de função também atuam como os parênteses da expressão geradora.\n"
      ]
    },
    {
      "cell_type": "markdown",
      "source": [
        "Resposta"
      ],
      "metadata": {
        "id": "YKF46o4Jdh2f"
      }
    },
    {
      "cell_type": "code",
      "execution_count": null,
      "metadata": {
        "id": "aI7AbLzdbgNI"
      },
      "outputs": [],
      "source": []
    },
    {
      "cell_type": "code",
      "source": [],
      "metadata": {
        "id": "OP7sOH2lcp9M"
      },
      "execution_count": null,
      "outputs": []
    },
    {
      "cell_type": "markdown",
      "metadata": {
        "id": "HUiNKtpabgNJ"
      },
      "source": [
        "# 14 Filter, Map e Reduce "
      ]
    },
    {
      "cell_type": "markdown",
      "source": [
        "A seção anterior introduziu vários recursos de estilo funcional—compreensão de lista, filtragem e mapeamento. \n",
        "\n",
        "Aqui demonstramos as funções integradas de filtro e mapa para filtragem e mapeamento, respectivamente."
      ],
      "metadata": {
        "id": "5oOU2P88gLKd"
      }
    },
    {
      "cell_type": "markdown",
      "metadata": {
        "id": "8lgamY0NbgNJ"
      },
      "source": [
        "### Filtrando os valores de uma sequência com a função `filter`"
      ]
    },
    {
      "cell_type": "code",
      "execution_count": null,
      "metadata": {
        "id": "swjavFMEbgNJ"
      },
      "outputs": [],
      "source": [
        "numbers = [10, 3, 7, 1, 9, 4, 2, 8, 5, 6]"
      ]
    },
    {
      "cell_type": "code",
      "execution_count": null,
      "metadata": {
        "id": "rlnBDl9HbgNK"
      },
      "outputs": [],
      "source": [
        "def is_odd(x):\n",
        "    \"\"\"Returns True only if x is odd.\"\"\"\n",
        "    return x % 2 != 0"
      ]
    },
    {
      "cell_type": "code",
      "execution_count": null,
      "metadata": {
        "id": "IXlUbjUwbgNM",
        "colab": {
          "base_uri": "https://localhost:8080/"
        },
        "outputId": "d858e22e-0f42-4fd9-f7be-690e5cac57d6"
      },
      "outputs": [
        {
          "output_type": "execute_result",
          "data": {
            "text/plain": [
              "[3, 7, 1, 9, 5]"
            ]
          },
          "metadata": {},
          "execution_count": 118
        }
      ],
      "source": [
        "list(filter(is_odd, numbers))"
      ]
    },
    {
      "cell_type": "markdown",
      "metadata": {
        "id": "WMQ_38lUbgNQ"
      },
      "source": [
        "### Usando `lambda` ao invés de uma função"
      ]
    },
    {
      "cell_type": "markdown",
      "source": [
        "Para funções simples como is_odd que retornam apenas o valor de uma única expressão, você pode usar uma expressão lambda para definir a função inline onde for necessário"
      ],
      "metadata": {
        "id": "OacqTwFOipt_"
      }
    },
    {
      "cell_type": "code",
      "execution_count": null,
      "metadata": {
        "id": "_94l04lubgNQ",
        "colab": {
          "base_uri": "https://localhost:8080/"
        },
        "outputId": "624d03c5-fb0a-4e61-b5dc-b722a27e2725"
      },
      "outputs": [
        {
          "output_type": "execute_result",
          "data": {
            "text/plain": [
              "[3, 7, 1, 9, 5]"
            ]
          },
          "metadata": {},
          "execution_count": 287
        }
      ],
      "source": [
        "list(filter(lambda x: x % 2 != 0, numbers))"
      ]
    },
    {
      "cell_type": "code",
      "source": [],
      "metadata": {
        "id": "Kp7Rtv4EyilQ"
      },
      "execution_count": null,
      "outputs": []
    },
    {
      "cell_type": "markdown",
      "metadata": {
        "id": "FDCgKJfrbgNR"
      },
      "source": [
        "### Mapeando os valores de uma sequência para novos valores"
      ]
    },
    {
      "cell_type": "code",
      "execution_count": null,
      "metadata": {
        "id": "aci7xK-4bgNR",
        "colab": {
          "base_uri": "https://localhost:8080/"
        },
        "outputId": "b6ac6e01-8e85-4113-bcf1-89ee5c1ee120"
      },
      "outputs": [
        {
          "output_type": "execute_result",
          "data": {
            "text/plain": [
              "[10, 3, 7, 1, 9, 4, 2, 8, 5, 6]"
            ]
          },
          "metadata": {},
          "execution_count": 288
        }
      ],
      "source": [
        "numbers"
      ]
    },
    {
      "cell_type": "code",
      "execution_count": null,
      "metadata": {
        "id": "iSf6EwmXbgNR",
        "colab": {
          "base_uri": "https://localhost:8080/"
        },
        "outputId": "65df75df-f52b-43f4-dbf6-70c81c352c72"
      },
      "outputs": [
        {
          "output_type": "execute_result",
          "data": {
            "text/plain": [
              "[100, 9, 49, 1, 81, 16, 4, 64, 25, 36]"
            ]
          },
          "metadata": {},
          "execution_count": 289
        }
      ],
      "source": [
        "list(map(lambda x: x ** 2, numbers))"
      ]
    },
    {
      "cell_type": "code",
      "execution_count": null,
      "metadata": {
        "id": "fkq3ItZKbgNR",
        "colab": {
          "base_uri": "https://localhost:8080/"
        },
        "outputId": "3801c19c-ba46-4dbd-c0e9-c9644277a652"
      },
      "outputs": [
        {
          "output_type": "execute_result",
          "data": {
            "text/plain": [
              "[100, 9, 49, 1, 81, 16, 4, 64, 25, 36]"
            ]
          },
          "metadata": {},
          "execution_count": 290
        }
      ],
      "source": [
        "[item ** 2 for item in numbers]"
      ]
    },
    {
      "cell_type": "markdown",
      "metadata": {
        "id": "X0jZK9AfbgNS"
      },
      "source": [
        "### Combinando `filter` e `map`"
      ]
    },
    {
      "cell_type": "code",
      "execution_count": null,
      "metadata": {
        "id": "fn5Xvyk9bgNS",
        "colab": {
          "base_uri": "https://localhost:8080/"
        },
        "outputId": "8fa9c466-00ff-4c6c-a899-b046ba059d00"
      },
      "outputs": [
        {
          "output_type": "execute_result",
          "data": {
            "text/plain": [
              "[9, 49, 1, 81, 25]"
            ]
          },
          "metadata": {},
          "execution_count": 292
        }
      ],
      "source": [
        "list(map(lambda x: x ** 2, filter(lambda x: x % 2 != 0, numbers)))"
      ]
    },
    {
      "cell_type": "markdown",
      "source": [
        "Você pode preferir a seguinte compreensão de lista ao snippet anterior:"
      ],
      "metadata": {
        "id": "vdJEevxSju_M"
      }
    },
    {
      "cell_type": "code",
      "execution_count": null,
      "metadata": {
        "id": "-ArtU8kWbgNS",
        "colab": {
          "base_uri": "https://localhost:8080/"
        },
        "outputId": "2ffdd604-3995-4394-cdf7-44e0b4d8a5a3"
      },
      "outputs": [
        {
          "output_type": "execute_result",
          "data": {
            "text/plain": [
              "[9, 49, 1, 81, 25]"
            ]
          },
          "metadata": {},
          "execution_count": 293
        }
      ],
      "source": [
        "[x ** 2 for x in numbers if x % 2 != 0]"
      ]
    },
    {
      "cell_type": "markdown",
      "metadata": {
        "id": "W-0139RqbgNT"
      },
      "source": [
        "## Atividade"
      ]
    },
    {
      "cell_type": "markdown",
      "metadata": {
        "id": "7uJymNwpbgNU"
      },
      "source": [
        "Crie uma lista chamada `numbers` contendo de 1 a 15 e execute as seguintes tarefas:\n",
        "\n",
        "a. Use a função interna `filter` com um lambda para selecionar apenas elementos pares `numbers`'. Crie uma nova lista contendo o resultado.\n",
        "\n",
        "b. Use a função interna `map` com um `lambda` para elevar ao quadrado os valores dos elementos `numbers`'. Crie uma nova lista contendo o resultado.\n",
        "\n",
        "c. Filtre os elementos pares `numbers` e, em seguida, mapeie-os para seus quadrados. Crie uma nova lista contendo o resultado.\n"
      ]
    },
    {
      "cell_type": "markdown",
      "source": [
        "Resposta"
      ],
      "metadata": {
        "id": "y5iX_h2ykhNV"
      }
    },
    {
      "cell_type": "markdown",
      "metadata": {
        "id": "e7OnmP2pbgNi"
      },
      "source": [
        "# 16 Listas Bidimensionais"
      ]
    },
    {
      "cell_type": "markdown",
      "metadata": {
        "id": "eKGlXnMfbgNi"
      },
      "source": [
        "### Criando uma lista bidimensional"
      ]
    },
    {
      "cell_type": "code",
      "execution_count": null,
      "metadata": {
        "id": "QXtJXyhUbgNi"
      },
      "outputs": [],
      "source": [
        "a = [[77, 68, 86, 73], [96, 87, 89, 81], [70, 90, 86, 81]]"
      ]
    },
    {
      "cell_type": "markdown",
      "metadata": {
        "id": "H4sC-wADbgNi"
      },
      "source": [
        "### Ilustrando uma lista bidimensional"
      ]
    },
    {
      "cell_type": "markdown",
      "source": [
        "![image.png](data:image/png;base64,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)"
      ],
      "metadata": {
        "id": "w-XLlegWqc2D"
      }
    },
    {
      "cell_type": "code",
      "source": [
        "a[0]"
      ],
      "metadata": {
        "colab": {
          "base_uri": "https://localhost:8080/"
        },
        "id": "I7LTlfEZXuY5",
        "outputId": "7e20b569-7384-4cc0-cecf-929dc7b7e0d6"
      },
      "execution_count": null,
      "outputs": [
        {
          "output_type": "execute_result",
          "data": {
            "text/plain": [
              "[77, 68, 86, 73]"
            ]
          },
          "metadata": {},
          "execution_count": 2
        }
      ]
    },
    {
      "cell_type": "code",
      "source": [],
      "metadata": {
        "id": "_WlnqRdLYCG7"
      },
      "execution_count": null,
      "outputs": []
    },
    {
      "cell_type": "markdown",
      "metadata": {
        "id": "ToHCQM06bgNj"
      },
      "source": [
        "### Navegando nos elementos em uma lista bidimensional"
      ]
    },
    {
      "cell_type": "code",
      "execution_count": null,
      "metadata": {
        "id": "uhND5dpbbgNj",
        "colab": {
          "base_uri": "https://localhost:8080/"
        },
        "outputId": "93c13bca-1190-49f0-e0ae-3aabfecedc18"
      },
      "outputs": [
        {
          "output_type": "stream",
          "name": "stdout",
          "text": [
            "77 68 86 73 \n",
            "96 87 89 81 \n",
            "70 90 86 81 \n"
          ]
        }
      ],
      "source": [
        "for linha in a:\n",
        "    for itemNaColuna in linha:\n",
        "        print(itemNaColuna, end=' ')\n",
        "    print()\n",
        "        "
      ]
    },
    {
      "cell_type": "markdown",
      "metadata": {
        "id": "73Bq0C9ebgNj"
      },
      "source": [
        "### Como os loops aninhados são executados"
      ]
    },
    {
      "cell_type": "code",
      "execution_count": null,
      "metadata": {
        "id": "rig8cWwtbgNk",
        "colab": {
          "base_uri": "https://localhost:8080/"
        },
        "outputId": "bf4e8855-a0b2-4d1b-c855-f86ac39f2185"
      },
      "outputs": [
        {
          "output_type": "stream",
          "name": "stdout",
          "text": [
            "a[0][0]=77 , a[0][1]=68 , a[0][2]=86 , a[0][3]=73 , \n",
            "a[1][0]=96 , a[1][1]=87 , a[1][2]=89 , a[1][3]=81 , \n",
            "a[2][0]=70 , a[2][1]=90 , a[2][2]=86 , a[2][3]=81 , \n"
          ]
        }
      ],
      "source": [
        "for i, row in enumerate(a):\n",
        "    for j, item in enumerate(row):\n",
        "        print(f'a[{i}][{j}]={item} ', end=', ')\n",
        "    print()"
      ]
    },
    {
      "cell_type": "markdown",
      "metadata": {
        "id": "7fWLPINpbgNk"
      },
      "source": [
        "## Atividade"
      ]
    },
    {
      "cell_type": "markdown",
      "metadata": {
        "id": "aYJLkEnbbgNk"
      },
      "source": [
        "Dada a lista de inteiros 2 por 3 `t`\n",
        "``` python\n",
        "t = [[10, 7, 3], [20, 4, 17]]\n",
        "```\n",
        "\n",
        "a. Determine e exiba a média dos elementos `t` usando instruções `for` aninhadas para iterar pelos elementos.\n",
        "\n",
        "b. Escreva uma instrução `for` que determine e exiba a média dos elementos `t` usando as reduções `sum` e `len` para calcular a soma dos elementos de cada linha e o número de elementos em cada linha."
      ]
    },
    {
      "cell_type": "code",
      "source": [
        "t = [[10, 7, 3], [20, 4, 17]]"
      ],
      "metadata": {
        "id": "4p27cuuWZIgl"
      },
      "execution_count": null,
      "outputs": []
    },
    {
      "cell_type": "code",
      "source": [
        "total = 0"
      ],
      "metadata": {
        "id": "UiHXTdsVZRtF"
      },
      "execution_count": null,
      "outputs": []
    },
    {
      "cell_type": "code",
      "source": [
        "qtdItems = 0"
      ],
      "metadata": {
        "id": "FCIgXB-rZTEu"
      },
      "execution_count": null,
      "outputs": []
    },
    {
      "cell_type": "code",
      "source": [
        "(10 + 7 + 3 + 20 + 4 + 17) / 6"
      ],
      "metadata": {
        "colab": {
          "base_uri": "https://localhost:8080/"
        },
        "id": "g-GVsOJKZWED",
        "outputId": "c5b1f52e-e0dc-4188-b72b-258066e098ce"
      },
      "execution_count": null,
      "outputs": [
        {
          "output_type": "execute_result",
          "data": {
            "text/plain": [
              "10.166666666666666"
            ]
          },
          "metadata": {},
          "execution_count": 10
        }
      ]
    },
    {
      "cell_type": "code",
      "source": [
        "for linha in t:\n",
        "  for item in linha:\n",
        "    total += item\n",
        "    qtdItems += 1"
      ],
      "metadata": {
        "id": "V7mB-aPAal3Q"
      },
      "execution_count": null,
      "outputs": []
    },
    {
      "cell_type": "code",
      "source": [
        "total"
      ],
      "metadata": {
        "colab": {
          "base_uri": "https://localhost:8080/"
        },
        "id": "geadFModa7uu",
        "outputId": "b8abba6e-1777-4f81-bc37-02d9ac926cef"
      },
      "execution_count": null,
      "outputs": [
        {
          "output_type": "execute_result",
          "data": {
            "text/plain": [
              "61"
            ]
          },
          "metadata": {},
          "execution_count": 12
        }
      ]
    },
    {
      "cell_type": "code",
      "source": [
        "qtdItems"
      ],
      "metadata": {
        "colab": {
          "base_uri": "https://localhost:8080/"
        },
        "id": "yh7JaEV4a8vn",
        "outputId": "b564d038-8996-4839-fd61-9937dcaf2411"
      },
      "execution_count": null,
      "outputs": [
        {
          "output_type": "execute_result",
          "data": {
            "text/plain": [
              "6"
            ]
          },
          "metadata": {},
          "execution_count": 14
        }
      ]
    },
    {
      "cell_type": "code",
      "source": [
        "total / qtdItems"
      ],
      "metadata": {
        "colab": {
          "base_uri": "https://localhost:8080/"
        },
        "id": "ReDBPOMPa_-0",
        "outputId": "be9f26e2-32d8-49ad-8ee8-f5b4f0cea4b1"
      },
      "execution_count": null,
      "outputs": [
        {
          "output_type": "execute_result",
          "data": {
            "text/plain": [
              "10.166666666666666"
            ]
          },
          "metadata": {},
          "execution_count": 15
        }
      ]
    },
    {
      "cell_type": "code",
      "source": [
        "total = 0\n",
        "qtdItens = 0\n",
        "\n",
        "for linha in t:\n",
        "  total += sum(linha)\n",
        "  qtdItens += len(linha)\n",
        "\n",
        "print(total / qtdItens)"
      ],
      "metadata": {
        "colab": {
          "base_uri": "https://localhost:8080/"
        },
        "id": "ooSWS07SbErm",
        "outputId": "2db384cf-3e3d-4f0e-ba31-64bcb00413d6"
      },
      "execution_count": null,
      "outputs": [
        {
          "output_type": "stream",
          "name": "stdout",
          "text": [
            "10.166666666666666\n"
          ]
        }
      ]
    },
    {
      "cell_type": "markdown",
      "source": [
        "# 17 Introdução à ciência de dados: simulação e visualizações estáticas"
      ],
      "metadata": {
        "id": "_f4Lxn7Tr8n-"
      }
    },
    {
      "cell_type": "markdown",
      "source": [
        "Usamos duas bibliotecas de visualização de código aberto - Seaborn e Matplotlib - para exibir gráficos de barras estáticos mostrando os resultados finais de uma simulação de rolagem de seis lados. \n",
        "\n",
        "A biblioteca de visualização Seaborn é construída sobre a biblioteca de visualização Matplotlib e simplifica muitas operações Matplotlib."
      ],
      "metadata": {
        "id": "kw1DdtMSvpWv"
      }
    },
    {
      "cell_type": "code",
      "source": [
        "%matplotlib inline\n",
        "import matplotlib.pyplot as plt"
      ],
      "metadata": {
        "id": "qZMzQwoSk051"
      },
      "execution_count": null,
      "outputs": []
    },
    {
      "cell_type": "code",
      "execution_count": null,
      "metadata": {
        "id": "9snVODTlbgN0"
      },
      "outputs": [],
      "source": [
        "import numpy as np"
      ]
    },
    {
      "cell_type": "code",
      "execution_count": null,
      "metadata": {
        "id": "Sr8-zL3YbgN0"
      },
      "outputs": [],
      "source": [
        "import random"
      ]
    },
    {
      "cell_type": "code",
      "execution_count": null,
      "metadata": {
        "id": "wWN9g2BdbgN1"
      },
      "outputs": [],
      "source": [
        "import seaborn as sns"
      ]
    },
    {
      "cell_type": "markdown",
      "metadata": {
        "id": "GlkfVbM2bgN1"
      },
      "source": [
        "### Jogando o dado e calculando as frequências do dado"
      ]
    },
    {
      "cell_type": "code",
      "execution_count": null,
      "metadata": {
        "id": "nKIm-Pl8bgN1"
      },
      "outputs": [],
      "source": [
        "roladas = [random.randrange(1, 7) for i in range(600)]"
      ]
    },
    {
      "cell_type": "code",
      "execution_count": null,
      "metadata": {
        "id": "9Oi6DUP0bgN2"
      },
      "outputs": [],
      "source": [
        "valores, frequencias = np.unique(roladas, return_counts=True)"
      ]
    },
    {
      "cell_type": "code",
      "source": [
        "valores"
      ],
      "metadata": {
        "id": "CiWeUAzBzsHG",
        "outputId": "f8c95576-1c7d-450f-a49c-e19a34337604",
        "colab": {
          "base_uri": "https://localhost:8080/"
        }
      },
      "execution_count": null,
      "outputs": [
        {
          "output_type": "execute_result",
          "data": {
            "text/plain": [
              "array([1, 2, 3, 4, 5, 6])"
            ]
          },
          "metadata": {},
          "execution_count": 300
        }
      ]
    },
    {
      "cell_type": "code",
      "source": [
        "frequencias"
      ],
      "metadata": {
        "id": "30zR0luaztVh",
        "outputId": "c18f32a1-b66d-4737-e278-266603061c36",
        "colab": {
          "base_uri": "https://localhost:8080/"
        }
      },
      "execution_count": null,
      "outputs": [
        {
          "output_type": "execute_result",
          "data": {
            "text/plain": [
              "array([ 94,  96,  87, 116, 105, 102])"
            ]
          },
          "metadata": {},
          "execution_count": 301
        }
      ]
    },
    {
      "cell_type": "markdown",
      "metadata": {
        "id": "upkvc02DbgN2"
      },
      "source": [
        "### Criando o gráfico de barras"
      ]
    },
    {
      "cell_type": "markdown",
      "source": [
        "todos os códigos do mesmo gráfico precisam ficar na mesma célula"
      ],
      "metadata": {
        "id": "bN6af237tJlZ"
      }
    },
    {
      "cell_type": "code",
      "source": [
        "sns.barplot(x=valores, y=frequencias)\n",
        "plt.show()\n",
        "\n"
      ],
      "metadata": {
        "colab": {
          "base_uri": "https://localhost:8080/",
          "height": 266
        },
        "id": "I1oQ7tg6ttHD",
        "outputId": "a65cbe4a-3e79-411a-fff3-be5ffd177aca"
      },
      "execution_count": null,
      "outputs": [
        {
          "output_type": "display_data",
          "data": {
            "text/plain": [
              "<Figure size 432x288 with 1 Axes>"
            ],
            "image/png": "[encoded data removed]"
          },
          "metadata": {
            "needs_background": "light"
          }
        }
      ]
    }
  ]
}