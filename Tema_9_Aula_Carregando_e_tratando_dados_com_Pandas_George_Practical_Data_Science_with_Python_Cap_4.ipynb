{
  "nbformat": 4,
  "nbformat_minor": 0,
  "metadata": {
    "colab": {
      "provenance": [],
      "authorship_tag": "ABX9TyOoIZmJrZQYdQEWqZ1pVBou",
      "include_colab_link": true
    },
    "kernelspec": {
      "name": "python3",
      "display_name": "Python 3"
    },
    "language_info": {
      "name": "python"
    }
  },
  "cells": [
    {
      "cell_type": "markdown",
      "metadata": {
        "id": "view-in-github",
        "colab_type": "text"
      },
      "source": [
        "<a href=\"https://colab.research.google.com/github/galdir/Data-Analysis-with-Python/blob/main/Tema_9_Aula_Carregando_e_tratando_dados_com_Pandas_George_Practical_Data_Science_with_Python_Cap_4.ipynb\" target=\"_parent\"><img src=\"https://colab.research.google.com/assets/colab-badge.svg\" alt=\"Open In Colab\"/></a>"
      ]
    },
    {
      "cell_type": "markdown",
      "source": [
        "Dados em\n",
        "https://github.com/PacktPublishing/Practical-Data-Science-with-Python/tree/main/4-Chapter-4/data"
      ],
      "metadata": {
        "id": "XlGLvkrcGldx"
      }
    },
    {
      "cell_type": "markdown",
      "metadata": {
        "id": "vOr0TkLjMn_Z"
      },
      "source": [
        "## Carregando e salvando dados com Pandas"
      ]
    },
    {
      "cell_type": "code",
      "execution_count": null,
      "metadata": {
        "id": "dLZAYGXpMn_e"
      },
      "outputs": [],
      "source": [
        "import pandas as pd"
      ]
    },
    {
      "cell_type": "code",
      "execution_count": null,
      "metadata": {
        "colab": {
          "base_uri": "https://localhost:8080/",
          "height": 354
        },
        "id": "TW2thELdMn_e",
        "outputId": "30065114-01bb-4aa7-9226-5270cc48effc"
      },
      "outputs": [
        {
          "output_type": "execute_result",
          "data": {
            "text/plain": [
              "                                    Track                           Composer  \\\n",
              "0  All the Best Cowboys Have Daddy Issues                                NaN   \n",
              "1                               Beira Mar                       Gilberto Gil   \n",
              "2                                  Brasil  Milton Nascimento, Fernando Brant   \n",
              "3                            Ben Franklin                                NaN   \n",
              "4            O Último Romântico (Ao Vivo)                                NaN   \n",
              "\n",
              "   Milliseconds      Bytes  UnitPrice     Genre  \\\n",
              "0       2555492  211743651       1.99  TV Shows   \n",
              "1        295444    9597994       0.99     Latin   \n",
              "2        155428    5252560       0.99     Latin   \n",
              "3       1271938  264168080       1.99    Comedy   \n",
              "4        231993    7692697       0.99     Latin   \n",
              "\n",
              "                                             Album             Artist  \n",
              "0                                   Lost, Season 1               Lost  \n",
              "1                                        Unplugged       Eric Clapton  \n",
              "2                        Milton Nascimento Ao Vivo  Milton Nascimento  \n",
              "3                             The Office, Season 3         The Office  \n",
              "4  Lulu Santos - RCA 100 Anos De Música - Álbum 02        Lulu Santos  "
            ],
            "text/html": [
              "\n",
              "  <div id=\"df-f982dc2d-6428-4486-a9c8-fdc961975b3d\">\n",
              "    <div class=\"colab-df-container\">\n",
              "      <div>\n",
              "<style scoped>\n",
              "    .dataframe tbody tr th:only-of-type {\n",
              "        vertical-align: middle;\n",
              "    }\n",
              "\n",
              "    .dataframe tbody tr th {\n",
              "        vertical-align: top;\n",
              "    }\n",
              "\n",
              "    .dataframe thead th {\n",
              "        text-align: right;\n",
              "    }\n",
              "</style>\n",
              "<table border=\"1\" class=\"dataframe\">\n",
              "  <thead>\n",
              "    <tr style=\"text-align: right;\">\n",
              "      <th></th>\n",
              "      <th>Track</th>\n",
              "      <th>Composer</th>\n",
              "      <th>Milliseconds</th>\n",
              "      <th>Bytes</th>\n",
              "      <th>UnitPrice</th>\n",
              "      <th>Genre</th>\n",
              "      <th>Album</th>\n",
              "      <th>Artist</th>\n",
              "    </tr>\n",
              "  </thead>\n",
              "  <tbody>\n",
              "    <tr>\n",
              "      <th>0</th>\n",
              "      <td>All the Best Cowboys Have Daddy Issues</td>\n",
              "      <td>NaN</td>\n",
              "      <td>2555492</td>\n",
              "      <td>211743651</td>\n",
              "      <td>1.99</td>\n",
              "      <td>TV Shows</td>\n",
              "      <td>Lost, Season 1</td>\n",
              "      <td>Lost</td>\n",
              "    </tr>\n",
              "    <tr>\n",
              "      <th>1</th>\n",
              "      <td>Beira Mar</td>\n",
              "      <td>Gilberto Gil</td>\n",
              "      <td>295444</td>\n",
              "      <td>9597994</td>\n",
              "      <td>0.99</td>\n",
              "      <td>Latin</td>\n",
              "      <td>Unplugged</td>\n",
              "      <td>Eric Clapton</td>\n",
              "    </tr>\n",
              "    <tr>\n",
              "      <th>2</th>\n",
              "      <td>Brasil</td>\n",
              "      <td>Milton Nascimento, Fernando Brant</td>\n",
              "      <td>155428</td>\n",
              "      <td>5252560</td>\n",
              "      <td>0.99</td>\n",
              "      <td>Latin</td>\n",
              "      <td>Milton Nascimento Ao Vivo</td>\n",
              "      <td>Milton Nascimento</td>\n",
              "    </tr>\n",
              "    <tr>\n",
              "      <th>3</th>\n",
              "      <td>Ben Franklin</td>\n",
              "      <td>NaN</td>\n",
              "      <td>1271938</td>\n",
              "      <td>264168080</td>\n",
              "      <td>1.99</td>\n",
              "      <td>Comedy</td>\n",
              "      <td>The Office, Season 3</td>\n",
              "      <td>The Office</td>\n",
              "    </tr>\n",
              "    <tr>\n",
              "      <th>4</th>\n",
              "      <td>O Último Romântico (Ao Vivo)</td>\n",
              "      <td>NaN</td>\n",
              "      <td>231993</td>\n",
              "      <td>7692697</td>\n",
              "      <td>0.99</td>\n",
              "      <td>Latin</td>\n",
              "      <td>Lulu Santos - RCA 100 Anos De Música - Álbum 02</td>\n",
              "      <td>Lulu Santos</td>\n",
              "    </tr>\n",
              "  </tbody>\n",
              "</table>\n",
              "</div>\n",
              "      <button class=\"colab-df-convert\" onclick=\"convertToInteractive('df-f982dc2d-6428-4486-a9c8-fdc961975b3d')\"\n",
              "              title=\"Convert this dataframe to an interactive table.\"\n",
              "              style=\"display:none;\">\n",
              "        \n",
              "  <svg xmlns=\"http://www.w3.org/2000/svg\" height=\"24px\"viewBox=\"0 0 24 24\"\n",
              "       width=\"24px\">\n",
              "    <path d=\"M0 0h24v24H0V0z\" fill=\"none\"/>\n",
              "    <path d=\"M18.56 5.44l.94 2.06.94-2.06 2.06-.94-2.06-.94-.94-2.06-.94 2.06-2.06.94zm-11 1L8.5 8.5l.94-2.06 2.06-.94-2.06-.94L8.5 2.5l-.94 2.06-2.06.94zm10 10l.94 2.06.94-2.06 2.06-.94-2.06-.94-.94-2.06-.94 2.06-2.06.94z\"/><path d=\"M17.41 7.96l-1.37-1.37c-.4-.4-.92-.59-1.43-.59-.52 0-1.04.2-1.43.59L10.3 9.45l-7.72 7.72c-.78.78-.78 2.05 0 2.83L4 21.41c.39.39.9.59 1.41.59.51 0 1.02-.2 1.41-.59l7.78-7.78 2.81-2.81c.8-.78.8-2.07 0-2.86zM5.41 20L4 18.59l7.72-7.72 1.47 1.35L5.41 20z\"/>\n",
              "  </svg>\n",
              "      </button>\n",
              "      \n",
              "  <style>\n",
              "    .colab-df-container {\n",
              "      display:flex;\n",
              "      flex-wrap:wrap;\n",
              "      gap: 12px;\n",
              "    }\n",
              "\n",
              "    .colab-df-convert {\n",
              "      background-color: #E8F0FE;\n",
              "      border: none;\n",
              "      border-radius: 50%;\n",
              "      cursor: pointer;\n",
              "      display: none;\n",
              "      fill: #1967D2;\n",
              "      height: 32px;\n",
              "      padding: 0 0 0 0;\n",
              "      width: 32px;\n",
              "    }\n",
              "\n",
              "    .colab-df-convert:hover {\n",
              "      background-color: #E2EBFA;\n",
              "      box-shadow: 0px 1px 2px rgba(60, 64, 67, 0.3), 0px 1px 3px 1px rgba(60, 64, 67, 0.15);\n",
              "      fill: #174EA6;\n",
              "    }\n",
              "\n",
              "    [theme=dark] .colab-df-convert {\n",
              "      background-color: #3B4455;\n",
              "      fill: #D2E3FC;\n",
              "    }\n",
              "\n",
              "    [theme=dark] .colab-df-convert:hover {\n",
              "      background-color: #434B5C;\n",
              "      box-shadow: 0px 1px 3px 1px rgba(0, 0, 0, 0.15);\n",
              "      filter: drop-shadow(0px 1px 2px rgba(0, 0, 0, 0.3));\n",
              "      fill: #FFFFFF;\n",
              "    }\n",
              "  </style>\n",
              "\n",
              "      <script>\n",
              "        const buttonEl =\n",
              "          document.querySelector('#df-f982dc2d-6428-4486-a9c8-fdc961975b3d button.colab-df-convert');\n",
              "        buttonEl.style.display =\n",
              "          google.colab.kernel.accessAllowed ? 'block' : 'none';\n",
              "\n",
              "        async function convertToInteractive(key) {\n",
              "          const element = document.querySelector('#df-f982dc2d-6428-4486-a9c8-fdc961975b3d');\n",
              "          const dataTable =\n",
              "            await google.colab.kernel.invokeFunction('convertToInteractive',\n",
              "                                                     [key], {});\n",
              "          if (!dataTable) return;\n",
              "\n",
              "          const docLinkHtml = 'Like what you see? Visit the ' +\n",
              "            '<a target=\"_blank\" href=https://colab.research.google.com/notebooks/data_table.ipynb>data table notebook</a>'\n",
              "            + ' to learn more about interactive tables.';\n",
              "          element.innerHTML = '';\n",
              "          dataTable['output_type'] = 'display_data';\n",
              "          await google.colab.output.renderOutput(dataTable, element);\n",
              "          const docLink = document.createElement('div');\n",
              "          docLink.innerHTML = docLinkHtml;\n",
              "          element.appendChild(docLink);\n",
              "        }\n",
              "      </script>\n",
              "    </div>\n",
              "  </div>\n",
              "  "
            ]
          },
          "metadata": {},
          "execution_count": 2
        }
      ],
      "source": [
        "csv_df = pd.read_csv('itunes_data.csv')\n",
        "csv_df.head()"
      ]
    },
    {
      "cell_type": "code",
      "source": [
        "excel_df = pd.read_excel('itunes_data.xlsx')"
      ],
      "metadata": {
        "id": "w2SqqCmKhhtA"
      },
      "execution_count": null,
      "outputs": []
    },
    {
      "cell_type": "code",
      "source": [
        "excel_df.head()"
      ],
      "metadata": {
        "colab": {
          "base_uri": "https://localhost:8080/",
          "height": 337
        },
        "id": "pJ0rXUiJijDL",
        "outputId": "badccd44-ff75-4815-bb4b-f16793dd34e9"
      },
      "execution_count": null,
      "outputs": [
        {
          "output_type": "execute_result",
          "data": {
            "text/plain": [
              "                  Track                                    Composer  \\\n",
              "0  My Time After Awhile  Robert Geddins/Ron Badger/Sheldon Feinberg   \n",
              "1   Be Quick Or Be Dead                 Bruce Dickinson/Janick Gers   \n",
              "2           Água E Fogo   Chico Amaral/Edgard Scandurra/Samuel Rosa   \n",
              "3            Ozone Baby                    Jimmy Page, Robert Plant   \n",
              "4            Bop Boogie                                         NaN   \n",
              "\n",
              "   Milliseconds    Bytes  UnitPrice  Genre  \\\n",
              "0        182491  6022698       0.99  Blues   \n",
              "1        204512  8181888       0.99   Rock   \n",
              "2        278987  9272272       0.99   Rock   \n",
              "3        215954  7079588       0.99   Rock   \n",
              "4        189596  6093124       0.99   Jazz   \n",
              "\n",
              "                                              Album        Artist  \n",
              "0  The Best Of Buddy Guy - The Millenium Collection     Buddy Guy  \n",
              "1                                  Fear Of The Dark   Iron Maiden  \n",
              "2                                       Maquinarama         Skank  \n",
              "3                                              Coda  Led Zeppelin  \n",
              "4                                       Up An' Atom    Gene Krupa  "
            ],
            "text/html": [
              "\n",
              "  <div id=\"df-22ae2858-685f-421a-8fda-8e78e7dea712\">\n",
              "    <div class=\"colab-df-container\">\n",
              "      <div>\n",
              "<style scoped>\n",
              "    .dataframe tbody tr th:only-of-type {\n",
              "        vertical-align: middle;\n",
              "    }\n",
              "\n",
              "    .dataframe tbody tr th {\n",
              "        vertical-align: top;\n",
              "    }\n",
              "\n",
              "    .dataframe thead th {\n",
              "        text-align: right;\n",
              "    }\n",
              "</style>\n",
              "<table border=\"1\" class=\"dataframe\">\n",
              "  <thead>\n",
              "    <tr style=\"text-align: right;\">\n",
              "      <th></th>\n",
              "      <th>Track</th>\n",
              "      <th>Composer</th>\n",
              "      <th>Milliseconds</th>\n",
              "      <th>Bytes</th>\n",
              "      <th>UnitPrice</th>\n",
              "      <th>Genre</th>\n",
              "      <th>Album</th>\n",
              "      <th>Artist</th>\n",
              "    </tr>\n",
              "  </thead>\n",
              "  <tbody>\n",
              "    <tr>\n",
              "      <th>0</th>\n",
              "      <td>My Time After Awhile</td>\n",
              "      <td>Robert Geddins/Ron Badger/Sheldon Feinberg</td>\n",
              "      <td>182491</td>\n",
              "      <td>6022698</td>\n",
              "      <td>0.99</td>\n",
              "      <td>Blues</td>\n",
              "      <td>The Best Of Buddy Guy - The Millenium Collection</td>\n",
              "      <td>Buddy Guy</td>\n",
              "    </tr>\n",
              "    <tr>\n",
              "      <th>1</th>\n",
              "      <td>Be Quick Or Be Dead</td>\n",
              "      <td>Bruce Dickinson/Janick Gers</td>\n",
              "      <td>204512</td>\n",
              "      <td>8181888</td>\n",
              "      <td>0.99</td>\n",
              "      <td>Rock</td>\n",
              "      <td>Fear Of The Dark</td>\n",
              "      <td>Iron Maiden</td>\n",
              "    </tr>\n",
              "    <tr>\n",
              "      <th>2</th>\n",
              "      <td>Água E Fogo</td>\n",
              "      <td>Chico Amaral/Edgard Scandurra/Samuel Rosa</td>\n",
              "      <td>278987</td>\n",
              "      <td>9272272</td>\n",
              "      <td>0.99</td>\n",
              "      <td>Rock</td>\n",
              "      <td>Maquinarama</td>\n",
              "      <td>Skank</td>\n",
              "    </tr>\n",
              "    <tr>\n",
              "      <th>3</th>\n",
              "      <td>Ozone Baby</td>\n",
              "      <td>Jimmy Page, Robert Plant</td>\n",
              "      <td>215954</td>\n",
              "      <td>7079588</td>\n",
              "      <td>0.99</td>\n",
              "      <td>Rock</td>\n",
              "      <td>Coda</td>\n",
              "      <td>Led Zeppelin</td>\n",
              "    </tr>\n",
              "    <tr>\n",
              "      <th>4</th>\n",
              "      <td>Bop Boogie</td>\n",
              "      <td>NaN</td>\n",
              "      <td>189596</td>\n",
              "      <td>6093124</td>\n",
              "      <td>0.99</td>\n",
              "      <td>Jazz</td>\n",
              "      <td>Up An' Atom</td>\n",
              "      <td>Gene Krupa</td>\n",
              "    </tr>\n",
              "  </tbody>\n",
              "</table>\n",
              "</div>\n",
              "      <button class=\"colab-df-convert\" onclick=\"convertToInteractive('df-22ae2858-685f-421a-8fda-8e78e7dea712')\"\n",
              "              title=\"Convert this dataframe to an interactive table.\"\n",
              "              style=\"display:none;\">\n",
              "        \n",
              "  <svg xmlns=\"http://www.w3.org/2000/svg\" height=\"24px\"viewBox=\"0 0 24 24\"\n",
              "       width=\"24px\">\n",
              "    <path d=\"M0 0h24v24H0V0z\" fill=\"none\"/>\n",
              "    <path d=\"M18.56 5.44l.94 2.06.94-2.06 2.06-.94-2.06-.94-.94-2.06-.94 2.06-2.06.94zm-11 1L8.5 8.5l.94-2.06 2.06-.94-2.06-.94L8.5 2.5l-.94 2.06-2.06.94zm10 10l.94 2.06.94-2.06 2.06-.94-2.06-.94-.94-2.06-.94 2.06-2.06.94z\"/><path d=\"M17.41 7.96l-1.37-1.37c-.4-.4-.92-.59-1.43-.59-.52 0-1.04.2-1.43.59L10.3 9.45l-7.72 7.72c-.78.78-.78 2.05 0 2.83L4 21.41c.39.39.9.59 1.41.59.51 0 1.02-.2 1.41-.59l7.78-7.78 2.81-2.81c.8-.78.8-2.07 0-2.86zM5.41 20L4 18.59l7.72-7.72 1.47 1.35L5.41 20z\"/>\n",
              "  </svg>\n",
              "      </button>\n",
              "      \n",
              "  <style>\n",
              "    .colab-df-container {\n",
              "      display:flex;\n",
              "      flex-wrap:wrap;\n",
              "      gap: 12px;\n",
              "    }\n",
              "\n",
              "    .colab-df-convert {\n",
              "      background-color: #E8F0FE;\n",
              "      border: none;\n",
              "      border-radius: 50%;\n",
              "      cursor: pointer;\n",
              "      display: none;\n",
              "      fill: #1967D2;\n",
              "      height: 32px;\n",
              "      padding: 0 0 0 0;\n",
              "      width: 32px;\n",
              "    }\n",
              "\n",
              "    .colab-df-convert:hover {\n",
              "      background-color: #E2EBFA;\n",
              "      box-shadow: 0px 1px 2px rgba(60, 64, 67, 0.3), 0px 1px 3px 1px rgba(60, 64, 67, 0.15);\n",
              "      fill: #174EA6;\n",
              "    }\n",
              "\n",
              "    [theme=dark] .colab-df-convert {\n",
              "      background-color: #3B4455;\n",
              "      fill: #D2E3FC;\n",
              "    }\n",
              "\n",
              "    [theme=dark] .colab-df-convert:hover {\n",
              "      background-color: #434B5C;\n",
              "      box-shadow: 0px 1px 3px 1px rgba(0, 0, 0, 0.15);\n",
              "      filter: drop-shadow(0px 1px 2px rgba(0, 0, 0, 0.3));\n",
              "      fill: #FFFFFF;\n",
              "    }\n",
              "  </style>\n",
              "\n",
              "      <script>\n",
              "        const buttonEl =\n",
              "          document.querySelector('#df-22ae2858-685f-421a-8fda-8e78e7dea712 button.colab-df-convert');\n",
              "        buttonEl.style.display =\n",
              "          google.colab.kernel.accessAllowed ? 'block' : 'none';\n",
              "\n",
              "        async function convertToInteractive(key) {\n",
              "          const element = document.querySelector('#df-22ae2858-685f-421a-8fda-8e78e7dea712');\n",
              "          const dataTable =\n",
              "            await google.colab.kernel.invokeFunction('convertToInteractive',\n",
              "                                                     [key], {});\n",
              "          if (!dataTable) return;\n",
              "\n",
              "          const docLinkHtml = 'Like what you see? Visit the ' +\n",
              "            '<a target=\"_blank\" href=https://colab.research.google.com/notebooks/data_table.ipynb>data table notebook</a>'\n",
              "            + ' to learn more about interactive tables.';\n",
              "          element.innerHTML = '';\n",
              "          dataTable['output_type'] = 'display_data';\n",
              "          await google.colab.output.renderOutput(dataTable, element);\n",
              "          const docLink = document.createElement('div');\n",
              "          docLink.innerHTML = docLinkHtml;\n",
              "          element.appendChild(docLink);\n",
              "        }\n",
              "      </script>\n",
              "    </div>\n",
              "  </div>\n",
              "  "
            ]
          },
          "metadata": {},
          "execution_count": 6
        }
      ]
    },
    {
      "cell_type": "code",
      "source": [
        "from sqlalchemy import create_engine\n",
        "engine = create_engine('sqlite:///chinook.db')"
      ],
      "metadata": {
        "id": "3JpeL47PilTM"
      },
      "execution_count": null,
      "outputs": []
    },
    {
      "cell_type": "code",
      "source": [
        "query = \"\"\"SELECT tracks.name as Track, tracks.composer, tracks.milliseconds,\n",
        "tracks.bytes, tracks.unitprice,\n",
        "genres.name as Genre,\n",
        "albums.title as Album,\n",
        "artists.name as Artist\n",
        "FROM tracks\n",
        "JOIN genres ON tracks.genreid = genres.genreid\n",
        "JOIN albums ON tracks.albumid = albums.albumid\n",
        "JOIN artists ON albums.artistid = artists.artistid;\n",
        "\"\"\""
      ],
      "metadata": {
        "id": "9zkpUnI6jCfN"
      },
      "execution_count": null,
      "outputs": []
    },
    {
      "cell_type": "code",
      "source": [
        "with engine.connect() as connection:\n",
        "  sql_df = pd.read_sql_query(query, connection)"
      ],
      "metadata": {
        "id": "ROWts85BjdHe"
      },
      "execution_count": null,
      "outputs": []
    },
    {
      "cell_type": "code",
      "source": [
        "sql_df.head()"
      ],
      "metadata": {
        "colab": {
          "base_uri": "https://localhost:8080/",
          "height": 337
        },
        "id": "GRcXGz73j2A9",
        "outputId": "6f0630e6-649f-49c9-f848-3e47d04e675c"
      },
      "execution_count": null,
      "outputs": [
        {
          "output_type": "execute_result",
          "data": {
            "text/plain": [
              "                                     Track  \\\n",
              "0  For Those About To Rock (We Salute You)   \n",
              "1                    Put The Finger On You   \n",
              "2                          Let's Get It Up   \n",
              "3                         Inject The Venom   \n",
              "4                               Snowballed   \n",
              "\n",
              "                                    Composer  Milliseconds     Bytes  \\\n",
              "0  Angus Young, Malcolm Young, Brian Johnson        343719  11170334   \n",
              "1  Angus Young, Malcolm Young, Brian Johnson        205662   6713451   \n",
              "2  Angus Young, Malcolm Young, Brian Johnson        233926   7636561   \n",
              "3  Angus Young, Malcolm Young, Brian Johnson        210834   6852860   \n",
              "4  Angus Young, Malcolm Young, Brian Johnson        203102   6599424   \n",
              "\n",
              "   UnitPrice Genre                                  Album Artist  \n",
              "0       0.99  Rock  For Those About To Rock We Salute You  AC/DC  \n",
              "1       0.99  Rock  For Those About To Rock We Salute You  AC/DC  \n",
              "2       0.99  Rock  For Those About To Rock We Salute You  AC/DC  \n",
              "3       0.99  Rock  For Those About To Rock We Salute You  AC/DC  \n",
              "4       0.99  Rock  For Those About To Rock We Salute You  AC/DC  "
            ],
            "text/html": [
              "\n",
              "  <div id=\"df-1ac0cf41-f399-4a27-92c8-80ab51f20234\">\n",
              "    <div class=\"colab-df-container\">\n",
              "      <div>\n",
              "<style scoped>\n",
              "    .dataframe tbody tr th:only-of-type {\n",
              "        vertical-align: middle;\n",
              "    }\n",
              "\n",
              "    .dataframe tbody tr th {\n",
              "        vertical-align: top;\n",
              "    }\n",
              "\n",
              "    .dataframe thead th {\n",
              "        text-align: right;\n",
              "    }\n",
              "</style>\n",
              "<table border=\"1\" class=\"dataframe\">\n",
              "  <thead>\n",
              "    <tr style=\"text-align: right;\">\n",
              "      <th></th>\n",
              "      <th>Track</th>\n",
              "      <th>Composer</th>\n",
              "      <th>Milliseconds</th>\n",
              "      <th>Bytes</th>\n",
              "      <th>UnitPrice</th>\n",
              "      <th>Genre</th>\n",
              "      <th>Album</th>\n",
              "      <th>Artist</th>\n",
              "    </tr>\n",
              "  </thead>\n",
              "  <tbody>\n",
              "    <tr>\n",
              "      <th>0</th>\n",
              "      <td>For Those About To Rock (We Salute You)</td>\n",
              "      <td>Angus Young, Malcolm Young, Brian Johnson</td>\n",
              "      <td>343719</td>\n",
              "      <td>11170334</td>\n",
              "      <td>0.99</td>\n",
              "      <td>Rock</td>\n",
              "      <td>For Those About To Rock We Salute You</td>\n",
              "      <td>AC/DC</td>\n",
              "    </tr>\n",
              "    <tr>\n",
              "      <th>1</th>\n",
              "      <td>Put The Finger On You</td>\n",
              "      <td>Angus Young, Malcolm Young, Brian Johnson</td>\n",
              "      <td>205662</td>\n",
              "      <td>6713451</td>\n",
              "      <td>0.99</td>\n",
              "      <td>Rock</td>\n",
              "      <td>For Those About To Rock We Salute You</td>\n",
              "      <td>AC/DC</td>\n",
              "    </tr>\n",
              "    <tr>\n",
              "      <th>2</th>\n",
              "      <td>Let's Get It Up</td>\n",
              "      <td>Angus Young, Malcolm Young, Brian Johnson</td>\n",
              "      <td>233926</td>\n",
              "      <td>7636561</td>\n",
              "      <td>0.99</td>\n",
              "      <td>Rock</td>\n",
              "      <td>For Those About To Rock We Salute You</td>\n",
              "      <td>AC/DC</td>\n",
              "    </tr>\n",
              "    <tr>\n",
              "      <th>3</th>\n",
              "      <td>Inject The Venom</td>\n",
              "      <td>Angus Young, Malcolm Young, Brian Johnson</td>\n",
              "      <td>210834</td>\n",
              "      <td>6852860</td>\n",
              "      <td>0.99</td>\n",
              "      <td>Rock</td>\n",
              "      <td>For Those About To Rock We Salute You</td>\n",
              "      <td>AC/DC</td>\n",
              "    </tr>\n",
              "    <tr>\n",
              "      <th>4</th>\n",
              "      <td>Snowballed</td>\n",
              "      <td>Angus Young, Malcolm Young, Brian Johnson</td>\n",
              "      <td>203102</td>\n",
              "      <td>6599424</td>\n",
              "      <td>0.99</td>\n",
              "      <td>Rock</td>\n",
              "      <td>For Those About To Rock We Salute You</td>\n",
              "      <td>AC/DC</td>\n",
              "    </tr>\n",
              "  </tbody>\n",
              "</table>\n",
              "</div>\n",
              "      <button class=\"colab-df-convert\" onclick=\"convertToInteractive('df-1ac0cf41-f399-4a27-92c8-80ab51f20234')\"\n",
              "              title=\"Convert this dataframe to an interactive table.\"\n",
              "              style=\"display:none;\">\n",
              "        \n",
              "  <svg xmlns=\"http://www.w3.org/2000/svg\" height=\"24px\"viewBox=\"0 0 24 24\"\n",
              "       width=\"24px\">\n",
              "    <path d=\"M0 0h24v24H0V0z\" fill=\"none\"/>\n",
              "    <path d=\"M18.56 5.44l.94 2.06.94-2.06 2.06-.94-2.06-.94-.94-2.06-.94 2.06-2.06.94zm-11 1L8.5 8.5l.94-2.06 2.06-.94-2.06-.94L8.5 2.5l-.94 2.06-2.06.94zm10 10l.94 2.06.94-2.06 2.06-.94-2.06-.94-.94-2.06-.94 2.06-2.06.94z\"/><path d=\"M17.41 7.96l-1.37-1.37c-.4-.4-.92-.59-1.43-.59-.52 0-1.04.2-1.43.59L10.3 9.45l-7.72 7.72c-.78.78-.78 2.05 0 2.83L4 21.41c.39.39.9.59 1.41.59.51 0 1.02-.2 1.41-.59l7.78-7.78 2.81-2.81c.8-.78.8-2.07 0-2.86zM5.41 20L4 18.59l7.72-7.72 1.47 1.35L5.41 20z\"/>\n",
              "  </svg>\n",
              "      </button>\n",
              "      \n",
              "  <style>\n",
              "    .colab-df-container {\n",
              "      display:flex;\n",
              "      flex-wrap:wrap;\n",
              "      gap: 12px;\n",
              "    }\n",
              "\n",
              "    .colab-df-convert {\n",
              "      background-color: #E8F0FE;\n",
              "      border: none;\n",
              "      border-radius: 50%;\n",
              "      cursor: pointer;\n",
              "      display: none;\n",
              "      fill: #1967D2;\n",
              "      height: 32px;\n",
              "      padding: 0 0 0 0;\n",
              "      width: 32px;\n",
              "    }\n",
              "\n",
              "    .colab-df-convert:hover {\n",
              "      background-color: #E2EBFA;\n",
              "      box-shadow: 0px 1px 2px rgba(60, 64, 67, 0.3), 0px 1px 3px 1px rgba(60, 64, 67, 0.15);\n",
              "      fill: #174EA6;\n",
              "    }\n",
              "\n",
              "    [theme=dark] .colab-df-convert {\n",
              "      background-color: #3B4455;\n",
              "      fill: #D2E3FC;\n",
              "    }\n",
              "\n",
              "    [theme=dark] .colab-df-convert:hover {\n",
              "      background-color: #434B5C;\n",
              "      box-shadow: 0px 1px 3px 1px rgba(0, 0, 0, 0.15);\n",
              "      filter: drop-shadow(0px 1px 2px rgba(0, 0, 0, 0.3));\n",
              "      fill: #FFFFFF;\n",
              "    }\n",
              "  </style>\n",
              "\n",
              "      <script>\n",
              "        const buttonEl =\n",
              "          document.querySelector('#df-1ac0cf41-f399-4a27-92c8-80ab51f20234 button.colab-df-convert');\n",
              "        buttonEl.style.display =\n",
              "          google.colab.kernel.accessAllowed ? 'block' : 'none';\n",
              "\n",
              "        async function convertToInteractive(key) {\n",
              "          const element = document.querySelector('#df-1ac0cf41-f399-4a27-92c8-80ab51f20234');\n",
              "          const dataTable =\n",
              "            await google.colab.kernel.invokeFunction('convertToInteractive',\n",
              "                                                     [key], {});\n",
              "          if (!dataTable) return;\n",
              "\n",
              "          const docLinkHtml = 'Like what you see? Visit the ' +\n",
              "            '<a target=\"_blank\" href=https://colab.research.google.com/notebooks/data_table.ipynb>data table notebook</a>'\n",
              "            + ' to learn more about interactive tables.';\n",
              "          element.innerHTML = '';\n",
              "          dataTable['output_type'] = 'display_data';\n",
              "          await google.colab.output.renderOutput(dataTable, element);\n",
              "          const docLink = document.createElement('div');\n",
              "          docLink.innerHTML = docLinkHtml;\n",
              "          element.appendChild(docLink);\n",
              "        }\n",
              "      </script>\n",
              "    </div>\n",
              "  </div>\n",
              "  "
            ]
          },
          "metadata": {},
          "execution_count": 11
        }
      ]
    },
    {
      "cell_type": "code",
      "source": [
        "sql_df.head().T"
      ],
      "metadata": {
        "colab": {
          "base_uri": "https://localhost:8080/",
          "height": 414
        },
        "id": "HMeRWzb0j3Ld",
        "outputId": "5ef9c1ca-93a3-4943-e141-dcff3cddd97a"
      },
      "execution_count": null,
      "outputs": [
        {
          "output_type": "execute_result",
          "data": {
            "text/plain": [
              "                                                      0  \\\n",
              "Track           For Those About To Rock (We Salute You)   \n",
              "Composer      Angus Young, Malcolm Young, Brian Johnson   \n",
              "Milliseconds                                     343719   \n",
              "Bytes                                          11170334   \n",
              "UnitPrice                                          0.99   \n",
              "Genre                                              Rock   \n",
              "Album             For Those About To Rock We Salute You   \n",
              "Artist                                            AC/DC   \n",
              "\n",
              "                                                      1  \\\n",
              "Track                             Put The Finger On You   \n",
              "Composer      Angus Young, Malcolm Young, Brian Johnson   \n",
              "Milliseconds                                     205662   \n",
              "Bytes                                           6713451   \n",
              "UnitPrice                                          0.99   \n",
              "Genre                                              Rock   \n",
              "Album             For Those About To Rock We Salute You   \n",
              "Artist                                            AC/DC   \n",
              "\n",
              "                                                      2  \\\n",
              "Track                                   Let's Get It Up   \n",
              "Composer      Angus Young, Malcolm Young, Brian Johnson   \n",
              "Milliseconds                                     233926   \n",
              "Bytes                                           7636561   \n",
              "UnitPrice                                          0.99   \n",
              "Genre                                              Rock   \n",
              "Album             For Those About To Rock We Salute You   \n",
              "Artist                                            AC/DC   \n",
              "\n",
              "                                                      3  \\\n",
              "Track                                  Inject The Venom   \n",
              "Composer      Angus Young, Malcolm Young, Brian Johnson   \n",
              "Milliseconds                                     210834   \n",
              "Bytes                                           6852860   \n",
              "UnitPrice                                          0.99   \n",
              "Genre                                              Rock   \n",
              "Album             For Those About To Rock We Salute You   \n",
              "Artist                                            AC/DC   \n",
              "\n",
              "                                                      4  \n",
              "Track                                        Snowballed  \n",
              "Composer      Angus Young, Malcolm Young, Brian Johnson  \n",
              "Milliseconds                                     203102  \n",
              "Bytes                                           6599424  \n",
              "UnitPrice                                          0.99  \n",
              "Genre                                              Rock  \n",
              "Album             For Those About To Rock We Salute You  \n",
              "Artist                                            AC/DC  "
            ],
            "text/html": [
              "\n",
              "  <div id=\"df-1cb2b2dd-1cdc-4736-928d-8414e773759d\">\n",
              "    <div class=\"colab-df-container\">\n",
              "      <div>\n",
              "<style scoped>\n",
              "    .dataframe tbody tr th:only-of-type {\n",
              "        vertical-align: middle;\n",
              "    }\n",
              "\n",
              "    .dataframe tbody tr th {\n",
              "        vertical-align: top;\n",
              "    }\n",
              "\n",
              "    .dataframe thead th {\n",
              "        text-align: right;\n",
              "    }\n",
              "</style>\n",
              "<table border=\"1\" class=\"dataframe\">\n",
              "  <thead>\n",
              "    <tr style=\"text-align: right;\">\n",
              "      <th></th>\n",
              "      <th>0</th>\n",
              "      <th>1</th>\n",
              "      <th>2</th>\n",
              "      <th>3</th>\n",
              "      <th>4</th>\n",
              "    </tr>\n",
              "  </thead>\n",
              "  <tbody>\n",
              "    <tr>\n",
              "      <th>Track</th>\n",
              "      <td>For Those About To Rock (We Salute You)</td>\n",
              "      <td>Put The Finger On You</td>\n",
              "      <td>Let's Get It Up</td>\n",
              "      <td>Inject The Venom</td>\n",
              "      <td>Snowballed</td>\n",
              "    </tr>\n",
              "    <tr>\n",
              "      <th>Composer</th>\n",
              "      <td>Angus Young, Malcolm Young, Brian Johnson</td>\n",
              "      <td>Angus Young, Malcolm Young, Brian Johnson</td>\n",
              "      <td>Angus Young, Malcolm Young, Brian Johnson</td>\n",
              "      <td>Angus Young, Malcolm Young, Brian Johnson</td>\n",
              "      <td>Angus Young, Malcolm Young, Brian Johnson</td>\n",
              "    </tr>\n",
              "    <tr>\n",
              "      <th>Milliseconds</th>\n",
              "      <td>343719</td>\n",
              "      <td>205662</td>\n",
              "      <td>233926</td>\n",
              "      <td>210834</td>\n",
              "      <td>203102</td>\n",
              "    </tr>\n",
              "    <tr>\n",
              "      <th>Bytes</th>\n",
              "      <td>11170334</td>\n",
              "      <td>6713451</td>\n",
              "      <td>7636561</td>\n",
              "      <td>6852860</td>\n",
              "      <td>6599424</td>\n",
              "    </tr>\n",
              "    <tr>\n",
              "      <th>UnitPrice</th>\n",
              "      <td>0.99</td>\n",
              "      <td>0.99</td>\n",
              "      <td>0.99</td>\n",
              "      <td>0.99</td>\n",
              "      <td>0.99</td>\n",
              "    </tr>\n",
              "    <tr>\n",
              "      <th>Genre</th>\n",
              "      <td>Rock</td>\n",
              "      <td>Rock</td>\n",
              "      <td>Rock</td>\n",
              "      <td>Rock</td>\n",
              "      <td>Rock</td>\n",
              "    </tr>\n",
              "    <tr>\n",
              "      <th>Album</th>\n",
              "      <td>For Those About To Rock We Salute You</td>\n",
              "      <td>For Those About To Rock We Salute You</td>\n",
              "      <td>For Those About To Rock We Salute You</td>\n",
              "      <td>For Those About To Rock We Salute You</td>\n",
              "      <td>For Those About To Rock We Salute You</td>\n",
              "    </tr>\n",
              "    <tr>\n",
              "      <th>Artist</th>\n",
              "      <td>AC/DC</td>\n",
              "      <td>AC/DC</td>\n",
              "      <td>AC/DC</td>\n",
              "      <td>AC/DC</td>\n",
              "      <td>AC/DC</td>\n",
              "    </tr>\n",
              "  </tbody>\n",
              "</table>\n",
              "</div>\n",
              "      <button class=\"colab-df-convert\" onclick=\"convertToInteractive('df-1cb2b2dd-1cdc-4736-928d-8414e773759d')\"\n",
              "              title=\"Convert this dataframe to an interactive table.\"\n",
              "              style=\"display:none;\">\n",
              "        \n",
              "  <svg xmlns=\"http://www.w3.org/2000/svg\" height=\"24px\"viewBox=\"0 0 24 24\"\n",
              "       width=\"24px\">\n",
              "    <path d=\"M0 0h24v24H0V0z\" fill=\"none\"/>\n",
              "    <path d=\"M18.56 5.44l.94 2.06.94-2.06 2.06-.94-2.06-.94-.94-2.06-.94 2.06-2.06.94zm-11 1L8.5 8.5l.94-2.06 2.06-.94-2.06-.94L8.5 2.5l-.94 2.06-2.06.94zm10 10l.94 2.06.94-2.06 2.06-.94-2.06-.94-.94-2.06-.94 2.06-2.06.94z\"/><path d=\"M17.41 7.96l-1.37-1.37c-.4-.4-.92-.59-1.43-.59-.52 0-1.04.2-1.43.59L10.3 9.45l-7.72 7.72c-.78.78-.78 2.05 0 2.83L4 21.41c.39.39.9.59 1.41.59.51 0 1.02-.2 1.41-.59l7.78-7.78 2.81-2.81c.8-.78.8-2.07 0-2.86zM5.41 20L4 18.59l7.72-7.72 1.47 1.35L5.41 20z\"/>\n",
              "  </svg>\n",
              "      </button>\n",
              "      \n",
              "  <style>\n",
              "    .colab-df-container {\n",
              "      display:flex;\n",
              "      flex-wrap:wrap;\n",
              "      gap: 12px;\n",
              "    }\n",
              "\n",
              "    .colab-df-convert {\n",
              "      background-color: #E8F0FE;\n",
              "      border: none;\n",
              "      border-radius: 50%;\n",
              "      cursor: pointer;\n",
              "      display: none;\n",
              "      fill: #1967D2;\n",
              "      height: 32px;\n",
              "      padding: 0 0 0 0;\n",
              "      width: 32px;\n",
              "    }\n",
              "\n",
              "    .colab-df-convert:hover {\n",
              "      background-color: #E2EBFA;\n",
              "      box-shadow: 0px 1px 2px rgba(60, 64, 67, 0.3), 0px 1px 3px 1px rgba(60, 64, 67, 0.15);\n",
              "      fill: #174EA6;\n",
              "    }\n",
              "\n",
              "    [theme=dark] .colab-df-convert {\n",
              "      background-color: #3B4455;\n",
              "      fill: #D2E3FC;\n",
              "    }\n",
              "\n",
              "    [theme=dark] .colab-df-convert:hover {\n",
              "      background-color: #434B5C;\n",
              "      box-shadow: 0px 1px 3px 1px rgba(0, 0, 0, 0.15);\n",
              "      filter: drop-shadow(0px 1px 2px rgba(0, 0, 0, 0.3));\n",
              "      fill: #FFFFFF;\n",
              "    }\n",
              "  </style>\n",
              "\n",
              "      <script>\n",
              "        const buttonEl =\n",
              "          document.querySelector('#df-1cb2b2dd-1cdc-4736-928d-8414e773759d button.colab-df-convert');\n",
              "        buttonEl.style.display =\n",
              "          google.colab.kernel.accessAllowed ? 'block' : 'none';\n",
              "\n",
              "        async function convertToInteractive(key) {\n",
              "          const element = document.querySelector('#df-1cb2b2dd-1cdc-4736-928d-8414e773759d');\n",
              "          const dataTable =\n",
              "            await google.colab.kernel.invokeFunction('convertToInteractive',\n",
              "                                                     [key], {});\n",
              "          if (!dataTable) return;\n",
              "\n",
              "          const docLinkHtml = 'Like what you see? Visit the ' +\n",
              "            '<a target=\"_blank\" href=https://colab.research.google.com/notebooks/data_table.ipynb>data table notebook</a>'\n",
              "            + ' to learn more about interactive tables.';\n",
              "          element.innerHTML = '';\n",
              "          dataTable['output_type'] = 'display_data';\n",
              "          await google.colab.output.renderOutput(dataTable, element);\n",
              "          const docLink = document.createElement('div');\n",
              "          docLink.innerHTML = docLinkHtml;\n",
              "          element.appendChild(docLink);\n",
              "        }\n",
              "      </script>\n",
              "    </div>\n",
              "  </div>\n",
              "  "
            ]
          },
          "metadata": {},
          "execution_count": 12
        }
      ]
    },
    {
      "cell_type": "markdown",
      "metadata": {
        "id": "X9iJUGPJMn_h"
      },
      "source": [
        "## Entendendo a estrutura do DataFrame e combinando/concatenando vários DataFrames"
      ]
    },
    {
      "cell_type": "code",
      "source": [
        "sql_df.index"
      ],
      "metadata": {
        "colab": {
          "base_uri": "https://localhost:8080/"
        },
        "id": "Dpi6zpkgkMaD",
        "outputId": "bd8c60ec-3e61-4d1c-d6d0-8cb609e5b526"
      },
      "execution_count": null,
      "outputs": [
        {
          "output_type": "execute_result",
          "data": {
            "text/plain": [
              "RangeIndex(start=0, stop=3503, step=1)"
            ]
          },
          "metadata": {},
          "execution_count": 14
        }
      ]
    },
    {
      "cell_type": "code",
      "source": [
        "sql_df.columns"
      ],
      "metadata": {
        "colab": {
          "base_uri": "https://localhost:8080/"
        },
        "id": "g8zCAwgskRic",
        "outputId": "1453ebdf-1d83-40d4-f522-b34ce9d2073f"
      },
      "execution_count": null,
      "outputs": [
        {
          "output_type": "execute_result",
          "data": {
            "text/plain": [
              "Index(['Track', 'Composer', 'Milliseconds', 'Bytes', 'UnitPrice', 'Genre',\n",
              "       'Album', 'Artist'],\n",
              "      dtype='object')"
            ]
          },
          "metadata": {},
          "execution_count": 15
        }
      ]
    },
    {
      "cell_type": "code",
      "source": [
        "type(sql_df)"
      ],
      "metadata": {
        "colab": {
          "base_uri": "https://localhost:8080/"
        },
        "id": "7O92AhIwkkxp",
        "outputId": "d6f322e5-94bc-486e-a849-41f4b5f0c657"
      },
      "execution_count": null,
      "outputs": [
        {
          "output_type": "execute_result",
          "data": {
            "text/plain": [
              "pandas.core.frame.DataFrame"
            ]
          },
          "metadata": {},
          "execution_count": 16
        }
      ]
    },
    {
      "cell_type": "code",
      "source": [
        "itunes_df = pd.concat([csv_df, excel_df, sql_df], axis=0)"
      ],
      "metadata": {
        "id": "FhBnH2OmkaSc"
      },
      "execution_count": null,
      "outputs": []
    },
    {
      "cell_type": "code",
      "source": [
        "itunes_df.head()"
      ],
      "metadata": {
        "colab": {
          "base_uri": "https://localhost:8080/",
          "height": 354
        },
        "id": "KwcTj2yYk1yF",
        "outputId": "750c6792-2f3a-4c67-de28-fddddc833ce5"
      },
      "execution_count": null,
      "outputs": [
        {
          "output_type": "execute_result",
          "data": {
            "text/plain": [
              "                                    Track                           Composer  \\\n",
              "0  All the Best Cowboys Have Daddy Issues                                NaN   \n",
              "1                               Beira Mar                       Gilberto Gil   \n",
              "2                                  Brasil  Milton Nascimento, Fernando Brant   \n",
              "3                            Ben Franklin                                NaN   \n",
              "4            O Último Romântico (Ao Vivo)                                NaN   \n",
              "\n",
              "   Milliseconds      Bytes  UnitPrice     Genre  \\\n",
              "0       2555492  211743651       1.99  TV Shows   \n",
              "1        295444    9597994       0.99     Latin   \n",
              "2        155428    5252560       0.99     Latin   \n",
              "3       1271938  264168080       1.99    Comedy   \n",
              "4        231993    7692697       0.99     Latin   \n",
              "\n",
              "                                             Album             Artist  \n",
              "0                                   Lost, Season 1               Lost  \n",
              "1                                        Unplugged       Eric Clapton  \n",
              "2                        Milton Nascimento Ao Vivo  Milton Nascimento  \n",
              "3                             The Office, Season 3         The Office  \n",
              "4  Lulu Santos - RCA 100 Anos De Música - Álbum 02        Lulu Santos  "
            ],
            "text/html": [
              "\n",
              "  <div id=\"df-960a8cf6-1d76-47ec-81cd-f534bd7fb251\">\n",
              "    <div class=\"colab-df-container\">\n",
              "      <div>\n",
              "<style scoped>\n",
              "    .dataframe tbody tr th:only-of-type {\n",
              "        vertical-align: middle;\n",
              "    }\n",
              "\n",
              "    .dataframe tbody tr th {\n",
              "        vertical-align: top;\n",
              "    }\n",
              "\n",
              "    .dataframe thead th {\n",
              "        text-align: right;\n",
              "    }\n",
              "</style>\n",
              "<table border=\"1\" class=\"dataframe\">\n",
              "  <thead>\n",
              "    <tr style=\"text-align: right;\">\n",
              "      <th></th>\n",
              "      <th>Track</th>\n",
              "      <th>Composer</th>\n",
              "      <th>Milliseconds</th>\n",
              "      <th>Bytes</th>\n",
              "      <th>UnitPrice</th>\n",
              "      <th>Genre</th>\n",
              "      <th>Album</th>\n",
              "      <th>Artist</th>\n",
              "    </tr>\n",
              "  </thead>\n",
              "  <tbody>\n",
              "    <tr>\n",
              "      <th>0</th>\n",
              "      <td>All the Best Cowboys Have Daddy Issues</td>\n",
              "      <td>NaN</td>\n",
              "      <td>2555492</td>\n",
              "      <td>211743651</td>\n",
              "      <td>1.99</td>\n",
              "      <td>TV Shows</td>\n",
              "      <td>Lost, Season 1</td>\n",
              "      <td>Lost</td>\n",
              "    </tr>\n",
              "    <tr>\n",
              "      <th>1</th>\n",
              "      <td>Beira Mar</td>\n",
              "      <td>Gilberto Gil</td>\n",
              "      <td>295444</td>\n",
              "      <td>9597994</td>\n",
              "      <td>0.99</td>\n",
              "      <td>Latin</td>\n",
              "      <td>Unplugged</td>\n",
              "      <td>Eric Clapton</td>\n",
              "    </tr>\n",
              "    <tr>\n",
              "      <th>2</th>\n",
              "      <td>Brasil</td>\n",
              "      <td>Milton Nascimento, Fernando Brant</td>\n",
              "      <td>155428</td>\n",
              "      <td>5252560</td>\n",
              "      <td>0.99</td>\n",
              "      <td>Latin</td>\n",
              "      <td>Milton Nascimento Ao Vivo</td>\n",
              "      <td>Milton Nascimento</td>\n",
              "    </tr>\n",
              "    <tr>\n",
              "      <th>3</th>\n",
              "      <td>Ben Franklin</td>\n",
              "      <td>NaN</td>\n",
              "      <td>1271938</td>\n",
              "      <td>264168080</td>\n",
              "      <td>1.99</td>\n",
              "      <td>Comedy</td>\n",
              "      <td>The Office, Season 3</td>\n",
              "      <td>The Office</td>\n",
              "    </tr>\n",
              "    <tr>\n",
              "      <th>4</th>\n",
              "      <td>O Último Romântico (Ao Vivo)</td>\n",
              "      <td>NaN</td>\n",
              "      <td>231993</td>\n",
              "      <td>7692697</td>\n",
              "      <td>0.99</td>\n",
              "      <td>Latin</td>\n",
              "      <td>Lulu Santos - RCA 100 Anos De Música - Álbum 02</td>\n",
              "      <td>Lulu Santos</td>\n",
              "    </tr>\n",
              "  </tbody>\n",
              "</table>\n",
              "</div>\n",
              "      <button class=\"colab-df-convert\" onclick=\"convertToInteractive('df-960a8cf6-1d76-47ec-81cd-f534bd7fb251')\"\n",
              "              title=\"Convert this dataframe to an interactive table.\"\n",
              "              style=\"display:none;\">\n",
              "        \n",
              "  <svg xmlns=\"http://www.w3.org/2000/svg\" height=\"24px\"viewBox=\"0 0 24 24\"\n",
              "       width=\"24px\">\n",
              "    <path d=\"M0 0h24v24H0V0z\" fill=\"none\"/>\n",
              "    <path d=\"M18.56 5.44l.94 2.06.94-2.06 2.06-.94-2.06-.94-.94-2.06-.94 2.06-2.06.94zm-11 1L8.5 8.5l.94-2.06 2.06-.94-2.06-.94L8.5 2.5l-.94 2.06-2.06.94zm10 10l.94 2.06.94-2.06 2.06-.94-2.06-.94-.94-2.06-.94 2.06-2.06.94z\"/><path d=\"M17.41 7.96l-1.37-1.37c-.4-.4-.92-.59-1.43-.59-.52 0-1.04.2-1.43.59L10.3 9.45l-7.72 7.72c-.78.78-.78 2.05 0 2.83L4 21.41c.39.39.9.59 1.41.59.51 0 1.02-.2 1.41-.59l7.78-7.78 2.81-2.81c.8-.78.8-2.07 0-2.86zM5.41 20L4 18.59l7.72-7.72 1.47 1.35L5.41 20z\"/>\n",
              "  </svg>\n",
              "      </button>\n",
              "      \n",
              "  <style>\n",
              "    .colab-df-container {\n",
              "      display:flex;\n",
              "      flex-wrap:wrap;\n",
              "      gap: 12px;\n",
              "    }\n",
              "\n",
              "    .colab-df-convert {\n",
              "      background-color: #E8F0FE;\n",
              "      border: none;\n",
              "      border-radius: 50%;\n",
              "      cursor: pointer;\n",
              "      display: none;\n",
              "      fill: #1967D2;\n",
              "      height: 32px;\n",
              "      padding: 0 0 0 0;\n",
              "      width: 32px;\n",
              "    }\n",
              "\n",
              "    .colab-df-convert:hover {\n",
              "      background-color: #E2EBFA;\n",
              "      box-shadow: 0px 1px 2px rgba(60, 64, 67, 0.3), 0px 1px 3px 1px rgba(60, 64, 67, 0.15);\n",
              "      fill: #174EA6;\n",
              "    }\n",
              "\n",
              "    [theme=dark] .colab-df-convert {\n",
              "      background-color: #3B4455;\n",
              "      fill: #D2E3FC;\n",
              "    }\n",
              "\n",
              "    [theme=dark] .colab-df-convert:hover {\n",
              "      background-color: #434B5C;\n",
              "      box-shadow: 0px 1px 3px 1px rgba(0, 0, 0, 0.15);\n",
              "      filter: drop-shadow(0px 1px 2px rgba(0, 0, 0, 0.3));\n",
              "      fill: #FFFFFF;\n",
              "    }\n",
              "  </style>\n",
              "\n",
              "      <script>\n",
              "        const buttonEl =\n",
              "          document.querySelector('#df-960a8cf6-1d76-47ec-81cd-f534bd7fb251 button.colab-df-convert');\n",
              "        buttonEl.style.display =\n",
              "          google.colab.kernel.accessAllowed ? 'block' : 'none';\n",
              "\n",
              "        async function convertToInteractive(key) {\n",
              "          const element = document.querySelector('#df-960a8cf6-1d76-47ec-81cd-f534bd7fb251');\n",
              "          const dataTable =\n",
              "            await google.colab.kernel.invokeFunction('convertToInteractive',\n",
              "                                                     [key], {});\n",
              "          if (!dataTable) return;\n",
              "\n",
              "          const docLinkHtml = 'Like what you see? Visit the ' +\n",
              "            '<a target=\"_blank\" href=https://colab.research.google.com/notebooks/data_table.ipynb>data table notebook</a>'\n",
              "            + ' to learn more about interactive tables.';\n",
              "          element.innerHTML = '';\n",
              "          dataTable['output_type'] = 'display_data';\n",
              "          await google.colab.output.renderOutput(dataTable, element);\n",
              "          const docLink = document.createElement('div');\n",
              "          docLink.innerHTML = docLinkHtml;\n",
              "          element.appendChild(docLink);\n",
              "        }\n",
              "      </script>\n",
              "    </div>\n",
              "  </div>\n",
              "  "
            ]
          },
          "metadata": {},
          "execution_count": 18
        }
      ]
    },
    {
      "cell_type": "code",
      "source": [
        "csv_df.shape"
      ],
      "metadata": {
        "colab": {
          "base_uri": "https://localhost:8080/"
        },
        "id": "y6q-KopSk4MD",
        "outputId": "d30fc4e1-44d6-4f0c-ee3c-7af28669f19c"
      },
      "execution_count": null,
      "outputs": [
        {
          "output_type": "execute_result",
          "data": {
            "text/plain": [
              "(303, 8)"
            ]
          },
          "metadata": {},
          "execution_count": 19
        }
      ]
    },
    {
      "cell_type": "code",
      "source": [
        "itunes_df.shape"
      ],
      "metadata": {
        "colab": {
          "base_uri": "https://localhost:8080/"
        },
        "id": "Q1UV3B29k8o7",
        "outputId": "4a5bcfb8-8e4b-4418-960f-8f3692784bdf"
      },
      "execution_count": null,
      "outputs": [
        {
          "output_type": "execute_result",
          "data": {
            "text/plain": [
              "(4021, 8)"
            ]
          },
          "metadata": {},
          "execution_count": 20
        }
      ]
    },
    {
      "cell_type": "code",
      "source": [],
      "metadata": {
        "id": "GSd6o0kYk_BV"
      },
      "execution_count": null,
      "outputs": []
    },
    {
      "cell_type": "markdown",
      "metadata": {
        "id": "uUeFM_NdMn_j"
      },
      "source": [
        "## Análise exploratória de dados (EDA) e limpeza básica de dados com pandas"
      ]
    },
    {
      "cell_type": "code",
      "source": [
        "itunes_df.tail(10)"
      ],
      "metadata": {
        "colab": {
          "base_uri": "https://localhost:8080/",
          "height": 806
        },
        "id": "YBdLFT8BlCED",
        "outputId": "0ca4459f-4d76-4a6a-8d32-4e4bd56a8798"
      },
      "execution_count": null,
      "outputs": [
        {
          "output_type": "execute_result",
          "data": {
            "text/plain": [
              "                                                  Track  \\\n",
              "3493  Symphony No. 2, Op. 16 -  \"The Four Temperamen...   \n",
              "3494  24 Caprices, Op. 1, No. 24, for Solo Violin, i...   \n",
              "3495    Étude 1, In C Major - Preludio (Presto) - Liszt   \n",
              "3496                                    Erlkonig, D.328   \n",
              "3497  Concerto for Violin, Strings and Continuo in G...   \n",
              "3498  Pini Di Roma (Pinien Von Rom) \\ I Pini Della V...   \n",
              "3499  String Quartet No. 12 in C Minor, D. 703 \"Quar...   \n",
              "3500               L'orfeo, Act 3, Sinfonia (Orchestra)   \n",
              "3501  Quintet for Horn, Violin, 2 Violas, and Cello ...   \n",
              "3502                                      Koyaanisqatsi   \n",
              "\n",
              "                      Composer  Milliseconds     Bytes  UnitPrice       Genre  \\\n",
              "3493              Carl Nielsen        286998   4834785       0.99   Classical   \n",
              "3494          Niccolò Paganini        265541   4371533       0.99   Classical   \n",
              "3495                      None         51780   2229617       0.99   Classical   \n",
              "3496                      None        261849   4307907       0.99   Classical   \n",
              "3497  Pietro Antonio Locatelli        493573  16454937       0.99   Classical   \n",
              "3498                      None        286741   4718950       0.99   Classical   \n",
              "3499            Franz Schubert        139200   2283131       0.99   Classical   \n",
              "3500        Claudio Monteverdi         66639   1189062       0.99   Classical   \n",
              "3501   Wolfgang Amadeus Mozart        221331   3665114       0.99   Classical   \n",
              "3502              Philip Glass        206005   3305164       0.99  Soundtrack   \n",
              "\n",
              "                                                  Album  \\\n",
              "3493                        Nielsen: The Six Symphonies   \n",
              "3494  Great Recordings of the Century: Paganini's 24...   \n",
              "3495        Liszt - 12 Études D'Execution Transcendante   \n",
              "3496  Great Recordings of the Century - Shubert: Sch...   \n",
              "3497  Locatelli: Concertos for Violin, Strings and C...   \n",
              "3498                             Respighi:Pines of Rome   \n",
              "3499  Schubert: The Late String Quartets & String Qu...   \n",
              "3500                                Monteverdi: L'Orfeo   \n",
              "3501                              Mozart: Chamber Music   \n",
              "3502  Koyaanisqatsi (Soundtrack from the Motion Pict...   \n",
              "\n",
              "                                                 Artist  \n",
              "3493                 Göteborgs Symfoniker & Neeme Järvi  \n",
              "3494                                     Itzhak Perlman  \n",
              "3495                                 Michele Campanella  \n",
              "3496                                       Gerald Moore  \n",
              "3497   Mela Tenenbaum, Pro Musica Prague & Richard Kapp  \n",
              "3498                                     Eugene Ormandy  \n",
              "3499                             Emerson String Quartet  \n",
              "3500  C. Monteverdi, Nigel Rogers - Chiaroscuro; Lon...  \n",
              "3501                                      Nash Ensemble  \n",
              "3502                              Philip Glass Ensemble  "
            ],
            "text/html": [
              "\n",
              "  <div id=\"df-272a4fab-55f6-457c-a30d-71f9f39acc91\">\n",
              "    <div class=\"colab-df-container\">\n",
              "      <div>\n",
              "<style scoped>\n",
              "    .dataframe tbody tr th:only-of-type {\n",
              "        vertical-align: middle;\n",
              "    }\n",
              "\n",
              "    .dataframe tbody tr th {\n",
              "        vertical-align: top;\n",
              "    }\n",
              "\n",
              "    .dataframe thead th {\n",
              "        text-align: right;\n",
              "    }\n",
              "</style>\n",
              "<table border=\"1\" class=\"dataframe\">\n",
              "  <thead>\n",
              "    <tr style=\"text-align: right;\">\n",
              "      <th></th>\n",
              "      <th>Track</th>\n",
              "      <th>Composer</th>\n",
              "      <th>Milliseconds</th>\n",
              "      <th>Bytes</th>\n",
              "      <th>UnitPrice</th>\n",
              "      <th>Genre</th>\n",
              "      <th>Album</th>\n",
              "      <th>Artist</th>\n",
              "    </tr>\n",
              "  </thead>\n",
              "  <tbody>\n",
              "    <tr>\n",
              "      <th>3493</th>\n",
              "      <td>Symphony No. 2, Op. 16 -  \"The Four Temperamen...</td>\n",
              "      <td>Carl Nielsen</td>\n",
              "      <td>286998</td>\n",
              "      <td>4834785</td>\n",
              "      <td>0.99</td>\n",
              "      <td>Classical</td>\n",
              "      <td>Nielsen: The Six Symphonies</td>\n",
              "      <td>Göteborgs Symfoniker &amp; Neeme Järvi</td>\n",
              "    </tr>\n",
              "    <tr>\n",
              "      <th>3494</th>\n",
              "      <td>24 Caprices, Op. 1, No. 24, for Solo Violin, i...</td>\n",
              "      <td>Niccolò Paganini</td>\n",
              "      <td>265541</td>\n",
              "      <td>4371533</td>\n",
              "      <td>0.99</td>\n",
              "      <td>Classical</td>\n",
              "      <td>Great Recordings of the Century: Paganini's 24...</td>\n",
              "      <td>Itzhak Perlman</td>\n",
              "    </tr>\n",
              "    <tr>\n",
              "      <th>3495</th>\n",
              "      <td>Étude 1, In C Major - Preludio (Presto) - Liszt</td>\n",
              "      <td>None</td>\n",
              "      <td>51780</td>\n",
              "      <td>2229617</td>\n",
              "      <td>0.99</td>\n",
              "      <td>Classical</td>\n",
              "      <td>Liszt - 12 Études D'Execution Transcendante</td>\n",
              "      <td>Michele Campanella</td>\n",
              "    </tr>\n",
              "    <tr>\n",
              "      <th>3496</th>\n",
              "      <td>Erlkonig, D.328</td>\n",
              "      <td>None</td>\n",
              "      <td>261849</td>\n",
              "      <td>4307907</td>\n",
              "      <td>0.99</td>\n",
              "      <td>Classical</td>\n",
              "      <td>Great Recordings of the Century - Shubert: Sch...</td>\n",
              "      <td>Gerald Moore</td>\n",
              "    </tr>\n",
              "    <tr>\n",
              "      <th>3497</th>\n",
              "      <td>Concerto for Violin, Strings and Continuo in G...</td>\n",
              "      <td>Pietro Antonio Locatelli</td>\n",
              "      <td>493573</td>\n",
              "      <td>16454937</td>\n",
              "      <td>0.99</td>\n",
              "      <td>Classical</td>\n",
              "      <td>Locatelli: Concertos for Violin, Strings and C...</td>\n",
              "      <td>Mela Tenenbaum, Pro Musica Prague &amp; Richard Kapp</td>\n",
              "    </tr>\n",
              "    <tr>\n",
              "      <th>3498</th>\n",
              "      <td>Pini Di Roma (Pinien Von Rom) \\ I Pini Della V...</td>\n",
              "      <td>None</td>\n",
              "      <td>286741</td>\n",
              "      <td>4718950</td>\n",
              "      <td>0.99</td>\n",
              "      <td>Classical</td>\n",
              "      <td>Respighi:Pines of Rome</td>\n",
              "      <td>Eugene Ormandy</td>\n",
              "    </tr>\n",
              "    <tr>\n",
              "      <th>3499</th>\n",
              "      <td>String Quartet No. 12 in C Minor, D. 703 \"Quar...</td>\n",
              "      <td>Franz Schubert</td>\n",
              "      <td>139200</td>\n",
              "      <td>2283131</td>\n",
              "      <td>0.99</td>\n",
              "      <td>Classical</td>\n",
              "      <td>Schubert: The Late String Quartets &amp; String Qu...</td>\n",
              "      <td>Emerson String Quartet</td>\n",
              "    </tr>\n",
              "    <tr>\n",
              "      <th>3500</th>\n",
              "      <td>L'orfeo, Act 3, Sinfonia (Orchestra)</td>\n",
              "      <td>Claudio Monteverdi</td>\n",
              "      <td>66639</td>\n",
              "      <td>1189062</td>\n",
              "      <td>0.99</td>\n",
              "      <td>Classical</td>\n",
              "      <td>Monteverdi: L'Orfeo</td>\n",
              "      <td>C. Monteverdi, Nigel Rogers - Chiaroscuro; Lon...</td>\n",
              "    </tr>\n",
              "    <tr>\n",
              "      <th>3501</th>\n",
              "      <td>Quintet for Horn, Violin, 2 Violas, and Cello ...</td>\n",
              "      <td>Wolfgang Amadeus Mozart</td>\n",
              "      <td>221331</td>\n",
              "      <td>3665114</td>\n",
              "      <td>0.99</td>\n",
              "      <td>Classical</td>\n",
              "      <td>Mozart: Chamber Music</td>\n",
              "      <td>Nash Ensemble</td>\n",
              "    </tr>\n",
              "    <tr>\n",
              "      <th>3502</th>\n",
              "      <td>Koyaanisqatsi</td>\n",
              "      <td>Philip Glass</td>\n",
              "      <td>206005</td>\n",
              "      <td>3305164</td>\n",
              "      <td>0.99</td>\n",
              "      <td>Soundtrack</td>\n",
              "      <td>Koyaanisqatsi (Soundtrack from the Motion Pict...</td>\n",
              "      <td>Philip Glass Ensemble</td>\n",
              "    </tr>\n",
              "  </tbody>\n",
              "</table>\n",
              "</div>\n",
              "      <button class=\"colab-df-convert\" onclick=\"convertToInteractive('df-272a4fab-55f6-457c-a30d-71f9f39acc91')\"\n",
              "              title=\"Convert this dataframe to an interactive table.\"\n",
              "              style=\"display:none;\">\n",
              "        \n",
              "  <svg xmlns=\"http://www.w3.org/2000/svg\" height=\"24px\"viewBox=\"0 0 24 24\"\n",
              "       width=\"24px\">\n",
              "    <path d=\"M0 0h24v24H0V0z\" fill=\"none\"/>\n",
              "    <path d=\"M18.56 5.44l.94 2.06.94-2.06 2.06-.94-2.06-.94-.94-2.06-.94 2.06-2.06.94zm-11 1L8.5 8.5l.94-2.06 2.06-.94-2.06-.94L8.5 2.5l-.94 2.06-2.06.94zm10 10l.94 2.06.94-2.06 2.06-.94-2.06-.94-.94-2.06-.94 2.06-2.06.94z\"/><path d=\"M17.41 7.96l-1.37-1.37c-.4-.4-.92-.59-1.43-.59-.52 0-1.04.2-1.43.59L10.3 9.45l-7.72 7.72c-.78.78-.78 2.05 0 2.83L4 21.41c.39.39.9.59 1.41.59.51 0 1.02-.2 1.41-.59l7.78-7.78 2.81-2.81c.8-.78.8-2.07 0-2.86zM5.41 20L4 18.59l7.72-7.72 1.47 1.35L5.41 20z\"/>\n",
              "  </svg>\n",
              "      </button>\n",
              "      \n",
              "  <style>\n",
              "    .colab-df-container {\n",
              "      display:flex;\n",
              "      flex-wrap:wrap;\n",
              "      gap: 12px;\n",
              "    }\n",
              "\n",
              "    .colab-df-convert {\n",
              "      background-color: #E8F0FE;\n",
              "      border: none;\n",
              "      border-radius: 50%;\n",
              "      cursor: pointer;\n",
              "      display: none;\n",
              "      fill: #1967D2;\n",
              "      height: 32px;\n",
              "      padding: 0 0 0 0;\n",
              "      width: 32px;\n",
              "    }\n",
              "\n",
              "    .colab-df-convert:hover {\n",
              "      background-color: #E2EBFA;\n",
              "      box-shadow: 0px 1px 2px rgba(60, 64, 67, 0.3), 0px 1px 3px 1px rgba(60, 64, 67, 0.15);\n",
              "      fill: #174EA6;\n",
              "    }\n",
              "\n",
              "    [theme=dark] .colab-df-convert {\n",
              "      background-color: #3B4455;\n",
              "      fill: #D2E3FC;\n",
              "    }\n",
              "\n",
              "    [theme=dark] .colab-df-convert:hover {\n",
              "      background-color: #434B5C;\n",
              "      box-shadow: 0px 1px 3px 1px rgba(0, 0, 0, 0.15);\n",
              "      filter: drop-shadow(0px 1px 2px rgba(0, 0, 0, 0.3));\n",
              "      fill: #FFFFFF;\n",
              "    }\n",
              "  </style>\n",
              "\n",
              "      <script>\n",
              "        const buttonEl =\n",
              "          document.querySelector('#df-272a4fab-55f6-457c-a30d-71f9f39acc91 button.colab-df-convert');\n",
              "        buttonEl.style.display =\n",
              "          google.colab.kernel.accessAllowed ? 'block' : 'none';\n",
              "\n",
              "        async function convertToInteractive(key) {\n",
              "          const element = document.querySelector('#df-272a4fab-55f6-457c-a30d-71f9f39acc91');\n",
              "          const dataTable =\n",
              "            await google.colab.kernel.invokeFunction('convertToInteractive',\n",
              "                                                     [key], {});\n",
              "          if (!dataTable) return;\n",
              "\n",
              "          const docLinkHtml = 'Like what you see? Visit the ' +\n",
              "            '<a target=\"_blank\" href=https://colab.research.google.com/notebooks/data_table.ipynb>data table notebook</a>'\n",
              "            + ' to learn more about interactive tables.';\n",
              "          element.innerHTML = '';\n",
              "          dataTable['output_type'] = 'display_data';\n",
              "          await google.colab.output.renderOutput(dataTable, element);\n",
              "          const docLink = document.createElement('div');\n",
              "          docLink.innerHTML = docLinkHtml;\n",
              "          element.appendChild(docLink);\n",
              "        }\n",
              "      </script>\n",
              "    </div>\n",
              "  </div>\n",
              "  "
            ]
          },
          "metadata": {},
          "execution_count": 21
        }
      ]
    },
    {
      "cell_type": "code",
      "source": [
        "itunes_df.loc[3502,'Album']"
      ],
      "metadata": {
        "colab": {
          "base_uri": "https://localhost:8080/",
          "height": 35
        },
        "id": "zR7dJHBNlFMs",
        "outputId": "c8c4cb4e-de77-443c-a5de-f9274cd485ef"
      },
      "execution_count": null,
      "outputs": [
        {
          "output_type": "execute_result",
          "data": {
            "text/plain": [
              "'Koyaanisqatsi (Soundtrack from the Motion Picture)'"
            ],
            "application/vnd.google.colaboratory.intrinsic+json": {
              "type": "string"
            }
          },
          "metadata": {},
          "execution_count": 24
        }
      ]
    },
    {
      "cell_type": "code",
      "source": [
        "print(itunes_df.iloc[0])"
      ],
      "metadata": {
        "colab": {
          "base_uri": "https://localhost:8080/"
        },
        "id": "0xAFa6gmlQR8",
        "outputId": "0a4a4750-7097-4165-c97a-3b381ef527b1"
      },
      "execution_count": null,
      "outputs": [
        {
          "output_type": "stream",
          "name": "stdout",
          "text": [
            "Track           All the Best Cowboys Have Daddy Issues\n",
            "Composer                                           NaN\n",
            "Milliseconds                                   2555492\n",
            "Bytes                                        211743651\n",
            "UnitPrice                                         1.99\n",
            "Genre                                         TV Shows\n",
            "Album                                   Lost, Season 1\n",
            "Artist                                            Lost\n",
            "Name: 0, dtype: object\n"
          ]
        }
      ]
    },
    {
      "cell_type": "code",
      "source": [
        "itunes_df.iloc[0, 0]"
      ],
      "metadata": {
        "colab": {
          "base_uri": "https://localhost:8080/",
          "height": 35
        },
        "id": "KGUJvCUml9PJ",
        "outputId": "c6630bda-ec77-40fa-8695-0946fb3a712f"
      },
      "execution_count": null,
      "outputs": [
        {
          "output_type": "execute_result",
          "data": {
            "text/plain": [
              "'All the Best Cowboys Have Daddy Issues'"
            ],
            "application/vnd.google.colaboratory.intrinsic+json": {
              "type": "string"
            }
          },
          "metadata": {},
          "execution_count": 26
        }
      ]
    },
    {
      "cell_type": "code",
      "source": [
        "print(itunes_df.iloc[-1])"
      ],
      "metadata": {
        "colab": {
          "base_uri": "https://localhost:8080/"
        },
        "id": "ADcXDvWCmSl2",
        "outputId": "5f8cba60-c50d-4cd1-e041-3ade2aa6860b"
      },
      "execution_count": null,
      "outputs": [
        {
          "output_type": "stream",
          "name": "stdout",
          "text": [
            "Track                                               Koyaanisqatsi\n",
            "Composer                                             Philip Glass\n",
            "Milliseconds                                               206005\n",
            "Bytes                                                     3305164\n",
            "UnitPrice                                                    0.99\n",
            "Genre                                                  Soundtrack\n",
            "Album           Koyaanisqatsi (Soundtrack from the Motion Pict...\n",
            "Artist                                      Philip Glass Ensemble\n",
            "Name: 3502, dtype: object\n"
          ]
        }
      ]
    },
    {
      "cell_type": "code",
      "source": [
        "itunes_df.iloc[-1, -1]"
      ],
      "metadata": {
        "colab": {
          "base_uri": "https://localhost:8080/",
          "height": 35
        },
        "id": "LRVKgDtGmVMb",
        "outputId": "f8049af9-c050-4a9d-af40-64d5c451618c"
      },
      "execution_count": null,
      "outputs": [
        {
          "output_type": "execute_result",
          "data": {
            "text/plain": [
              "'Philip Glass Ensemble'"
            ],
            "application/vnd.google.colaboratory.intrinsic+json": {
              "type": "string"
            }
          },
          "metadata": {},
          "execution_count": 28
        }
      ]
    },
    {
      "cell_type": "code",
      "source": [
        "test_df = itunes_df.copy()\n",
        "test_df = test_df.append(itunes_df.loc[3502])\n",
        "test_df.loc[3502]"
      ],
      "metadata": {
        "colab": {
          "base_uri": "https://localhost:8080/",
          "height": 191
        },
        "id": "NklNrC1Cmac8",
        "outputId": "2d2b6720-41f6-45c6-93eb-26d499186cc6"
      },
      "execution_count": null,
      "outputs": [
        {
          "output_type": "execute_result",
          "data": {
            "text/plain": [
              "              Track      Composer  Milliseconds    Bytes  UnitPrice  \\\n",
              "3502  Koyaanisqatsi  Philip Glass        206005  3305164       0.99   \n",
              "3502  Koyaanisqatsi  Philip Glass        206005  3305164       0.99   \n",
              "\n",
              "           Genre                                              Album  \\\n",
              "3502  Soundtrack  Koyaanisqatsi (Soundtrack from the Motion Pict...   \n",
              "3502  Soundtrack  Koyaanisqatsi (Soundtrack from the Motion Pict...   \n",
              "\n",
              "                     Artist  \n",
              "3502  Philip Glass Ensemble  \n",
              "3502  Philip Glass Ensemble  "
            ],
            "text/html": [
              "\n",
              "  <div id=\"df-54efb224-3a4c-4f81-84fe-bd40c2418c3d\">\n",
              "    <div class=\"colab-df-container\">\n",
              "      <div>\n",
              "<style scoped>\n",
              "    .dataframe tbody tr th:only-of-type {\n",
              "        vertical-align: middle;\n",
              "    }\n",
              "\n",
              "    .dataframe tbody tr th {\n",
              "        vertical-align: top;\n",
              "    }\n",
              "\n",
              "    .dataframe thead th {\n",
              "        text-align: right;\n",
              "    }\n",
              "</style>\n",
              "<table border=\"1\" class=\"dataframe\">\n",
              "  <thead>\n",
              "    <tr style=\"text-align: right;\">\n",
              "      <th></th>\n",
              "      <th>Track</th>\n",
              "      <th>Composer</th>\n",
              "      <th>Milliseconds</th>\n",
              "      <th>Bytes</th>\n",
              "      <th>UnitPrice</th>\n",
              "      <th>Genre</th>\n",
              "      <th>Album</th>\n",
              "      <th>Artist</th>\n",
              "    </tr>\n",
              "  </thead>\n",
              "  <tbody>\n",
              "    <tr>\n",
              "      <th>3502</th>\n",
              "      <td>Koyaanisqatsi</td>\n",
              "      <td>Philip Glass</td>\n",
              "      <td>206005</td>\n",
              "      <td>3305164</td>\n",
              "      <td>0.99</td>\n",
              "      <td>Soundtrack</td>\n",
              "      <td>Koyaanisqatsi (Soundtrack from the Motion Pict...</td>\n",
              "      <td>Philip Glass Ensemble</td>\n",
              "    </tr>\n",
              "    <tr>\n",
              "      <th>3502</th>\n",
              "      <td>Koyaanisqatsi</td>\n",
              "      <td>Philip Glass</td>\n",
              "      <td>206005</td>\n",
              "      <td>3305164</td>\n",
              "      <td>0.99</td>\n",
              "      <td>Soundtrack</td>\n",
              "      <td>Koyaanisqatsi (Soundtrack from the Motion Pict...</td>\n",
              "      <td>Philip Glass Ensemble</td>\n",
              "    </tr>\n",
              "  </tbody>\n",
              "</table>\n",
              "</div>\n",
              "      <button class=\"colab-df-convert\" onclick=\"convertToInteractive('df-54efb224-3a4c-4f81-84fe-bd40c2418c3d')\"\n",
              "              title=\"Convert this dataframe to an interactive table.\"\n",
              "              style=\"display:none;\">\n",
              "        \n",
              "  <svg xmlns=\"http://www.w3.org/2000/svg\" height=\"24px\"viewBox=\"0 0 24 24\"\n",
              "       width=\"24px\">\n",
              "    <path d=\"M0 0h24v24H0V0z\" fill=\"none\"/>\n",
              "    <path d=\"M18.56 5.44l.94 2.06.94-2.06 2.06-.94-2.06-.94-.94-2.06-.94 2.06-2.06.94zm-11 1L8.5 8.5l.94-2.06 2.06-.94-2.06-.94L8.5 2.5l-.94 2.06-2.06.94zm10 10l.94 2.06.94-2.06 2.06-.94-2.06-.94-.94-2.06-.94 2.06-2.06.94z\"/><path d=\"M17.41 7.96l-1.37-1.37c-.4-.4-.92-.59-1.43-.59-.52 0-1.04.2-1.43.59L10.3 9.45l-7.72 7.72c-.78.78-.78 2.05 0 2.83L4 21.41c.39.39.9.59 1.41.59.51 0 1.02-.2 1.41-.59l7.78-7.78 2.81-2.81c.8-.78.8-2.07 0-2.86zM5.41 20L4 18.59l7.72-7.72 1.47 1.35L5.41 20z\"/>\n",
              "  </svg>\n",
              "      </button>\n",
              "      \n",
              "  <style>\n",
              "    .colab-df-container {\n",
              "      display:flex;\n",
              "      flex-wrap:wrap;\n",
              "      gap: 12px;\n",
              "    }\n",
              "\n",
              "    .colab-df-convert {\n",
              "      background-color: #E8F0FE;\n",
              "      border: none;\n",
              "      border-radius: 50%;\n",
              "      cursor: pointer;\n",
              "      display: none;\n",
              "      fill: #1967D2;\n",
              "      height: 32px;\n",
              "      padding: 0 0 0 0;\n",
              "      width: 32px;\n",
              "    }\n",
              "\n",
              "    .colab-df-convert:hover {\n",
              "      background-color: #E2EBFA;\n",
              "      box-shadow: 0px 1px 2px rgba(60, 64, 67, 0.3), 0px 1px 3px 1px rgba(60, 64, 67, 0.15);\n",
              "      fill: #174EA6;\n",
              "    }\n",
              "\n",
              "    [theme=dark] .colab-df-convert {\n",
              "      background-color: #3B4455;\n",
              "      fill: #D2E3FC;\n",
              "    }\n",
              "\n",
              "    [theme=dark] .colab-df-convert:hover {\n",
              "      background-color: #434B5C;\n",
              "      box-shadow: 0px 1px 3px 1px rgba(0, 0, 0, 0.15);\n",
              "      filter: drop-shadow(0px 1px 2px rgba(0, 0, 0, 0.3));\n",
              "      fill: #FFFFFF;\n",
              "    }\n",
              "  </style>\n",
              "\n",
              "      <script>\n",
              "        const buttonEl =\n",
              "          document.querySelector('#df-54efb224-3a4c-4f81-84fe-bd40c2418c3d button.colab-df-convert');\n",
              "        buttonEl.style.display =\n",
              "          google.colab.kernel.accessAllowed ? 'block' : 'none';\n",
              "\n",
              "        async function convertToInteractive(key) {\n",
              "          const element = document.querySelector('#df-54efb224-3a4c-4f81-84fe-bd40c2418c3d');\n",
              "          const dataTable =\n",
              "            await google.colab.kernel.invokeFunction('convertToInteractive',\n",
              "                                                     [key], {});\n",
              "          if (!dataTable) return;\n",
              "\n",
              "          const docLinkHtml = 'Like what you see? Visit the ' +\n",
              "            '<a target=\"_blank\" href=https://colab.research.google.com/notebooks/data_table.ipynb>data table notebook</a>'\n",
              "            + ' to learn more about interactive tables.';\n",
              "          element.innerHTML = '';\n",
              "          dataTable['output_type'] = 'display_data';\n",
              "          await google.colab.output.renderOutput(dataTable, element);\n",
              "          const docLink = document.createElement('div');\n",
              "          docLink.innerHTML = docLinkHtml;\n",
              "          element.appendChild(docLink);\n",
              "        }\n",
              "      </script>\n",
              "    </div>\n",
              "  </div>\n",
              "  "
            ]
          },
          "metadata": {},
          "execution_count": 29
        }
      ]
    },
    {
      "cell_type": "code",
      "source": [
        "test_df.iloc[-1]"
      ],
      "metadata": {
        "colab": {
          "base_uri": "https://localhost:8080/"
        },
        "id": "PEGe59Rkmtum",
        "outputId": "8fa7e061-e307-4098-cdac-02d787d9a0a8"
      },
      "execution_count": null,
      "outputs": [
        {
          "output_type": "execute_result",
          "data": {
            "text/plain": [
              "Track                                               Koyaanisqatsi\n",
              "Composer                                             Philip Glass\n",
              "Milliseconds                                               206005\n",
              "Bytes                                                     3305164\n",
              "UnitPrice                                                    0.99\n",
              "Genre                                                  Soundtrack\n",
              "Album           Koyaanisqatsi (Soundtrack from the Motion Pict...\n",
              "Artist                                      Philip Glass Ensemble\n",
              "Name: 3502, dtype: object"
            ]
          },
          "metadata": {},
          "execution_count": 30
        }
      ]
    },
    {
      "cell_type": "code",
      "source": [
        "test_df.index"
      ],
      "metadata": {
        "colab": {
          "base_uri": "https://localhost:8080/"
        },
        "id": "UWqlD7pIm010",
        "outputId": "2bbd84a1-418f-4685-a447-48c5ad532ded"
      },
      "execution_count": null,
      "outputs": [
        {
          "output_type": "execute_result",
          "data": {
            "text/plain": [
              "Int64Index([   0,    1,    2,    3,    4,    5,    6,    7,    8,    9,\n",
              "            ...\n",
              "            3494, 3495, 3496, 3497, 3498, 3499, 3500, 3501, 3502, 3502],\n",
              "           dtype='int64', length=4022)"
            ]
          },
          "metadata": {},
          "execution_count": 31
        }
      ]
    },
    {
      "cell_type": "code",
      "source": [
        "test_df.reset_index(inplace=True, drop=True)"
      ],
      "metadata": {
        "id": "J7uNBBtQm4kd"
      },
      "execution_count": null,
      "outputs": []
    },
    {
      "cell_type": "code",
      "source": [
        "test_df.head()\n"
      ],
      "metadata": {
        "colab": {
          "base_uri": "https://localhost:8080/",
          "height": 354
        },
        "id": "LU1TR_N1nO52",
        "outputId": "df4f5c0a-6bb8-469b-b432-f6df19e126fb"
      },
      "execution_count": null,
      "outputs": [
        {
          "output_type": "execute_result",
          "data": {
            "text/plain": [
              "                                    Track                           Composer  \\\n",
              "0  All the Best Cowboys Have Daddy Issues                                NaN   \n",
              "1                               Beira Mar                       Gilberto Gil   \n",
              "2                                  Brasil  Milton Nascimento, Fernando Brant   \n",
              "3                            Ben Franklin                                NaN   \n",
              "4            O Último Romântico (Ao Vivo)                                NaN   \n",
              "\n",
              "   Milliseconds      Bytes  UnitPrice     Genre  \\\n",
              "0       2555492  211743651       1.99  TV Shows   \n",
              "1        295444    9597994       0.99     Latin   \n",
              "2        155428    5252560       0.99     Latin   \n",
              "3       1271938  264168080       1.99    Comedy   \n",
              "4        231993    7692697       0.99     Latin   \n",
              "\n",
              "                                             Album             Artist  \n",
              "0                                   Lost, Season 1               Lost  \n",
              "1                                        Unplugged       Eric Clapton  \n",
              "2                        Milton Nascimento Ao Vivo  Milton Nascimento  \n",
              "3                             The Office, Season 3         The Office  \n",
              "4  Lulu Santos - RCA 100 Anos De Música - Álbum 02        Lulu Santos  "
            ],
            "text/html": [
              "\n",
              "  <div id=\"df-d520299a-e2a6-4989-a247-b2b72007297d\">\n",
              "    <div class=\"colab-df-container\">\n",
              "      <div>\n",
              "<style scoped>\n",
              "    .dataframe tbody tr th:only-of-type {\n",
              "        vertical-align: middle;\n",
              "    }\n",
              "\n",
              "    .dataframe tbody tr th {\n",
              "        vertical-align: top;\n",
              "    }\n",
              "\n",
              "    .dataframe thead th {\n",
              "        text-align: right;\n",
              "    }\n",
              "</style>\n",
              "<table border=\"1\" class=\"dataframe\">\n",
              "  <thead>\n",
              "    <tr style=\"text-align: right;\">\n",
              "      <th></th>\n",
              "      <th>Track</th>\n",
              "      <th>Composer</th>\n",
              "      <th>Milliseconds</th>\n",
              "      <th>Bytes</th>\n",
              "      <th>UnitPrice</th>\n",
              "      <th>Genre</th>\n",
              "      <th>Album</th>\n",
              "      <th>Artist</th>\n",
              "    </tr>\n",
              "  </thead>\n",
              "  <tbody>\n",
              "    <tr>\n",
              "      <th>0</th>\n",
              "      <td>All the Best Cowboys Have Daddy Issues</td>\n",
              "      <td>NaN</td>\n",
              "      <td>2555492</td>\n",
              "      <td>211743651</td>\n",
              "      <td>1.99</td>\n",
              "      <td>TV Shows</td>\n",
              "      <td>Lost, Season 1</td>\n",
              "      <td>Lost</td>\n",
              "    </tr>\n",
              "    <tr>\n",
              "      <th>1</th>\n",
              "      <td>Beira Mar</td>\n",
              "      <td>Gilberto Gil</td>\n",
              "      <td>295444</td>\n",
              "      <td>9597994</td>\n",
              "      <td>0.99</td>\n",
              "      <td>Latin</td>\n",
              "      <td>Unplugged</td>\n",
              "      <td>Eric Clapton</td>\n",
              "    </tr>\n",
              "    <tr>\n",
              "      <th>2</th>\n",
              "      <td>Brasil</td>\n",
              "      <td>Milton Nascimento, Fernando Brant</td>\n",
              "      <td>155428</td>\n",
              "      <td>5252560</td>\n",
              "      <td>0.99</td>\n",
              "      <td>Latin</td>\n",
              "      <td>Milton Nascimento Ao Vivo</td>\n",
              "      <td>Milton Nascimento</td>\n",
              "    </tr>\n",
              "    <tr>\n",
              "      <th>3</th>\n",
              "      <td>Ben Franklin</td>\n",
              "      <td>NaN</td>\n",
              "      <td>1271938</td>\n",
              "      <td>264168080</td>\n",
              "      <td>1.99</td>\n",
              "      <td>Comedy</td>\n",
              "      <td>The Office, Season 3</td>\n",
              "      <td>The Office</td>\n",
              "    </tr>\n",
              "    <tr>\n",
              "      <th>4</th>\n",
              "      <td>O Último Romântico (Ao Vivo)</td>\n",
              "      <td>NaN</td>\n",
              "      <td>231993</td>\n",
              "      <td>7692697</td>\n",
              "      <td>0.99</td>\n",
              "      <td>Latin</td>\n",
              "      <td>Lulu Santos - RCA 100 Anos De Música - Álbum 02</td>\n",
              "      <td>Lulu Santos</td>\n",
              "    </tr>\n",
              "  </tbody>\n",
              "</table>\n",
              "</div>\n",
              "      <button class=\"colab-df-convert\" onclick=\"convertToInteractive('df-d520299a-e2a6-4989-a247-b2b72007297d')\"\n",
              "              title=\"Convert this dataframe to an interactive table.\"\n",
              "              style=\"display:none;\">\n",
              "        \n",
              "  <svg xmlns=\"http://www.w3.org/2000/svg\" height=\"24px\"viewBox=\"0 0 24 24\"\n",
              "       width=\"24px\">\n",
              "    <path d=\"M0 0h24v24H0V0z\" fill=\"none\"/>\n",
              "    <path d=\"M18.56 5.44l.94 2.06.94-2.06 2.06-.94-2.06-.94-.94-2.06-.94 2.06-2.06.94zm-11 1L8.5 8.5l.94-2.06 2.06-.94-2.06-.94L8.5 2.5l-.94 2.06-2.06.94zm10 10l.94 2.06.94-2.06 2.06-.94-2.06-.94-.94-2.06-.94 2.06-2.06.94z\"/><path d=\"M17.41 7.96l-1.37-1.37c-.4-.4-.92-.59-1.43-.59-.52 0-1.04.2-1.43.59L10.3 9.45l-7.72 7.72c-.78.78-.78 2.05 0 2.83L4 21.41c.39.39.9.59 1.41.59.51 0 1.02-.2 1.41-.59l7.78-7.78 2.81-2.81c.8-.78.8-2.07 0-2.86zM5.41 20L4 18.59l7.72-7.72 1.47 1.35L5.41 20z\"/>\n",
              "  </svg>\n",
              "      </button>\n",
              "      \n",
              "  <style>\n",
              "    .colab-df-container {\n",
              "      display:flex;\n",
              "      flex-wrap:wrap;\n",
              "      gap: 12px;\n",
              "    }\n",
              "\n",
              "    .colab-df-convert {\n",
              "      background-color: #E8F0FE;\n",
              "      border: none;\n",
              "      border-radius: 50%;\n",
              "      cursor: pointer;\n",
              "      display: none;\n",
              "      fill: #1967D2;\n",
              "      height: 32px;\n",
              "      padding: 0 0 0 0;\n",
              "      width: 32px;\n",
              "    }\n",
              "\n",
              "    .colab-df-convert:hover {\n",
              "      background-color: #E2EBFA;\n",
              "      box-shadow: 0px 1px 2px rgba(60, 64, 67, 0.3), 0px 1px 3px 1px rgba(60, 64, 67, 0.15);\n",
              "      fill: #174EA6;\n",
              "    }\n",
              "\n",
              "    [theme=dark] .colab-df-convert {\n",
              "      background-color: #3B4455;\n",
              "      fill: #D2E3FC;\n",
              "    }\n",
              "\n",
              "    [theme=dark] .colab-df-convert:hover {\n",
              "      background-color: #434B5C;\n",
              "      box-shadow: 0px 1px 3px 1px rgba(0, 0, 0, 0.15);\n",
              "      filter: drop-shadow(0px 1px 2px rgba(0, 0, 0, 0.3));\n",
              "      fill: #FFFFFF;\n",
              "    }\n",
              "  </style>\n",
              "\n",
              "      <script>\n",
              "        const buttonEl =\n",
              "          document.querySelector('#df-d520299a-e2a6-4989-a247-b2b72007297d button.colab-df-convert');\n",
              "        buttonEl.style.display =\n",
              "          google.colab.kernel.accessAllowed ? 'block' : 'none';\n",
              "\n",
              "        async function convertToInteractive(key) {\n",
              "          const element = document.querySelector('#df-d520299a-e2a6-4989-a247-b2b72007297d');\n",
              "          const dataTable =\n",
              "            await google.colab.kernel.invokeFunction('convertToInteractive',\n",
              "                                                     [key], {});\n",
              "          if (!dataTable) return;\n",
              "\n",
              "          const docLinkHtml = 'Like what you see? Visit the ' +\n",
              "            '<a target=\"_blank\" href=https://colab.research.google.com/notebooks/data_table.ipynb>data table notebook</a>'\n",
              "            + ' to learn more about interactive tables.';\n",
              "          element.innerHTML = '';\n",
              "          dataTable['output_type'] = 'display_data';\n",
              "          await google.colab.output.renderOutput(dataTable, element);\n",
              "          const docLink = document.createElement('div');\n",
              "          docLink.innerHTML = docLinkHtml;\n",
              "          element.appendChild(docLink);\n",
              "        }\n",
              "      </script>\n",
              "    </div>\n",
              "  </div>\n",
              "  "
            ]
          },
          "metadata": {},
          "execution_count": 33
        }
      ]
    },
    {
      "cell_type": "code",
      "source": [
        "test_df.index"
      ],
      "metadata": {
        "colab": {
          "base_uri": "https://localhost:8080/"
        },
        "id": "H1bszNgVnV8f",
        "outputId": "acb5c653-42d2-40d6-fd10-3140a8e85414"
      },
      "execution_count": null,
      "outputs": [
        {
          "output_type": "execute_result",
          "data": {
            "text/plain": [
              "RangeIndex(start=0, stop=4022, step=1)"
            ]
          },
          "metadata": {},
          "execution_count": 34
        }
      ]
    },
    {
      "cell_type": "code",
      "source": [
        "test_df.shape"
      ],
      "metadata": {
        "colab": {
          "base_uri": "https://localhost:8080/"
        },
        "id": "noQC5WhxnW6F",
        "outputId": "c4c6165c-da29-4fb0-ad81-cf3b96da0b8b"
      },
      "execution_count": null,
      "outputs": [
        {
          "output_type": "execute_result",
          "data": {
            "text/plain": [
              "(4022, 8)"
            ]
          },
          "metadata": {},
          "execution_count": 35
        }
      ]
    },
    {
      "cell_type": "code",
      "source": [
        "itunes_df.info()"
      ],
      "metadata": {
        "colab": {
          "base_uri": "https://localhost:8080/"
        },
        "id": "6qex60zNnfy9",
        "outputId": "d6839bbb-0b7c-4419-a7ce-30f1a4b2d8bd"
      },
      "execution_count": null,
      "outputs": [
        {
          "output_type": "stream",
          "name": "stdout",
          "text": [
            "<class 'pandas.core.frame.DataFrame'>\n",
            "Int64Index: 4021 entries, 0 to 3502\n",
            "Data columns (total 8 columns):\n",
            " #   Column        Non-Null Count  Dtype  \n",
            "---  ------        --------------  -----  \n",
            " 0   Track         4021 non-null   object \n",
            " 1   Composer      2908 non-null   object \n",
            " 2   Milliseconds  4021 non-null   int64  \n",
            " 3   Bytes         4021 non-null   int64  \n",
            " 4   UnitPrice     4021 non-null   float64\n",
            " 5   Genre         4021 non-null   object \n",
            " 6   Album         4021 non-null   object \n",
            " 7   Artist        4021 non-null   object \n",
            "dtypes: float64(1), int64(2), object(5)\n",
            "memory usage: 411.8+ KB\n"
          ]
        }
      ]
    },
    {
      "cell_type": "code",
      "source": [
        "itunes_df.isna().sum()"
      ],
      "metadata": {
        "colab": {
          "base_uri": "https://localhost:8080/"
        },
        "id": "xtrO_ShRnjYF",
        "outputId": "76bd2cac-b524-44a6-abc5-e46e860bd35e"
      },
      "execution_count": null,
      "outputs": [
        {
          "output_type": "execute_result",
          "data": {
            "text/plain": [
              "Track              0\n",
              "Composer        1113\n",
              "Milliseconds       0\n",
              "Bytes              0\n",
              "UnitPrice          0\n",
              "Genre              0\n",
              "Album              0\n",
              "Artist             0\n",
              "dtype: int64"
            ]
          },
          "metadata": {},
          "execution_count": 38
        }
      ]
    },
    {
      "cell_type": "code",
      "source": [
        "itunes_df.describe()"
      ],
      "metadata": {
        "colab": {
          "base_uri": "https://localhost:8080/",
          "height": 300
        },
        "id": "AhzFzUKFnw72",
        "outputId": "306433a6-3169-4ac8-e8f6-f47dfccaab79"
      },
      "execution_count": null,
      "outputs": [
        {
          "output_type": "execute_result",
          "data": {
            "text/plain": [
              "       Milliseconds         Bytes    UnitPrice\n",
              "count  4.021000e+03  4.021000e+03  4021.000000\n",
              "mean   3.927276e+05  3.311048e+07     1.050184\n",
              "std    5.337745e+05  1.042268e+08     0.237857\n",
              "min    1.071000e+03  3.874700e+04     0.990000\n",
              "25%    2.069680e+05  6.372433e+06     0.990000\n",
              "50%    2.554770e+05  8.102839e+06     0.990000\n",
              "75%    3.217240e+05  1.025143e+07     0.990000\n",
              "max    5.286953e+06  1.059546e+09     1.990000"
            ],
            "text/html": [
              "\n",
              "  <div id=\"df-3cd4d549-d6e3-4d39-886e-799f2025c318\">\n",
              "    <div class=\"colab-df-container\">\n",
              "      <div>\n",
              "<style scoped>\n",
              "    .dataframe tbody tr th:only-of-type {\n",
              "        vertical-align: middle;\n",
              "    }\n",
              "\n",
              "    .dataframe tbody tr th {\n",
              "        vertical-align: top;\n",
              "    }\n",
              "\n",
              "    .dataframe thead th {\n",
              "        text-align: right;\n",
              "    }\n",
              "</style>\n",
              "<table border=\"1\" class=\"dataframe\">\n",
              "  <thead>\n",
              "    <tr style=\"text-align: right;\">\n",
              "      <th></th>\n",
              "      <th>Milliseconds</th>\n",
              "      <th>Bytes</th>\n",
              "      <th>UnitPrice</th>\n",
              "    </tr>\n",
              "  </thead>\n",
              "  <tbody>\n",
              "    <tr>\n",
              "      <th>count</th>\n",
              "      <td>4.021000e+03</td>\n",
              "      <td>4.021000e+03</td>\n",
              "      <td>4021.000000</td>\n",
              "    </tr>\n",
              "    <tr>\n",
              "      <th>mean</th>\n",
              "      <td>3.927276e+05</td>\n",
              "      <td>3.311048e+07</td>\n",
              "      <td>1.050184</td>\n",
              "    </tr>\n",
              "    <tr>\n",
              "      <th>std</th>\n",
              "      <td>5.337745e+05</td>\n",
              "      <td>1.042268e+08</td>\n",
              "      <td>0.237857</td>\n",
              "    </tr>\n",
              "    <tr>\n",
              "      <th>min</th>\n",
              "      <td>1.071000e+03</td>\n",
              "      <td>3.874700e+04</td>\n",
              "      <td>0.990000</td>\n",
              "    </tr>\n",
              "    <tr>\n",
              "      <th>25%</th>\n",
              "      <td>2.069680e+05</td>\n",
              "      <td>6.372433e+06</td>\n",
              "      <td>0.990000</td>\n",
              "    </tr>\n",
              "    <tr>\n",
              "      <th>50%</th>\n",
              "      <td>2.554770e+05</td>\n",
              "      <td>8.102839e+06</td>\n",
              "      <td>0.990000</td>\n",
              "    </tr>\n",
              "    <tr>\n",
              "      <th>75%</th>\n",
              "      <td>3.217240e+05</td>\n",
              "      <td>1.025143e+07</td>\n",
              "      <td>0.990000</td>\n",
              "    </tr>\n",
              "    <tr>\n",
              "      <th>max</th>\n",
              "      <td>5.286953e+06</td>\n",
              "      <td>1.059546e+09</td>\n",
              "      <td>1.990000</td>\n",
              "    </tr>\n",
              "  </tbody>\n",
              "</table>\n",
              "</div>\n",
              "      <button class=\"colab-df-convert\" onclick=\"convertToInteractive('df-3cd4d549-d6e3-4d39-886e-799f2025c318')\"\n",
              "              title=\"Convert this dataframe to an interactive table.\"\n",
              "              style=\"display:none;\">\n",
              "        \n",
              "  <svg xmlns=\"http://www.w3.org/2000/svg\" height=\"24px\"viewBox=\"0 0 24 24\"\n",
              "       width=\"24px\">\n",
              "    <path d=\"M0 0h24v24H0V0z\" fill=\"none\"/>\n",
              "    <path d=\"M18.56 5.44l.94 2.06.94-2.06 2.06-.94-2.06-.94-.94-2.06-.94 2.06-2.06.94zm-11 1L8.5 8.5l.94-2.06 2.06-.94-2.06-.94L8.5 2.5l-.94 2.06-2.06.94zm10 10l.94 2.06.94-2.06 2.06-.94-2.06-.94-.94-2.06-.94 2.06-2.06.94z\"/><path d=\"M17.41 7.96l-1.37-1.37c-.4-.4-.92-.59-1.43-.59-.52 0-1.04.2-1.43.59L10.3 9.45l-7.72 7.72c-.78.78-.78 2.05 0 2.83L4 21.41c.39.39.9.59 1.41.59.51 0 1.02-.2 1.41-.59l7.78-7.78 2.81-2.81c.8-.78.8-2.07 0-2.86zM5.41 20L4 18.59l7.72-7.72 1.47 1.35L5.41 20z\"/>\n",
              "  </svg>\n",
              "      </button>\n",
              "      \n",
              "  <style>\n",
              "    .colab-df-container {\n",
              "      display:flex;\n",
              "      flex-wrap:wrap;\n",
              "      gap: 12px;\n",
              "    }\n",
              "\n",
              "    .colab-df-convert {\n",
              "      background-color: #E8F0FE;\n",
              "      border: none;\n",
              "      border-radius: 50%;\n",
              "      cursor: pointer;\n",
              "      display: none;\n",
              "      fill: #1967D2;\n",
              "      height: 32px;\n",
              "      padding: 0 0 0 0;\n",
              "      width: 32px;\n",
              "    }\n",
              "\n",
              "    .colab-df-convert:hover {\n",
              "      background-color: #E2EBFA;\n",
              "      box-shadow: 0px 1px 2px rgba(60, 64, 67, 0.3), 0px 1px 3px 1px rgba(60, 64, 67, 0.15);\n",
              "      fill: #174EA6;\n",
              "    }\n",
              "\n",
              "    [theme=dark] .colab-df-convert {\n",
              "      background-color: #3B4455;\n",
              "      fill: #D2E3FC;\n",
              "    }\n",
              "\n",
              "    [theme=dark] .colab-df-convert:hover {\n",
              "      background-color: #434B5C;\n",
              "      box-shadow: 0px 1px 3px 1px rgba(0, 0, 0, 0.15);\n",
              "      filter: drop-shadow(0px 1px 2px rgba(0, 0, 0, 0.3));\n",
              "      fill: #FFFFFF;\n",
              "    }\n",
              "  </style>\n",
              "\n",
              "      <script>\n",
              "        const buttonEl =\n",
              "          document.querySelector('#df-3cd4d549-d6e3-4d39-886e-799f2025c318 button.colab-df-convert');\n",
              "        buttonEl.style.display =\n",
              "          google.colab.kernel.accessAllowed ? 'block' : 'none';\n",
              "\n",
              "        async function convertToInteractive(key) {\n",
              "          const element = document.querySelector('#df-3cd4d549-d6e3-4d39-886e-799f2025c318');\n",
              "          const dataTable =\n",
              "            await google.colab.kernel.invokeFunction('convertToInteractive',\n",
              "                                                     [key], {});\n",
              "          if (!dataTable) return;\n",
              "\n",
              "          const docLinkHtml = 'Like what you see? Visit the ' +\n",
              "            '<a target=\"_blank\" href=https://colab.research.google.com/notebooks/data_table.ipynb>data table notebook</a>'\n",
              "            + ' to learn more about interactive tables.';\n",
              "          element.innerHTML = '';\n",
              "          dataTable['output_type'] = 'display_data';\n",
              "          await google.colab.output.renderOutput(dataTable, element);\n",
              "          const docLink = document.createElement('div');\n",
              "          docLink.innerHTML = docLinkHtml;\n",
              "          element.appendChild(docLink);\n",
              "        }\n",
              "      </script>\n",
              "    </div>\n",
              "  </div>\n",
              "  "
            ]
          },
          "metadata": {},
          "execution_count": 39
        }
      ]
    },
    {
      "cell_type": "code",
      "source": [
        "2.5*10**5"
      ],
      "metadata": {
        "colab": {
          "base_uri": "https://localhost:8080/"
        },
        "id": "E6g9fFdUn9-M",
        "outputId": "2b63f0db-576f-4dff-f118-e3b1d463a6f7"
      },
      "execution_count": null,
      "outputs": [
        {
          "output_type": "execute_result",
          "data": {
            "text/plain": [
              "250000.0"
            ]
          },
          "metadata": {},
          "execution_count": 40
        }
      ]
    },
    {
      "cell_type": "code",
      "source": [
        "2.5e5"
      ],
      "metadata": {
        "colab": {
          "base_uri": "https://localhost:8080/"
        },
        "id": "KjUbk3aSoXkW",
        "outputId": "d5564c09-57e4-41d4-9dc2-5294655993d1"
      },
      "execution_count": null,
      "outputs": [
        {
          "output_type": "execute_result",
          "data": {
            "text/plain": [
              "250000.0"
            ]
          },
          "metadata": {},
          "execution_count": 41
        }
      ]
    },
    {
      "cell_type": "code",
      "source": [
        "itunes_df['Genre'].mode()"
      ],
      "metadata": {
        "colab": {
          "base_uri": "https://localhost:8080/"
        },
        "id": "7wrvxBlcoZOd",
        "outputId": "fd1861ee-e051-40f2-c15b-0e04f83bceda"
      },
      "execution_count": null,
      "outputs": [
        {
          "output_type": "execute_result",
          "data": {
            "text/plain": [
              "0    Rock\n",
              "dtype: object"
            ]
          },
          "metadata": {},
          "execution_count": 42
        }
      ]
    },
    {
      "cell_type": "code",
      "source": [
        "itunes_df['Genre'].value_counts()"
      ],
      "metadata": {
        "colab": {
          "base_uri": "https://localhost:8080/"
        },
        "id": "a0UavKwFoyO1",
        "outputId": "9a3de233-3332-4bc4-a3d7-b52e1d40068c"
      },
      "execution_count": null,
      "outputs": [
        {
          "output_type": "execute_result",
          "data": {
            "text/plain": [
              "Rock                  1498\n",
              "Latin                  656\n",
              "Metal                  420\n",
              "Alternative & Punk     393\n",
              "Jazz                   160\n",
              "TV Shows               105\n",
              "Blues                   92\n",
              "Classical               85\n",
              "Drama                   71\n",
              "R&B/Soul                69\n",
              "Reggae                  64\n",
              "Pop                     51\n",
              "Soundtrack              50\n",
              "Alternative             45\n",
              "Hip Hop/Rap             40\n",
              "Electronica/Dance       35\n",
              "World                   32\n",
              "Heavy Metal             31\n",
              "Sci Fi & Fantasy        31\n",
              "Easy Listening          28\n",
              "Comedy                  20\n",
              "Bossa Nova              17\n",
              "Science Fiction         15\n",
              "Rock And Roll           12\n",
              "Opera                    1\n",
              "Name: Genre, dtype: int64"
            ]
          },
          "metadata": {},
          "execution_count": 43
        }
      ]
    },
    {
      "cell_type": "code",
      "source": [
        "itunes_df['Genre'].value_counts().head()"
      ],
      "metadata": {
        "colab": {
          "base_uri": "https://localhost:8080/"
        },
        "id": "Fm58Z9CGo9ki",
        "outputId": "3e7d5f38-f8da-4bd7-9689-21733c54cb3a"
      },
      "execution_count": null,
      "outputs": [
        {
          "output_type": "execute_result",
          "data": {
            "text/plain": [
              "Rock                  1498\n",
              "Latin                  656\n",
              "Metal                  420\n",
              "Alternative & Punk     393\n",
              "Jazz                   160\n",
              "Name: Genre, dtype: int64"
            ]
          },
          "metadata": {},
          "execution_count": 44
        }
      ]
    },
    {
      "cell_type": "code",
      "source": [
        "itunes_df['Genre'].value_counts()[:5]"
      ],
      "metadata": {
        "colab": {
          "base_uri": "https://localhost:8080/"
        },
        "id": "0Yl8zfNDpN0O",
        "outputId": "4baa36c6-ea20-4814-ad22-d802ab5a425e"
      },
      "execution_count": null,
      "outputs": [
        {
          "output_type": "execute_result",
          "data": {
            "text/plain": [
              "Rock                  1498\n",
              "Latin                  656\n",
              "Metal                  420\n",
              "Alternative & Punk     393\n",
              "Jazz                   160\n",
              "Name: Genre, dtype: int64"
            ]
          },
          "metadata": {},
          "execution_count": 45
        }
      ]
    },
    {
      "cell_type": "code",
      "source": [
        "itunes_df['Artist'].unique().shape"
      ],
      "metadata": {
        "colab": {
          "base_uri": "https://localhost:8080/"
        },
        "id": "PH172CtUpQd2",
        "outputId": "d5182d1e-e788-48fd-c4c3-c9b4f9180714"
      },
      "execution_count": null,
      "outputs": [
        {
          "output_type": "execute_result",
          "data": {
            "text/plain": [
              "(204,)"
            ]
          },
          "metadata": {},
          "execution_count": 49
        }
      ]
    },
    {
      "cell_type": "code",
      "source": [
        "itunes_df.corr()"
      ],
      "metadata": {
        "colab": {
          "base_uri": "https://localhost:8080/",
          "height": 143
        },
        "id": "jMuHWqV4pl8u",
        "outputId": "adf149f2-0056-444f-f4fe-7fb7d352b9d5"
      },
      "execution_count": null,
      "outputs": [
        {
          "output_type": "execute_result",
          "data": {
            "text/plain": [
              "              Milliseconds     Bytes  UnitPrice\n",
              "Milliseconds      1.000000  0.957791   0.934829\n",
              "Bytes             0.957791  1.000000   0.938734\n",
              "UnitPrice         0.934829  0.938734   1.000000"
            ],
            "text/html": [
              "\n",
              "  <div id=\"df-09e7fdc6-9d2e-436e-910e-3e5212f433e8\">\n",
              "    <div class=\"colab-df-container\">\n",
              "      <div>\n",
              "<style scoped>\n",
              "    .dataframe tbody tr th:only-of-type {\n",
              "        vertical-align: middle;\n",
              "    }\n",
              "\n",
              "    .dataframe tbody tr th {\n",
              "        vertical-align: top;\n",
              "    }\n",
              "\n",
              "    .dataframe thead th {\n",
              "        text-align: right;\n",
              "    }\n",
              "</style>\n",
              "<table border=\"1\" class=\"dataframe\">\n",
              "  <thead>\n",
              "    <tr style=\"text-align: right;\">\n",
              "      <th></th>\n",
              "      <th>Milliseconds</th>\n",
              "      <th>Bytes</th>\n",
              "      <th>UnitPrice</th>\n",
              "    </tr>\n",
              "  </thead>\n",
              "  <tbody>\n",
              "    <tr>\n",
              "      <th>Milliseconds</th>\n",
              "      <td>1.000000</td>\n",
              "      <td>0.957791</td>\n",
              "      <td>0.934829</td>\n",
              "    </tr>\n",
              "    <tr>\n",
              "      <th>Bytes</th>\n",
              "      <td>0.957791</td>\n",
              "      <td>1.000000</td>\n",
              "      <td>0.938734</td>\n",
              "    </tr>\n",
              "    <tr>\n",
              "      <th>UnitPrice</th>\n",
              "      <td>0.934829</td>\n",
              "      <td>0.938734</td>\n",
              "      <td>1.000000</td>\n",
              "    </tr>\n",
              "  </tbody>\n",
              "</table>\n",
              "</div>\n",
              "      <button class=\"colab-df-convert\" onclick=\"convertToInteractive('df-09e7fdc6-9d2e-436e-910e-3e5212f433e8')\"\n",
              "              title=\"Convert this dataframe to an interactive table.\"\n",
              "              style=\"display:none;\">\n",
              "        \n",
              "  <svg xmlns=\"http://www.w3.org/2000/svg\" height=\"24px\"viewBox=\"0 0 24 24\"\n",
              "       width=\"24px\">\n",
              "    <path d=\"M0 0h24v24H0V0z\" fill=\"none\"/>\n",
              "    <path d=\"M18.56 5.44l.94 2.06.94-2.06 2.06-.94-2.06-.94-.94-2.06-.94 2.06-2.06.94zm-11 1L8.5 8.5l.94-2.06 2.06-.94-2.06-.94L8.5 2.5l-.94 2.06-2.06.94zm10 10l.94 2.06.94-2.06 2.06-.94-2.06-.94-.94-2.06-.94 2.06-2.06.94z\"/><path d=\"M17.41 7.96l-1.37-1.37c-.4-.4-.92-.59-1.43-.59-.52 0-1.04.2-1.43.59L10.3 9.45l-7.72 7.72c-.78.78-.78 2.05 0 2.83L4 21.41c.39.39.9.59 1.41.59.51 0 1.02-.2 1.41-.59l7.78-7.78 2.81-2.81c.8-.78.8-2.07 0-2.86zM5.41 20L4 18.59l7.72-7.72 1.47 1.35L5.41 20z\"/>\n",
              "  </svg>\n",
              "      </button>\n",
              "      \n",
              "  <style>\n",
              "    .colab-df-container {\n",
              "      display:flex;\n",
              "      flex-wrap:wrap;\n",
              "      gap: 12px;\n",
              "    }\n",
              "\n",
              "    .colab-df-convert {\n",
              "      background-color: #E8F0FE;\n",
              "      border: none;\n",
              "      border-radius: 50%;\n",
              "      cursor: pointer;\n",
              "      display: none;\n",
              "      fill: #1967D2;\n",
              "      height: 32px;\n",
              "      padding: 0 0 0 0;\n",
              "      width: 32px;\n",
              "    }\n",
              "\n",
              "    .colab-df-convert:hover {\n",
              "      background-color: #E2EBFA;\n",
              "      box-shadow: 0px 1px 2px rgba(60, 64, 67, 0.3), 0px 1px 3px 1px rgba(60, 64, 67, 0.15);\n",
              "      fill: #174EA6;\n",
              "    }\n",
              "\n",
              "    [theme=dark] .colab-df-convert {\n",
              "      background-color: #3B4455;\n",
              "      fill: #D2E3FC;\n",
              "    }\n",
              "\n",
              "    [theme=dark] .colab-df-convert:hover {\n",
              "      background-color: #434B5C;\n",
              "      box-shadow: 0px 1px 3px 1px rgba(0, 0, 0, 0.15);\n",
              "      filter: drop-shadow(0px 1px 2px rgba(0, 0, 0, 0.3));\n",
              "      fill: #FFFFFF;\n",
              "    }\n",
              "  </style>\n",
              "\n",
              "      <script>\n",
              "        const buttonEl =\n",
              "          document.querySelector('#df-09e7fdc6-9d2e-436e-910e-3e5212f433e8 button.colab-df-convert');\n",
              "        buttonEl.style.display =\n",
              "          google.colab.kernel.accessAllowed ? 'block' : 'none';\n",
              "\n",
              "        async function convertToInteractive(key) {\n",
              "          const element = document.querySelector('#df-09e7fdc6-9d2e-436e-910e-3e5212f433e8');\n",
              "          const dataTable =\n",
              "            await google.colab.kernel.invokeFunction('convertToInteractive',\n",
              "                                                     [key], {});\n",
              "          if (!dataTable) return;\n",
              "\n",
              "          const docLinkHtml = 'Like what you see? Visit the ' +\n",
              "            '<a target=\"_blank\" href=https://colab.research.google.com/notebooks/data_table.ipynb>data table notebook</a>'\n",
              "            + ' to learn more about interactive tables.';\n",
              "          element.innerHTML = '';\n",
              "          dataTable['output_type'] = 'display_data';\n",
              "          await google.colab.output.renderOutput(dataTable, element);\n",
              "          const docLink = document.createElement('div');\n",
              "          docLink.innerHTML = docLinkHtml;\n",
              "          element.appendChild(docLink);\n",
              "        }\n",
              "      </script>\n",
              "    </div>\n",
              "  </div>\n",
              "  "
            ]
          },
          "metadata": {},
          "execution_count": 50
        }
      ]
    },
    {
      "cell_type": "code",
      "source": [],
      "metadata": {
        "id": "IuDicu48p3xv"
      },
      "execution_count": null,
      "outputs": []
    },
    {
      "cell_type": "markdown",
      "metadata": {
        "id": "fk39GEjHMn_n"
      },
      "source": [
        "## Plotando com DataFrames"
      ]
    },
    {
      "cell_type": "code",
      "execution_count": null,
      "metadata": {
        "id": "Yp2oxZ7rMn_o"
      },
      "outputs": [],
      "source": [
        "import matplotlib.pyplot as plt"
      ]
    },
    {
      "cell_type": "code",
      "source": [
        "itunes_df['Milliseconds'].hist()"
      ],
      "metadata": {
        "colab": {
          "base_uri": "https://localhost:8080/",
          "height": 295
        },
        "id": "BUcmN324qk17",
        "outputId": "f5c6e3d7-1573-4719-fd87-6287afd402cf"
      },
      "execution_count": null,
      "outputs": [
        {
          "output_type": "execute_result",
          "data": {
            "text/plain": [
              "<matplotlib.axes._subplots.AxesSubplot at 0x7f6889c49550>"
            ]
          },
          "metadata": {},
          "execution_count": 55
        },
        {
          "output_type": "display_data",
          "data": {
            "text/plain": [
              "<Figure size 432x288 with 1 Axes>"
            ],
            "image/png": "[encoded data removed]"
          },
          "metadata": {
            "needs_background": "light"
          }
        }
      ]
    },
    {
      "cell_type": "code",
      "source": [
        "itunes_df['Milliseconds'].hist(bins=30)"
      ],
      "metadata": {
        "colab": {
          "base_uri": "https://localhost:8080/",
          "height": 295
        },
        "id": "cksTfALtqMOY",
        "outputId": "98e19011-97c1-4a41-d46d-d6668e62cc79"
      },
      "execution_count": null,
      "outputs": [
        {
          "output_type": "execute_result",
          "data": {
            "text/plain": [
              "<matplotlib.axes._subplots.AxesSubplot at 0x7f688a17c310>"
            ]
          },
          "metadata": {},
          "execution_count": 54
        },
        {
          "output_type": "display_data",
          "data": {
            "text/plain": [
              "<Figure size 432x288 with 1 Axes>"
            ],
            "image/png": "[encoded data removed]"
          },
          "metadata": {
            "needs_background": "light"
          }
        }
      ]
    },
    {
      "cell_type": "code",
      "source": [
        "1e6"
      ],
      "metadata": {
        "colab": {
          "base_uri": "https://localhost:8080/"
        },
        "id": "gtxprSAUqSY2",
        "outputId": "a37fbe6d-8904-4795-decd-c6d6f391f419"
      },
      "execution_count": null,
      "outputs": [
        {
          "output_type": "execute_result",
          "data": {
            "text/plain": [
              "1000000.0"
            ]
          },
          "metadata": {},
          "execution_count": 53
        }
      ]
    },
    {
      "cell_type": "code",
      "source": [
        "itunes_df.plot.scatter(x='Milliseconds', y='Bytes')"
      ],
      "metadata": {
        "colab": {
          "base_uri": "https://localhost:8080/",
          "height": 307
        },
        "id": "o_KCmRF5qZ-x",
        "outputId": "4d3da0c9-684f-494e-8573-64a6f8207d13"
      },
      "execution_count": null,
      "outputs": [
        {
          "output_type": "execute_result",
          "data": {
            "text/plain": [
              "<matplotlib.axes._subplots.AxesSubplot at 0x7f6889b591d0>"
            ]
          },
          "metadata": {},
          "execution_count": 56
        },
        {
          "output_type": "display_data",
          "data": {
            "text/plain": [
              "<Figure size 432x288 with 1 Axes>"
            ],
            "image/png": "[encoded data removed]"
          },
          "metadata": {
            "needs_background": "light"
          }
        }
      ]
    },
    {
      "cell_type": "code",
      "source": [
        "itunes_df['Genre'].value_counts().plot.bar()"
      ],
      "metadata": {
        "colab": {
          "base_uri": "https://localhost:8080/",
          "height": 366
        },
        "id": "P4Y0a5tYq6zg",
        "outputId": "d4abc729-44f4-4e57-92f8-f1ecfec93bed"
      },
      "execution_count": null,
      "outputs": [
        {
          "output_type": "execute_result",
          "data": {
            "text/plain": [
              "<matplotlib.axes._subplots.AxesSubplot at 0x7f6889b33f90>"
            ]
          },
          "metadata": {},
          "execution_count": 57
        },
        {
          "output_type": "display_data",
          "data": {
            "text/plain": [
              "<Figure size 432x288 with 1 Axes>"
            ],
            "image/png": "[encoded data removed]"
          },
          "metadata": {
            "needs_background": "light"
          }
        }
      ]
    },
    {
      "cell_type": "markdown",
      "metadata": {
        "id": "v8WXOfMDMn_p"
      },
      "source": [
        "## Limpando Dados, Filtrando DataFrames"
      ]
    },
    {
      "cell_type": "code",
      "source": [
        "itunes_df['Milliseconds'] > 4e6"
      ],
      "metadata": {
        "colab": {
          "base_uri": "https://localhost:8080/"
        },
        "id": "_ApeozVqr4cv",
        "outputId": "002cddc5-d934-4d76-f84a-aef360db8639"
      },
      "execution_count": null,
      "outputs": [
        {
          "output_type": "execute_result",
          "data": {
            "text/plain": [
              "0       False\n",
              "1       False\n",
              "2       False\n",
              "3       False\n",
              "4       False\n",
              "        ...  \n",
              "3498    False\n",
              "3499    False\n",
              "3500    False\n",
              "3501    False\n",
              "3502    False\n",
              "Name: Milliseconds, Length: 4021, dtype: bool"
            ]
          },
          "metadata": {},
          "execution_count": 58
        }
      ]
    },
    {
      "cell_type": "code",
      "source": [
        "itunes_df[itunes_df['Milliseconds'] > 4e6]"
      ],
      "metadata": {
        "colab": {
          "base_uri": "https://localhost:8080/",
          "height": 191
        },
        "id": "3YAUg4zVsJ8_",
        "outputId": "2e87d703-4f2c-408d-9dab-9576557e1b1f"
      },
      "execution_count": null,
      "outputs": [
        {
          "output_type": "execute_result",
          "data": {
            "text/plain": [
              "                        Track Composer  Milliseconds       Bytes  UnitPrice  \\\n",
              "2833   Occupation / Precipice     None       5286953  1054423946       1.99   \n",
              "2898  Through a Looking Glass     None       5088838  1059546140       1.99   \n",
              "\n",
              "         Genre                           Album                Artist  \n",
              "2833  TV Shows  Battlestar Galactica, Season 3  Battlestar Galactica  \n",
              "2898     Drama                  Lost, Season 3                  Lost  "
            ],
            "text/html": [
              "\n",
              "  <div id=\"df-38eb5ea2-45f1-4755-9702-9b163315e3d2\">\n",
              "    <div class=\"colab-df-container\">\n",
              "      <div>\n",
              "<style scoped>\n",
              "    .dataframe tbody tr th:only-of-type {\n",
              "        vertical-align: middle;\n",
              "    }\n",
              "\n",
              "    .dataframe tbody tr th {\n",
              "        vertical-align: top;\n",
              "    }\n",
              "\n",
              "    .dataframe thead th {\n",
              "        text-align: right;\n",
              "    }\n",
              "</style>\n",
              "<table border=\"1\" class=\"dataframe\">\n",
              "  <thead>\n",
              "    <tr style=\"text-align: right;\">\n",
              "      <th></th>\n",
              "      <th>Track</th>\n",
              "      <th>Composer</th>\n",
              "      <th>Milliseconds</th>\n",
              "      <th>Bytes</th>\n",
              "      <th>UnitPrice</th>\n",
              "      <th>Genre</th>\n",
              "      <th>Album</th>\n",
              "      <th>Artist</th>\n",
              "    </tr>\n",
              "  </thead>\n",
              "  <tbody>\n",
              "    <tr>\n",
              "      <th>2833</th>\n",
              "      <td>Occupation / Precipice</td>\n",
              "      <td>None</td>\n",
              "      <td>5286953</td>\n",
              "      <td>1054423946</td>\n",
              "      <td>1.99</td>\n",
              "      <td>TV Shows</td>\n",
              "      <td>Battlestar Galactica, Season 3</td>\n",
              "      <td>Battlestar Galactica</td>\n",
              "    </tr>\n",
              "    <tr>\n",
              "      <th>2898</th>\n",
              "      <td>Through a Looking Glass</td>\n",
              "      <td>None</td>\n",
              "      <td>5088838</td>\n",
              "      <td>1059546140</td>\n",
              "      <td>1.99</td>\n",
              "      <td>Drama</td>\n",
              "      <td>Lost, Season 3</td>\n",
              "      <td>Lost</td>\n",
              "    </tr>\n",
              "  </tbody>\n",
              "</table>\n",
              "</div>\n",
              "      <button class=\"colab-df-convert\" onclick=\"convertToInteractive('df-38eb5ea2-45f1-4755-9702-9b163315e3d2')\"\n",
              "              title=\"Convert this dataframe to an interactive table.\"\n",
              "              style=\"display:none;\">\n",
              "        \n",
              "  <svg xmlns=\"http://www.w3.org/2000/svg\" height=\"24px\"viewBox=\"0 0 24 24\"\n",
              "       width=\"24px\">\n",
              "    <path d=\"M0 0h24v24H0V0z\" fill=\"none\"/>\n",
              "    <path d=\"M18.56 5.44l.94 2.06.94-2.06 2.06-.94-2.06-.94-.94-2.06-.94 2.06-2.06.94zm-11 1L8.5 8.5l.94-2.06 2.06-.94-2.06-.94L8.5 2.5l-.94 2.06-2.06.94zm10 10l.94 2.06.94-2.06 2.06-.94-2.06-.94-.94-2.06-.94 2.06-2.06.94z\"/><path d=\"M17.41 7.96l-1.37-1.37c-.4-.4-.92-.59-1.43-.59-.52 0-1.04.2-1.43.59L10.3 9.45l-7.72 7.72c-.78.78-.78 2.05 0 2.83L4 21.41c.39.39.9.59 1.41.59.51 0 1.02-.2 1.41-.59l7.78-7.78 2.81-2.81c.8-.78.8-2.07 0-2.86zM5.41 20L4 18.59l7.72-7.72 1.47 1.35L5.41 20z\"/>\n",
              "  </svg>\n",
              "      </button>\n",
              "      \n",
              "  <style>\n",
              "    .colab-df-container {\n",
              "      display:flex;\n",
              "      flex-wrap:wrap;\n",
              "      gap: 12px;\n",
              "    }\n",
              "\n",
              "    .colab-df-convert {\n",
              "      background-color: #E8F0FE;\n",
              "      border: none;\n",
              "      border-radius: 50%;\n",
              "      cursor: pointer;\n",
              "      display: none;\n",
              "      fill: #1967D2;\n",
              "      height: 32px;\n",
              "      padding: 0 0 0 0;\n",
              "      width: 32px;\n",
              "    }\n",
              "\n",
              "    .colab-df-convert:hover {\n",
              "      background-color: #E2EBFA;\n",
              "      box-shadow: 0px 1px 2px rgba(60, 64, 67, 0.3), 0px 1px 3px 1px rgba(60, 64, 67, 0.15);\n",
              "      fill: #174EA6;\n",
              "    }\n",
              "\n",
              "    [theme=dark] .colab-df-convert {\n",
              "      background-color: #3B4455;\n",
              "      fill: #D2E3FC;\n",
              "    }\n",
              "\n",
              "    [theme=dark] .colab-df-convert:hover {\n",
              "      background-color: #434B5C;\n",
              "      box-shadow: 0px 1px 3px 1px rgba(0, 0, 0, 0.15);\n",
              "      filter: drop-shadow(0px 1px 2px rgba(0, 0, 0, 0.3));\n",
              "      fill: #FFFFFF;\n",
              "    }\n",
              "  </style>\n",
              "\n",
              "      <script>\n",
              "        const buttonEl =\n",
              "          document.querySelector('#df-38eb5ea2-45f1-4755-9702-9b163315e3d2 button.colab-df-convert');\n",
              "        buttonEl.style.display =\n",
              "          google.colab.kernel.accessAllowed ? 'block' : 'none';\n",
              "\n",
              "        async function convertToInteractive(key) {\n",
              "          const element = document.querySelector('#df-38eb5ea2-45f1-4755-9702-9b163315e3d2');\n",
              "          const dataTable =\n",
              "            await google.colab.kernel.invokeFunction('convertToInteractive',\n",
              "                                                     [key], {});\n",
              "          if (!dataTable) return;\n",
              "\n",
              "          const docLinkHtml = 'Like what you see? Visit the ' +\n",
              "            '<a target=\"_blank\" href=https://colab.research.google.com/notebooks/data_table.ipynb>data table notebook</a>'\n",
              "            + ' to learn more about interactive tables.';\n",
              "          element.innerHTML = '';\n",
              "          dataTable['output_type'] = 'display_data';\n",
              "          await google.colab.output.renderOutput(dataTable, element);\n",
              "          const docLink = document.createElement('div');\n",
              "          docLink.innerHTML = docLinkHtml;\n",
              "          element.appendChild(docLink);\n",
              "        }\n",
              "      </script>\n",
              "    </div>\n",
              "  </div>\n",
              "  "
            ]
          },
          "metadata": {},
          "execution_count": 59
        }
      ]
    },
    {
      "cell_type": "code",
      "source": [
        "itunes_df[itunes_df['Milliseconds'] > 4e6][['Genre', 'Artist']]"
      ],
      "metadata": {
        "colab": {
          "base_uri": "https://localhost:8080/",
          "height": 112
        },
        "id": "H4YphG1EsVjF",
        "outputId": "49baec8b-7743-4f43-b114-894fe7ea48e9"
      },
      "execution_count": null,
      "outputs": [
        {
          "output_type": "execute_result",
          "data": {
            "text/plain": [
              "         Genre                Artist\n",
              "2833  TV Shows  Battlestar Galactica\n",
              "2898     Drama                  Lost"
            ],
            "text/html": [
              "\n",
              "  <div id=\"df-50710561-10ca-45f0-a1c9-f68d22960ea1\">\n",
              "    <div class=\"colab-df-container\">\n",
              "      <div>\n",
              "<style scoped>\n",
              "    .dataframe tbody tr th:only-of-type {\n",
              "        vertical-align: middle;\n",
              "    }\n",
              "\n",
              "    .dataframe tbody tr th {\n",
              "        vertical-align: top;\n",
              "    }\n",
              "\n",
              "    .dataframe thead th {\n",
              "        text-align: right;\n",
              "    }\n",
              "</style>\n",
              "<table border=\"1\" class=\"dataframe\">\n",
              "  <thead>\n",
              "    <tr style=\"text-align: right;\">\n",
              "      <th></th>\n",
              "      <th>Genre</th>\n",
              "      <th>Artist</th>\n",
              "    </tr>\n",
              "  </thead>\n",
              "  <tbody>\n",
              "    <tr>\n",
              "      <th>2833</th>\n",
              "      <td>TV Shows</td>\n",
              "      <td>Battlestar Galactica</td>\n",
              "    </tr>\n",
              "    <tr>\n",
              "      <th>2898</th>\n",
              "      <td>Drama</td>\n",
              "      <td>Lost</td>\n",
              "    </tr>\n",
              "  </tbody>\n",
              "</table>\n",
              "</div>\n",
              "      <button class=\"colab-df-convert\" onclick=\"convertToInteractive('df-50710561-10ca-45f0-a1c9-f68d22960ea1')\"\n",
              "              title=\"Convert this dataframe to an interactive table.\"\n",
              "              style=\"display:none;\">\n",
              "        \n",
              "  <svg xmlns=\"http://www.w3.org/2000/svg\" height=\"24px\"viewBox=\"0 0 24 24\"\n",
              "       width=\"24px\">\n",
              "    <path d=\"M0 0h24v24H0V0z\" fill=\"none\"/>\n",
              "    <path d=\"M18.56 5.44l.94 2.06.94-2.06 2.06-.94-2.06-.94-.94-2.06-.94 2.06-2.06.94zm-11 1L8.5 8.5l.94-2.06 2.06-.94-2.06-.94L8.5 2.5l-.94 2.06-2.06.94zm10 10l.94 2.06.94-2.06 2.06-.94-2.06-.94-.94-2.06-.94 2.06-2.06.94z\"/><path d=\"M17.41 7.96l-1.37-1.37c-.4-.4-.92-.59-1.43-.59-.52 0-1.04.2-1.43.59L10.3 9.45l-7.72 7.72c-.78.78-.78 2.05 0 2.83L4 21.41c.39.39.9.59 1.41.59.51 0 1.02-.2 1.41-.59l7.78-7.78 2.81-2.81c.8-.78.8-2.07 0-2.86zM5.41 20L4 18.59l7.72-7.72 1.47 1.35L5.41 20z\"/>\n",
              "  </svg>\n",
              "      </button>\n",
              "      \n",
              "  <style>\n",
              "    .colab-df-container {\n",
              "      display:flex;\n",
              "      flex-wrap:wrap;\n",
              "      gap: 12px;\n",
              "    }\n",
              "\n",
              "    .colab-df-convert {\n",
              "      background-color: #E8F0FE;\n",
              "      border: none;\n",
              "      border-radius: 50%;\n",
              "      cursor: pointer;\n",
              "      display: none;\n",
              "      fill: #1967D2;\n",
              "      height: 32px;\n",
              "      padding: 0 0 0 0;\n",
              "      width: 32px;\n",
              "    }\n",
              "\n",
              "    .colab-df-convert:hover {\n",
              "      background-color: #E2EBFA;\n",
              "      box-shadow: 0px 1px 2px rgba(60, 64, 67, 0.3), 0px 1px 3px 1px rgba(60, 64, 67, 0.15);\n",
              "      fill: #174EA6;\n",
              "    }\n",
              "\n",
              "    [theme=dark] .colab-df-convert {\n",
              "      background-color: #3B4455;\n",
              "      fill: #D2E3FC;\n",
              "    }\n",
              "\n",
              "    [theme=dark] .colab-df-convert:hover {\n",
              "      background-color: #434B5C;\n",
              "      box-shadow: 0px 1px 3px 1px rgba(0, 0, 0, 0.15);\n",
              "      filter: drop-shadow(0px 1px 2px rgba(0, 0, 0, 0.3));\n",
              "      fill: #FFFFFF;\n",
              "    }\n",
              "  </style>\n",
              "\n",
              "      <script>\n",
              "        const buttonEl =\n",
              "          document.querySelector('#df-50710561-10ca-45f0-a1c9-f68d22960ea1 button.colab-df-convert');\n",
              "        buttonEl.style.display =\n",
              "          google.colab.kernel.accessAllowed ? 'block' : 'none';\n",
              "\n",
              "        async function convertToInteractive(key) {\n",
              "          const element = document.querySelector('#df-50710561-10ca-45f0-a1c9-f68d22960ea1');\n",
              "          const dataTable =\n",
              "            await google.colab.kernel.invokeFunction('convertToInteractive',\n",
              "                                                     [key], {});\n",
              "          if (!dataTable) return;\n",
              "\n",
              "          const docLinkHtml = 'Like what you see? Visit the ' +\n",
              "            '<a target=\"_blank\" href=https://colab.research.google.com/notebooks/data_table.ipynb>data table notebook</a>'\n",
              "            + ' to learn more about interactive tables.';\n",
              "          element.innerHTML = '';\n",
              "          dataTable['output_type'] = 'display_data';\n",
              "          await google.colab.output.renderOutput(dataTable, element);\n",
              "          const docLink = document.createElement('div');\n",
              "          docLink.innerHTML = docLinkHtml;\n",
              "          element.appendChild(docLink);\n",
              "        }\n",
              "      </script>\n",
              "    </div>\n",
              "  </div>\n",
              "  "
            ]
          },
          "metadata": {},
          "execution_count": 61
        }
      ]
    },
    {
      "cell_type": "markdown",
      "source": [
        "Quais generos de musica tem tempos maiores?"
      ],
      "metadata": {
        "id": "bGD6KXtqspKa"
      }
    },
    {
      "cell_type": "code",
      "source": [
        "itunes_df[itunes_df['Milliseconds'] > 2e6]['Genre'].value_counts()"
      ],
      "metadata": {
        "colab": {
          "base_uri": "https://localhost:8080/"
        },
        "id": "R-_bRR5LsYio",
        "outputId": "fee9d527-8ce3-4469-f081-3a328e8e9915"
      },
      "execution_count": null,
      "outputs": [
        {
          "output_type": "execute_result",
          "data": {
            "text/plain": [
              "Drama               69\n",
              "TV Shows            67\n",
              "Sci Fi & Fantasy    31\n",
              "Science Fiction     15\n",
              "Comedy               2\n",
              "Name: Genre, dtype: int64"
            ]
          },
          "metadata": {},
          "execution_count": 63
        }
      ]
    },
    {
      "cell_type": "code",
      "source": [
        "itunes_df[(itunes_df['Milliseconds'] > 2e6) & (itunes_df['Bytes'] < 0.4e9)]['Genre'].value_counts()"
      ],
      "metadata": {
        "colab": {
          "base_uri": "https://localhost:8080/"
        },
        "id": "f2qyL8K2skrX",
        "outputId": "e6f3e2fd-072f-4ec9-b14a-810fb6ed577e"
      },
      "execution_count": null,
      "outputs": [
        {
          "output_type": "execute_result",
          "data": {
            "text/plain": [
              "TV Shows    32\n",
              "Name: Genre, dtype: int64"
            ]
          },
          "metadata": {},
          "execution_count": 64
        }
      ]
    },
    {
      "cell_type": "code",
      "source": [
        "itunes_df[itunes_df['Genre'] != 'TV Shows']['Genre'].value_counts()"
      ],
      "metadata": {
        "colab": {
          "base_uri": "https://localhost:8080/"
        },
        "id": "9sFIx6ENtFIf",
        "outputId": "3bbfceb3-a4a5-49a1-e349-0cbf03b478ff"
      },
      "execution_count": null,
      "outputs": [
        {
          "output_type": "execute_result",
          "data": {
            "text/plain": [
              "Rock                  1498\n",
              "Latin                  656\n",
              "Metal                  420\n",
              "Alternative & Punk     393\n",
              "Jazz                   160\n",
              "Blues                   92\n",
              "Classical               85\n",
              "Drama                   71\n",
              "R&B/Soul                69\n",
              "Reggae                  64\n",
              "Pop                     51\n",
              "Soundtrack              50\n",
              "Alternative             45\n",
              "Hip Hop/Rap             40\n",
              "Electronica/Dance       35\n",
              "World                   32\n",
              "Sci Fi & Fantasy        31\n",
              "Heavy Metal             31\n",
              "Easy Listening          28\n",
              "Comedy                  20\n",
              "Bossa Nova              17\n",
              "Science Fiction         15\n",
              "Rock And Roll           12\n",
              "Opera                    1\n",
              "Name: Genre, dtype: int64"
            ]
          },
          "metadata": {},
          "execution_count": 65
        }
      ]
    },
    {
      "cell_type": "code",
      "source": [
        "itunes_df[itunes_df['Genre'].str.contains('TV')]['Genre'].value_counts()"
      ],
      "metadata": {
        "colab": {
          "base_uri": "https://localhost:8080/"
        },
        "id": "5MMXnC3dtcul",
        "outputId": "13fd19f5-c4d4-4b68-908c-4dd363254f52"
      },
      "execution_count": null,
      "outputs": [
        {
          "output_type": "execute_result",
          "data": {
            "text/plain": [
              "TV Shows    105\n",
              "Name: Genre, dtype: int64"
            ]
          },
          "metadata": {},
          "execution_count": 66
        }
      ]
    },
    {
      "cell_type": "code",
      "source": [
        "itunes_df[itunes_df['Genre'].str.contains('Rock')]['Genre'].value_counts()"
      ],
      "metadata": {
        "colab": {
          "base_uri": "https://localhost:8080/"
        },
        "id": "5VEfMaoNtlQ3",
        "outputId": "b4a61166-a3db-4363-9f18-b9e215fa8053"
      },
      "execution_count": null,
      "outputs": [
        {
          "output_type": "execute_result",
          "data": {
            "text/plain": [
              "Rock             1498\n",
              "Rock And Roll      12\n",
              "Name: Genre, dtype: int64"
            ]
          },
          "metadata": {},
          "execution_count": 74
        }
      ]
    },
    {
      "cell_type": "markdown",
      "source": [
        "##Valores ausentes"
      ],
      "metadata": {
        "id": "K0tc8X9KucZt"
      }
    },
    {
      "cell_type": "markdown",
      "source": [
        "Em termos de lidar com valores ausentes, temos algumas opções:\n",
        "* Deixe os valores ausentes como estão\n",
        "* Elimine os dados\n",
        "* Preencha com um valor específico\n",
        "* Substitua pela média, mediana ou moda\n",
        "* Use o aprendizado de máquina para substituir valores ausentes"
      ],
      "metadata": {
        "id": "1B1vuVeYbbbi"
      }
    },
    {
      "cell_type": "code",
      "source": [
        "itunes_df[itunes_df['Composer'].isna()].sample(5, random_state=42).head()"
      ],
      "metadata": {
        "colab": {
          "base_uri": "https://localhost:8080/",
          "height": 372
        },
        "id": "d-1F6tFpufjG",
        "outputId": "792ef833-7970-4d0b-f4ac-02d7b69f51b5"
      },
      "execution_count": null,
      "outputs": [
        {
          "output_type": "execute_result",
          "data": {
            "text/plain": [
              "                                Track Composer  Milliseconds      Bytes  \\\n",
              "2947                    Three Minutes     None       2763666  531556853   \n",
              "98                      Romance Ideal      NaN        250070    8260477   \n",
              "3327      Todo o Carnaval tem seu Fim     None        237426    9499371   \n",
              "2457  We've Got To Get Together/Jingo     None       1070027   34618222   \n",
              "587                      Vamos Dançar     None        226194    7617432   \n",
              "\n",
              "      UnitPrice              Genre  \\\n",
              "2947       1.99           TV Shows   \n",
              "98         0.99              Latin   \n",
              "3327       0.99  Electronica/Dance   \n",
              "2457       0.99               Rock   \n",
              "587        0.99              Latin   \n",
              "\n",
              "                                                  Album  \\\n",
              "2947                                     Lost, Season 2   \n",
              "98                      Arquivo Os Paralamas Do Sucesso   \n",
              "3327  Radio Brasil (O Som da Jovem Vanguarda) - Sele...   \n",
              "2457                                       Santana Live   \n",
              "587                                The Best of Ed Motta   \n",
              "\n",
              "                       Artist  \n",
              "2947                     Lost  \n",
              "98    Os Paralamas Do Sucesso  \n",
              "3327                  O Rappa  \n",
              "2457                  Santana  \n",
              "587                  Ed Motta  "
            ],
            "text/html": [
              "\n",
              "  <div id=\"df-9f3aad5b-d68d-4318-883f-0ea12fae8378\">\n",
              "    <div class=\"colab-df-container\">\n",
              "      <div>\n",
              "<style scoped>\n",
              "    .dataframe tbody tr th:only-of-type {\n",
              "        vertical-align: middle;\n",
              "    }\n",
              "\n",
              "    .dataframe tbody tr th {\n",
              "        vertical-align: top;\n",
              "    }\n",
              "\n",
              "    .dataframe thead th {\n",
              "        text-align: right;\n",
              "    }\n",
              "</style>\n",
              "<table border=\"1\" class=\"dataframe\">\n",
              "  <thead>\n",
              "    <tr style=\"text-align: right;\">\n",
              "      <th></th>\n",
              "      <th>Track</th>\n",
              "      <th>Composer</th>\n",
              "      <th>Milliseconds</th>\n",
              "      <th>Bytes</th>\n",
              "      <th>UnitPrice</th>\n",
              "      <th>Genre</th>\n",
              "      <th>Album</th>\n",
              "      <th>Artist</th>\n",
              "    </tr>\n",
              "  </thead>\n",
              "  <tbody>\n",
              "    <tr>\n",
              "      <th>2947</th>\n",
              "      <td>Three Minutes</td>\n",
              "      <td>None</td>\n",
              "      <td>2763666</td>\n",
              "      <td>531556853</td>\n",
              "      <td>1.99</td>\n",
              "      <td>TV Shows</td>\n",
              "      <td>Lost, Season 2</td>\n",
              "      <td>Lost</td>\n",
              "    </tr>\n",
              "    <tr>\n",
              "      <th>98</th>\n",
              "      <td>Romance Ideal</td>\n",
              "      <td>NaN</td>\n",
              "      <td>250070</td>\n",
              "      <td>8260477</td>\n",
              "      <td>0.99</td>\n",
              "      <td>Latin</td>\n",
              "      <td>Arquivo Os Paralamas Do Sucesso</td>\n",
              "      <td>Os Paralamas Do Sucesso</td>\n",
              "    </tr>\n",
              "    <tr>\n",
              "      <th>3327</th>\n",
              "      <td>Todo o Carnaval tem seu Fim</td>\n",
              "      <td>None</td>\n",
              "      <td>237426</td>\n",
              "      <td>9499371</td>\n",
              "      <td>0.99</td>\n",
              "      <td>Electronica/Dance</td>\n",
              "      <td>Radio Brasil (O Som da Jovem Vanguarda) - Sele...</td>\n",
              "      <td>O Rappa</td>\n",
              "    </tr>\n",
              "    <tr>\n",
              "      <th>2457</th>\n",
              "      <td>We've Got To Get Together/Jingo</td>\n",
              "      <td>None</td>\n",
              "      <td>1070027</td>\n",
              "      <td>34618222</td>\n",
              "      <td>0.99</td>\n",
              "      <td>Rock</td>\n",
              "      <td>Santana Live</td>\n",
              "      <td>Santana</td>\n",
              "    </tr>\n",
              "    <tr>\n",
              "      <th>587</th>\n",
              "      <td>Vamos Dançar</td>\n",
              "      <td>None</td>\n",
              "      <td>226194</td>\n",
              "      <td>7617432</td>\n",
              "      <td>0.99</td>\n",
              "      <td>Latin</td>\n",
              "      <td>The Best of Ed Motta</td>\n",
              "      <td>Ed Motta</td>\n",
              "    </tr>\n",
              "  </tbody>\n",
              "</table>\n",
              "</div>\n",
              "      <button class=\"colab-df-convert\" onclick=\"convertToInteractive('df-9f3aad5b-d68d-4318-883f-0ea12fae8378')\"\n",
              "              title=\"Convert this dataframe to an interactive table.\"\n",
              "              style=\"display:none;\">\n",
              "        \n",
              "  <svg xmlns=\"http://www.w3.org/2000/svg\" height=\"24px\"viewBox=\"0 0 24 24\"\n",
              "       width=\"24px\">\n",
              "    <path d=\"M0 0h24v24H0V0z\" fill=\"none\"/>\n",
              "    <path d=\"M18.56 5.44l.94 2.06.94-2.06 2.06-.94-2.06-.94-.94-2.06-.94 2.06-2.06.94zm-11 1L8.5 8.5l.94-2.06 2.06-.94-2.06-.94L8.5 2.5l-.94 2.06-2.06.94zm10 10l.94 2.06.94-2.06 2.06-.94-2.06-.94-.94-2.06-.94 2.06-2.06.94z\"/><path d=\"M17.41 7.96l-1.37-1.37c-.4-.4-.92-.59-1.43-.59-.52 0-1.04.2-1.43.59L10.3 9.45l-7.72 7.72c-.78.78-.78 2.05 0 2.83L4 21.41c.39.39.9.59 1.41.59.51 0 1.02-.2 1.41-.59l7.78-7.78 2.81-2.81c.8-.78.8-2.07 0-2.86zM5.41 20L4 18.59l7.72-7.72 1.47 1.35L5.41 20z\"/>\n",
              "  </svg>\n",
              "      </button>\n",
              "      \n",
              "  <style>\n",
              "    .colab-df-container {\n",
              "      display:flex;\n",
              "      flex-wrap:wrap;\n",
              "      gap: 12px;\n",
              "    }\n",
              "\n",
              "    .colab-df-convert {\n",
              "      background-color: #E8F0FE;\n",
              "      border: none;\n",
              "      border-radius: 50%;\n",
              "      cursor: pointer;\n",
              "      display: none;\n",
              "      fill: #1967D2;\n",
              "      height: 32px;\n",
              "      padding: 0 0 0 0;\n",
              "      width: 32px;\n",
              "    }\n",
              "\n",
              "    .colab-df-convert:hover {\n",
              "      background-color: #E2EBFA;\n",
              "      box-shadow: 0px 1px 2px rgba(60, 64, 67, 0.3), 0px 1px 3px 1px rgba(60, 64, 67, 0.15);\n",
              "      fill: #174EA6;\n",
              "    }\n",
              "\n",
              "    [theme=dark] .colab-df-convert {\n",
              "      background-color: #3B4455;\n",
              "      fill: #D2E3FC;\n",
              "    }\n",
              "\n",
              "    [theme=dark] .colab-df-convert:hover {\n",
              "      background-color: #434B5C;\n",
              "      box-shadow: 0px 1px 3px 1px rgba(0, 0, 0, 0.15);\n",
              "      filter: drop-shadow(0px 1px 2px rgba(0, 0, 0, 0.3));\n",
              "      fill: #FFFFFF;\n",
              "    }\n",
              "  </style>\n",
              "\n",
              "      <script>\n",
              "        const buttonEl =\n",
              "          document.querySelector('#df-9f3aad5b-d68d-4318-883f-0ea12fae8378 button.colab-df-convert');\n",
              "        buttonEl.style.display =\n",
              "          google.colab.kernel.accessAllowed ? 'block' : 'none';\n",
              "\n",
              "        async function convertToInteractive(key) {\n",
              "          const element = document.querySelector('#df-9f3aad5b-d68d-4318-883f-0ea12fae8378');\n",
              "          const dataTable =\n",
              "            await google.colab.kernel.invokeFunction('convertToInteractive',\n",
              "                                                     [key], {});\n",
              "          if (!dataTable) return;\n",
              "\n",
              "          const docLinkHtml = 'Like what you see? Visit the ' +\n",
              "            '<a target=\"_blank\" href=https://colab.research.google.com/notebooks/data_table.ipynb>data table notebook</a>'\n",
              "            + ' to learn more about interactive tables.';\n",
              "          element.innerHTML = '';\n",
              "          dataTable['output_type'] = 'display_data';\n",
              "          await google.colab.output.renderOutput(dataTable, element);\n",
              "          const docLink = document.createElement('div');\n",
              "          docLink.innerHTML = docLinkHtml;\n",
              "          element.appendChild(docLink);\n",
              "        }\n",
              "      </script>\n",
              "    </div>\n",
              "  </div>\n",
              "  "
            ]
          },
          "metadata": {},
          "execution_count": 75
        }
      ]
    },
    {
      "cell_type": "markdown",
      "source": [
        "Podemos descartar as linhas com valores ausentes"
      ],
      "metadata": {
        "id": "PB5lcJnPb1eR"
      }
    },
    {
      "cell_type": "code",
      "execution_count": null,
      "metadata": {
        "id": "Mm49SXuUMn_s",
        "outputId": "b0dd2273-4ac7-4043-8477-2ef89c145085",
        "colab": {
          "base_uri": "https://localhost:8080/"
        }
      },
      "outputs": [
        {
          "output_type": "stream",
          "name": "stdout",
          "text": [
            "(4021, 8)\n",
            "(2908, 8)\n"
          ]
        }
      ],
      "source": [
        "itunes_df_copy = itunes_df.copy()  # make a backup for testing dropping a column\n",
        "# print shapes to check that rows were dropped\n",
        "print(itunes_df_copy.shape)\n",
        "itunes_df_copy.dropna(inplace=True)\n",
        "print(itunes_df_copy.shape)"
      ]
    },
    {
      "cell_type": "code",
      "source": [
        "itunes_df_copy[itunes_df_copy['Composer'].isna()]"
      ],
      "metadata": {
        "colab": {
          "base_uri": "https://localhost:8080/",
          "height": 49
        },
        "id": "CGZ-z95IvBh_",
        "outputId": "02cba1df-8127-4bfc-d26b-2ae3a179cf2c"
      },
      "execution_count": null,
      "outputs": [
        {
          "output_type": "execute_result",
          "data": {
            "text/plain": [
              "Empty DataFrame\n",
              "Columns: [Track, Composer, Milliseconds, Bytes, UnitPrice, Genre, Album, Artist]\n",
              "Index: []"
            ],
            "text/html": [
              "\n",
              "  <div id=\"df-9638b951-c804-4dce-9ee9-5884f7f0aedd\">\n",
              "    <div class=\"colab-df-container\">\n",
              "      <div>\n",
              "<style scoped>\n",
              "    .dataframe tbody tr th:only-of-type {\n",
              "        vertical-align: middle;\n",
              "    }\n",
              "\n",
              "    .dataframe tbody tr th {\n",
              "        vertical-align: top;\n",
              "    }\n",
              "\n",
              "    .dataframe thead th {\n",
              "        text-align: right;\n",
              "    }\n",
              "</style>\n",
              "<table border=\"1\" class=\"dataframe\">\n",
              "  <thead>\n",
              "    <tr style=\"text-align: right;\">\n",
              "      <th></th>\n",
              "      <th>Track</th>\n",
              "      <th>Composer</th>\n",
              "      <th>Milliseconds</th>\n",
              "      <th>Bytes</th>\n",
              "      <th>UnitPrice</th>\n",
              "      <th>Genre</th>\n",
              "      <th>Album</th>\n",
              "      <th>Artist</th>\n",
              "    </tr>\n",
              "  </thead>\n",
              "  <tbody>\n",
              "  </tbody>\n",
              "</table>\n",
              "</div>\n",
              "      <button class=\"colab-df-convert\" onclick=\"convertToInteractive('df-9638b951-c804-4dce-9ee9-5884f7f0aedd')\"\n",
              "              title=\"Convert this dataframe to an interactive table.\"\n",
              "              style=\"display:none;\">\n",
              "        \n",
              "  <svg xmlns=\"http://www.w3.org/2000/svg\" height=\"24px\"viewBox=\"0 0 24 24\"\n",
              "       width=\"24px\">\n",
              "    <path d=\"M0 0h24v24H0V0z\" fill=\"none\"/>\n",
              "    <path d=\"M18.56 5.44l.94 2.06.94-2.06 2.06-.94-2.06-.94-.94-2.06-.94 2.06-2.06.94zm-11 1L8.5 8.5l.94-2.06 2.06-.94-2.06-.94L8.5 2.5l-.94 2.06-2.06.94zm10 10l.94 2.06.94-2.06 2.06-.94-2.06-.94-.94-2.06-.94 2.06-2.06.94z\"/><path d=\"M17.41 7.96l-1.37-1.37c-.4-.4-.92-.59-1.43-.59-.52 0-1.04.2-1.43.59L10.3 9.45l-7.72 7.72c-.78.78-.78 2.05 0 2.83L4 21.41c.39.39.9.59 1.41.59.51 0 1.02-.2 1.41-.59l7.78-7.78 2.81-2.81c.8-.78.8-2.07 0-2.86zM5.41 20L4 18.59l7.72-7.72 1.47 1.35L5.41 20z\"/>\n",
              "  </svg>\n",
              "      </button>\n",
              "      \n",
              "  <style>\n",
              "    .colab-df-container {\n",
              "      display:flex;\n",
              "      flex-wrap:wrap;\n",
              "      gap: 12px;\n",
              "    }\n",
              "\n",
              "    .colab-df-convert {\n",
              "      background-color: #E8F0FE;\n",
              "      border: none;\n",
              "      border-radius: 50%;\n",
              "      cursor: pointer;\n",
              "      display: none;\n",
              "      fill: #1967D2;\n",
              "      height: 32px;\n",
              "      padding: 0 0 0 0;\n",
              "      width: 32px;\n",
              "    }\n",
              "\n",
              "    .colab-df-convert:hover {\n",
              "      background-color: #E2EBFA;\n",
              "      box-shadow: 0px 1px 2px rgba(60, 64, 67, 0.3), 0px 1px 3px 1px rgba(60, 64, 67, 0.15);\n",
              "      fill: #174EA6;\n",
              "    }\n",
              "\n",
              "    [theme=dark] .colab-df-convert {\n",
              "      background-color: #3B4455;\n",
              "      fill: #D2E3FC;\n",
              "    }\n",
              "\n",
              "    [theme=dark] .colab-df-convert:hover {\n",
              "      background-color: #434B5C;\n",
              "      box-shadow: 0px 1px 3px 1px rgba(0, 0, 0, 0.15);\n",
              "      filter: drop-shadow(0px 1px 2px rgba(0, 0, 0, 0.3));\n",
              "      fill: #FFFFFF;\n",
              "    }\n",
              "  </style>\n",
              "\n",
              "      <script>\n",
              "        const buttonEl =\n",
              "          document.querySelector('#df-9638b951-c804-4dce-9ee9-5884f7f0aedd button.colab-df-convert');\n",
              "        buttonEl.style.display =\n",
              "          google.colab.kernel.accessAllowed ? 'block' : 'none';\n",
              "\n",
              "        async function convertToInteractive(key) {\n",
              "          const element = document.querySelector('#df-9638b951-c804-4dce-9ee9-5884f7f0aedd');\n",
              "          const dataTable =\n",
              "            await google.colab.kernel.invokeFunction('convertToInteractive',\n",
              "                                                     [key], {});\n",
              "          if (!dataTable) return;\n",
              "\n",
              "          const docLinkHtml = 'Like what you see? Visit the ' +\n",
              "            '<a target=\"_blank\" href=https://colab.research.google.com/notebooks/data_table.ipynb>data table notebook</a>'\n",
              "            + ' to learn more about interactive tables.';\n",
              "          element.innerHTML = '';\n",
              "          dataTable['output_type'] = 'display_data';\n",
              "          await google.colab.output.renderOutput(dataTable, element);\n",
              "          const docLink = document.createElement('div');\n",
              "          docLink.innerHTML = docLinkHtml;\n",
              "          element.appendChild(docLink);\n",
              "        }\n",
              "      </script>\n",
              "    </div>\n",
              "  </div>\n",
              "  "
            ]
          },
          "metadata": {},
          "execution_count": 78
        }
      ]
    },
    {
      "cell_type": "markdown",
      "source": [
        "Preencher com algum valor"
      ],
      "metadata": {
        "id": "p5Kz8cDEvM7e"
      }
    },
    {
      "cell_type": "code",
      "source": [
        "itunes_df_copy = itunes_df.copy()  # make a backup for testing inserting in a column\n",
        "itunes_df_copy[itunes_df['Composer'].isna()]['Composer'] = 'Unknown'\n",
        "itunes_df_copy.head()\n",
        "\n",
        "#não funciona"
      ],
      "metadata": {
        "colab": {
          "base_uri": "https://localhost:8080/",
          "height": 478
        },
        "id": "mQNIFi7TvKd9",
        "outputId": "2c4d2e20-7b60-4c25-c394-ba7bab84fd69"
      },
      "execution_count": null,
      "outputs": [
        {
          "output_type": "stream",
          "name": "stderr",
          "text": [
            "/usr/local/lib/python3.7/dist-packages/ipykernel_launcher.py:2: SettingWithCopyWarning: \n",
            "A value is trying to be set on a copy of a slice from a DataFrame.\n",
            "Try using .loc[row_indexer,col_indexer] = value instead\n",
            "\n",
            "See the caveats in the documentation: https://pandas.pydata.org/pandas-docs/stable/user_guide/indexing.html#returning-a-view-versus-a-copy\n",
            "  \n"
          ]
        },
        {
          "output_type": "execute_result",
          "data": {
            "text/plain": [
              "                                    Track                           Composer  \\\n",
              "0  All the Best Cowboys Have Daddy Issues                                NaN   \n",
              "1                               Beira Mar                       Gilberto Gil   \n",
              "2                                  Brasil  Milton Nascimento, Fernando Brant   \n",
              "3                            Ben Franklin                                NaN   \n",
              "4            O Último Romântico (Ao Vivo)                                NaN   \n",
              "\n",
              "   Milliseconds      Bytes  UnitPrice     Genre  \\\n",
              "0       2555492  211743651       1.99  TV Shows   \n",
              "1        295444    9597994       0.99     Latin   \n",
              "2        155428    5252560       0.99     Latin   \n",
              "3       1271938  264168080       1.99    Comedy   \n",
              "4        231993    7692697       0.99     Latin   \n",
              "\n",
              "                                             Album             Artist  \n",
              "0                                   Lost, Season 1               Lost  \n",
              "1                                        Unplugged       Eric Clapton  \n",
              "2                        Milton Nascimento Ao Vivo  Milton Nascimento  \n",
              "3                             The Office, Season 3         The Office  \n",
              "4  Lulu Santos - RCA 100 Anos De Música - Álbum 02        Lulu Santos  "
            ],
            "text/html": [
              "\n",
              "  <div id=\"df-9cf23587-7fa0-4443-bd5b-c706ce0ae0b9\">\n",
              "    <div class=\"colab-df-container\">\n",
              "      <div>\n",
              "<style scoped>\n",
              "    .dataframe tbody tr th:only-of-type {\n",
              "        vertical-align: middle;\n",
              "    }\n",
              "\n",
              "    .dataframe tbody tr th {\n",
              "        vertical-align: top;\n",
              "    }\n",
              "\n",
              "    .dataframe thead th {\n",
              "        text-align: right;\n",
              "    }\n",
              "</style>\n",
              "<table border=\"1\" class=\"dataframe\">\n",
              "  <thead>\n",
              "    <tr style=\"text-align: right;\">\n",
              "      <th></th>\n",
              "      <th>Track</th>\n",
              "      <th>Composer</th>\n",
              "      <th>Milliseconds</th>\n",
              "      <th>Bytes</th>\n",
              "      <th>UnitPrice</th>\n",
              "      <th>Genre</th>\n",
              "      <th>Album</th>\n",
              "      <th>Artist</th>\n",
              "    </tr>\n",
              "  </thead>\n",
              "  <tbody>\n",
              "    <tr>\n",
              "      <th>0</th>\n",
              "      <td>All the Best Cowboys Have Daddy Issues</td>\n",
              "      <td>NaN</td>\n",
              "      <td>2555492</td>\n",
              "      <td>211743651</td>\n",
              "      <td>1.99</td>\n",
              "      <td>TV Shows</td>\n",
              "      <td>Lost, Season 1</td>\n",
              "      <td>Lost</td>\n",
              "    </tr>\n",
              "    <tr>\n",
              "      <th>1</th>\n",
              "      <td>Beira Mar</td>\n",
              "      <td>Gilberto Gil</td>\n",
              "      <td>295444</td>\n",
              "      <td>9597994</td>\n",
              "      <td>0.99</td>\n",
              "      <td>Latin</td>\n",
              "      <td>Unplugged</td>\n",
              "      <td>Eric Clapton</td>\n",
              "    </tr>\n",
              "    <tr>\n",
              "      <th>2</th>\n",
              "      <td>Brasil</td>\n",
              "      <td>Milton Nascimento, Fernando Brant</td>\n",
              "      <td>155428</td>\n",
              "      <td>5252560</td>\n",
              "      <td>0.99</td>\n",
              "      <td>Latin</td>\n",
              "      <td>Milton Nascimento Ao Vivo</td>\n",
              "      <td>Milton Nascimento</td>\n",
              "    </tr>\n",
              "    <tr>\n",
              "      <th>3</th>\n",
              "      <td>Ben Franklin</td>\n",
              "      <td>NaN</td>\n",
              "      <td>1271938</td>\n",
              "      <td>264168080</td>\n",
              "      <td>1.99</td>\n",
              "      <td>Comedy</td>\n",
              "      <td>The Office, Season 3</td>\n",
              "      <td>The Office</td>\n",
              "    </tr>\n",
              "    <tr>\n",
              "      <th>4</th>\n",
              "      <td>O Último Romântico (Ao Vivo)</td>\n",
              "      <td>NaN</td>\n",
              "      <td>231993</td>\n",
              "      <td>7692697</td>\n",
              "      <td>0.99</td>\n",
              "      <td>Latin</td>\n",
              "      <td>Lulu Santos - RCA 100 Anos De Música - Álbum 02</td>\n",
              "      <td>Lulu Santos</td>\n",
              "    </tr>\n",
              "  </tbody>\n",
              "</table>\n",
              "</div>\n",
              "      <button class=\"colab-df-convert\" onclick=\"convertToInteractive('df-9cf23587-7fa0-4443-bd5b-c706ce0ae0b9')\"\n",
              "              title=\"Convert this dataframe to an interactive table.\"\n",
              "              style=\"display:none;\">\n",
              "        \n",
              "  <svg xmlns=\"http://www.w3.org/2000/svg\" height=\"24px\"viewBox=\"0 0 24 24\"\n",
              "       width=\"24px\">\n",
              "    <path d=\"M0 0h24v24H0V0z\" fill=\"none\"/>\n",
              "    <path d=\"M18.56 5.44l.94 2.06.94-2.06 2.06-.94-2.06-.94-.94-2.06-.94 2.06-2.06.94zm-11 1L8.5 8.5l.94-2.06 2.06-.94-2.06-.94L8.5 2.5l-.94 2.06-2.06.94zm10 10l.94 2.06.94-2.06 2.06-.94-2.06-.94-.94-2.06-.94 2.06-2.06.94z\"/><path d=\"M17.41 7.96l-1.37-1.37c-.4-.4-.92-.59-1.43-.59-.52 0-1.04.2-1.43.59L10.3 9.45l-7.72 7.72c-.78.78-.78 2.05 0 2.83L4 21.41c.39.39.9.59 1.41.59.51 0 1.02-.2 1.41-.59l7.78-7.78 2.81-2.81c.8-.78.8-2.07 0-2.86zM5.41 20L4 18.59l7.72-7.72 1.47 1.35L5.41 20z\"/>\n",
              "  </svg>\n",
              "      </button>\n",
              "      \n",
              "  <style>\n",
              "    .colab-df-container {\n",
              "      display:flex;\n",
              "      flex-wrap:wrap;\n",
              "      gap: 12px;\n",
              "    }\n",
              "\n",
              "    .colab-df-convert {\n",
              "      background-color: #E8F0FE;\n",
              "      border: none;\n",
              "      border-radius: 50%;\n",
              "      cursor: pointer;\n",
              "      display: none;\n",
              "      fill: #1967D2;\n",
              "      height: 32px;\n",
              "      padding: 0 0 0 0;\n",
              "      width: 32px;\n",
              "    }\n",
              "\n",
              "    .colab-df-convert:hover {\n",
              "      background-color: #E2EBFA;\n",
              "      box-shadow: 0px 1px 2px rgba(60, 64, 67, 0.3), 0px 1px 3px 1px rgba(60, 64, 67, 0.15);\n",
              "      fill: #174EA6;\n",
              "    }\n",
              "\n",
              "    [theme=dark] .colab-df-convert {\n",
              "      background-color: #3B4455;\n",
              "      fill: #D2E3FC;\n",
              "    }\n",
              "\n",
              "    [theme=dark] .colab-df-convert:hover {\n",
              "      background-color: #434B5C;\n",
              "      box-shadow: 0px 1px 3px 1px rgba(0, 0, 0, 0.15);\n",
              "      filter: drop-shadow(0px 1px 2px rgba(0, 0, 0, 0.3));\n",
              "      fill: #FFFFFF;\n",
              "    }\n",
              "  </style>\n",
              "\n",
              "      <script>\n",
              "        const buttonEl =\n",
              "          document.querySelector('#df-9cf23587-7fa0-4443-bd5b-c706ce0ae0b9 button.colab-df-convert');\n",
              "        buttonEl.style.display =\n",
              "          google.colab.kernel.accessAllowed ? 'block' : 'none';\n",
              "\n",
              "        async function convertToInteractive(key) {\n",
              "          const element = document.querySelector('#df-9cf23587-7fa0-4443-bd5b-c706ce0ae0b9');\n",
              "          const dataTable =\n",
              "            await google.colab.kernel.invokeFunction('convertToInteractive',\n",
              "                                                     [key], {});\n",
              "          if (!dataTable) return;\n",
              "\n",
              "          const docLinkHtml = 'Like what you see? Visit the ' +\n",
              "            '<a target=\"_blank\" href=https://colab.research.google.com/notebooks/data_table.ipynb>data table notebook</a>'\n",
              "            + ' to learn more about interactive tables.';\n",
              "          element.innerHTML = '';\n",
              "          dataTable['output_type'] = 'display_data';\n",
              "          await google.colab.output.renderOutput(dataTable, element);\n",
              "          const docLink = document.createElement('div');\n",
              "          docLink.innerHTML = docLinkHtml;\n",
              "          element.appendChild(docLink);\n",
              "        }\n",
              "      </script>\n",
              "    </div>\n",
              "  </div>\n",
              "  "
            ]
          },
          "metadata": {},
          "execution_count": 79
        }
      ]
    },
    {
      "cell_type": "markdown",
      "source": [
        "O correto é usar a função loc"
      ],
      "metadata": {
        "id": "YWdkIyW2vqXa"
      }
    },
    {
      "cell_type": "code",
      "source": [
        "itunes_df_copy = itunes_df.copy()  # make a backup for testing inserting in a column\n",
        "itunes_df_copy.loc[itunes_df['Composer'].isna(), 'Composer'] = 'Unknown'\n",
        "itunes_df_copy.head()"
      ],
      "metadata": {
        "colab": {
          "base_uri": "https://localhost:8080/",
          "height": 354
        },
        "id": "eJ6t2ly2vsOi",
        "outputId": "c5ac0d98-9a0b-4c0e-e3fb-a8b6f6d06043"
      },
      "execution_count": null,
      "outputs": [
        {
          "output_type": "execute_result",
          "data": {
            "text/plain": [
              "                                    Track                           Composer  \\\n",
              "0  All the Best Cowboys Have Daddy Issues                            Unknown   \n",
              "1                               Beira Mar                       Gilberto Gil   \n",
              "2                                  Brasil  Milton Nascimento, Fernando Brant   \n",
              "3                            Ben Franklin                            Unknown   \n",
              "4            O Último Romântico (Ao Vivo)                            Unknown   \n",
              "\n",
              "   Milliseconds      Bytes  UnitPrice     Genre  \\\n",
              "0       2555492  211743651       1.99  TV Shows   \n",
              "1        295444    9597994       0.99     Latin   \n",
              "2        155428    5252560       0.99     Latin   \n",
              "3       1271938  264168080       1.99    Comedy   \n",
              "4        231993    7692697       0.99     Latin   \n",
              "\n",
              "                                             Album             Artist  \n",
              "0                                   Lost, Season 1               Lost  \n",
              "1                                        Unplugged       Eric Clapton  \n",
              "2                        Milton Nascimento Ao Vivo  Milton Nascimento  \n",
              "3                             The Office, Season 3         The Office  \n",
              "4  Lulu Santos - RCA 100 Anos De Música - Álbum 02        Lulu Santos  "
            ],
            "text/html": [
              "\n",
              "  <div id=\"df-1bd5e773-3e3a-44db-aa2f-8bd08b66297a\">\n",
              "    <div class=\"colab-df-container\">\n",
              "      <div>\n",
              "<style scoped>\n",
              "    .dataframe tbody tr th:only-of-type {\n",
              "        vertical-align: middle;\n",
              "    }\n",
              "\n",
              "    .dataframe tbody tr th {\n",
              "        vertical-align: top;\n",
              "    }\n",
              "\n",
              "    .dataframe thead th {\n",
              "        text-align: right;\n",
              "    }\n",
              "</style>\n",
              "<table border=\"1\" class=\"dataframe\">\n",
              "  <thead>\n",
              "    <tr style=\"text-align: right;\">\n",
              "      <th></th>\n",
              "      <th>Track</th>\n",
              "      <th>Composer</th>\n",
              "      <th>Milliseconds</th>\n",
              "      <th>Bytes</th>\n",
              "      <th>UnitPrice</th>\n",
              "      <th>Genre</th>\n",
              "      <th>Album</th>\n",
              "      <th>Artist</th>\n",
              "    </tr>\n",
              "  </thead>\n",
              "  <tbody>\n",
              "    <tr>\n",
              "      <th>0</th>\n",
              "      <td>All the Best Cowboys Have Daddy Issues</td>\n",
              "      <td>Unknown</td>\n",
              "      <td>2555492</td>\n",
              "      <td>211743651</td>\n",
              "      <td>1.99</td>\n",
              "      <td>TV Shows</td>\n",
              "      <td>Lost, Season 1</td>\n",
              "      <td>Lost</td>\n",
              "    </tr>\n",
              "    <tr>\n",
              "      <th>1</th>\n",
              "      <td>Beira Mar</td>\n",
              "      <td>Gilberto Gil</td>\n",
              "      <td>295444</td>\n",
              "      <td>9597994</td>\n",
              "      <td>0.99</td>\n",
              "      <td>Latin</td>\n",
              "      <td>Unplugged</td>\n",
              "      <td>Eric Clapton</td>\n",
              "    </tr>\n",
              "    <tr>\n",
              "      <th>2</th>\n",
              "      <td>Brasil</td>\n",
              "      <td>Milton Nascimento, Fernando Brant</td>\n",
              "      <td>155428</td>\n",
              "      <td>5252560</td>\n",
              "      <td>0.99</td>\n",
              "      <td>Latin</td>\n",
              "      <td>Milton Nascimento Ao Vivo</td>\n",
              "      <td>Milton Nascimento</td>\n",
              "    </tr>\n",
              "    <tr>\n",
              "      <th>3</th>\n",
              "      <td>Ben Franklin</td>\n",
              "      <td>Unknown</td>\n",
              "      <td>1271938</td>\n",
              "      <td>264168080</td>\n",
              "      <td>1.99</td>\n",
              "      <td>Comedy</td>\n",
              "      <td>The Office, Season 3</td>\n",
              "      <td>The Office</td>\n",
              "    </tr>\n",
              "    <tr>\n",
              "      <th>4</th>\n",
              "      <td>O Último Romântico (Ao Vivo)</td>\n",
              "      <td>Unknown</td>\n",
              "      <td>231993</td>\n",
              "      <td>7692697</td>\n",
              "      <td>0.99</td>\n",
              "      <td>Latin</td>\n",
              "      <td>Lulu Santos - RCA 100 Anos De Música - Álbum 02</td>\n",
              "      <td>Lulu Santos</td>\n",
              "    </tr>\n",
              "  </tbody>\n",
              "</table>\n",
              "</div>\n",
              "      <button class=\"colab-df-convert\" onclick=\"convertToInteractive('df-1bd5e773-3e3a-44db-aa2f-8bd08b66297a')\"\n",
              "              title=\"Convert this dataframe to an interactive table.\"\n",
              "              style=\"display:none;\">\n",
              "        \n",
              "  <svg xmlns=\"http://www.w3.org/2000/svg\" height=\"24px\"viewBox=\"0 0 24 24\"\n",
              "       width=\"24px\">\n",
              "    <path d=\"M0 0h24v24H0V0z\" fill=\"none\"/>\n",
              "    <path d=\"M18.56 5.44l.94 2.06.94-2.06 2.06-.94-2.06-.94-.94-2.06-.94 2.06-2.06.94zm-11 1L8.5 8.5l.94-2.06 2.06-.94-2.06-.94L8.5 2.5l-.94 2.06-2.06.94zm10 10l.94 2.06.94-2.06 2.06-.94-2.06-.94-.94-2.06-.94 2.06-2.06.94z\"/><path d=\"M17.41 7.96l-1.37-1.37c-.4-.4-.92-.59-1.43-.59-.52 0-1.04.2-1.43.59L10.3 9.45l-7.72 7.72c-.78.78-.78 2.05 0 2.83L4 21.41c.39.39.9.59 1.41.59.51 0 1.02-.2 1.41-.59l7.78-7.78 2.81-2.81c.8-.78.8-2.07 0-2.86zM5.41 20L4 18.59l7.72-7.72 1.47 1.35L5.41 20z\"/>\n",
              "  </svg>\n",
              "      </button>\n",
              "      \n",
              "  <style>\n",
              "    .colab-df-container {\n",
              "      display:flex;\n",
              "      flex-wrap:wrap;\n",
              "      gap: 12px;\n",
              "    }\n",
              "\n",
              "    .colab-df-convert {\n",
              "      background-color: #E8F0FE;\n",
              "      border: none;\n",
              "      border-radius: 50%;\n",
              "      cursor: pointer;\n",
              "      display: none;\n",
              "      fill: #1967D2;\n",
              "      height: 32px;\n",
              "      padding: 0 0 0 0;\n",
              "      width: 32px;\n",
              "    }\n",
              "\n",
              "    .colab-df-convert:hover {\n",
              "      background-color: #E2EBFA;\n",
              "      box-shadow: 0px 1px 2px rgba(60, 64, 67, 0.3), 0px 1px 3px 1px rgba(60, 64, 67, 0.15);\n",
              "      fill: #174EA6;\n",
              "    }\n",
              "\n",
              "    [theme=dark] .colab-df-convert {\n",
              "      background-color: #3B4455;\n",
              "      fill: #D2E3FC;\n",
              "    }\n",
              "\n",
              "    [theme=dark] .colab-df-convert:hover {\n",
              "      background-color: #434B5C;\n",
              "      box-shadow: 0px 1px 3px 1px rgba(0, 0, 0, 0.15);\n",
              "      filter: drop-shadow(0px 1px 2px rgba(0, 0, 0, 0.3));\n",
              "      fill: #FFFFFF;\n",
              "    }\n",
              "  </style>\n",
              "\n",
              "      <script>\n",
              "        const buttonEl =\n",
              "          document.querySelector('#df-1bd5e773-3e3a-44db-aa2f-8bd08b66297a button.colab-df-convert');\n",
              "        buttonEl.style.display =\n",
              "          google.colab.kernel.accessAllowed ? 'block' : 'none';\n",
              "\n",
              "        async function convertToInteractive(key) {\n",
              "          const element = document.querySelector('#df-1bd5e773-3e3a-44db-aa2f-8bd08b66297a');\n",
              "          const dataTable =\n",
              "            await google.colab.kernel.invokeFunction('convertToInteractive',\n",
              "                                                     [key], {});\n",
              "          if (!dataTable) return;\n",
              "\n",
              "          const docLinkHtml = 'Like what you see? Visit the ' +\n",
              "            '<a target=\"_blank\" href=https://colab.research.google.com/notebooks/data_table.ipynb>data table notebook</a>'\n",
              "            + ' to learn more about interactive tables.';\n",
              "          element.innerHTML = '';\n",
              "          dataTable['output_type'] = 'display_data';\n",
              "          await google.colab.output.renderOutput(dataTable, element);\n",
              "          const docLink = document.createElement('div');\n",
              "          docLink.innerHTML = docLinkHtml;\n",
              "          element.appendChild(docLink);\n",
              "        }\n",
              "      </script>\n",
              "    </div>\n",
              "  </div>\n",
              "  "
            ]
          },
          "metadata": {},
          "execution_count": 81
        }
      ]
    },
    {
      "cell_type": "code",
      "source": [
        "itunes_df_copy = itunes_df.copy()  # make a backup for testing dropping a column\n",
        "itunes_df_copy['Composer'].fillna('Unknown', inplace=True)\n",
        "itunes_df_copy.head()"
      ],
      "metadata": {
        "colab": {
          "base_uri": "https://localhost:8080/",
          "height": 354
        },
        "id": "R_BFlV_Zv7Wj",
        "outputId": "45ee9081-17ab-41b3-b229-5871360a7aa7"
      },
      "execution_count": null,
      "outputs": [
        {
          "output_type": "execute_result",
          "data": {
            "text/plain": [
              "                                    Track                           Composer  \\\n",
              "0  All the Best Cowboys Have Daddy Issues                            Unknown   \n",
              "1                               Beira Mar                       Gilberto Gil   \n",
              "2                                  Brasil  Milton Nascimento, Fernando Brant   \n",
              "3                            Ben Franklin                            Unknown   \n",
              "4            O Último Romântico (Ao Vivo)                            Unknown   \n",
              "\n",
              "   Milliseconds      Bytes  UnitPrice     Genre  \\\n",
              "0       2555492  211743651       1.99  TV Shows   \n",
              "1        295444    9597994       0.99     Latin   \n",
              "2        155428    5252560       0.99     Latin   \n",
              "3       1271938  264168080       1.99    Comedy   \n",
              "4        231993    7692697       0.99     Latin   \n",
              "\n",
              "                                             Album             Artist  \n",
              "0                                   Lost, Season 1               Lost  \n",
              "1                                        Unplugged       Eric Clapton  \n",
              "2                        Milton Nascimento Ao Vivo  Milton Nascimento  \n",
              "3                             The Office, Season 3         The Office  \n",
              "4  Lulu Santos - RCA 100 Anos De Música - Álbum 02        Lulu Santos  "
            ],
            "text/html": [
              "\n",
              "  <div id=\"df-7f30187c-75b2-4292-9a21-517ab28993c9\">\n",
              "    <div class=\"colab-df-container\">\n",
              "      <div>\n",
              "<style scoped>\n",
              "    .dataframe tbody tr th:only-of-type {\n",
              "        vertical-align: middle;\n",
              "    }\n",
              "\n",
              "    .dataframe tbody tr th {\n",
              "        vertical-align: top;\n",
              "    }\n",
              "\n",
              "    .dataframe thead th {\n",
              "        text-align: right;\n",
              "    }\n",
              "</style>\n",
              "<table border=\"1\" class=\"dataframe\">\n",
              "  <thead>\n",
              "    <tr style=\"text-align: right;\">\n",
              "      <th></th>\n",
              "      <th>Track</th>\n",
              "      <th>Composer</th>\n",
              "      <th>Milliseconds</th>\n",
              "      <th>Bytes</th>\n",
              "      <th>UnitPrice</th>\n",
              "      <th>Genre</th>\n",
              "      <th>Album</th>\n",
              "      <th>Artist</th>\n",
              "    </tr>\n",
              "  </thead>\n",
              "  <tbody>\n",
              "    <tr>\n",
              "      <th>0</th>\n",
              "      <td>All the Best Cowboys Have Daddy Issues</td>\n",
              "      <td>Unknown</td>\n",
              "      <td>2555492</td>\n",
              "      <td>211743651</td>\n",
              "      <td>1.99</td>\n",
              "      <td>TV Shows</td>\n",
              "      <td>Lost, Season 1</td>\n",
              "      <td>Lost</td>\n",
              "    </tr>\n",
              "    <tr>\n",
              "      <th>1</th>\n",
              "      <td>Beira Mar</td>\n",
              "      <td>Gilberto Gil</td>\n",
              "      <td>295444</td>\n",
              "      <td>9597994</td>\n",
              "      <td>0.99</td>\n",
              "      <td>Latin</td>\n",
              "      <td>Unplugged</td>\n",
              "      <td>Eric Clapton</td>\n",
              "    </tr>\n",
              "    <tr>\n",
              "      <th>2</th>\n",
              "      <td>Brasil</td>\n",
              "      <td>Milton Nascimento, Fernando Brant</td>\n",
              "      <td>155428</td>\n",
              "      <td>5252560</td>\n",
              "      <td>0.99</td>\n",
              "      <td>Latin</td>\n",
              "      <td>Milton Nascimento Ao Vivo</td>\n",
              "      <td>Milton Nascimento</td>\n",
              "    </tr>\n",
              "    <tr>\n",
              "      <th>3</th>\n",
              "      <td>Ben Franklin</td>\n",
              "      <td>Unknown</td>\n",
              "      <td>1271938</td>\n",
              "      <td>264168080</td>\n",
              "      <td>1.99</td>\n",
              "      <td>Comedy</td>\n",
              "      <td>The Office, Season 3</td>\n",
              "      <td>The Office</td>\n",
              "    </tr>\n",
              "    <tr>\n",
              "      <th>4</th>\n",
              "      <td>O Último Romântico (Ao Vivo)</td>\n",
              "      <td>Unknown</td>\n",
              "      <td>231993</td>\n",
              "      <td>7692697</td>\n",
              "      <td>0.99</td>\n",
              "      <td>Latin</td>\n",
              "      <td>Lulu Santos - RCA 100 Anos De Música - Álbum 02</td>\n",
              "      <td>Lulu Santos</td>\n",
              "    </tr>\n",
              "  </tbody>\n",
              "</table>\n",
              "</div>\n",
              "      <button class=\"colab-df-convert\" onclick=\"convertToInteractive('df-7f30187c-75b2-4292-9a21-517ab28993c9')\"\n",
              "              title=\"Convert this dataframe to an interactive table.\"\n",
              "              style=\"display:none;\">\n",
              "        \n",
              "  <svg xmlns=\"http://www.w3.org/2000/svg\" height=\"24px\"viewBox=\"0 0 24 24\"\n",
              "       width=\"24px\">\n",
              "    <path d=\"M0 0h24v24H0V0z\" fill=\"none\"/>\n",
              "    <path d=\"M18.56 5.44l.94 2.06.94-2.06 2.06-.94-2.06-.94-.94-2.06-.94 2.06-2.06.94zm-11 1L8.5 8.5l.94-2.06 2.06-.94-2.06-.94L8.5 2.5l-.94 2.06-2.06.94zm10 10l.94 2.06.94-2.06 2.06-.94-2.06-.94-.94-2.06-.94 2.06-2.06.94z\"/><path d=\"M17.41 7.96l-1.37-1.37c-.4-.4-.92-.59-1.43-.59-.52 0-1.04.2-1.43.59L10.3 9.45l-7.72 7.72c-.78.78-.78 2.05 0 2.83L4 21.41c.39.39.9.59 1.41.59.51 0 1.02-.2 1.41-.59l7.78-7.78 2.81-2.81c.8-.78.8-2.07 0-2.86zM5.41 20L4 18.59l7.72-7.72 1.47 1.35L5.41 20z\"/>\n",
              "  </svg>\n",
              "      </button>\n",
              "      \n",
              "  <style>\n",
              "    .colab-df-container {\n",
              "      display:flex;\n",
              "      flex-wrap:wrap;\n",
              "      gap: 12px;\n",
              "    }\n",
              "\n",
              "    .colab-df-convert {\n",
              "      background-color: #E8F0FE;\n",
              "      border: none;\n",
              "      border-radius: 50%;\n",
              "      cursor: pointer;\n",
              "      display: none;\n",
              "      fill: #1967D2;\n",
              "      height: 32px;\n",
              "      padding: 0 0 0 0;\n",
              "      width: 32px;\n",
              "    }\n",
              "\n",
              "    .colab-df-convert:hover {\n",
              "      background-color: #E2EBFA;\n",
              "      box-shadow: 0px 1px 2px rgba(60, 64, 67, 0.3), 0px 1px 3px 1px rgba(60, 64, 67, 0.15);\n",
              "      fill: #174EA6;\n",
              "    }\n",
              "\n",
              "    [theme=dark] .colab-df-convert {\n",
              "      background-color: #3B4455;\n",
              "      fill: #D2E3FC;\n",
              "    }\n",
              "\n",
              "    [theme=dark] .colab-df-convert:hover {\n",
              "      background-color: #434B5C;\n",
              "      box-shadow: 0px 1px 3px 1px rgba(0, 0, 0, 0.15);\n",
              "      filter: drop-shadow(0px 1px 2px rgba(0, 0, 0, 0.3));\n",
              "      fill: #FFFFFF;\n",
              "    }\n",
              "  </style>\n",
              "\n",
              "      <script>\n",
              "        const buttonEl =\n",
              "          document.querySelector('#df-7f30187c-75b2-4292-9a21-517ab28993c9 button.colab-df-convert');\n",
              "        buttonEl.style.display =\n",
              "          google.colab.kernel.accessAllowed ? 'block' : 'none';\n",
              "\n",
              "        async function convertToInteractive(key) {\n",
              "          const element = document.querySelector('#df-7f30187c-75b2-4292-9a21-517ab28993c9');\n",
              "          const dataTable =\n",
              "            await google.colab.kernel.invokeFunction('convertToInteractive',\n",
              "                                                     [key], {});\n",
              "          if (!dataTable) return;\n",
              "\n",
              "          const docLinkHtml = 'Like what you see? Visit the ' +\n",
              "            '<a target=\"_blank\" href=https://colab.research.google.com/notebooks/data_table.ipynb>data table notebook</a>'\n",
              "            + ' to learn more about interactive tables.';\n",
              "          element.innerHTML = '';\n",
              "          dataTable['output_type'] = 'display_data';\n",
              "          await google.colab.output.renderOutput(dataTable, element);\n",
              "          const docLink = document.createElement('div');\n",
              "          docLink.innerHTML = docLinkHtml;\n",
              "          element.appendChild(docLink);\n",
              "        }\n",
              "      </script>\n",
              "    </div>\n",
              "  </div>\n",
              "  "
            ]
          },
          "metadata": {},
          "execution_count": 82
        }
      ]
    },
    {
      "cell_type": "markdown",
      "source": [
        "Preencher valores ausentes numéricos com a moda faz sentido em casos em que os valores numéricos são restritos a alguns valores específicos. \n",
        "\n",
        "\n",
        "O importante é não distorcer as estatísticas descritivas de forma significativa."
      ],
      "metadata": {
        "id": "DrrcahzSe7R0"
      }
    },
    {
      "cell_type": "code",
      "source": [
        "itunes_df.isna().sum()"
      ],
      "metadata": {
        "colab": {
          "base_uri": "https://localhost:8080/"
        },
        "id": "sdHn7GHXfnsn",
        "outputId": "16e718a7-3659-4fa3-b788-fb367400eeb5"
      },
      "execution_count": null,
      "outputs": [
        {
          "output_type": "execute_result",
          "data": {
            "text/plain": [
              "Track              0\n",
              "Composer        1113\n",
              "Milliseconds       0\n",
              "Bytes              0\n",
              "UnitPrice          0\n",
              "Genre              0\n",
              "Album              0\n",
              "Artist             0\n",
              "dtype: int64"
            ]
          },
          "metadata": {},
          "execution_count": 83
        }
      ]
    },
    {
      "cell_type": "markdown",
      "source": [
        "No momento não há valores numéricos ausentes, mas e se fosse necessário preencher valores de preços?"
      ],
      "metadata": {
        "id": "8taDRj1MfpGX"
      }
    },
    {
      "cell_type": "code",
      "source": [
        "itunes_df['UnitPrice'].value_counts()"
      ],
      "metadata": {
        "colab": {
          "base_uri": "https://localhost:8080/"
        },
        "id": "mT_G2QcCwRNw",
        "outputId": "c5f83623-6d71-4c59-8009-36ba5603f01c"
      },
      "execution_count": null,
      "outputs": [
        {
          "output_type": "execute_result",
          "data": {
            "text/plain": [
              "0.99    3779\n",
              "1.99     242\n",
              "Name: UnitPrice, dtype: int64"
            ]
          },
          "metadata": {},
          "execution_count": 84
        }
      ]
    },
    {
      "cell_type": "code",
      "source": [
        "itunes_df['UnitPrice'].value_counts().iloc[0]/itunes_df.shape[0]"
      ],
      "metadata": {
        "colab": {
          "base_uri": "https://localhost:8080/"
        },
        "id": "K8QF7tOuwuP3",
        "outputId": "4b1ea825-810e-4307-c8db-bedc3f07d9cd"
      },
      "execution_count": null,
      "outputs": [
        {
          "output_type": "execute_result",
          "data": {
            "text/plain": [
              "0.9398159661775678"
            ]
          },
          "metadata": {},
          "execution_count": 86
        }
      ]
    },
    {
      "cell_type": "code",
      "source": [
        "itunes_df_copy = itunes_df.copy()  # make a backup for testing dropping a column\n",
        "itunes_df_copy['UnitPrice'].fillna(itunes_df_copy['UnitPrice'].mode(), inplace=True)\n",
        "itunes_df_copy.head()"
      ],
      "metadata": {
        "colab": {
          "base_uri": "https://localhost:8080/",
          "height": 354
        },
        "id": "XzmumcFHwUd4",
        "outputId": "790f6b8e-96e6-4531-9dd8-730a625d286f"
      },
      "execution_count": null,
      "outputs": [
        {
          "output_type": "execute_result",
          "data": {
            "text/plain": [
              "                                    Track                           Composer  \\\n",
              "0  All the Best Cowboys Have Daddy Issues                                NaN   \n",
              "1                               Beira Mar                       Gilberto Gil   \n",
              "2                                  Brasil  Milton Nascimento, Fernando Brant   \n",
              "3                            Ben Franklin                                NaN   \n",
              "4            O Último Romântico (Ao Vivo)                                NaN   \n",
              "\n",
              "   Milliseconds      Bytes  UnitPrice     Genre  \\\n",
              "0       2555492  211743651       1.99  TV Shows   \n",
              "1        295444    9597994       0.99     Latin   \n",
              "2        155428    5252560       0.99     Latin   \n",
              "3       1271938  264168080       1.99    Comedy   \n",
              "4        231993    7692697       0.99     Latin   \n",
              "\n",
              "                                             Album             Artist  \n",
              "0                                   Lost, Season 1               Lost  \n",
              "1                                        Unplugged       Eric Clapton  \n",
              "2                        Milton Nascimento Ao Vivo  Milton Nascimento  \n",
              "3                             The Office, Season 3         The Office  \n",
              "4  Lulu Santos - RCA 100 Anos De Música - Álbum 02        Lulu Santos  "
            ],
            "text/html": [
              "\n",
              "  <div id=\"df-54a06c9f-20d9-4941-bce6-e6f4b7aa269c\">\n",
              "    <div class=\"colab-df-container\">\n",
              "      <div>\n",
              "<style scoped>\n",
              "    .dataframe tbody tr th:only-of-type {\n",
              "        vertical-align: middle;\n",
              "    }\n",
              "\n",
              "    .dataframe tbody tr th {\n",
              "        vertical-align: top;\n",
              "    }\n",
              "\n",
              "    .dataframe thead th {\n",
              "        text-align: right;\n",
              "    }\n",
              "</style>\n",
              "<table border=\"1\" class=\"dataframe\">\n",
              "  <thead>\n",
              "    <tr style=\"text-align: right;\">\n",
              "      <th></th>\n",
              "      <th>Track</th>\n",
              "      <th>Composer</th>\n",
              "      <th>Milliseconds</th>\n",
              "      <th>Bytes</th>\n",
              "      <th>UnitPrice</th>\n",
              "      <th>Genre</th>\n",
              "      <th>Album</th>\n",
              "      <th>Artist</th>\n",
              "    </tr>\n",
              "  </thead>\n",
              "  <tbody>\n",
              "    <tr>\n",
              "      <th>0</th>\n",
              "      <td>All the Best Cowboys Have Daddy Issues</td>\n",
              "      <td>NaN</td>\n",
              "      <td>2555492</td>\n",
              "      <td>211743651</td>\n",
              "      <td>1.99</td>\n",
              "      <td>TV Shows</td>\n",
              "      <td>Lost, Season 1</td>\n",
              "      <td>Lost</td>\n",
              "    </tr>\n",
              "    <tr>\n",
              "      <th>1</th>\n",
              "      <td>Beira Mar</td>\n",
              "      <td>Gilberto Gil</td>\n",
              "      <td>295444</td>\n",
              "      <td>9597994</td>\n",
              "      <td>0.99</td>\n",
              "      <td>Latin</td>\n",
              "      <td>Unplugged</td>\n",
              "      <td>Eric Clapton</td>\n",
              "    </tr>\n",
              "    <tr>\n",
              "      <th>2</th>\n",
              "      <td>Brasil</td>\n",
              "      <td>Milton Nascimento, Fernando Brant</td>\n",
              "      <td>155428</td>\n",
              "      <td>5252560</td>\n",
              "      <td>0.99</td>\n",
              "      <td>Latin</td>\n",
              "      <td>Milton Nascimento Ao Vivo</td>\n",
              "      <td>Milton Nascimento</td>\n",
              "    </tr>\n",
              "    <tr>\n",
              "      <th>3</th>\n",
              "      <td>Ben Franklin</td>\n",
              "      <td>NaN</td>\n",
              "      <td>1271938</td>\n",
              "      <td>264168080</td>\n",
              "      <td>1.99</td>\n",
              "      <td>Comedy</td>\n",
              "      <td>The Office, Season 3</td>\n",
              "      <td>The Office</td>\n",
              "    </tr>\n",
              "    <tr>\n",
              "      <th>4</th>\n",
              "      <td>O Último Romântico (Ao Vivo)</td>\n",
              "      <td>NaN</td>\n",
              "      <td>231993</td>\n",
              "      <td>7692697</td>\n",
              "      <td>0.99</td>\n",
              "      <td>Latin</td>\n",
              "      <td>Lulu Santos - RCA 100 Anos De Música - Álbum 02</td>\n",
              "      <td>Lulu Santos</td>\n",
              "    </tr>\n",
              "  </tbody>\n",
              "</table>\n",
              "</div>\n",
              "      <button class=\"colab-df-convert\" onclick=\"convertToInteractive('df-54a06c9f-20d9-4941-bce6-e6f4b7aa269c')\"\n",
              "              title=\"Convert this dataframe to an interactive table.\"\n",
              "              style=\"display:none;\">\n",
              "        \n",
              "  <svg xmlns=\"http://www.w3.org/2000/svg\" height=\"24px\"viewBox=\"0 0 24 24\"\n",
              "       width=\"24px\">\n",
              "    <path d=\"M0 0h24v24H0V0z\" fill=\"none\"/>\n",
              "    <path d=\"M18.56 5.44l.94 2.06.94-2.06 2.06-.94-2.06-.94-.94-2.06-.94 2.06-2.06.94zm-11 1L8.5 8.5l.94-2.06 2.06-.94-2.06-.94L8.5 2.5l-.94 2.06-2.06.94zm10 10l.94 2.06.94-2.06 2.06-.94-2.06-.94-.94-2.06-.94 2.06-2.06.94z\"/><path d=\"M17.41 7.96l-1.37-1.37c-.4-.4-.92-.59-1.43-.59-.52 0-1.04.2-1.43.59L10.3 9.45l-7.72 7.72c-.78.78-.78 2.05 0 2.83L4 21.41c.39.39.9.59 1.41.59.51 0 1.02-.2 1.41-.59l7.78-7.78 2.81-2.81c.8-.78.8-2.07 0-2.86zM5.41 20L4 18.59l7.72-7.72 1.47 1.35L5.41 20z\"/>\n",
              "  </svg>\n",
              "      </button>\n",
              "      \n",
              "  <style>\n",
              "    .colab-df-container {\n",
              "      display:flex;\n",
              "      flex-wrap:wrap;\n",
              "      gap: 12px;\n",
              "    }\n",
              "\n",
              "    .colab-df-convert {\n",
              "      background-color: #E8F0FE;\n",
              "      border: none;\n",
              "      border-radius: 50%;\n",
              "      cursor: pointer;\n",
              "      display: none;\n",
              "      fill: #1967D2;\n",
              "      height: 32px;\n",
              "      padding: 0 0 0 0;\n",
              "      width: 32px;\n",
              "    }\n",
              "\n",
              "    .colab-df-convert:hover {\n",
              "      background-color: #E2EBFA;\n",
              "      box-shadow: 0px 1px 2px rgba(60, 64, 67, 0.3), 0px 1px 3px 1px rgba(60, 64, 67, 0.15);\n",
              "      fill: #174EA6;\n",
              "    }\n",
              "\n",
              "    [theme=dark] .colab-df-convert {\n",
              "      background-color: #3B4455;\n",
              "      fill: #D2E3FC;\n",
              "    }\n",
              "\n",
              "    [theme=dark] .colab-df-convert:hover {\n",
              "      background-color: #434B5C;\n",
              "      box-shadow: 0px 1px 3px 1px rgba(0, 0, 0, 0.15);\n",
              "      filter: drop-shadow(0px 1px 2px rgba(0, 0, 0, 0.3));\n",
              "      fill: #FFFFFF;\n",
              "    }\n",
              "  </style>\n",
              "\n",
              "      <script>\n",
              "        const buttonEl =\n",
              "          document.querySelector('#df-54a06c9f-20d9-4941-bce6-e6f4b7aa269c button.colab-df-convert');\n",
              "        buttonEl.style.display =\n",
              "          google.colab.kernel.accessAllowed ? 'block' : 'none';\n",
              "\n",
              "        async function convertToInteractive(key) {\n",
              "          const element = document.querySelector('#df-54a06c9f-20d9-4941-bce6-e6f4b7aa269c');\n",
              "          const dataTable =\n",
              "            await google.colab.kernel.invokeFunction('convertToInteractive',\n",
              "                                                     [key], {});\n",
              "          if (!dataTable) return;\n",
              "\n",
              "          const docLinkHtml = 'Like what you see? Visit the ' +\n",
              "            '<a target=\"_blank\" href=https://colab.research.google.com/notebooks/data_table.ipynb>data table notebook</a>'\n",
              "            + ' to learn more about interactive tables.';\n",
              "          element.innerHTML = '';\n",
              "          dataTable['output_type'] = 'display_data';\n",
              "          await google.colab.output.renderOutput(dataTable, element);\n",
              "          const docLink = document.createElement('div');\n",
              "          docLink.innerHTML = docLinkHtml;\n",
              "          element.appendChild(docLink);\n",
              "        }\n",
              "      </script>\n",
              "    </div>\n",
              "  </div>\n",
              "  "
            ]
          },
          "metadata": {},
          "execution_count": 85
        }
      ]
    },
    {
      "cell_type": "markdown",
      "source": [
        "Em outros casos, faz mais sentido usar a mediana (o percentil 50), o que significa usar algo como df['Column'].median(). A mediana é melhor quando temos uma distribuição assimétrica, como mostra a Figura:"
      ],
      "metadata": {
        "id": "rlhwZxIUf_iz"
      }
    },
    {
      "cell_type": "code",
      "execution_count": null,
      "metadata": {
        "id": "BDwweTvSMn_t",
        "outputId": "ef3b7931-781e-47d6-a3a6-6163bfd39855",
        "colab": {
          "base_uri": "https://localhost:8080/",
          "height": 405
        }
      },
      "outputs": [
        {
          "output_type": "display_data",
          "data": {
            "text/plain": [
              "<Figure size 396x396 with 1 Axes>"
            ],
            "image/png": "[encoded data removed]"
          },
          "metadata": {
            "needs_background": "light"
          }
        }
      ],
      "source": [
        "# create distributions for plotting\n",
        "from scipy.stats import skewnorm\n",
        "df = pd.DataFrame({'normal': skewnorm.rvs(0, size=10000), 'skewed': skewnorm.rvs(10, size=10000)})\n",
        "\n",
        "f = df.plot.hist(bins=30, alpha=0.5, figsize=(5.5, 5.5))\n",
        "plt.vlines(df['skewed'].mean(), ymin=0, ymax=2000, label='mean', color='r')\n",
        "plt.vlines(df['skewed'].median(), ymin=0, ymax=2000, label='median', color='b')\n",
        "#f.patch.set_facecolor('w')  # sets background color behind axis labels\n",
        "plt.tight_layout()  # auto-adjust margins"
      ]
    },
    {
      "cell_type": "markdown",
      "metadata": {
        "id": "0xQLg10GMn_u"
      },
      "source": [
        "#### KNN imputation"
      ]
    },
    {
      "cell_type": "markdown",
      "source": [
        "k nearest neighbor"
      ],
      "metadata": {
        "id": "cZVgXMx0xj10"
      }
    },
    {
      "cell_type": "code",
      "execution_count": null,
      "metadata": {
        "id": "ZOBLxYeYMn_u"
      },
      "outputs": [],
      "source": [
        "import numpy as np\n",
        "itunes_df_copy = itunes_df.copy()  # create copy of the dataframe so we don't alter the original\n"
      ]
    },
    {
      "cell_type": "code",
      "source": [
        "itunes_df_copy.loc[0]"
      ],
      "metadata": {
        "colab": {
          "base_uri": "https://localhost:8080/",
          "height": 292
        },
        "id": "pe0hiVH4xlhH",
        "outputId": "af536e3f-8930-4086-8802-6f2d8d9ce255"
      },
      "execution_count": null,
      "outputs": [
        {
          "output_type": "execute_result",
          "data": {
            "text/plain": [
              "                                     Track  \\\n",
              "0   All the Best Cowboys Have Daddy Issues   \n",
              "0                     My Time After Awhile   \n",
              "0  For Those About To Rock (We Salute You)   \n",
              "\n",
              "                                     Composer  Milliseconds      Bytes  \\\n",
              "0                                         NaN       2555492  211743651   \n",
              "0  Robert Geddins/Ron Badger/Sheldon Feinberg        182491    6022698   \n",
              "0   Angus Young, Malcolm Young, Brian Johnson        343719   11170334   \n",
              "\n",
              "   UnitPrice     Genre                                             Album  \\\n",
              "0       1.99  TV Shows                                    Lost, Season 1   \n",
              "0       0.99     Blues  The Best Of Buddy Guy - The Millenium Collection   \n",
              "0       0.99      Rock             For Those About To Rock We Salute You   \n",
              "\n",
              "      Artist  \n",
              "0       Lost  \n",
              "0  Buddy Guy  \n",
              "0      AC/DC  "
            ],
            "text/html": [
              "\n",
              "  <div id=\"df-54ee0812-230a-4abb-aa32-308735492b70\">\n",
              "    <div class=\"colab-df-container\">\n",
              "      <div>\n",
              "<style scoped>\n",
              "    .dataframe tbody tr th:only-of-type {\n",
              "        vertical-align: middle;\n",
              "    }\n",
              "\n",
              "    .dataframe tbody tr th {\n",
              "        vertical-align: top;\n",
              "    }\n",
              "\n",
              "    .dataframe thead th {\n",
              "        text-align: right;\n",
              "    }\n",
              "</style>\n",
              "<table border=\"1\" class=\"dataframe\">\n",
              "  <thead>\n",
              "    <tr style=\"text-align: right;\">\n",
              "      <th></th>\n",
              "      <th>Track</th>\n",
              "      <th>Composer</th>\n",
              "      <th>Milliseconds</th>\n",
              "      <th>Bytes</th>\n",
              "      <th>UnitPrice</th>\n",
              "      <th>Genre</th>\n",
              "      <th>Album</th>\n",
              "      <th>Artist</th>\n",
              "    </tr>\n",
              "  </thead>\n",
              "  <tbody>\n",
              "    <tr>\n",
              "      <th>0</th>\n",
              "      <td>All the Best Cowboys Have Daddy Issues</td>\n",
              "      <td>NaN</td>\n",
              "      <td>2555492</td>\n",
              "      <td>211743651</td>\n",
              "      <td>1.99</td>\n",
              "      <td>TV Shows</td>\n",
              "      <td>Lost, Season 1</td>\n",
              "      <td>Lost</td>\n",
              "    </tr>\n",
              "    <tr>\n",
              "      <th>0</th>\n",
              "      <td>My Time After Awhile</td>\n",
              "      <td>Robert Geddins/Ron Badger/Sheldon Feinberg</td>\n",
              "      <td>182491</td>\n",
              "      <td>6022698</td>\n",
              "      <td>0.99</td>\n",
              "      <td>Blues</td>\n",
              "      <td>The Best Of Buddy Guy - The Millenium Collection</td>\n",
              "      <td>Buddy Guy</td>\n",
              "    </tr>\n",
              "    <tr>\n",
              "      <th>0</th>\n",
              "      <td>For Those About To Rock (We Salute You)</td>\n",
              "      <td>Angus Young, Malcolm Young, Brian Johnson</td>\n",
              "      <td>343719</td>\n",
              "      <td>11170334</td>\n",
              "      <td>0.99</td>\n",
              "      <td>Rock</td>\n",
              "      <td>For Those About To Rock We Salute You</td>\n",
              "      <td>AC/DC</td>\n",
              "    </tr>\n",
              "  </tbody>\n",
              "</table>\n",
              "</div>\n",
              "      <button class=\"colab-df-convert\" onclick=\"convertToInteractive('df-54ee0812-230a-4abb-aa32-308735492b70')\"\n",
              "              title=\"Convert this dataframe to an interactive table.\"\n",
              "              style=\"display:none;\">\n",
              "        \n",
              "  <svg xmlns=\"http://www.w3.org/2000/svg\" height=\"24px\"viewBox=\"0 0 24 24\"\n",
              "       width=\"24px\">\n",
              "    <path d=\"M0 0h24v24H0V0z\" fill=\"none\"/>\n",
              "    <path d=\"M18.56 5.44l.94 2.06.94-2.06 2.06-.94-2.06-.94-.94-2.06-.94 2.06-2.06.94zm-11 1L8.5 8.5l.94-2.06 2.06-.94-2.06-.94L8.5 2.5l-.94 2.06-2.06.94zm10 10l.94 2.06.94-2.06 2.06-.94-2.06-.94-.94-2.06-.94 2.06-2.06.94z\"/><path d=\"M17.41 7.96l-1.37-1.37c-.4-.4-.92-.59-1.43-.59-.52 0-1.04.2-1.43.59L10.3 9.45l-7.72 7.72c-.78.78-.78 2.05 0 2.83L4 21.41c.39.39.9.59 1.41.59.51 0 1.02-.2 1.41-.59l7.78-7.78 2.81-2.81c.8-.78.8-2.07 0-2.86zM5.41 20L4 18.59l7.72-7.72 1.47 1.35L5.41 20z\"/>\n",
              "  </svg>\n",
              "      </button>\n",
              "      \n",
              "  <style>\n",
              "    .colab-df-container {\n",
              "      display:flex;\n",
              "      flex-wrap:wrap;\n",
              "      gap: 12px;\n",
              "    }\n",
              "\n",
              "    .colab-df-convert {\n",
              "      background-color: #E8F0FE;\n",
              "      border: none;\n",
              "      border-radius: 50%;\n",
              "      cursor: pointer;\n",
              "      display: none;\n",
              "      fill: #1967D2;\n",
              "      height: 32px;\n",
              "      padding: 0 0 0 0;\n",
              "      width: 32px;\n",
              "    }\n",
              "\n",
              "    .colab-df-convert:hover {\n",
              "      background-color: #E2EBFA;\n",
              "      box-shadow: 0px 1px 2px rgba(60, 64, 67, 0.3), 0px 1px 3px 1px rgba(60, 64, 67, 0.15);\n",
              "      fill: #174EA6;\n",
              "    }\n",
              "\n",
              "    [theme=dark] .colab-df-convert {\n",
              "      background-color: #3B4455;\n",
              "      fill: #D2E3FC;\n",
              "    }\n",
              "\n",
              "    [theme=dark] .colab-df-convert:hover {\n",
              "      background-color: #434B5C;\n",
              "      box-shadow: 0px 1px 3px 1px rgba(0, 0, 0, 0.15);\n",
              "      filter: drop-shadow(0px 1px 2px rgba(0, 0, 0, 0.3));\n",
              "      fill: #FFFFFF;\n",
              "    }\n",
              "  </style>\n",
              "\n",
              "      <script>\n",
              "        const buttonEl =\n",
              "          document.querySelector('#df-54ee0812-230a-4abb-aa32-308735492b70 button.colab-df-convert');\n",
              "        buttonEl.style.display =\n",
              "          google.colab.kernel.accessAllowed ? 'block' : 'none';\n",
              "\n",
              "        async function convertToInteractive(key) {\n",
              "          const element = document.querySelector('#df-54ee0812-230a-4abb-aa32-308735492b70');\n",
              "          const dataTable =\n",
              "            await google.colab.kernel.invokeFunction('convertToInteractive',\n",
              "                                                     [key], {});\n",
              "          if (!dataTable) return;\n",
              "\n",
              "          const docLinkHtml = 'Like what you see? Visit the ' +\n",
              "            '<a target=\"_blank\" href=https://colab.research.google.com/notebooks/data_table.ipynb>data table notebook</a>'\n",
              "            + ' to learn more about interactive tables.';\n",
              "          element.innerHTML = '';\n",
              "          dataTable['output_type'] = 'display_data';\n",
              "          await google.colab.output.renderOutput(dataTable, element);\n",
              "          const docLink = document.createElement('div');\n",
              "          docLink.innerHTML = docLinkHtml;\n",
              "          element.appendChild(docLink);\n",
              "        }\n",
              "      </script>\n",
              "    </div>\n",
              "  </div>\n",
              "  "
            ]
          },
          "metadata": {},
          "execution_count": 88
        }
      ]
    },
    {
      "cell_type": "code",
      "source": [
        "itunes_df_copy.loc[0, 'Bytes'] = np.nan"
      ],
      "metadata": {
        "id": "S1BAER8VxqLJ"
      },
      "execution_count": null,
      "outputs": []
    },
    {
      "cell_type": "code",
      "source": [
        "itunes_df_copy.loc[0]"
      ],
      "metadata": {
        "colab": {
          "base_uri": "https://localhost:8080/",
          "height": 292
        },
        "id": "LcFkdBevx16h",
        "outputId": "605380ec-c828-4e7a-9a0e-bd3551c24215"
      },
      "execution_count": null,
      "outputs": [
        {
          "output_type": "execute_result",
          "data": {
            "text/plain": [
              "                                     Track  \\\n",
              "0   All the Best Cowboys Have Daddy Issues   \n",
              "0                     My Time After Awhile   \n",
              "0  For Those About To Rock (We Salute You)   \n",
              "\n",
              "                                     Composer  Milliseconds  Bytes  UnitPrice  \\\n",
              "0                                         NaN       2555492    NaN       1.99   \n",
              "0  Robert Geddins/Ron Badger/Sheldon Feinberg        182491    NaN       0.99   \n",
              "0   Angus Young, Malcolm Young, Brian Johnson        343719    NaN       0.99   \n",
              "\n",
              "      Genre                                             Album     Artist  \n",
              "0  TV Shows                                    Lost, Season 1       Lost  \n",
              "0     Blues  The Best Of Buddy Guy - The Millenium Collection  Buddy Guy  \n",
              "0      Rock             For Those About To Rock We Salute You      AC/DC  "
            ],
            "text/html": [
              "\n",
              "  <div id=\"df-48a6c2a6-0f94-44d4-ae8c-5aa43786e0ed\">\n",
              "    <div class=\"colab-df-container\">\n",
              "      <div>\n",
              "<style scoped>\n",
              "    .dataframe tbody tr th:only-of-type {\n",
              "        vertical-align: middle;\n",
              "    }\n",
              "\n",
              "    .dataframe tbody tr th {\n",
              "        vertical-align: top;\n",
              "    }\n",
              "\n",
              "    .dataframe thead th {\n",
              "        text-align: right;\n",
              "    }\n",
              "</style>\n",
              "<table border=\"1\" class=\"dataframe\">\n",
              "  <thead>\n",
              "    <tr style=\"text-align: right;\">\n",
              "      <th></th>\n",
              "      <th>Track</th>\n",
              "      <th>Composer</th>\n",
              "      <th>Milliseconds</th>\n",
              "      <th>Bytes</th>\n",
              "      <th>UnitPrice</th>\n",
              "      <th>Genre</th>\n",
              "      <th>Album</th>\n",
              "      <th>Artist</th>\n",
              "    </tr>\n",
              "  </thead>\n",
              "  <tbody>\n",
              "    <tr>\n",
              "      <th>0</th>\n",
              "      <td>All the Best Cowboys Have Daddy Issues</td>\n",
              "      <td>NaN</td>\n",
              "      <td>2555492</td>\n",
              "      <td>NaN</td>\n",
              "      <td>1.99</td>\n",
              "      <td>TV Shows</td>\n",
              "      <td>Lost, Season 1</td>\n",
              "      <td>Lost</td>\n",
              "    </tr>\n",
              "    <tr>\n",
              "      <th>0</th>\n",
              "      <td>My Time After Awhile</td>\n",
              "      <td>Robert Geddins/Ron Badger/Sheldon Feinberg</td>\n",
              "      <td>182491</td>\n",
              "      <td>NaN</td>\n",
              "      <td>0.99</td>\n",
              "      <td>Blues</td>\n",
              "      <td>The Best Of Buddy Guy - The Millenium Collection</td>\n",
              "      <td>Buddy Guy</td>\n",
              "    </tr>\n",
              "    <tr>\n",
              "      <th>0</th>\n",
              "      <td>For Those About To Rock (We Salute You)</td>\n",
              "      <td>Angus Young, Malcolm Young, Brian Johnson</td>\n",
              "      <td>343719</td>\n",
              "      <td>NaN</td>\n",
              "      <td>0.99</td>\n",
              "      <td>Rock</td>\n",
              "      <td>For Those About To Rock We Salute You</td>\n",
              "      <td>AC/DC</td>\n",
              "    </tr>\n",
              "  </tbody>\n",
              "</table>\n",
              "</div>\n",
              "      <button class=\"colab-df-convert\" onclick=\"convertToInteractive('df-48a6c2a6-0f94-44d4-ae8c-5aa43786e0ed')\"\n",
              "              title=\"Convert this dataframe to an interactive table.\"\n",
              "              style=\"display:none;\">\n",
              "        \n",
              "  <svg xmlns=\"http://www.w3.org/2000/svg\" height=\"24px\"viewBox=\"0 0 24 24\"\n",
              "       width=\"24px\">\n",
              "    <path d=\"M0 0h24v24H0V0z\" fill=\"none\"/>\n",
              "    <path d=\"M18.56 5.44l.94 2.06.94-2.06 2.06-.94-2.06-.94-.94-2.06-.94 2.06-2.06.94zm-11 1L8.5 8.5l.94-2.06 2.06-.94-2.06-.94L8.5 2.5l-.94 2.06-2.06.94zm10 10l.94 2.06.94-2.06 2.06-.94-2.06-.94-.94-2.06-.94 2.06-2.06.94z\"/><path d=\"M17.41 7.96l-1.37-1.37c-.4-.4-.92-.59-1.43-.59-.52 0-1.04.2-1.43.59L10.3 9.45l-7.72 7.72c-.78.78-.78 2.05 0 2.83L4 21.41c.39.39.9.59 1.41.59.51 0 1.02-.2 1.41-.59l7.78-7.78 2.81-2.81c.8-.78.8-2.07 0-2.86zM5.41 20L4 18.59l7.72-7.72 1.47 1.35L5.41 20z\"/>\n",
              "  </svg>\n",
              "      </button>\n",
              "      \n",
              "  <style>\n",
              "    .colab-df-container {\n",
              "      display:flex;\n",
              "      flex-wrap:wrap;\n",
              "      gap: 12px;\n",
              "    }\n",
              "\n",
              "    .colab-df-convert {\n",
              "      background-color: #E8F0FE;\n",
              "      border: none;\n",
              "      border-radius: 50%;\n",
              "      cursor: pointer;\n",
              "      display: none;\n",
              "      fill: #1967D2;\n",
              "      height: 32px;\n",
              "      padding: 0 0 0 0;\n",
              "      width: 32px;\n",
              "    }\n",
              "\n",
              "    .colab-df-convert:hover {\n",
              "      background-color: #E2EBFA;\n",
              "      box-shadow: 0px 1px 2px rgba(60, 64, 67, 0.3), 0px 1px 3px 1px rgba(60, 64, 67, 0.15);\n",
              "      fill: #174EA6;\n",
              "    }\n",
              "\n",
              "    [theme=dark] .colab-df-convert {\n",
              "      background-color: #3B4455;\n",
              "      fill: #D2E3FC;\n",
              "    }\n",
              "\n",
              "    [theme=dark] .colab-df-convert:hover {\n",
              "      background-color: #434B5C;\n",
              "      box-shadow: 0px 1px 3px 1px rgba(0, 0, 0, 0.15);\n",
              "      filter: drop-shadow(0px 1px 2px rgba(0, 0, 0, 0.3));\n",
              "      fill: #FFFFFF;\n",
              "    }\n",
              "  </style>\n",
              "\n",
              "      <script>\n",
              "        const buttonEl =\n",
              "          document.querySelector('#df-48a6c2a6-0f94-44d4-ae8c-5aa43786e0ed button.colab-df-convert');\n",
              "        buttonEl.style.display =\n",
              "          google.colab.kernel.accessAllowed ? 'block' : 'none';\n",
              "\n",
              "        async function convertToInteractive(key) {\n",
              "          const element = document.querySelector('#df-48a6c2a6-0f94-44d4-ae8c-5aa43786e0ed');\n",
              "          const dataTable =\n",
              "            await google.colab.kernel.invokeFunction('convertToInteractive',\n",
              "                                                     [key], {});\n",
              "          if (!dataTable) return;\n",
              "\n",
              "          const docLinkHtml = 'Like what you see? Visit the ' +\n",
              "            '<a target=\"_blank\" href=https://colab.research.google.com/notebooks/data_table.ipynb>data table notebook</a>'\n",
              "            + ' to learn more about interactive tables.';\n",
              "          element.innerHTML = '';\n",
              "          dataTable['output_type'] = 'display_data';\n",
              "          await google.colab.output.renderOutput(dataTable, element);\n",
              "          const docLink = document.createElement('div');\n",
              "          docLink.innerHTML = docLinkHtml;\n",
              "          element.appendChild(docLink);\n",
              "        }\n",
              "      </script>\n",
              "    </div>\n",
              "  </div>\n",
              "  "
            ]
          },
          "metadata": {},
          "execution_count": 91
        }
      ]
    },
    {
      "cell_type": "code",
      "source": [
        "from sklearn.impute import KNNImputer\n",
        "imputer = KNNImputer()\n",
        "imputed = imputer.fit_transform(itunes_df_copy[['Milliseconds', 'Bytes', 'UnitPrice']])"
      ],
      "metadata": {
        "id": "g5Y7poeix7K8"
      },
      "execution_count": null,
      "outputs": []
    },
    {
      "cell_type": "markdown",
      "source": [
        "valores originais"
      ],
      "metadata": {
        "id": "Q7oraqXdg63c"
      }
    },
    {
      "cell_type": "code",
      "execution_count": null,
      "metadata": {
        "colab": {
          "base_uri": "https://localhost:8080/"
        },
        "id": "vc8BmArzMn_u",
        "outputId": "8defb7ab-0695-4a4e-e8e7-9decfc2bc9fe"
      },
      "outputs": [
        {
          "output_type": "execute_result",
          "data": {
            "text/plain": [
              "0    211743651\n",
              "0      6022698\n",
              "0     11170334\n",
              "Name: Bytes, dtype: int64"
            ]
          },
          "metadata": {},
          "execution_count": 93
        }
      ],
      "source": [
        "# there are multiple values with the index value of 0, which is why we get multiple results\n",
        "itunes_df.loc[0, 'Bytes']"
      ]
    },
    {
      "cell_type": "code",
      "source": [
        "itunes_df_copy['Bytes'] = imputed[:, 1]"
      ],
      "metadata": {
        "id": "CnPzlcDZyROP"
      },
      "execution_count": null,
      "outputs": []
    },
    {
      "cell_type": "code",
      "source": [
        "itunes_df_copy.loc[0, 'Bytes']"
      ],
      "metadata": {
        "colab": {
          "base_uri": "https://localhost:8080/"
        },
        "id": "Y3LjhltIyc6C",
        "outputId": "e6570742-b169-4b53-dc46-a864d976ee8a"
      },
      "execution_count": null,
      "outputs": [
        {
          "output_type": "execute_result",
          "data": {
            "text/plain": [
              "0    381737603.6\n",
              "0      5454572.2\n",
              "0     11232851.2\n",
              "Name: Bytes, dtype: float64"
            ]
          },
          "metadata": {},
          "execution_count": 95
        }
      ]
    },
    {
      "cell_type": "code",
      "source": [],
      "metadata": {
        "id": "WDArhUxky_jh"
      },
      "execution_count": null,
      "outputs": []
    },
    {
      "cell_type": "markdown",
      "source": [
        "## Tratando valores discrepantes (outliers)"
      ],
      "metadata": {
        "id": "sG-LiyaqhPKx"
      }
    },
    {
      "cell_type": "markdown",
      "source": [
        "Outliers são dados que não estão no intervalo normal de valores. Para dados categóricos, como os gêneros, essas podem ser algumas das classes minoritárias, como programas de TV. Podemos remover essas linhas com filtragem ou também agrupar todas as classes minoritárias em uma classe que rotulamos como Other. Lidar com outliers categóricos pode ajudar um pouco na análise, mas geralmente tem um impacto mínimo."
      ],
      "metadata": {
        "id": "cr5JvVaGiKP3"
      }
    },
    {
      "cell_type": "markdown",
      "source": [
        "Para dados numéricos, é fácil quantificar um valor discrepante. Normalmente, usamos os métodos de intervalo interquartil (IQR) ou z-score"
      ],
      "metadata": {
        "id": "AnK6MqMtiLIq"
      }
    },
    {
      "cell_type": "markdown",
      "source": [
        "Nós obtemos quartis (25º, 50º, 75º percentis) da função describe() em nosso EDA. \n",
        "\n",
        "Às vezes, eles são chamados de primeiro, segundo e terceiro quartis, respectivamente (Q1, Q2 e Q3)."
      ],
      "metadata": {
        "id": "Dl650uFMiWdN"
      }
    },
    {
      "cell_type": "code",
      "source": [
        "itunes_df['Milliseconds'].describe()"
      ],
      "metadata": {
        "colab": {
          "base_uri": "https://localhost:8080/"
        },
        "id": "cAqnIjz2hZj9",
        "outputId": "a5bc5c89-25f9-434b-9f94-5a2142c7c7e7"
      },
      "execution_count": null,
      "outputs": [
        {
          "output_type": "execute_result",
          "data": {
            "text/plain": [
              "count    4.021000e+03\n",
              "mean     3.927276e+05\n",
              "std      5.337745e+05\n",
              "min      1.071000e+03\n",
              "25%      2.069680e+05\n",
              "50%      2.554770e+05\n",
              "75%      3.217240e+05\n",
              "max      5.286953e+06\n",
              "Name: Milliseconds, dtype: float64"
            ]
          },
          "metadata": {},
          "execution_count": 96
        }
      ]
    },
    {
      "cell_type": "markdown",
      "source": [
        "O método IQR usa esses níveis de quartil para detectar valores discrepantes. A fórmula é:\n",
        "\n",
        "IQR = percentil_75 - percentil_25"
      ],
      "metadata": {
        "id": "TMhtTl15iavD"
      }
    },
    {
      "cell_type": "markdown",
      "source": [
        "O limites para valores discrepantes não:\n",
        "\n",
        "* limite_superior = percentil_75 + 1.5 * IQR\n",
        "* limite_inferior = percentil_25 - 1.5 * IQR"
      ],
      "metadata": {
        "id": "zZQTNPVbim5r"
      }
    },
    {
      "cell_type": "markdown",
      "source": [
        "![image.png](data:image/png;base64,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)"
      ],
      "metadata": {
        "id": "nVe_ydPejRjK"
      }
    },
    {
      "cell_type": "code",
      "source": [
        "q1 = itunes_df['Milliseconds'].quantile(0.25)\n",
        "q3 = itunes_df['Milliseconds'].quantile(0.75)\n",
        "print(\"q1: \", q1)\n",
        "print(\"q3: \", q3)"
      ],
      "metadata": {
        "colab": {
          "base_uri": "https://localhost:8080/"
        },
        "id": "NhggQ3bG0RST",
        "outputId": "648805ae-367b-4189-adcc-d562bb47d50b"
      },
      "execution_count": null,
      "outputs": [
        {
          "output_type": "stream",
          "name": "stdout",
          "text": [
            "q1:  206968.0\n",
            "q3:  321724.0\n"
          ]
        }
      ]
    },
    {
      "cell_type": "code",
      "source": [
        "iqr = q3 - q1\n",
        "print(iqr)"
      ],
      "metadata": {
        "colab": {
          "base_uri": "https://localhost:8080/"
        },
        "id": "zGQlklw30bTt",
        "outputId": "ed303468-dabc-40c0-830e-305e7bf45010"
      },
      "execution_count": null,
      "outputs": [
        {
          "output_type": "stream",
          "name": "stdout",
          "text": [
            "114756.0\n"
          ]
        }
      ]
    },
    {
      "cell_type": "code",
      "source": [
        "upper_boundary = q3 + 1.5 * iqr"
      ],
      "metadata": {
        "id": "XmrxHCAS0ecQ"
      },
      "execution_count": null,
      "outputs": []
    },
    {
      "cell_type": "code",
      "source": [
        "upper_boundary"
      ],
      "metadata": {
        "colab": {
          "base_uri": "https://localhost:8080/"
        },
        "id": "fN3_i9F30h_y",
        "outputId": "730cfcb1-da79-41b1-b411-e2030e4c8364"
      },
      "execution_count": null,
      "outputs": [
        {
          "output_type": "execute_result",
          "data": {
            "text/plain": [
              "493858.0"
            ]
          },
          "metadata": {},
          "execution_count": 100
        }
      ]
    },
    {
      "cell_type": "code",
      "source": [
        "itunes_df.loc[(itunes_df['Milliseconds'] > upper_boundary)]"
      ],
      "metadata": {
        "colab": {
          "base_uri": "https://localhost:8080/",
          "height": 832
        },
        "id": "7Bb42Kn80nLC",
        "outputId": "ec89e46a-48ec-4807-cdca-829da6f022ff"
      },
      "execution_count": null,
      "outputs": [
        {
          "output_type": "execute_result",
          "data": {
            "text/plain": [
              "                                                  Track  \\\n",
              "0                All the Best Cowboys Have Daddy Issues   \n",
              "3                                          Ben Franklin   \n",
              "23                                       Confidence Man   \n",
              "38                                               Diwali   \n",
              "54    Blind Curve: Vocal Under A Bloodlight / Passin...   \n",
              "...                                                 ...   \n",
              "3434  Concerto for Piano No. 2 in F Minor, Op. 21: I...   \n",
              "3444                       On the Beautiful Blue Danube   \n",
              "3445  Symphonie Fantastique, Op. 14: V. Songe d'une ...   \n",
              "3477                                Amy Amy Amy (Outro)   \n",
              "3485  Symphony No. 3 Op. 36 for Orchestra and Sopran...   \n",
              "\n",
              "                                               Composer  Milliseconds  \\\n",
              "0                                                   NaN       2555492   \n",
              "3                                                   NaN       1271938   \n",
              "23                                                  NaN       2615244   \n",
              "38                                                  NaN       1279904   \n",
              "54                     Kelly, Mosley, Rothery, Trewaves        569704   \n",
              "...                                                 ...           ...   \n",
              "3434                                    Frédéric Chopin        560342   \n",
              "3444                                  Johann Strauss II        526696   \n",
              "3445                                     Hector Berlioz        561967   \n",
              "3477  Astor Campbell, Delroy \"Chris\" Cooper, Donovan...        663426   \n",
              "3485                                     Henryk Górecki        567494   \n",
              "\n",
              "          Bytes  UnitPrice      Genre                               Album  \\\n",
              "0     211743651       1.99   TV Shows                      Lost, Season 1   \n",
              "3     264168080       1.99     Comedy                The Office, Season 3   \n",
              "23    223756475       1.99   TV Shows                      Lost, Season 1   \n",
              "38    252726644       1.99   TV Shows                The Office, Season 3   \n",
              "54     18578995       0.99       Rock                 Misplaced Childhood   \n",
              "...         ...        ...        ...                                 ...   \n",
              "3434    9160082       0.99  Classical  Chopin: Piano Concertos Nos. 1 & 2   \n",
              "3444    8610225       0.99  Classical                    Strauss: Waltzes   \n",
              "3445    9173344       0.99  Classical      Berlioz: Symphonie Fantastique   \n",
              "3477   10564704       0.99        Pop                               Frank   \n",
              "3485    9273123       0.99  Classical             Górecki: Symphony No. 3   \n",
              "\n",
              "                                                 Artist  \n",
              "0                                                  Lost  \n",
              "3                                            The Office  \n",
              "23                                                 Lost  \n",
              "38                                           The Office  \n",
              "54                                            Marillion  \n",
              "...                                                 ...  \n",
              "3434  Emanuel Ax, Eugene Ormandy & Philadelphia Orch...  \n",
              "3444                                     Eugene Ormandy  \n",
              "3445     Michael Tilson Thomas & San Francisco Symphony  \n",
              "3477                                      Amy Winehouse  \n",
              "3485                     Adrian Leaper & Doreen de Feis  \n",
              "\n",
              "[391 rows x 8 columns]"
            ],
            "text/html": [
              "\n",
              "  <div id=\"df-133822e4-7803-4e57-b735-25714b3a8d28\">\n",
              "    <div class=\"colab-df-container\">\n",
              "      <div>\n",
              "<style scoped>\n",
              "    .dataframe tbody tr th:only-of-type {\n",
              "        vertical-align: middle;\n",
              "    }\n",
              "\n",
              "    .dataframe tbody tr th {\n",
              "        vertical-align: top;\n",
              "    }\n",
              "\n",
              "    .dataframe thead th {\n",
              "        text-align: right;\n",
              "    }\n",
              "</style>\n",
              "<table border=\"1\" class=\"dataframe\">\n",
              "  <thead>\n",
              "    <tr style=\"text-align: right;\">\n",
              "      <th></th>\n",
              "      <th>Track</th>\n",
              "      <th>Composer</th>\n",
              "      <th>Milliseconds</th>\n",
              "      <th>Bytes</th>\n",
              "      <th>UnitPrice</th>\n",
              "      <th>Genre</th>\n",
              "      <th>Album</th>\n",
              "      <th>Artist</th>\n",
              "    </tr>\n",
              "  </thead>\n",
              "  <tbody>\n",
              "    <tr>\n",
              "      <th>0</th>\n",
              "      <td>All the Best Cowboys Have Daddy Issues</td>\n",
              "      <td>NaN</td>\n",
              "      <td>2555492</td>\n",
              "      <td>211743651</td>\n",
              "      <td>1.99</td>\n",
              "      <td>TV Shows</td>\n",
              "      <td>Lost, Season 1</td>\n",
              "      <td>Lost</td>\n",
              "    </tr>\n",
              "    <tr>\n",
              "      <th>3</th>\n",
              "      <td>Ben Franklin</td>\n",
              "      <td>NaN</td>\n",
              "      <td>1271938</td>\n",
              "      <td>264168080</td>\n",
              "      <td>1.99</td>\n",
              "      <td>Comedy</td>\n",
              "      <td>The Office, Season 3</td>\n",
              "      <td>The Office</td>\n",
              "    </tr>\n",
              "    <tr>\n",
              "      <th>23</th>\n",
              "      <td>Confidence Man</td>\n",
              "      <td>NaN</td>\n",
              "      <td>2615244</td>\n",
              "      <td>223756475</td>\n",
              "      <td>1.99</td>\n",
              "      <td>TV Shows</td>\n",
              "      <td>Lost, Season 1</td>\n",
              "      <td>Lost</td>\n",
              "    </tr>\n",
              "    <tr>\n",
              "      <th>38</th>\n",
              "      <td>Diwali</td>\n",
              "      <td>NaN</td>\n",
              "      <td>1279904</td>\n",
              "      <td>252726644</td>\n",
              "      <td>1.99</td>\n",
              "      <td>TV Shows</td>\n",
              "      <td>The Office, Season 3</td>\n",
              "      <td>The Office</td>\n",
              "    </tr>\n",
              "    <tr>\n",
              "      <th>54</th>\n",
              "      <td>Blind Curve: Vocal Under A Bloodlight / Passin...</td>\n",
              "      <td>Kelly, Mosley, Rothery, Trewaves</td>\n",
              "      <td>569704</td>\n",
              "      <td>18578995</td>\n",
              "      <td>0.99</td>\n",
              "      <td>Rock</td>\n",
              "      <td>Misplaced Childhood</td>\n",
              "      <td>Marillion</td>\n",
              "    </tr>\n",
              "    <tr>\n",
              "      <th>...</th>\n",
              "      <td>...</td>\n",
              "      <td>...</td>\n",
              "      <td>...</td>\n",
              "      <td>...</td>\n",
              "      <td>...</td>\n",
              "      <td>...</td>\n",
              "      <td>...</td>\n",
              "      <td>...</td>\n",
              "    </tr>\n",
              "    <tr>\n",
              "      <th>3434</th>\n",
              "      <td>Concerto for Piano No. 2 in F Minor, Op. 21: I...</td>\n",
              "      <td>Frédéric Chopin</td>\n",
              "      <td>560342</td>\n",
              "      <td>9160082</td>\n",
              "      <td>0.99</td>\n",
              "      <td>Classical</td>\n",
              "      <td>Chopin: Piano Concertos Nos. 1 &amp; 2</td>\n",
              "      <td>Emanuel Ax, Eugene Ormandy &amp; Philadelphia Orch...</td>\n",
              "    </tr>\n",
              "    <tr>\n",
              "      <th>3444</th>\n",
              "      <td>On the Beautiful Blue Danube</td>\n",
              "      <td>Johann Strauss II</td>\n",
              "      <td>526696</td>\n",
              "      <td>8610225</td>\n",
              "      <td>0.99</td>\n",
              "      <td>Classical</td>\n",
              "      <td>Strauss: Waltzes</td>\n",
              "      <td>Eugene Ormandy</td>\n",
              "    </tr>\n",
              "    <tr>\n",
              "      <th>3445</th>\n",
              "      <td>Symphonie Fantastique, Op. 14: V. Songe d'une ...</td>\n",
              "      <td>Hector Berlioz</td>\n",
              "      <td>561967</td>\n",
              "      <td>9173344</td>\n",
              "      <td>0.99</td>\n",
              "      <td>Classical</td>\n",
              "      <td>Berlioz: Symphonie Fantastique</td>\n",
              "      <td>Michael Tilson Thomas &amp; San Francisco Symphony</td>\n",
              "    </tr>\n",
              "    <tr>\n",
              "      <th>3477</th>\n",
              "      <td>Amy Amy Amy (Outro)</td>\n",
              "      <td>Astor Campbell, Delroy \"Chris\" Cooper, Donovan...</td>\n",
              "      <td>663426</td>\n",
              "      <td>10564704</td>\n",
              "      <td>0.99</td>\n",
              "      <td>Pop</td>\n",
              "      <td>Frank</td>\n",
              "      <td>Amy Winehouse</td>\n",
              "    </tr>\n",
              "    <tr>\n",
              "      <th>3485</th>\n",
              "      <td>Symphony No. 3 Op. 36 for Orchestra and Sopran...</td>\n",
              "      <td>Henryk Górecki</td>\n",
              "      <td>567494</td>\n",
              "      <td>9273123</td>\n",
              "      <td>0.99</td>\n",
              "      <td>Classical</td>\n",
              "      <td>Górecki: Symphony No. 3</td>\n",
              "      <td>Adrian Leaper &amp; Doreen de Feis</td>\n",
              "    </tr>\n",
              "  </tbody>\n",
              "</table>\n",
              "<p>391 rows × 8 columns</p>\n",
              "</div>\n",
              "      <button class=\"colab-df-convert\" onclick=\"convertToInteractive('df-133822e4-7803-4e57-b735-25714b3a8d28')\"\n",
              "              title=\"Convert this dataframe to an interactive table.\"\n",
              "              style=\"display:none;\">\n",
              "        \n",
              "  <svg xmlns=\"http://www.w3.org/2000/svg\" height=\"24px\"viewBox=\"0 0 24 24\"\n",
              "       width=\"24px\">\n",
              "    <path d=\"M0 0h24v24H0V0z\" fill=\"none\"/>\n",
              "    <path d=\"M18.56 5.44l.94 2.06.94-2.06 2.06-.94-2.06-.94-.94-2.06-.94 2.06-2.06.94zm-11 1L8.5 8.5l.94-2.06 2.06-.94-2.06-.94L8.5 2.5l-.94 2.06-2.06.94zm10 10l.94 2.06.94-2.06 2.06-.94-2.06-.94-.94-2.06-.94 2.06-2.06.94z\"/><path d=\"M17.41 7.96l-1.37-1.37c-.4-.4-.92-.59-1.43-.59-.52 0-1.04.2-1.43.59L10.3 9.45l-7.72 7.72c-.78.78-.78 2.05 0 2.83L4 21.41c.39.39.9.59 1.41.59.51 0 1.02-.2 1.41-.59l7.78-7.78 2.81-2.81c.8-.78.8-2.07 0-2.86zM5.41 20L4 18.59l7.72-7.72 1.47 1.35L5.41 20z\"/>\n",
              "  </svg>\n",
              "      </button>\n",
              "      \n",
              "  <style>\n",
              "    .colab-df-container {\n",
              "      display:flex;\n",
              "      flex-wrap:wrap;\n",
              "      gap: 12px;\n",
              "    }\n",
              "\n",
              "    .colab-df-convert {\n",
              "      background-color: #E8F0FE;\n",
              "      border: none;\n",
              "      border-radius: 50%;\n",
              "      cursor: pointer;\n",
              "      display: none;\n",
              "      fill: #1967D2;\n",
              "      height: 32px;\n",
              "      padding: 0 0 0 0;\n",
              "      width: 32px;\n",
              "    }\n",
              "\n",
              "    .colab-df-convert:hover {\n",
              "      background-color: #E2EBFA;\n",
              "      box-shadow: 0px 1px 2px rgba(60, 64, 67, 0.3), 0px 1px 3px 1px rgba(60, 64, 67, 0.15);\n",
              "      fill: #174EA6;\n",
              "    }\n",
              "\n",
              "    [theme=dark] .colab-df-convert {\n",
              "      background-color: #3B4455;\n",
              "      fill: #D2E3FC;\n",
              "    }\n",
              "\n",
              "    [theme=dark] .colab-df-convert:hover {\n",
              "      background-color: #434B5C;\n",
              "      box-shadow: 0px 1px 3px 1px rgba(0, 0, 0, 0.15);\n",
              "      filter: drop-shadow(0px 1px 2px rgba(0, 0, 0, 0.3));\n",
              "      fill: #FFFFFF;\n",
              "    }\n",
              "  </style>\n",
              "\n",
              "      <script>\n",
              "        const buttonEl =\n",
              "          document.querySelector('#df-133822e4-7803-4e57-b735-25714b3a8d28 button.colab-df-convert');\n",
              "        buttonEl.style.display =\n",
              "          google.colab.kernel.accessAllowed ? 'block' : 'none';\n",
              "\n",
              "        async function convertToInteractive(key) {\n",
              "          const element = document.querySelector('#df-133822e4-7803-4e57-b735-25714b3a8d28');\n",
              "          const dataTable =\n",
              "            await google.colab.kernel.invokeFunction('convertToInteractive',\n",
              "                                                     [key], {});\n",
              "          if (!dataTable) return;\n",
              "\n",
              "          const docLinkHtml = 'Like what you see? Visit the ' +\n",
              "            '<a target=\"_blank\" href=https://colab.research.google.com/notebooks/data_table.ipynb>data table notebook</a>'\n",
              "            + ' to learn more about interactive tables.';\n",
              "          element.innerHTML = '';\n",
              "          dataTable['output_type'] = 'display_data';\n",
              "          await google.colab.output.renderOutput(dataTable, element);\n",
              "          const docLink = document.createElement('div');\n",
              "          docLink.innerHTML = docLinkHtml;\n",
              "          element.appendChild(docLink);\n",
              "        }\n",
              "      </script>\n",
              "    </div>\n",
              "  </div>\n",
              "  "
            ]
          },
          "metadata": {},
          "execution_count": 101
        }
      ]
    },
    {
      "cell_type": "code",
      "source": [
        "lower_boundary = q1 - 1.5 * iqr\n",
        "lower_boundary"
      ],
      "metadata": {
        "colab": {
          "base_uri": "https://localhost:8080/"
        },
        "id": "Pzyouz-K1DLw",
        "outputId": "9d836688-b386-49c3-9a2a-d2231df5e982"
      },
      "execution_count": null,
      "outputs": [
        {
          "output_type": "execute_result",
          "data": {
            "text/plain": [
              "34834.0"
            ]
          },
          "metadata": {},
          "execution_count": 102
        }
      ]
    },
    {
      "cell_type": "code",
      "source": [
        "itunes_df_copy = itunes_df.copy()\n",
        "itunes_df_copy = itunes_df_copy.loc[\n",
        "    (itunes_df['Milliseconds'] > lower_boundary) &\n",
        "    (itunes_df['Milliseconds'] < upper_boundary)\n",
        "    ]"
      ],
      "metadata": {
        "id": "1U_Xb49G1BPw"
      },
      "execution_count": null,
      "outputs": []
    },
    {
      "cell_type": "code",
      "source": [
        "itunes_df_copy.shape"
      ],
      "metadata": {
        "colab": {
          "base_uri": "https://localhost:8080/"
        },
        "id": "VUJ_kB_X1hy4",
        "outputId": "db6a3d4e-c24f-495d-b550-10c3dfeaa9ed"
      },
      "execution_count": null,
      "outputs": [
        {
          "output_type": "execute_result",
          "data": {
            "text/plain": [
              "(3614, 8)"
            ]
          },
          "metadata": {},
          "execution_count": 105
        }
      ]
    },
    {
      "cell_type": "code",
      "source": [
        "q99 = itunes_df['Milliseconds'].quantile(0.99)"
      ],
      "metadata": {
        "id": "AFvFTEK41ibj"
      },
      "execution_count": null,
      "outputs": []
    },
    {
      "cell_type": "code",
      "source": [
        "# adapted from this SO answer: https://stackoverflow.com/a/46740476/4549682\n",
        "def remove_outliers(df, column):\n",
        "    q1 = df[column].quantile(0.25)\n",
        "    q3 = df[column].quantile(0.75)\n",
        "    iqr = q3 - q1\n",
        "    upper_boundary = q3 + 1.5 * iqr\n",
        "    lower_boundary = q1 - 1.5 * iqr\n",
        "    new_df = df.loc[(df[column] > lower_boundary) & (df[column] < upper_boundary)]\n",
        "    return new_df"
      ],
      "metadata": {
        "id": "gNLEBi2i2AVO"
      },
      "execution_count": null,
      "outputs": []
    },
    {
      "cell_type": "markdown",
      "source": [
        "A remoção de valores discrepantes pode facilitar a visualização de dados e melhorar o desempenho dos modelos de aprendizado de máquina. \n",
        "\n",
        "Outra maneira fácil de remover valores discrepantes é excluir quaisquer pontos de dados que estejam fora dos percentis extremos nos dados. Por exemplo, poderíamos remover quaisquer pontos fora dos percentis 1 e 99, o que significa que mantemos apenas os 98% médios dos dados."
      ],
      "metadata": {
        "id": "tYSAoxL4BMyt"
      }
    },
    {
      "cell_type": "markdown",
      "source": [
        "## Atividade"
      ],
      "metadata": {
        "id": "3T_-gP6B62Zr"
      }
    },
    {
      "cell_type": "markdown",
      "source": [
        "Identifique as amostras com valores discrepantes de bytes usando o IQR básico"
      ],
      "metadata": {
        "id": "7tQIXdgp67iS"
      }
    },
    {
      "cell_type": "markdown",
      "source": [
        "### Resposta"
      ],
      "metadata": {
        "id": "qDAQj0E66iOW"
      }
    },
    {
      "cell_type": "code",
      "source": [
        "q1 = itunes_df['Bytes'].quantile(0.25)\n",
        "q3 = itunes_df['Bytes'].quantile(0.75)\n",
        "iqr = q3 - q1"
      ],
      "metadata": {
        "id": "gQyx8smU2W8k"
      },
      "execution_count": null,
      "outputs": []
    },
    {
      "cell_type": "code",
      "source": [
        "iqr"
      ],
      "metadata": {
        "colab": {
          "base_uri": "https://localhost:8080/"
        },
        "id": "0QQBcqGb7GY_",
        "outputId": "71bf5479-a21d-475f-bbf7-5fd9ea036a87"
      },
      "execution_count": null,
      "outputs": [
        {
          "output_type": "execute_result",
          "data": {
            "text/plain": [
              "3878995.0"
            ]
          },
          "metadata": {},
          "execution_count": 111
        }
      ]
    },
    {
      "cell_type": "code",
      "source": [
        "limite_superior = q3 + 1.5 * iqr\n",
        "limite_inferior = q1 - 1.5 * iqr"
      ],
      "metadata": {
        "id": "ZUCcYTKY6ssR"
      },
      "execution_count": null,
      "outputs": []
    },
    {
      "cell_type": "code",
      "source": [
        "itunes_df_copy = itunes_df.copy()\n",
        "itunes_df_copy = itunes_df_copy.loc[\n",
        "    (itunes_df_copy['Bytes'] < limite_inferior) |\n",
        "    (itunes_df_copy['Bytes'] > limite_superior)\n",
        "    ]\n",
        "itunes_df_copy.head()"
      ],
      "metadata": {
        "colab": {
          "base_uri": "https://localhost:8080/",
          "height": 320
        },
        "id": "a3CTABkP61lX",
        "outputId": "8ff0faa5-d0a1-4d7a-fdfb-cf1e5934f348"
      },
      "execution_count": null,
      "outputs": [
        {
          "output_type": "execute_result",
          "data": {
            "text/plain": [
              "                                     Track Composer  Milliseconds      Bytes  \\\n",
              "0   All the Best Cowboys Have Daddy Issues      NaN       2555492  211743651   \n",
              "3                             Ben Franklin      NaN       1271938  264168080   \n",
              "21                                   Oprah      NaN          6635     224313   \n",
              "23                          Confidence Man      NaN       2615244  223756475   \n",
              "36                        The Real Problem      NaN         11650     387360   \n",
              "\n",
              "    UnitPrice               Genre                 Album      Artist  \n",
              "0        1.99            TV Shows        Lost, Season 1        Lost  \n",
              "3        1.99              Comedy  The Office, Season 3  The Office  \n",
              "21       0.99  Alternative & Punk            Body Count  Body Count  \n",
              "23       1.99            TV Shows        Lost, Season 1        Lost  \n",
              "36       0.99  Alternative & Punk            Body Count  Body Count  "
            ],
            "text/html": [
              "\n",
              "  <div id=\"df-c1d2437f-c324-483f-ab14-b63e2f3f54ed\">\n",
              "    <div class=\"colab-df-container\">\n",
              "      <div>\n",
              "<style scoped>\n",
              "    .dataframe tbody tr th:only-of-type {\n",
              "        vertical-align: middle;\n",
              "    }\n",
              "\n",
              "    .dataframe tbody tr th {\n",
              "        vertical-align: top;\n",
              "    }\n",
              "\n",
              "    .dataframe thead th {\n",
              "        text-align: right;\n",
              "    }\n",
              "</style>\n",
              "<table border=\"1\" class=\"dataframe\">\n",
              "  <thead>\n",
              "    <tr style=\"text-align: right;\">\n",
              "      <th></th>\n",
              "      <th>Track</th>\n",
              "      <th>Composer</th>\n",
              "      <th>Milliseconds</th>\n",
              "      <th>Bytes</th>\n",
              "      <th>UnitPrice</th>\n",
              "      <th>Genre</th>\n",
              "      <th>Album</th>\n",
              "      <th>Artist</th>\n",
              "    </tr>\n",
              "  </thead>\n",
              "  <tbody>\n",
              "    <tr>\n",
              "      <th>0</th>\n",
              "      <td>All the Best Cowboys Have Daddy Issues</td>\n",
              "      <td>NaN</td>\n",
              "      <td>2555492</td>\n",
              "      <td>211743651</td>\n",
              "      <td>1.99</td>\n",
              "      <td>TV Shows</td>\n",
              "      <td>Lost, Season 1</td>\n",
              "      <td>Lost</td>\n",
              "    </tr>\n",
              "    <tr>\n",
              "      <th>3</th>\n",
              "      <td>Ben Franklin</td>\n",
              "      <td>NaN</td>\n",
              "      <td>1271938</td>\n",
              "      <td>264168080</td>\n",
              "      <td>1.99</td>\n",
              "      <td>Comedy</td>\n",
              "      <td>The Office, Season 3</td>\n",
              "      <td>The Office</td>\n",
              "    </tr>\n",
              "    <tr>\n",
              "      <th>21</th>\n",
              "      <td>Oprah</td>\n",
              "      <td>NaN</td>\n",
              "      <td>6635</td>\n",
              "      <td>224313</td>\n",
              "      <td>0.99</td>\n",
              "      <td>Alternative &amp; Punk</td>\n",
              "      <td>Body Count</td>\n",
              "      <td>Body Count</td>\n",
              "    </tr>\n",
              "    <tr>\n",
              "      <th>23</th>\n",
              "      <td>Confidence Man</td>\n",
              "      <td>NaN</td>\n",
              "      <td>2615244</td>\n",
              "      <td>223756475</td>\n",
              "      <td>1.99</td>\n",
              "      <td>TV Shows</td>\n",
              "      <td>Lost, Season 1</td>\n",
              "      <td>Lost</td>\n",
              "    </tr>\n",
              "    <tr>\n",
              "      <th>36</th>\n",
              "      <td>The Real Problem</td>\n",
              "      <td>NaN</td>\n",
              "      <td>11650</td>\n",
              "      <td>387360</td>\n",
              "      <td>0.99</td>\n",
              "      <td>Alternative &amp; Punk</td>\n",
              "      <td>Body Count</td>\n",
              "      <td>Body Count</td>\n",
              "    </tr>\n",
              "  </tbody>\n",
              "</table>\n",
              "</div>\n",
              "      <button class=\"colab-df-convert\" onclick=\"convertToInteractive('df-c1d2437f-c324-483f-ab14-b63e2f3f54ed')\"\n",
              "              title=\"Convert this dataframe to an interactive table.\"\n",
              "              style=\"display:none;\">\n",
              "        \n",
              "  <svg xmlns=\"http://www.w3.org/2000/svg\" height=\"24px\"viewBox=\"0 0 24 24\"\n",
              "       width=\"24px\">\n",
              "    <path d=\"M0 0h24v24H0V0z\" fill=\"none\"/>\n",
              "    <path d=\"M18.56 5.44l.94 2.06.94-2.06 2.06-.94-2.06-.94-.94-2.06-.94 2.06-2.06.94zm-11 1L8.5 8.5l.94-2.06 2.06-.94-2.06-.94L8.5 2.5l-.94 2.06-2.06.94zm10 10l.94 2.06.94-2.06 2.06-.94-2.06-.94-.94-2.06-.94 2.06-2.06.94z\"/><path d=\"M17.41 7.96l-1.37-1.37c-.4-.4-.92-.59-1.43-.59-.52 0-1.04.2-1.43.59L10.3 9.45l-7.72 7.72c-.78.78-.78 2.05 0 2.83L4 21.41c.39.39.9.59 1.41.59.51 0 1.02-.2 1.41-.59l7.78-7.78 2.81-2.81c.8-.78.8-2.07 0-2.86zM5.41 20L4 18.59l7.72-7.72 1.47 1.35L5.41 20z\"/>\n",
              "  </svg>\n",
              "      </button>\n",
              "      \n",
              "  <style>\n",
              "    .colab-df-container {\n",
              "      display:flex;\n",
              "      flex-wrap:wrap;\n",
              "      gap: 12px;\n",
              "    }\n",
              "\n",
              "    .colab-df-convert {\n",
              "      background-color: #E8F0FE;\n",
              "      border: none;\n",
              "      border-radius: 50%;\n",
              "      cursor: pointer;\n",
              "      display: none;\n",
              "      fill: #1967D2;\n",
              "      height: 32px;\n",
              "      padding: 0 0 0 0;\n",
              "      width: 32px;\n",
              "    }\n",
              "\n",
              "    .colab-df-convert:hover {\n",
              "      background-color: #E2EBFA;\n",
              "      box-shadow: 0px 1px 2px rgba(60, 64, 67, 0.3), 0px 1px 3px 1px rgba(60, 64, 67, 0.15);\n",
              "      fill: #174EA6;\n",
              "    }\n",
              "\n",
              "    [theme=dark] .colab-df-convert {\n",
              "      background-color: #3B4455;\n",
              "      fill: #D2E3FC;\n",
              "    }\n",
              "\n",
              "    [theme=dark] .colab-df-convert:hover {\n",
              "      background-color: #434B5C;\n",
              "      box-shadow: 0px 1px 3px 1px rgba(0, 0, 0, 0.15);\n",
              "      filter: drop-shadow(0px 1px 2px rgba(0, 0, 0, 0.3));\n",
              "      fill: #FFFFFF;\n",
              "    }\n",
              "  </style>\n",
              "\n",
              "      <script>\n",
              "        const buttonEl =\n",
              "          document.querySelector('#df-c1d2437f-c324-483f-ab14-b63e2f3f54ed button.colab-df-convert');\n",
              "        buttonEl.style.display =\n",
              "          google.colab.kernel.accessAllowed ? 'block' : 'none';\n",
              "\n",
              "        async function convertToInteractive(key) {\n",
              "          const element = document.querySelector('#df-c1d2437f-c324-483f-ab14-b63e2f3f54ed');\n",
              "          const dataTable =\n",
              "            await google.colab.kernel.invokeFunction('convertToInteractive',\n",
              "                                                     [key], {});\n",
              "          if (!dataTable) return;\n",
              "\n",
              "          const docLinkHtml = 'Like what you see? Visit the ' +\n",
              "            '<a target=\"_blank\" href=https://colab.research.google.com/notebooks/data_table.ipynb>data table notebook</a>'\n",
              "            + ' to learn more about interactive tables.';\n",
              "          element.innerHTML = '';\n",
              "          dataTable['output_type'] = 'display_data';\n",
              "          await google.colab.output.renderOutput(dataTable, element);\n",
              "          const docLink = document.createElement('div');\n",
              "          docLink.innerHTML = docLinkHtml;\n",
              "          element.appendChild(docLink);\n",
              "        }\n",
              "      </script>\n",
              "    </div>\n",
              "  </div>\n",
              "  "
            ]
          },
          "metadata": {},
          "execution_count": 113
        }
      ]
    },
    {
      "cell_type": "markdown",
      "metadata": {
        "id": "1ObTdpsbMn_v"
      },
      "source": [
        "### Valores duplicados"
      ]
    },
    {
      "cell_type": "markdown",
      "source": [
        "É sempre uma boa ideia verificar valores duplicados, pois eles podem se infiltrar nos dados de várias maneiras."
      ],
      "metadata": {
        "id": "7NT8gcNmBZd4"
      }
    },
    {
      "cell_type": "code",
      "source": [
        "itunes_df.shape"
      ],
      "metadata": {
        "colab": {
          "base_uri": "https://localhost:8080/"
        },
        "id": "As3eVWOJoKeW",
        "outputId": "83a1baeb-2609-45a5-f008-ceb7706a18eb"
      },
      "execution_count": null,
      "outputs": [
        {
          "output_type": "execute_result",
          "data": {
            "text/plain": [
              "(4021, 8)"
            ]
          },
          "metadata": {},
          "execution_count": 114
        }
      ]
    },
    {
      "cell_type": "code",
      "source": [
        "itunes_df.duplicated().sum()"
      ],
      "metadata": {
        "colab": {
          "base_uri": "https://localhost:8080/"
        },
        "id": "Aa6Uu7tY81xl",
        "outputId": "06d1a5de-0074-4444-bf0c-ed860b4ba42b"
      },
      "execution_count": null,
      "outputs": [
        {
          "output_type": "execute_result",
          "data": {
            "text/plain": [
              "518"
            ]
          },
          "metadata": {},
          "execution_count": 115
        }
      ]
    },
    {
      "cell_type": "code",
      "source": [
        "itunes_df.drop_duplicates(inplace=True)"
      ],
      "metadata": {
        "id": "tdTITg-h84_l"
      },
      "execution_count": null,
      "outputs": []
    },
    {
      "cell_type": "code",
      "source": [
        "itunes_df.shape"
      ],
      "metadata": {
        "colab": {
          "base_uri": "https://localhost:8080/"
        },
        "id": "l6baWZZP9B44",
        "outputId": "e6792ae8-0640-4a6d-c610-95c1d6f5fbf5"
      },
      "execution_count": null,
      "outputs": [
        {
          "output_type": "execute_result",
          "data": {
            "text/plain": [
              "(3503, 8)"
            ]
          },
          "metadata": {},
          "execution_count": 117
        }
      ]
    },
    {
      "cell_type": "markdown",
      "metadata": {
        "id": "6uQhA1KrMn_w"
      },
      "source": [
        "## Transformações de dados"
      ]
    },
    {
      "cell_type": "markdown",
      "source": [
        "Transformações de dados simples em pandas são fáceis, como operações matemáticas básicas. Por exemplo, podemos converter milissegundos em segundos assim:"
      ],
      "metadata": {
        "id": "fqOrAcpGBw2S"
      }
    },
    {
      "cell_type": "code",
      "execution_count": null,
      "metadata": {
        "id": "0QwawEOzMn_w"
      },
      "outputs": [],
      "source": [
        "itunes_df['Seconds'] = itunes_df['Milliseconds'] / 1000"
      ]
    },
    {
      "cell_type": "code",
      "source": [
        "itunes_df.head()"
      ],
      "metadata": {
        "colab": {
          "base_uri": "https://localhost:8080/",
          "height": 389
        },
        "id": "Iy5-c4Mm9O5d",
        "outputId": "9ccfb02d-de55-4c7f-d9b8-753bcac7cb4f"
      },
      "execution_count": null,
      "outputs": [
        {
          "output_type": "execute_result",
          "data": {
            "text/plain": [
              "                                    Track                           Composer  \\\n",
              "0  All the Best Cowboys Have Daddy Issues                                NaN   \n",
              "1                               Beira Mar                       Gilberto Gil   \n",
              "2                                  Brasil  Milton Nascimento, Fernando Brant   \n",
              "3                            Ben Franklin                                NaN   \n",
              "4            O Último Romântico (Ao Vivo)                                NaN   \n",
              "\n",
              "   Milliseconds      Bytes  UnitPrice     Genre  \\\n",
              "0       2555492  211743651       1.99  TV Shows   \n",
              "1        295444    9597994       0.99     Latin   \n",
              "2        155428    5252560       0.99     Latin   \n",
              "3       1271938  264168080       1.99    Comedy   \n",
              "4        231993    7692697       0.99     Latin   \n",
              "\n",
              "                                             Album             Artist  \\\n",
              "0                                   Lost, Season 1               Lost   \n",
              "1                                        Unplugged       Eric Clapton   \n",
              "2                        Milton Nascimento Ao Vivo  Milton Nascimento   \n",
              "3                             The Office, Season 3         The Office   \n",
              "4  Lulu Santos - RCA 100 Anos De Música - Álbum 02        Lulu Santos   \n",
              "\n",
              "    Seconds  \n",
              "0  2555.492  \n",
              "1   295.444  \n",
              "2   155.428  \n",
              "3  1271.938  \n",
              "4   231.993  "
            ],
            "text/html": [
              "\n",
              "  <div id=\"df-afcfef70-2a70-43c1-90df-ec0f090960b8\">\n",
              "    <div class=\"colab-df-container\">\n",
              "      <div>\n",
              "<style scoped>\n",
              "    .dataframe tbody tr th:only-of-type {\n",
              "        vertical-align: middle;\n",
              "    }\n",
              "\n",
              "    .dataframe tbody tr th {\n",
              "        vertical-align: top;\n",
              "    }\n",
              "\n",
              "    .dataframe thead th {\n",
              "        text-align: right;\n",
              "    }\n",
              "</style>\n",
              "<table border=\"1\" class=\"dataframe\">\n",
              "  <thead>\n",
              "    <tr style=\"text-align: right;\">\n",
              "      <th></th>\n",
              "      <th>Track</th>\n",
              "      <th>Composer</th>\n",
              "      <th>Milliseconds</th>\n",
              "      <th>Bytes</th>\n",
              "      <th>UnitPrice</th>\n",
              "      <th>Genre</th>\n",
              "      <th>Album</th>\n",
              "      <th>Artist</th>\n",
              "      <th>Seconds</th>\n",
              "    </tr>\n",
              "  </thead>\n",
              "  <tbody>\n",
              "    <tr>\n",
              "      <th>0</th>\n",
              "      <td>All the Best Cowboys Have Daddy Issues</td>\n",
              "      <td>NaN</td>\n",
              "      <td>2555492</td>\n",
              "      <td>211743651</td>\n",
              "      <td>1.99</td>\n",
              "      <td>TV Shows</td>\n",
              "      <td>Lost, Season 1</td>\n",
              "      <td>Lost</td>\n",
              "      <td>2555.492</td>\n",
              "    </tr>\n",
              "    <tr>\n",
              "      <th>1</th>\n",
              "      <td>Beira Mar</td>\n",
              "      <td>Gilberto Gil</td>\n",
              "      <td>295444</td>\n",
              "      <td>9597994</td>\n",
              "      <td>0.99</td>\n",
              "      <td>Latin</td>\n",
              "      <td>Unplugged</td>\n",
              "      <td>Eric Clapton</td>\n",
              "      <td>295.444</td>\n",
              "    </tr>\n",
              "    <tr>\n",
              "      <th>2</th>\n",
              "      <td>Brasil</td>\n",
              "      <td>Milton Nascimento, Fernando Brant</td>\n",
              "      <td>155428</td>\n",
              "      <td>5252560</td>\n",
              "      <td>0.99</td>\n",
              "      <td>Latin</td>\n",
              "      <td>Milton Nascimento Ao Vivo</td>\n",
              "      <td>Milton Nascimento</td>\n",
              "      <td>155.428</td>\n",
              "    </tr>\n",
              "    <tr>\n",
              "      <th>3</th>\n",
              "      <td>Ben Franklin</td>\n",
              "      <td>NaN</td>\n",
              "      <td>1271938</td>\n",
              "      <td>264168080</td>\n",
              "      <td>1.99</td>\n",
              "      <td>Comedy</td>\n",
              "      <td>The Office, Season 3</td>\n",
              "      <td>The Office</td>\n",
              "      <td>1271.938</td>\n",
              "    </tr>\n",
              "    <tr>\n",
              "      <th>4</th>\n",
              "      <td>O Último Romântico (Ao Vivo)</td>\n",
              "      <td>NaN</td>\n",
              "      <td>231993</td>\n",
              "      <td>7692697</td>\n",
              "      <td>0.99</td>\n",
              "      <td>Latin</td>\n",
              "      <td>Lulu Santos - RCA 100 Anos De Música - Álbum 02</td>\n",
              "      <td>Lulu Santos</td>\n",
              "      <td>231.993</td>\n",
              "    </tr>\n",
              "  </tbody>\n",
              "</table>\n",
              "</div>\n",
              "      <button class=\"colab-df-convert\" onclick=\"convertToInteractive('df-afcfef70-2a70-43c1-90df-ec0f090960b8')\"\n",
              "              title=\"Convert this dataframe to an interactive table.\"\n",
              "              style=\"display:none;\">\n",
              "        \n",
              "  <svg xmlns=\"http://www.w3.org/2000/svg\" height=\"24px\"viewBox=\"0 0 24 24\"\n",
              "       width=\"24px\">\n",
              "    <path d=\"M0 0h24v24H0V0z\" fill=\"none\"/>\n",
              "    <path d=\"M18.56 5.44l.94 2.06.94-2.06 2.06-.94-2.06-.94-.94-2.06-.94 2.06-2.06.94zm-11 1L8.5 8.5l.94-2.06 2.06-.94-2.06-.94L8.5 2.5l-.94 2.06-2.06.94zm10 10l.94 2.06.94-2.06 2.06-.94-2.06-.94-.94-2.06-.94 2.06-2.06.94z\"/><path d=\"M17.41 7.96l-1.37-1.37c-.4-.4-.92-.59-1.43-.59-.52 0-1.04.2-1.43.59L10.3 9.45l-7.72 7.72c-.78.78-.78 2.05 0 2.83L4 21.41c.39.39.9.59 1.41.59.51 0 1.02-.2 1.41-.59l7.78-7.78 2.81-2.81c.8-.78.8-2.07 0-2.86zM5.41 20L4 18.59l7.72-7.72 1.47 1.35L5.41 20z\"/>\n",
              "  </svg>\n",
              "      </button>\n",
              "      \n",
              "  <style>\n",
              "    .colab-df-container {\n",
              "      display:flex;\n",
              "      flex-wrap:wrap;\n",
              "      gap: 12px;\n",
              "    }\n",
              "\n",
              "    .colab-df-convert {\n",
              "      background-color: #E8F0FE;\n",
              "      border: none;\n",
              "      border-radius: 50%;\n",
              "      cursor: pointer;\n",
              "      display: none;\n",
              "      fill: #1967D2;\n",
              "      height: 32px;\n",
              "      padding: 0 0 0 0;\n",
              "      width: 32px;\n",
              "    }\n",
              "\n",
              "    .colab-df-convert:hover {\n",
              "      background-color: #E2EBFA;\n",
              "      box-shadow: 0px 1px 2px rgba(60, 64, 67, 0.3), 0px 1px 3px 1px rgba(60, 64, 67, 0.15);\n",
              "      fill: #174EA6;\n",
              "    }\n",
              "\n",
              "    [theme=dark] .colab-df-convert {\n",
              "      background-color: #3B4455;\n",
              "      fill: #D2E3FC;\n",
              "    }\n",
              "\n",
              "    [theme=dark] .colab-df-convert:hover {\n",
              "      background-color: #434B5C;\n",
              "      box-shadow: 0px 1px 3px 1px rgba(0, 0, 0, 0.15);\n",
              "      filter: drop-shadow(0px 1px 2px rgba(0, 0, 0, 0.3));\n",
              "      fill: #FFFFFF;\n",
              "    }\n",
              "  </style>\n",
              "\n",
              "      <script>\n",
              "        const buttonEl =\n",
              "          document.querySelector('#df-afcfef70-2a70-43c1-90df-ec0f090960b8 button.colab-df-convert');\n",
              "        buttonEl.style.display =\n",
              "          google.colab.kernel.accessAllowed ? 'block' : 'none';\n",
              "\n",
              "        async function convertToInteractive(key) {\n",
              "          const element = document.querySelector('#df-afcfef70-2a70-43c1-90df-ec0f090960b8');\n",
              "          const dataTable =\n",
              "            await google.colab.kernel.invokeFunction('convertToInteractive',\n",
              "                                                     [key], {});\n",
              "          if (!dataTable) return;\n",
              "\n",
              "          const docLinkHtml = 'Like what you see? Visit the ' +\n",
              "            '<a target=\"_blank\" href=https://colab.research.google.com/notebooks/data_table.ipynb>data table notebook</a>'\n",
              "            + ' to learn more about interactive tables.';\n",
              "          element.innerHTML = '';\n",
              "          dataTable['output_type'] = 'display_data';\n",
              "          await google.colab.output.renderOutput(dataTable, element);\n",
              "          const docLink = document.createElement('div');\n",
              "          docLink.innerHTML = docLinkHtml;\n",
              "          element.appendChild(docLink);\n",
              "        }\n",
              "      </script>\n",
              "    </div>\n",
              "  </div>\n",
              "  "
            ]
          },
          "metadata": {},
          "execution_count": 119
        }
      ]
    },
    {
      "cell_type": "markdown",
      "source": [
        "Se quiséssemos criar outra coluna, digamos, a proporção entre o comprimento da música e os bytes, poderíamos fazer assim:"
      ],
      "metadata": {
        "id": "e8iC_mqyB1wW"
      }
    },
    {
      "cell_type": "code",
      "execution_count": null,
      "metadata": {
        "id": "fuANoZkpMn_w"
      },
      "outputs": [],
      "source": [
        "itunes_df['len_byte_ratio'] = itunes_df['Milliseconds'] / itunes_df['Bytes']"
      ]
    },
    {
      "cell_type": "code",
      "source": [
        "itunes_df['len_byte_ratio'].head()"
      ],
      "metadata": {
        "colab": {
          "base_uri": "https://localhost:8080/"
        },
        "id": "WP5E3wHz9YgF",
        "outputId": "629de57d-f7f2-42ae-d487-669fcbb3b01c"
      },
      "execution_count": null,
      "outputs": [
        {
          "output_type": "execute_result",
          "data": {
            "text/plain": [
              "0    0.012069\n",
              "1    0.030782\n",
              "2    0.029591\n",
              "3    0.004815\n",
              "4    0.030158\n",
              "Name: len_byte_ratio, dtype: float64"
            ]
          },
          "metadata": {},
          "execution_count": 121
        }
      ]
    },
    {
      "cell_type": "markdown",
      "metadata": {
        "id": "-CaOqMQvMn_w"
      },
      "source": [
        "### Apply e Map"
      ]
    },
    {
      "cell_type": "code",
      "source": [
        "itunes_df['Genre'].value_counts()"
      ],
      "metadata": {
        "colab": {
          "base_uri": "https://localhost:8080/"
        },
        "id": "jiabBcQVohQZ",
        "outputId": "535ccf87-b52f-4718-baa3-9b49c56015ae"
      },
      "execution_count": null,
      "outputs": [
        {
          "output_type": "execute_result",
          "data": {
            "text/plain": [
              "Rock                  1297\n",
              "Latin                  579\n",
              "Metal                  374\n",
              "Alternative & Punk     332\n",
              "Jazz                   130\n",
              "TV Shows                93\n",
              "Blues                   81\n",
              "Classical               74\n",
              "Drama                   64\n",
              "R&B/Soul                61\n",
              "Reggae                  58\n",
              "Pop                     48\n",
              "Soundtrack              43\n",
              "Alternative             40\n",
              "Hip Hop/Rap             35\n",
              "Electronica/Dance       30\n",
              "Heavy Metal             28\n",
              "World                   28\n",
              "Sci Fi & Fantasy        26\n",
              "Easy Listening          24\n",
              "Comedy                  17\n",
              "Bossa Nova              15\n",
              "Science Fiction         13\n",
              "Rock And Roll           12\n",
              "Opera                    1\n",
              "Name: Genre, dtype: int64"
            ]
          },
          "metadata": {},
          "execution_count": 122
        }
      ]
    },
    {
      "cell_type": "markdown",
      "source": [
        "Digamos que o dataset tivesse o mesmo genero com grafias diferentes"
      ],
      "metadata": {
        "id": "gVR6Tl6pCCsy"
      }
    },
    {
      "cell_type": "code",
      "execution_count": null,
      "metadata": {
        "colab": {
          "base_uri": "https://localhost:8080/"
        },
        "id": "WninR3KBMn_x",
        "outputId": "594d87fe-0ca6-4f30-fa1e-cddfecbdf59c"
      },
      "outputs": [
        {
          "output_type": "execute_result",
          "data": {
            "text/plain": [
              "0         TV Shows\n",
              "1            Latin\n",
              "2            Latin\n",
              "3           Comedy\n",
              "4            Latin\n",
              "           ...    \n",
              "3496     Classical\n",
              "3499     Classical\n",
              "3500     Classical\n",
              "3501     Classical\n",
              "3502    Soundtrack\n",
              "Name: Genre, Length: 3503, dtype: object"
            ]
          },
          "metadata": {},
          "execution_count": 123
        }
      ],
      "source": [
        "genre_dict = {'metal': 'Metal', 'met': 'Metal'}\n",
        "itunes_df['Genre'].replace(genre_dict)"
      ]
    },
    {
      "cell_type": "code",
      "source": [
        "genre_dict = {'Rock And Roll': 'Rock'}\n",
        "itunes_df['Genre'].replace(genre_dict, inplace=True)"
      ],
      "metadata": {
        "id": "Op429S579p1X"
      },
      "execution_count": null,
      "outputs": []
    },
    {
      "cell_type": "code",
      "source": [
        "itunes_df['Genre'].value_counts()"
      ],
      "metadata": {
        "colab": {
          "base_uri": "https://localhost:8080/"
        },
        "id": "lRMaHUnU9t6f",
        "outputId": "9dfeab07-c9f7-48e2-c0ce-194673b97b3e"
      },
      "execution_count": null,
      "outputs": [
        {
          "output_type": "execute_result",
          "data": {
            "text/plain": [
              "Rock                  1309\n",
              "Latin                  579\n",
              "Metal                  374\n",
              "Alternative & Punk     332\n",
              "Jazz                   130\n",
              "TV Shows                93\n",
              "Blues                   81\n",
              "Classical               74\n",
              "Drama                   64\n",
              "R&B/Soul                61\n",
              "Reggae                  58\n",
              "Pop                     48\n",
              "Soundtrack              43\n",
              "Alternative             40\n",
              "Hip Hop/Rap             35\n",
              "Electronica/Dance       30\n",
              "Heavy Metal             28\n",
              "World                   28\n",
              "Sci Fi & Fantasy        26\n",
              "Easy Listening          24\n",
              "Comedy                  17\n",
              "Bossa Nova              15\n",
              "Science Fiction         13\n",
              "Opera                    1\n",
              "Name: Genre, dtype: int64"
            ]
          },
          "metadata": {},
          "execution_count": 127
        }
      ]
    },
    {
      "cell_type": "markdown",
      "source": [
        "Outra ferramenta útil é a função de aplicação, que é uma função de canivete suíço – ela pode fazer qualquer coisa. Por exemplo"
      ],
      "metadata": {
        "id": "ZXjMq7GsCUrR"
      }
    },
    {
      "cell_type": "code",
      "execution_count": null,
      "metadata": {
        "colab": {
          "base_uri": "https://localhost:8080/"
        },
        "id": "LGnYWHKjMn_x",
        "outputId": "80d98004-1348-4cbf-8afc-6547f81e7e23"
      },
      "outputs": [
        {
          "output_type": "execute_result",
          "data": {
            "text/plain": [
              "0         tv shows\n",
              "1            latin\n",
              "2            latin\n",
              "3           comedy\n",
              "4            latin\n",
              "           ...    \n",
              "3496     classical\n",
              "3499     classical\n",
              "3500     classical\n",
              "3501     classical\n",
              "3502    soundtrack\n",
              "Name: Genre, Length: 3503, dtype: object"
            ]
          },
          "metadata": {},
          "execution_count": 116
        }
      ],
      "source": [
        "itunes_df['Genre'].apply(lambda x: x.lower())"
      ]
    },
    {
      "cell_type": "markdown",
      "source": [
        "uma função lambda é uma função \"anônima\", criada na hora. Ela começa com a palavra-chave lambda, depois é seguida pelas entradas como nomes de variáveis, depois um caractere de dois pontos e, finalmente, a função real."
      ],
      "metadata": {
        "id": "I9fPjW7QChuD"
      }
    },
    {
      "cell_type": "markdown",
      "source": [
        "outra forma de fazer o mesmo"
      ],
      "metadata": {
        "id": "bv2w1CLkCmJM"
      }
    },
    {
      "cell_type": "code",
      "execution_count": null,
      "metadata": {
        "colab": {
          "base_uri": "https://localhost:8080/"
        },
        "id": "B4o6ZHgaMn_x",
        "outputId": "084c0aad-0e15-44e8-bca5-fa0b385ed489"
      },
      "outputs": [
        {
          "output_type": "execute_result",
          "data": {
            "text/plain": [
              "0         tv shows\n",
              "1            latin\n",
              "2            latin\n",
              "3           comedy\n",
              "4            latin\n",
              "           ...    \n",
              "3496     classical\n",
              "3499     classical\n",
              "3500     classical\n",
              "3501     classical\n",
              "3502    soundtrack\n",
              "Name: Genre, Length: 3503, dtype: object"
            ]
          },
          "metadata": {},
          "execution_count": 115
        }
      ],
      "source": [
        "# the above is the same as this\n",
        "def lowercase(x):\n",
        "    return x.lower()\n",
        "\n",
        "itunes_df['Genre'].apply(lowercase)"
      ]
    },
    {
      "cell_type": "code",
      "source": [
        "# but using built-in functions is almost always faster\n",
        "itunes_df['Genre'].str.lower()"
      ],
      "metadata": {
        "colab": {
          "base_uri": "https://localhost:8080/"
        },
        "id": "HHdriXXw-LR_",
        "outputId": "63e5984b-aa4b-422d-cfda-e601b17b2513"
      },
      "execution_count": null,
      "outputs": [
        {
          "output_type": "execute_result",
          "data": {
            "text/plain": [
              "0         tv shows\n",
              "1            latin\n",
              "2            latin\n",
              "3           comedy\n",
              "4            latin\n",
              "           ...    \n",
              "3496     classical\n",
              "3499     classical\n",
              "3500     classical\n",
              "3501     classical\n",
              "3502    soundtrack\n",
              "Name: Genre, Length: 3503, dtype: object"
            ]
          },
          "metadata": {},
          "execution_count": 128
        }
      ]
    },
    {
      "cell_type": "markdown",
      "metadata": {
        "id": "-rdQ-LZdMn_z"
      },
      "source": [
        "### Group By"
      ]
    },
    {
      "cell_type": "code",
      "source": [
        "itunes_df.groupby('Genre').mean()"
      ],
      "metadata": {
        "colab": {
          "base_uri": "https://localhost:8080/",
          "height": 864
        },
        "id": "DXea-p9GEBrk",
        "outputId": "09b68067-fab0-4c91-850e-c32008eb5994"
      },
      "execution_count": null,
      "outputs": [
        {
          "output_type": "execute_result",
          "data": {
            "text/plain": [
              "                    Milliseconds         Bytes  UnitPrice      Seconds  \\\n",
              "Genre                                                                    \n",
              "Alternative         2.640585e+05  5.883474e+06       0.99   264.058525   \n",
              "Alternative & Punk  2.343538e+05  7.691003e+06       0.99   234.353849   \n",
              "Blues               2.703598e+05  8.625576e+06       0.99   270.359778   \n",
              "Bossa Nova          2.195900e+05  7.239057e+06       0.99   219.590000   \n",
              "Classical           2.938676e+05  5.220907e+06       0.99   293.867568   \n",
              "Comedy              1.585264e+06  3.169045e+08       1.99  1585.263706   \n",
              "Drama               2.575284e+06  5.069470e+08       1.99  2575.283781   \n",
              "Easy Listening      1.891642e+05  6.160518e+06       0.99   189.164208   \n",
              "Electronica/Dance   3.029858e+05  1.069193e+07       0.99   302.985800   \n",
              "Heavy Metal         2.974529e+05  9.474752e+06       0.99   297.452929   \n",
              "Hip Hop/Rap         1.781763e+05  6.534717e+06       0.99   178.176286   \n",
              "Jazz                2.917554e+05  9.488137e+06       0.99   291.755377   \n",
              "Latin               2.328593e+05  7.710589e+06       0.99   232.859263   \n",
              "Metal               3.097494e+05  9.234573e+06       0.99   309.749444   \n",
              "Opera               1.748130e+05  2.861468e+06       0.99   174.813000   \n",
              "Pop                 2.290341e+05  4.745668e+06       0.99   229.034104   \n",
              "R&B/Soul            2.200669e+05  6.575926e+06       0.99   220.066852   \n",
              "Reggae              2.471778e+05  8.237493e+06       0.99   247.177759   \n",
              "Rock                2.839100e+05  9.007374e+06       0.99   283.910043   \n",
              "Rock And Roll       1.346435e+05  2.123262e+06       0.99   134.643500   \n",
              "Sci Fi & Fantasy    2.911783e+06  5.329304e+08       1.99  2911.783038   \n",
              "Science Fiction     2.625549e+06  5.070790e+08       1.99  2625.549077   \n",
              "Soundtrack          2.443709e+05  8.090772e+06       0.99   244.370884   \n",
              "TV Shows            2.145041e+06  3.402617e+08       1.99  2145.041022   \n",
              "World               2.249238e+05  7.129267e+06       0.99   224.923821   \n",
              "\n",
              "                    len_byte_ratio  \n",
              "Genre                               \n",
              "Alternative               0.058276  \n",
              "Alternative & Punk        0.030459  \n",
              "Blues                     0.031631  \n",
              "Bossa Nova                0.030340  \n",
              "Classical                 0.057609  \n",
              "Comedy                    0.005010  \n",
              "Drama                     0.005097  \n",
              "Easy Listening            0.030695  \n",
              "Electronica/Dance         0.029232  \n",
              "Heavy Metal               0.035105  \n",
              "Hip Hop/Rap               0.027413  \n",
              "Jazz                      0.031192  \n",
              "Latin                     0.030251  \n",
              "Metal                     0.035817  \n",
              "Opera                     0.061092  \n",
              "Pop                       0.052089  \n",
              "R&B/Soul                  0.036531  \n",
              "Reggae                    0.030007  \n",
              "Rock                      0.032530  \n",
              "Rock And Roll             0.064076  \n",
              "Sci Fi & Fantasy          0.005474  \n",
              "Science Fiction           0.005188  \n",
              "Soundtrack                0.030735  \n",
              "TV Shows                  0.007025  \n",
              "World                     0.032324  "
            ],
            "text/html": [
              "\n",
              "  <div id=\"df-363d99be-f90d-41b6-a874-9d9ecfb4beef\">\n",
              "    <div class=\"colab-df-container\">\n",
              "      <div>\n",
              "<style scoped>\n",
              "    .dataframe tbody tr th:only-of-type {\n",
              "        vertical-align: middle;\n",
              "    }\n",
              "\n",
              "    .dataframe tbody tr th {\n",
              "        vertical-align: top;\n",
              "    }\n",
              "\n",
              "    .dataframe thead th {\n",
              "        text-align: right;\n",
              "    }\n",
              "</style>\n",
              "<table border=\"1\" class=\"dataframe\">\n",
              "  <thead>\n",
              "    <tr style=\"text-align: right;\">\n",
              "      <th></th>\n",
              "      <th>Milliseconds</th>\n",
              "      <th>Bytes</th>\n",
              "      <th>UnitPrice</th>\n",
              "      <th>Seconds</th>\n",
              "      <th>len_byte_ratio</th>\n",
              "    </tr>\n",
              "    <tr>\n",
              "      <th>Genre</th>\n",
              "      <th></th>\n",
              "      <th></th>\n",
              "      <th></th>\n",
              "      <th></th>\n",
              "      <th></th>\n",
              "    </tr>\n",
              "  </thead>\n",
              "  <tbody>\n",
              "    <tr>\n",
              "      <th>Alternative</th>\n",
              "      <td>2.640585e+05</td>\n",
              "      <td>5.883474e+06</td>\n",
              "      <td>0.99</td>\n",
              "      <td>264.058525</td>\n",
              "      <td>0.058276</td>\n",
              "    </tr>\n",
              "    <tr>\n",
              "      <th>Alternative &amp; Punk</th>\n",
              "      <td>2.343538e+05</td>\n",
              "      <td>7.691003e+06</td>\n",
              "      <td>0.99</td>\n",
              "      <td>234.353849</td>\n",
              "      <td>0.030459</td>\n",
              "    </tr>\n",
              "    <tr>\n",
              "      <th>Blues</th>\n",
              "      <td>2.703598e+05</td>\n",
              "      <td>8.625576e+06</td>\n",
              "      <td>0.99</td>\n",
              "      <td>270.359778</td>\n",
              "      <td>0.031631</td>\n",
              "    </tr>\n",
              "    <tr>\n",
              "      <th>Bossa Nova</th>\n",
              "      <td>2.195900e+05</td>\n",
              "      <td>7.239057e+06</td>\n",
              "      <td>0.99</td>\n",
              "      <td>219.590000</td>\n",
              "      <td>0.030340</td>\n",
              "    </tr>\n",
              "    <tr>\n",
              "      <th>Classical</th>\n",
              "      <td>2.938676e+05</td>\n",
              "      <td>5.220907e+06</td>\n",
              "      <td>0.99</td>\n",
              "      <td>293.867568</td>\n",
              "      <td>0.057609</td>\n",
              "    </tr>\n",
              "    <tr>\n",
              "      <th>Comedy</th>\n",
              "      <td>1.585264e+06</td>\n",
              "      <td>3.169045e+08</td>\n",
              "      <td>1.99</td>\n",
              "      <td>1585.263706</td>\n",
              "      <td>0.005010</td>\n",
              "    </tr>\n",
              "    <tr>\n",
              "      <th>Drama</th>\n",
              "      <td>2.575284e+06</td>\n",
              "      <td>5.069470e+08</td>\n",
              "      <td>1.99</td>\n",
              "      <td>2575.283781</td>\n",
              "      <td>0.005097</td>\n",
              "    </tr>\n",
              "    <tr>\n",
              "      <th>Easy Listening</th>\n",
              "      <td>1.891642e+05</td>\n",
              "      <td>6.160518e+06</td>\n",
              "      <td>0.99</td>\n",
              "      <td>189.164208</td>\n",
              "      <td>0.030695</td>\n",
              "    </tr>\n",
              "    <tr>\n",
              "      <th>Electronica/Dance</th>\n",
              "      <td>3.029858e+05</td>\n",
              "      <td>1.069193e+07</td>\n",
              "      <td>0.99</td>\n",
              "      <td>302.985800</td>\n",
              "      <td>0.029232</td>\n",
              "    </tr>\n",
              "    <tr>\n",
              "      <th>Heavy Metal</th>\n",
              "      <td>2.974529e+05</td>\n",
              "      <td>9.474752e+06</td>\n",
              "      <td>0.99</td>\n",
              "      <td>297.452929</td>\n",
              "      <td>0.035105</td>\n",
              "    </tr>\n",
              "    <tr>\n",
              "      <th>Hip Hop/Rap</th>\n",
              "      <td>1.781763e+05</td>\n",
              "      <td>6.534717e+06</td>\n",
              "      <td>0.99</td>\n",
              "      <td>178.176286</td>\n",
              "      <td>0.027413</td>\n",
              "    </tr>\n",
              "    <tr>\n",
              "      <th>Jazz</th>\n",
              "      <td>2.917554e+05</td>\n",
              "      <td>9.488137e+06</td>\n",
              "      <td>0.99</td>\n",
              "      <td>291.755377</td>\n",
              "      <td>0.031192</td>\n",
              "    </tr>\n",
              "    <tr>\n",
              "      <th>Latin</th>\n",
              "      <td>2.328593e+05</td>\n",
              "      <td>7.710589e+06</td>\n",
              "      <td>0.99</td>\n",
              "      <td>232.859263</td>\n",
              "      <td>0.030251</td>\n",
              "    </tr>\n",
              "    <tr>\n",
              "      <th>Metal</th>\n",
              "      <td>3.097494e+05</td>\n",
              "      <td>9.234573e+06</td>\n",
              "      <td>0.99</td>\n",
              "      <td>309.749444</td>\n",
              "      <td>0.035817</td>\n",
              "    </tr>\n",
              "    <tr>\n",
              "      <th>Opera</th>\n",
              "      <td>1.748130e+05</td>\n",
              "      <td>2.861468e+06</td>\n",
              "      <td>0.99</td>\n",
              "      <td>174.813000</td>\n",
              "      <td>0.061092</td>\n",
              "    </tr>\n",
              "    <tr>\n",
              "      <th>Pop</th>\n",
              "      <td>2.290341e+05</td>\n",
              "      <td>4.745668e+06</td>\n",
              "      <td>0.99</td>\n",
              "      <td>229.034104</td>\n",
              "      <td>0.052089</td>\n",
              "    </tr>\n",
              "    <tr>\n",
              "      <th>R&amp;B/Soul</th>\n",
              "      <td>2.200669e+05</td>\n",
              "      <td>6.575926e+06</td>\n",
              "      <td>0.99</td>\n",
              "      <td>220.066852</td>\n",
              "      <td>0.036531</td>\n",
              "    </tr>\n",
              "    <tr>\n",
              "      <th>Reggae</th>\n",
              "      <td>2.471778e+05</td>\n",
              "      <td>8.237493e+06</td>\n",
              "      <td>0.99</td>\n",
              "      <td>247.177759</td>\n",
              "      <td>0.030007</td>\n",
              "    </tr>\n",
              "    <tr>\n",
              "      <th>Rock</th>\n",
              "      <td>2.839100e+05</td>\n",
              "      <td>9.007374e+06</td>\n",
              "      <td>0.99</td>\n",
              "      <td>283.910043</td>\n",
              "      <td>0.032530</td>\n",
              "    </tr>\n",
              "    <tr>\n",
              "      <th>Rock And Roll</th>\n",
              "      <td>1.346435e+05</td>\n",
              "      <td>2.123262e+06</td>\n",
              "      <td>0.99</td>\n",
              "      <td>134.643500</td>\n",
              "      <td>0.064076</td>\n",
              "    </tr>\n",
              "    <tr>\n",
              "      <th>Sci Fi &amp; Fantasy</th>\n",
              "      <td>2.911783e+06</td>\n",
              "      <td>5.329304e+08</td>\n",
              "      <td>1.99</td>\n",
              "      <td>2911.783038</td>\n",
              "      <td>0.005474</td>\n",
              "    </tr>\n",
              "    <tr>\n",
              "      <th>Science Fiction</th>\n",
              "      <td>2.625549e+06</td>\n",
              "      <td>5.070790e+08</td>\n",
              "      <td>1.99</td>\n",
              "      <td>2625.549077</td>\n",
              "      <td>0.005188</td>\n",
              "    </tr>\n",
              "    <tr>\n",
              "      <th>Soundtrack</th>\n",
              "      <td>2.443709e+05</td>\n",
              "      <td>8.090772e+06</td>\n",
              "      <td>0.99</td>\n",
              "      <td>244.370884</td>\n",
              "      <td>0.030735</td>\n",
              "    </tr>\n",
              "    <tr>\n",
              "      <th>TV Shows</th>\n",
              "      <td>2.145041e+06</td>\n",
              "      <td>3.402617e+08</td>\n",
              "      <td>1.99</td>\n",
              "      <td>2145.041022</td>\n",
              "      <td>0.007025</td>\n",
              "    </tr>\n",
              "    <tr>\n",
              "      <th>World</th>\n",
              "      <td>2.249238e+05</td>\n",
              "      <td>7.129267e+06</td>\n",
              "      <td>0.99</td>\n",
              "      <td>224.923821</td>\n",
              "      <td>0.032324</td>\n",
              "    </tr>\n",
              "  </tbody>\n",
              "</table>\n",
              "</div>\n",
              "      <button class=\"colab-df-convert\" onclick=\"convertToInteractive('df-363d99be-f90d-41b6-a874-9d9ecfb4beef')\"\n",
              "              title=\"Convert this dataframe to an interactive table.\"\n",
              "              style=\"display:none;\">\n",
              "        \n",
              "  <svg xmlns=\"http://www.w3.org/2000/svg\" height=\"24px\"viewBox=\"0 0 24 24\"\n",
              "       width=\"24px\">\n",
              "    <path d=\"M0 0h24v24H0V0z\" fill=\"none\"/>\n",
              "    <path d=\"M18.56 5.44l.94 2.06.94-2.06 2.06-.94-2.06-.94-.94-2.06-.94 2.06-2.06.94zm-11 1L8.5 8.5l.94-2.06 2.06-.94-2.06-.94L8.5 2.5l-.94 2.06-2.06.94zm10 10l.94 2.06.94-2.06 2.06-.94-2.06-.94-.94-2.06-.94 2.06-2.06.94z\"/><path d=\"M17.41 7.96l-1.37-1.37c-.4-.4-.92-.59-1.43-.59-.52 0-1.04.2-1.43.59L10.3 9.45l-7.72 7.72c-.78.78-.78 2.05 0 2.83L4 21.41c.39.39.9.59 1.41.59.51 0 1.02-.2 1.41-.59l7.78-7.78 2.81-2.81c.8-.78.8-2.07 0-2.86zM5.41 20L4 18.59l7.72-7.72 1.47 1.35L5.41 20z\"/>\n",
              "  </svg>\n",
              "      </button>\n",
              "      \n",
              "  <style>\n",
              "    .colab-df-container {\n",
              "      display:flex;\n",
              "      flex-wrap:wrap;\n",
              "      gap: 12px;\n",
              "    }\n",
              "\n",
              "    .colab-df-convert {\n",
              "      background-color: #E8F0FE;\n",
              "      border: none;\n",
              "      border-radius: 50%;\n",
              "      cursor: pointer;\n",
              "      display: none;\n",
              "      fill: #1967D2;\n",
              "      height: 32px;\n",
              "      padding: 0 0 0 0;\n",
              "      width: 32px;\n",
              "    }\n",
              "\n",
              "    .colab-df-convert:hover {\n",
              "      background-color: #E2EBFA;\n",
              "      box-shadow: 0px 1px 2px rgba(60, 64, 67, 0.3), 0px 1px 3px 1px rgba(60, 64, 67, 0.15);\n",
              "      fill: #174EA6;\n",
              "    }\n",
              "\n",
              "    [theme=dark] .colab-df-convert {\n",
              "      background-color: #3B4455;\n",
              "      fill: #D2E3FC;\n",
              "    }\n",
              "\n",
              "    [theme=dark] .colab-df-convert:hover {\n",
              "      background-color: #434B5C;\n",
              "      box-shadow: 0px 1px 3px 1px rgba(0, 0, 0, 0.15);\n",
              "      filter: drop-shadow(0px 1px 2px rgba(0, 0, 0, 0.3));\n",
              "      fill: #FFFFFF;\n",
              "    }\n",
              "  </style>\n",
              "\n",
              "      <script>\n",
              "        const buttonEl =\n",
              "          document.querySelector('#df-363d99be-f90d-41b6-a874-9d9ecfb4beef button.colab-df-convert');\n",
              "        buttonEl.style.display =\n",
              "          google.colab.kernel.accessAllowed ? 'block' : 'none';\n",
              "\n",
              "        async function convertToInteractive(key) {\n",
              "          const element = document.querySelector('#df-363d99be-f90d-41b6-a874-9d9ecfb4beef');\n",
              "          const dataTable =\n",
              "            await google.colab.kernel.invokeFunction('convertToInteractive',\n",
              "                                                     [key], {});\n",
              "          if (!dataTable) return;\n",
              "\n",
              "          const docLinkHtml = 'Like what you see? Visit the ' +\n",
              "            '<a target=\"_blank\" href=https://colab.research.google.com/notebooks/data_table.ipynb>data table notebook</a>'\n",
              "            + ' to learn more about interactive tables.';\n",
              "          element.innerHTML = '';\n",
              "          dataTable['output_type'] = 'display_data';\n",
              "          await google.colab.output.renderOutput(dataTable, element);\n",
              "          const docLink = document.createElement('div');\n",
              "          docLink.innerHTML = docLinkHtml;\n",
              "          element.appendChild(docLink);\n",
              "        }\n",
              "      </script>\n",
              "    </div>\n",
              "  </div>\n",
              "  "
            ]
          },
          "metadata": {},
          "execution_count": 124
        }
      ]
    },
    {
      "cell_type": "markdown",
      "source": [
        "Por exemplo, podemos ver a duração média das músicas por\n",
        "gênero"
      ],
      "metadata": {
        "id": "W3m_41RHDruK"
      }
    },
    {
      "cell_type": "code",
      "execution_count": null,
      "metadata": {
        "colab": {
          "base_uri": "https://localhost:8080/"
        },
        "id": "YxQcwkU0Mn_z",
        "outputId": "ff520d6b-f07d-458b-de3a-c0b0fdf75995"
      },
      "outputs": [
        {
          "output_type": "execute_result",
          "data": {
            "text/plain": [
              "Genre\n",
              "Opera             174.813000\n",
              "Hip Hop/Rap       178.176286\n",
              "Easy Listening    189.164208\n",
              "Bossa Nova        219.590000\n",
              "R&B/Soul          220.066852\n",
              "Name: Seconds, dtype: float64"
            ]
          },
          "metadata": {},
          "execution_count": 130
        }
      ],
      "source": [
        "itunes_df.groupby('Genre').mean()['Seconds'].sort_values().head()"
      ]
    },
    {
      "cell_type": "code",
      "source": [
        "itunes_df.groupby('Genre')['Seconds'].mean().sort_values().head(10).plot.bar()"
      ],
      "metadata": {
        "colab": {
          "base_uri": "https://localhost:8080/",
          "height": 380
        },
        "id": "s3CCrIh2-zC_",
        "outputId": "4a6ed562-eb38-4010-f6f5-c0728a22a416"
      },
      "execution_count": null,
      "outputs": [
        {
          "output_type": "execute_result",
          "data": {
            "text/plain": [
              "<matplotlib.axes._subplots.AxesSubplot at 0x7f687d105110>"
            ]
          },
          "metadata": {},
          "execution_count": 131
        },
        {
          "output_type": "display_data",
          "data": {
            "text/plain": [
              "<Figure size 432x288 with 1 Axes>"
            ],
            "image/png": "[encoded data removed]"
          },
          "metadata": {
            "needs_background": "light"
          }
        }
      ]
    },
    {
      "cell_type": "markdown",
      "metadata": {
        "id": "F51u6P-6Mn_z"
      },
      "source": [
        "### Salvando dados"
      ]
    },
    {
      "cell_type": "code",
      "execution_count": null,
      "metadata": {
        "id": "pG6vv9Z1Mn_z"
      },
      "outputs": [],
      "source": [
        "itunes_df.to_csv('cleaned_itunes_data.csv', index=False)"
      ]
    }
  ]
}