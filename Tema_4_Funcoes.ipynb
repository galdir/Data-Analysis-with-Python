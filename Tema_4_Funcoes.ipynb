{
  "nbformat": 4,
  "nbformat_minor": 0,
  "metadata": {
    "colab": {
      "provenance": [],
      "toc_visible": true
    },
    "kernelspec": {
      "name": "python3",
      "display_name": "Python 3"
    },
    "language_info": {
      "name": "python"
    }
  },
  "cells": [
    {
      "cell_type": "markdown",
      "source": [
        "# 1 - Funções"
      ],
      "metadata": {
        "id": "cOXuUXaKXT6O"
      }
    },
    {
      "cell_type": "markdown",
      "source": [
        "# 2- Definindo funções"
      ],
      "metadata": {
        "id": "m6uXsoHp3WpW"
      }
    },
    {
      "cell_type": "code",
      "source": [
        "def square(number):\n",
        "    \"\"\"Calculate the square of number.\"\"\"\n",
        "    return number ** 2"
      ],
      "metadata": {
        "id": "0YFNzQ0I4QEN"
      },
      "execution_count": null,
      "outputs": []
    },
    {
      "cell_type": "code",
      "source": [
        "type(square)"
      ],
      "metadata": {
        "colab": {
          "base_uri": "https://localhost:8080/"
        },
        "id": "lV8lFwmziv5o",
        "outputId": "06b8c65e-e3d9-4ec6-e858-4a09fd71fe06"
      },
      "execution_count": null,
      "outputs": [
        {
          "output_type": "execute_result",
          "data": {
            "text/plain": [
              "function"
            ]
          },
          "metadata": {},
          "execution_count": 2
        }
      ]
    },
    {
      "cell_type": "code",
      "source": [
        "square(7)"
      ],
      "metadata": {
        "id": "Mv2wHc6i4R8F",
        "colab": {
          "base_uri": "https://localhost:8080/"
        },
        "outputId": "ffccc316-ac44-4455-8b41-6bfb00e8cfaa"
      },
      "execution_count": null,
      "outputs": [
        {
          "output_type": "execute_result",
          "data": {
            "text/plain": [
              "49"
            ]
          },
          "metadata": {},
          "execution_count": 3
        }
      ]
    },
    {
      "cell_type": "code",
      "source": [
        "square(2.5)"
      ],
      "metadata": {
        "id": "QVLo-ONB4Tsd",
        "colab": {
          "base_uri": "https://localhost:8080/"
        },
        "outputId": "7b83f4ba-f5e5-4273-dfa1-e211b772b37e"
      },
      "execution_count": null,
      "outputs": [
        {
          "output_type": "execute_result",
          "data": {
            "text/plain": [
              "6.25"
            ]
          },
          "metadata": {},
          "execution_count": 4
        }
      ]
    },
    {
      "cell_type": "code",
      "source": [
        "square(\"asdf\")"
      ],
      "metadata": {
        "id": "g5oI_U_w4d9X",
        "colab": {
          "base_uri": "https://localhost:8080/",
          "height": 253
        },
        "outputId": "ca720ab5-987a-4dd3-d7ec-d0bc0fc081ba"
      },
      "execution_count": null,
      "outputs": [
        {
          "output_type": "error",
          "ename": "TypeError",
          "evalue": "ignored",
          "traceback": [
            "\u001b[0;31m---------------------------------------------------------------------------\u001b[0m",
            "\u001b[0;31mTypeError\u001b[0m                                 Traceback (most recent call last)",
            "\u001b[0;32m<ipython-input-5-2ac9063d6b64>\u001b[0m in \u001b[0;36m<module>\u001b[0;34m\u001b[0m\n\u001b[0;32m----> 1\u001b[0;31m \u001b[0msquare\u001b[0m\u001b[0;34m(\u001b[0m\u001b[0;34m\"asdf\"\u001b[0m\u001b[0;34m)\u001b[0m\u001b[0;34m\u001b[0m\u001b[0;34m\u001b[0m\u001b[0m\n\u001b[0m",
            "\u001b[0;32m<ipython-input-1-7d5dc51751d0>\u001b[0m in \u001b[0;36msquare\u001b[0;34m(number)\u001b[0m\n\u001b[1;32m      1\u001b[0m \u001b[0;32mdef\u001b[0m \u001b[0msquare\u001b[0m\u001b[0;34m(\u001b[0m\u001b[0mnumber\u001b[0m\u001b[0;34m)\u001b[0m\u001b[0;34m:\u001b[0m\u001b[0;34m\u001b[0m\u001b[0;34m\u001b[0m\u001b[0m\n\u001b[1;32m      2\u001b[0m     \u001b[0;34m\"\"\"Calculate the square of number.\"\"\"\u001b[0m\u001b[0;34m\u001b[0m\u001b[0;34m\u001b[0m\u001b[0m\n\u001b[0;32m----> 3\u001b[0;31m     \u001b[0;32mreturn\u001b[0m \u001b[0mnumber\u001b[0m \u001b[0;34m**\u001b[0m \u001b[0;36m2\u001b[0m\u001b[0;34m\u001b[0m\u001b[0;34m\u001b[0m\u001b[0m\n\u001b[0m",
            "\u001b[0;31mTypeError\u001b[0m: unsupported operand type(s) for ** or pow(): 'str' and 'int'"
          ]
        }
      ]
    },
    {
      "cell_type": "code",
      "source": [
        "sum?"
      ],
      "metadata": {
        "id": "xVBBPrQxi_Tc"
      },
      "execution_count": null,
      "outputs": []
    },
    {
      "cell_type": "code",
      "source": [
        "square?"
      ],
      "metadata": {
        "id": "ZxatO8zkjBPx"
      },
      "execution_count": null,
      "outputs": []
    },
    {
      "cell_type": "code",
      "source": [],
      "metadata": {
        "id": "Y4nqsrcWjGQm"
      },
      "execution_count": null,
      "outputs": []
    },
    {
      "cell_type": "markdown",
      "source": [
        "# Funções com vários parâmetros"
      ],
      "metadata": {
        "id": "jdA_1nnz78B6"
      }
    },
    {
      "cell_type": "code",
      "source": [
        "def maximum(value1, value2, value3):\n",
        "    \"\"\"Return the maximum of three values.\"\"\"\n",
        "    max_value = value1\n",
        "    if value2 > max_value:\n",
        "        max_value = value2\n",
        "    if value3 > max_value:\n",
        "        max_value = value3\n",
        "    return max_value"
      ],
      "metadata": {
        "id": "JvgGPNT18Dkk"
      },
      "execution_count": null,
      "outputs": []
    },
    {
      "cell_type": "code",
      "source": [
        "maximum(12, 27, 36)"
      ],
      "metadata": {
        "id": "RJX0FnOT8EOF",
        "colab": {
          "base_uri": "https://localhost:8080/"
        },
        "outputId": "3d655d9b-9bec-4466-aa69-62cd5d748b3d"
      },
      "execution_count": null,
      "outputs": [
        {
          "output_type": "execute_result",
          "data": {
            "text/plain": [
              "36"
            ]
          },
          "metadata": {},
          "execution_count": 7
        }
      ]
    },
    {
      "cell_type": "code",
      "source": [
        "maximum(12.3, 45.6, 9.7)"
      ],
      "metadata": {
        "id": "SGHkR3Rj8Fc9",
        "colab": {
          "base_uri": "https://localhost:8080/"
        },
        "outputId": "e43d6e7f-4b73-4d00-9534-965cf93c075d"
      },
      "execution_count": null,
      "outputs": [
        {
          "output_type": "execute_result",
          "data": {
            "text/plain": [
              "45.6"
            ]
          },
          "metadata": {},
          "execution_count": 8
        }
      ]
    },
    {
      "cell_type": "code",
      "source": [
        "maximum('yellow', 'red', 'orange')"
      ],
      "metadata": {
        "id": "k3eANfTp8GoF",
        "colab": {
          "base_uri": "https://localhost:8080/",
          "height": 35
        },
        "outputId": "d38dde1e-fe86-47e7-a57a-f953684e26d4"
      },
      "execution_count": null,
      "outputs": [
        {
          "output_type": "execute_result",
          "data": {
            "text/plain": [
              "'yellow'"
            ],
            "application/vnd.google.colaboratory.intrinsic+json": {
              "type": "string"
            }
          },
          "metadata": {},
          "execution_count": 9
        }
      ]
    },
    {
      "cell_type": "markdown",
      "source": [
        "##Funções max e min incorporadas do Python"
      ],
      "metadata": {
        "id": "GEzuXyuU8jpT"
      }
    },
    {
      "cell_type": "code",
      "source": [
        "max('yellow', 'red', 'orange', 'blue', 'green')"
      ],
      "metadata": {
        "id": "Zg4aHzzR8jBJ",
        "colab": {
          "base_uri": "https://localhost:8080/",
          "height": 35
        },
        "outputId": "dee2217f-eced-4bb5-d924-f11fb1617bf9"
      },
      "execution_count": null,
      "outputs": [
        {
          "output_type": "execute_result",
          "data": {
            "text/plain": [
              "'yellow'"
            ],
            "application/vnd.google.colaboratory.intrinsic+json": {
              "type": "string"
            }
          },
          "metadata": {},
          "execution_count": 12
        }
      ]
    },
    {
      "cell_type": "code",
      "source": [
        "min(15, 9, 27, 14)"
      ],
      "metadata": {
        "id": "KaVXwBse8mzF",
        "colab": {
          "base_uri": "https://localhost:8080/"
        },
        "outputId": "3ad3c480-e086-4fe4-acc5-69d2de58193d"
      },
      "execution_count": null,
      "outputs": [
        {
          "output_type": "execute_result",
          "data": {
            "text/plain": [
              "9"
            ]
          },
          "metadata": {},
          "execution_count": 13
        }
      ]
    },
    {
      "cell_type": "markdown",
      "source": [
        "#Geração de números aleatórios"
      ],
      "metadata": {
        "id": "fFaoJtLs9oOI"
      }
    },
    {
      "cell_type": "code",
      "source": [
        "import random"
      ],
      "metadata": {
        "id": "F1ISJGyK9BE7"
      },
      "execution_count": null,
      "outputs": []
    },
    {
      "cell_type": "code",
      "source": [
        "random?"
      ],
      "metadata": {
        "id": "oPh-dcf78oC1"
      },
      "execution_count": null,
      "outputs": []
    },
    {
      "cell_type": "code",
      "source": [
        "random??"
      ],
      "metadata": {
        "id": "iVzSZQkjj02r"
      },
      "execution_count": null,
      "outputs": []
    },
    {
      "cell_type": "code",
      "source": [
        "help(random)"
      ],
      "metadata": {
        "id": "XIzP-WDf9z8n",
        "colab": {
          "base_uri": "https://localhost:8080/"
        },
        "outputId": "1bbb07db-904a-4991-bac7-eb38080b0562"
      },
      "execution_count": null,
      "outputs": [
        {
          "output_type": "stream",
          "name": "stdout",
          "text": [
            "Help on module random:\n",
            "\n",
            "NAME\n",
            "    random - Random variable generators.\n",
            "\n",
            "MODULE REFERENCE\n",
            "    https://docs.python.org/3.7/library/random\n",
            "    \n",
            "    The following documentation is automatically generated from the Python\n",
            "    source files.  It may be incomplete, incorrect or include features that\n",
            "    are considered implementation detail and may vary between Python\n",
            "    implementations.  When in doubt, consult the module reference at the\n",
            "    location listed above.\n",
            "\n",
            "DESCRIPTION\n",
            "        integers\n",
            "        --------\n",
            "               uniform within range\n",
            "    \n",
            "        sequences\n",
            "        ---------\n",
            "               pick random element\n",
            "               pick random sample\n",
            "               pick weighted random sample\n",
            "               generate random permutation\n",
            "    \n",
            "        distributions on the real line:\n",
            "        ------------------------------\n",
            "               uniform\n",
            "               triangular\n",
            "               normal (Gaussian)\n",
            "               lognormal\n",
            "               negative exponential\n",
            "               gamma\n",
            "               beta\n",
            "               pareto\n",
            "               Weibull\n",
            "    \n",
            "        distributions on the circle (angles 0 to 2pi)\n",
            "        ---------------------------------------------\n",
            "               circular uniform\n",
            "               von Mises\n",
            "    \n",
            "    General notes on the underlying Mersenne Twister core generator:\n",
            "    \n",
            "    * The period is 2**19937-1.\n",
            "    * It is one of the most extensively tested generators in existence.\n",
            "    * The random() method is implemented in C, executes in a single Python step,\n",
            "      and is, therefore, threadsafe.\n",
            "\n",
            "CLASSES\n",
            "    _random.Random(builtins.object)\n",
            "        Random\n",
            "            SystemRandom\n",
            "    \n",
            "    class Random(_random.Random)\n",
            "     |  Random(x=None)\n",
            "     |  \n",
            "     |  Random number generator base class used by bound module functions.\n",
            "     |  \n",
            "     |  Used to instantiate instances of Random to get generators that don't\n",
            "     |  share state.\n",
            "     |  \n",
            "     |  Class Random can also be subclassed if you want to use a different basic\n",
            "     |  generator of your own devising: in that case, override the following\n",
            "     |  methods:  random(), seed(), getstate(), and setstate().\n",
            "     |  Optionally, implement a getrandbits() method so that randrange()\n",
            "     |  can cover arbitrarily large ranges.\n",
            "     |  \n",
            "     |  Method resolution order:\n",
            "     |      Random\n",
            "     |      _random.Random\n",
            "     |      builtins.object\n",
            "     |  \n",
            "     |  Methods defined here:\n",
            "     |  \n",
            "     |  __getstate__(self)\n",
            "     |      # Issue 17489: Since __reduce__ was defined to fix #759889 this is no\n",
            "     |      # longer called; we leave it here because it has been here since random was\n",
            "     |      # rewritten back in 2001 and why risk breaking something.\n",
            "     |  \n",
            "     |  __init__(self, x=None)\n",
            "     |      Initialize an instance.\n",
            "     |      \n",
            "     |      Optional argument x controls seeding, as for Random.seed().\n",
            "     |  \n",
            "     |  __reduce__(self)\n",
            "     |      Helper for pickle.\n",
            "     |  \n",
            "     |  __setstate__(self, state)\n",
            "     |  \n",
            "     |  betavariate(self, alpha, beta)\n",
            "     |      Beta distribution.\n",
            "     |      \n",
            "     |      Conditions on the parameters are alpha > 0 and beta > 0.\n",
            "     |      Returned values range between 0 and 1.\n",
            "     |  \n",
            "     |  choice(self, seq)\n",
            "     |      Choose a random element from a non-empty sequence.\n",
            "     |  \n",
            "     |  choices(self, population, weights=None, *, cum_weights=None, k=1)\n",
            "     |      Return a k sized list of population elements chosen with replacement.\n",
            "     |      \n",
            "     |      If the relative weights or cumulative weights are not specified,\n",
            "     |      the selections are made with equal probability.\n",
            "     |  \n",
            "     |  expovariate(self, lambd)\n",
            "     |      Exponential distribution.\n",
            "     |      \n",
            "     |      lambd is 1.0 divided by the desired mean.  It should be\n",
            "     |      nonzero.  (The parameter would be called \"lambda\", but that is\n",
            "     |      a reserved word in Python.)  Returned values range from 0 to\n",
            "     |      positive infinity if lambd is positive, and from negative\n",
            "     |      infinity to 0 if lambd is negative.\n",
            "     |  \n",
            "     |  gammavariate(self, alpha, beta)\n",
            "     |      Gamma distribution.  Not the gamma function!\n",
            "     |      \n",
            "     |      Conditions on the parameters are alpha > 0 and beta > 0.\n",
            "     |      \n",
            "     |      The probability distribution function is:\n",
            "     |      \n",
            "     |                  x ** (alpha - 1) * math.exp(-x / beta)\n",
            "     |        pdf(x) =  --------------------------------------\n",
            "     |                    math.gamma(alpha) * beta ** alpha\n",
            "     |  \n",
            "     |  gauss(self, mu, sigma)\n",
            "     |      Gaussian distribution.\n",
            "     |      \n",
            "     |      mu is the mean, and sigma is the standard deviation.  This is\n",
            "     |      slightly faster than the normalvariate() function.\n",
            "     |      \n",
            "     |      Not thread-safe without a lock around calls.\n",
            "     |  \n",
            "     |  getstate(self)\n",
            "     |      Return internal state; can be passed to setstate() later.\n",
            "     |  \n",
            "     |  lognormvariate(self, mu, sigma)\n",
            "     |      Log normal distribution.\n",
            "     |      \n",
            "     |      If you take the natural logarithm of this distribution, you'll get a\n",
            "     |      normal distribution with mean mu and standard deviation sigma.\n",
            "     |      mu can have any value, and sigma must be greater than zero.\n",
            "     |  \n",
            "     |  normalvariate(self, mu, sigma)\n",
            "     |      Normal distribution.\n",
            "     |      \n",
            "     |      mu is the mean, and sigma is the standard deviation.\n",
            "     |  \n",
            "     |  paretovariate(self, alpha)\n",
            "     |      Pareto distribution.  alpha is the shape parameter.\n",
            "     |  \n",
            "     |  randint(self, a, b)\n",
            "     |      Return random integer in range [a, b], including both end points.\n",
            "     |  \n",
            "     |  randrange(self, start, stop=None, step=1, _int=<class 'int'>)\n",
            "     |      Choose a random item from range(start, stop[, step]).\n",
            "     |      \n",
            "     |      This fixes the problem with randint() which includes the\n",
            "     |      endpoint; in Python this is usually not what you want.\n",
            "     |  \n",
            "     |  sample(self, population, k)\n",
            "     |      Chooses k unique random elements from a population sequence or set.\n",
            "     |      \n",
            "     |      Returns a new list containing elements from the population while\n",
            "     |      leaving the original population unchanged.  The resulting list is\n",
            "     |      in selection order so that all sub-slices will also be valid random\n",
            "     |      samples.  This allows raffle winners (the sample) to be partitioned\n",
            "     |      into grand prize and second place winners (the subslices).\n",
            "     |      \n",
            "     |      Members of the population need not be hashable or unique.  If the\n",
            "     |      population contains repeats, then each occurrence is a possible\n",
            "     |      selection in the sample.\n",
            "     |      \n",
            "     |      To choose a sample in a range of integers, use range as an argument.\n",
            "     |      This is especially fast and space efficient for sampling from a\n",
            "     |      large population:   sample(range(10000000), 60)\n",
            "     |  \n",
            "     |  seed(self, a=None, version=2)\n",
            "     |      Initialize internal state from hashable object.\n",
            "     |      \n",
            "     |      None or no argument seeds from current time or from an operating\n",
            "     |      system specific randomness source if available.\n",
            "     |      \n",
            "     |      If *a* is an int, all bits are used.\n",
            "     |      \n",
            "     |      For version 2 (the default), all of the bits are used if *a* is a str,\n",
            "     |      bytes, or bytearray.  For version 1 (provided for reproducing random\n",
            "     |      sequences from older versions of Python), the algorithm for str and\n",
            "     |      bytes generates a narrower range of seeds.\n",
            "     |  \n",
            "     |  setstate(self, state)\n",
            "     |      Restore internal state from object returned by getstate().\n",
            "     |  \n",
            "     |  shuffle(self, x, random=None)\n",
            "     |      Shuffle list x in place, and return None.\n",
            "     |      \n",
            "     |      Optional argument random is a 0-argument function returning a\n",
            "     |      random float in [0.0, 1.0); if it is the default None, the\n",
            "     |      standard random.random will be used.\n",
            "     |  \n",
            "     |  triangular(self, low=0.0, high=1.0, mode=None)\n",
            "     |      Triangular distribution.\n",
            "     |      \n",
            "     |      Continuous distribution bounded by given lower and upper limits,\n",
            "     |      and having a given mode value in-between.\n",
            "     |      \n",
            "     |      http://en.wikipedia.org/wiki/Triangular_distribution\n",
            "     |  \n",
            "     |  uniform(self, a, b)\n",
            "     |      Get a random number in the range [a, b) or [a, b] depending on rounding.\n",
            "     |  \n",
            "     |  vonmisesvariate(self, mu, kappa)\n",
            "     |      Circular data distribution.\n",
            "     |      \n",
            "     |      mu is the mean angle, expressed in radians between 0 and 2*pi, and\n",
            "     |      kappa is the concentration parameter, which must be greater than or\n",
            "     |      equal to zero.  If kappa is equal to zero, this distribution reduces\n",
            "     |      to a uniform random angle over the range 0 to 2*pi.\n",
            "     |  \n",
            "     |  weibullvariate(self, alpha, beta)\n",
            "     |      Weibull distribution.\n",
            "     |      \n",
            "     |      alpha is the scale parameter and beta is the shape parameter.\n",
            "     |  \n",
            "     |  ----------------------------------------------------------------------\n",
            "     |  Data descriptors defined here:\n",
            "     |  \n",
            "     |  __dict__\n",
            "     |      dictionary for instance variables (if defined)\n",
            "     |  \n",
            "     |  __weakref__\n",
            "     |      list of weak references to the object (if defined)\n",
            "     |  \n",
            "     |  ----------------------------------------------------------------------\n",
            "     |  Data and other attributes defined here:\n",
            "     |  \n",
            "     |  VERSION = 3\n",
            "     |  \n",
            "     |  ----------------------------------------------------------------------\n",
            "     |  Methods inherited from _random.Random:\n",
            "     |  \n",
            "     |  __getattribute__(self, name, /)\n",
            "     |      Return getattr(self, name).\n",
            "     |  \n",
            "     |  getrandbits(...)\n",
            "     |      getrandbits(k) -> x.  Generates an int with k random bits.\n",
            "     |  \n",
            "     |  random(...)\n",
            "     |      random() -> x in the interval [0, 1).\n",
            "     |  \n",
            "     |  ----------------------------------------------------------------------\n",
            "     |  Static methods inherited from _random.Random:\n",
            "     |  \n",
            "     |  __new__(*args, **kwargs) from builtins.type\n",
            "     |      Create and return a new object.  See help(type) for accurate signature.\n",
            "    \n",
            "    class SystemRandom(Random)\n",
            "     |  SystemRandom(x=None)\n",
            "     |  \n",
            "     |  Alternate random number generator using sources provided\n",
            "     |  by the operating system (such as /dev/urandom on Unix or\n",
            "     |  CryptGenRandom on Windows).\n",
            "     |  \n",
            "     |   Not available on all systems (see os.urandom() for details).\n",
            "     |  \n",
            "     |  Method resolution order:\n",
            "     |      SystemRandom\n",
            "     |      Random\n",
            "     |      _random.Random\n",
            "     |      builtins.object\n",
            "     |  \n",
            "     |  Methods defined here:\n",
            "     |  \n",
            "     |  getrandbits(self, k)\n",
            "     |      getrandbits(k) -> x.  Generates an int with k random bits.\n",
            "     |  \n",
            "     |  getstate = _notimplemented(self, *args, **kwds)\n",
            "     |  \n",
            "     |  random(self)\n",
            "     |      Get the next random number in the range [0.0, 1.0).\n",
            "     |  \n",
            "     |  seed(self, *args, **kwds)\n",
            "     |      Stub method.  Not used for a system random number generator.\n",
            "     |  \n",
            "     |  setstate = _notimplemented(self, *args, **kwds)\n",
            "     |  \n",
            "     |  ----------------------------------------------------------------------\n",
            "     |  Methods inherited from Random:\n",
            "     |  \n",
            "     |  __getstate__(self)\n",
            "     |      # Issue 17489: Since __reduce__ was defined to fix #759889 this is no\n",
            "     |      # longer called; we leave it here because it has been here since random was\n",
            "     |      # rewritten back in 2001 and why risk breaking something.\n",
            "     |  \n",
            "     |  __init__(self, x=None)\n",
            "     |      Initialize an instance.\n",
            "     |      \n",
            "     |      Optional argument x controls seeding, as for Random.seed().\n",
            "     |  \n",
            "     |  __reduce__(self)\n",
            "     |      Helper for pickle.\n",
            "     |  \n",
            "     |  __setstate__(self, state)\n",
            "     |  \n",
            "     |  betavariate(self, alpha, beta)\n",
            "     |      Beta distribution.\n",
            "     |      \n",
            "     |      Conditions on the parameters are alpha > 0 and beta > 0.\n",
            "     |      Returned values range between 0 and 1.\n",
            "     |  \n",
            "     |  choice(self, seq)\n",
            "     |      Choose a random element from a non-empty sequence.\n",
            "     |  \n",
            "     |  choices(self, population, weights=None, *, cum_weights=None, k=1)\n",
            "     |      Return a k sized list of population elements chosen with replacement.\n",
            "     |      \n",
            "     |      If the relative weights or cumulative weights are not specified,\n",
            "     |      the selections are made with equal probability.\n",
            "     |  \n",
            "     |  expovariate(self, lambd)\n",
            "     |      Exponential distribution.\n",
            "     |      \n",
            "     |      lambd is 1.0 divided by the desired mean.  It should be\n",
            "     |      nonzero.  (The parameter would be called \"lambda\", but that is\n",
            "     |      a reserved word in Python.)  Returned values range from 0 to\n",
            "     |      positive infinity if lambd is positive, and from negative\n",
            "     |      infinity to 0 if lambd is negative.\n",
            "     |  \n",
            "     |  gammavariate(self, alpha, beta)\n",
            "     |      Gamma distribution.  Not the gamma function!\n",
            "     |      \n",
            "     |      Conditions on the parameters are alpha > 0 and beta > 0.\n",
            "     |      \n",
            "     |      The probability distribution function is:\n",
            "     |      \n",
            "     |                  x ** (alpha - 1) * math.exp(-x / beta)\n",
            "     |        pdf(x) =  --------------------------------------\n",
            "     |                    math.gamma(alpha) * beta ** alpha\n",
            "     |  \n",
            "     |  gauss(self, mu, sigma)\n",
            "     |      Gaussian distribution.\n",
            "     |      \n",
            "     |      mu is the mean, and sigma is the standard deviation.  This is\n",
            "     |      slightly faster than the normalvariate() function.\n",
            "     |      \n",
            "     |      Not thread-safe without a lock around calls.\n",
            "     |  \n",
            "     |  lognormvariate(self, mu, sigma)\n",
            "     |      Log normal distribution.\n",
            "     |      \n",
            "     |      If you take the natural logarithm of this distribution, you'll get a\n",
            "     |      normal distribution with mean mu and standard deviation sigma.\n",
            "     |      mu can have any value, and sigma must be greater than zero.\n",
            "     |  \n",
            "     |  normalvariate(self, mu, sigma)\n",
            "     |      Normal distribution.\n",
            "     |      \n",
            "     |      mu is the mean, and sigma is the standard deviation.\n",
            "     |  \n",
            "     |  paretovariate(self, alpha)\n",
            "     |      Pareto distribution.  alpha is the shape parameter.\n",
            "     |  \n",
            "     |  randint(self, a, b)\n",
            "     |      Return random integer in range [a, b], including both end points.\n",
            "     |  \n",
            "     |  randrange(self, start, stop=None, step=1, _int=<class 'int'>)\n",
            "     |      Choose a random item from range(start, stop[, step]).\n",
            "     |      \n",
            "     |      This fixes the problem with randint() which includes the\n",
            "     |      endpoint; in Python this is usually not what you want.\n",
            "     |  \n",
            "     |  sample(self, population, k)\n",
            "     |      Chooses k unique random elements from a population sequence or set.\n",
            "     |      \n",
            "     |      Returns a new list containing elements from the population while\n",
            "     |      leaving the original population unchanged.  The resulting list is\n",
            "     |      in selection order so that all sub-slices will also be valid random\n",
            "     |      samples.  This allows raffle winners (the sample) to be partitioned\n",
            "     |      into grand prize and second place winners (the subslices).\n",
            "     |      \n",
            "     |      Members of the population need not be hashable or unique.  If the\n",
            "     |      population contains repeats, then each occurrence is a possible\n",
            "     |      selection in the sample.\n",
            "     |      \n",
            "     |      To choose a sample in a range of integers, use range as an argument.\n",
            "     |      This is especially fast and space efficient for sampling from a\n",
            "     |      large population:   sample(range(10000000), 60)\n",
            "     |  \n",
            "     |  shuffle(self, x, random=None)\n",
            "     |      Shuffle list x in place, and return None.\n",
            "     |      \n",
            "     |      Optional argument random is a 0-argument function returning a\n",
            "     |      random float in [0.0, 1.0); if it is the default None, the\n",
            "     |      standard random.random will be used.\n",
            "     |  \n",
            "     |  triangular(self, low=0.0, high=1.0, mode=None)\n",
            "     |      Triangular distribution.\n",
            "     |      \n",
            "     |      Continuous distribution bounded by given lower and upper limits,\n",
            "     |      and having a given mode value in-between.\n",
            "     |      \n",
            "     |      http://en.wikipedia.org/wiki/Triangular_distribution\n",
            "     |  \n",
            "     |  uniform(self, a, b)\n",
            "     |      Get a random number in the range [a, b) or [a, b] depending on rounding.\n",
            "     |  \n",
            "     |  vonmisesvariate(self, mu, kappa)\n",
            "     |      Circular data distribution.\n",
            "     |      \n",
            "     |      mu is the mean angle, expressed in radians between 0 and 2*pi, and\n",
            "     |      kappa is the concentration parameter, which must be greater than or\n",
            "     |      equal to zero.  If kappa is equal to zero, this distribution reduces\n",
            "     |      to a uniform random angle over the range 0 to 2*pi.\n",
            "     |  \n",
            "     |  weibullvariate(self, alpha, beta)\n",
            "     |      Weibull distribution.\n",
            "     |      \n",
            "     |      alpha is the scale parameter and beta is the shape parameter.\n",
            "     |  \n",
            "     |  ----------------------------------------------------------------------\n",
            "     |  Data descriptors inherited from Random:\n",
            "     |  \n",
            "     |  __dict__\n",
            "     |      dictionary for instance variables (if defined)\n",
            "     |  \n",
            "     |  __weakref__\n",
            "     |      list of weak references to the object (if defined)\n",
            "     |  \n",
            "     |  ----------------------------------------------------------------------\n",
            "     |  Data and other attributes inherited from Random:\n",
            "     |  \n",
            "     |  VERSION = 3\n",
            "     |  \n",
            "     |  ----------------------------------------------------------------------\n",
            "     |  Methods inherited from _random.Random:\n",
            "     |  \n",
            "     |  __getattribute__(self, name, /)\n",
            "     |      Return getattr(self, name).\n",
            "     |  \n",
            "     |  ----------------------------------------------------------------------\n",
            "     |  Static methods inherited from _random.Random:\n",
            "     |  \n",
            "     |  __new__(*args, **kwargs) from builtins.type\n",
            "     |      Create and return a new object.  See help(type) for accurate signature.\n",
            "\n",
            "FUNCTIONS\n",
            "    betavariate(alpha, beta) method of Random instance\n",
            "        Beta distribution.\n",
            "        \n",
            "        Conditions on the parameters are alpha > 0 and beta > 0.\n",
            "        Returned values range between 0 and 1.\n",
            "    \n",
            "    choice(seq) method of Random instance\n",
            "        Choose a random element from a non-empty sequence.\n",
            "    \n",
            "    choices(population, weights=None, *, cum_weights=None, k=1) method of Random instance\n",
            "        Return a k sized list of population elements chosen with replacement.\n",
            "        \n",
            "        If the relative weights or cumulative weights are not specified,\n",
            "        the selections are made with equal probability.\n",
            "    \n",
            "    expovariate(lambd) method of Random instance\n",
            "        Exponential distribution.\n",
            "        \n",
            "        lambd is 1.0 divided by the desired mean.  It should be\n",
            "        nonzero.  (The parameter would be called \"lambda\", but that is\n",
            "        a reserved word in Python.)  Returned values range from 0 to\n",
            "        positive infinity if lambd is positive, and from negative\n",
            "        infinity to 0 if lambd is negative.\n",
            "    \n",
            "    gammavariate(alpha, beta) method of Random instance\n",
            "        Gamma distribution.  Not the gamma function!\n",
            "        \n",
            "        Conditions on the parameters are alpha > 0 and beta > 0.\n",
            "        \n",
            "        The probability distribution function is:\n",
            "        \n",
            "                    x ** (alpha - 1) * math.exp(-x / beta)\n",
            "          pdf(x) =  --------------------------------------\n",
            "                      math.gamma(alpha) * beta ** alpha\n",
            "    \n",
            "    gauss(mu, sigma) method of Random instance\n",
            "        Gaussian distribution.\n",
            "        \n",
            "        mu is the mean, and sigma is the standard deviation.  This is\n",
            "        slightly faster than the normalvariate() function.\n",
            "        \n",
            "        Not thread-safe without a lock around calls.\n",
            "    \n",
            "    getrandbits(...) method of Random instance\n",
            "        getrandbits(k) -> x.  Generates an int with k random bits.\n",
            "    \n",
            "    getstate() method of Random instance\n",
            "        Return internal state; can be passed to setstate() later.\n",
            "    \n",
            "    lognormvariate(mu, sigma) method of Random instance\n",
            "        Log normal distribution.\n",
            "        \n",
            "        If you take the natural logarithm of this distribution, you'll get a\n",
            "        normal distribution with mean mu and standard deviation sigma.\n",
            "        mu can have any value, and sigma must be greater than zero.\n",
            "    \n",
            "    normalvariate(mu, sigma) method of Random instance\n",
            "        Normal distribution.\n",
            "        \n",
            "        mu is the mean, and sigma is the standard deviation.\n",
            "    \n",
            "    paretovariate(alpha) method of Random instance\n",
            "        Pareto distribution.  alpha is the shape parameter.\n",
            "    \n",
            "    randint(a, b) method of Random instance\n",
            "        Return random integer in range [a, b], including both end points.\n",
            "    \n",
            "    random(...) method of Random instance\n",
            "        random() -> x in the interval [0, 1).\n",
            "    \n",
            "    randrange(start, stop=None, step=1, _int=<class 'int'>) method of Random instance\n",
            "        Choose a random item from range(start, stop[, step]).\n",
            "        \n",
            "        This fixes the problem with randint() which includes the\n",
            "        endpoint; in Python this is usually not what you want.\n",
            "    \n",
            "    sample(population, k) method of Random instance\n",
            "        Chooses k unique random elements from a population sequence or set.\n",
            "        \n",
            "        Returns a new list containing elements from the population while\n",
            "        leaving the original population unchanged.  The resulting list is\n",
            "        in selection order so that all sub-slices will also be valid random\n",
            "        samples.  This allows raffle winners (the sample) to be partitioned\n",
            "        into grand prize and second place winners (the subslices).\n",
            "        \n",
            "        Members of the population need not be hashable or unique.  If the\n",
            "        population contains repeats, then each occurrence is a possible\n",
            "        selection in the sample.\n",
            "        \n",
            "        To choose a sample in a range of integers, use range as an argument.\n",
            "        This is especially fast and space efficient for sampling from a\n",
            "        large population:   sample(range(10000000), 60)\n",
            "    \n",
            "    seed(a=None, version=2) method of Random instance\n",
            "        Initialize internal state from hashable object.\n",
            "        \n",
            "        None or no argument seeds from current time or from an operating\n",
            "        system specific randomness source if available.\n",
            "        \n",
            "        If *a* is an int, all bits are used.\n",
            "        \n",
            "        For version 2 (the default), all of the bits are used if *a* is a str,\n",
            "        bytes, or bytearray.  For version 1 (provided for reproducing random\n",
            "        sequences from older versions of Python), the algorithm for str and\n",
            "        bytes generates a narrower range of seeds.\n",
            "    \n",
            "    setstate(state) method of Random instance\n",
            "        Restore internal state from object returned by getstate().\n",
            "    \n",
            "    shuffle(x, random=None) method of Random instance\n",
            "        Shuffle list x in place, and return None.\n",
            "        \n",
            "        Optional argument random is a 0-argument function returning a\n",
            "        random float in [0.0, 1.0); if it is the default None, the\n",
            "        standard random.random will be used.\n",
            "    \n",
            "    triangular(low=0.0, high=1.0, mode=None) method of Random instance\n",
            "        Triangular distribution.\n",
            "        \n",
            "        Continuous distribution bounded by given lower and upper limits,\n",
            "        and having a given mode value in-between.\n",
            "        \n",
            "        http://en.wikipedia.org/wiki/Triangular_distribution\n",
            "    \n",
            "    uniform(a, b) method of Random instance\n",
            "        Get a random number in the range [a, b) or [a, b] depending on rounding.\n",
            "    \n",
            "    vonmisesvariate(mu, kappa) method of Random instance\n",
            "        Circular data distribution.\n",
            "        \n",
            "        mu is the mean angle, expressed in radians between 0 and 2*pi, and\n",
            "        kappa is the concentration parameter, which must be greater than or\n",
            "        equal to zero.  If kappa is equal to zero, this distribution reduces\n",
            "        to a uniform random angle over the range 0 to 2*pi.\n",
            "    \n",
            "    weibullvariate(alpha, beta) method of Random instance\n",
            "        Weibull distribution.\n",
            "        \n",
            "        alpha is the scale parameter and beta is the shape parameter.\n",
            "\n",
            "DATA\n",
            "    __all__ = ['Random', 'seed', 'random', 'uniform', 'randint', 'choice',...\n",
            "\n",
            "FILE\n",
            "    /usr/lib/python3.7/random.py\n",
            "\n",
            "\n"
          ]
        }
      ]
    },
    {
      "cell_type": "code",
      "source": [
        "random.random()"
      ],
      "metadata": {
        "id": "O8uzEeb-94sf",
        "colab": {
          "base_uri": "https://localhost:8080/"
        },
        "outputId": "ae93457e-663c-4955-eb3e-29e6e9e5ad71"
      },
      "execution_count": null,
      "outputs": [
        {
          "output_type": "execute_result",
          "data": {
            "text/plain": [
              "0.30636629122363224"
            ]
          },
          "metadata": {},
          "execution_count": 19
        }
      ]
    },
    {
      "cell_type": "code",
      "source": [
        "random.randrange(1, 7)"
      ],
      "metadata": {
        "id": "BIWuIfGT953j",
        "colab": {
          "base_uri": "https://localhost:8080/"
        },
        "outputId": "14ea1aa1-da79-4e04-e2ef-d7a1aa05b237"
      },
      "execution_count": null,
      "outputs": [
        {
          "output_type": "execute_result",
          "data": {
            "text/plain": [
              "5"
            ]
          },
          "metadata": {},
          "execution_count": 21
        }
      ]
    },
    {
      "cell_type": "code",
      "source": [
        "random.randrange(1, 7)"
      ],
      "metadata": {
        "id": "9w81s1Lq9603",
        "colab": {
          "base_uri": "https://localhost:8080/"
        },
        "outputId": "499a8bdd-e237-447e-d57b-3cca0fdcbd3e"
      },
      "execution_count": null,
      "outputs": [
        {
          "output_type": "execute_result",
          "data": {
            "text/plain": [
              "4"
            ]
          },
          "metadata": {},
          "execution_count": 23
        }
      ]
    },
    {
      "cell_type": "code",
      "source": [
        "for roll in range(10):\n",
        "    print(random.randrange(1, 7), end=' ')"
      ],
      "metadata": {
        "id": "tjfBEaOL98EU",
        "colab": {
          "base_uri": "https://localhost:8080/"
        },
        "outputId": "5fe647b6-f6ca-43f9-e861-900a3a29d28f"
      },
      "execution_count": null,
      "outputs": [
        {
          "output_type": "stream",
          "name": "stdout",
          "text": [
            "2 6 1 6 3 1 1 5 4 2 "
          ]
        }
      ]
    },
    {
      "cell_type": "code",
      "source": [
        "for roll in range(10):\n",
        "    print(random.randrange(1, 7), end=' ')"
      ],
      "metadata": {
        "id": "OQvvxRzQ9-xs",
        "colab": {
          "base_uri": "https://localhost:8080/"
        },
        "outputId": "4be603e8-fe53-42c4-8939-69d629ce7c62"
      },
      "execution_count": null,
      "outputs": [
        {
          "output_type": "stream",
          "name": "stdout",
          "text": [
            "2 2 5 2 4 6 4 4 1 1 "
          ]
        }
      ]
    },
    {
      "cell_type": "markdown",
      "source": [
        "##Rolando um dado de 6 lados"
      ],
      "metadata": {
        "id": "J7dvamA0-AaO"
      }
    },
    {
      "cell_type": "code",
      "source": [
        "# face frequency counters\n",
        "frequency1 = 0\n",
        "frequency2 = 0\n",
        "frequency3 = 0\n",
        "frequency4 = 0\n",
        "frequency5 = 0\n",
        "frequency6 = 0\n",
        "\n",
        "# 6,000,000 die rolls\n",
        "for roll in range(6_000_000):  # note underscore separators\n",
        "    face = random.randrange(1, 7)\n",
        "\n",
        "    # increment appropriate face counter\n",
        "    if face == 1:\n",
        "        frequency1 += 1\n",
        "    elif face == 2:\n",
        "        frequency2 += 1\n",
        "    elif face == 3:\n",
        "        frequency3 += 1\n",
        "    elif face == 4:\n",
        "        frequency4 += 1\n",
        "    elif face == 5:\n",
        "        frequency5 += 1\n",
        "    elif face == 6:\n",
        "        frequency6 += 1\n",
        "\n",
        "print(f'Face{\"Frequency\":>13}')\n",
        "print(f'{1:>4}{frequency1:>13}')\n",
        "print(f'{2:>4}{frequency2:>13}')\n",
        "print(f'{3:>4}{frequency3:>13}')\n",
        "print(f'{4:>4}{frequency4:>13}')\n",
        "print(f'{5:>4}{frequency5:>13}')\n",
        "print(f'{6:>4}{frequency6:>13}')"
      ],
      "metadata": {
        "id": "tfb3jobl-Bht",
        "colab": {
          "base_uri": "https://localhost:8080/"
        },
        "outputId": "07a50442-a846-4286-c4e5-2bf702460996"
      },
      "execution_count": null,
      "outputs": [
        {
          "output_type": "stream",
          "name": "stdout",
          "text": [
            "Face    Frequency\n",
            "   1      1000395\n",
            "   2      1000085\n",
            "   3      1000398\n",
            "   4       998620\n",
            "   5      1001059\n",
            "   6       999443\n"
          ]
        }
      ]
    },
    {
      "cell_type": "markdown",
      "source": [
        "## Semeando o gerador de números aleatórios para reprodutibilidade"
      ],
      "metadata": {
        "id": "WpeOMBu2-GbH"
      }
    },
    {
      "cell_type": "code",
      "source": [
        "random.seed(32)"
      ],
      "metadata": {
        "id": "iG7sguqU-KDH"
      },
      "execution_count": null,
      "outputs": []
    },
    {
      "cell_type": "code",
      "source": [
        "for roll in range(10):\n",
        "    print(random.randrange(1, 7), end=' ')"
      ],
      "metadata": {
        "id": "8683FdjK-LYo",
        "colab": {
          "base_uri": "https://localhost:8080/"
        },
        "outputId": "397bb6cc-8fa5-4f60-f62c-7a2c7573bf5e"
      },
      "execution_count": null,
      "outputs": [
        {
          "output_type": "stream",
          "name": "stdout",
          "text": [
            "1 2 2 3 6 2 4 1 6 1 "
          ]
        }
      ]
    },
    {
      "cell_type": "code",
      "source": [
        "for roll in range(10):\n",
        "    print(random.randrange(1, 7), end=' ')"
      ],
      "metadata": {
        "id": "fJ0yZjA0-MFC",
        "colab": {
          "base_uri": "https://localhost:8080/"
        },
        "outputId": "1b1e12df-c5a3-4bf0-ce10-52357cf54016"
      },
      "execution_count": null,
      "outputs": [
        {
          "output_type": "stream",
          "name": "stdout",
          "text": [
            "1 3 5 3 1 5 6 4 3 5 "
          ]
        }
      ]
    },
    {
      "cell_type": "code",
      "source": [
        "random.seed(32)"
      ],
      "metadata": {
        "id": "IjIbb8II-Mln"
      },
      "execution_count": null,
      "outputs": []
    },
    {
      "cell_type": "code",
      "source": [
        "for roll in range(10):\n",
        "    print(random.randrange(1, 7), end=' ')"
      ],
      "metadata": {
        "id": "PHpDLt-v-Oqt",
        "colab": {
          "base_uri": "https://localhost:8080/"
        },
        "outputId": "57cdca08-c66b-4e71-8c8b-e18312e021f3"
      },
      "execution_count": null,
      "outputs": [
        {
          "output_type": "stream",
          "name": "stdout",
          "text": [
            "1 2 2 3 6 2 4 1 6 1 "
          ]
        }
      ]
    },
    {
      "cell_type": "markdown",
      "source": [
        "##Atividade"
      ],
      "metadata": {
        "id": "cuqyfVWO-8wH"
      }
    },
    {
      "cell_type": "markdown",
      "source": [
        "Declaração de requisitos: Use uma declaração for, randrange e uma expressão condicional (introduzida no capítulo anterior) para simular 20 lançamentos de moedas, exibindo H para cara e T para coroa, todos na mesma linha, cada um separado por um espaço."
      ],
      "metadata": {
        "id": "jHMYXG7V--XS"
      }
    },
    {
      "cell_type": "code",
      "source": [
        "for num in range(20):\n",
        "  moeda = random.randrange(1,3)\n",
        "  if(moeda==1):\n",
        "    print(\"H\", end=' ')\n",
        "  else:\n",
        "    print(\"T\", end=' ')"
      ],
      "metadata": {
        "colab": {
          "base_uri": "https://localhost:8080/"
        },
        "id": "zWX1FKE2leKt",
        "outputId": "6fae074e-3851-454d-e489-e3ac9589baac"
      },
      "execution_count": null,
      "outputs": [
        {
          "output_type": "stream",
          "name": "stdout",
          "text": [
            "T H T H H T H H T T T H T H H T H T T H "
          ]
        }
      ]
    },
    {
      "cell_type": "code",
      "source": [],
      "metadata": {
        "id": "iH9LdzP1l9HY"
      },
      "execution_count": null,
      "outputs": []
    },
    {
      "cell_type": "markdown",
      "source": [
        "# Estudo de caso: um jogo de azar"
      ],
      "metadata": {
        "id": "PjnmZe5U3dGy"
      }
    },
    {
      "cell_type": "markdown",
      "source": [
        "Você rola dois dados de seis lados, cada um com faces contendo um, dois, três, quatro, cinco e seis pontos, respectivamente. \n",
        "\n",
        "Quando os dados param, a soma dos pontos nas duas faces para cima é calculada. \n",
        "\n",
        "Se a soma for 7 ou 11 no primeiro lançamento, você ganha. \n",
        "\n",
        "Se a soma for 2, 3 ou 12 no primeiro lançamento (chamado “craps”), você perde (ou seja, a “casa” ganha). \n",
        "\n",
        "Se a soma for 4, 5, 6, 8, 9 ou 10 na primeira jogada, essa soma se torna seu “ponto”. \n",
        "\n",
        "Para ganhar, você deve continuar rolando os dados até “fazer seu ponto” (ou seja, rolar o mesmo valor de ponto). \n",
        "\n",
        "Você perde rolando um 7 antes de fazer seu ponto."
      ],
      "metadata": {
        "id": "j6z0tOgw7CsD"
      }
    },
    {
      "cell_type": "code",
      "source": [
        "\"\"\"Simulando o jogo de dados Craps.\"\"\"\n",
        "import random"
      ],
      "metadata": {
        "id": "sspoqL0TAINu"
      },
      "execution_count": null,
      "outputs": []
    },
    {
      "cell_type": "code",
      "source": [
        "def rolar_dados():\n",
        "    \"\"\"Joga dois dados e retorne seus valores de face como uma tupla.\"\"\"\n",
        "    dado1 = random.randrange(1, 7)\n",
        "    dado2 = random.randrange(1, 7)\n",
        "    return (dado1, dado2)  # empacotar valores de face em uma tupla"
      ],
      "metadata": {
        "id": "vqZm-VTQAJog"
      },
      "execution_count": null,
      "outputs": []
    },
    {
      "cell_type": "markdown",
      "source": [
        "retorna ambos os valores dos dados como uma tupla — uma sequência de valores imutável (ou seja, não modificável).\n",
        "\n",
        "Para criar uma tupla, separe seus valores com vírgulas\n",
        "(die1, die2) Isso é conhecido como empacotar uma tupla.\n",
        "\n",
        "Os parênteses são opcionais, mas recomendamos usá-los para maior clareza. Discutiremos as tuplas em profundidade no próximo capítulo."
      ],
      "metadata": {
        "id": "rSJtAIx9AKSA"
      }
    },
    {
      "cell_type": "code",
      "source": [
        "def exibe_rolagem(dados):\n",
        "    \"\"\"Mostra uma jogada dos dois dados.\"\"\"\n",
        "    dado1, dado2 = dados  # desempacota a tupla em variáveis dado1 e dado2\n",
        "    print(f'O jogador rolou {dado1} + {dado2} = {sum(dados)}')"
      ],
      "metadata": {
        "id": "IKAYc5BEAPiJ"
      },
      "execution_count": null,
      "outputs": []
    },
    {
      "cell_type": "code",
      "source": [
        "valores_dos_dados = rolar_dados()  # primeira jogada\n",
        "exibe_rolagem(valores_dos_dados)\n",
        "\n",
        "# determinar o status e o ponto do jogo, com base na primeira jogada\n",
        "soma_dos_dados = sum(valores_dos_dados)\n",
        "\n",
        "if soma_dos_dados in (7, 11):  # vence\n",
        "    estado_do_jogo = 'GANHOU'\n",
        "elif soma_dos_dados in (2, 3, 12):  # perde\n",
        "    estado_do_jogo = 'PERDEU'\n",
        "else:  # guardar o ponto\n",
        "    estado_do_jogo = 'CONTINUA'\n",
        "    ponto_do_jogador = soma_dos_dados\n",
        "    print('O ponto do jogador é ', ponto_do_jogador)\n",
        "\n",
        "# continue rolando até que o jogador ganhe ou perca\n",
        "while estado_do_jogo == 'CONTINUA':\n",
        "    valores_dos_dados = rolar_dados()\n",
        "    exibe_rolagem(valores_dos_dados)\n",
        "    soma_dos_dados = sum(valores_dos_dados)\n",
        "\n",
        "    if soma_dos_dados == ponto_do_jogador:  # ganhar fazendo ponto\n",
        "        estado_do_jogo = 'GANHOU'\n",
        "    elif soma_dos_dados == 7:  # perde rolando 7\n",
        "        estado_do_jogo = 'PERDEU'\n",
        "\n",
        "# exibe as mensagems \"ganhou\" ou \"perdeu\"\n",
        "if estado_do_jogo == 'GANHOU':\n",
        "    print('Jogador ganha')\n",
        "else:\n",
        "    print('Jogador perde')"
      ],
      "metadata": {
        "colab": {
          "base_uri": "https://localhost:8080/"
        },
        "id": "U7F8pDKWnBIX",
        "outputId": "847d0d11-32c3-422d-cfb0-c9f3baaea3cc"
      },
      "execution_count": null,
      "outputs": [
        {
          "output_type": "stream",
          "name": "stdout",
          "text": [
            "O jogador rolou 1 + 2 = 3\n",
            "Jogador perde\n"
          ]
        }
      ]
    },
    {
      "cell_type": "code",
      "source": [],
      "metadata": {
        "id": "eUvE6vainjtA"
      },
      "execution_count": null,
      "outputs": []
    },
    {
      "cell_type": "markdown",
      "source": [
        "##função para simular o craps"
      ],
      "metadata": {
        "id": "F_mNNp9SATVg"
      }
    },
    {
      "cell_type": "code",
      "source": [
        "def simula_craps():\n",
        "    valores_dos_dados = rolar_dados()  # primeira jogada\n",
        "    #exibe_rolagem(valores_dos_dados)\n",
        "    # determinar o status e o ponto do jogo, com base na primeira jogada\n",
        "    soma_dos_dados = sum(valores_dos_dados)\n",
        "    if soma_dos_dados in (7, 11):  # vence\n",
        "        estado_do_jogo = 'GANHOU'\n",
        "    elif soma_dos_dados in (2, 3, 12):  # perde\n",
        "        estado_do_jogo = 'PERDEU'\n",
        "    else:  # guardar o ponto\n",
        "        estado_do_jogo = 'CONTINUA'\n",
        "        ponto_do_jogador = soma_dos_dados\n",
        "    # continue rolando até que o jogador ganhe ou perca\n",
        "    while estado_do_jogo == 'CONTINUA':\n",
        "        valores_dos_dados = rolar_dados()\n",
        "        #exibe_rolagem(valores_dos_dados)\n",
        "        soma_dos_dados = sum(valores_dos_dados)\n",
        "\n",
        "        if soma_dos_dados == ponto_do_jogador:  # ganhar fazendo ponto\n",
        "            estado_do_jogo = 'GANHOU'\n",
        "        elif soma_dos_dados == 7:  # perde rolando 7\n",
        "            estado_do_jogo = 'PERDEU'\n",
        "    # exibe as mensagems \"ganhou\" ou \"perdeu\"\n",
        "    if estado_do_jogo == 'GANHOU':\n",
        "        return 1\n",
        "    else:\n",
        "        return 0"
      ],
      "metadata": {
        "id": "JHIL0N1p7tD6"
      },
      "execution_count": null,
      "outputs": []
    },
    {
      "cell_type": "markdown",
      "source": [
        "##testando a chance de vitória"
      ],
      "metadata": {
        "id": "vipwkXwYAXDU"
      }
    },
    {
      "cell_type": "code",
      "source": [
        "vitorias=0\n",
        "derrotas=0\n",
        "\n",
        "for i in range(6_000_000):\n",
        "    resultado=simula_craps()\n",
        "    if resultado:\n",
        "        vitorias+=1\n",
        "    else:\n",
        "        derrotas+=1\n",
        "\n",
        "print(vitorias)\n",
        "print(derrotas)\n",
        "print(vitorias/(vitorias+derrotas))"
      ],
      "metadata": {
        "id": "wq2zD74M9LK0",
        "colab": {
          "base_uri": "https://localhost:8080/"
        },
        "outputId": "f34c3a55-1e85-4a08-9222-9dc6607931b6"
      },
      "execution_count": null,
      "outputs": [
        {
          "output_type": "stream",
          "name": "stdout",
          "text": [
            "2910\n",
            "3090\n",
            "0.485\n"
          ]
        }
      ]
    },
    {
      "cell_type": "markdown",
      "source": [
        "##Atividade"
      ],
      "metadata": {
        "id": "0ycFSX4XDGnP"
      }
    },
    {
      "cell_type": "markdown",
      "source": [
        "Empacote uma tupla aluno com o nome 'Sue' e a lista [89, 94, 85], exiba a tupla, então descompacte-a em variáveis nome e notas, e exiba seus valores."
      ],
      "metadata": {
        "id": "aVqdI_BPDHun"
      }
    },
    {
      "cell_type": "code",
      "source": [
        "aluno = (2, 4)"
      ],
      "metadata": {
        "id": "kkOFeMDqpj7j"
      },
      "execution_count": null,
      "outputs": []
    },
    {
      "cell_type": "code",
      "source": [
        "aluno"
      ],
      "metadata": {
        "colab": {
          "base_uri": "https://localhost:8080/"
        },
        "id": "ae4wQfJnpmPn",
        "outputId": "753a581a-e957-40b3-fa8e-813b9699ef31"
      },
      "execution_count": null,
      "outputs": [
        {
          "output_type": "execute_result",
          "data": {
            "text/plain": [
              "(2, 4)"
            ]
          },
          "metadata": {},
          "execution_count": 51
        }
      ]
    },
    {
      "cell_type": "code",
      "source": [
        "aluno = ('Sue', 4)"
      ],
      "metadata": {
        "id": "SUIPncgJo4Sq"
      },
      "execution_count": null,
      "outputs": []
    },
    {
      "cell_type": "code",
      "source": [
        "aluno"
      ],
      "metadata": {
        "colab": {
          "base_uri": "https://localhost:8080/"
        },
        "id": "ZKb6Ec8QprMk",
        "outputId": "5522a87a-ced4-4390-b484-02a747a50ab1"
      },
      "execution_count": null,
      "outputs": [
        {
          "output_type": "execute_result",
          "data": {
            "text/plain": [
              "('Sue', 4)"
            ]
          },
          "metadata": {},
          "execution_count": 53
        }
      ]
    },
    {
      "cell_type": "code",
      "source": [
        "notas = [89,94,85]\n",
        "aluno = ('Sue', notas)\n"
      ],
      "metadata": {
        "id": "sIE6rqcTprvU"
      },
      "execution_count": null,
      "outputs": []
    },
    {
      "cell_type": "code",
      "source": [
        "aluno = ('Sue', [89, 94, 85])"
      ],
      "metadata": {
        "id": "AegUPwT6qEpc"
      },
      "execution_count": null,
      "outputs": []
    },
    {
      "cell_type": "code",
      "source": [
        "aluno"
      ],
      "metadata": {
        "colab": {
          "base_uri": "https://localhost:8080/"
        },
        "id": "ClQPFhldqH3E",
        "outputId": "01d5a8c9-f2e7-419b-9e16-d0edd5646f4c"
      },
      "execution_count": null,
      "outputs": [
        {
          "output_type": "execute_result",
          "data": {
            "text/plain": [
              "('Sue', [89, 94, 85])"
            ]
          },
          "metadata": {},
          "execution_count": 56
        }
      ]
    },
    {
      "cell_type": "markdown",
      "source": [
        "# Biblioteca padrão Python"
      ],
      "metadata": {
        "id": "0UpGvDueDhaQ"
      }
    },
    {
      "cell_type": "markdown",
      "source": [
        "Normalmente, você escreve programas Python combinando funções e classes (ou seja, tipos personalizados) que você cria com funções e classes preexistentes definidas em módulos, como aquelas na Biblioteca Padrão Python e outras bibliotecas. \n",
        "\n",
        "Um objetivo chave da programação é evitar “reinventar a roda”."
      ],
      "metadata": {
        "id": "TDy__i78Fe6D"
      }
    },
    {
      "cell_type": "markdown",
      "source": [
        "Um módulo é um arquivo que agrupa funções, dados e classes relacionadas."
      ],
      "metadata": {
        "id": "eWW1fJbbGOE-"
      }
    },
    {
      "cell_type": "markdown",
      "source": [
        "Um pacote agrupa módulos relacionados. Neste livro, você trabalhará com muitos módulos e pacotes preexistentes e criará seus próprios módulos — na verdade, todo arquivo de código-fonte Python (.py) criado é um módulo."
      ],
      "metadata": {
        "id": "ip_yrC2HGSdG"
      }
    },
    {
      "cell_type": "markdown",
      "source": [
        "##Lista de módulos"
      ],
      "metadata": {
        "id": "CB66NRQTGXq1"
      }
    },
    {
      "cell_type": "markdown",
      "source": [
        "Já usamos os módulos decimal, statistics e random.\n",
        "Na sequencia veremos os recursos de matemática do módulo de matemática. \n",
        "\n",
        "Veremos muitos outros módulos da biblioteca padrão do Python, incluindo muitos deles na lista a seguir:"
      ],
      "metadata": {
        "id": "ZTEp6MZ_FnxH"
      }
    },
    {
      "cell_type": "markdown",
      "source": [
        "* collections —Estruturas de dados além de listas, tuplas, dicionários e conjuntos.\n",
        "* Cryptography modules —Criptografia de dados para transmissão segura.\n",
        "* csv —Processando arquivos de valores separados por vírgulas (como os do Excel).\n",
        "* datetime — Manipulações de data e hora. Também módulos de tempo e calendário.\n",
        "* decimal —Aritmética de ponto fixo e ponto flutuante, incluindo cálculos monetários.\n",
        "* doctest —Incorpore testes de validação e resultados esperados em docstrings para testes unitários simples.\n",
        "* gettext e locale —Módulos de internacionalização e localização.\n",
        "* json —processamento JavaScript Object Notation (JSON) usado com serviços da Web e bancos de dados de documentos NoSQL.\n",
        "* math — Constantes e operações matemáticas comuns.\n",
        "* os —Interagindo com o sistema operacional.\n",
        "* profile, pstats, timeit —Análise de desempenho.\n",
        "* random —Números pseudo-aleatórios.\n",
        "* re —Expressões regulares para correspondência de padrões.\n",
        "* sqlite3 —Acesso ao banco de dados relacional SQLite.\n",
        "* statistics —Funções estatísticas matemáticas como média, mediana, moda e variância.\n",
        "* string —Processamento de string.\n",
        "* sys —Processamento de argumentos de linha de comando; entrada padrão, saída padrão e fluxos de erro padrão.\n",
        "* tkinter —Interfaces gráficas do usuário (GUIs) e gráficos baseados em tela.\n",
        "* turtle —Gráficos de tartaruga.\n",
        "* webbrowser —Para exibir convenientemente páginas da web em aplicativos Python."
      ],
      "metadata": {
        "id": "OYzjatUqDjW9"
      }
    },
    {
      "cell_type": "markdown",
      "source": [
        "# Módulo math"
      ],
      "metadata": {
        "id": "c18CaL5TF18v"
      }
    },
    {
      "cell_type": "code",
      "source": [
        "import math"
      ],
      "metadata": {
        "id": "jTQEFj7Cqmx-"
      },
      "execution_count": null,
      "outputs": []
    },
    {
      "cell_type": "code",
      "source": [
        "math.sqrt(900)"
      ],
      "metadata": {
        "id": "tdatksJtqmx-"
      },
      "execution_count": null,
      "outputs": []
    },
    {
      "cell_type": "markdown",
      "source": [
        "o snippet a seguir calcula o valor absoluto de -10"
      ],
      "metadata": {
        "id": "Wu63cAMkqmx_"
      }
    },
    {
      "cell_type": "code",
      "source": [
        "math.fabs(-10)"
      ],
      "metadata": {
        "id": "wPHLIwcrqmx_"
      },
      "execution_count": null,
      "outputs": []
    },
    {
      "cell_type": "markdown",
      "source": [
        "![image.png](data:image/png;base64,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)"
      ],
      "metadata": {
        "id": "6FjC_E8cqo8f"
      }
    },
    {
      "cell_type": "markdown",
      "source": [
        "#Valores de parâmetro padrão"
      ],
      "metadata": {
        "id": "rtb5SPzMbBc9"
      }
    },
    {
      "cell_type": "code",
      "source": [
        "def rectangle_area(length=2, width=3):\n",
        "    \"\"\"Return a rectangle's area.\"\"\"\n",
        "    return length * width"
      ],
      "metadata": {
        "id": "KWFDtVy5bFm1"
      },
      "execution_count": null,
      "outputs": []
    },
    {
      "cell_type": "code",
      "source": [
        "rectangle_area()"
      ],
      "metadata": {
        "id": "m8DqYM_qbF8U",
        "colab": {
          "base_uri": "https://localhost:8080/"
        },
        "outputId": "038a1990-1269-443a-f25f-ab624083b613"
      },
      "execution_count": null,
      "outputs": [
        {
          "output_type": "execute_result",
          "data": {
            "text/plain": [
              "6"
            ]
          },
          "metadata": {},
          "execution_count": 24
        }
      ]
    },
    {
      "cell_type": "code",
      "source": [
        "rectangle_area(10)"
      ],
      "metadata": {
        "id": "8CxBWNpJbHH0",
        "colab": {
          "base_uri": "https://localhost:8080/"
        },
        "outputId": "16396bd3-b8c0-48b2-ec07-e0bbab520737"
      },
      "execution_count": null,
      "outputs": [
        {
          "output_type": "execute_result",
          "data": {
            "text/plain": [
              "30"
            ]
          },
          "metadata": {},
          "execution_count": 25
        }
      ]
    },
    {
      "cell_type": "code",
      "source": [
        "rectangle_area(10, 5)"
      ],
      "metadata": {
        "id": "k53ZoKtgbIOi",
        "colab": {
          "base_uri": "https://localhost:8080/"
        },
        "outputId": "35e21f90-faae-4fc4-e9c4-af425f6397eb"
      },
      "execution_count": null,
      "outputs": [
        {
          "output_type": "execute_result",
          "data": {
            "text/plain": [
              "50"
            ]
          },
          "metadata": {},
          "execution_count": 26
        }
      ]
    },
    {
      "cell_type": "markdown",
      "source": [
        "#Usando a conclusão da guia IPython para descoberta"
      ],
      "metadata": {
        "id": "nMyhYWQ9ajEr"
      }
    },
    {
      "cell_type": "code",
      "source": [
        "import math"
      ],
      "metadata": {
        "id": "l_bGvMNBHJIS"
      },
      "execution_count": null,
      "outputs": []
    },
    {
      "cell_type": "code",
      "source": [
        "# aperte <ctrl>+<espaço> ou <Tab> depois de ma  \n",
        "ma"
      ],
      "metadata": {
        "id": "9RBew_FHamsA"
      },
      "execution_count": null,
      "outputs": []
    },
    {
      "cell_type": "markdown",
      "source": [
        "##Visualizando Identificadores em um Módulo"
      ],
      "metadata": {
        "id": "7KYfVhBmaxzQ"
      }
    },
    {
      "cell_type": "code",
      "source": [
        "# aperte <ctrl>+<espaço> ou <Tab> depois o ponto \n",
        "math."
      ],
      "metadata": {
        "id": "MFv6LzHQazwc",
        "colab": {
          "base_uri": "https://localhost:8080/",
          "height": 132
        },
        "outputId": "030498ad-0174-4866-eb90-f11e0332130b"
      },
      "execution_count": null,
      "outputs": [
        {
          "output_type": "error",
          "ename": "SyntaxError",
          "evalue": "ignored",
          "traceback": [
            "\u001b[0;36m  File \u001b[0;32m\"<ipython-input-29-fc166dfee54a>\"\u001b[0;36m, line \u001b[0;32m2\u001b[0m\n\u001b[0;31m    math.\u001b[0m\n\u001b[0m         ^\u001b[0m\n\u001b[0;31mSyntaxError\u001b[0m\u001b[0;31m:\u001b[0m invalid syntax\n"
          ]
        }
      ]
    },
    {
      "cell_type": "markdown",
      "source": [
        "##Usando a função atualmente destacada"
      ],
      "metadata": {
        "id": "HEtAPnFJa4xt"
      }
    },
    {
      "cell_type": "code",
      "source": [
        "math.fabs?"
      ],
      "metadata": {
        "id": "8Qy6choBa5kA"
      },
      "execution_count": null,
      "outputs": []
    },
    {
      "cell_type": "code",
      "source": [
        "math.e"
      ],
      "metadata": {
        "id": "V3VtXwPIcCaw",
        "colab": {
          "base_uri": "https://localhost:8080/"
        },
        "outputId": "e770b2ef-00e8-4948-abba-3fc6ca40c788"
      },
      "execution_count": null,
      "outputs": [
        {
          "output_type": "execute_result",
          "data": {
            "text/plain": [
              "2.718281828459045"
            ]
          },
          "metadata": {},
          "execution_count": 31
        }
      ]
    },
    {
      "cell_type": "code",
      "source": [
        "math.pi"
      ],
      "metadata": {
        "colab": {
          "base_uri": "https://localhost:8080/"
        },
        "id": "PI6Yyx3SXIsI",
        "outputId": "7b73222f-07a4-4942-fdce-1806ffc17419"
      },
      "execution_count": null,
      "outputs": [
        {
          "output_type": "execute_result",
          "data": {
            "text/plain": [
              "3.141592653589793"
            ]
          },
          "metadata": {},
          "execution_count": 32
        }
      ]
    },
    {
      "cell_type": "code",
      "source": [
        "math.e=2"
      ],
      "metadata": {
        "id": "AWAFTbEucD0W"
      },
      "execution_count": null,
      "outputs": []
    },
    {
      "cell_type": "code",
      "source": [
        "math.e"
      ],
      "metadata": {
        "id": "X7gNaI7GcFF0",
        "colab": {
          "base_uri": "https://localhost:8080/"
        },
        "outputId": "c6c75aeb-7fa4-44ef-836d-667e54317f71"
      },
      "execution_count": null,
      "outputs": [
        {
          "output_type": "execute_result",
          "data": {
            "text/plain": [
              "2"
            ]
          },
          "metadata": {},
          "execution_count": 34
        }
      ]
    },
    {
      "cell_type": "code",
      "source": [
        "import math"
      ],
      "metadata": {
        "id": "KVIw7PI0XR-k"
      },
      "execution_count": null,
      "outputs": []
    },
    {
      "cell_type": "code",
      "source": [
        "math.e"
      ],
      "metadata": {
        "colab": {
          "base_uri": "https://localhost:8080/"
        },
        "id": "UaYppNO2XVkN",
        "outputId": "f5c625fa-5ecd-4b4f-8755-d1ffc52d5b6e"
      },
      "execution_count": null,
      "outputs": [
        {
          "output_type": "execute_result",
          "data": {
            "text/plain": [
              "2"
            ]
          },
          "metadata": {},
          "execution_count": 36
        }
      ]
    },
    {
      "cell_type": "code",
      "source": [
        "type(math.sqrt)"
      ],
      "metadata": {
        "colab": {
          "base_uri": "https://localhost:8080/"
        },
        "id": "fQOKGohzY19x",
        "outputId": "831ccb26-d702-4c14-d1e5-5f50f47f827b"
      },
      "execution_count": null,
      "outputs": [
        {
          "output_type": "execute_result",
          "data": {
            "text/plain": [
              "builtin_function_or_method"
            ]
          },
          "metadata": {},
          "execution_count": 51
        }
      ]
    },
    {
      "cell_type": "code",
      "source": [],
      "metadata": {
        "id": "vZvY33shXyfc"
      },
      "execution_count": null,
      "outputs": []
    },
    {
      "cell_type": "markdown",
      "source": [
        "#Argumentos de palavra-chave"
      ],
      "metadata": {
        "id": "_uyGpGUUfYP3"
      }
    },
    {
      "cell_type": "code",
      "source": [
        "def rectangle_area(length, width):\n",
        "    \"\"\"Return a rectangle's area.\"\"\"\n",
        "    return length * width"
      ],
      "metadata": {
        "id": "hxvOycF9fHGE"
      },
      "execution_count": null,
      "outputs": []
    },
    {
      "cell_type": "code",
      "source": [
        "rectangle_area(width=5, length=10)"
      ],
      "metadata": {
        "id": "c3ICck9gfhNz"
      },
      "execution_count": null,
      "outputs": []
    },
    {
      "cell_type": "markdown",
      "source": [
        "#Listas de argumentos arbitrários"
      ],
      "metadata": {
        "id": "V6BavxXvftXr"
      }
    },
    {
      "cell_type": "code",
      "source": [
        "def average(*args):\n",
        "    return sum(args) / len(args)"
      ],
      "metadata": {
        "id": "H0NRTN8PfuWB"
      },
      "execution_count": null,
      "outputs": []
    },
    {
      "cell_type": "code",
      "source": [
        "average(5, 10)"
      ],
      "metadata": {
        "id": "BGH3R3dDfv0t",
        "colab": {
          "base_uri": "https://localhost:8080/"
        },
        "outputId": "68fb0aff-99e4-415b-a6a8-7622207a436f"
      },
      "execution_count": null,
      "outputs": [
        {
          "output_type": "execute_result",
          "data": {
            "text/plain": [
              "7.5"
            ]
          },
          "metadata": {},
          "execution_count": 58
        }
      ]
    },
    {
      "cell_type": "code",
      "source": [
        "average(5, 10, 15)"
      ],
      "metadata": {
        "id": "KIBtLZa7fw4F",
        "colab": {
          "base_uri": "https://localhost:8080/"
        },
        "outputId": "544cbb86-bc13-4a92-8393-245e354085e7"
      },
      "execution_count": null,
      "outputs": [
        {
          "output_type": "execute_result",
          "data": {
            "text/plain": [
              "10.0"
            ]
          },
          "metadata": {},
          "execution_count": 59
        }
      ]
    },
    {
      "cell_type": "code",
      "source": [
        "average(5, 10, 15, 20)"
      ],
      "metadata": {
        "id": "dupQPrNtfx6d",
        "colab": {
          "base_uri": "https://localhost:8080/"
        },
        "outputId": "f7734630-f615-4389-eefe-d40fe2125566"
      },
      "execution_count": null,
      "outputs": [
        {
          "output_type": "execute_result",
          "data": {
            "text/plain": [
              "12.5"
            ]
          },
          "metadata": {},
          "execution_count": 60
        }
      ]
    },
    {
      "cell_type": "markdown",
      "source": [
        "##Passando os elementos individuais de um iterável como argumentos de função"
      ],
      "metadata": {
        "id": "Ei7CBPXFf2vl"
      }
    },
    {
      "cell_type": "markdown",
      "source": [
        "Você pode descompactar uma tupla, uma lista ou outros elementos iteráveis ​​para passá-los como argumentos de função individuais. \n",
        "\n",
        "O operador *, quando aplicado a um argumento iterável em uma chamada de função, descompacta seus elementos."
      ],
      "metadata": {
        "id": "9hLTxlfBi7Hk"
      }
    },
    {
      "cell_type": "code",
      "source": [
        "notas = [88, 75, 96, 55, 83]"
      ],
      "metadata": {
        "id": "G6awezOjfy_m"
      },
      "execution_count": null,
      "outputs": []
    },
    {
      "cell_type": "code",
      "source": [
        "type(notas)"
      ],
      "metadata": {
        "colab": {
          "base_uri": "https://localhost:8080/"
        },
        "id": "sb2XcVe5a40S",
        "outputId": "e17c3c2c-b174-47d4-fbb0-0d30f4d41876"
      },
      "execution_count": null,
      "outputs": [
        {
          "output_type": "execute_result",
          "data": {
            "text/plain": [
              "list"
            ]
          },
          "metadata": {},
          "execution_count": 64
        }
      ]
    },
    {
      "cell_type": "code",
      "source": [
        "average(notas)"
      ],
      "metadata": {
        "colab": {
          "base_uri": "https://localhost:8080/",
          "height": 236
        },
        "id": "L5M4lKZhbBT7",
        "outputId": "ed069dd3-35a2-42e4-a5fe-56a88df49c07"
      },
      "execution_count": null,
      "outputs": [
        {
          "output_type": "error",
          "ename": "TypeError",
          "evalue": "ignored",
          "traceback": [
            "\u001b[0;31m---------------------------------------------------------------------------\u001b[0m",
            "\u001b[0;31mTypeError\u001b[0m                                 Traceback (most recent call last)",
            "\u001b[0;32m<ipython-input-65-f1a941f55e2f>\u001b[0m in \u001b[0;36m<module>\u001b[0;34m\u001b[0m\n\u001b[0;32m----> 1\u001b[0;31m \u001b[0maverage\u001b[0m\u001b[0;34m(\u001b[0m\u001b[0mnotas\u001b[0m\u001b[0;34m)\u001b[0m\u001b[0;34m\u001b[0m\u001b[0;34m\u001b[0m\u001b[0m\n\u001b[0m",
            "\u001b[0;32m<ipython-input-57-2a0882cc9d56>\u001b[0m in \u001b[0;36maverage\u001b[0;34m(*args)\u001b[0m\n\u001b[1;32m      1\u001b[0m \u001b[0;32mdef\u001b[0m \u001b[0maverage\u001b[0m\u001b[0;34m(\u001b[0m\u001b[0;34m*\u001b[0m\u001b[0margs\u001b[0m\u001b[0;34m)\u001b[0m\u001b[0;34m:\u001b[0m\u001b[0;34m\u001b[0m\u001b[0;34m\u001b[0m\u001b[0m\n\u001b[0;32m----> 2\u001b[0;31m     \u001b[0;32mreturn\u001b[0m \u001b[0msum\u001b[0m\u001b[0;34m(\u001b[0m\u001b[0margs\u001b[0m\u001b[0;34m)\u001b[0m \u001b[0;34m/\u001b[0m \u001b[0mlen\u001b[0m\u001b[0;34m(\u001b[0m\u001b[0margs\u001b[0m\u001b[0;34m)\u001b[0m\u001b[0;34m\u001b[0m\u001b[0;34m\u001b[0m\u001b[0m\n\u001b[0m",
            "\u001b[0;31mTypeError\u001b[0m: unsupported operand type(s) for +: 'int' and 'list'"
          ]
        }
      ]
    },
    {
      "cell_type": "code",
      "source": [
        "average(88, 75, 96, 55, 83)"
      ],
      "metadata": {
        "colab": {
          "base_uri": "https://localhost:8080/"
        },
        "id": "9m2F2DnlbN7a",
        "outputId": "f91343ea-011a-41d7-a58e-8eac4dbf72cd"
      },
      "execution_count": null,
      "outputs": [
        {
          "output_type": "execute_result",
          "data": {
            "text/plain": [
              "79.4"
            ]
          },
          "metadata": {},
          "execution_count": 66
        }
      ]
    },
    {
      "cell_type": "code",
      "source": [
        "average(*notas)"
      ],
      "metadata": {
        "id": "NSxYZlSEf4_z",
        "colab": {
          "base_uri": "https://localhost:8080/"
        },
        "outputId": "6338bc79-03e0-42ce-bf30-23c2a8b0013a"
      },
      "execution_count": null,
      "outputs": [
        {
          "output_type": "execute_result",
          "data": {
            "text/plain": [
              "79.4"
            ]
          },
          "metadata": {},
          "execution_count": 68
        }
      ]
    },
    {
      "cell_type": "markdown",
      "source": [
        "##Questão"
      ],
      "metadata": {
        "id": "93YLzUS0hSPY"
      }
    },
    {
      "cell_type": "markdown",
      "source": [
        "(Sessão IPython) Crie uma função chamada calcular_produto que recebe uma lista de argumentos arbitrária e retorna o produto de todos os argumentos. Chame a função com os argumentos 10, 20 e 30, depois com a sequência de inteiros produzida por range(1, 6, 2)."
      ],
      "metadata": {
        "id": "BwOoF74AhT4t"
      }
    },
    {
      "cell_type": "code",
      "source": [
        "print(*(range(1,6,2)))"
      ],
      "metadata": {
        "id": "grp_p1frm_b2",
        "colab": {
          "base_uri": "https://localhost:8080/"
        },
        "outputId": "6a8b04ce-e145-4ca4-ce2b-cc6e74a9252a"
      },
      "execution_count": null,
      "outputs": [
        {
          "output_type": "stream",
          "name": "stdout",
          "text": [
            "1 3 5\n"
          ]
        }
      ]
    },
    {
      "cell_type": "code",
      "source": [
        "def calcular_produto(*args):\n",
        "    total=1\n",
        "    for num in args:\n",
        "      total*=num\n",
        "    return total"
      ],
      "metadata": {
        "id": "Pl88IMo-c7S_"
      },
      "execution_count": null,
      "outputs": []
    },
    {
      "cell_type": "code",
      "source": [
        "calcular_produto(10,20,30)"
      ],
      "metadata": {
        "colab": {
          "base_uri": "https://localhost:8080/"
        },
        "id": "UfZNlaSxd5oV",
        "outputId": "b7e6d811-153e-4f2a-c2c7-c1e07cfbcc1a"
      },
      "execution_count": null,
      "outputs": [
        {
          "output_type": "execute_result",
          "data": {
            "text/plain": [
              "6000"
            ]
          },
          "metadata": {},
          "execution_count": 78
        }
      ]
    },
    {
      "cell_type": "code",
      "source": [
        "calcular_produto(*(range(1,6,2)))"
      ],
      "metadata": {
        "colab": {
          "base_uri": "https://localhost:8080/"
        },
        "id": "f-yWXGaOd6u7",
        "outputId": "f7ece95e-5c96-477f-ff32-35b7aa941317"
      },
      "execution_count": null,
      "outputs": [
        {
          "output_type": "execute_result",
          "data": {
            "text/plain": [
              "15"
            ]
          },
          "metadata": {},
          "execution_count": 80
        }
      ]
    },
    {
      "cell_type": "code",
      "source": [],
      "metadata": {
        "id": "_Ae0VyzoeDiD"
      },
      "execution_count": null,
      "outputs": []
    },
    {
      "cell_type": "markdown",
      "source": [
        "#Métodos: funções que pertencem a objetos"
      ],
      "metadata": {
        "id": "xJ_AVmbzjWIq"
      }
    },
    {
      "cell_type": "code",
      "source": [
        "s = 'Hello'"
      ],
      "metadata": {
        "id": "9KU27V1fjXWf"
      },
      "execution_count": null,
      "outputs": []
    },
    {
      "cell_type": "code",
      "source": [
        "s."
      ],
      "metadata": {
        "id": "kCiqFMZGekuf"
      },
      "execution_count": null,
      "outputs": []
    },
    {
      "cell_type": "code",
      "source": [
        "s.lower()  # call lower method on string object s"
      ],
      "metadata": {
        "id": "t_Up5fIqjYot",
        "colab": {
          "base_uri": "https://localhost:8080/",
          "height": 35
        },
        "outputId": "96663ae8-9966-49d8-d56d-ca6e23aede07"
      },
      "execution_count": null,
      "outputs": [
        {
          "output_type": "execute_result",
          "data": {
            "text/plain": [
              "'hello'"
            ],
            "application/vnd.google.colaboratory.intrinsic+json": {
              "type": "string"
            }
          },
          "metadata": {},
          "execution_count": 82
        }
      ]
    },
    {
      "cell_type": "code",
      "source": [
        "s.upper()"
      ],
      "metadata": {
        "id": "L_rGtRBCjZ6N",
        "colab": {
          "base_uri": "https://localhost:8080/",
          "height": 35
        },
        "outputId": "290c3f62-1b45-4f9e-964f-9fe51850c04a"
      },
      "execution_count": null,
      "outputs": [
        {
          "output_type": "execute_result",
          "data": {
            "text/plain": [
              "'HELLO'"
            ],
            "application/vnd.google.colaboratory.intrinsic+json": {
              "type": "string"
            }
          },
          "metadata": {},
          "execution_count": 83
        }
      ]
    },
    {
      "cell_type": "code",
      "source": [
        "s"
      ],
      "metadata": {
        "id": "lQvdRtBhja_l",
        "colab": {
          "base_uri": "https://localhost:8080/",
          "height": 35
        },
        "outputId": "c8310ca6-6d3b-4627-f101-811bdae6b0ea"
      },
      "execution_count": null,
      "outputs": [
        {
          "output_type": "execute_result",
          "data": {
            "text/plain": [
              "'Hello'"
            ],
            "application/vnd.google.colaboratory.intrinsic+json": {
              "type": "string"
            }
          },
          "metadata": {},
          "execution_count": 85
        }
      ]
    },
    {
      "cell_type": "code",
      "source": [
        "s."
      ],
      "metadata": {
        "id": "CjJ39S02jcEN"
      },
      "execution_count": null,
      "outputs": []
    },
    {
      "cell_type": "code",
      "source": [
        "s = s.upper()"
      ],
      "metadata": {
        "id": "pv3hm-uEe7fK"
      },
      "execution_count": null,
      "outputs": []
    },
    {
      "cell_type": "code",
      "source": [
        "s"
      ],
      "metadata": {
        "colab": {
          "base_uri": "https://localhost:8080/",
          "height": 35
        },
        "id": "fAZTFSg1fFRr",
        "outputId": "885cc263-dd4b-4709-b707-3a3003b550ae"
      },
      "execution_count": null,
      "outputs": [
        {
          "output_type": "execute_result",
          "data": {
            "text/plain": [
              "'HELLO'"
            ],
            "application/vnd.google.colaboratory.intrinsic+json": {
              "type": "string"
            }
          },
          "metadata": {},
          "execution_count": 87
        }
      ]
    },
    {
      "cell_type": "markdown",
      "source": [
        "#Regras de escopo"
      ],
      "metadata": {
        "id": "-OPIYQUpjkIB"
      }
    },
    {
      "cell_type": "markdown",
      "source": [
        "Cada identificador tem um escopo que determina onde você pode usá-lo em seu programa. Para essa parte do programa, diz-se que o identificador está “no escopo”."
      ],
      "metadata": {
        "id": "q6-MHkPyk16V"
      }
    },
    {
      "cell_type": "markdown",
      "source": [
        "Acessando uma variável global de uma função"
      ],
      "metadata": {
        "id": "RkkEVPqIk6T7"
      }
    },
    {
      "cell_type": "code",
      "source": [
        "x = 7"
      ],
      "metadata": {
        "id": "mRGF6tYUjdBm"
      },
      "execution_count": null,
      "outputs": []
    },
    {
      "cell_type": "code",
      "source": [
        "def access_global():\n",
        "    print('x printed from access_global:', x)"
      ],
      "metadata": {
        "id": "brQPPppok-Fm"
      },
      "execution_count": null,
      "outputs": []
    },
    {
      "cell_type": "code",
      "source": [
        "access_global()"
      ],
      "metadata": {
        "id": "BmPsHCUkk_K3",
        "colab": {
          "base_uri": "https://localhost:8080/"
        },
        "outputId": "d75fd057-0169-43d5-93f2-f5379454e25c"
      },
      "execution_count": null,
      "outputs": [
        {
          "output_type": "stream",
          "name": "stdout",
          "text": [
            "x printed from access_global: 7\n"
          ]
        }
      ]
    },
    {
      "cell_type": "code",
      "source": [
        "def try_to_modify_global():\n",
        "    x = 3.5\n",
        "    print('x printed from try_to_modify_global:', x)"
      ],
      "metadata": {
        "id": "cn9ouLUQlAMd"
      },
      "execution_count": null,
      "outputs": []
    },
    {
      "cell_type": "code",
      "source": [
        "try_to_modify_global()"
      ],
      "metadata": {
        "id": "9PKvHGDglBgp",
        "colab": {
          "base_uri": "https://localhost:8080/"
        },
        "outputId": "9fd57244-eea2-431f-9cf6-f61adaae5745"
      },
      "execution_count": null,
      "outputs": [
        {
          "output_type": "stream",
          "name": "stdout",
          "text": [
            "x printed from try_to_modify_global: 3.5\n"
          ]
        }
      ]
    },
    {
      "cell_type": "code",
      "source": [
        "x"
      ],
      "metadata": {
        "id": "JoHdxv9HlCtW",
        "colab": {
          "base_uri": "https://localhost:8080/"
        },
        "outputId": "bba99ce5-2f11-4811-cea5-114b94ef9b9c"
      },
      "execution_count": null,
      "outputs": [
        {
          "output_type": "execute_result",
          "data": {
            "text/plain": [
              "7"
            ]
          },
          "metadata": {},
          "execution_count": 94
        }
      ]
    },
    {
      "cell_type": "markdown",
      "source": [
        "Para modificar uma variável global em um bloco de função, você deve usar uma instrução global para declarar que a variável está definida no escopo global"
      ],
      "metadata": {
        "id": "e_ynZMU_lWuz"
      }
    },
    {
      "cell_type": "code",
      "source": [
        "def modify_global():\n",
        "    global x;\n",
        "    x = 'hello'\n",
        "    print('x printed from modify_global:', x)"
      ],
      "metadata": {
        "id": "xwFWZgXClD4u"
      },
      "execution_count": null,
      "outputs": []
    },
    {
      "cell_type": "code",
      "source": [
        "modify_global()"
      ],
      "metadata": {
        "id": "tBX-nOo2lFrG",
        "colab": {
          "base_uri": "https://localhost:8080/"
        },
        "outputId": "54dbef48-d65c-4805-b0d5-bd8607b6e569"
      },
      "execution_count": null,
      "outputs": [
        {
          "output_type": "stream",
          "name": "stdout",
          "text": [
            "x printed from modify_global: hello\n"
          ]
        }
      ]
    },
    {
      "cell_type": "code",
      "source": [
        "x"
      ],
      "metadata": {
        "id": "PlU6BWRslHYO",
        "colab": {
          "base_uri": "https://localhost:8080/",
          "height": 35
        },
        "outputId": "eb93fea0-de6f-42da-cc24-777f9c67bbbd"
      },
      "execution_count": null,
      "outputs": [
        {
          "output_type": "execute_result",
          "data": {
            "text/plain": [
              "'hello'"
            ],
            "application/vnd.google.colaboratory.intrinsic+json": {
              "type": "string"
            }
          },
          "metadata": {},
          "execution_count": 98
        }
      ]
    },
    {
      "cell_type": "markdown",
      "source": [
        "## Sobreando funções"
      ],
      "metadata": {
        "id": "DbQrkP4blV85"
      }
    },
    {
      "cell_type": "code",
      "source": [
        "sum([10, 5])"
      ],
      "metadata": {
        "id": "JhcQYIdClH82",
        "colab": {
          "base_uri": "https://localhost:8080/"
        },
        "outputId": "c4a1e6b6-20d2-4a49-8922-3d80e59ab55c"
      },
      "execution_count": null,
      "outputs": [
        {
          "output_type": "execute_result",
          "data": {
            "text/plain": [
              "15"
            ]
          },
          "metadata": {},
          "execution_count": 99
        }
      ]
    },
    {
      "cell_type": "code",
      "source": [
        "sum = 10 + 5"
      ],
      "metadata": {
        "id": "WGSmGSySlxS4"
      },
      "execution_count": null,
      "outputs": []
    },
    {
      "cell_type": "code",
      "source": [
        "sum"
      ],
      "metadata": {
        "id": "jbHWkuiXlzVc",
        "colab": {
          "base_uri": "https://localhost:8080/"
        },
        "outputId": "6f23eddd-c98b-40a1-fc7f-0beacac003d1"
      },
      "execution_count": null,
      "outputs": [
        {
          "output_type": "execute_result",
          "data": {
            "text/plain": [
              "15"
            ]
          },
          "metadata": {},
          "execution_count": 101
        }
      ]
    },
    {
      "cell_type": "code",
      "source": [
        "sum([10, 5])"
      ],
      "metadata": {
        "id": "uCRZzf3ll0_w",
        "colab": {
          "base_uri": "https://localhost:8080/",
          "height": 167
        },
        "outputId": "c84817e2-448c-489c-9f88-27f83dbaea95"
      },
      "execution_count": null,
      "outputs": [
        {
          "output_type": "error",
          "ename": "TypeError",
          "evalue": "ignored",
          "traceback": [
            "\u001b[0;31m---------------------------------------------------------------------------\u001b[0m",
            "\u001b[0;31mTypeError\u001b[0m                                 Traceback (most recent call last)",
            "\u001b[0;32m<ipython-input-102-1237d97a65fb>\u001b[0m in \u001b[0;36m<module>\u001b[0;34m\u001b[0m\n\u001b[0;32m----> 1\u001b[0;31m \u001b[0msum\u001b[0m\u001b[0;34m(\u001b[0m\u001b[0;34m[\u001b[0m\u001b[0;36m10\u001b[0m\u001b[0;34m,\u001b[0m \u001b[0;36m5\u001b[0m\u001b[0;34m]\u001b[0m\u001b[0;34m)\u001b[0m\u001b[0;34m\u001b[0m\u001b[0;34m\u001b[0m\u001b[0m\n\u001b[0m",
            "\u001b[0;31mTypeError\u001b[0m: 'int' object is not callable"
          ]
        }
      ]
    },
    {
      "cell_type": "markdown",
      "source": [
        "#import: Um olhar mais profundo"
      ],
      "metadata": {
        "id": "spAoWYMwmByW"
      }
    },
    {
      "cell_type": "markdown",
      "source": [
        "Importando vários identificadores de um módulo"
      ],
      "metadata": {
        "id": "Phx7Jz3xmGzP"
      }
    },
    {
      "cell_type": "code",
      "source": [
        "from math import ceil, floor, sqrt"
      ],
      "metadata": {
        "id": "b015oniimD8-"
      },
      "execution_count": null,
      "outputs": []
    },
    {
      "cell_type": "code",
      "source": [
        "ceil(10.3)"
      ],
      "metadata": {
        "id": "_BnVIpa-mI4W",
        "colab": {
          "base_uri": "https://localhost:8080/"
        },
        "outputId": "58173233-36d0-4ae5-b960-516ec33e1f8d"
      },
      "execution_count": null,
      "outputs": [
        {
          "output_type": "execute_result",
          "data": {
            "text/plain": [
              "11"
            ]
          },
          "metadata": {},
          "execution_count": 105
        }
      ]
    },
    {
      "cell_type": "code",
      "source": [
        "floor(10.7)"
      ],
      "metadata": {
        "id": "52cS1rk-mJGX",
        "colab": {
          "base_uri": "https://localhost:8080/"
        },
        "outputId": "749101a0-c11c-48ee-a270-e75ec89de190"
      },
      "execution_count": null,
      "outputs": [
        {
          "output_type": "execute_result",
          "data": {
            "text/plain": [
              "10"
            ]
          },
          "metadata": {},
          "execution_count": 106
        }
      ]
    },
    {
      "cell_type": "markdown",
      "source": [
        "##Cuidado: evite importações com curingas"
      ],
      "metadata": {
        "id": "aKNoRdzpmSPD"
      }
    },
    {
      "cell_type": "code",
      "source": [
        "e = 'hello'"
      ],
      "metadata": {
        "id": "_e9CAKX5mKge"
      },
      "execution_count": null,
      "outputs": []
    },
    {
      "cell_type": "code",
      "source": [
        "e"
      ],
      "metadata": {
        "id": "_btPrmvZmUZl",
        "colab": {
          "base_uri": "https://localhost:8080/",
          "height": 35
        },
        "outputId": "e4e276ff-2bc5-4e1a-f1af-02722918cf5d"
      },
      "execution_count": null,
      "outputs": [
        {
          "output_type": "execute_result",
          "data": {
            "text/plain": [
              "'hello'"
            ],
            "application/vnd.google.colaboratory.intrinsic+json": {
              "type": "string"
            }
          },
          "metadata": {},
          "execution_count": 108
        }
      ]
    },
    {
      "cell_type": "code",
      "source": [
        "from math import *"
      ],
      "metadata": {
        "id": "5hzU8ntxmU1u"
      },
      "execution_count": null,
      "outputs": []
    },
    {
      "cell_type": "code",
      "source": [
        "e"
      ],
      "metadata": {
        "id": "smyoO1tTmWAV",
        "colab": {
          "base_uri": "https://localhost:8080/"
        },
        "outputId": "2f8ec687-3390-4e58-f6f2-b130d1a3a40d"
      },
      "execution_count": null,
      "outputs": [
        {
          "output_type": "execute_result",
          "data": {
            "text/plain": [
              "2"
            ]
          },
          "metadata": {},
          "execution_count": 110
        }
      ]
    },
    {
      "cell_type": "code",
      "source": [
        "math.e"
      ],
      "metadata": {
        "colab": {
          "base_uri": "https://localhost:8080/"
        },
        "id": "cbVkeXGyg9Wb",
        "outputId": "84c054a4-5813-42f9-e4cb-abe26f38839a"
      },
      "execution_count": null,
      "outputs": [
        {
          "output_type": "execute_result",
          "data": {
            "text/plain": [
              "2"
            ]
          },
          "metadata": {},
          "execution_count": 111
        }
      ]
    },
    {
      "cell_type": "code",
      "source": [],
      "metadata": {
        "id": "5cKaDBPDg9vK"
      },
      "execution_count": null,
      "outputs": []
    },
    {
      "cell_type": "markdown",
      "source": [
        "##Dando apelidos para módulos e identificadores de módulo"
      ],
      "metadata": {
        "id": "Q_cUKS1AmdOE"
      }
    },
    {
      "cell_type": "code",
      "source": [
        "import statistics as stats"
      ],
      "metadata": {
        "id": "2kmCvhPgmXHt"
      },
      "execution_count": null,
      "outputs": []
    },
    {
      "cell_type": "code",
      "source": [
        "grades = [85, 93, 45, 87, 93]"
      ],
      "metadata": {
        "id": "g6HgWAeFmj4G"
      },
      "execution_count": null,
      "outputs": []
    },
    {
      "cell_type": "code",
      "source": [
        "stats.mean(grades)"
      ],
      "metadata": {
        "id": "CQkyw0Nqmp7q",
        "colab": {
          "base_uri": "https://localhost:8080/"
        },
        "outputId": "1ca1ed13-9eab-4b8b-881a-9a8ce9cb6911"
      },
      "execution_count": null,
      "outputs": [
        {
          "output_type": "execute_result",
          "data": {
            "text/plain": [
              "80.6"
            ]
          },
          "metadata": {},
          "execution_count": 114
        }
      ]
    },
    {
      "cell_type": "markdown",
      "source": [
        "#Passando argumentos para funções: um olhar mais profundo"
      ],
      "metadata": {
        "id": "yIkBpArgnpFJ"
      }
    },
    {
      "cell_type": "markdown",
      "source": [
        "Em muitas linguagens de programação, há duas maneiras de passar argumentos —passar-por-valor e passar-por-referencia (às vezes chamados de chamada-por-valor e chamada-por-referencia, respectivamente): \n",
        "* Com passar-por-valor, a função chamada recebe uma cópia do valor do argumento e trabalha exclusivamente com essa cópia. As alterações na cópia da função não afetam o valor da variável original no chamador. \n",
        "* Com passar-por-referencia, a função chamada pode acessar diretamente o valor do argumento no chamador e modificar o valor se for mutável. \n",
        "\n",
        "Os argumentos do Python são sempre passados por referência. Isso é importante para o desempenho."
      ],
      "metadata": {
        "id": "w1MHgCsRoneb"
      }
    },
    {
      "cell_type": "markdown",
      "source": [
        "##Endereços de Memória, Referências e “Ponteiros”"
      ],
      "metadata": {
        "id": "ZoqwPBNRpS6v"
      }
    },
    {
      "cell_type": "code",
      "source": [
        "x = 7"
      ],
      "metadata": {
        "id": "g-ji1guDory-"
      },
      "execution_count": null,
      "outputs": []
    },
    {
      "cell_type": "markdown",
      "source": [
        "a variável x na verdade não contém o valor 7. \n",
        "\n",
        "Em vez disso, ela contém uma referência a um objeto contendo 7 (e alguns outros dados que discutiremos em capítulos posteriores) armazenados em outro lugar na memória"
      ],
      "metadata": {
        "id": "lNMFxgFRpb24"
      }
    },
    {
      "cell_type": "markdown",
      "source": [
        "![image.png](data:image/png;base64,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)"
      ],
      "metadata": {
        "id": "Zia-jaTeqAI3"
      }
    },
    {
      "cell_type": "markdown",
      "source": [
        "##A função integrada ID e identidades de objeto"
      ],
      "metadata": {
        "id": "mvesZwdlqDvs"
      }
    },
    {
      "cell_type": "code",
      "source": [
        "x = 7"
      ],
      "metadata": {
        "id": "zqfc0BJ7pWo3"
      },
      "execution_count": null,
      "outputs": []
    },
    {
      "cell_type": "markdown",
      "source": [
        "Agora x se refere (ou “aponta para”) o objeto inteiro contendo 7"
      ],
      "metadata": {
        "id": "tPF5UAuEqT8N"
      }
    },
    {
      "cell_type": "markdown",
      "source": [
        "Dois objetos separados não podem residir no mesmo endereço na memória, portanto, cada objeto na memória tem um endereço exclusivo. \n",
        "\n",
        "Embora não possamos ver o endereço de um objeto, podemos usar a função id integrada para obter um valor int exclusivo que identifica apenas esse objeto enquanto ele permanece na memória (você provavelmente obterá um valor diferente quando executar isso em seu computador):"
      ],
      "metadata": {
        "id": "kYZ4rZIfqpfN"
      }
    },
    {
      "cell_type": "code",
      "source": [
        "id(x)"
      ],
      "metadata": {
        "id": "oj-pFI7IqJlW",
        "colab": {
          "base_uri": "https://localhost:8080/"
        },
        "outputId": "4ece21b9-1f12-4693-892c-b032e75a65c2"
      },
      "execution_count": null,
      "outputs": [
        {
          "output_type": "execute_result",
          "data": {
            "text/plain": [
              "11256256"
            ]
          },
          "metadata": {},
          "execution_count": 117
        }
      ]
    },
    {
      "cell_type": "markdown",
      "source": [
        "##Passando um objeto para uma função"
      ],
      "metadata": {
        "id": "R6gdLwXWqpHR"
      }
    },
    {
      "cell_type": "code",
      "source": [
        "def cube(number):\n",
        "    print('id(number):', id(number))\n",
        "    return number ** 3"
      ],
      "metadata": {
        "id": "ek_Jv1RfqLje"
      },
      "execution_count": null,
      "outputs": []
    },
    {
      "cell_type": "code",
      "source": [
        "cube(x)"
      ],
      "metadata": {
        "id": "DNp5_BeEq3Ts",
        "colab": {
          "base_uri": "https://localhost:8080/"
        },
        "outputId": "086eebc4-2921-4b58-bf7d-f468aeeff36c"
      },
      "execution_count": null,
      "outputs": [
        {
          "output_type": "stream",
          "name": "stdout",
          "text": [
            "id(number): 11256256\n"
          ]
        },
        {
          "output_type": "execute_result",
          "data": {
            "text/plain": [
              "343"
            ]
          },
          "metadata": {},
          "execution_count": 119
        }
      ]
    },
    {
      "cell_type": "markdown",
      "source": [
        "##Testando identidades de objetos com o operador is"
      ],
      "metadata": {
        "id": "_AxIL_NKrMGc"
      }
    },
    {
      "cell_type": "markdown",
      "source": [
        "Você também pode provar que o argumento e o parâmetro se referem ao mesmo objeto com o operador is do Python, que retorna True se seus dois operandos tiverem a mesma identidade:"
      ],
      "metadata": {
        "id": "uA6dNAhmrfUg"
      }
    },
    {
      "cell_type": "code",
      "source": [
        "def cube(number):\n",
        "    print('number is x:', number is x)  # x is a global variable\n",
        "    return number ** 3"
      ],
      "metadata": {
        "id": "L9xaslzhq4bU"
      },
      "execution_count": null,
      "outputs": []
    },
    {
      "cell_type": "code",
      "source": [
        "cube(2)"
      ],
      "metadata": {
        "colab": {
          "base_uri": "https://localhost:8080/"
        },
        "id": "grJYmp2Yh1Xg",
        "outputId": "0280cb57-f60b-4916-fd60-7e8fc7783e41"
      },
      "execution_count": null,
      "outputs": [
        {
          "output_type": "stream",
          "name": "stdout",
          "text": [
            "number is x: False\n"
          ]
        },
        {
          "output_type": "execute_result",
          "data": {
            "text/plain": [
              "8"
            ]
          },
          "metadata": {},
          "execution_count": 121
        }
      ]
    },
    {
      "cell_type": "code",
      "source": [
        "cube(x)"
      ],
      "metadata": {
        "id": "H3s7Goraq8GF",
        "colab": {
          "base_uri": "https://localhost:8080/"
        },
        "outputId": "5eaed572-8bdf-45b0-f42b-b3ff12fdd174"
      },
      "execution_count": null,
      "outputs": [
        {
          "output_type": "stream",
          "name": "stdout",
          "text": [
            "number is x: True\n"
          ]
        },
        {
          "output_type": "execute_result",
          "data": {
            "text/plain": [
              "343"
            ]
          },
          "metadata": {},
          "execution_count": 122
        }
      ]
    },
    {
      "cell_type": "markdown",
      "source": [
        "##Objetos imutáveis ​​como argumentos"
      ],
      "metadata": {
        "id": "Eqke-l_Jrlfw"
      }
    },
    {
      "cell_type": "code",
      "source": [
        "def cube(number):\n",
        "    print('id(number) before modifying number:', id(number))\n",
        "    number **= 3\n",
        "    print('id(number) after modifying number:', id(number))\n",
        "    return number"
      ],
      "metadata": {
        "id": "V6x0I2HZq-AE"
      },
      "execution_count": null,
      "outputs": []
    },
    {
      "cell_type": "code",
      "source": [
        "cube(x)"
      ],
      "metadata": {
        "id": "fnckQkkfrqX3",
        "colab": {
          "base_uri": "https://localhost:8080/"
        },
        "outputId": "5c01238a-3f5e-4185-9c5c-e92bbc2d9a70"
      },
      "execution_count": null,
      "outputs": [
        {
          "output_type": "stream",
          "name": "stdout",
          "text": [
            "id(number) before modifying number: 11256256\n",
            "id(number) after modifying number: 140124583672080\n"
          ]
        },
        {
          "output_type": "execute_result",
          "data": {
            "text/plain": [
              "343"
            ]
          },
          "metadata": {},
          "execution_count": 125
        }
      ]
    },
    {
      "cell_type": "code",
      "source": [
        "print(f'x = {x}; id(x) = {id(x)}')"
      ],
      "metadata": {
        "id": "iBkV-fkZrr5-",
        "colab": {
          "base_uri": "https://localhost:8080/"
        },
        "outputId": "36d4afe8-94c7-454b-96f7-425c68c52e91"
      },
      "execution_count": null,
      "outputs": [
        {
          "output_type": "stream",
          "name": "stdout",
          "text": [
            "x = 7; id(x) = 11256256\n"
          ]
        }
      ]
    },
    {
      "cell_type": "code",
      "source": [
        "type(id(x))"
      ],
      "metadata": {
        "colab": {
          "base_uri": "https://localhost:8080/"
        },
        "id": "1G2Hb0sbi5Vy",
        "outputId": "e382015c-9e89-41b4-8ea6-a75df55233ed"
      },
      "execution_count": null,
      "outputs": [
        {
          "output_type": "execute_result",
          "data": {
            "text/plain": [
              "int"
            ]
          },
          "metadata": {},
          "execution_count": 127
        }
      ]
    },
    {
      "cell_type": "markdown",
      "source": [
        "#Introdução à ciência de dados: medidas de dispersão"
      ],
      "metadata": {
        "id": "9mGCwzzY1bXt"
      }
    },
    {
      "cell_type": "markdown",
      "source": [
        "Nós consideramos as medidas de tendência central – média, mediana e moda. Isso nos ajuda a categorizar valores típicos em um grupo — como a altura média de seus colegas de classe ou a marca de carro comprada com mais frequência (a moda) em um determinado país."
      ],
      "metadata": {
        "id": "feJDzDSr143A"
      }
    },
    {
      "cell_type": "markdown",
      "source": [
        "Medidas de dispersão (também chamadas de medidas de variabilidade) ajudam a entender como os valores estão espalhados. \n",
        "\n",
        "Por exemplo, em uma classe de alunos, pode haver um grupo de alunos com altura próxima à média, com números menores de alunos consideravelmente mais baixos ou mais altos."
      ],
      "metadata": {
        "id": "0W6vFfGu2WL7"
      }
    },
    {
      "cell_type": "markdown",
      "source": [
        "##Desvio"
      ],
      "metadata": {
        "id": "DYc8qiKU4TAS"
      }
    },
    {
      "cell_type": "markdown",
      "source": [
        "As estimativas de variação mais utilizadas são baseadas nas diferenças, ou desvios, entre a estimativa de localização e os dados observados. \n",
        "\n",
        "Para um conjunto de dados {1, 4, 4}, a média é 3 e a mediana é 4. \n",
        "\n",
        "Os desvios da média são as diferenças: \n",
        "* 1 – 3 = –2 \n",
        "* 4 – 3 = 1\n",
        "* 4 – 3 = 1 \n",
        "\n",
        "Esses desvios nos dizem quão dispersos estão os dados em torno do valor central."
      ],
      "metadata": {
        "id": "wNnMI8O94VX1"
      }
    },
    {
      "cell_type": "markdown",
      "source": [
        "##Variância"
      ],
      "metadata": {
        "id": "UJKE5cLb1fZB"
      }
    },
    {
      "cell_type": "markdown",
      "source": [
        "Vamos usar a seguinte população de 10 rolagens de dados de seis lados:\n",
        "1, 3, 4, 2, 6, 5, 3, 4, 5, 2"
      ],
      "metadata": {
        "id": "ZeVqE0ww27Uw"
      }
    },
    {
      "cell_type": "markdown",
      "source": [
        "Para determinar a variância, começamos calculando a média desses valores: 3,5. \n",
        "\n",
        "Em seguida, subtraímos a média de cada valor do dado (isso produz alguns resultados negativos):\n",
        "\n",
        "-2.5, -0.5, 0.5, -1.5, 2.5, 1.5, -0.5, 0.5, 1.5, -1.5\n",
        "\n",
        "Em seguida, elevamos ao quadrado cada um desses resultados (produzindo apenas positivos):\n",
        "\n",
        "6.25, 0.25, 0.25, 2.25, 6.25, 2.25, 0.25, 0.25, 2.25, 2.25\n",
        "\n",
        "Por fim, calculamos a média desses valores, que é 2,25 (22,5 / 10) – essa é a variância da população."
      ],
      "metadata": {
        "id": "hWhcApJq3BNz"
      }
    },
    {
      "cell_type": "markdown",
      "source": [
        "##A equação da variância"
      ],
      "metadata": {
        "id": "ECWgWo6j5Tgr"
      }
    },
    {
      "cell_type": "markdown",
      "source": [
        "![image.png](data:image/png;base64,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)"
      ],
      "metadata": {
        "id": "nO6_T3EE5RyP"
      }
    },
    {
      "cell_type": "code",
      "source": [
        "import statistics\n",
        "\n",
        "statistics.pvariance([1, 3, 4, 2, 6, 5, 3, 4, 5, 2])"
      ],
      "metadata": {
        "colab": {
          "base_uri": "https://localhost:8080/"
        },
        "id": "aqZUG9obla0l",
        "outputId": "61febff1-a8b3-4455-ef8f-0f53f792f00d"
      },
      "execution_count": null,
      "outputs": [
        {
          "output_type": "execute_result",
          "data": {
            "text/plain": [
              "2.25"
            ]
          },
          "metadata": {},
          "execution_count": 131
        }
      ]
    },
    {
      "cell_type": "markdown",
      "source": [
        "##Desvio Padrão"
      ],
      "metadata": {
        "id": "HJbljdfn1gkV"
      }
    },
    {
      "cell_type": "markdown",
      "source": [
        "O desvio padrão é muito mais fácil de interpretar do que a variância, pois está na mesma escala dos dados originais."
      ],
      "metadata": {
        "id": "bdan8Bsm54Rp"
      }
    },
    {
      "cell_type": "markdown",
      "source": [
        "O desvio padrão é a raiz quadrada da variância (neste caso, 1,5), que atenua o efeito dos valores discrepantes."
      ],
      "metadata": {
        "id": "JIle49Bc7Ege"
      }
    },
    {
      "cell_type": "code",
      "source": [
        "statistics.pstdev([1, 3, 4, 2, 6, 5, 3, 4, 5, 2])"
      ],
      "metadata": {
        "id": "zThh86q_61Fx",
        "colab": {
          "base_uri": "https://localhost:8080/"
        },
        "outputId": "205919d5-cd1a-4b53-dffc-900661bbb73d"
      },
      "execution_count": null,
      "outputs": [
        {
          "output_type": "execute_result",
          "data": {
            "text/plain": [
              "1.5"
            ]
          },
          "metadata": {},
          "execution_count": 130
        }
      ]
    },
    {
      "cell_type": "code",
      "source": [
        "statistics.pvariance([1, 3, 4, 2, 6, 5, 3, 4, 5, 2, 33])"
      ],
      "metadata": {
        "colab": {
          "base_uri": "https://localhost:8080/"
        },
        "id": "d-5ZIzA4mO7t",
        "outputId": "40fa36e1-3231-4a0d-a352-a59dc4310f53"
      },
      "execution_count": null,
      "outputs": [
        {
          "output_type": "execute_result",
          "data": {
            "text/plain": [
              "73.96694214876034"
            ]
          },
          "metadata": {},
          "execution_count": 132
        }
      ]
    },
    {
      "cell_type": "code",
      "source": [
        "statistics.pstdev([1, 3, 4, 2, 6, 5, 3, 4, 5, 2, 33])"
      ],
      "metadata": {
        "colab": {
          "base_uri": "https://localhost:8080/"
        },
        "id": "C77fXDDklg4L",
        "outputId": "e0e68c01-a997-4fe2-d2f9-ec584860299c"
      },
      "execution_count": null,
      "outputs": [
        {
          "output_type": "execute_result",
          "data": {
            "text/plain": [
              "8.600403603829319"
            ]
          },
          "metadata": {},
          "execution_count": 133
        }
      ]
    },
    {
      "cell_type": "markdown",
      "source": [
        "#exemplo de análise"
      ],
      "metadata": {
        "id": "dZnmf12roIwM"
      }
    },
    {
      "cell_type": "markdown",
      "source": [
        "pegar o conjunto de dados \"state.cvs\" https://github.com/gedeck/practical-statistics-for-data-scientists/tree/master/data"
      ],
      "metadata": {
        "id": "76_zBWnn9rN5"
      }
    },
    {
      "cell_type": "code",
      "source": [
        "import pandas as pd\n",
        "estados = pd.read_csv(\"https://raw.githubusercontent.com/gedeck/practical-statistics-for-data-scientists/master/data/state.csv\")"
      ],
      "metadata": {
        "id": "I75KC_xd9nrW"
      },
      "execution_count": null,
      "outputs": []
    },
    {
      "cell_type": "code",
      "source": [
        "estados.head(10)"
      ],
      "metadata": {
        "id": "Fs7GBZPv9tUy",
        "colab": {
          "base_uri": "https://localhost:8080/",
          "height": 363
        },
        "outputId": "c7ddcd10-2e5e-485a-985d-59d425bd4621"
      },
      "execution_count": null,
      "outputs": [
        {
          "output_type": "execute_result",
          "data": {
            "text/plain": [
              "         State  Population  Murder.Rate Abbreviation\n",
              "0      Alabama     4779736          5.7           AL\n",
              "1       Alaska      710231          5.6           AK\n",
              "2      Arizona     6392017          4.7           AZ\n",
              "3     Arkansas     2915918          5.6           AR\n",
              "4   California    37253956          4.4           CA\n",
              "5     Colorado     5029196          2.8           CO\n",
              "6  Connecticut     3574097          2.4           CT\n",
              "7     Delaware      897934          5.8           DE\n",
              "8      Florida    18801310          5.8           FL\n",
              "9      Georgia     9687653          5.7           GA"
            ],
            "text/html": [
              "\n",
              "  <div id=\"df-bc272866-95bc-4a9e-bc2f-2bd9e8989343\">\n",
              "    <div class=\"colab-df-container\">\n",
              "      <div>\n",
              "<style scoped>\n",
              "    .dataframe tbody tr th:only-of-type {\n",
              "        vertical-align: middle;\n",
              "    }\n",
              "\n",
              "    .dataframe tbody tr th {\n",
              "        vertical-align: top;\n",
              "    }\n",
              "\n",
              "    .dataframe thead th {\n",
              "        text-align: right;\n",
              "    }\n",
              "</style>\n",
              "<table border=\"1\" class=\"dataframe\">\n",
              "  <thead>\n",
              "    <tr style=\"text-align: right;\">\n",
              "      <th></th>\n",
              "      <th>State</th>\n",
              "      <th>Population</th>\n",
              "      <th>Murder.Rate</th>\n",
              "      <th>Abbreviation</th>\n",
              "    </tr>\n",
              "  </thead>\n",
              "  <tbody>\n",
              "    <tr>\n",
              "      <th>0</th>\n",
              "      <td>Alabama</td>\n",
              "      <td>4779736</td>\n",
              "      <td>5.7</td>\n",
              "      <td>AL</td>\n",
              "    </tr>\n",
              "    <tr>\n",
              "      <th>1</th>\n",
              "      <td>Alaska</td>\n",
              "      <td>710231</td>\n",
              "      <td>5.6</td>\n",
              "      <td>AK</td>\n",
              "    </tr>\n",
              "    <tr>\n",
              "      <th>2</th>\n",
              "      <td>Arizona</td>\n",
              "      <td>6392017</td>\n",
              "      <td>4.7</td>\n",
              "      <td>AZ</td>\n",
              "    </tr>\n",
              "    <tr>\n",
              "      <th>3</th>\n",
              "      <td>Arkansas</td>\n",
              "      <td>2915918</td>\n",
              "      <td>5.6</td>\n",
              "      <td>AR</td>\n",
              "    </tr>\n",
              "    <tr>\n",
              "      <th>4</th>\n",
              "      <td>California</td>\n",
              "      <td>37253956</td>\n",
              "      <td>4.4</td>\n",
              "      <td>CA</td>\n",
              "    </tr>\n",
              "    <tr>\n",
              "      <th>5</th>\n",
              "      <td>Colorado</td>\n",
              "      <td>5029196</td>\n",
              "      <td>2.8</td>\n",
              "      <td>CO</td>\n",
              "    </tr>\n",
              "    <tr>\n",
              "      <th>6</th>\n",
              "      <td>Connecticut</td>\n",
              "      <td>3574097</td>\n",
              "      <td>2.4</td>\n",
              "      <td>CT</td>\n",
              "    </tr>\n",
              "    <tr>\n",
              "      <th>7</th>\n",
              "      <td>Delaware</td>\n",
              "      <td>897934</td>\n",
              "      <td>5.8</td>\n",
              "      <td>DE</td>\n",
              "    </tr>\n",
              "    <tr>\n",
              "      <th>8</th>\n",
              "      <td>Florida</td>\n",
              "      <td>18801310</td>\n",
              "      <td>5.8</td>\n",
              "      <td>FL</td>\n",
              "    </tr>\n",
              "    <tr>\n",
              "      <th>9</th>\n",
              "      <td>Georgia</td>\n",
              "      <td>9687653</td>\n",
              "      <td>5.7</td>\n",
              "      <td>GA</td>\n",
              "    </tr>\n",
              "  </tbody>\n",
              "</table>\n",
              "</div>\n",
              "      <button class=\"colab-df-convert\" onclick=\"convertToInteractive('df-bc272866-95bc-4a9e-bc2f-2bd9e8989343')\"\n",
              "              title=\"Convert this dataframe to an interactive table.\"\n",
              "              style=\"display:none;\">\n",
              "        \n",
              "  <svg xmlns=\"http://www.w3.org/2000/svg\" height=\"24px\"viewBox=\"0 0 24 24\"\n",
              "       width=\"24px\">\n",
              "    <path d=\"M0 0h24v24H0V0z\" fill=\"none\"/>\n",
              "    <path d=\"M18.56 5.44l.94 2.06.94-2.06 2.06-.94-2.06-.94-.94-2.06-.94 2.06-2.06.94zm-11 1L8.5 8.5l.94-2.06 2.06-.94-2.06-.94L8.5 2.5l-.94 2.06-2.06.94zm10 10l.94 2.06.94-2.06 2.06-.94-2.06-.94-.94-2.06-.94 2.06-2.06.94z\"/><path d=\"M17.41 7.96l-1.37-1.37c-.4-.4-.92-.59-1.43-.59-.52 0-1.04.2-1.43.59L10.3 9.45l-7.72 7.72c-.78.78-.78 2.05 0 2.83L4 21.41c.39.39.9.59 1.41.59.51 0 1.02-.2 1.41-.59l7.78-7.78 2.81-2.81c.8-.78.8-2.07 0-2.86zM5.41 20L4 18.59l7.72-7.72 1.47 1.35L5.41 20z\"/>\n",
              "  </svg>\n",
              "      </button>\n",
              "      \n",
              "  <style>\n",
              "    .colab-df-container {\n",
              "      display:flex;\n",
              "      flex-wrap:wrap;\n",
              "      gap: 12px;\n",
              "    }\n",
              "\n",
              "    .colab-df-convert {\n",
              "      background-color: #E8F0FE;\n",
              "      border: none;\n",
              "      border-radius: 50%;\n",
              "      cursor: pointer;\n",
              "      display: none;\n",
              "      fill: #1967D2;\n",
              "      height: 32px;\n",
              "      padding: 0 0 0 0;\n",
              "      width: 32px;\n",
              "    }\n",
              "\n",
              "    .colab-df-convert:hover {\n",
              "      background-color: #E2EBFA;\n",
              "      box-shadow: 0px 1px 2px rgba(60, 64, 67, 0.3), 0px 1px 3px 1px rgba(60, 64, 67, 0.15);\n",
              "      fill: #174EA6;\n",
              "    }\n",
              "\n",
              "    [theme=dark] .colab-df-convert {\n",
              "      background-color: #3B4455;\n",
              "      fill: #D2E3FC;\n",
              "    }\n",
              "\n",
              "    [theme=dark] .colab-df-convert:hover {\n",
              "      background-color: #434B5C;\n",
              "      box-shadow: 0px 1px 3px 1px rgba(0, 0, 0, 0.15);\n",
              "      filter: drop-shadow(0px 1px 2px rgba(0, 0, 0, 0.3));\n",
              "      fill: #FFFFFF;\n",
              "    }\n",
              "  </style>\n",
              "\n",
              "      <script>\n",
              "        const buttonEl =\n",
              "          document.querySelector('#df-bc272866-95bc-4a9e-bc2f-2bd9e8989343 button.colab-df-convert');\n",
              "        buttonEl.style.display =\n",
              "          google.colab.kernel.accessAllowed ? 'block' : 'none';\n",
              "\n",
              "        async function convertToInteractive(key) {\n",
              "          const element = document.querySelector('#df-bc272866-95bc-4a9e-bc2f-2bd9e8989343');\n",
              "          const dataTable =\n",
              "            await google.colab.kernel.invokeFunction('convertToInteractive',\n",
              "                                                     [key], {});\n",
              "          if (!dataTable) return;\n",
              "\n",
              "          const docLinkHtml = 'Like what you see? Visit the ' +\n",
              "            '<a target=\"_blank\" href=https://colab.research.google.com/notebooks/data_table.ipynb>data table notebook</a>'\n",
              "            + ' to learn more about interactive tables.';\n",
              "          element.innerHTML = '';\n",
              "          dataTable['output_type'] = 'display_data';\n",
              "          await google.colab.output.renderOutput(dataTable, element);\n",
              "          const docLink = document.createElement('div');\n",
              "          docLink.innerHTML = docLinkHtml;\n",
              "          element.appendChild(docLink);\n",
              "        }\n",
              "      </script>\n",
              "    </div>\n",
              "  </div>\n",
              "  "
            ]
          },
          "metadata": {},
          "execution_count": 135
        }
      ]
    },
    {
      "cell_type": "code",
      "source": [
        "estados[\"Population\"].mean()"
      ],
      "metadata": {
        "colab": {
          "base_uri": "https://localhost:8080/"
        },
        "id": "W9b805cCmr2-",
        "outputId": "ff841d45-3489-489d-85df-a7accaba721d"
      },
      "execution_count": null,
      "outputs": [
        {
          "output_type": "execute_result",
          "data": {
            "text/plain": [
              "6162876.3"
            ]
          },
          "metadata": {},
          "execution_count": 137
        }
      ]
    },
    {
      "cell_type": "code",
      "source": [
        "estados[\"Population\"].std()"
      ],
      "metadata": {
        "colab": {
          "base_uri": "https://localhost:8080/"
        },
        "id": "IpWTl7sLmuKj",
        "outputId": "1f1abe4e-c600-470a-fcea-a89f31810833"
      },
      "execution_count": null,
      "outputs": [
        {
          "output_type": "execute_result",
          "data": {
            "text/plain": [
              "6848235.347401142"
            ]
          },
          "metadata": {},
          "execution_count": 138
        }
      ]
    },
    {
      "cell_type": "code",
      "source": [
        "estados[\"Murder.Rate\"].mean()"
      ],
      "metadata": {
        "colab": {
          "base_uri": "https://localhost:8080/"
        },
        "id": "itYd4ErIm9QK",
        "outputId": "a5ec6940-fe19-4f55-89b6-71f8ab7df2ac"
      },
      "execution_count": null,
      "outputs": [
        {
          "output_type": "execute_result",
          "data": {
            "text/plain": [
              "4.066"
            ]
          },
          "metadata": {},
          "execution_count": 139
        }
      ]
    },
    {
      "cell_type": "code",
      "source": [
        "estados[\"Murder.Rate\"].median()"
      ],
      "metadata": {
        "id": "QEjkYMqhpku2",
        "outputId": "69374e3a-e78a-4692-ad3c-8eb6f2164a01",
        "colab": {
          "base_uri": "https://localhost:8080/"
        }
      },
      "execution_count": null,
      "outputs": [
        {
          "output_type": "execute_result",
          "data": {
            "text/plain": [
              "4.0"
            ]
          },
          "metadata": {},
          "execution_count": 142
        }
      ]
    },
    {
      "cell_type": "code",
      "source": [
        "estados[\"Murder.Rate\"].std()"
      ],
      "metadata": {
        "colab": {
          "base_uri": "https://localhost:8080/"
        },
        "id": "BkOLp19cnBk0",
        "outputId": "6831de49-bc3c-4089-89f4-09791e39d142"
      },
      "execution_count": null,
      "outputs": [
        {
          "output_type": "execute_result",
          "data": {
            "text/plain": [
              "1.9157361243029227"
            ]
          },
          "metadata": {},
          "execution_count": 140
        }
      ]
    },
    {
      "cell_type": "code",
      "source": [
        "estados[\"Murder.Rate\"].max()"
      ],
      "metadata": {
        "colab": {
          "base_uri": "https://localhost:8080/"
        },
        "id": "qbNapJq6nJZz",
        "outputId": "0c0131f1-9b51-44f4-a746-dbae14c09bbc"
      },
      "execution_count": null,
      "outputs": [
        {
          "output_type": "execute_result",
          "data": {
            "text/plain": [
              "10.3"
            ]
          },
          "metadata": {},
          "execution_count": 141
        }
      ]
    },
    {
      "cell_type": "markdown",
      "source": [
        "## Experimentando outro conjunto de dados"
      ],
      "metadata": {
        "id": "9NZkB6kB-Tta"
      }
    },
    {
      "cell_type": "markdown",
      "source": [
        "Import o conjunto de dados com o código a seguir\n",
        "\n",
        "```\n",
        "import pandas as pd\n",
        "casas = pd.read_csv(\"https://raw.githubusercontent.com/ageron/handson-ml2/master/datasets/housing/housing.csv\")\n",
        "casas.head()\n",
        "```\n",
        "\n",
        "\n",
        "\n",
        "Este conjunto de dados apareceu em um artigo de 1997 intitulado Sparse Spatial Autoregressions por Pace, R. Kelley e Ronald Barry, publicado na revista Statistics and Probability Letters. Eles o construíram usando os dados do censo da Califórnia de 1990. Ele contém uma linha por grupo de quarteirões do censo. Um grupo de quarteirões é a menor unidade geográfica para a qual o U.S. Census Bureau publica dados de amostra (um grupo de quarteirões normalmente tem uma população de 600 a 3.000 pessoas). \n",
        "\n",
        "Usando o exemplo que apresentamos anteriormente, calcule a média, a mediana e o desvio padrão do median_house_value e do median_income"
      ],
      "metadata": {
        "id": "G0602GMMUlEF"
      }
    }
  ]
}