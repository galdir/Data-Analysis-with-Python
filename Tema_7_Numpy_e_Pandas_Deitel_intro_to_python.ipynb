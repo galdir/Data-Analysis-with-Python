{
  "nbformat": 4,
  "nbformat_minor": 0,
  "metadata": {
    "colab": {
      "provenance": [],
      "toc_visible": true,
      "authorship_tag": "ABX9TyNXUWzEtSXWex6o0b7IVdbl",
      "include_colab_link": true
    },
    "kernelspec": {
      "name": "python3",
      "display_name": "Python 3"
    },
    "language_info": {
      "name": "python"
    }
  },
  "cells": [
    {
      "cell_type": "markdown",
      "metadata": {
        "id": "view-in-github",
        "colab_type": "text"
      },
      "source": [
        "<a href=\"https://colab.research.google.com/github/galdir/Data-Analysis-with-Python/blob/main/Tema_7_Numpy_e_Pandas_Deitel_intro_to_python.ipynb\" target=\"_parent\"><img src=\"https://colab.research.google.com/assets/colab-badge.svg\" alt=\"Open In Colab\"/></a>"
      ]
    },
    {
      "cell_type": "markdown",
      "source": [
        "# 1 Numpy"
      ],
      "metadata": {
        "id": "NgwzmBrBwdgo"
      }
    },
    {
      "cell_type": "markdown",
      "source": [
        "NumPy é abreviação de Numerical Python"
      ],
      "metadata": {
        "id": "xnfBzyq37UZ1"
      }
    },
    {
      "cell_type": "markdown",
      "source": [
        "Aqui estão algumas das coisas que você encontrará no NumPy:\n",
        "\n",
        "* ndarray, um array multidimensional eficiente que fornece operações aritméticas rápidas orientadas ao array e recursos de transmissão flexíveis\n",
        "\n",
        "* Funções matemáticas para operações rápidas em arrays inteiros de dados sem ter que escrever loops\n",
        "\n",
        "* Ferramentas para ler/gravar dados de array em disco e trabalhar com arquivos mapeados em memória\n",
        "\n",
        "* Recursos de álgebra linear, geração de números aleatórios e transformada de Fourier\n",
        "\n",
        "* Uma API C para conectar o NumPy com bibliotecas escritas em C, C++ ou FORTRAN"
      ],
      "metadata": {
        "id": "JTF0wzeb7ZkN"
      }
    },
    {
      "cell_type": "markdown",
      "source": [
        "Embora o NumPy por si só não forneça funcionalidade de modelagem científica, ter uma compreensão dos arrays NumPy e da computação orientada a array ajudará você a usar ferramentas com semântica de computação de array, como pandas, com muito mais eficiência. \n",
        "\n",
        "Como o NumPy é um tópico grande, abordaremos só recursos mais necessários"
      ],
      "metadata": {
        "id": "hF5ak-Bj8MKy"
      }
    },
    {
      "cell_type": "markdown",
      "source": [
        "Uma das razões pelas quais o NumPy é tão importante para cálculos numéricos em Python é porque ele foi projetado para eficiência em grandes matrizes de dados."
      ],
      "metadata": {
        "id": "DP5I2WBp8gC6"
      }
    },
    {
      "cell_type": "markdown",
      "metadata": {
        "id": "hpWXcfJeNQSj"
      },
      "source": [
        "# 2 Criando `arrays` a partir de dados existentes"
      ]
    },
    {
      "cell_type": "code",
      "execution_count": null,
      "metadata": {
        "id": "lAzpBCKqNQSl"
      },
      "outputs": [],
      "source": [
        "import numpy as np"
      ]
    },
    {
      "cell_type": "code",
      "execution_count": null,
      "metadata": {
        "id": "d7k77sWFNQSm"
      },
      "outputs": [],
      "source": [
        "numbers = np.array([2, 3, 5, 7, 11])"
      ]
    },
    {
      "cell_type": "code",
      "source": [
        "type(numbers)"
      ],
      "metadata": {
        "colab": {
          "base_uri": "https://localhost:8080/"
        },
        "id": "NKXiJ1YaxXnz",
        "outputId": "f807f264-bd81-43ad-dcb0-9eeab3159597"
      },
      "execution_count": null,
      "outputs": [
        {
          "output_type": "execute_result",
          "data": {
            "text/plain": [
              "numpy.ndarray"
            ]
          },
          "metadata": {},
          "execution_count": 4
        }
      ]
    },
    {
      "cell_type": "code",
      "source": [
        "numbers"
      ],
      "metadata": {
        "colab": {
          "base_uri": "https://localhost:8080/"
        },
        "id": "VXgwYVZLxZZ8",
        "outputId": "8f340dc6-076e-4722-f348-db950e828523"
      },
      "execution_count": null,
      "outputs": [
        {
          "output_type": "execute_result",
          "data": {
            "text/plain": [
              "array([ 2,  3,  5,  7, 11])"
            ]
          },
          "metadata": {},
          "execution_count": 5
        }
      ]
    },
    {
      "cell_type": "markdown",
      "metadata": {
        "id": "hDOSu_wHNQSn"
      },
      "source": [
        "### Argumentos Multidimensionais"
      ]
    },
    {
      "cell_type": "code",
      "execution_count": null,
      "metadata": {
        "colab": {
          "base_uri": "https://localhost:8080/"
        },
        "id": "VFa-J2qQNQSo",
        "outputId": "b6cea496-dacf-490e-aa33-f5010c6e7191"
      },
      "outputs": [
        {
          "output_type": "execute_result",
          "data": {
            "text/plain": [
              "array([[1, 2, 3],\n",
              "       [4, 5, 6]])"
            ]
          },
          "metadata": {},
          "execution_count": 6
        }
      ],
      "source": [
        "np.array([[1, 2, 3], [4, 5, 6]])"
      ]
    },
    {
      "cell_type": "markdown",
      "metadata": {
        "id": "bK31MA4INQSp"
      },
      "source": [
        "## Atividade"
      ]
    },
    {
      "cell_type": "markdown",
      "metadata": {
        "id": "EIuiylxgNQSp"
      },
      "source": [
        "### Crie um `array` unidimensional a partir de uma compreensão de lista que produz os inteiros pares de 2 a 20.\n",
        "\n"
      ]
    },
    {
      "cell_type": "markdown",
      "source": [
        "Resposta:"
      ],
      "metadata": {
        "id": "j8rkVGz0CdfQ"
      }
    },
    {
      "cell_type": "code",
      "source": [
        "import numpy as np\n",
        "\n",
        "np.array([x for x in range(2, 21, 2)])"
      ],
      "metadata": {
        "colab": {
          "base_uri": "https://localhost:8080/"
        },
        "id": "Vu0TqQz4xZzM",
        "outputId": "6db99a78-16a2-402a-b174-fb9cc8f284f4"
      },
      "execution_count": null,
      "outputs": [
        {
          "output_type": "execute_result",
          "data": {
            "text/plain": [
              "array([ 2,  4,  6,  8, 10, 12, 14, 16, 18, 20])"
            ]
          },
          "metadata": {},
          "execution_count": 7
        }
      ]
    },
    {
      "cell_type": "markdown",
      "metadata": {
        "id": "rqSgs9M1NQSq"
      },
      "source": [
        "### Crie um `array` de 2 por 5 contendo os inteiros pares de 2 a 10 na primeira linha e os inteiros ímpares de 1 a 9 na segunda linha.\n"
      ]
    },
    {
      "cell_type": "markdown",
      "source": [
        "Resposta"
      ],
      "metadata": {
        "id": "eXdpbEOBClhu"
      }
    },
    {
      "cell_type": "code",
      "source": [
        "np.array([[x for x in range(2, 11, 2)],[x for x in range(1, 10, 2)]])"
      ],
      "metadata": {
        "id": "cqP8K98wx80V",
        "colab": {
          "base_uri": "https://localhost:8080/"
        },
        "outputId": "fb2cc24b-78b4-4128-d255-c12838db378a"
      },
      "execution_count": null,
      "outputs": [
        {
          "output_type": "execute_result",
          "data": {
            "text/plain": [
              "array([[ 2,  4,  6,  8, 10],\n",
              "       [ 1,  3,  5,  7,  9]])"
            ]
          },
          "metadata": {},
          "execution_count": 8
        }
      ]
    },
    {
      "cell_type": "markdown",
      "metadata": {
        "id": "3MukDDJoNQSr"
      },
      "source": [
        "# 3 Attributos de `array`  "
      ]
    },
    {
      "cell_type": "markdown",
      "source": [
        "Vamos usar uns arrays de teste"
      ],
      "metadata": {
        "id": "cDiOLPtGDA01"
      }
    },
    {
      "cell_type": "code",
      "execution_count": null,
      "metadata": {
        "id": "E6RXp3fgNQSr"
      },
      "outputs": [],
      "source": [
        "import numpy as np"
      ]
    },
    {
      "cell_type": "code",
      "execution_count": null,
      "metadata": {
        "id": "jEURN4utNQSr"
      },
      "outputs": [],
      "source": [
        "integers = np.array([[1, 2, 3], [4, 5, 6]])"
      ]
    },
    {
      "cell_type": "code",
      "source": [
        "integers"
      ],
      "metadata": {
        "colab": {
          "base_uri": "https://localhost:8080/"
        },
        "id": "LdoTZbsKyFky",
        "outputId": "9a0c70dc-2bb6-421c-9be8-7f5445ea4e9a"
      },
      "execution_count": null,
      "outputs": [
        {
          "output_type": "execute_result",
          "data": {
            "text/plain": [
              "array([[1, 2, 3],\n",
              "       [4, 5, 6]])"
            ]
          },
          "metadata": {},
          "execution_count": 11
        }
      ]
    },
    {
      "cell_type": "code",
      "execution_count": null,
      "metadata": {
        "id": "z3a_gdwMNQSs"
      },
      "outputs": [],
      "source": [
        "floats = np.array([0.0, 0.1, 0.2, 0.3, 0.4])"
      ]
    },
    {
      "cell_type": "code",
      "execution_count": null,
      "metadata": {
        "id": "ibo5Vq5VNQSs",
        "colab": {
          "base_uri": "https://localhost:8080/"
        },
        "outputId": "5256d7d8-ace7-4360-ee9b-346305f943d0"
      },
      "outputs": [
        {
          "output_type": "execute_result",
          "data": {
            "text/plain": [
              "array([0. , 0.1, 0.2, 0.3, 0.4])"
            ]
          },
          "metadata": {},
          "execution_count": 13
        }
      ],
      "source": [
        "floats"
      ]
    },
    {
      "cell_type": "code",
      "source": [
        "integers.dtype"
      ],
      "metadata": {
        "colab": {
          "base_uri": "https://localhost:8080/"
        },
        "id": "DAs_NcbLyNnE",
        "outputId": "dca15c26-0722-4a53-913f-0498b216dcaa"
      },
      "execution_count": null,
      "outputs": [
        {
          "output_type": "execute_result",
          "data": {
            "text/plain": [
              "dtype('int64')"
            ]
          },
          "metadata": {},
          "execution_count": 14
        }
      ]
    },
    {
      "cell_type": "code",
      "source": [
        "floats.dtype"
      ],
      "metadata": {
        "colab": {
          "base_uri": "https://localhost:8080/"
        },
        "id": "ZcivyW7xyPnF",
        "outputId": "c32c3925-4b4a-4a52-a1db-eeffa7383a7e"
      },
      "execution_count": null,
      "outputs": [
        {
          "output_type": "execute_result",
          "data": {
            "text/plain": [
              "dtype('float64')"
            ]
          },
          "metadata": {},
          "execution_count": 15
        }
      ]
    },
    {
      "cell_type": "markdown",
      "metadata": {
        "id": "xjR2u38RNQSt"
      },
      "source": [
        "### Determinando as dimensões de um `array`"
      ]
    },
    {
      "cell_type": "code",
      "execution_count": null,
      "metadata": {
        "id": "YOQF7skDNQSt",
        "colab": {
          "base_uri": "https://localhost:8080/"
        },
        "outputId": "53b0d0a0-f36e-4209-a2f4-831fb688bc97"
      },
      "outputs": [
        {
          "output_type": "execute_result",
          "data": {
            "text/plain": [
              "2"
            ]
          },
          "metadata": {},
          "execution_count": 16
        }
      ],
      "source": [
        "integers.ndim"
      ]
    },
    {
      "cell_type": "code",
      "source": [
        "floats.ndim"
      ],
      "metadata": {
        "colab": {
          "base_uri": "https://localhost:8080/"
        },
        "id": "x9_xkw4zyctu",
        "outputId": "4ca285c4-616f-448c-e42b-49d9899a817f"
      },
      "execution_count": null,
      "outputs": [
        {
          "output_type": "execute_result",
          "data": {
            "text/plain": [
              "1"
            ]
          },
          "metadata": {},
          "execution_count": 17
        }
      ]
    },
    {
      "cell_type": "code",
      "source": [
        "integers.shape"
      ],
      "metadata": {
        "colab": {
          "base_uri": "https://localhost:8080/"
        },
        "id": "Npl828qRyexU",
        "outputId": "223c25e3-61ad-4a81-a2ba-b7aa46f441cc"
      },
      "execution_count": null,
      "outputs": [
        {
          "output_type": "execute_result",
          "data": {
            "text/plain": [
              "(2, 3)"
            ]
          },
          "metadata": {},
          "execution_count": 18
        }
      ]
    },
    {
      "cell_type": "code",
      "source": [
        "floats.shape"
      ],
      "metadata": {
        "colab": {
          "base_uri": "https://localhost:8080/"
        },
        "id": "3t6wmPxqyiKU",
        "outputId": "8e836cd5-0975-4310-d694-4957f1d1aa0b"
      },
      "execution_count": null,
      "outputs": [
        {
          "output_type": "execute_result",
          "data": {
            "text/plain": [
              "(5,)"
            ]
          },
          "metadata": {},
          "execution_count": 19
        }
      ]
    },
    {
      "cell_type": "code",
      "source": [],
      "metadata": {
        "id": "fasy16WQynmr"
      },
      "execution_count": null,
      "outputs": []
    },
    {
      "cell_type": "markdown",
      "metadata": {
        "id": "aflNftneNQSu"
      },
      "source": [
        "### Determinando o número de elementos e o tamanho em bytes do elemento de um `array` "
      ]
    },
    {
      "cell_type": "code",
      "execution_count": null,
      "metadata": {
        "id": "TsHlruPcNQSu",
        "colab": {
          "base_uri": "https://localhost:8080/"
        },
        "outputId": "8af85490-ee34-460c-d9e8-b1f6072c3e45"
      },
      "outputs": [
        {
          "output_type": "execute_result",
          "data": {
            "text/plain": [
              "6"
            ]
          },
          "metadata": {},
          "execution_count": 20
        }
      ],
      "source": [
        "integers.size"
      ]
    },
    {
      "cell_type": "code",
      "source": [
        "integers.itemsize"
      ],
      "metadata": {
        "colab": {
          "base_uri": "https://localhost:8080/"
        },
        "id": "R_8yh18ty0Z5",
        "outputId": "c962d38b-5a58-4a38-92cd-3b7691829bc2"
      },
      "execution_count": null,
      "outputs": [
        {
          "output_type": "execute_result",
          "data": {
            "text/plain": [
              "8"
            ]
          },
          "metadata": {},
          "execution_count": 21
        }
      ]
    },
    {
      "cell_type": "code",
      "source": [
        "floats.size"
      ],
      "metadata": {
        "colab": {
          "base_uri": "https://localhost:8080/"
        },
        "id": "qbzGWEzZy5S3",
        "outputId": "2fbb6a32-ed8d-4fae-e243-00a20d1267d1"
      },
      "execution_count": null,
      "outputs": [
        {
          "output_type": "execute_result",
          "data": {
            "text/plain": [
              "5"
            ]
          },
          "metadata": {},
          "execution_count": 22
        }
      ]
    },
    {
      "cell_type": "code",
      "source": [
        "floats.itemsize"
      ],
      "metadata": {
        "colab": {
          "base_uri": "https://localhost:8080/"
        },
        "id": "9APBxrnuy7UT",
        "outputId": "0c5777e0-2f42-4c0e-ebc6-72a3b8797a8e"
      },
      "execution_count": null,
      "outputs": [
        {
          "output_type": "execute_result",
          "data": {
            "text/plain": [
              "8"
            ]
          },
          "metadata": {},
          "execution_count": 23
        }
      ]
    },
    {
      "cell_type": "markdown",
      "metadata": {
        "id": "OimMv-ehNQSv"
      },
      "source": [
        "### Iterando através dos elementos de um `array` multidimensional"
      ]
    },
    {
      "cell_type": "code",
      "execution_count": null,
      "metadata": {
        "id": "WyssN5ksNQSw",
        "colab": {
          "base_uri": "https://localhost:8080/"
        },
        "outputId": "93ff7482-235f-44a8-e5fd-b5a99288e19c"
      },
      "outputs": [
        {
          "output_type": "stream",
          "name": "stdout",
          "text": [
            "1  2  3  \n",
            "4  5  6  \n"
          ]
        }
      ],
      "source": [
        "for linha in integers:\n",
        "    for valores in linha:\n",
        "        print(valores, end='  ')\n",
        "    print('') "
      ]
    },
    {
      "cell_type": "code",
      "source": [
        "for i in integers.flat:\n",
        "  print(i, end=' ')"
      ],
      "metadata": {
        "colab": {
          "base_uri": "https://localhost:8080/"
        },
        "id": "BMfcrtbezGRv",
        "outputId": "e77081c6-cfff-4b33-f6ee-5b149ad6d6eb"
      },
      "execution_count": null,
      "outputs": [
        {
          "output_type": "stream",
          "name": "stdout",
          "text": [
            "1 2 3 4 5 6 "
          ]
        }
      ]
    },
    {
      "cell_type": "code",
      "source": [],
      "metadata": {
        "id": "7YUvy8N_zQWT"
      },
      "execution_count": null,
      "outputs": []
    },
    {
      "cell_type": "markdown",
      "metadata": {
        "id": "K205cfo1NQSw"
      },
      "source": [
        "## Atividade"
      ]
    },
    {
      "cell_type": "markdown",
      "metadata": {
        "id": "FkKrn49RNQSx"
      },
      "source": [
        "Para a matriz bidimensional abaixo:\n",
        "* [[2, 4, 6, 8, 10], [1, 3, 5, 7, 9]]\n",
        " \n",
        "exiba o número de dimensões e a forma da matriz."
      ]
    },
    {
      "cell_type": "code",
      "source": [
        "a = np.array([[2, 4, 6, 8, 10], [1, 3, 5, 7, 9]]) "
      ],
      "metadata": {
        "id": "-vBmqI3HzTl4"
      },
      "execution_count": null,
      "outputs": []
    },
    {
      "cell_type": "code",
      "source": [
        "a.ndim"
      ],
      "metadata": {
        "colab": {
          "base_uri": "https://localhost:8080/"
        },
        "id": "Nh_rKNsV0KFE",
        "outputId": "c1d78537-0a2b-4e6a-fdee-81bdb3d3a9a1"
      },
      "execution_count": null,
      "outputs": [
        {
          "output_type": "execute_result",
          "data": {
            "text/plain": [
              "2"
            ]
          },
          "metadata": {},
          "execution_count": 26
        }
      ]
    },
    {
      "cell_type": "code",
      "source": [
        "a.shape"
      ],
      "metadata": {
        "colab": {
          "base_uri": "https://localhost:8080/"
        },
        "id": "8DvOvOFw0Mwb",
        "outputId": "c42b1f86-9c39-4a62-d859-0a22d63a3aec"
      },
      "execution_count": null,
      "outputs": [
        {
          "output_type": "execute_result",
          "data": {
            "text/plain": [
              "(2, 5)"
            ]
          },
          "metadata": {},
          "execution_count": 30
        }
      ]
    },
    {
      "cell_type": "code",
      "source": [],
      "metadata": {
        "id": "XX_DduY_0OAN"
      },
      "execution_count": null,
      "outputs": []
    },
    {
      "cell_type": "markdown",
      "metadata": {
        "id": "HGklwq1ONQSy"
      },
      "source": [
        "# 4 Preenchendo `array`s com valores específicos"
      ]
    },
    {
      "cell_type": "code",
      "execution_count": null,
      "metadata": {
        "id": "iaj-alikNQSy"
      },
      "outputs": [],
      "source": [
        "import numpy as np"
      ]
    },
    {
      "cell_type": "code",
      "source": [
        "np.zeros(5)"
      ],
      "metadata": {
        "colab": {
          "base_uri": "https://localhost:8080/"
        },
        "id": "A8u0GQPs0SQA",
        "outputId": "fbabc8f8-a0e6-4e86-fd0d-140772bade92"
      },
      "execution_count": null,
      "outputs": [
        {
          "output_type": "execute_result",
          "data": {
            "text/plain": [
              "array([0., 0., 0., 0., 0.])"
            ]
          },
          "metadata": {},
          "execution_count": 32
        }
      ]
    },
    {
      "cell_type": "code",
      "source": [
        "np.zeros((5,2))"
      ],
      "metadata": {
        "colab": {
          "base_uri": "https://localhost:8080/"
        },
        "id": "tdKRtaVl0ZKL",
        "outputId": "3875fe71-ed11-4697-af83-a9aa4016c920"
      },
      "execution_count": null,
      "outputs": [
        {
          "output_type": "execute_result",
          "data": {
            "text/plain": [
              "array([[0., 0.],\n",
              "       [0., 0.],\n",
              "       [0., 0.],\n",
              "       [0., 0.],\n",
              "       [0., 0.]])"
            ]
          },
          "metadata": {},
          "execution_count": 33
        }
      ]
    },
    {
      "cell_type": "code",
      "source": [
        "np.ones((2,4), dtype=int)"
      ],
      "metadata": {
        "colab": {
          "base_uri": "https://localhost:8080/"
        },
        "id": "kwSXbCd80bgL",
        "outputId": "fc58e6f6-a84b-4b10-a2ea-7f54c7b93a14"
      },
      "execution_count": null,
      "outputs": [
        {
          "output_type": "execute_result",
          "data": {
            "text/plain": [
              "array([[1, 1, 1, 1],\n",
              "       [1, 1, 1, 1]])"
            ]
          },
          "metadata": {},
          "execution_count": 34
        }
      ]
    },
    {
      "cell_type": "code",
      "source": [
        "np.full((2, 3), 7)"
      ],
      "metadata": {
        "colab": {
          "base_uri": "https://localhost:8080/"
        },
        "id": "0qVB9mdp0lgn",
        "outputId": "2e2baaaf-df41-4c81-ac9e-8bcfd81d3671"
      },
      "execution_count": null,
      "outputs": [
        {
          "output_type": "execute_result",
          "data": {
            "text/plain": [
              "array([[7, 7, 7],\n",
              "       [7, 7, 7]])"
            ]
          },
          "metadata": {},
          "execution_count": 35
        }
      ]
    },
    {
      "cell_type": "code",
      "source": [],
      "metadata": {
        "id": "CZ6HXRir0wuT"
      },
      "execution_count": null,
      "outputs": []
    },
    {
      "cell_type": "markdown",
      "metadata": {
        "id": "ZmMqfiaTNQSz"
      },
      "source": [
        "# 5 Criando `array`s a partir de intervalos"
      ]
    },
    {
      "cell_type": "markdown",
      "metadata": {
        "id": "5LjxKc7YNQS0"
      },
      "source": [
        "### Criando intervalos inteiros com `arange`"
      ]
    },
    {
      "cell_type": "code",
      "execution_count": null,
      "metadata": {
        "id": "-2Qs17ryNQS0"
      },
      "outputs": [],
      "source": [
        "import numpy as np"
      ]
    },
    {
      "cell_type": "code",
      "execution_count": null,
      "metadata": {
        "id": "y-IHJg4_NQS0",
        "colab": {
          "base_uri": "https://localhost:8080/"
        },
        "outputId": "7eacef03-b6e9-49f4-d313-241220331617"
      },
      "outputs": [
        {
          "output_type": "execute_result",
          "data": {
            "text/plain": [
              "array([0, 1, 2, 3, 4])"
            ]
          },
          "metadata": {},
          "execution_count": 37
        }
      ],
      "source": [
        "np.arange(5)"
      ]
    },
    {
      "cell_type": "code",
      "source": [
        "np.arange(5, 10)"
      ],
      "metadata": {
        "colab": {
          "base_uri": "https://localhost:8080/"
        },
        "id": "YL62ttTj06nY",
        "outputId": "f6437d83-1da0-4d29-eef5-7c80cde85c9a"
      },
      "execution_count": null,
      "outputs": [
        {
          "output_type": "execute_result",
          "data": {
            "text/plain": [
              "array([5, 6, 7, 8, 9])"
            ]
          },
          "metadata": {},
          "execution_count": 38
        }
      ]
    },
    {
      "cell_type": "code",
      "source": [
        "np.arange(10, 1, -2)"
      ],
      "metadata": {
        "colab": {
          "base_uri": "https://localhost:8080/"
        },
        "id": "0xTfJJQe08sA",
        "outputId": "1a76c1df-79db-460a-d719-1f196785d53f"
      },
      "execution_count": null,
      "outputs": [
        {
          "output_type": "execute_result",
          "data": {
            "text/plain": [
              "array([10,  8,  6,  4,  2])"
            ]
          },
          "metadata": {},
          "execution_count": 39
        }
      ]
    },
    {
      "cell_type": "markdown",
      "source": [
        "### Criando intervalos de ponto flutuante com `linspace`"
      ],
      "metadata": {
        "id": "ldsKbYjR1EtO"
      }
    },
    {
      "cell_type": "code",
      "source": [
        "np.linspace(0.0, 1.0, num=5)"
      ],
      "metadata": {
        "colab": {
          "base_uri": "https://localhost:8080/"
        },
        "id": "LgixmS5a1EAj",
        "outputId": "6be69f84-9c09-41c2-d230-5a8c68cc1d7c"
      },
      "execution_count": null,
      "outputs": [
        {
          "output_type": "execute_result",
          "data": {
            "text/plain": [
              "array([0.  , 0.25, 0.5 , 0.75, 1.  ])"
            ]
          },
          "metadata": {},
          "execution_count": 40
        }
      ]
    },
    {
      "cell_type": "code",
      "source": [
        "np.linspace(0.0, 10, num=5)"
      ],
      "metadata": {
        "colab": {
          "base_uri": "https://localhost:8080/"
        },
        "id": "cWUi_JsD1S6F",
        "outputId": "a98345aa-8886-4685-b909-042f58cc5e41"
      },
      "execution_count": null,
      "outputs": [
        {
          "output_type": "execute_result",
          "data": {
            "text/plain": [
              "array([ 0. ,  2.5,  5. ,  7.5, 10. ])"
            ]
          },
          "metadata": {},
          "execution_count": 41
        }
      ]
    },
    {
      "cell_type": "markdown",
      "metadata": {
        "id": "-3ZhC4gyNQS1"
      },
      "source": [
        "### Remodelando um `array`"
      ]
    },
    {
      "cell_type": "code",
      "source": [
        "numeros = np.arange(1, 21)"
      ],
      "metadata": {
        "id": "AgL51-ahhG-w"
      },
      "execution_count": null,
      "outputs": []
    },
    {
      "cell_type": "code",
      "source": [
        "numeros"
      ],
      "metadata": {
        "colab": {
          "base_uri": "https://localhost:8080/"
        },
        "id": "XgdZ5JTchJFF",
        "outputId": "131b5cd6-d7aa-4d11-eac0-04ff0362220c"
      },
      "execution_count": null,
      "outputs": [
        {
          "output_type": "execute_result",
          "data": {
            "text/plain": [
              "array([ 1,  2,  3,  4,  5,  6,  7,  8,  9, 10, 11, 12, 13, 14, 15, 16, 17,\n",
              "       18, 19, 20])"
            ]
          },
          "metadata": {},
          "execution_count": 43
        }
      ]
    },
    {
      "cell_type": "code",
      "execution_count": null,
      "metadata": {
        "id": "b_SDVs8wNQS1",
        "colab": {
          "base_uri": "https://localhost:8080/"
        },
        "outputId": "99c90ebb-18d7-4eef-e8b9-34afa006bbc0"
      },
      "outputs": [
        {
          "output_type": "execute_result",
          "data": {
            "text/plain": [
              "array([[ 1,  2,  3,  4,  5],\n",
              "       [ 6,  7,  8,  9, 10],\n",
              "       [11, 12, 13, 14, 15],\n",
              "       [16, 17, 18, 19, 20]])"
            ]
          },
          "metadata": {},
          "execution_count": 46
        }
      ],
      "source": [
        "numeros.reshape(4, 5)"
      ]
    },
    {
      "cell_type": "code",
      "source": [
        "a = np.arange(1, 21)"
      ],
      "metadata": {
        "id": "XGAMYn5x1n31"
      },
      "execution_count": null,
      "outputs": []
    },
    {
      "cell_type": "code",
      "source": [
        "a"
      ],
      "metadata": {
        "colab": {
          "base_uri": "https://localhost:8080/"
        },
        "id": "eUGm0Ulf1qeK",
        "outputId": "56e0458f-7c1f-47e4-fa36-f4f7b14ad99e"
      },
      "execution_count": null,
      "outputs": [
        {
          "output_type": "execute_result",
          "data": {
            "text/plain": [
              "array([ 1,  2,  3,  4,  5,  6,  7,  8,  9, 10, 11, 12, 13, 14, 15, 16, 17,\n",
              "       18, 19, 20])"
            ]
          },
          "metadata": {},
          "execution_count": 48
        }
      ]
    },
    {
      "cell_type": "code",
      "source": [
        "a.reshape(4,5)"
      ],
      "metadata": {
        "colab": {
          "base_uri": "https://localhost:8080/"
        },
        "id": "J868kyA-1rBK",
        "outputId": "a2a0a348-6205-4337-a78c-d2ce5f496e8c"
      },
      "execution_count": null,
      "outputs": [
        {
          "output_type": "execute_result",
          "data": {
            "text/plain": [
              "array([[ 1,  2,  3,  4,  5],\n",
              "       [ 6,  7,  8,  9, 10],\n",
              "       [11, 12, 13, 14, 15],\n",
              "       [16, 17, 18, 19, 20]])"
            ]
          },
          "metadata": {},
          "execution_count": 44
        }
      ]
    },
    {
      "cell_type": "code",
      "source": [],
      "metadata": {
        "id": "8IzMBkz-1t_y"
      },
      "execution_count": null,
      "outputs": []
    },
    {
      "cell_type": "markdown",
      "metadata": {
        "id": "ZY0OM5TNNQS1"
      },
      "source": [
        "### Exibindo grandes `array`s"
      ]
    },
    {
      "cell_type": "code",
      "execution_count": null,
      "metadata": {
        "id": "NRl2Eh6ONQS2",
        "colab": {
          "base_uri": "https://localhost:8080/"
        },
        "outputId": "3d415293-3ec9-4431-c585-3d976158a0c0"
      },
      "outputs": [
        {
          "output_type": "execute_result",
          "data": {
            "text/plain": [
              "array([[     1,      2,      3, ...,  24998,  24999,  25000],\n",
              "       [ 25001,  25002,  25003, ...,  49998,  49999,  50000],\n",
              "       [ 50001,  50002,  50003, ...,  74998,  74999,  75000],\n",
              "       [ 75001,  75002,  75003, ...,  99998,  99999, 100000]])"
            ]
          },
          "metadata": {},
          "execution_count": 45
        }
      ],
      "source": [
        "np.arange(1, 100001).reshape(4, 25000)"
      ]
    },
    {
      "cell_type": "code",
      "source": [
        "np.arange(1, 100001).reshape(100, 1000)"
      ],
      "metadata": {
        "colab": {
          "base_uri": "https://localhost:8080/"
        },
        "id": "F_AnyLaS19S7",
        "outputId": "8884dbd5-3282-485e-fb74-541cfd56e557"
      },
      "execution_count": null,
      "outputs": [
        {
          "output_type": "execute_result",
          "data": {
            "text/plain": [
              "array([[     1,      2,      3, ...,    998,    999,   1000],\n",
              "       [  1001,   1002,   1003, ...,   1998,   1999,   2000],\n",
              "       [  2001,   2002,   2003, ...,   2998,   2999,   3000],\n",
              "       ...,\n",
              "       [ 97001,  97002,  97003, ...,  97998,  97999,  98000],\n",
              "       [ 98001,  98002,  98003, ...,  98998,  98999,  99000],\n",
              "       [ 99001,  99002,  99003, ...,  99998,  99999, 100000]])"
            ]
          },
          "metadata": {},
          "execution_count": 46
        }
      ]
    },
    {
      "cell_type": "markdown",
      "metadata": {
        "id": "I_klMItNNQS2"
      },
      "source": [
        "## Atividade"
      ]
    },
    {
      "cell_type": "markdown",
      "metadata": {
        "id": "pvqyxu57NQS2"
      },
      "source": [
        "Use a função NumPy `arange` para criar um `array` de 20 inteiros pares de 2 a 40, então remodele o resultado em um `array` de 4 por 5.\n"
      ]
    },
    {
      "cell_type": "markdown",
      "source": [
        "Resposta"
      ],
      "metadata": {
        "id": "7SxKu6DXKKgB"
      }
    },
    {
      "cell_type": "code",
      "execution_count": null,
      "metadata": {
        "id": "7UFj7klYNQS2"
      },
      "outputs": [],
      "source": [
        "import numpy as np"
      ]
    },
    {
      "cell_type": "code",
      "source": [],
      "metadata": {
        "id": "-ECEhjFR2I9z"
      },
      "execution_count": null,
      "outputs": []
    },
    {
      "cell_type": "markdown",
      "metadata": {
        "id": "BKXgkOlGNQS3"
      },
      "source": [
        "# 6 Desempenho de lista vs. `array`: Apresentando `%timeit`"
      ]
    },
    {
      "cell_type": "markdown",
      "metadata": {
        "id": "iefZFOvsNQS3"
      },
      "source": [
        "### Cronometrando a criação de uma lista contendo resultados de 6.000.000 lançamentos de dados"
      ]
    },
    {
      "cell_type": "code",
      "execution_count": null,
      "metadata": {
        "id": "nN5-r-emNQS3"
      },
      "outputs": [],
      "source": [
        "import random"
      ]
    },
    {
      "cell_type": "code",
      "execution_count": null,
      "metadata": {
        "id": "2YoqJvhCNQS3",
        "colab": {
          "base_uri": "https://localhost:8080/"
        },
        "outputId": "bee7edc5-2faa-479c-f0d0-404d55c09714"
      },
      "outputs": [
        {
          "output_type": "stream",
          "name": "stdout",
          "text": [
            "6.74 s ± 31.5 ms per loop (mean ± std. dev. of 7 runs, 1 loop each)\n"
          ]
        }
      ],
      "source": [
        "%timeit rolls_list = [random.randrange(1, 7) for i in range(0, 6_000_000)]"
      ]
    },
    {
      "cell_type": "markdown",
      "metadata": {
        "id": "lE1sseSaNQS4"
      },
      "source": [
        "### Cronometrando a criação de um `array` contendo resultados de 6.000.000 lançamentos de dados"
      ]
    },
    {
      "cell_type": "code",
      "execution_count": null,
      "metadata": {
        "id": "iU4Hi8uQNQS4"
      },
      "outputs": [],
      "source": [
        "import numpy as np"
      ]
    },
    {
      "cell_type": "code",
      "execution_count": null,
      "metadata": {
        "id": "Bo2PCR16NQS4",
        "colab": {
          "base_uri": "https://localhost:8080/"
        },
        "outputId": "f904c1ea-d70f-4a47-f7b8-01671d1f1183"
      },
      "outputs": [
        {
          "output_type": "stream",
          "name": "stdout",
          "text": [
            "70.8 ms ± 851 µs per loop (mean ± std. dev. of 7 runs, 10 loops each)\n"
          ]
        }
      ],
      "source": [
        "%timeit rolls_array = np.random.randint(1, 7, 6_000_000)"
      ]
    },
    {
      "cell_type": "markdown",
      "metadata": {
        "id": "ZwtR_9f5NQS4"
      },
      "source": [
        "### 60,000,000 e 600,000,000 lançamentos de dados"
      ]
    },
    {
      "cell_type": "code",
      "execution_count": null,
      "metadata": {
        "id": "DewbLCQZNQS4",
        "colab": {
          "base_uri": "https://localhost:8080/"
        },
        "outputId": "2bdd8bd7-e282-45a0-fa58-cd0ef7a97b7b"
      },
      "outputs": [
        {
          "output_type": "stream",
          "name": "stdout",
          "text": [
            "678 ms ± 7.16 ms per loop (mean ± std. dev. of 7 runs, 1 loop each)\n"
          ]
        }
      ],
      "source": [
        "%timeit rolls_array = np.random.randint(1, 7, 60_000_000)"
      ]
    },
    {
      "cell_type": "code",
      "execution_count": null,
      "metadata": {
        "id": "QKlOQYO1NQS5",
        "colab": {
          "base_uri": "https://localhost:8080/"
        },
        "outputId": "8688d931-0d04-497b-8e34-0ace8afa0163"
      },
      "outputs": [
        {
          "output_type": "stream",
          "name": "stdout",
          "text": [
            "6.57 s ± 9.12 ms per loop (mean ± std. dev. of 7 runs, 1 loop each)\n"
          ]
        }
      ],
      "source": [
        "%timeit rolls_array = np.random.randint(1, 7, 600_000_000)"
      ]
    },
    {
      "cell_type": "markdown",
      "metadata": {
        "id": "xvk-uhXNNQS6"
      },
      "source": [
        "### Outras magias do IPython"
      ]
    },
    {
      "cell_type": "markdown",
      "source": [
        "* %load para ler o código no IPython de um arquivo local ou URL.\n",
        "* %save para salvar trechos em um arquivo.\n",
        "* %run para executar um arquivo .py do IPython.\n",
        "* %precision para alterar a precisão de ponto flutuante padrão para saídas do IPython.\n",
        "* %cd para alterar os diretórios sem precisar sair do IPython primeiro.\n",
        "* %edit para iniciar um editor externo—útil se você precisar modificar algo mais complexo\n",
        "trechos.\n",
        "* %history para ver uma lista de todos os snippets e comandos que você executou na sessão atual do IPython."
      ],
      "metadata": {
        "id": "NsjXUxyQbaVk"
      }
    },
    {
      "cell_type": "markdown",
      "metadata": {
        "id": "gR-OCujINQS6"
      },
      "source": [
        "## Atividade"
      ]
    },
    {
      "cell_type": "markdown",
      "metadata": {
        "id": "KbRbXVMDNQS7"
      },
      "source": [
        "### Use `%timeit` para comparar o tempo de execução das duas instruções a seguir. O primeiro usa uma compreensão de lista para criar uma lista de inteiros de 0 a 9.999.999 e depois os totaliza com a função interna `sum`. A segunda instrução faz a mesma coisa usando um `array` e seu método `sum`.\n",
        "```python\n",
        "sum([x for x in range(10_000_000)])\n",
        "np.arange(10_000_000).sum()\n",
        "```\n",
        "\n"
      ]
    },
    {
      "cell_type": "code",
      "source": [],
      "metadata": {
        "id": "DEI0Xk2vjSJE"
      },
      "execution_count": null,
      "outputs": []
    },
    {
      "cell_type": "markdown",
      "metadata": {
        "id": "ow9zIQmvNQS8"
      },
      "source": [
        "# 7 Operadores de `array` "
      ]
    },
    {
      "cell_type": "markdown",
      "metadata": {
        "id": "oZm-LAgNNQS8"
      },
      "source": [
        "### Operações aritméticas com `array`s e valores numéricos individuais"
      ]
    },
    {
      "cell_type": "code",
      "execution_count": null,
      "metadata": {
        "id": "M_nVNuI7NQS9"
      },
      "outputs": [],
      "source": [
        "import numpy as np"
      ]
    },
    {
      "cell_type": "code",
      "source": [
        "numbers = np.arange(1, 6)"
      ],
      "metadata": {
        "id": "mY_wMNwljYbS"
      },
      "execution_count": null,
      "outputs": []
    },
    {
      "cell_type": "code",
      "source": [
        "numbers"
      ],
      "metadata": {
        "colab": {
          "base_uri": "https://localhost:8080/"
        },
        "id": "ziS0BSZKjZZ3",
        "outputId": "abbbe10a-4bf5-4a5b-f88a-a6f7bcbb9356"
      },
      "execution_count": null,
      "outputs": [
        {
          "output_type": "execute_result",
          "data": {
            "text/plain": [
              "array([1, 2, 3, 4, 5])"
            ]
          },
          "metadata": {},
          "execution_count": 55
        }
      ]
    },
    {
      "cell_type": "code",
      "source": [
        "numbers * 5"
      ],
      "metadata": {
        "colab": {
          "base_uri": "https://localhost:8080/"
        },
        "id": "ge8RIk8Dja2W",
        "outputId": "e23c74c9-d2b2-4125-e6e1-1e57ec3f971c"
      },
      "execution_count": null,
      "outputs": [
        {
          "output_type": "execute_result",
          "data": {
            "text/plain": [
              "array([ 5, 10, 15, 20, 25])"
            ]
          },
          "metadata": {},
          "execution_count": 56
        }
      ]
    },
    {
      "cell_type": "code",
      "source": [
        "numbers ** 2"
      ],
      "metadata": {
        "colab": {
          "base_uri": "https://localhost:8080/"
        },
        "id": "s_wBnujpjgeW",
        "outputId": "785e3179-deb1-4072-e8d2-8f73c20104b0"
      },
      "execution_count": null,
      "outputs": [
        {
          "output_type": "execute_result",
          "data": {
            "text/plain": [
              "array([ 1,  4,  9, 16, 25])"
            ]
          },
          "metadata": {},
          "execution_count": 57
        }
      ]
    },
    {
      "cell_type": "code",
      "source": [
        "numbers"
      ],
      "metadata": {
        "colab": {
          "base_uri": "https://localhost:8080/"
        },
        "id": "iYsxD8UWjjJW",
        "outputId": "04f09ed1-734a-4d8f-cf35-369b6d45f64c"
      },
      "execution_count": null,
      "outputs": [
        {
          "output_type": "execute_result",
          "data": {
            "text/plain": [
              "array([1, 2, 3, 4, 5])"
            ]
          },
          "metadata": {},
          "execution_count": 58
        }
      ]
    },
    {
      "cell_type": "code",
      "source": [
        "numbers += 10"
      ],
      "metadata": {
        "id": "6Eu9uXEmjlAm"
      },
      "execution_count": null,
      "outputs": []
    },
    {
      "cell_type": "code",
      "source": [
        "numbers"
      ],
      "metadata": {
        "colab": {
          "base_uri": "https://localhost:8080/"
        },
        "id": "B6xsQZjOjqWe",
        "outputId": "bc7e7790-d0a0-4252-f76b-4e3cf57c25de"
      },
      "execution_count": null,
      "outputs": [
        {
          "output_type": "execute_result",
          "data": {
            "text/plain": [
              "array([11, 12, 13, 14, 15])"
            ]
          },
          "metadata": {},
          "execution_count": 60
        }
      ]
    },
    {
      "cell_type": "code",
      "source": [],
      "metadata": {
        "id": "xKuK3K2-jqsl"
      },
      "execution_count": null,
      "outputs": []
    },
    {
      "cell_type": "markdown",
      "metadata": {
        "id": "vJHmUdkMNQS-"
      },
      "source": [
        "### Broadcasting "
      ]
    },
    {
      "cell_type": "markdown",
      "source": [
        "Normalmente, as operações aritméticas requerem como operandos dois arrays de mesmo tamanho e forma.\n",
        "\n",
        "Quando um operando é um valor único, chamado de escalar, NumPy executa os cálculos elementares como se o escalar fosse uma matriz da mesma forma que o outro operando, mas com o valor escalar em todos os seus elementos."
      ],
      "metadata": {
        "id": "BOFIPnrpeHRA"
      }
    },
    {
      "cell_type": "markdown",
      "source": [
        "numbers * 2\n",
        "\n",
        "é o mesmo que \n",
        "\n",
        "numbers * [2, 2, 2, 2, 2]"
      ],
      "metadata": {
        "id": "gY_JpMTZeUte"
      }
    },
    {
      "cell_type": "markdown",
      "metadata": {
        "id": "X3_wc2sFNQS-"
      },
      "source": [
        "### Operações aritméticas entre `array`s"
      ]
    },
    {
      "cell_type": "code",
      "execution_count": null,
      "metadata": {
        "id": "6593xKyZNQS-"
      },
      "outputs": [],
      "source": [
        "numbers2 = np.linspace(1.1, 5.5, 5)"
      ]
    },
    {
      "cell_type": "code",
      "execution_count": null,
      "metadata": {
        "id": "Af8Lyr85NQS_",
        "colab": {
          "base_uri": "https://localhost:8080/"
        },
        "outputId": "e03c3afb-03b7-47b8-a8a0-7fde711f426a"
      },
      "outputs": [
        {
          "output_type": "execute_result",
          "data": {
            "text/plain": [
              "array([1.1, 2.2, 3.3, 4.4, 5.5])"
            ]
          },
          "metadata": {},
          "execution_count": 62
        }
      ],
      "source": [
        "numbers2"
      ]
    },
    {
      "cell_type": "code",
      "source": [
        "numbers"
      ],
      "metadata": {
        "colab": {
          "base_uri": "https://localhost:8080/"
        },
        "id": "xWTSuEb9kC6a",
        "outputId": "7ddb9344-8867-4b4c-a2e4-def40ac22b27"
      },
      "execution_count": null,
      "outputs": [
        {
          "output_type": "execute_result",
          "data": {
            "text/plain": [
              "array([11, 12, 13, 14, 15])"
            ]
          },
          "metadata": {},
          "execution_count": 63
        }
      ]
    },
    {
      "cell_type": "code",
      "source": [
        "numbers * numbers2"
      ],
      "metadata": {
        "colab": {
          "base_uri": "https://localhost:8080/"
        },
        "id": "A_fM0JWtkDpd",
        "outputId": "2d0fa06b-2e00-4064-f322-1de4d665cf54"
      },
      "execution_count": null,
      "outputs": [
        {
          "output_type": "execute_result",
          "data": {
            "text/plain": [
              "array([12.1, 26.4, 42.9, 61.6, 82.5])"
            ]
          },
          "metadata": {},
          "execution_count": 64
        }
      ]
    },
    {
      "cell_type": "markdown",
      "metadata": {
        "id": "GLQ2vp5aNQS_"
      },
      "source": [
        "### Comparando arrays"
      ]
    },
    {
      "cell_type": "code",
      "execution_count": null,
      "metadata": {
        "id": "beeLU7ZINQS_",
        "colab": {
          "base_uri": "https://localhost:8080/"
        },
        "outputId": "53b80d79-bcb6-4667-c497-8cc59c41c21a"
      },
      "outputs": [
        {
          "output_type": "execute_result",
          "data": {
            "text/plain": [
              "array([11, 12, 13, 14, 15])"
            ]
          },
          "metadata": {},
          "execution_count": 65
        }
      ],
      "source": [
        "numbers"
      ]
    },
    {
      "cell_type": "code",
      "execution_count": null,
      "metadata": {
        "id": "5Dc_LUsRNQS_",
        "colab": {
          "base_uri": "https://localhost:8080/"
        },
        "outputId": "f9f73b6c-2073-48bd-8beb-793d6dca1e69"
      },
      "outputs": [
        {
          "output_type": "execute_result",
          "data": {
            "text/plain": [
              "array([False, False,  True,  True,  True])"
            ]
          },
          "metadata": {},
          "execution_count": 66
        }
      ],
      "source": [
        "numbers >= 13"
      ]
    },
    {
      "cell_type": "code",
      "source": [
        "numbers2"
      ],
      "metadata": {
        "colab": {
          "base_uri": "https://localhost:8080/"
        },
        "id": "uAbALlIhka4D",
        "outputId": "5c388147-9f43-44a1-9331-1dbb6f811611"
      },
      "execution_count": null,
      "outputs": [
        {
          "output_type": "execute_result",
          "data": {
            "text/plain": [
              "array([1.1, 2.2, 3.3, 4.4, 5.5])"
            ]
          },
          "metadata": {},
          "execution_count": 67
        }
      ]
    },
    {
      "cell_type": "code",
      "source": [
        "numbers2 < numbers"
      ],
      "metadata": {
        "colab": {
          "base_uri": "https://localhost:8080/"
        },
        "id": "3FKeo0CJkbY-",
        "outputId": "23e0f222-4058-483e-9c3b-a93b25c95e02"
      },
      "execution_count": null,
      "outputs": [
        {
          "output_type": "execute_result",
          "data": {
            "text/plain": [
              "array([ True,  True,  True,  True,  True])"
            ]
          },
          "metadata": {},
          "execution_count": 68
        }
      ]
    },
    {
      "cell_type": "code",
      "source": [
        "numbers == numbers2"
      ],
      "metadata": {
        "colab": {
          "base_uri": "https://localhost:8080/"
        },
        "id": "N3Rz8I-2kdDw",
        "outputId": "474a020b-17c4-43d5-cf51-b11d91c7fd02"
      },
      "execution_count": null,
      "outputs": [
        {
          "output_type": "execute_result",
          "data": {
            "text/plain": [
              "array([False, False, False, False, False])"
            ]
          },
          "metadata": {},
          "execution_count": 69
        }
      ]
    },
    {
      "cell_type": "code",
      "source": [
        "numbers == numbers"
      ],
      "metadata": {
        "colab": {
          "base_uri": "https://localhost:8080/"
        },
        "id": "ZWwntEepklei",
        "outputId": "88c8f7ef-a9b6-43a6-a082-63b3577809b9"
      },
      "execution_count": null,
      "outputs": [
        {
          "output_type": "execute_result",
          "data": {
            "text/plain": [
              "array([ True,  True,  True,  True,  True])"
            ]
          },
          "metadata": {},
          "execution_count": 70
        }
      ]
    },
    {
      "cell_type": "code",
      "source": [],
      "metadata": {
        "id": "1xpyTcjqkmYW"
      },
      "execution_count": null,
      "outputs": []
    },
    {
      "cell_type": "code",
      "source": [],
      "metadata": {
        "id": "BhzduRoIk3yf"
      },
      "execution_count": null,
      "outputs": []
    },
    {
      "cell_type": "markdown",
      "metadata": {
        "id": "I3VofzOSNQTA"
      },
      "source": [
        "## Atividade"
      ]
    },
    {
      "cell_type": "markdown",
      "metadata": {
        "id": "2ev9hyt0NQTB"
      },
      "source": [
        "### Crie uma matriz dos valores de 1 a 5 e use a broadcasting (difusão) para elevar cada valor ao quadrado.\n",
        "\n"
      ]
    },
    {
      "cell_type": "code",
      "source": [
        "import numpy as np\n",
        "\n",
        "a = np.arange(1,6)\n",
        "a **= 2\n",
        "a\n"
      ],
      "metadata": {
        "colab": {
          "base_uri": "https://localhost:8080/"
        },
        "id": "9M023aT4kqig",
        "outputId": "0fab15c0-c294-4a95-d5dd-42f2f4459621"
      },
      "execution_count": null,
      "outputs": [
        {
          "output_type": "execute_result",
          "data": {
            "text/plain": [
              "array([ 1,  4,  9, 16, 25])"
            ]
          },
          "metadata": {},
          "execution_count": 72
        }
      ]
    },
    {
      "cell_type": "code",
      "source": [],
      "metadata": {
        "id": "kQjqp2XTl3lG"
      },
      "execution_count": null,
      "outputs": []
    },
    {
      "cell_type": "markdown",
      "metadata": {
        "id": "EQo5iHRLNQTB"
      },
      "source": [
        "# 8 Métodos de cálculo NumPy"
      ]
    },
    {
      "cell_type": "code",
      "execution_count": null,
      "metadata": {
        "id": "IFUkO31ZNQTC"
      },
      "outputs": [],
      "source": [
        "import numpy as np"
      ]
    },
    {
      "cell_type": "code",
      "execution_count": null,
      "metadata": {
        "id": "iPzk4_PnNQTC"
      },
      "outputs": [],
      "source": [
        "grades = np.array([[87, 96, 70], [100, 87, 90],\n",
        "                   [94, 77, 90], [100, 81, 82]])"
      ]
    },
    {
      "cell_type": "code",
      "execution_count": null,
      "metadata": {
        "id": "0zBVC_CWNQTC",
        "colab": {
          "base_uri": "https://localhost:8080/"
        },
        "outputId": "c19fa3e0-1f6e-434d-dd3e-1908dc3212a0"
      },
      "outputs": [
        {
          "output_type": "execute_result",
          "data": {
            "text/plain": [
              "array([[ 87,  96,  70],\n",
              "       [100,  87,  90],\n",
              "       [ 94,  77,  90],\n",
              "       [100,  81,  82]])"
            ]
          },
          "metadata": {},
          "execution_count": 75
        }
      ],
      "source": [
        "grades"
      ]
    },
    {
      "cell_type": "code",
      "execution_count": null,
      "metadata": {
        "id": "Sbda_fSWNQTC",
        "colab": {
          "base_uri": "https://localhost:8080/"
        },
        "outputId": "5e4b3904-d003-47bc-805f-a6161978195e"
      },
      "outputs": [
        {
          "output_type": "execute_result",
          "data": {
            "text/plain": [
              "1054"
            ]
          },
          "metadata": {},
          "execution_count": 76
        }
      ],
      "source": [
        "grades.sum()"
      ]
    },
    {
      "cell_type": "code",
      "source": [
        "grades.min()"
      ],
      "metadata": {
        "colab": {
          "base_uri": "https://localhost:8080/"
        },
        "id": "hMr8FwfAma9s",
        "outputId": "49cf37e2-5dc0-4554-f8dc-8517fc5b36ee"
      },
      "execution_count": null,
      "outputs": [
        {
          "output_type": "execute_result",
          "data": {
            "text/plain": [
              "70"
            ]
          },
          "metadata": {},
          "execution_count": 77
        }
      ]
    },
    {
      "cell_type": "code",
      "source": [
        "grades.max()"
      ],
      "metadata": {
        "colab": {
          "base_uri": "https://localhost:8080/"
        },
        "id": "a1QY5ifxmbrW",
        "outputId": "cf670cfa-4008-4ff5-a8b1-104d77cca2c7"
      },
      "execution_count": null,
      "outputs": [
        {
          "output_type": "execute_result",
          "data": {
            "text/plain": [
              "100"
            ]
          },
          "metadata": {},
          "execution_count": 78
        }
      ]
    },
    {
      "cell_type": "code",
      "source": [
        "grades.mean()"
      ],
      "metadata": {
        "colab": {
          "base_uri": "https://localhost:8080/"
        },
        "id": "alXrHJHBmcj4",
        "outputId": "b23ee6a6-3af9-4764-b84e-2c411e364697"
      },
      "execution_count": null,
      "outputs": [
        {
          "output_type": "execute_result",
          "data": {
            "text/plain": [
              "87.83333333333333"
            ]
          },
          "metadata": {},
          "execution_count": 79
        }
      ]
    },
    {
      "cell_type": "code",
      "source": [
        "grades.var()"
      ],
      "metadata": {
        "colab": {
          "base_uri": "https://localhost:8080/"
        },
        "id": "o0ODTVsGmd9d",
        "outputId": "b543e34f-d08e-4a5d-e6a8-c24919599992"
      },
      "execution_count": null,
      "outputs": [
        {
          "output_type": "execute_result",
          "data": {
            "text/plain": [
              "77.30555555555556"
            ]
          },
          "metadata": {},
          "execution_count": 80
        }
      ]
    },
    {
      "cell_type": "code",
      "source": [
        "grades.std()"
      ],
      "metadata": {
        "colab": {
          "base_uri": "https://localhost:8080/"
        },
        "id": "Cm01aRI0mkn9",
        "outputId": "1263b8ca-42ed-4f89-f295-2c76e6fd6b9d"
      },
      "execution_count": null,
      "outputs": [
        {
          "output_type": "execute_result",
          "data": {
            "text/plain": [
              "8.792357792739987"
            ]
          },
          "metadata": {},
          "execution_count": 81
        }
      ]
    },
    {
      "cell_type": "code",
      "source": [],
      "metadata": {
        "id": "-i6j5XM0mnVG"
      },
      "execution_count": null,
      "outputs": []
    },
    {
      "cell_type": "markdown",
      "metadata": {
        "id": "hiB8D_nNNQTD"
      },
      "source": [
        "### Cálculos por Linha ou Coluna"
      ]
    },
    {
      "cell_type": "code",
      "execution_count": null,
      "metadata": {
        "id": "vyJCKHfWNQTE",
        "colab": {
          "base_uri": "https://localhost:8080/"
        },
        "outputId": "39d86afd-4ea3-4333-a2f1-27ffadadd642"
      },
      "outputs": [
        {
          "output_type": "execute_result",
          "data": {
            "text/plain": [
              "array([95.25, 85.25, 83.  ])"
            ]
          },
          "metadata": {},
          "execution_count": 82
        }
      ],
      "source": [
        "grades.mean(axis=0)"
      ]
    },
    {
      "cell_type": "code",
      "source": [
        "grades[:,0].mean()"
      ],
      "metadata": {
        "colab": {
          "base_uri": "https://localhost:8080/"
        },
        "id": "xEeKDLR1nAJW",
        "outputId": "05d3f375-d3ea-4c37-e00c-3952e5341c9a"
      },
      "execution_count": null,
      "outputs": [
        {
          "output_type": "execute_result",
          "data": {
            "text/plain": [
              "95.25"
            ]
          },
          "metadata": {},
          "execution_count": 84
        }
      ]
    },
    {
      "cell_type": "code",
      "source": [
        "grades.mean(axis=1)"
      ],
      "metadata": {
        "colab": {
          "base_uri": "https://localhost:8080/"
        },
        "id": "zurNiWRLnF7f",
        "outputId": "6d267ddb-64e2-4274-d920-fcd3ed3ccf95"
      },
      "execution_count": null,
      "outputs": [
        {
          "output_type": "execute_result",
          "data": {
            "text/plain": [
              "array([84.33333333, 92.33333333, 87.        , 87.66666667])"
            ]
          },
          "metadata": {},
          "execution_count": 85
        }
      ]
    },
    {
      "cell_type": "code",
      "source": [],
      "metadata": {
        "id": "eWJviCdDnO9-"
      },
      "execution_count": null,
      "outputs": []
    },
    {
      "cell_type": "markdown",
      "metadata": {
        "id": "TkSNW1VcNQTE"
      },
      "source": [
        "## Atividade"
      ]
    },
    {
      "cell_type": "markdown",
      "metadata": {
        "id": "Fos-uV07NQTE"
      },
      "source": [
        "Use a geração de números aleatórios NumPy para criar uma matriz de doze notas aleatórias no intervalo de 60 a 100 e, em seguida, reformule o resultado em uma matriz de 3 por 4. Calcule a média de todas as notas, as médias das notas em cada coluna e as médias das notas em cada linha.\n"
      ]
    },
    {
      "cell_type": "markdown",
      "source": [
        "Resposta"
      ],
      "metadata": {
        "id": "IP4BdcmefUXb"
      }
    },
    {
      "cell_type": "code",
      "source": [],
      "metadata": {
        "id": "_ZsrGUeHnZkE"
      },
      "execution_count": null,
      "outputs": []
    },
    {
      "cell_type": "markdown",
      "metadata": {
        "id": "uohZ5yzYNQTG"
      },
      "source": [
        "# 9 Funções Universais"
      ]
    },
    {
      "cell_type": "markdown",
      "source": [
        "O NumPy oferece dezenas de funções universais autônomas (ou ufuncs) que executam várias operações elementares.\n",
        "\n",
        "Cada um executa sua tarefa usando um ou dois argumentos de matriz ou de matriz (como listas)."
      ],
      "metadata": {
        "id": "bx4Y0dxXgYkY"
      }
    },
    {
      "cell_type": "code",
      "execution_count": null,
      "metadata": {
        "id": "msZHIOyoNQTG"
      },
      "outputs": [],
      "source": [
        "import numpy as np"
      ]
    },
    {
      "cell_type": "code",
      "execution_count": null,
      "metadata": {
        "id": "7fpVoTGHNQTG"
      },
      "outputs": [],
      "source": [
        "numbers = np.array([1, 4, 9, 16, 25, 36])"
      ]
    },
    {
      "cell_type": "code",
      "execution_count": null,
      "metadata": {
        "id": "lrhs8odyNQTH",
        "colab": {
          "base_uri": "https://localhost:8080/"
        },
        "outputId": "7fa7beca-64d3-4a71-e232-6c7404821ac8"
      },
      "outputs": [
        {
          "output_type": "execute_result",
          "data": {
            "text/plain": [
              "array([1., 2., 3., 4., 5., 6.])"
            ]
          },
          "metadata": {},
          "execution_count": 88
        }
      ],
      "source": [
        "np.sqrt(numbers)"
      ]
    },
    {
      "cell_type": "code",
      "execution_count": null,
      "metadata": {
        "id": "6ciMsk35NQTH"
      },
      "outputs": [],
      "source": [
        "numbers2 = np.arange(1, 7) * 10"
      ]
    },
    {
      "cell_type": "code",
      "execution_count": null,
      "metadata": {
        "id": "tMwpnGJKNQTH",
        "colab": {
          "base_uri": "https://localhost:8080/"
        },
        "outputId": "a755f1af-a4db-4b3a-dcf3-8559c74f818d"
      },
      "outputs": [
        {
          "output_type": "execute_result",
          "data": {
            "text/plain": [
              "array([10, 20, 30, 40, 50, 60])"
            ]
          },
          "metadata": {},
          "execution_count": 91
        }
      ],
      "source": [
        "numbers2"
      ]
    },
    {
      "cell_type": "code",
      "source": [
        "np.add(numbers, numbers2)"
      ],
      "metadata": {
        "colab": {
          "base_uri": "https://localhost:8080/"
        },
        "id": "hSOLhmkvnruu",
        "outputId": "7018a8be-a1db-4553-999d-8956b9035d45"
      },
      "execution_count": null,
      "outputs": [
        {
          "output_type": "execute_result",
          "data": {
            "text/plain": [
              "array([11, 24, 39, 56, 75, 96])"
            ]
          },
          "metadata": {},
          "execution_count": 92
        }
      ]
    },
    {
      "cell_type": "code",
      "source": [
        "np.add(numbers, [10, 20, 30, 40, 50, 60])"
      ],
      "metadata": {
        "colab": {
          "base_uri": "https://localhost:8080/"
        },
        "id": "BZIbpca5nyiH",
        "outputId": "be4255f2-1cc4-4ade-eb54-677e188c2e6e"
      },
      "execution_count": null,
      "outputs": [
        {
          "output_type": "execute_result",
          "data": {
            "text/plain": [
              "array([11, 24, 39, 56, 75, 96])"
            ]
          },
          "metadata": {},
          "execution_count": 93
        }
      ]
    },
    {
      "cell_type": "markdown",
      "metadata": {
        "id": "NfUoKxJKNQTI"
      },
      "source": [
        "### Other Universal Functions"
      ]
    },
    {
      "cell_type": "markdown",
      "source": [
        "![image.png](data:image/png;base64,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)"
      ],
      "metadata": {
        "id": "RVEXEGqZhaXR"
      }
    },
    {
      "cell_type": "markdown",
      "metadata": {
        "id": "pr7hTfQtNQTK"
      },
      "source": [
        "# 10 Indexação e fatiamento"
      ]
    },
    {
      "cell_type": "markdown",
      "metadata": {
        "id": "ze76RJxrNQTK"
      },
      "source": [
        "### Indexação com `array`s bidimensionais"
      ]
    },
    {
      "cell_type": "code",
      "execution_count": null,
      "metadata": {
        "id": "ry_gu8ZRNQTK"
      },
      "outputs": [],
      "source": [
        "import numpy as np"
      ]
    },
    {
      "cell_type": "code",
      "execution_count": null,
      "metadata": {
        "id": "r3md7DTxNQTL"
      },
      "outputs": [],
      "source": [
        "grades = np.array([[87, 96, 70], [100, 87, 90],\n",
        "                   [94, 77, 90], [100, 81, 82]])"
      ]
    },
    {
      "cell_type": "code",
      "source": [
        "grades"
      ],
      "metadata": {
        "colab": {
          "base_uri": "https://localhost:8080/"
        },
        "id": "_fLaWbGyoDRh",
        "outputId": "d87625d0-5f18-4bd0-ad13-b0c0438b8ee1"
      },
      "execution_count": null,
      "outputs": [
        {
          "output_type": "execute_result",
          "data": {
            "text/plain": [
              "array([[ 87,  96,  70],\n",
              "       [100,  87,  90],\n",
              "       [ 94,  77,  90],\n",
              "       [100,  81,  82]])"
            ]
          },
          "metadata": {},
          "execution_count": 96
        }
      ]
    },
    {
      "cell_type": "code",
      "source": [
        "grades[0, 1]"
      ],
      "metadata": {
        "colab": {
          "base_uri": "https://localhost:8080/"
        },
        "id": "WtAKvcDhoDld",
        "outputId": "493f680c-4c53-472a-a9d6-c9f920726798"
      },
      "execution_count": null,
      "outputs": [
        {
          "output_type": "execute_result",
          "data": {
            "text/plain": [
              "96"
            ]
          },
          "metadata": {},
          "execution_count": 97
        }
      ]
    },
    {
      "cell_type": "markdown",
      "metadata": {
        "id": "Fb_kGMkTNQTL"
      },
      "source": [
        "### Selecionando um subconjunto de linhas de um `array` bidimensional"
      ]
    },
    {
      "cell_type": "code",
      "execution_count": null,
      "metadata": {
        "id": "6QAfGiAqNQTM",
        "colab": {
          "base_uri": "https://localhost:8080/"
        },
        "outputId": "07ed5879-323e-4abe-bdb2-e3e5010766c9"
      },
      "outputs": [
        {
          "output_type": "execute_result",
          "data": {
            "text/plain": [
              "array([100,  87,  90])"
            ]
          },
          "metadata": {},
          "execution_count": 98
        }
      ],
      "source": [
        "grades[1]"
      ]
    },
    {
      "cell_type": "code",
      "source": [
        "grades[0:2]"
      ],
      "metadata": {
        "colab": {
          "base_uri": "https://localhost:8080/"
        },
        "id": "nUIbo3KxoQgf",
        "outputId": "17c49649-68ff-43b3-ee3e-be2df98aa328"
      },
      "execution_count": null,
      "outputs": [
        {
          "output_type": "execute_result",
          "data": {
            "text/plain": [
              "array([[ 87,  96,  70],\n",
              "       [100,  87,  90]])"
            ]
          },
          "metadata": {},
          "execution_count": 99
        }
      ]
    },
    {
      "cell_type": "code",
      "source": [
        "grades[1:3]"
      ],
      "metadata": {
        "colab": {
          "base_uri": "https://localhost:8080/"
        },
        "id": "Z726CU-NoiCx",
        "outputId": "56347e50-1d1f-4726-964c-48ba667016f9"
      },
      "execution_count": null,
      "outputs": [
        {
          "output_type": "execute_result",
          "data": {
            "text/plain": [
              "array([[100,  87,  90],\n",
              "       [ 94,  77,  90]])"
            ]
          },
          "metadata": {},
          "execution_count": 102
        }
      ]
    },
    {
      "cell_type": "code",
      "source": [
        "grades[[1, 3]]"
      ],
      "metadata": {
        "colab": {
          "base_uri": "https://localhost:8080/"
        },
        "id": "vovJkvxQoUf-",
        "outputId": "077f3d23-0234-4c5c-839e-3d66121e7652"
      },
      "execution_count": null,
      "outputs": [
        {
          "output_type": "execute_result",
          "data": {
            "text/plain": [
              "array([[100,  87,  90],\n",
              "       [100,  81,  82]])"
            ]
          },
          "metadata": {},
          "execution_count": 103
        }
      ]
    },
    {
      "cell_type": "code",
      "source": [],
      "metadata": {
        "id": "bCnAuiwdodou"
      },
      "execution_count": null,
      "outputs": []
    },
    {
      "cell_type": "markdown",
      "metadata": {
        "id": "4Cze-D--NQTM"
      },
      "source": [
        "### Selecionando um subconjunto de colunas de um `array` bidimensional"
      ]
    },
    {
      "cell_type": "code",
      "source": [
        "grades"
      ],
      "metadata": {
        "colab": {
          "base_uri": "https://localhost:8080/"
        },
        "id": "Qqhe0gqso0qU",
        "outputId": "410f9d13-063c-4cf9-bccc-cbac3f429332"
      },
      "execution_count": null,
      "outputs": [
        {
          "output_type": "execute_result",
          "data": {
            "text/plain": [
              "array([[ 87,  96,  70],\n",
              "       [100,  87,  90],\n",
              "       [ 94,  77,  90],\n",
              "       [100,  81,  82]])"
            ]
          },
          "metadata": {},
          "execution_count": 105
        }
      ]
    },
    {
      "cell_type": "code",
      "execution_count": null,
      "metadata": {
        "id": "2LRICEI0NQTM",
        "colab": {
          "base_uri": "https://localhost:8080/"
        },
        "outputId": "6ba263cd-6186-4a8e-d151-653e1927ed78"
      },
      "outputs": [
        {
          "output_type": "execute_result",
          "data": {
            "text/plain": [
              "array([ 87, 100,  94, 100])"
            ]
          },
          "metadata": {},
          "execution_count": 104
        }
      ],
      "source": [
        "grades[:, 0]"
      ]
    },
    {
      "cell_type": "code",
      "source": [
        "grades[:,1:3]"
      ],
      "metadata": {
        "colab": {
          "base_uri": "https://localhost:8080/"
        },
        "id": "vuyN1Hv-o3nI",
        "outputId": "b2c4932e-a64f-404c-b687-7f4d71a5505d"
      },
      "execution_count": null,
      "outputs": [
        {
          "output_type": "execute_result",
          "data": {
            "text/plain": [
              "array([[96, 70],\n",
              "       [87, 90],\n",
              "       [77, 90],\n",
              "       [81, 82]])"
            ]
          },
          "metadata": {},
          "execution_count": 106
        }
      ]
    },
    {
      "cell_type": "code",
      "source": [
        "grades[:, [0, 2]]"
      ],
      "metadata": {
        "colab": {
          "base_uri": "https://localhost:8080/"
        },
        "id": "dcWRKJ9eo_aP",
        "outputId": "b0dea487-7748-4db0-b457-397f8f6e8e30"
      },
      "execution_count": null,
      "outputs": [
        {
          "output_type": "execute_result",
          "data": {
            "text/plain": [
              "array([[ 87,  70],\n",
              "       [100,  90],\n",
              "       [ 94,  90],\n",
              "       [100,  82]])"
            ]
          },
          "metadata": {},
          "execution_count": 107
        }
      ]
    },
    {
      "cell_type": "markdown",
      "metadata": {
        "id": "L9HMU0Q7NQTR"
      },
      "source": [
        "## Atividade"
      ]
    },
    {
      "cell_type": "markdown",
      "metadata": {
        "id": "05psd7rsNQTS"
      },
      "source": [
        "### Dada o seguinte array: \n",
        "```python \n",
        "array([[ 1,  2,  3,  4,  5],\n",
        "       [ 6,  7,  8,  9, 10],\n",
        "       [11, 12, 13, 14, 15]])\n",
        "```\n",
        "escreva instruções para executar as seguintes tarefas:\n",
        "\n",
        "**a.** Selecione a segunda linha.\n",
        "\n",
        "**b.** Selecione a primeira e a terceira linha.\n",
        "\n",
        "**c.** Selecione as três colunas do meio.\n",
        "\n"
      ]
    },
    {
      "cell_type": "markdown",
      "source": [
        "Resposta"
      ],
      "metadata": {
        "id": "kI6TTKNMiOhQ"
      }
    },
    {
      "cell_type": "code",
      "source": [
        "matriz = np.array([[ 1,  2,  3,  4,  5],\n",
        "       [ 6,  7,  8,  9, 10],\n",
        "       [11, 12, 13, 14, 15]])\n",
        "\n",
        "\n"
      ],
      "metadata": {
        "id": "CQW4aQ-kpLOQ"
      },
      "execution_count": null,
      "outputs": []
    },
    {
      "cell_type": "code",
      "source": [
        "matriz"
      ],
      "metadata": {
        "colab": {
          "base_uri": "https://localhost:8080/"
        },
        "id": "0ZrtQyebqUoW",
        "outputId": "c52e6499-ee48-480a-ddca-b58368dda70d"
      },
      "execution_count": null,
      "outputs": [
        {
          "output_type": "execute_result",
          "data": {
            "text/plain": [
              "array([[ 1,  2,  3,  4,  5],\n",
              "       [ 6,  7,  8,  9, 10],\n",
              "       [11, 12, 13, 14, 15]])"
            ]
          },
          "metadata": {},
          "execution_count": 109
        }
      ]
    },
    {
      "cell_type": "code",
      "source": [
        "print(f\"1:\\n{matriz[[1]]}\")\n",
        "print(f\"2: \\n{matriz[[0,2]]}\")\n",
        "print(f\"3: \\n{matriz[:, 1:4]}\")"
      ],
      "metadata": {
        "colab": {
          "base_uri": "https://localhost:8080/"
        },
        "id": "UXL67bVDqX8D",
        "outputId": "7ef76474-9dca-466e-ae12-551096723726"
      },
      "execution_count": null,
      "outputs": [
        {
          "output_type": "stream",
          "name": "stdout",
          "text": [
            "1:\n",
            "[[ 6  7  8  9 10]]\n",
            "2: \n",
            "[[ 1  2  3  4  5]\n",
            " [11 12 13 14 15]]\n",
            "3: \n",
            "[[ 2  3  4]\n",
            " [ 7  8  9]\n",
            " [12 13 14]]\n"
          ]
        }
      ]
    },
    {
      "cell_type": "markdown",
      "metadata": {
        "id": "VzZfp-OqNQTT"
      },
      "source": [
        "# 11 Views: cópias rasas"
      ]
    },
    {
      "cell_type": "code",
      "execution_count": null,
      "metadata": {
        "id": "QMp34YySNQTT"
      },
      "outputs": [],
      "source": [
        "import numpy as np"
      ]
    },
    {
      "cell_type": "code",
      "execution_count": null,
      "metadata": {
        "id": "ShBIjpaHNQTT"
      },
      "outputs": [],
      "source": [
        "numbers = np.arange(1, 6)"
      ]
    },
    {
      "cell_type": "code",
      "source": [
        "numbers"
      ],
      "metadata": {
        "colab": {
          "base_uri": "https://localhost:8080/"
        },
        "id": "RVXyzr-Nq63M",
        "outputId": "220b0400-a5ef-4170-dc37-2e3b430dd8a7"
      },
      "execution_count": null,
      "outputs": [
        {
          "output_type": "execute_result",
          "data": {
            "text/plain": [
              "array([1, 2, 3, 4, 5])"
            ]
          },
          "metadata": {},
          "execution_count": 115
        }
      ]
    },
    {
      "cell_type": "code",
      "source": [
        "numbers2 = numbers.view()"
      ],
      "metadata": {
        "id": "jpe4EplmqzIK"
      },
      "execution_count": null,
      "outputs": []
    },
    {
      "cell_type": "code",
      "source": [
        "numbers2"
      ],
      "metadata": {
        "colab": {
          "base_uri": "https://localhost:8080/"
        },
        "id": "M4qYg4uCq4XQ",
        "outputId": "9c496de5-e9de-468b-bdb9-6326e8d17a0f"
      },
      "execution_count": null,
      "outputs": [
        {
          "output_type": "execute_result",
          "data": {
            "text/plain": [
              "array([1, 2, 3, 4, 5])"
            ]
          },
          "metadata": {},
          "execution_count": 116
        }
      ]
    },
    {
      "cell_type": "code",
      "source": [
        "id(numbers)"
      ],
      "metadata": {
        "colab": {
          "base_uri": "https://localhost:8080/"
        },
        "id": "UXrrpxSYq8Qe",
        "outputId": "94b5d54d-ce63-4d0b-e514-998a6d900727"
      },
      "execution_count": null,
      "outputs": [
        {
          "output_type": "execute_result",
          "data": {
            "text/plain": [
              "140475233913904"
            ]
          },
          "metadata": {},
          "execution_count": 117
        }
      ]
    },
    {
      "cell_type": "code",
      "source": [
        "id(numbers2)"
      ],
      "metadata": {
        "colab": {
          "base_uri": "https://localhost:8080/"
        },
        "id": "6723A3kUq9fa",
        "outputId": "d9561eaf-25f7-4c46-95fa-c4228510b416"
      },
      "execution_count": null,
      "outputs": [
        {
          "output_type": "execute_result",
          "data": {
            "text/plain": [
              "140475233976016"
            ]
          },
          "metadata": {},
          "execution_count": 119
        }
      ]
    },
    {
      "cell_type": "code",
      "source": [
        "numbers[1] *= 10"
      ],
      "metadata": {
        "id": "blXzvWmDq--9"
      },
      "execution_count": null,
      "outputs": []
    },
    {
      "cell_type": "code",
      "source": [
        "numbers"
      ],
      "metadata": {
        "colab": {
          "base_uri": "https://localhost:8080/"
        },
        "id": "kJCZ5MGxrFme",
        "outputId": "5021fe5f-b3cd-4556-af91-4a08a706893d"
      },
      "execution_count": null,
      "outputs": [
        {
          "output_type": "execute_result",
          "data": {
            "text/plain": [
              "array([ 1, 20,  3,  4,  5])"
            ]
          },
          "metadata": {},
          "execution_count": 121
        }
      ]
    },
    {
      "cell_type": "code",
      "source": [
        "numbers2"
      ],
      "metadata": {
        "colab": {
          "base_uri": "https://localhost:8080/"
        },
        "id": "auYve1RnrG42",
        "outputId": "51a0f6c0-0ddc-4f35-9807-5bdb567c7823"
      },
      "execution_count": null,
      "outputs": [
        {
          "output_type": "execute_result",
          "data": {
            "text/plain": [
              "array([ 1, 20,  3,  4,  5])"
            ]
          },
          "metadata": {},
          "execution_count": 122
        }
      ]
    },
    {
      "cell_type": "code",
      "source": [
        "numbers2[1] /= 10"
      ],
      "metadata": {
        "id": "gDEOdTdWrI1I"
      },
      "execution_count": null,
      "outputs": []
    },
    {
      "cell_type": "code",
      "source": [
        "numbers"
      ],
      "metadata": {
        "colab": {
          "base_uri": "https://localhost:8080/"
        },
        "id": "JFI3SGhMrXDe",
        "outputId": "4ee3bfd2-e0f5-46b2-fad7-1abf5aeae026"
      },
      "execution_count": null,
      "outputs": [
        {
          "output_type": "execute_result",
          "data": {
            "text/plain": [
              "array([1, 2, 3, 4, 5])"
            ]
          },
          "metadata": {},
          "execution_count": 125
        }
      ]
    },
    {
      "cell_type": "code",
      "source": [],
      "metadata": {
        "id": "Cbj4T2wcrZTX"
      },
      "execution_count": null,
      "outputs": []
    },
    {
      "cell_type": "code",
      "source": [
        "numbers2[1] *= 10"
      ],
      "metadata": {
        "id": "VOZNOSVxmK2o"
      },
      "execution_count": null,
      "outputs": []
    },
    {
      "cell_type": "code",
      "source": [
        "numbers2"
      ],
      "metadata": {
        "colab": {
          "base_uri": "https://localhost:8080/"
        },
        "id": "esl4CiM9mPEM",
        "outputId": "1460341f-58d1-478d-8baf-f2012b8eb81a"
      },
      "execution_count": null,
      "outputs": [
        {
          "output_type": "execute_result",
          "data": {
            "text/plain": [
              "array([ 1, 20,  3,  4,  5])"
            ]
          },
          "metadata": {},
          "execution_count": 127
        }
      ]
    },
    {
      "cell_type": "code",
      "source": [
        "numbers"
      ],
      "metadata": {
        "colab": {
          "base_uri": "https://localhost:8080/"
        },
        "id": "ooX6_WnwmNNA",
        "outputId": "2f6653cd-8a65-4931-9c43-c4a9a829f796"
      },
      "execution_count": null,
      "outputs": [
        {
          "output_type": "execute_result",
          "data": {
            "text/plain": [
              "array([ 1, 20,  3,  4,  5])"
            ]
          },
          "metadata": {},
          "execution_count": 128
        }
      ]
    },
    {
      "cell_type": "code",
      "source": [
        "print(numbers2.base)"
      ],
      "metadata": {
        "colab": {
          "base_uri": "https://localhost:8080/"
        },
        "id": "yRdZm3k8rnYE",
        "outputId": "0636b74b-1989-4cb9-b1a1-1e18ff4bb4c8"
      },
      "execution_count": null,
      "outputs": [
        {
          "output_type": "stream",
          "name": "stdout",
          "text": [
            "[ 1 20  3  4  5]\n"
          ]
        }
      ]
    },
    {
      "cell_type": "code",
      "source": [
        "print(numbers.base)"
      ],
      "metadata": {
        "colab": {
          "base_uri": "https://localhost:8080/"
        },
        "id": "ESB1ovi9rq-v",
        "outputId": "e6cbe69e-634c-4a5a-c7d9-a6a64161cb4c"
      },
      "execution_count": null,
      "outputs": [
        {
          "output_type": "stream",
          "name": "stdout",
          "text": [
            "None\n"
          ]
        }
      ]
    },
    {
      "cell_type": "code",
      "source": [],
      "metadata": {
        "id": "syiwtomrrt1n"
      },
      "execution_count": null,
      "outputs": []
    },
    {
      "cell_type": "markdown",
      "metadata": {
        "id": "qFCxaD_9NQTW"
      },
      "source": [
        "### Views de fatiamentos"
      ]
    },
    {
      "cell_type": "code",
      "execution_count": null,
      "metadata": {
        "id": "hIvW6H3-NQTW"
      },
      "outputs": [],
      "source": [
        "numbers2 = numbers[0:3]"
      ]
    },
    {
      "cell_type": "code",
      "execution_count": null,
      "metadata": {
        "id": "NnGdk1CgNQTX",
        "colab": {
          "base_uri": "https://localhost:8080/"
        },
        "outputId": "c79952a4-2b74-4e06-fd2e-985e92b74d02"
      },
      "outputs": [
        {
          "output_type": "execute_result",
          "data": {
            "text/plain": [
              "array([ 1, 20,  3])"
            ]
          },
          "metadata": {},
          "execution_count": 132
        }
      ],
      "source": [
        "numbers2"
      ]
    },
    {
      "cell_type": "code",
      "source": [
        "id(numbers)"
      ],
      "metadata": {
        "colab": {
          "base_uri": "https://localhost:8080/"
        },
        "id": "DhzEI5_Yr2fx",
        "outputId": "fad5876e-5d7a-4b9a-926e-dd48b8a69d71"
      },
      "execution_count": null,
      "outputs": [
        {
          "output_type": "execute_result",
          "data": {
            "text/plain": [
              "140475233913904"
            ]
          },
          "metadata": {},
          "execution_count": 133
        }
      ]
    },
    {
      "cell_type": "code",
      "source": [
        "id(numbers2)"
      ],
      "metadata": {
        "colab": {
          "base_uri": "https://localhost:8080/"
        },
        "id": "xtxX5pkMr3gO",
        "outputId": "84c83b3d-f342-4b10-d235-81290be108f9"
      },
      "execution_count": null,
      "outputs": [
        {
          "output_type": "execute_result",
          "data": {
            "text/plain": [
              "140475233668720"
            ]
          },
          "metadata": {},
          "execution_count": 134
        }
      ]
    },
    {
      "cell_type": "code",
      "source": [
        "numbers *= 2"
      ],
      "metadata": {
        "id": "9BBEHlPUr4i3"
      },
      "execution_count": null,
      "outputs": []
    },
    {
      "cell_type": "code",
      "source": [
        "numbers2"
      ],
      "metadata": {
        "colab": {
          "base_uri": "https://localhost:8080/"
        },
        "id": "bjkWK7acr8du",
        "outputId": "33377094-dc6f-4139-d494-899893545713"
      },
      "execution_count": null,
      "outputs": [
        {
          "output_type": "execute_result",
          "data": {
            "text/plain": [
              "array([ 2, 40,  6])"
            ]
          },
          "metadata": {},
          "execution_count": 137
        }
      ]
    },
    {
      "cell_type": "code",
      "source": [],
      "metadata": {
        "id": "5-eP6cswr9Xo"
      },
      "execution_count": null,
      "outputs": []
    },
    {
      "cell_type": "markdown",
      "metadata": {
        "id": "tRe1aKMfNQTZ"
      },
      "source": [
        "# 12 Cópias profundas"
      ]
    },
    {
      "cell_type": "code",
      "execution_count": null,
      "metadata": {
        "id": "Vwwz_8Z8NQTZ"
      },
      "outputs": [],
      "source": [
        "import numpy as np"
      ]
    },
    {
      "cell_type": "code",
      "execution_count": null,
      "metadata": {
        "id": "szsErUKRNQTZ"
      },
      "outputs": [],
      "source": [
        "numbers = np.arange(1, 6)"
      ]
    },
    {
      "cell_type": "code",
      "execution_count": null,
      "metadata": {
        "id": "s9YOL1WdNQTZ",
        "colab": {
          "base_uri": "https://localhost:8080/"
        },
        "outputId": "9a22021a-61b5-4e8e-df3e-e29ccf4c4f1e"
      },
      "outputs": [
        {
          "output_type": "execute_result",
          "data": {
            "text/plain": [
              "array([1, 2, 3, 4, 5])"
            ]
          },
          "metadata": {},
          "execution_count": 140
        }
      ],
      "source": [
        "numbers"
      ]
    },
    {
      "cell_type": "code",
      "source": [
        "numbers2 = numbers.copy()"
      ],
      "metadata": {
        "id": "09ElT0cSsFBz"
      },
      "execution_count": null,
      "outputs": []
    },
    {
      "cell_type": "code",
      "source": [
        "numbers2"
      ],
      "metadata": {
        "colab": {
          "base_uri": "https://localhost:8080/"
        },
        "id": "gUdBtVZssG-W",
        "outputId": "12a4818c-7ee2-4a21-86c8-139ed9001559"
      },
      "execution_count": null,
      "outputs": [
        {
          "output_type": "execute_result",
          "data": {
            "text/plain": [
              "array([1, 2, 3, 4, 5])"
            ]
          },
          "metadata": {},
          "execution_count": 142
        }
      ]
    },
    {
      "cell_type": "code",
      "source": [
        "print(numbers2.base)"
      ],
      "metadata": {
        "colab": {
          "base_uri": "https://localhost:8080/"
        },
        "id": "bO45gMqbsH7n",
        "outputId": "b5adad7b-5505-47fa-fa06-851a1633b8be"
      },
      "execution_count": null,
      "outputs": [
        {
          "output_type": "stream",
          "name": "stdout",
          "text": [
            "None\n"
          ]
        }
      ]
    },
    {
      "cell_type": "code",
      "source": [],
      "metadata": {
        "id": "rsym6BxysJDG"
      },
      "execution_count": null,
      "outputs": []
    },
    {
      "cell_type": "markdown",
      "metadata": {
        "id": "eW8MnoN5NQTb"
      },
      "source": [
        "# 13 Reformulando e Transpondo"
      ]
    },
    {
      "cell_type": "markdown",
      "metadata": {
        "id": "wnuVjjkcNQTb"
      },
      "source": [
        "### `reshape` vs. `resize` "
      ]
    },
    {
      "cell_type": "markdown",
      "source": [
        "O método reshape retorna uma visão (cópia rasa) da matriz original com as novas dimensões."
      ],
      "metadata": {
        "id": "Jp4I8i72okYz"
      }
    },
    {
      "cell_type": "code",
      "execution_count": null,
      "metadata": {
        "id": "E8LQ29y6NQTb"
      },
      "outputs": [],
      "source": [
        "import numpy as np"
      ]
    },
    {
      "cell_type": "code",
      "execution_count": null,
      "metadata": {
        "id": "oOnzlpSANQTb"
      },
      "outputs": [],
      "source": [
        "grades = np.array([[87, 96, 70], [100, 87, 90]])"
      ]
    },
    {
      "cell_type": "code",
      "source": [
        "grades"
      ],
      "metadata": {
        "colab": {
          "base_uri": "https://localhost:8080/"
        },
        "id": "5CjKBxrmsQ3c",
        "outputId": "0d53c581-015c-4be8-d434-6026f6f76a02"
      },
      "execution_count": null,
      "outputs": [
        {
          "output_type": "execute_result",
          "data": {
            "text/plain": [
              "array([[ 87,  96,  70],\n",
              "       [100,  87,  90]])"
            ]
          },
          "metadata": {},
          "execution_count": 147
        }
      ]
    },
    {
      "cell_type": "code",
      "source": [
        "grades.reshape(1,6)"
      ],
      "metadata": {
        "colab": {
          "base_uri": "https://localhost:8080/"
        },
        "id": "AxHysH_msRPN",
        "outputId": "d17a3a8f-77cd-4483-a16e-51ba9495fc8e"
      },
      "execution_count": null,
      "outputs": [
        {
          "output_type": "execute_result",
          "data": {
            "text/plain": [
              "array([[ 87,  96,  70, 100,  87,  90]])"
            ]
          },
          "metadata": {},
          "execution_count": 148
        }
      ]
    },
    {
      "cell_type": "code",
      "source": [
        "grades"
      ],
      "metadata": {
        "colab": {
          "base_uri": "https://localhost:8080/"
        },
        "id": "8fxe1pXWsVyX",
        "outputId": "cb0846fb-f6a0-4d8c-b7b2-d52a7c43795b"
      },
      "execution_count": null,
      "outputs": [
        {
          "output_type": "execute_result",
          "data": {
            "text/plain": [
              "array([[ 87,  96,  70],\n",
              "       [100,  87,  90]])"
            ]
          },
          "metadata": {},
          "execution_count": 149
        }
      ]
    },
    {
      "cell_type": "markdown",
      "source": [
        "O método resize modifica a forma do array original:"
      ],
      "metadata": {
        "id": "jCRV6O2qopSx"
      }
    },
    {
      "cell_type": "code",
      "execution_count": null,
      "metadata": {
        "id": "uEhnzPCMNQTc"
      },
      "outputs": [],
      "source": [
        "grades.resize(1, 6)"
      ]
    },
    {
      "cell_type": "code",
      "source": [
        "grades"
      ],
      "metadata": {
        "colab": {
          "base_uri": "https://localhost:8080/"
        },
        "id": "GzOcW9D1sXMf",
        "outputId": "3fba721e-0a46-47e1-bb38-a69e0eb64ea4"
      },
      "execution_count": null,
      "outputs": [
        {
          "output_type": "execute_result",
          "data": {
            "text/plain": [
              "array([[ 87,  96,  70, 100,  87,  90]])"
            ]
          },
          "metadata": {},
          "execution_count": 151
        }
      ]
    },
    {
      "cell_type": "code",
      "source": [],
      "metadata": {
        "id": "JGWbebwbsekn"
      },
      "execution_count": null,
      "outputs": []
    },
    {
      "cell_type": "markdown",
      "metadata": {
        "id": "gP-6GvWpNQTc"
      },
      "source": [
        "### `flatten` vs. `ravel` "
      ]
    },
    {
      "cell_type": "markdown",
      "source": [
        "O método flatten cria uma cópia profunda do original"
      ],
      "metadata": {
        "id": "Ho_TTGeeo2Sm"
      }
    },
    {
      "cell_type": "code",
      "execution_count": null,
      "metadata": {
        "id": "APjV1ne_NQTc"
      },
      "outputs": [],
      "source": [
        "grades = np.array([[87, 96, 70], [100, 87, 90]])"
      ]
    },
    {
      "cell_type": "code",
      "execution_count": null,
      "metadata": {
        "id": "GPLn9JIPNQTc",
        "colab": {
          "base_uri": "https://localhost:8080/"
        },
        "outputId": "87731618-f705-4591-fa62-a083105f3de0"
      },
      "outputs": [
        {
          "output_type": "execute_result",
          "data": {
            "text/plain": [
              "array([[ 87,  96,  70],\n",
              "       [100,  87,  90]])"
            ]
          },
          "metadata": {},
          "execution_count": 153
        }
      ],
      "source": [
        "grades"
      ]
    },
    {
      "cell_type": "code",
      "source": [
        "flattened = grades.flatten()"
      ],
      "metadata": {
        "id": "-Tf8QoNisi6K"
      },
      "execution_count": null,
      "outputs": []
    },
    {
      "cell_type": "code",
      "source": [
        "grades"
      ],
      "metadata": {
        "colab": {
          "base_uri": "https://localhost:8080/"
        },
        "id": "in4VzMxXskFG",
        "outputId": "e65c7837-6738-4e88-fee5-eff79a368856"
      },
      "execution_count": null,
      "outputs": [
        {
          "output_type": "execute_result",
          "data": {
            "text/plain": [
              "array([[ 87,  96,  70],\n",
              "       [100,  87,  90]])"
            ]
          },
          "metadata": {},
          "execution_count": 158
        }
      ]
    },
    {
      "cell_type": "code",
      "source": [
        "flattened"
      ],
      "metadata": {
        "colab": {
          "base_uri": "https://localhost:8080/"
        },
        "id": "H-ujeoVAsmj_",
        "outputId": "c71204d7-21c4-476d-9634-543e9c5dd681"
      },
      "execution_count": null,
      "outputs": [
        {
          "output_type": "execute_result",
          "data": {
            "text/plain": [
              "array([ 87,  96,  70, 100,  87,  90])"
            ]
          },
          "metadata": {},
          "execution_count": 159
        }
      ]
    },
    {
      "cell_type": "code",
      "source": [
        "flattened[0] = 100"
      ],
      "metadata": {
        "id": "tq1oyWLpsv8C"
      },
      "execution_count": null,
      "outputs": []
    },
    {
      "cell_type": "code",
      "source": [
        "flattened"
      ],
      "metadata": {
        "colab": {
          "base_uri": "https://localhost:8080/"
        },
        "id": "cU0uUDbns3-H",
        "outputId": "931ae444-e3f7-4201-ebfc-78b0681bcccd"
      },
      "execution_count": null,
      "outputs": [
        {
          "output_type": "execute_result",
          "data": {
            "text/plain": [
              "array([100,  96,  70, 100,  87,  90])"
            ]
          },
          "metadata": {},
          "execution_count": 162
        }
      ]
    },
    {
      "cell_type": "code",
      "source": [
        "grades"
      ],
      "metadata": {
        "colab": {
          "base_uri": "https://localhost:8080/"
        },
        "id": "MdYTGplesyyH",
        "outputId": "4cfd06c7-2b4d-418b-9cb4-dcfc87365d6c"
      },
      "execution_count": null,
      "outputs": [
        {
          "output_type": "execute_result",
          "data": {
            "text/plain": [
              "array([[ 87,  96,  70],\n",
              "       [100,  87,  90]])"
            ]
          },
          "metadata": {},
          "execution_count": 161
        }
      ]
    },
    {
      "cell_type": "code",
      "source": [],
      "metadata": {
        "id": "3y7nSCshs1EI"
      },
      "execution_count": null,
      "outputs": []
    },
    {
      "cell_type": "markdown",
      "source": [
        "O método ravel produz uma visão do array original, que compartilha os dados do array grades:"
      ],
      "metadata": {
        "id": "nKoMuRuwpDZJ"
      }
    },
    {
      "cell_type": "code",
      "execution_count": null,
      "metadata": {
        "id": "Lh0n0iRNNQTd"
      },
      "outputs": [],
      "source": [
        "raveled = grades.ravel()"
      ]
    },
    {
      "cell_type": "code",
      "source": [
        "raveled"
      ],
      "metadata": {
        "colab": {
          "base_uri": "https://localhost:8080/"
        },
        "id": "4jHOlKCls_lf",
        "outputId": "d55eeed8-83ca-4153-ee44-8c4f7983cf8d"
      },
      "execution_count": null,
      "outputs": [
        {
          "output_type": "execute_result",
          "data": {
            "text/plain": [
              "array([ 87,  96,  70, 100,  87,  90])"
            ]
          },
          "metadata": {},
          "execution_count": 164
        }
      ]
    },
    {
      "cell_type": "code",
      "source": [
        "grades\n"
      ],
      "metadata": {
        "colab": {
          "base_uri": "https://localhost:8080/"
        },
        "id": "xdPetFhWtANe",
        "outputId": "3ce12c42-e694-49c5-f257-ee5d92ba8212"
      },
      "execution_count": null,
      "outputs": [
        {
          "output_type": "execute_result",
          "data": {
            "text/plain": [
              "array([[ 87,  96,  70],\n",
              "       [100,  87,  90]])"
            ]
          },
          "metadata": {},
          "execution_count": 165
        }
      ]
    },
    {
      "cell_type": "code",
      "source": [
        "raveled[0]=100"
      ],
      "metadata": {
        "id": "e3xfhpIwtBtn"
      },
      "execution_count": null,
      "outputs": []
    },
    {
      "cell_type": "code",
      "source": [
        "raveled"
      ],
      "metadata": {
        "colab": {
          "base_uri": "https://localhost:8080/"
        },
        "id": "Za91OE25tD3v",
        "outputId": "4f8d1473-4576-42a2-c447-62b5ff1e9bcb"
      },
      "execution_count": null,
      "outputs": [
        {
          "output_type": "execute_result",
          "data": {
            "text/plain": [
              "array([100,  96,  70, 100,  87,  90])"
            ]
          },
          "metadata": {},
          "execution_count": 168
        }
      ]
    },
    {
      "cell_type": "code",
      "source": [
        "grades"
      ],
      "metadata": {
        "colab": {
          "base_uri": "https://localhost:8080/"
        },
        "id": "-mPm7g08tHUh",
        "outputId": "ab6382b4-57cf-4b98-bda3-5ef9a2cc9a27"
      },
      "execution_count": null,
      "outputs": [
        {
          "output_type": "execute_result",
          "data": {
            "text/plain": [
              "array([[100,  96,  70],\n",
              "       [100,  87,  90]])"
            ]
          },
          "metadata": {},
          "execution_count": 169
        }
      ]
    },
    {
      "cell_type": "code",
      "source": [],
      "metadata": {
        "id": "1cmjCELTtH0_"
      },
      "execution_count": null,
      "outputs": []
    },
    {
      "cell_type": "markdown",
      "metadata": {
        "id": "7f_doN0kNQTe"
      },
      "source": [
        "### Transpondo linhas e colunas"
      ]
    },
    {
      "cell_type": "code",
      "source": [
        "grades"
      ],
      "metadata": {
        "colab": {
          "base_uri": "https://localhost:8080/"
        },
        "id": "DO9lakYptNvF",
        "outputId": "46aff3db-f154-408b-ce84-11e060bb29b8"
      },
      "execution_count": null,
      "outputs": [
        {
          "output_type": "execute_result",
          "data": {
            "text/plain": [
              "array([[100,  96,  70],\n",
              "       [100,  87,  90]])"
            ]
          },
          "metadata": {},
          "execution_count": 170
        }
      ]
    },
    {
      "cell_type": "code",
      "execution_count": null,
      "metadata": {
        "id": "uxIt3UUPNQTe",
        "colab": {
          "base_uri": "https://localhost:8080/"
        },
        "outputId": "f3ef87e9-72c3-4bb6-d566-73fab7ee9eea"
      },
      "outputs": [
        {
          "output_type": "execute_result",
          "data": {
            "text/plain": [
              "array([[100, 100],\n",
              "       [ 96,  87],\n",
              "       [ 70,  90]])"
            ]
          },
          "metadata": {},
          "execution_count": 171
        }
      ],
      "source": [
        "grades.T"
      ]
    },
    {
      "cell_type": "markdown",
      "metadata": {
        "id": "rmiHVrSeNQTf"
      },
      "source": [
        "### Empilhamento horizontal e vertical"
      ]
    },
    {
      "cell_type": "code",
      "execution_count": null,
      "metadata": {
        "id": "XlkHzqtqNQTf"
      },
      "outputs": [],
      "source": [
        "grades2 = np.array([[94, 77, 90], [100, 81, 82]])"
      ]
    },
    {
      "cell_type": "code",
      "source": [
        "grades2"
      ],
      "metadata": {
        "colab": {
          "base_uri": "https://localhost:8080/"
        },
        "id": "1BdDBnPnpYTP",
        "outputId": "89233e0e-3b4d-4cad-a666-3ae373e0393f"
      },
      "execution_count": null,
      "outputs": [
        {
          "output_type": "execute_result",
          "data": {
            "text/plain": [
              "array([[ 94,  77,  90],\n",
              "       [100,  81,  82]])"
            ]
          },
          "metadata": {},
          "execution_count": 173
        }
      ]
    },
    {
      "cell_type": "code",
      "execution_count": null,
      "metadata": {
        "id": "oox7h2JuNQTf",
        "colab": {
          "base_uri": "https://localhost:8080/"
        },
        "outputId": "3e3d9792-31ed-480c-9141-f769007b4a66"
      },
      "outputs": [
        {
          "output_type": "execute_result",
          "data": {
            "text/plain": [
              "array([[100,  96,  70,  94,  77,  90],\n",
              "       [100,  87,  90, 100,  81,  82]])"
            ]
          },
          "metadata": {},
          "execution_count": 174
        }
      ],
      "source": [
        "np.hstack((grades, grades2))"
      ]
    },
    {
      "cell_type": "code",
      "source": [
        "np.vstack((grades, grades2))"
      ],
      "metadata": {
        "colab": {
          "base_uri": "https://localhost:8080/"
        },
        "id": "uQoWmkevtajU",
        "outputId": "64057e81-51fe-4e9f-8eab-6b30b86e6849"
      },
      "execution_count": null,
      "outputs": [
        {
          "output_type": "execute_result",
          "data": {
            "text/plain": [
              "array([[100,  96,  70],\n",
              "       [100,  87,  90],\n",
              "       [ 94,  77,  90],\n",
              "       [100,  81,  82]])"
            ]
          },
          "metadata": {},
          "execution_count": 175
        }
      ]
    },
    {
      "cell_type": "code",
      "source": [],
      "metadata": {
        "id": "iPRa6HDJtbMn"
      },
      "execution_count": null,
      "outputs": []
    },
    {
      "cell_type": "markdown",
      "metadata": {
        "id": "HURVA31nNQTf"
      },
      "source": [
        "## Atividade "
      ]
    },
    {
      "cell_type": "markdown",
      "metadata": {
        "id": "IcFdQq9TNQTg"
      },
      "source": [
        "Dado um `array` 2-por-3 :\n",
        "```python \n",
        "array([[1, 2, 3],\n",
        "       [4, 5, 6]])\n",
        "```\n",
        "use `hstack` e `vstack` para produzir o seguinte `array`:\n",
        "```python\n",
        "array([[1, 2, 3, 1, 2, 3],\n",
        "       [4, 5, 6, 4, 5, 6],\n",
        "       [1, 2, 3, 1, 2, 3],\n",
        "       [4, 5, 6, 4, 5, 6]])\n",
        "```\n",
        "\n"
      ]
    },
    {
      "cell_type": "markdown",
      "source": [
        "Resposta"
      ],
      "metadata": {
        "id": "_WMmqYeWpvOZ"
      }
    },
    {
      "cell_type": "code",
      "source": [],
      "metadata": {
        "id": "mugJrfl-tehn"
      },
      "execution_count": null,
      "outputs": []
    },
    {
      "cell_type": "markdown",
      "source": [
        "# 14 Pandas"
      ],
      "metadata": {
        "id": "HXtSvS8lp-Y-"
      }
    },
    {
      "cell_type": "markdown",
      "source": [
        "A matriz do NumPy é otimizada para dados numéricos homogêneos que são acessados por meio de índices inteiros. \n",
        "\n",
        "A ciência de dados apresenta demandas únicas para as quais são necessárias estruturas de dados mais personalizadas."
      ],
      "metadata": {
        "id": "u-i1YEyxqWl7"
      }
    },
    {
      "cell_type": "markdown",
      "source": [
        "Pandas é a biblioteca mais popular para lidar com esses dados. \n",
        "\n",
        "Ele fornece duas coleções de chaves que você usará em várias de nossas seções de Introdução à ciência de dados e em todos os estudos de caso de ciência de dados — Séries para coleções unidimensionais e DataFrames para coleções bidimensionais."
      ],
      "metadata": {
        "id": "IAK4qoGaqhe3"
      }
    },
    {
      "cell_type": "markdown",
      "source": [
        "Wes McKinney criou pandas em 2008 enquanto trabalhava na indústria. O nome pandas é derivado do termo “dados do painel”, que são dados para medições ao longo do tempo, como preços de ações ou leituras históricas de temperatura. "
      ],
      "metadata": {
        "id": "CJMi2R_jt1UP"
      }
    },
    {
      "cell_type": "markdown",
      "source": [
        "McKinney precisava de uma biblioteca na qual as mesmas estruturas de dados pudessem lidar com dados temporais e não baseados em tempo com suporte para alinhamento de dados, dados ausentes, manipulações comuns de dados no estilo de banco de dados e muito mais."
      ],
      "metadata": {
        "id": "QQOSofgGt9Rs"
      }
    },
    {
      "cell_type": "markdown",
      "source": [
        "NumPy e pandas estão intimamente relacionados. \n",
        "\n",
        "Series e DataFrames usam arrays “sob o capô”. Series e DataFrames são argumentos válidos para muitas operações NumPy. Da mesma forma, os arrays são argumentos válidos para muitas operações Series e DataFrame."
      ],
      "metadata": {
        "id": "CV_5x-NnuFX0"
      }
    },
    {
      "cell_type": "markdown",
      "metadata": {
        "id": "zHmXsG_JNQTh"
      },
      "source": [
        "## Pandas `Series` "
      ]
    },
    {
      "cell_type": "markdown",
      "metadata": {
        "id": "0yg3TmNUNQTh"
      },
      "source": [
        "### Criando `Series` com índices padrão"
      ]
    },
    {
      "cell_type": "code",
      "execution_count": null,
      "metadata": {
        "id": "q5XQJ6C8NQTh"
      },
      "outputs": [],
      "source": [
        "import pandas as pd"
      ]
    },
    {
      "cell_type": "code",
      "source": [
        "grades = pd.Series([87, 100, 94])"
      ],
      "metadata": {
        "id": "BTPzhnVpvRai"
      },
      "execution_count": null,
      "outputs": []
    },
    {
      "cell_type": "code",
      "source": [],
      "metadata": {
        "id": "AZfJvxWivXkn"
      },
      "execution_count": null,
      "outputs": []
    },
    {
      "cell_type": "markdown",
      "metadata": {
        "id": "xA1rwvIRNQTh"
      },
      "source": [
        "### Exibindo `Series`"
      ]
    },
    {
      "cell_type": "code",
      "execution_count": null,
      "metadata": {
        "id": "i4AYzolkNQTh",
        "outputId": "595e5b98-d3df-4d2c-fd02-70ee50369bb8",
        "colab": {
          "base_uri": "https://localhost:8080/"
        }
      },
      "outputs": [
        {
          "output_type": "execute_result",
          "data": {
            "text/plain": [
              "0     87\n",
              "1    100\n",
              "2     94\n",
              "dtype: int64"
            ]
          },
          "metadata": {},
          "execution_count": 178
        }
      ],
      "source": [
        "grades"
      ]
    },
    {
      "cell_type": "code",
      "source": [
        "type(grades)"
      ],
      "metadata": {
        "colab": {
          "base_uri": "https://localhost:8080/"
        },
        "id": "FZPgYhpFvrly",
        "outputId": "53d60abe-6b56-4859-a194-0ae49a53e94f"
      },
      "execution_count": null,
      "outputs": [
        {
          "output_type": "execute_result",
          "data": {
            "text/plain": [
              "pandas.core.series.Series"
            ]
          },
          "metadata": {},
          "execution_count": 179
        }
      ]
    },
    {
      "cell_type": "markdown",
      "metadata": {
        "id": "NoigQGSTNQTi"
      },
      "source": [
        "### Criando uma `Série` com todos os elementos com o mesmo valor"
      ]
    },
    {
      "cell_type": "code",
      "source": [
        "pd.Series(98.6, range(3))"
      ],
      "metadata": {
        "colab": {
          "base_uri": "https://localhost:8080/"
        },
        "id": "WnPE8Pg7vliX",
        "outputId": "9acb94b2-7328-46f7-82d3-980ca3ba55d7"
      },
      "execution_count": null,
      "outputs": [
        {
          "output_type": "execute_result",
          "data": {
            "text/plain": [
              "0    98.6\n",
              "1    98.6\n",
              "2    98.6\n",
              "dtype: float64"
            ]
          },
          "metadata": {},
          "execution_count": 180
        }
      ]
    },
    {
      "cell_type": "code",
      "source": [],
      "metadata": {
        "id": "Fo7SwMOev0je"
      },
      "execution_count": null,
      "outputs": []
    },
    {
      "cell_type": "markdown",
      "metadata": {
        "id": "FrBnnebLNQTj"
      },
      "source": [
        "### Acessando elementos de uma `série`"
      ]
    },
    {
      "cell_type": "code",
      "source": [
        "grades[0]"
      ],
      "metadata": {
        "colab": {
          "base_uri": "https://localhost:8080/"
        },
        "id": "IOUQqovUv55p",
        "outputId": "7a28a86c-29ee-4009-8e93-fbb4ec5f197c"
      },
      "execution_count": null,
      "outputs": [
        {
          "output_type": "execute_result",
          "data": {
            "text/plain": [
              "87"
            ]
          },
          "metadata": {},
          "execution_count": 181
        }
      ]
    },
    {
      "cell_type": "code",
      "source": [],
      "metadata": {
        "id": "SED98NbYv6rw"
      },
      "execution_count": null,
      "outputs": []
    },
    {
      "cell_type": "markdown",
      "metadata": {
        "id": "q-bU0LUlNQTj"
      },
      "source": [
        "### Produzindo Estatísticas Descritivas para uma `Série`"
      ]
    },
    {
      "cell_type": "code",
      "execution_count": null,
      "metadata": {
        "id": "qmc0nypENQTj",
        "outputId": "55d62d11-d1d7-43eb-b51c-88cdbaa0f322",
        "colab": {
          "base_uri": "https://localhost:8080/"
        }
      },
      "outputs": [
        {
          "output_type": "execute_result",
          "data": {
            "text/plain": [
              "3"
            ]
          },
          "metadata": {},
          "execution_count": 182
        }
      ],
      "source": [
        "grades.count()"
      ]
    },
    {
      "cell_type": "code",
      "source": [
        "grades.mean()"
      ],
      "metadata": {
        "colab": {
          "base_uri": "https://localhost:8080/"
        },
        "id": "f5kY-SRLv_lk",
        "outputId": "827c1cb2-d483-4a34-fc2f-07087acc2ee8"
      },
      "execution_count": null,
      "outputs": [
        {
          "output_type": "execute_result",
          "data": {
            "text/plain": [
              "93.66666666666667"
            ]
          },
          "metadata": {},
          "execution_count": 183
        }
      ]
    },
    {
      "cell_type": "code",
      "source": [
        "grades.min()"
      ],
      "metadata": {
        "colab": {
          "base_uri": "https://localhost:8080/"
        },
        "id": "EzRqN5thwAwe",
        "outputId": "90ab33a9-21c2-4d80-eeec-c3dbfab0edb1"
      },
      "execution_count": null,
      "outputs": [
        {
          "output_type": "execute_result",
          "data": {
            "text/plain": [
              "87"
            ]
          },
          "metadata": {},
          "execution_count": 184
        }
      ]
    },
    {
      "cell_type": "code",
      "source": [
        "grades"
      ],
      "metadata": {
        "colab": {
          "base_uri": "https://localhost:8080/"
        },
        "id": "dlycGO5rwL7_",
        "outputId": "70dd8a98-8e6e-419f-cacf-cc8e3475fbb4"
      },
      "execution_count": null,
      "outputs": [
        {
          "output_type": "execute_result",
          "data": {
            "text/plain": [
              "0     87\n",
              "1    100\n",
              "2     94\n",
              "dtype: int64"
            ]
          },
          "metadata": {},
          "execution_count": 186
        }
      ]
    },
    {
      "cell_type": "code",
      "source": [
        "sorted(grades)"
      ],
      "metadata": {
        "colab": {
          "base_uri": "https://localhost:8080/"
        },
        "id": "gsCngfRlwmp3",
        "outputId": "4ddc316f-2b22-49c4-d1b6-56b73455241e"
      },
      "execution_count": null,
      "outputs": [
        {
          "output_type": "execute_result",
          "data": {
            "text/plain": [
              "[87, 94, 100]"
            ]
          },
          "metadata": {},
          "execution_count": 190
        }
      ]
    },
    {
      "cell_type": "code",
      "source": [
        "grades.describe()"
      ],
      "metadata": {
        "colab": {
          "base_uri": "https://localhost:8080/"
        },
        "id": "wKL12MLNwCC_",
        "outputId": "f2e7b43f-3c95-44f4-db77-d00e26e75db0"
      },
      "execution_count": null,
      "outputs": [
        {
          "output_type": "execute_result",
          "data": {
            "text/plain": [
              "count      3.000000\n",
              "mean      93.666667\n",
              "std        6.506407\n",
              "min       87.000000\n",
              "25%       90.500000\n",
              "50%       94.000000\n",
              "75%       97.000000\n",
              "max      100.000000\n",
              "dtype: float64"
            ]
          },
          "metadata": {},
          "execution_count": 185
        }
      ]
    },
    {
      "cell_type": "code",
      "source": [],
      "metadata": {
        "id": "FBI_CPAHwF7W"
      },
      "execution_count": null,
      "outputs": []
    },
    {
      "cell_type": "markdown",
      "source": [
        "Os 25%, 50% e 75% são quartis:\n",
        "• 50% representa a mediana dos valores ordenados.\n",
        "• 25% representa a mediana da primeira metade dos valores ordenados.\n",
        "• 75% representa a mediana da segunda metade dos valores ordenados.\n"
      ],
      "metadata": {
        "id": "HeaM1tr758B-"
      }
    },
    {
      "cell_type": "markdown",
      "source": [
        "Para os quartis, se houver dois elementos do meio, sua média será a mediana desse quartil. \n",
        "\n",
        "Temos apenas três valores em nossa série, então o quartil de 25% é a média de 87 e 94, e o quartil de 75% é a média de 94 e 100. \n",
        "\n",
        "Juntos, o intervalo interquartil é o quartil de 75% menos o quartil de 25%. , que é outra medida de dispersão, como desvio padrão e variância. \n",
        "\n",
        "Obviamente, quartis e intervalo interquartil são mais úteis em conjuntos de dados maiores."
      ],
      "metadata": {
        "id": "wb3qbZvh59rH"
      }
    },
    {
      "cell_type": "markdown",
      "metadata": {
        "id": "2iG5hlGaNQTl"
      },
      "source": [
        "### Criando uma `série` com índices personalizados"
      ]
    },
    {
      "cell_type": "code",
      "execution_count": null,
      "metadata": {
        "id": "KD997LhdNQTl"
      },
      "outputs": [],
      "source": [
        "grades = pd.Series([87, 100, 94], index=['Wally', 'Eva', 'Sam'])"
      ]
    },
    {
      "cell_type": "code",
      "source": [
        "grades"
      ],
      "metadata": {
        "colab": {
          "base_uri": "https://localhost:8080/"
        },
        "id": "2y-K5jJ8w8fc",
        "outputId": "a9d3d391-ec10-4be5-bd31-6d5a1629f0c2"
      },
      "execution_count": null,
      "outputs": [
        {
          "output_type": "execute_result",
          "data": {
            "text/plain": [
              "Wally     87\n",
              "Eva      100\n",
              "Sam       94\n",
              "dtype: int64"
            ]
          },
          "metadata": {},
          "execution_count": 192
        }
      ]
    },
    {
      "cell_type": "code",
      "source": [
        "grades.Wally"
      ],
      "metadata": {
        "colab": {
          "base_uri": "https://localhost:8080/"
        },
        "id": "5fkb8HHkw_wY",
        "outputId": "aec428ff-2119-43fe-fc11-a8765837a941"
      },
      "execution_count": null,
      "outputs": [
        {
          "output_type": "execute_result",
          "data": {
            "text/plain": [
              "87"
            ]
          },
          "metadata": {},
          "execution_count": 193
        }
      ]
    },
    {
      "cell_type": "code",
      "source": [
        "grades['Wally']"
      ],
      "metadata": {
        "colab": {
          "base_uri": "https://localhost:8080/"
        },
        "id": "C3KjwuzKxBXu",
        "outputId": "2fbffd77-2e5e-494f-bf8a-2747acb4209e"
      },
      "execution_count": null,
      "outputs": [
        {
          "output_type": "execute_result",
          "data": {
            "text/plain": [
              "87"
            ]
          },
          "metadata": {},
          "execution_count": 194
        }
      ]
    },
    {
      "cell_type": "code",
      "source": [],
      "metadata": {
        "id": "Pyg3a0c0xE3I"
      },
      "execution_count": null,
      "outputs": []
    },
    {
      "cell_type": "markdown",
      "metadata": {
        "id": "w2Io4n6FNQTl"
      },
      "source": [
        "### Inicializadores por dicionário"
      ]
    },
    {
      "cell_type": "code",
      "execution_count": null,
      "metadata": {
        "id": "COhAgwW1NQTl"
      },
      "outputs": [],
      "source": [
        "grades = pd.Series({'Wally': 87, 'Eva': 100, 'Sam': 94})"
      ]
    },
    {
      "cell_type": "code",
      "source": [
        "grades"
      ],
      "metadata": {
        "colab": {
          "base_uri": "https://localhost:8080/"
        },
        "id": "YCeTogptxMBu",
        "outputId": "9226a0b0-9908-4c24-f3d8-491d64369196"
      },
      "execution_count": null,
      "outputs": [
        {
          "output_type": "execute_result",
          "data": {
            "text/plain": [
              "Wally     87\n",
              "Eva      100\n",
              "Sam       94\n",
              "dtype: int64"
            ]
          },
          "metadata": {},
          "execution_count": 196
        }
      ]
    },
    {
      "cell_type": "code",
      "source": [],
      "metadata": {
        "id": "kxh0R8VhxMj3"
      },
      "execution_count": null,
      "outputs": []
    },
    {
      "cell_type": "markdown",
      "metadata": {
        "id": "LsqXuLvHNQTm"
      },
      "source": [
        "### Acessando elementos de uma \"série\" por meio de índices personalizados"
      ]
    },
    {
      "cell_type": "code",
      "execution_count": null,
      "metadata": {
        "id": "PmOf64OxNQTm",
        "outputId": "e3ccb786-f3c9-4afa-cccd-6087e33ff18a",
        "colab": {
          "base_uri": "https://localhost:8080/"
        }
      },
      "outputs": [
        {
          "output_type": "execute_result",
          "data": {
            "text/plain": [
              "100"
            ]
          },
          "metadata": {},
          "execution_count": 197
        }
      ],
      "source": [
        "grades['Eva']"
      ]
    },
    {
      "cell_type": "code",
      "execution_count": null,
      "metadata": {
        "id": "iG7Jfsj3NQTm",
        "outputId": "22b2d325-828d-42fb-e2f3-71ff6468b4d3",
        "colab": {
          "base_uri": "https://localhost:8080/"
        }
      },
      "outputs": [
        {
          "output_type": "execute_result",
          "data": {
            "text/plain": [
              "87"
            ]
          },
          "metadata": {},
          "execution_count": 198
        }
      ],
      "source": [
        "grades.Wally"
      ]
    },
    {
      "cell_type": "code",
      "source": [
        "grades.dtype"
      ],
      "metadata": {
        "colab": {
          "base_uri": "https://localhost:8080/"
        },
        "id": "4pqI0IwOxSUC",
        "outputId": "ca3bf6e3-ca16-4504-ad19-dd28b3ac62f3"
      },
      "execution_count": null,
      "outputs": [
        {
          "output_type": "execute_result",
          "data": {
            "text/plain": [
              "dtype('int64')"
            ]
          },
          "metadata": {},
          "execution_count": 199
        }
      ]
    },
    {
      "cell_type": "code",
      "source": [
        "grades.values"
      ],
      "metadata": {
        "colab": {
          "base_uri": "https://localhost:8080/"
        },
        "id": "ILTs3hAxxTRu",
        "outputId": "4c2e4839-71e2-4027-9971-4749e358d655"
      },
      "execution_count": null,
      "outputs": [
        {
          "output_type": "execute_result",
          "data": {
            "text/plain": [
              "array([ 87, 100,  94])"
            ]
          },
          "metadata": {},
          "execution_count": 200
        }
      ]
    },
    {
      "cell_type": "code",
      "source": [],
      "metadata": {
        "id": "Hrg9UjHbxVMm"
      },
      "execution_count": null,
      "outputs": []
    },
    {
      "cell_type": "markdown",
      "metadata": {
        "id": "cBBFVIp-NQTn"
      },
      "source": [
        "### Criando uma série de strings"
      ]
    },
    {
      "cell_type": "code",
      "execution_count": null,
      "metadata": {
        "id": "pQC0Epg_NQTn"
      },
      "outputs": [],
      "source": [
        "hardware = pd.Series(['Hammer', 'Saw', 'Wrench'])"
      ]
    },
    {
      "cell_type": "code",
      "source": [
        "hardware"
      ],
      "metadata": {
        "colab": {
          "base_uri": "https://localhost:8080/"
        },
        "id": "FFlRGasixf-v",
        "outputId": "f3ca4e87-c333-4d1a-98dc-576de2177ce7"
      },
      "execution_count": null,
      "outputs": [
        {
          "output_type": "execute_result",
          "data": {
            "text/plain": [
              "0    Hammer\n",
              "1       Saw\n",
              "2    Wrench\n",
              "dtype: object"
            ]
          },
          "metadata": {},
          "execution_count": 202
        }
      ]
    },
    {
      "cell_type": "code",
      "source": [
        "hardware.str.contains('a')"
      ],
      "metadata": {
        "colab": {
          "base_uri": "https://localhost:8080/"
        },
        "id": "icvMCNZmxgmB",
        "outputId": "267dfe55-23fd-4cbf-9af9-f199291aa1f8"
      },
      "execution_count": null,
      "outputs": [
        {
          "output_type": "execute_result",
          "data": {
            "text/plain": [
              "0     True\n",
              "1     True\n",
              "2    False\n",
              "dtype: bool"
            ]
          },
          "metadata": {},
          "execution_count": 203
        }
      ]
    },
    {
      "cell_type": "code",
      "source": [
        "hardware.str.upper()"
      ],
      "metadata": {
        "colab": {
          "base_uri": "https://localhost:8080/"
        },
        "id": "qqeWco55xtjn",
        "outputId": "f2c4692c-e81b-4fcc-a9ed-1a9eecb84eba"
      },
      "execution_count": null,
      "outputs": [
        {
          "output_type": "execute_result",
          "data": {
            "text/plain": [
              "0    HAMMER\n",
              "1       SAW\n",
              "2    WRENCH\n",
              "dtype: object"
            ]
          },
          "metadata": {},
          "execution_count": 204
        }
      ]
    },
    {
      "cell_type": "code",
      "source": [
        "hardware"
      ],
      "metadata": {
        "colab": {
          "base_uri": "https://localhost:8080/"
        },
        "id": "b2o--EQOx2C3",
        "outputId": "656b9b75-850a-4822-a2b7-aceb148cf574"
      },
      "execution_count": null,
      "outputs": [
        {
          "output_type": "execute_result",
          "data": {
            "text/plain": [
              "0    Hammer\n",
              "1       Saw\n",
              "2    Wrench\n",
              "dtype: object"
            ]
          },
          "metadata": {},
          "execution_count": 205
        }
      ]
    },
    {
      "cell_type": "code",
      "source": [],
      "metadata": {
        "id": "s1kxwVfgx4K3"
      },
      "execution_count": null,
      "outputs": []
    },
    {
      "cell_type": "markdown",
      "metadata": {
        "id": "1QzoVmCGNQTo"
      },
      "source": [
        "## Atividade "
      ]
    },
    {
      "cell_type": "markdown",
      "metadata": {
        "id": "kSTvo790NQTo"
      },
      "source": [
        "### Use a geração de números aleatórios do NumPy para criar um `array` de cinco inteiros aleatórios que representam as temperaturas do verão no intervalo de 26 a 33 e, em seguida, execute as seguintes tarefas:\n",
        "\n",
        "**a.** Converta o `array` em uma `Series` chamada `temperatures` e exiba-o.\n",
        "\n",
        "**b.** Determine as temperaturas mínima, máxima e média.\n",
        "\n",
        "**c.** Produza estatísticas descritivas para a `Série`.\n"
      ]
    },
    {
      "cell_type": "markdown",
      "source": [
        "Resposta"
      ],
      "metadata": {
        "id": "UiAJwBnf7tkX"
      }
    },
    {
      "cell_type": "code",
      "source": [],
      "metadata": {
        "id": "MQAIdC-WyGBz"
      },
      "execution_count": null,
      "outputs": []
    },
    {
      "cell_type": "markdown",
      "metadata": {
        "id": "0mpO2jXgNQTq"
      },
      "source": [
        "## `DataFrame`s "
      ]
    },
    {
      "cell_type": "markdown",
      "source": [
        "Um DataFrame é uma matriz bidimensional aprimorada. \n",
        "\n",
        "Assim como o Series, os DataFrames podem ter índices personalizados de linha e coluna e oferecer operações e recursos adicionais que os tornam mais convenientes para muitas tarefas orientadas à ciência de dados. \n",
        "\n",
        "Os DataFrames também suportam dados ausentes. Cada coluna em um DataFrame é uma série. A série que representa cada coluna pode conter diferentes tipos de elementos, como você verá em breve quando discutirmos o carregamento de conjuntos de dados em DataFrames."
      ],
      "metadata": {
        "id": "LUy7NuHt8Tkd"
      }
    },
    {
      "cell_type": "markdown",
      "metadata": {
        "id": "eAZ94HPlNQTr"
      },
      "source": [
        "### Criando um `DataFrame` a partir de um dicionário"
      ]
    },
    {
      "cell_type": "code",
      "execution_count": null,
      "metadata": {
        "id": "47u4FVYnNQTr"
      },
      "outputs": [],
      "source": [
        "import pandas as pd"
      ]
    },
    {
      "cell_type": "code",
      "execution_count": null,
      "metadata": {
        "id": "0csWd3rQNQTr"
      },
      "outputs": [],
      "source": [
        "grades_dict = {'Wally': [87, 96, 70], 'Eva': [100, 87, 90],\n",
        "               'Sam': [94, 77, 90], 'Katie': [100, 81, 82],\n",
        "               'Bob': [83, 65, 85]}"
      ]
    },
    {
      "cell_type": "code",
      "source": [
        "grades_dict"
      ],
      "metadata": {
        "colab": {
          "base_uri": "https://localhost:8080/"
        },
        "id": "OmqmUMC-zzUS",
        "outputId": "2e6079fe-2cac-488e-c4be-8e079f8997cf"
      },
      "execution_count": null,
      "outputs": [
        {
          "output_type": "execute_result",
          "data": {
            "text/plain": [
              "{'Wally': [87, 96, 70],\n",
              " 'Eva': [100, 87, 90],\n",
              " 'Sam': [94, 77, 90],\n",
              " 'Katie': [100, 81, 82],\n",
              " 'Bob': [83, 65, 85]}"
            ]
          },
          "metadata": {},
          "execution_count": 208
        }
      ]
    },
    {
      "cell_type": "code",
      "source": [
        "grades_dict['Wally']"
      ],
      "metadata": {
        "colab": {
          "base_uri": "https://localhost:8080/"
        },
        "id": "Mt7pmoX_z0fJ",
        "outputId": "b58aa184-c5a8-4395-9d28-a7f00c470981"
      },
      "execution_count": null,
      "outputs": [
        {
          "output_type": "execute_result",
          "data": {
            "text/plain": [
              "[87, 96, 70]"
            ]
          },
          "metadata": {},
          "execution_count": 210
        }
      ]
    },
    {
      "cell_type": "code",
      "source": [
        "grades = pd.DataFrame(grades_dict)"
      ],
      "metadata": {
        "id": "_09DGNaqz3fp"
      },
      "execution_count": null,
      "outputs": []
    },
    {
      "cell_type": "code",
      "source": [
        "grades"
      ],
      "metadata": {
        "colab": {
          "base_uri": "https://localhost:8080/",
          "height": 171
        },
        "id": "00-9iw0cz_-v",
        "outputId": "fdb41c80-fa73-447e-8419-a03d6ac72846"
      },
      "execution_count": null,
      "outputs": [
        {
          "output_type": "execute_result",
          "data": {
            "text/plain": [
              "   Wally  Eva  Sam  Katie  Bob\n",
              "0     87  100   94    100   83\n",
              "1     96   87   77     81   65\n",
              "2     70   90   90     82   85"
            ],
            "text/html": [
              "\n",
              "  <div id=\"df-43f9ceaf-9c67-43e8-a543-733b78cae68d\">\n",
              "    <div class=\"colab-df-container\">\n",
              "      <div>\n",
              "<style scoped>\n",
              "    .dataframe tbody tr th:only-of-type {\n",
              "        vertical-align: middle;\n",
              "    }\n",
              "\n",
              "    .dataframe tbody tr th {\n",
              "        vertical-align: top;\n",
              "    }\n",
              "\n",
              "    .dataframe thead th {\n",
              "        text-align: right;\n",
              "    }\n",
              "</style>\n",
              "<table border=\"1\" class=\"dataframe\">\n",
              "  <thead>\n",
              "    <tr style=\"text-align: right;\">\n",
              "      <th></th>\n",
              "      <th>Wally</th>\n",
              "      <th>Eva</th>\n",
              "      <th>Sam</th>\n",
              "      <th>Katie</th>\n",
              "      <th>Bob</th>\n",
              "    </tr>\n",
              "  </thead>\n",
              "  <tbody>\n",
              "    <tr>\n",
              "      <th>0</th>\n",
              "      <td>87</td>\n",
              "      <td>100</td>\n",
              "      <td>94</td>\n",
              "      <td>100</td>\n",
              "      <td>83</td>\n",
              "    </tr>\n",
              "    <tr>\n",
              "      <th>1</th>\n",
              "      <td>96</td>\n",
              "      <td>87</td>\n",
              "      <td>77</td>\n",
              "      <td>81</td>\n",
              "      <td>65</td>\n",
              "    </tr>\n",
              "    <tr>\n",
              "      <th>2</th>\n",
              "      <td>70</td>\n",
              "      <td>90</td>\n",
              "      <td>90</td>\n",
              "      <td>82</td>\n",
              "      <td>85</td>\n",
              "    </tr>\n",
              "  </tbody>\n",
              "</table>\n",
              "</div>\n",
              "      <button class=\"colab-df-convert\" onclick=\"convertToInteractive('df-43f9ceaf-9c67-43e8-a543-733b78cae68d')\"\n",
              "              title=\"Convert this dataframe to an interactive table.\"\n",
              "              style=\"display:none;\">\n",
              "        \n",
              "  <svg xmlns=\"http://www.w3.org/2000/svg\" height=\"24px\"viewBox=\"0 0 24 24\"\n",
              "       width=\"24px\">\n",
              "    <path d=\"M0 0h24v24H0V0z\" fill=\"none\"/>\n",
              "    <path d=\"M18.56 5.44l.94 2.06.94-2.06 2.06-.94-2.06-.94-.94-2.06-.94 2.06-2.06.94zm-11 1L8.5 8.5l.94-2.06 2.06-.94-2.06-.94L8.5 2.5l-.94 2.06-2.06.94zm10 10l.94 2.06.94-2.06 2.06-.94-2.06-.94-.94-2.06-.94 2.06-2.06.94z\"/><path d=\"M17.41 7.96l-1.37-1.37c-.4-.4-.92-.59-1.43-.59-.52 0-1.04.2-1.43.59L10.3 9.45l-7.72 7.72c-.78.78-.78 2.05 0 2.83L4 21.41c.39.39.9.59 1.41.59.51 0 1.02-.2 1.41-.59l7.78-7.78 2.81-2.81c.8-.78.8-2.07 0-2.86zM5.41 20L4 18.59l7.72-7.72 1.47 1.35L5.41 20z\"/>\n",
              "  </svg>\n",
              "      </button>\n",
              "      \n",
              "  <style>\n",
              "    .colab-df-container {\n",
              "      display:flex;\n",
              "      flex-wrap:wrap;\n",
              "      gap: 12px;\n",
              "    }\n",
              "\n",
              "    .colab-df-convert {\n",
              "      background-color: #E8F0FE;\n",
              "      border: none;\n",
              "      border-radius: 50%;\n",
              "      cursor: pointer;\n",
              "      display: none;\n",
              "      fill: #1967D2;\n",
              "      height: 32px;\n",
              "      padding: 0 0 0 0;\n",
              "      width: 32px;\n",
              "    }\n",
              "\n",
              "    .colab-df-convert:hover {\n",
              "      background-color: #E2EBFA;\n",
              "      box-shadow: 0px 1px 2px rgba(60, 64, 67, 0.3), 0px 1px 3px 1px rgba(60, 64, 67, 0.15);\n",
              "      fill: #174EA6;\n",
              "    }\n",
              "\n",
              "    [theme=dark] .colab-df-convert {\n",
              "      background-color: #3B4455;\n",
              "      fill: #D2E3FC;\n",
              "    }\n",
              "\n",
              "    [theme=dark] .colab-df-convert:hover {\n",
              "      background-color: #434B5C;\n",
              "      box-shadow: 0px 1px 3px 1px rgba(0, 0, 0, 0.15);\n",
              "      filter: drop-shadow(0px 1px 2px rgba(0, 0, 0, 0.3));\n",
              "      fill: #FFFFFF;\n",
              "    }\n",
              "  </style>\n",
              "\n",
              "      <script>\n",
              "        const buttonEl =\n",
              "          document.querySelector('#df-43f9ceaf-9c67-43e8-a543-733b78cae68d button.colab-df-convert');\n",
              "        buttonEl.style.display =\n",
              "          google.colab.kernel.accessAllowed ? 'block' : 'none';\n",
              "\n",
              "        async function convertToInteractive(key) {\n",
              "          const element = document.querySelector('#df-43f9ceaf-9c67-43e8-a543-733b78cae68d');\n",
              "          const dataTable =\n",
              "            await google.colab.kernel.invokeFunction('convertToInteractive',\n",
              "                                                     [key], {});\n",
              "          if (!dataTable) return;\n",
              "\n",
              "          const docLinkHtml = 'Like what you see? Visit the ' +\n",
              "            '<a target=\"_blank\" href=https://colab.research.google.com/notebooks/data_table.ipynb>data table notebook</a>'\n",
              "            + ' to learn more about interactive tables.';\n",
              "          element.innerHTML = '';\n",
              "          dataTable['output_type'] = 'display_data';\n",
              "          await google.colab.output.renderOutput(dataTable, element);\n",
              "          const docLink = document.createElement('div');\n",
              "          docLink.innerHTML = docLinkHtml;\n",
              "          element.appendChild(docLink);\n",
              "        }\n",
              "      </script>\n",
              "    </div>\n",
              "  </div>\n",
              "  "
            ]
          },
          "metadata": {},
          "execution_count": 212
        }
      ]
    },
    {
      "cell_type": "code",
      "source": [
        "grades"
      ],
      "metadata": {
        "colab": {
          "base_uri": "https://localhost:8080/",
          "height": 143
        },
        "id": "5VPRA2G90Avv",
        "outputId": "973f59ca-f06d-41fc-b8c7-cb4970142791"
      },
      "execution_count": null,
      "outputs": [
        {
          "output_type": "execute_result",
          "data": {
            "text/plain": [
              "   Wally  Eva  Sam  Katie  Bob\n",
              "0     87  100   94    100   83\n",
              "1     96   87   77     81   65\n",
              "2     70   90   90     82   85"
            ],
            "text/html": [
              "\n",
              "  <div id=\"df-eeeb0836-36b9-4b1a-a302-b07e7682ab96\">\n",
              "    <div class=\"colab-df-container\">\n",
              "      <div>\n",
              "<style scoped>\n",
              "    .dataframe tbody tr th:only-of-type {\n",
              "        vertical-align: middle;\n",
              "    }\n",
              "\n",
              "    .dataframe tbody tr th {\n",
              "        vertical-align: top;\n",
              "    }\n",
              "\n",
              "    .dataframe thead th {\n",
              "        text-align: right;\n",
              "    }\n",
              "</style>\n",
              "<table border=\"1\" class=\"dataframe\">\n",
              "  <thead>\n",
              "    <tr style=\"text-align: right;\">\n",
              "      <th></th>\n",
              "      <th>Wally</th>\n",
              "      <th>Eva</th>\n",
              "      <th>Sam</th>\n",
              "      <th>Katie</th>\n",
              "      <th>Bob</th>\n",
              "    </tr>\n",
              "  </thead>\n",
              "  <tbody>\n",
              "    <tr>\n",
              "      <th>0</th>\n",
              "      <td>87</td>\n",
              "      <td>100</td>\n",
              "      <td>94</td>\n",
              "      <td>100</td>\n",
              "      <td>83</td>\n",
              "    </tr>\n",
              "    <tr>\n",
              "      <th>1</th>\n",
              "      <td>96</td>\n",
              "      <td>87</td>\n",
              "      <td>77</td>\n",
              "      <td>81</td>\n",
              "      <td>65</td>\n",
              "    </tr>\n",
              "    <tr>\n",
              "      <th>2</th>\n",
              "      <td>70</td>\n",
              "      <td>90</td>\n",
              "      <td>90</td>\n",
              "      <td>82</td>\n",
              "      <td>85</td>\n",
              "    </tr>\n",
              "  </tbody>\n",
              "</table>\n",
              "</div>\n",
              "      <button class=\"colab-df-convert\" onclick=\"convertToInteractive('df-eeeb0836-36b9-4b1a-a302-b07e7682ab96')\"\n",
              "              title=\"Convert this dataframe to an interactive table.\"\n",
              "              style=\"display:none;\">\n",
              "        \n",
              "  <svg xmlns=\"http://www.w3.org/2000/svg\" height=\"24px\"viewBox=\"0 0 24 24\"\n",
              "       width=\"24px\">\n",
              "    <path d=\"M0 0h24v24H0V0z\" fill=\"none\"/>\n",
              "    <path d=\"M18.56 5.44l.94 2.06.94-2.06 2.06-.94-2.06-.94-.94-2.06-.94 2.06-2.06.94zm-11 1L8.5 8.5l.94-2.06 2.06-.94-2.06-.94L8.5 2.5l-.94 2.06-2.06.94zm10 10l.94 2.06.94-2.06 2.06-.94-2.06-.94-.94-2.06-.94 2.06-2.06.94z\"/><path d=\"M17.41 7.96l-1.37-1.37c-.4-.4-.92-.59-1.43-.59-.52 0-1.04.2-1.43.59L10.3 9.45l-7.72 7.72c-.78.78-.78 2.05 0 2.83L4 21.41c.39.39.9.59 1.41.59.51 0 1.02-.2 1.41-.59l7.78-7.78 2.81-2.81c.8-.78.8-2.07 0-2.86zM5.41 20L4 18.59l7.72-7.72 1.47 1.35L5.41 20z\"/>\n",
              "  </svg>\n",
              "      </button>\n",
              "      \n",
              "  <style>\n",
              "    .colab-df-container {\n",
              "      display:flex;\n",
              "      flex-wrap:wrap;\n",
              "      gap: 12px;\n",
              "    }\n",
              "\n",
              "    .colab-df-convert {\n",
              "      background-color: #E8F0FE;\n",
              "      border: none;\n",
              "      border-radius: 50%;\n",
              "      cursor: pointer;\n",
              "      display: none;\n",
              "      fill: #1967D2;\n",
              "      height: 32px;\n",
              "      padding: 0 0 0 0;\n",
              "      width: 32px;\n",
              "    }\n",
              "\n",
              "    .colab-df-convert:hover {\n",
              "      background-color: #E2EBFA;\n",
              "      box-shadow: 0px 1px 2px rgba(60, 64, 67, 0.3), 0px 1px 3px 1px rgba(60, 64, 67, 0.15);\n",
              "      fill: #174EA6;\n",
              "    }\n",
              "\n",
              "    [theme=dark] .colab-df-convert {\n",
              "      background-color: #3B4455;\n",
              "      fill: #D2E3FC;\n",
              "    }\n",
              "\n",
              "    [theme=dark] .colab-df-convert:hover {\n",
              "      background-color: #434B5C;\n",
              "      box-shadow: 0px 1px 3px 1px rgba(0, 0, 0, 0.15);\n",
              "      filter: drop-shadow(0px 1px 2px rgba(0, 0, 0, 0.3));\n",
              "      fill: #FFFFFF;\n",
              "    }\n",
              "  </style>\n",
              "\n",
              "      <script>\n",
              "        const buttonEl =\n",
              "          document.querySelector('#df-eeeb0836-36b9-4b1a-a302-b07e7682ab96 button.colab-df-convert');\n",
              "        buttonEl.style.display =\n",
              "          google.colab.kernel.accessAllowed ? 'block' : 'none';\n",
              "\n",
              "        async function convertToInteractive(key) {\n",
              "          const element = document.querySelector('#df-eeeb0836-36b9-4b1a-a302-b07e7682ab96');\n",
              "          const dataTable =\n",
              "            await google.colab.kernel.invokeFunction('convertToInteractive',\n",
              "                                                     [key], {});\n",
              "          if (!dataTable) return;\n",
              "\n",
              "          const docLinkHtml = 'Like what you see? Visit the ' +\n",
              "            '<a target=\"_blank\" href=https://colab.research.google.com/notebooks/data_table.ipynb>data table notebook</a>'\n",
              "            + ' to learn more about interactive tables.';\n",
              "          element.innerHTML = '';\n",
              "          dataTable['output_type'] = 'display_data';\n",
              "          await google.colab.output.renderOutput(dataTable, element);\n",
              "          const docLink = document.createElement('div');\n",
              "          docLink.innerHTML = docLinkHtml;\n",
              "          element.appendChild(docLink);\n",
              "        }\n",
              "      </script>\n",
              "    </div>\n",
              "  </div>\n",
              "  "
            ]
          },
          "metadata": {},
          "execution_count": 213
        }
      ]
    },
    {
      "cell_type": "code",
      "source": [],
      "metadata": {
        "id": "jdxExWzw0JSx"
      },
      "execution_count": null,
      "outputs": []
    },
    {
      "cell_type": "markdown",
      "metadata": {
        "id": "oodsJ1JyNQTr"
      },
      "source": [
        "### Personalizando os índices de um `DataFrame` com o atributo `index`"
      ]
    },
    {
      "cell_type": "code",
      "source": [
        "grades.index"
      ],
      "metadata": {
        "colab": {
          "base_uri": "https://localhost:8080/"
        },
        "id": "dMzs1YdQ0N0m",
        "outputId": "ed8c0f80-cea1-405d-dc54-156e8b9bab85"
      },
      "execution_count": null,
      "outputs": [
        {
          "output_type": "execute_result",
          "data": {
            "text/plain": [
              "RangeIndex(start=0, stop=3, step=1)"
            ]
          },
          "metadata": {},
          "execution_count": 214
        }
      ]
    },
    {
      "cell_type": "code",
      "source": [
        "grades.index = ['Test1', 'Test2', 'Test3']"
      ],
      "metadata": {
        "id": "eHgW7z870SZE"
      },
      "execution_count": null,
      "outputs": []
    },
    {
      "cell_type": "code",
      "source": [
        "grades"
      ],
      "metadata": {
        "colab": {
          "base_uri": "https://localhost:8080/",
          "height": 143
        },
        "id": "isxeyK5W0Y0f",
        "outputId": "123a413f-01aa-4808-baac-9d9f23a7c778"
      },
      "execution_count": null,
      "outputs": [
        {
          "output_type": "execute_result",
          "data": {
            "text/plain": [
              "       Wally  Eva  Sam  Katie  Bob\n",
              "Test1     87  100   94    100   83\n",
              "Test2     96   87   77     81   65\n",
              "Test3     70   90   90     82   85"
            ],
            "text/html": [
              "\n",
              "  <div id=\"df-4840221d-4a3d-4814-ac49-fe2a631cc18a\">\n",
              "    <div class=\"colab-df-container\">\n",
              "      <div>\n",
              "<style scoped>\n",
              "    .dataframe tbody tr th:only-of-type {\n",
              "        vertical-align: middle;\n",
              "    }\n",
              "\n",
              "    .dataframe tbody tr th {\n",
              "        vertical-align: top;\n",
              "    }\n",
              "\n",
              "    .dataframe thead th {\n",
              "        text-align: right;\n",
              "    }\n",
              "</style>\n",
              "<table border=\"1\" class=\"dataframe\">\n",
              "  <thead>\n",
              "    <tr style=\"text-align: right;\">\n",
              "      <th></th>\n",
              "      <th>Wally</th>\n",
              "      <th>Eva</th>\n",
              "      <th>Sam</th>\n",
              "      <th>Katie</th>\n",
              "      <th>Bob</th>\n",
              "    </tr>\n",
              "  </thead>\n",
              "  <tbody>\n",
              "    <tr>\n",
              "      <th>Test1</th>\n",
              "      <td>87</td>\n",
              "      <td>100</td>\n",
              "      <td>94</td>\n",
              "      <td>100</td>\n",
              "      <td>83</td>\n",
              "    </tr>\n",
              "    <tr>\n",
              "      <th>Test2</th>\n",
              "      <td>96</td>\n",
              "      <td>87</td>\n",
              "      <td>77</td>\n",
              "      <td>81</td>\n",
              "      <td>65</td>\n",
              "    </tr>\n",
              "    <tr>\n",
              "      <th>Test3</th>\n",
              "      <td>70</td>\n",
              "      <td>90</td>\n",
              "      <td>90</td>\n",
              "      <td>82</td>\n",
              "      <td>85</td>\n",
              "    </tr>\n",
              "  </tbody>\n",
              "</table>\n",
              "</div>\n",
              "      <button class=\"colab-df-convert\" onclick=\"convertToInteractive('df-4840221d-4a3d-4814-ac49-fe2a631cc18a')\"\n",
              "              title=\"Convert this dataframe to an interactive table.\"\n",
              "              style=\"display:none;\">\n",
              "        \n",
              "  <svg xmlns=\"http://www.w3.org/2000/svg\" height=\"24px\"viewBox=\"0 0 24 24\"\n",
              "       width=\"24px\">\n",
              "    <path d=\"M0 0h24v24H0V0z\" fill=\"none\"/>\n",
              "    <path d=\"M18.56 5.44l.94 2.06.94-2.06 2.06-.94-2.06-.94-.94-2.06-.94 2.06-2.06.94zm-11 1L8.5 8.5l.94-2.06 2.06-.94-2.06-.94L8.5 2.5l-.94 2.06-2.06.94zm10 10l.94 2.06.94-2.06 2.06-.94-2.06-.94-.94-2.06-.94 2.06-2.06.94z\"/><path d=\"M17.41 7.96l-1.37-1.37c-.4-.4-.92-.59-1.43-.59-.52 0-1.04.2-1.43.59L10.3 9.45l-7.72 7.72c-.78.78-.78 2.05 0 2.83L4 21.41c.39.39.9.59 1.41.59.51 0 1.02-.2 1.41-.59l7.78-7.78 2.81-2.81c.8-.78.8-2.07 0-2.86zM5.41 20L4 18.59l7.72-7.72 1.47 1.35L5.41 20z\"/>\n",
              "  </svg>\n",
              "      </button>\n",
              "      \n",
              "  <style>\n",
              "    .colab-df-container {\n",
              "      display:flex;\n",
              "      flex-wrap:wrap;\n",
              "      gap: 12px;\n",
              "    }\n",
              "\n",
              "    .colab-df-convert {\n",
              "      background-color: #E8F0FE;\n",
              "      border: none;\n",
              "      border-radius: 50%;\n",
              "      cursor: pointer;\n",
              "      display: none;\n",
              "      fill: #1967D2;\n",
              "      height: 32px;\n",
              "      padding: 0 0 0 0;\n",
              "      width: 32px;\n",
              "    }\n",
              "\n",
              "    .colab-df-convert:hover {\n",
              "      background-color: #E2EBFA;\n",
              "      box-shadow: 0px 1px 2px rgba(60, 64, 67, 0.3), 0px 1px 3px 1px rgba(60, 64, 67, 0.15);\n",
              "      fill: #174EA6;\n",
              "    }\n",
              "\n",
              "    [theme=dark] .colab-df-convert {\n",
              "      background-color: #3B4455;\n",
              "      fill: #D2E3FC;\n",
              "    }\n",
              "\n",
              "    [theme=dark] .colab-df-convert:hover {\n",
              "      background-color: #434B5C;\n",
              "      box-shadow: 0px 1px 3px 1px rgba(0, 0, 0, 0.15);\n",
              "      filter: drop-shadow(0px 1px 2px rgba(0, 0, 0, 0.3));\n",
              "      fill: #FFFFFF;\n",
              "    }\n",
              "  </style>\n",
              "\n",
              "      <script>\n",
              "        const buttonEl =\n",
              "          document.querySelector('#df-4840221d-4a3d-4814-ac49-fe2a631cc18a button.colab-df-convert');\n",
              "        buttonEl.style.display =\n",
              "          google.colab.kernel.accessAllowed ? 'block' : 'none';\n",
              "\n",
              "        async function convertToInteractive(key) {\n",
              "          const element = document.querySelector('#df-4840221d-4a3d-4814-ac49-fe2a631cc18a');\n",
              "          const dataTable =\n",
              "            await google.colab.kernel.invokeFunction('convertToInteractive',\n",
              "                                                     [key], {});\n",
              "          if (!dataTable) return;\n",
              "\n",
              "          const docLinkHtml = 'Like what you see? Visit the ' +\n",
              "            '<a target=\"_blank\" href=https://colab.research.google.com/notebooks/data_table.ipynb>data table notebook</a>'\n",
              "            + ' to learn more about interactive tables.';\n",
              "          element.innerHTML = '';\n",
              "          dataTable['output_type'] = 'display_data';\n",
              "          await google.colab.output.renderOutput(dataTable, element);\n",
              "          const docLink = document.createElement('div');\n",
              "          docLink.innerHTML = docLinkHtml;\n",
              "          element.appendChild(docLink);\n",
              "        }\n",
              "      </script>\n",
              "    </div>\n",
              "  </div>\n",
              "  "
            ]
          },
          "metadata": {},
          "execution_count": 217
        }
      ]
    },
    {
      "cell_type": "code",
      "source": [
        "grades = pd.DataFrame( grades_dict, index=['Test1', 'Test2', 'Test3'])"
      ],
      "metadata": {
        "id": "4Xq511Vg0ef9"
      },
      "execution_count": null,
      "outputs": []
    },
    {
      "cell_type": "code",
      "source": [],
      "metadata": {
        "id": "DpfGldrT0rQu"
      },
      "execution_count": null,
      "outputs": []
    },
    {
      "cell_type": "markdown",
      "metadata": {
        "id": "R8ykNFHjNQTs"
      },
      "source": [
        "### Acessando as colunas de um `DataFrame`"
      ]
    },
    {
      "cell_type": "code",
      "source": [
        "grades['Eva']"
      ],
      "metadata": {
        "colab": {
          "base_uri": "https://localhost:8080/"
        },
        "id": "exDUYIhV0xXZ",
        "outputId": "f087c311-16e0-4c64-b01c-a524e9ad15b4"
      },
      "execution_count": null,
      "outputs": [
        {
          "output_type": "execute_result",
          "data": {
            "text/plain": [
              "Test1    100\n",
              "Test2     87\n",
              "Test3     90\n",
              "Name: Eva, dtype: int64"
            ]
          },
          "metadata": {},
          "execution_count": 219
        }
      ]
    },
    {
      "cell_type": "code",
      "source": [
        "grades['Eva'].mean()"
      ],
      "metadata": {
        "colab": {
          "base_uri": "https://localhost:8080/"
        },
        "id": "1mTZ3_bJ0yr3",
        "outputId": "c0be7fd8-922d-4927-8c47-255e84011c75"
      },
      "execution_count": null,
      "outputs": [
        {
          "output_type": "execute_result",
          "data": {
            "text/plain": [
              "92.33333333333333"
            ]
          },
          "metadata": {},
          "execution_count": 220
        }
      ]
    },
    {
      "cell_type": "code",
      "source": [
        "grades['Eva']['Test1']"
      ],
      "metadata": {
        "colab": {
          "base_uri": "https://localhost:8080/"
        },
        "id": "_FkEoSpE1A5D",
        "outputId": "7d7999b7-a28e-4810-dce9-5d211d1b3559"
      },
      "execution_count": null,
      "outputs": [
        {
          "output_type": "execute_result",
          "data": {
            "text/plain": [
              "100"
            ]
          },
          "metadata": {},
          "execution_count": 223
        }
      ]
    },
    {
      "cell_type": "code",
      "source": [
        "grades.Eva"
      ],
      "metadata": {
        "colab": {
          "base_uri": "https://localhost:8080/"
        },
        "id": "FpxlFpV8012G",
        "outputId": "7a8a70f0-3eea-4089-8ea9-3a6439b55a57"
      },
      "execution_count": null,
      "outputs": [
        {
          "output_type": "execute_result",
          "data": {
            "text/plain": [
              "Test1    100\n",
              "Test2     87\n",
              "Test3     90\n",
              "Name: Eva, dtype: int64"
            ]
          },
          "metadata": {},
          "execution_count": 222
        }
      ]
    },
    {
      "cell_type": "code",
      "source": [
        "grades.Eva.Test1"
      ],
      "metadata": {
        "colab": {
          "base_uri": "https://localhost:8080/"
        },
        "id": "C45zOHCF05Q3",
        "outputId": "7c8e90b9-892b-42dc-f8c8-572b86a5b41a"
      },
      "execution_count": null,
      "outputs": [
        {
          "output_type": "execute_result",
          "data": {
            "text/plain": [
              "100"
            ]
          },
          "metadata": {},
          "execution_count": 224
        }
      ]
    },
    {
      "cell_type": "code",
      "source": [],
      "metadata": {
        "id": "B00Xy9Vw1InI"
      },
      "execution_count": null,
      "outputs": []
    },
    {
      "cell_type": "markdown",
      "metadata": {
        "id": "uJLrEzewNQTu"
      },
      "source": [
        "### Selecionando linhas por meio dos atributos `loc` e `iloc`"
      ]
    },
    {
      "cell_type": "markdown",
      "source": [
        "Embora os DataFrames suportem recursos de indexação com [], a documentação do pandas recomenda o uso dos atributos loc, iloc, at e iat, que são otimizados para acessar DataFrames e também fornecem recursos adicionais além do que você pode fazer apenas com []. \n"
      ],
      "metadata": {
        "id": "5jzt7ULr-2RO"
      }
    },
    {
      "cell_type": "code",
      "source": [
        "grades.loc['Test1']"
      ],
      "metadata": {
        "colab": {
          "base_uri": "https://localhost:8080/"
        },
        "id": "kLZJKLSC1Tc1",
        "outputId": "5e898711-d396-422a-c319-c777d090cd3d"
      },
      "execution_count": null,
      "outputs": [
        {
          "output_type": "execute_result",
          "data": {
            "text/plain": [
              "Wally     87\n",
              "Eva      100\n",
              "Sam       94\n",
              "Katie    100\n",
              "Bob       83\n",
              "Name: Test1, dtype: int64"
            ]
          },
          "metadata": {},
          "execution_count": 226
        }
      ]
    },
    {
      "cell_type": "code",
      "source": [
        "grades.iloc[0]"
      ],
      "metadata": {
        "colab": {
          "base_uri": "https://localhost:8080/"
        },
        "id": "9qn5i0_v1Vk_",
        "outputId": "3ce539cc-305b-4ca6-b9b1-e371cf0dba6a"
      },
      "execution_count": null,
      "outputs": [
        {
          "output_type": "execute_result",
          "data": {
            "text/plain": [
              "Wally     87\n",
              "Eva      100\n",
              "Sam       94\n",
              "Katie    100\n",
              "Bob       83\n",
              "Name: Test1, dtype: int64"
            ]
          },
          "metadata": {},
          "execution_count": 227
        }
      ]
    },
    {
      "cell_type": "code",
      "source": [
        "grades.iloc[1]"
      ],
      "metadata": {
        "colab": {
          "base_uri": "https://localhost:8080/"
        },
        "id": "od9IuRJG1fkP",
        "outputId": "6ed231d9-84c6-4de7-fd16-9fd45310dea7"
      },
      "execution_count": null,
      "outputs": [
        {
          "output_type": "execute_result",
          "data": {
            "text/plain": [
              "Wally    96\n",
              "Eva      87\n",
              "Sam      77\n",
              "Katie    81\n",
              "Bob      65\n",
              "Name: Test2, dtype: int64"
            ]
          },
          "metadata": {},
          "execution_count": 228
        }
      ]
    },
    {
      "cell_type": "code",
      "source": [],
      "metadata": {
        "id": "LjLiLjLR1ian"
      },
      "execution_count": null,
      "outputs": []
    },
    {
      "cell_type": "markdown",
      "metadata": {
        "id": "cXCcbtfdNQTv"
      },
      "source": [
        "### Selecionando linhas por meio de fatias e listas com os atributos `loc` e `iloc`"
      ]
    },
    {
      "cell_type": "code",
      "source": [
        "grades.loc['Test1':'Test2']"
      ],
      "metadata": {
        "colab": {
          "base_uri": "https://localhost:8080/",
          "height": 112
        },
        "id": "mPgV2ySt1n3R",
        "outputId": "95b48550-a1b1-42bd-916b-503602e8f8e2"
      },
      "execution_count": null,
      "outputs": [
        {
          "output_type": "execute_result",
          "data": {
            "text/plain": [
              "       Wally  Eva  Sam  Katie  Bob\n",
              "Test1     87  100   94    100   83\n",
              "Test2     96   87   77     81   65"
            ],
            "text/html": [
              "\n",
              "  <div id=\"df-0aa3ff8f-3115-40c6-b4f7-d8a8512a2e67\">\n",
              "    <div class=\"colab-df-container\">\n",
              "      <div>\n",
              "<style scoped>\n",
              "    .dataframe tbody tr th:only-of-type {\n",
              "        vertical-align: middle;\n",
              "    }\n",
              "\n",
              "    .dataframe tbody tr th {\n",
              "        vertical-align: top;\n",
              "    }\n",
              "\n",
              "    .dataframe thead th {\n",
              "        text-align: right;\n",
              "    }\n",
              "</style>\n",
              "<table border=\"1\" class=\"dataframe\">\n",
              "  <thead>\n",
              "    <tr style=\"text-align: right;\">\n",
              "      <th></th>\n",
              "      <th>Wally</th>\n",
              "      <th>Eva</th>\n",
              "      <th>Sam</th>\n",
              "      <th>Katie</th>\n",
              "      <th>Bob</th>\n",
              "    </tr>\n",
              "  </thead>\n",
              "  <tbody>\n",
              "    <tr>\n",
              "      <th>Test1</th>\n",
              "      <td>87</td>\n",
              "      <td>100</td>\n",
              "      <td>94</td>\n",
              "      <td>100</td>\n",
              "      <td>83</td>\n",
              "    </tr>\n",
              "    <tr>\n",
              "      <th>Test2</th>\n",
              "      <td>96</td>\n",
              "      <td>87</td>\n",
              "      <td>77</td>\n",
              "      <td>81</td>\n",
              "      <td>65</td>\n",
              "    </tr>\n",
              "  </tbody>\n",
              "</table>\n",
              "</div>\n",
              "      <button class=\"colab-df-convert\" onclick=\"convertToInteractive('df-0aa3ff8f-3115-40c6-b4f7-d8a8512a2e67')\"\n",
              "              title=\"Convert this dataframe to an interactive table.\"\n",
              "              style=\"display:none;\">\n",
              "        \n",
              "  <svg xmlns=\"http://www.w3.org/2000/svg\" height=\"24px\"viewBox=\"0 0 24 24\"\n",
              "       width=\"24px\">\n",
              "    <path d=\"M0 0h24v24H0V0z\" fill=\"none\"/>\n",
              "    <path d=\"M18.56 5.44l.94 2.06.94-2.06 2.06-.94-2.06-.94-.94-2.06-.94 2.06-2.06.94zm-11 1L8.5 8.5l.94-2.06 2.06-.94-2.06-.94L8.5 2.5l-.94 2.06-2.06.94zm10 10l.94 2.06.94-2.06 2.06-.94-2.06-.94-.94-2.06-.94 2.06-2.06.94z\"/><path d=\"M17.41 7.96l-1.37-1.37c-.4-.4-.92-.59-1.43-.59-.52 0-1.04.2-1.43.59L10.3 9.45l-7.72 7.72c-.78.78-.78 2.05 0 2.83L4 21.41c.39.39.9.59 1.41.59.51 0 1.02-.2 1.41-.59l7.78-7.78 2.81-2.81c.8-.78.8-2.07 0-2.86zM5.41 20L4 18.59l7.72-7.72 1.47 1.35L5.41 20z\"/>\n",
              "  </svg>\n",
              "      </button>\n",
              "      \n",
              "  <style>\n",
              "    .colab-df-container {\n",
              "      display:flex;\n",
              "      flex-wrap:wrap;\n",
              "      gap: 12px;\n",
              "    }\n",
              "\n",
              "    .colab-df-convert {\n",
              "      background-color: #E8F0FE;\n",
              "      border: none;\n",
              "      border-radius: 50%;\n",
              "      cursor: pointer;\n",
              "      display: none;\n",
              "      fill: #1967D2;\n",
              "      height: 32px;\n",
              "      padding: 0 0 0 0;\n",
              "      width: 32px;\n",
              "    }\n",
              "\n",
              "    .colab-df-convert:hover {\n",
              "      background-color: #E2EBFA;\n",
              "      box-shadow: 0px 1px 2px rgba(60, 64, 67, 0.3), 0px 1px 3px 1px rgba(60, 64, 67, 0.15);\n",
              "      fill: #174EA6;\n",
              "    }\n",
              "\n",
              "    [theme=dark] .colab-df-convert {\n",
              "      background-color: #3B4455;\n",
              "      fill: #D2E3FC;\n",
              "    }\n",
              "\n",
              "    [theme=dark] .colab-df-convert:hover {\n",
              "      background-color: #434B5C;\n",
              "      box-shadow: 0px 1px 3px 1px rgba(0, 0, 0, 0.15);\n",
              "      filter: drop-shadow(0px 1px 2px rgba(0, 0, 0, 0.3));\n",
              "      fill: #FFFFFF;\n",
              "    }\n",
              "  </style>\n",
              "\n",
              "      <script>\n",
              "        const buttonEl =\n",
              "          document.querySelector('#df-0aa3ff8f-3115-40c6-b4f7-d8a8512a2e67 button.colab-df-convert');\n",
              "        buttonEl.style.display =\n",
              "          google.colab.kernel.accessAllowed ? 'block' : 'none';\n",
              "\n",
              "        async function convertToInteractive(key) {\n",
              "          const element = document.querySelector('#df-0aa3ff8f-3115-40c6-b4f7-d8a8512a2e67');\n",
              "          const dataTable =\n",
              "            await google.colab.kernel.invokeFunction('convertToInteractive',\n",
              "                                                     [key], {});\n",
              "          if (!dataTable) return;\n",
              "\n",
              "          const docLinkHtml = 'Like what you see? Visit the ' +\n",
              "            '<a target=\"_blank\" href=https://colab.research.google.com/notebooks/data_table.ipynb>data table notebook</a>'\n",
              "            + ' to learn more about interactive tables.';\n",
              "          element.innerHTML = '';\n",
              "          dataTable['output_type'] = 'display_data';\n",
              "          await google.colab.output.renderOutput(dataTable, element);\n",
              "          const docLink = document.createElement('div');\n",
              "          docLink.innerHTML = docLinkHtml;\n",
              "          element.appendChild(docLink);\n",
              "        }\n",
              "      </script>\n",
              "    </div>\n",
              "  </div>\n",
              "  "
            ]
          },
          "metadata": {},
          "execution_count": 229
        }
      ]
    },
    {
      "cell_type": "code",
      "source": [
        "grades.iloc[0:2]"
      ],
      "metadata": {
        "colab": {
          "base_uri": "https://localhost:8080/",
          "height": 112
        },
        "id": "VlFJAoy_1saR",
        "outputId": "1753ed98-8d6e-46c9-9a01-31f151fa96aa"
      },
      "execution_count": null,
      "outputs": [
        {
          "output_type": "execute_result",
          "data": {
            "text/plain": [
              "       Wally  Eva  Sam  Katie  Bob\n",
              "Test1     87  100   94    100   83\n",
              "Test2     96   87   77     81   65"
            ],
            "text/html": [
              "\n",
              "  <div id=\"df-eff12732-0f4f-461a-971a-3db866391af9\">\n",
              "    <div class=\"colab-df-container\">\n",
              "      <div>\n",
              "<style scoped>\n",
              "    .dataframe tbody tr th:only-of-type {\n",
              "        vertical-align: middle;\n",
              "    }\n",
              "\n",
              "    .dataframe tbody tr th {\n",
              "        vertical-align: top;\n",
              "    }\n",
              "\n",
              "    .dataframe thead th {\n",
              "        text-align: right;\n",
              "    }\n",
              "</style>\n",
              "<table border=\"1\" class=\"dataframe\">\n",
              "  <thead>\n",
              "    <tr style=\"text-align: right;\">\n",
              "      <th></th>\n",
              "      <th>Wally</th>\n",
              "      <th>Eva</th>\n",
              "      <th>Sam</th>\n",
              "      <th>Katie</th>\n",
              "      <th>Bob</th>\n",
              "    </tr>\n",
              "  </thead>\n",
              "  <tbody>\n",
              "    <tr>\n",
              "      <th>Test1</th>\n",
              "      <td>87</td>\n",
              "      <td>100</td>\n",
              "      <td>94</td>\n",
              "      <td>100</td>\n",
              "      <td>83</td>\n",
              "    </tr>\n",
              "    <tr>\n",
              "      <th>Test2</th>\n",
              "      <td>96</td>\n",
              "      <td>87</td>\n",
              "      <td>77</td>\n",
              "      <td>81</td>\n",
              "      <td>65</td>\n",
              "    </tr>\n",
              "  </tbody>\n",
              "</table>\n",
              "</div>\n",
              "      <button class=\"colab-df-convert\" onclick=\"convertToInteractive('df-eff12732-0f4f-461a-971a-3db866391af9')\"\n",
              "              title=\"Convert this dataframe to an interactive table.\"\n",
              "              style=\"display:none;\">\n",
              "        \n",
              "  <svg xmlns=\"http://www.w3.org/2000/svg\" height=\"24px\"viewBox=\"0 0 24 24\"\n",
              "       width=\"24px\">\n",
              "    <path d=\"M0 0h24v24H0V0z\" fill=\"none\"/>\n",
              "    <path d=\"M18.56 5.44l.94 2.06.94-2.06 2.06-.94-2.06-.94-.94-2.06-.94 2.06-2.06.94zm-11 1L8.5 8.5l.94-2.06 2.06-.94-2.06-.94L8.5 2.5l-.94 2.06-2.06.94zm10 10l.94 2.06.94-2.06 2.06-.94-2.06-.94-.94-2.06-.94 2.06-2.06.94z\"/><path d=\"M17.41 7.96l-1.37-1.37c-.4-.4-.92-.59-1.43-.59-.52 0-1.04.2-1.43.59L10.3 9.45l-7.72 7.72c-.78.78-.78 2.05 0 2.83L4 21.41c.39.39.9.59 1.41.59.51 0 1.02-.2 1.41-.59l7.78-7.78 2.81-2.81c.8-.78.8-2.07 0-2.86zM5.41 20L4 18.59l7.72-7.72 1.47 1.35L5.41 20z\"/>\n",
              "  </svg>\n",
              "      </button>\n",
              "      \n",
              "  <style>\n",
              "    .colab-df-container {\n",
              "      display:flex;\n",
              "      flex-wrap:wrap;\n",
              "      gap: 12px;\n",
              "    }\n",
              "\n",
              "    .colab-df-convert {\n",
              "      background-color: #E8F0FE;\n",
              "      border: none;\n",
              "      border-radius: 50%;\n",
              "      cursor: pointer;\n",
              "      display: none;\n",
              "      fill: #1967D2;\n",
              "      height: 32px;\n",
              "      padding: 0 0 0 0;\n",
              "      width: 32px;\n",
              "    }\n",
              "\n",
              "    .colab-df-convert:hover {\n",
              "      background-color: #E2EBFA;\n",
              "      box-shadow: 0px 1px 2px rgba(60, 64, 67, 0.3), 0px 1px 3px 1px rgba(60, 64, 67, 0.15);\n",
              "      fill: #174EA6;\n",
              "    }\n",
              "\n",
              "    [theme=dark] .colab-df-convert {\n",
              "      background-color: #3B4455;\n",
              "      fill: #D2E3FC;\n",
              "    }\n",
              "\n",
              "    [theme=dark] .colab-df-convert:hover {\n",
              "      background-color: #434B5C;\n",
              "      box-shadow: 0px 1px 3px 1px rgba(0, 0, 0, 0.15);\n",
              "      filter: drop-shadow(0px 1px 2px rgba(0, 0, 0, 0.3));\n",
              "      fill: #FFFFFF;\n",
              "    }\n",
              "  </style>\n",
              "\n",
              "      <script>\n",
              "        const buttonEl =\n",
              "          document.querySelector('#df-eff12732-0f4f-461a-971a-3db866391af9 button.colab-df-convert');\n",
              "        buttonEl.style.display =\n",
              "          google.colab.kernel.accessAllowed ? 'block' : 'none';\n",
              "\n",
              "        async function convertToInteractive(key) {\n",
              "          const element = document.querySelector('#df-eff12732-0f4f-461a-971a-3db866391af9');\n",
              "          const dataTable =\n",
              "            await google.colab.kernel.invokeFunction('convertToInteractive',\n",
              "                                                     [key], {});\n",
              "          if (!dataTable) return;\n",
              "\n",
              "          const docLinkHtml = 'Like what you see? Visit the ' +\n",
              "            '<a target=\"_blank\" href=https://colab.research.google.com/notebooks/data_table.ipynb>data table notebook</a>'\n",
              "            + ' to learn more about interactive tables.';\n",
              "          element.innerHTML = '';\n",
              "          dataTable['output_type'] = 'display_data';\n",
              "          await google.colab.output.renderOutput(dataTable, element);\n",
              "          const docLink = document.createElement('div');\n",
              "          docLink.innerHTML = docLinkHtml;\n",
              "          element.appendChild(docLink);\n",
              "        }\n",
              "      </script>\n",
              "    </div>\n",
              "  </div>\n",
              "  "
            ]
          },
          "metadata": {},
          "execution_count": 230
        }
      ]
    },
    {
      "cell_type": "code",
      "source": [
        "grades.iloc[[0,2]]"
      ],
      "metadata": {
        "colab": {
          "base_uri": "https://localhost:8080/",
          "height": 112
        },
        "id": "KXQVWu-A1y5I",
        "outputId": "9a3237fb-89e9-433c-ffb0-f1365b667614"
      },
      "execution_count": null,
      "outputs": [
        {
          "output_type": "execute_result",
          "data": {
            "text/plain": [
              "       Wally  Eva  Sam  Katie  Bob\n",
              "Test1     87  100   94    100   83\n",
              "Test3     70   90   90     82   85"
            ],
            "text/html": [
              "\n",
              "  <div id=\"df-7ad8a0e6-84c3-463f-b44c-b63efb049f42\">\n",
              "    <div class=\"colab-df-container\">\n",
              "      <div>\n",
              "<style scoped>\n",
              "    .dataframe tbody tr th:only-of-type {\n",
              "        vertical-align: middle;\n",
              "    }\n",
              "\n",
              "    .dataframe tbody tr th {\n",
              "        vertical-align: top;\n",
              "    }\n",
              "\n",
              "    .dataframe thead th {\n",
              "        text-align: right;\n",
              "    }\n",
              "</style>\n",
              "<table border=\"1\" class=\"dataframe\">\n",
              "  <thead>\n",
              "    <tr style=\"text-align: right;\">\n",
              "      <th></th>\n",
              "      <th>Wally</th>\n",
              "      <th>Eva</th>\n",
              "      <th>Sam</th>\n",
              "      <th>Katie</th>\n",
              "      <th>Bob</th>\n",
              "    </tr>\n",
              "  </thead>\n",
              "  <tbody>\n",
              "    <tr>\n",
              "      <th>Test1</th>\n",
              "      <td>87</td>\n",
              "      <td>100</td>\n",
              "      <td>94</td>\n",
              "      <td>100</td>\n",
              "      <td>83</td>\n",
              "    </tr>\n",
              "    <tr>\n",
              "      <th>Test3</th>\n",
              "      <td>70</td>\n",
              "      <td>90</td>\n",
              "      <td>90</td>\n",
              "      <td>82</td>\n",
              "      <td>85</td>\n",
              "    </tr>\n",
              "  </tbody>\n",
              "</table>\n",
              "</div>\n",
              "      <button class=\"colab-df-convert\" onclick=\"convertToInteractive('df-7ad8a0e6-84c3-463f-b44c-b63efb049f42')\"\n",
              "              title=\"Convert this dataframe to an interactive table.\"\n",
              "              style=\"display:none;\">\n",
              "        \n",
              "  <svg xmlns=\"http://www.w3.org/2000/svg\" height=\"24px\"viewBox=\"0 0 24 24\"\n",
              "       width=\"24px\">\n",
              "    <path d=\"M0 0h24v24H0V0z\" fill=\"none\"/>\n",
              "    <path d=\"M18.56 5.44l.94 2.06.94-2.06 2.06-.94-2.06-.94-.94-2.06-.94 2.06-2.06.94zm-11 1L8.5 8.5l.94-2.06 2.06-.94-2.06-.94L8.5 2.5l-.94 2.06-2.06.94zm10 10l.94 2.06.94-2.06 2.06-.94-2.06-.94-.94-2.06-.94 2.06-2.06.94z\"/><path d=\"M17.41 7.96l-1.37-1.37c-.4-.4-.92-.59-1.43-.59-.52 0-1.04.2-1.43.59L10.3 9.45l-7.72 7.72c-.78.78-.78 2.05 0 2.83L4 21.41c.39.39.9.59 1.41.59.51 0 1.02-.2 1.41-.59l7.78-7.78 2.81-2.81c.8-.78.8-2.07 0-2.86zM5.41 20L4 18.59l7.72-7.72 1.47 1.35L5.41 20z\"/>\n",
              "  </svg>\n",
              "      </button>\n",
              "      \n",
              "  <style>\n",
              "    .colab-df-container {\n",
              "      display:flex;\n",
              "      flex-wrap:wrap;\n",
              "      gap: 12px;\n",
              "    }\n",
              "\n",
              "    .colab-df-convert {\n",
              "      background-color: #E8F0FE;\n",
              "      border: none;\n",
              "      border-radius: 50%;\n",
              "      cursor: pointer;\n",
              "      display: none;\n",
              "      fill: #1967D2;\n",
              "      height: 32px;\n",
              "      padding: 0 0 0 0;\n",
              "      width: 32px;\n",
              "    }\n",
              "\n",
              "    .colab-df-convert:hover {\n",
              "      background-color: #E2EBFA;\n",
              "      box-shadow: 0px 1px 2px rgba(60, 64, 67, 0.3), 0px 1px 3px 1px rgba(60, 64, 67, 0.15);\n",
              "      fill: #174EA6;\n",
              "    }\n",
              "\n",
              "    [theme=dark] .colab-df-convert {\n",
              "      background-color: #3B4455;\n",
              "      fill: #D2E3FC;\n",
              "    }\n",
              "\n",
              "    [theme=dark] .colab-df-convert:hover {\n",
              "      background-color: #434B5C;\n",
              "      box-shadow: 0px 1px 3px 1px rgba(0, 0, 0, 0.15);\n",
              "      filter: drop-shadow(0px 1px 2px rgba(0, 0, 0, 0.3));\n",
              "      fill: #FFFFFF;\n",
              "    }\n",
              "  </style>\n",
              "\n",
              "      <script>\n",
              "        const buttonEl =\n",
              "          document.querySelector('#df-7ad8a0e6-84c3-463f-b44c-b63efb049f42 button.colab-df-convert');\n",
              "        buttonEl.style.display =\n",
              "          google.colab.kernel.accessAllowed ? 'block' : 'none';\n",
              "\n",
              "        async function convertToInteractive(key) {\n",
              "          const element = document.querySelector('#df-7ad8a0e6-84c3-463f-b44c-b63efb049f42');\n",
              "          const dataTable =\n",
              "            await google.colab.kernel.invokeFunction('convertToInteractive',\n",
              "                                                     [key], {});\n",
              "          if (!dataTable) return;\n",
              "\n",
              "          const docLinkHtml = 'Like what you see? Visit the ' +\n",
              "            '<a target=\"_blank\" href=https://colab.research.google.com/notebooks/data_table.ipynb>data table notebook</a>'\n",
              "            + ' to learn more about interactive tables.';\n",
              "          element.innerHTML = '';\n",
              "          dataTable['output_type'] = 'display_data';\n",
              "          await google.colab.output.renderOutput(dataTable, element);\n",
              "          const docLink = document.createElement('div');\n",
              "          docLink.innerHTML = docLinkHtml;\n",
              "          element.appendChild(docLink);\n",
              "        }\n",
              "      </script>\n",
              "    </div>\n",
              "  </div>\n",
              "  "
            ]
          },
          "metadata": {},
          "execution_count": 231
        }
      ]
    },
    {
      "cell_type": "code",
      "source": [],
      "metadata": {
        "id": "8xTYki9G15_f"
      },
      "execution_count": null,
      "outputs": []
    },
    {
      "cell_type": "markdown",
      "metadata": {
        "id": "F8O8Y5i3NQTx"
      },
      "source": [
        "### Selecionando Subconjuntos de Linhas e Colunas"
      ]
    },
    {
      "cell_type": "code",
      "execution_count": null,
      "metadata": {
        "id": "E5v3VdM-NQTx",
        "colab": {
          "base_uri": "https://localhost:8080/",
          "height": 112
        },
        "outputId": "112d8e00-c249-4e47-e30b-631cf0fb5cad"
      },
      "outputs": [
        {
          "output_type": "execute_result",
          "data": {
            "text/plain": [
              "       Eva  Katie\n",
              "Test1    0    100\n",
              "Test2   87     81"
            ],
            "text/html": [
              "\n",
              "  <div id=\"df-4faaeace-2f89-43fb-aba3-9cf6463bfef7\">\n",
              "    <div class=\"colab-df-container\">\n",
              "      <div>\n",
              "<style scoped>\n",
              "    .dataframe tbody tr th:only-of-type {\n",
              "        vertical-align: middle;\n",
              "    }\n",
              "\n",
              "    .dataframe tbody tr th {\n",
              "        vertical-align: top;\n",
              "    }\n",
              "\n",
              "    .dataframe thead th {\n",
              "        text-align: right;\n",
              "    }\n",
              "</style>\n",
              "<table border=\"1\" class=\"dataframe\">\n",
              "  <thead>\n",
              "    <tr style=\"text-align: right;\">\n",
              "      <th></th>\n",
              "      <th>Eva</th>\n",
              "      <th>Katie</th>\n",
              "    </tr>\n",
              "  </thead>\n",
              "  <tbody>\n",
              "    <tr>\n",
              "      <th>Test1</th>\n",
              "      <td>0</td>\n",
              "      <td>100</td>\n",
              "    </tr>\n",
              "    <tr>\n",
              "      <th>Test2</th>\n",
              "      <td>87</td>\n",
              "      <td>81</td>\n",
              "    </tr>\n",
              "  </tbody>\n",
              "</table>\n",
              "</div>\n",
              "      <button class=\"colab-df-convert\" onclick=\"convertToInteractive('df-4faaeace-2f89-43fb-aba3-9cf6463bfef7')\"\n",
              "              title=\"Convert this dataframe to an interactive table.\"\n",
              "              style=\"display:none;\">\n",
              "        \n",
              "  <svg xmlns=\"http://www.w3.org/2000/svg\" height=\"24px\"viewBox=\"0 0 24 24\"\n",
              "       width=\"24px\">\n",
              "    <path d=\"M0 0h24v24H0V0z\" fill=\"none\"/>\n",
              "    <path d=\"M18.56 5.44l.94 2.06.94-2.06 2.06-.94-2.06-.94-.94-2.06-.94 2.06-2.06.94zm-11 1L8.5 8.5l.94-2.06 2.06-.94-2.06-.94L8.5 2.5l-.94 2.06-2.06.94zm10 10l.94 2.06.94-2.06 2.06-.94-2.06-.94-.94-2.06-.94 2.06-2.06.94z\"/><path d=\"M17.41 7.96l-1.37-1.37c-.4-.4-.92-.59-1.43-.59-.52 0-1.04.2-1.43.59L10.3 9.45l-7.72 7.72c-.78.78-.78 2.05 0 2.83L4 21.41c.39.39.9.59 1.41.59.51 0 1.02-.2 1.41-.59l7.78-7.78 2.81-2.81c.8-.78.8-2.07 0-2.86zM5.41 20L4 18.59l7.72-7.72 1.47 1.35L5.41 20z\"/>\n",
              "  </svg>\n",
              "      </button>\n",
              "      \n",
              "  <style>\n",
              "    .colab-df-container {\n",
              "      display:flex;\n",
              "      flex-wrap:wrap;\n",
              "      gap: 12px;\n",
              "    }\n",
              "\n",
              "    .colab-df-convert {\n",
              "      background-color: #E8F0FE;\n",
              "      border: none;\n",
              "      border-radius: 50%;\n",
              "      cursor: pointer;\n",
              "      display: none;\n",
              "      fill: #1967D2;\n",
              "      height: 32px;\n",
              "      padding: 0 0 0 0;\n",
              "      width: 32px;\n",
              "    }\n",
              "\n",
              "    .colab-df-convert:hover {\n",
              "      background-color: #E2EBFA;\n",
              "      box-shadow: 0px 1px 2px rgba(60, 64, 67, 0.3), 0px 1px 3px 1px rgba(60, 64, 67, 0.15);\n",
              "      fill: #174EA6;\n",
              "    }\n",
              "\n",
              "    [theme=dark] .colab-df-convert {\n",
              "      background-color: #3B4455;\n",
              "      fill: #D2E3FC;\n",
              "    }\n",
              "\n",
              "    [theme=dark] .colab-df-convert:hover {\n",
              "      background-color: #434B5C;\n",
              "      box-shadow: 0px 1px 3px 1px rgba(0, 0, 0, 0.15);\n",
              "      filter: drop-shadow(0px 1px 2px rgba(0, 0, 0, 0.3));\n",
              "      fill: #FFFFFF;\n",
              "    }\n",
              "  </style>\n",
              "\n",
              "      <script>\n",
              "        const buttonEl =\n",
              "          document.querySelector('#df-4faaeace-2f89-43fb-aba3-9cf6463bfef7 button.colab-df-convert');\n",
              "        buttonEl.style.display =\n",
              "          google.colab.kernel.accessAllowed ? 'block' : 'none';\n",
              "\n",
              "        async function convertToInteractive(key) {\n",
              "          const element = document.querySelector('#df-4faaeace-2f89-43fb-aba3-9cf6463bfef7');\n",
              "          const dataTable =\n",
              "            await google.colab.kernel.invokeFunction('convertToInteractive',\n",
              "                                                     [key], {});\n",
              "          if (!dataTable) return;\n",
              "\n",
              "          const docLinkHtml = 'Like what you see? Visit the ' +\n",
              "            '<a target=\"_blank\" href=https://colab.research.google.com/notebooks/data_table.ipynb>data table notebook</a>'\n",
              "            + ' to learn more about interactive tables.';\n",
              "          element.innerHTML = '';\n",
              "          dataTable['output_type'] = 'display_data';\n",
              "          await google.colab.output.renderOutput(dataTable, element);\n",
              "          const docLink = document.createElement('div');\n",
              "          docLink.innerHTML = docLinkHtml;\n",
              "          element.appendChild(docLink);\n",
              "        }\n",
              "      </script>\n",
              "    </div>\n",
              "  </div>\n",
              "  "
            ]
          },
          "metadata": {},
          "execution_count": 68
        }
      ],
      "source": [
        "grades.loc['Test1':'Test2', ['Eva', 'Katie']]"
      ]
    },
    {
      "cell_type": "code",
      "source": [
        "grades.iloc[[0,2], 0:3]"
      ],
      "metadata": {
        "colab": {
          "base_uri": "https://localhost:8080/",
          "height": 112
        },
        "id": "sO1b2gvU2DGZ",
        "outputId": "c25e02ae-a404-460c-9840-062acfe30f5b"
      },
      "execution_count": null,
      "outputs": [
        {
          "output_type": "execute_result",
          "data": {
            "text/plain": [
              "       Wally  Eva  Sam\n",
              "Test1     87  100   94\n",
              "Test3     70   90   90"
            ],
            "text/html": [
              "\n",
              "  <div id=\"df-e2d02d39-f2d2-42aa-9a3d-c53fb1ea0683\">\n",
              "    <div class=\"colab-df-container\">\n",
              "      <div>\n",
              "<style scoped>\n",
              "    .dataframe tbody tr th:only-of-type {\n",
              "        vertical-align: middle;\n",
              "    }\n",
              "\n",
              "    .dataframe tbody tr th {\n",
              "        vertical-align: top;\n",
              "    }\n",
              "\n",
              "    .dataframe thead th {\n",
              "        text-align: right;\n",
              "    }\n",
              "</style>\n",
              "<table border=\"1\" class=\"dataframe\">\n",
              "  <thead>\n",
              "    <tr style=\"text-align: right;\">\n",
              "      <th></th>\n",
              "      <th>Wally</th>\n",
              "      <th>Eva</th>\n",
              "      <th>Sam</th>\n",
              "    </tr>\n",
              "  </thead>\n",
              "  <tbody>\n",
              "    <tr>\n",
              "      <th>Test1</th>\n",
              "      <td>87</td>\n",
              "      <td>100</td>\n",
              "      <td>94</td>\n",
              "    </tr>\n",
              "    <tr>\n",
              "      <th>Test3</th>\n",
              "      <td>70</td>\n",
              "      <td>90</td>\n",
              "      <td>90</td>\n",
              "    </tr>\n",
              "  </tbody>\n",
              "</table>\n",
              "</div>\n",
              "      <button class=\"colab-df-convert\" onclick=\"convertToInteractive('df-e2d02d39-f2d2-42aa-9a3d-c53fb1ea0683')\"\n",
              "              title=\"Convert this dataframe to an interactive table.\"\n",
              "              style=\"display:none;\">\n",
              "        \n",
              "  <svg xmlns=\"http://www.w3.org/2000/svg\" height=\"24px\"viewBox=\"0 0 24 24\"\n",
              "       width=\"24px\">\n",
              "    <path d=\"M0 0h24v24H0V0z\" fill=\"none\"/>\n",
              "    <path d=\"M18.56 5.44l.94 2.06.94-2.06 2.06-.94-2.06-.94-.94-2.06-.94 2.06-2.06.94zm-11 1L8.5 8.5l.94-2.06 2.06-.94-2.06-.94L8.5 2.5l-.94 2.06-2.06.94zm10 10l.94 2.06.94-2.06 2.06-.94-2.06-.94-.94-2.06-.94 2.06-2.06.94z\"/><path d=\"M17.41 7.96l-1.37-1.37c-.4-.4-.92-.59-1.43-.59-.52 0-1.04.2-1.43.59L10.3 9.45l-7.72 7.72c-.78.78-.78 2.05 0 2.83L4 21.41c.39.39.9.59 1.41.59.51 0 1.02-.2 1.41-.59l7.78-7.78 2.81-2.81c.8-.78.8-2.07 0-2.86zM5.41 20L4 18.59l7.72-7.72 1.47 1.35L5.41 20z\"/>\n",
              "  </svg>\n",
              "      </button>\n",
              "      \n",
              "  <style>\n",
              "    .colab-df-container {\n",
              "      display:flex;\n",
              "      flex-wrap:wrap;\n",
              "      gap: 12px;\n",
              "    }\n",
              "\n",
              "    .colab-df-convert {\n",
              "      background-color: #E8F0FE;\n",
              "      border: none;\n",
              "      border-radius: 50%;\n",
              "      cursor: pointer;\n",
              "      display: none;\n",
              "      fill: #1967D2;\n",
              "      height: 32px;\n",
              "      padding: 0 0 0 0;\n",
              "      width: 32px;\n",
              "    }\n",
              "\n",
              "    .colab-df-convert:hover {\n",
              "      background-color: #E2EBFA;\n",
              "      box-shadow: 0px 1px 2px rgba(60, 64, 67, 0.3), 0px 1px 3px 1px rgba(60, 64, 67, 0.15);\n",
              "      fill: #174EA6;\n",
              "    }\n",
              "\n",
              "    [theme=dark] .colab-df-convert {\n",
              "      background-color: #3B4455;\n",
              "      fill: #D2E3FC;\n",
              "    }\n",
              "\n",
              "    [theme=dark] .colab-df-convert:hover {\n",
              "      background-color: #434B5C;\n",
              "      box-shadow: 0px 1px 3px 1px rgba(0, 0, 0, 0.15);\n",
              "      filter: drop-shadow(0px 1px 2px rgba(0, 0, 0, 0.3));\n",
              "      fill: #FFFFFF;\n",
              "    }\n",
              "  </style>\n",
              "\n",
              "      <script>\n",
              "        const buttonEl =\n",
              "          document.querySelector('#df-e2d02d39-f2d2-42aa-9a3d-c53fb1ea0683 button.colab-df-convert');\n",
              "        buttonEl.style.display =\n",
              "          google.colab.kernel.accessAllowed ? 'block' : 'none';\n",
              "\n",
              "        async function convertToInteractive(key) {\n",
              "          const element = document.querySelector('#df-e2d02d39-f2d2-42aa-9a3d-c53fb1ea0683');\n",
              "          const dataTable =\n",
              "            await google.colab.kernel.invokeFunction('convertToInteractive',\n",
              "                                                     [key], {});\n",
              "          if (!dataTable) return;\n",
              "\n",
              "          const docLinkHtml = 'Like what you see? Visit the ' +\n",
              "            '<a target=\"_blank\" href=https://colab.research.google.com/notebooks/data_table.ipynb>data table notebook</a>'\n",
              "            + ' to learn more about interactive tables.';\n",
              "          element.innerHTML = '';\n",
              "          dataTable['output_type'] = 'display_data';\n",
              "          await google.colab.output.renderOutput(dataTable, element);\n",
              "          const docLink = document.createElement('div');\n",
              "          docLink.innerHTML = docLinkHtml;\n",
              "          element.appendChild(docLink);\n",
              "        }\n",
              "      </script>\n",
              "    </div>\n",
              "  </div>\n",
              "  "
            ]
          },
          "metadata": {},
          "execution_count": 232
        }
      ]
    },
    {
      "cell_type": "code",
      "source": [],
      "metadata": {
        "id": "fINwcRhR2H_J"
      },
      "execution_count": null,
      "outputs": []
    },
    {
      "cell_type": "markdown",
      "metadata": {
        "id": "NyE5nl0aNQTx"
      },
      "source": [
        "### Indexação Booleana "
      ]
    },
    {
      "cell_type": "markdown",
      "source": [
        "quero as notas maiores ou iguais a 90"
      ],
      "metadata": {
        "id": "Z3Go0Ili2Ngr"
      }
    },
    {
      "cell_type": "code",
      "source": [
        "grades >= 90"
      ],
      "metadata": {
        "colab": {
          "base_uri": "https://localhost:8080/",
          "height": 143
        },
        "id": "01O0Mn1B2MDR",
        "outputId": "88d49d0c-1aaf-4784-9d3f-ab9166c269c3"
      },
      "execution_count": null,
      "outputs": [
        {
          "output_type": "execute_result",
          "data": {
            "text/plain": [
              "       Wally    Eva    Sam  Katie    Bob\n",
              "Test1  False   True   True   True  False\n",
              "Test2   True  False  False  False  False\n",
              "Test3  False   True   True  False  False"
            ],
            "text/html": [
              "\n",
              "  <div id=\"df-eded20ea-8e14-4dcd-a7d8-0aa9504486a7\">\n",
              "    <div class=\"colab-df-container\">\n",
              "      <div>\n",
              "<style scoped>\n",
              "    .dataframe tbody tr th:only-of-type {\n",
              "        vertical-align: middle;\n",
              "    }\n",
              "\n",
              "    .dataframe tbody tr th {\n",
              "        vertical-align: top;\n",
              "    }\n",
              "\n",
              "    .dataframe thead th {\n",
              "        text-align: right;\n",
              "    }\n",
              "</style>\n",
              "<table border=\"1\" class=\"dataframe\">\n",
              "  <thead>\n",
              "    <tr style=\"text-align: right;\">\n",
              "      <th></th>\n",
              "      <th>Wally</th>\n",
              "      <th>Eva</th>\n",
              "      <th>Sam</th>\n",
              "      <th>Katie</th>\n",
              "      <th>Bob</th>\n",
              "    </tr>\n",
              "  </thead>\n",
              "  <tbody>\n",
              "    <tr>\n",
              "      <th>Test1</th>\n",
              "      <td>False</td>\n",
              "      <td>True</td>\n",
              "      <td>True</td>\n",
              "      <td>True</td>\n",
              "      <td>False</td>\n",
              "    </tr>\n",
              "    <tr>\n",
              "      <th>Test2</th>\n",
              "      <td>True</td>\n",
              "      <td>False</td>\n",
              "      <td>False</td>\n",
              "      <td>False</td>\n",
              "      <td>False</td>\n",
              "    </tr>\n",
              "    <tr>\n",
              "      <th>Test3</th>\n",
              "      <td>False</td>\n",
              "      <td>True</td>\n",
              "      <td>True</td>\n",
              "      <td>False</td>\n",
              "      <td>False</td>\n",
              "    </tr>\n",
              "  </tbody>\n",
              "</table>\n",
              "</div>\n",
              "      <button class=\"colab-df-convert\" onclick=\"convertToInteractive('df-eded20ea-8e14-4dcd-a7d8-0aa9504486a7')\"\n",
              "              title=\"Convert this dataframe to an interactive table.\"\n",
              "              style=\"display:none;\">\n",
              "        \n",
              "  <svg xmlns=\"http://www.w3.org/2000/svg\" height=\"24px\"viewBox=\"0 0 24 24\"\n",
              "       width=\"24px\">\n",
              "    <path d=\"M0 0h24v24H0V0z\" fill=\"none\"/>\n",
              "    <path d=\"M18.56 5.44l.94 2.06.94-2.06 2.06-.94-2.06-.94-.94-2.06-.94 2.06-2.06.94zm-11 1L8.5 8.5l.94-2.06 2.06-.94-2.06-.94L8.5 2.5l-.94 2.06-2.06.94zm10 10l.94 2.06.94-2.06 2.06-.94-2.06-.94-.94-2.06-.94 2.06-2.06.94z\"/><path d=\"M17.41 7.96l-1.37-1.37c-.4-.4-.92-.59-1.43-.59-.52 0-1.04.2-1.43.59L10.3 9.45l-7.72 7.72c-.78.78-.78 2.05 0 2.83L4 21.41c.39.39.9.59 1.41.59.51 0 1.02-.2 1.41-.59l7.78-7.78 2.81-2.81c.8-.78.8-2.07 0-2.86zM5.41 20L4 18.59l7.72-7.72 1.47 1.35L5.41 20z\"/>\n",
              "  </svg>\n",
              "      </button>\n",
              "      \n",
              "  <style>\n",
              "    .colab-df-container {\n",
              "      display:flex;\n",
              "      flex-wrap:wrap;\n",
              "      gap: 12px;\n",
              "    }\n",
              "\n",
              "    .colab-df-convert {\n",
              "      background-color: #E8F0FE;\n",
              "      border: none;\n",
              "      border-radius: 50%;\n",
              "      cursor: pointer;\n",
              "      display: none;\n",
              "      fill: #1967D2;\n",
              "      height: 32px;\n",
              "      padding: 0 0 0 0;\n",
              "      width: 32px;\n",
              "    }\n",
              "\n",
              "    .colab-df-convert:hover {\n",
              "      background-color: #E2EBFA;\n",
              "      box-shadow: 0px 1px 2px rgba(60, 64, 67, 0.3), 0px 1px 3px 1px rgba(60, 64, 67, 0.15);\n",
              "      fill: #174EA6;\n",
              "    }\n",
              "\n",
              "    [theme=dark] .colab-df-convert {\n",
              "      background-color: #3B4455;\n",
              "      fill: #D2E3FC;\n",
              "    }\n",
              "\n",
              "    [theme=dark] .colab-df-convert:hover {\n",
              "      background-color: #434B5C;\n",
              "      box-shadow: 0px 1px 3px 1px rgba(0, 0, 0, 0.15);\n",
              "      filter: drop-shadow(0px 1px 2px rgba(0, 0, 0, 0.3));\n",
              "      fill: #FFFFFF;\n",
              "    }\n",
              "  </style>\n",
              "\n",
              "      <script>\n",
              "        const buttonEl =\n",
              "          document.querySelector('#df-eded20ea-8e14-4dcd-a7d8-0aa9504486a7 button.colab-df-convert');\n",
              "        buttonEl.style.display =\n",
              "          google.colab.kernel.accessAllowed ? 'block' : 'none';\n",
              "\n",
              "        async function convertToInteractive(key) {\n",
              "          const element = document.querySelector('#df-eded20ea-8e14-4dcd-a7d8-0aa9504486a7');\n",
              "          const dataTable =\n",
              "            await google.colab.kernel.invokeFunction('convertToInteractive',\n",
              "                                                     [key], {});\n",
              "          if (!dataTable) return;\n",
              "\n",
              "          const docLinkHtml = 'Like what you see? Visit the ' +\n",
              "            '<a target=\"_blank\" href=https://colab.research.google.com/notebooks/data_table.ipynb>data table notebook</a>'\n",
              "            + ' to learn more about interactive tables.';\n",
              "          element.innerHTML = '';\n",
              "          dataTable['output_type'] = 'display_data';\n",
              "          await google.colab.output.renderOutput(dataTable, element);\n",
              "          const docLink = document.createElement('div');\n",
              "          docLink.innerHTML = docLinkHtml;\n",
              "          element.appendChild(docLink);\n",
              "        }\n",
              "      </script>\n",
              "    </div>\n",
              "  </div>\n",
              "  "
            ]
          },
          "metadata": {},
          "execution_count": 233
        }
      ]
    },
    {
      "cell_type": "code",
      "source": [
        "grades[grades >= 90]"
      ],
      "metadata": {
        "colab": {
          "base_uri": "https://localhost:8080/",
          "height": 143
        },
        "id": "9O48rf4y2S63",
        "outputId": "60f991ef-1c6a-4ad1-8d4c-e1a9e3f8f916"
      },
      "execution_count": null,
      "outputs": [
        {
          "output_type": "execute_result",
          "data": {
            "text/plain": [
              "       Wally    Eva   Sam  Katie  Bob\n",
              "Test1    NaN  100.0  94.0  100.0  NaN\n",
              "Test2   96.0    NaN   NaN    NaN  NaN\n",
              "Test3    NaN   90.0  90.0    NaN  NaN"
            ],
            "text/html": [
              "\n",
              "  <div id=\"df-a79a2af9-527e-4577-9da9-2751f7da07ae\">\n",
              "    <div class=\"colab-df-container\">\n",
              "      <div>\n",
              "<style scoped>\n",
              "    .dataframe tbody tr th:only-of-type {\n",
              "        vertical-align: middle;\n",
              "    }\n",
              "\n",
              "    .dataframe tbody tr th {\n",
              "        vertical-align: top;\n",
              "    }\n",
              "\n",
              "    .dataframe thead th {\n",
              "        text-align: right;\n",
              "    }\n",
              "</style>\n",
              "<table border=\"1\" class=\"dataframe\">\n",
              "  <thead>\n",
              "    <tr style=\"text-align: right;\">\n",
              "      <th></th>\n",
              "      <th>Wally</th>\n",
              "      <th>Eva</th>\n",
              "      <th>Sam</th>\n",
              "      <th>Katie</th>\n",
              "      <th>Bob</th>\n",
              "    </tr>\n",
              "  </thead>\n",
              "  <tbody>\n",
              "    <tr>\n",
              "      <th>Test1</th>\n",
              "      <td>NaN</td>\n",
              "      <td>100.0</td>\n",
              "      <td>94.0</td>\n",
              "      <td>100.0</td>\n",
              "      <td>NaN</td>\n",
              "    </tr>\n",
              "    <tr>\n",
              "      <th>Test2</th>\n",
              "      <td>96.0</td>\n",
              "      <td>NaN</td>\n",
              "      <td>NaN</td>\n",
              "      <td>NaN</td>\n",
              "      <td>NaN</td>\n",
              "    </tr>\n",
              "    <tr>\n",
              "      <th>Test3</th>\n",
              "      <td>NaN</td>\n",
              "      <td>90.0</td>\n",
              "      <td>90.0</td>\n",
              "      <td>NaN</td>\n",
              "      <td>NaN</td>\n",
              "    </tr>\n",
              "  </tbody>\n",
              "</table>\n",
              "</div>\n",
              "      <button class=\"colab-df-convert\" onclick=\"convertToInteractive('df-a79a2af9-527e-4577-9da9-2751f7da07ae')\"\n",
              "              title=\"Convert this dataframe to an interactive table.\"\n",
              "              style=\"display:none;\">\n",
              "        \n",
              "  <svg xmlns=\"http://www.w3.org/2000/svg\" height=\"24px\"viewBox=\"0 0 24 24\"\n",
              "       width=\"24px\">\n",
              "    <path d=\"M0 0h24v24H0V0z\" fill=\"none\"/>\n",
              "    <path d=\"M18.56 5.44l.94 2.06.94-2.06 2.06-.94-2.06-.94-.94-2.06-.94 2.06-2.06.94zm-11 1L8.5 8.5l.94-2.06 2.06-.94-2.06-.94L8.5 2.5l-.94 2.06-2.06.94zm10 10l.94 2.06.94-2.06 2.06-.94-2.06-.94-.94-2.06-.94 2.06-2.06.94z\"/><path d=\"M17.41 7.96l-1.37-1.37c-.4-.4-.92-.59-1.43-.59-.52 0-1.04.2-1.43.59L10.3 9.45l-7.72 7.72c-.78.78-.78 2.05 0 2.83L4 21.41c.39.39.9.59 1.41.59.51 0 1.02-.2 1.41-.59l7.78-7.78 2.81-2.81c.8-.78.8-2.07 0-2.86zM5.41 20L4 18.59l7.72-7.72 1.47 1.35L5.41 20z\"/>\n",
              "  </svg>\n",
              "      </button>\n",
              "      \n",
              "  <style>\n",
              "    .colab-df-container {\n",
              "      display:flex;\n",
              "      flex-wrap:wrap;\n",
              "      gap: 12px;\n",
              "    }\n",
              "\n",
              "    .colab-df-convert {\n",
              "      background-color: #E8F0FE;\n",
              "      border: none;\n",
              "      border-radius: 50%;\n",
              "      cursor: pointer;\n",
              "      display: none;\n",
              "      fill: #1967D2;\n",
              "      height: 32px;\n",
              "      padding: 0 0 0 0;\n",
              "      width: 32px;\n",
              "    }\n",
              "\n",
              "    .colab-df-convert:hover {\n",
              "      background-color: #E2EBFA;\n",
              "      box-shadow: 0px 1px 2px rgba(60, 64, 67, 0.3), 0px 1px 3px 1px rgba(60, 64, 67, 0.15);\n",
              "      fill: #174EA6;\n",
              "    }\n",
              "\n",
              "    [theme=dark] .colab-df-convert {\n",
              "      background-color: #3B4455;\n",
              "      fill: #D2E3FC;\n",
              "    }\n",
              "\n",
              "    [theme=dark] .colab-df-convert:hover {\n",
              "      background-color: #434B5C;\n",
              "      box-shadow: 0px 1px 3px 1px rgba(0, 0, 0, 0.15);\n",
              "      filter: drop-shadow(0px 1px 2px rgba(0, 0, 0, 0.3));\n",
              "      fill: #FFFFFF;\n",
              "    }\n",
              "  </style>\n",
              "\n",
              "      <script>\n",
              "        const buttonEl =\n",
              "          document.querySelector('#df-a79a2af9-527e-4577-9da9-2751f7da07ae button.colab-df-convert');\n",
              "        buttonEl.style.display =\n",
              "          google.colab.kernel.accessAllowed ? 'block' : 'none';\n",
              "\n",
              "        async function convertToInteractive(key) {\n",
              "          const element = document.querySelector('#df-a79a2af9-527e-4577-9da9-2751f7da07ae');\n",
              "          const dataTable =\n",
              "            await google.colab.kernel.invokeFunction('convertToInteractive',\n",
              "                                                     [key], {});\n",
              "          if (!dataTable) return;\n",
              "\n",
              "          const docLinkHtml = 'Like what you see? Visit the ' +\n",
              "            '<a target=\"_blank\" href=https://colab.research.google.com/notebooks/data_table.ipynb>data table notebook</a>'\n",
              "            + ' to learn more about interactive tables.';\n",
              "          element.innerHTML = '';\n",
              "          dataTable['output_type'] = 'display_data';\n",
              "          await google.colab.output.renderOutput(dataTable, element);\n",
              "          const docLink = document.createElement('div');\n",
              "          docLink.innerHTML = docLinkHtml;\n",
              "          element.appendChild(docLink);\n",
              "        }\n",
              "      </script>\n",
              "    </div>\n",
              "  </div>\n",
              "  "
            ]
          },
          "metadata": {},
          "execution_count": 234
        }
      ]
    },
    {
      "cell_type": "code",
      "source": [
        "grades[grades>=90].loc['Test1']"
      ],
      "metadata": {
        "colab": {
          "base_uri": "https://localhost:8080/"
        },
        "id": "8yed1eKI2eVO",
        "outputId": "29494622-b82f-433a-ee12-7da21134e0cd"
      },
      "execution_count": null,
      "outputs": [
        {
          "output_type": "execute_result",
          "data": {
            "text/plain": [
              "Wally      NaN\n",
              "Eva      100.0\n",
              "Sam       94.0\n",
              "Katie    100.0\n",
              "Bob        NaN\n",
              "Name: Test1, dtype: float64"
            ]
          },
          "metadata": {},
          "execution_count": 237
        }
      ]
    },
    {
      "cell_type": "code",
      "source": [
        "grades[(grades < 90) & (grades>=80)]"
      ],
      "metadata": {
        "colab": {
          "base_uri": "https://localhost:8080/",
          "height": 143
        },
        "id": "x7HFXz1n2ngg",
        "outputId": "c300c4d4-f083-4496-b211-7004b90a8293"
      },
      "execution_count": null,
      "outputs": [
        {
          "output_type": "execute_result",
          "data": {
            "text/plain": [
              "       Wally   Eva  Sam  Katie   Bob\n",
              "Test1   87.0   NaN  NaN    NaN  83.0\n",
              "Test2    NaN  87.0  NaN   81.0   NaN\n",
              "Test3    NaN   NaN  NaN   82.0  85.0"
            ],
            "text/html": [
              "\n",
              "  <div id=\"df-268790cc-7391-4f10-9ea9-2cc2695b0aef\">\n",
              "    <div class=\"colab-df-container\">\n",
              "      <div>\n",
              "<style scoped>\n",
              "    .dataframe tbody tr th:only-of-type {\n",
              "        vertical-align: middle;\n",
              "    }\n",
              "\n",
              "    .dataframe tbody tr th {\n",
              "        vertical-align: top;\n",
              "    }\n",
              "\n",
              "    .dataframe thead th {\n",
              "        text-align: right;\n",
              "    }\n",
              "</style>\n",
              "<table border=\"1\" class=\"dataframe\">\n",
              "  <thead>\n",
              "    <tr style=\"text-align: right;\">\n",
              "      <th></th>\n",
              "      <th>Wally</th>\n",
              "      <th>Eva</th>\n",
              "      <th>Sam</th>\n",
              "      <th>Katie</th>\n",
              "      <th>Bob</th>\n",
              "    </tr>\n",
              "  </thead>\n",
              "  <tbody>\n",
              "    <tr>\n",
              "      <th>Test1</th>\n",
              "      <td>87.0</td>\n",
              "      <td>NaN</td>\n",
              "      <td>NaN</td>\n",
              "      <td>NaN</td>\n",
              "      <td>83.0</td>\n",
              "    </tr>\n",
              "    <tr>\n",
              "      <th>Test2</th>\n",
              "      <td>NaN</td>\n",
              "      <td>87.0</td>\n",
              "      <td>NaN</td>\n",
              "      <td>81.0</td>\n",
              "      <td>NaN</td>\n",
              "    </tr>\n",
              "    <tr>\n",
              "      <th>Test3</th>\n",
              "      <td>NaN</td>\n",
              "      <td>NaN</td>\n",
              "      <td>NaN</td>\n",
              "      <td>82.0</td>\n",
              "      <td>85.0</td>\n",
              "    </tr>\n",
              "  </tbody>\n",
              "</table>\n",
              "</div>\n",
              "      <button class=\"colab-df-convert\" onclick=\"convertToInteractive('df-268790cc-7391-4f10-9ea9-2cc2695b0aef')\"\n",
              "              title=\"Convert this dataframe to an interactive table.\"\n",
              "              style=\"display:none;\">\n",
              "        \n",
              "  <svg xmlns=\"http://www.w3.org/2000/svg\" height=\"24px\"viewBox=\"0 0 24 24\"\n",
              "       width=\"24px\">\n",
              "    <path d=\"M0 0h24v24H0V0z\" fill=\"none\"/>\n",
              "    <path d=\"M18.56 5.44l.94 2.06.94-2.06 2.06-.94-2.06-.94-.94-2.06-.94 2.06-2.06.94zm-11 1L8.5 8.5l.94-2.06 2.06-.94-2.06-.94L8.5 2.5l-.94 2.06-2.06.94zm10 10l.94 2.06.94-2.06 2.06-.94-2.06-.94-.94-2.06-.94 2.06-2.06.94z\"/><path d=\"M17.41 7.96l-1.37-1.37c-.4-.4-.92-.59-1.43-.59-.52 0-1.04.2-1.43.59L10.3 9.45l-7.72 7.72c-.78.78-.78 2.05 0 2.83L4 21.41c.39.39.9.59 1.41.59.51 0 1.02-.2 1.41-.59l7.78-7.78 2.81-2.81c.8-.78.8-2.07 0-2.86zM5.41 20L4 18.59l7.72-7.72 1.47 1.35L5.41 20z\"/>\n",
              "  </svg>\n",
              "      </button>\n",
              "      \n",
              "  <style>\n",
              "    .colab-df-container {\n",
              "      display:flex;\n",
              "      flex-wrap:wrap;\n",
              "      gap: 12px;\n",
              "    }\n",
              "\n",
              "    .colab-df-convert {\n",
              "      background-color: #E8F0FE;\n",
              "      border: none;\n",
              "      border-radius: 50%;\n",
              "      cursor: pointer;\n",
              "      display: none;\n",
              "      fill: #1967D2;\n",
              "      height: 32px;\n",
              "      padding: 0 0 0 0;\n",
              "      width: 32px;\n",
              "    }\n",
              "\n",
              "    .colab-df-convert:hover {\n",
              "      background-color: #E2EBFA;\n",
              "      box-shadow: 0px 1px 2px rgba(60, 64, 67, 0.3), 0px 1px 3px 1px rgba(60, 64, 67, 0.15);\n",
              "      fill: #174EA6;\n",
              "    }\n",
              "\n",
              "    [theme=dark] .colab-df-convert {\n",
              "      background-color: #3B4455;\n",
              "      fill: #D2E3FC;\n",
              "    }\n",
              "\n",
              "    [theme=dark] .colab-df-convert:hover {\n",
              "      background-color: #434B5C;\n",
              "      box-shadow: 0px 1px 3px 1px rgba(0, 0, 0, 0.15);\n",
              "      filter: drop-shadow(0px 1px 2px rgba(0, 0, 0, 0.3));\n",
              "      fill: #FFFFFF;\n",
              "    }\n",
              "  </style>\n",
              "\n",
              "      <script>\n",
              "        const buttonEl =\n",
              "          document.querySelector('#df-268790cc-7391-4f10-9ea9-2cc2695b0aef button.colab-df-convert');\n",
              "        buttonEl.style.display =\n",
              "          google.colab.kernel.accessAllowed ? 'block' : 'none';\n",
              "\n",
              "        async function convertToInteractive(key) {\n",
              "          const element = document.querySelector('#df-268790cc-7391-4f10-9ea9-2cc2695b0aef');\n",
              "          const dataTable =\n",
              "            await google.colab.kernel.invokeFunction('convertToInteractive',\n",
              "                                                     [key], {});\n",
              "          if (!dataTable) return;\n",
              "\n",
              "          const docLinkHtml = 'Like what you see? Visit the ' +\n",
              "            '<a target=\"_blank\" href=https://colab.research.google.com/notebooks/data_table.ipynb>data table notebook</a>'\n",
              "            + ' to learn more about interactive tables.';\n",
              "          element.innerHTML = '';\n",
              "          dataTable['output_type'] = 'display_data';\n",
              "          await google.colab.output.renderOutput(dataTable, element);\n",
              "          const docLink = document.createElement('div');\n",
              "          docLink.innerHTML = docLinkHtml;\n",
              "          element.appendChild(docLink);\n",
              "        }\n",
              "      </script>\n",
              "    </div>\n",
              "  </div>\n",
              "  "
            ]
          },
          "metadata": {},
          "execution_count": 238
        }
      ]
    },
    {
      "cell_type": "code",
      "source": [],
      "metadata": {
        "id": "DditA_L83AzJ"
      },
      "execution_count": null,
      "outputs": []
    },
    {
      "cell_type": "markdown",
      "metadata": {
        "id": "pzkukMHBNQTy"
      },
      "source": [
        "### Acessando uma célula 'DataFrame' específica por linha e coluna"
      ]
    },
    {
      "cell_type": "markdown",
      "source": [
        "Você pode usar os atributos at e iat de um DataFrame para obter um único valor de um DataFrame.\n",
        "Como loc e iloc, at usa rótulos e iat usa índices inteiros."
      ],
      "metadata": {
        "id": "spOwdRqLAT4O"
      }
    },
    {
      "cell_type": "code",
      "execution_count": null,
      "metadata": {
        "id": "f6xWO4S9NQTy",
        "colab": {
          "base_uri": "https://localhost:8080/"
        },
        "outputId": "f282ed8a-8992-404b-81f5-0e8b09d38b75"
      },
      "outputs": [
        {
          "output_type": "execute_result",
          "data": {
            "text/plain": [
              "87"
            ]
          },
          "metadata": {},
          "execution_count": 239
        }
      ],
      "source": [
        "grades.at['Test2', 'Eva']"
      ]
    },
    {
      "cell_type": "code",
      "source": [
        "grades['Eva']['Test2']"
      ],
      "metadata": {
        "colab": {
          "base_uri": "https://localhost:8080/"
        },
        "id": "ffy3_8ye3KU9",
        "outputId": "526a12ef-6161-46ef-c645-0b21fc5b51e3"
      },
      "execution_count": null,
      "outputs": [
        {
          "output_type": "execute_result",
          "data": {
            "text/plain": [
              "87"
            ]
          },
          "metadata": {},
          "execution_count": 240
        }
      ]
    },
    {
      "cell_type": "code",
      "source": [
        "grades.iat[2, 0]"
      ],
      "metadata": {
        "colab": {
          "base_uri": "https://localhost:8080/"
        },
        "id": "y7oqtzQG3OsI",
        "outputId": "3c3beb74-e391-4a2e-adc1-4e70355961b6"
      },
      "execution_count": null,
      "outputs": [
        {
          "output_type": "execute_result",
          "data": {
            "text/plain": [
              "70"
            ]
          },
          "metadata": {},
          "execution_count": 241
        }
      ]
    },
    {
      "cell_type": "code",
      "source": [
        "grades.at['Test2', 'Eva'] = 100"
      ],
      "metadata": {
        "id": "fYvJVek33T-0"
      },
      "execution_count": null,
      "outputs": []
    },
    {
      "cell_type": "code",
      "source": [
        "grades"
      ],
      "metadata": {
        "colab": {
          "base_uri": "https://localhost:8080/",
          "height": 143
        },
        "id": "RYP2cdDJ3Vlh",
        "outputId": "afde898b-914c-4b1d-e89a-90178316f542"
      },
      "execution_count": null,
      "outputs": [
        {
          "output_type": "execute_result",
          "data": {
            "text/plain": [
              "       Wally  Eva  Sam  Katie  Bob\n",
              "Test1     87  100   94    100   83\n",
              "Test2     96   87   77     81   65\n",
              "Test3     70   90   90     82   85"
            ],
            "text/html": [
              "\n",
              "  <div id=\"df-7883da01-4766-4486-8f6c-796de54eb1ba\">\n",
              "    <div class=\"colab-df-container\">\n",
              "      <div>\n",
              "<style scoped>\n",
              "    .dataframe tbody tr th:only-of-type {\n",
              "        vertical-align: middle;\n",
              "    }\n",
              "\n",
              "    .dataframe tbody tr th {\n",
              "        vertical-align: top;\n",
              "    }\n",
              "\n",
              "    .dataframe thead th {\n",
              "        text-align: right;\n",
              "    }\n",
              "</style>\n",
              "<table border=\"1\" class=\"dataframe\">\n",
              "  <thead>\n",
              "    <tr style=\"text-align: right;\">\n",
              "      <th></th>\n",
              "      <th>Wally</th>\n",
              "      <th>Eva</th>\n",
              "      <th>Sam</th>\n",
              "      <th>Katie</th>\n",
              "      <th>Bob</th>\n",
              "    </tr>\n",
              "  </thead>\n",
              "  <tbody>\n",
              "    <tr>\n",
              "      <th>Test1</th>\n",
              "      <td>87</td>\n",
              "      <td>100</td>\n",
              "      <td>94</td>\n",
              "      <td>100</td>\n",
              "      <td>83</td>\n",
              "    </tr>\n",
              "    <tr>\n",
              "      <th>Test2</th>\n",
              "      <td>96</td>\n",
              "      <td>87</td>\n",
              "      <td>77</td>\n",
              "      <td>81</td>\n",
              "      <td>65</td>\n",
              "    </tr>\n",
              "    <tr>\n",
              "      <th>Test3</th>\n",
              "      <td>70</td>\n",
              "      <td>90</td>\n",
              "      <td>90</td>\n",
              "      <td>82</td>\n",
              "      <td>85</td>\n",
              "    </tr>\n",
              "  </tbody>\n",
              "</table>\n",
              "</div>\n",
              "      <button class=\"colab-df-convert\" onclick=\"convertToInteractive('df-7883da01-4766-4486-8f6c-796de54eb1ba')\"\n",
              "              title=\"Convert this dataframe to an interactive table.\"\n",
              "              style=\"display:none;\">\n",
              "        \n",
              "  <svg xmlns=\"http://www.w3.org/2000/svg\" height=\"24px\"viewBox=\"0 0 24 24\"\n",
              "       width=\"24px\">\n",
              "    <path d=\"M0 0h24v24H0V0z\" fill=\"none\"/>\n",
              "    <path d=\"M18.56 5.44l.94 2.06.94-2.06 2.06-.94-2.06-.94-.94-2.06-.94 2.06-2.06.94zm-11 1L8.5 8.5l.94-2.06 2.06-.94-2.06-.94L8.5 2.5l-.94 2.06-2.06.94zm10 10l.94 2.06.94-2.06 2.06-.94-2.06-.94-.94-2.06-.94 2.06-2.06.94z\"/><path d=\"M17.41 7.96l-1.37-1.37c-.4-.4-.92-.59-1.43-.59-.52 0-1.04.2-1.43.59L10.3 9.45l-7.72 7.72c-.78.78-.78 2.05 0 2.83L4 21.41c.39.39.9.59 1.41.59.51 0 1.02-.2 1.41-.59l7.78-7.78 2.81-2.81c.8-.78.8-2.07 0-2.86zM5.41 20L4 18.59l7.72-7.72 1.47 1.35L5.41 20z\"/>\n",
              "  </svg>\n",
              "      </button>\n",
              "      \n",
              "  <style>\n",
              "    .colab-df-container {\n",
              "      display:flex;\n",
              "      flex-wrap:wrap;\n",
              "      gap: 12px;\n",
              "    }\n",
              "\n",
              "    .colab-df-convert {\n",
              "      background-color: #E8F0FE;\n",
              "      border: none;\n",
              "      border-radius: 50%;\n",
              "      cursor: pointer;\n",
              "      display: none;\n",
              "      fill: #1967D2;\n",
              "      height: 32px;\n",
              "      padding: 0 0 0 0;\n",
              "      width: 32px;\n",
              "    }\n",
              "\n",
              "    .colab-df-convert:hover {\n",
              "      background-color: #E2EBFA;\n",
              "      box-shadow: 0px 1px 2px rgba(60, 64, 67, 0.3), 0px 1px 3px 1px rgba(60, 64, 67, 0.15);\n",
              "      fill: #174EA6;\n",
              "    }\n",
              "\n",
              "    [theme=dark] .colab-df-convert {\n",
              "      background-color: #3B4455;\n",
              "      fill: #D2E3FC;\n",
              "    }\n",
              "\n",
              "    [theme=dark] .colab-df-convert:hover {\n",
              "      background-color: #434B5C;\n",
              "      box-shadow: 0px 1px 3px 1px rgba(0, 0, 0, 0.15);\n",
              "      filter: drop-shadow(0px 1px 2px rgba(0, 0, 0, 0.3));\n",
              "      fill: #FFFFFF;\n",
              "    }\n",
              "  </style>\n",
              "\n",
              "      <script>\n",
              "        const buttonEl =\n",
              "          document.querySelector('#df-7883da01-4766-4486-8f6c-796de54eb1ba button.colab-df-convert');\n",
              "        buttonEl.style.display =\n",
              "          google.colab.kernel.accessAllowed ? 'block' : 'none';\n",
              "\n",
              "        async function convertToInteractive(key) {\n",
              "          const element = document.querySelector('#df-7883da01-4766-4486-8f6c-796de54eb1ba');\n",
              "          const dataTable =\n",
              "            await google.colab.kernel.invokeFunction('convertToInteractive',\n",
              "                                                     [key], {});\n",
              "          if (!dataTable) return;\n",
              "\n",
              "          const docLinkHtml = 'Like what you see? Visit the ' +\n",
              "            '<a target=\"_blank\" href=https://colab.research.google.com/notebooks/data_table.ipynb>data table notebook</a>'\n",
              "            + ' to learn more about interactive tables.';\n",
              "          element.innerHTML = '';\n",
              "          dataTable['output_type'] = 'display_data';\n",
              "          await google.colab.output.renderOutput(dataTable, element);\n",
              "          const docLink = document.createElement('div');\n",
              "          docLink.innerHTML = docLinkHtml;\n",
              "          element.appendChild(docLink);\n",
              "        }\n",
              "      </script>\n",
              "    </div>\n",
              "  </div>\n",
              "  "
            ]
          },
          "metadata": {},
          "execution_count": 242
        }
      ]
    },
    {
      "cell_type": "markdown",
      "metadata": {
        "id": "AaIL5f8vNQTz"
      },
      "source": [
        "### Estatísticas descritivas"
      ]
    },
    {
      "cell_type": "code",
      "source": [
        "grades.describe()"
      ],
      "metadata": {
        "colab": {
          "base_uri": "https://localhost:8080/",
          "height": 300
        },
        "id": "6Ju-azON3eTR",
        "outputId": "41a5466e-e115-4c94-984b-8202b24132ac"
      },
      "execution_count": null,
      "outputs": [
        {
          "output_type": "execute_result",
          "data": {
            "text/plain": [
              "           Wally         Eva        Sam       Katie        Bob\n",
              "count   3.000000    3.000000   3.000000    3.000000   3.000000\n",
              "mean   84.333333   92.333333  87.000000   87.666667  77.666667\n",
              "std    13.203535    6.806859   8.888194   10.692677  11.015141\n",
              "min    70.000000   87.000000  77.000000   81.000000  65.000000\n",
              "25%    78.500000   88.500000  83.500000   81.500000  74.000000\n",
              "50%    87.000000   90.000000  90.000000   82.000000  83.000000\n",
              "75%    91.500000   95.000000  92.000000   91.000000  84.000000\n",
              "max    96.000000  100.000000  94.000000  100.000000  85.000000"
            ],
            "text/html": [
              "\n",
              "  <div id=\"df-6a6ccd2d-e898-411a-977e-f430c04ce55f\">\n",
              "    <div class=\"colab-df-container\">\n",
              "      <div>\n",
              "<style scoped>\n",
              "    .dataframe tbody tr th:only-of-type {\n",
              "        vertical-align: middle;\n",
              "    }\n",
              "\n",
              "    .dataframe tbody tr th {\n",
              "        vertical-align: top;\n",
              "    }\n",
              "\n",
              "    .dataframe thead th {\n",
              "        text-align: right;\n",
              "    }\n",
              "</style>\n",
              "<table border=\"1\" class=\"dataframe\">\n",
              "  <thead>\n",
              "    <tr style=\"text-align: right;\">\n",
              "      <th></th>\n",
              "      <th>Wally</th>\n",
              "      <th>Eva</th>\n",
              "      <th>Sam</th>\n",
              "      <th>Katie</th>\n",
              "      <th>Bob</th>\n",
              "    </tr>\n",
              "  </thead>\n",
              "  <tbody>\n",
              "    <tr>\n",
              "      <th>count</th>\n",
              "      <td>3.000000</td>\n",
              "      <td>3.000000</td>\n",
              "      <td>3.000000</td>\n",
              "      <td>3.000000</td>\n",
              "      <td>3.000000</td>\n",
              "    </tr>\n",
              "    <tr>\n",
              "      <th>mean</th>\n",
              "      <td>84.333333</td>\n",
              "      <td>92.333333</td>\n",
              "      <td>87.000000</td>\n",
              "      <td>87.666667</td>\n",
              "      <td>77.666667</td>\n",
              "    </tr>\n",
              "    <tr>\n",
              "      <th>std</th>\n",
              "      <td>13.203535</td>\n",
              "      <td>6.806859</td>\n",
              "      <td>8.888194</td>\n",
              "      <td>10.692677</td>\n",
              "      <td>11.015141</td>\n",
              "    </tr>\n",
              "    <tr>\n",
              "      <th>min</th>\n",
              "      <td>70.000000</td>\n",
              "      <td>87.000000</td>\n",
              "      <td>77.000000</td>\n",
              "      <td>81.000000</td>\n",
              "      <td>65.000000</td>\n",
              "    </tr>\n",
              "    <tr>\n",
              "      <th>25%</th>\n",
              "      <td>78.500000</td>\n",
              "      <td>88.500000</td>\n",
              "      <td>83.500000</td>\n",
              "      <td>81.500000</td>\n",
              "      <td>74.000000</td>\n",
              "    </tr>\n",
              "    <tr>\n",
              "      <th>50%</th>\n",
              "      <td>87.000000</td>\n",
              "      <td>90.000000</td>\n",
              "      <td>90.000000</td>\n",
              "      <td>82.000000</td>\n",
              "      <td>83.000000</td>\n",
              "    </tr>\n",
              "    <tr>\n",
              "      <th>75%</th>\n",
              "      <td>91.500000</td>\n",
              "      <td>95.000000</td>\n",
              "      <td>92.000000</td>\n",
              "      <td>91.000000</td>\n",
              "      <td>84.000000</td>\n",
              "    </tr>\n",
              "    <tr>\n",
              "      <th>max</th>\n",
              "      <td>96.000000</td>\n",
              "      <td>100.000000</td>\n",
              "      <td>94.000000</td>\n",
              "      <td>100.000000</td>\n",
              "      <td>85.000000</td>\n",
              "    </tr>\n",
              "  </tbody>\n",
              "</table>\n",
              "</div>\n",
              "      <button class=\"colab-df-convert\" onclick=\"convertToInteractive('df-6a6ccd2d-e898-411a-977e-f430c04ce55f')\"\n",
              "              title=\"Convert this dataframe to an interactive table.\"\n",
              "              style=\"display:none;\">\n",
              "        \n",
              "  <svg xmlns=\"http://www.w3.org/2000/svg\" height=\"24px\"viewBox=\"0 0 24 24\"\n",
              "       width=\"24px\">\n",
              "    <path d=\"M0 0h24v24H0V0z\" fill=\"none\"/>\n",
              "    <path d=\"M18.56 5.44l.94 2.06.94-2.06 2.06-.94-2.06-.94-.94-2.06-.94 2.06-2.06.94zm-11 1L8.5 8.5l.94-2.06 2.06-.94-2.06-.94L8.5 2.5l-.94 2.06-2.06.94zm10 10l.94 2.06.94-2.06 2.06-.94-2.06-.94-.94-2.06-.94 2.06-2.06.94z\"/><path d=\"M17.41 7.96l-1.37-1.37c-.4-.4-.92-.59-1.43-.59-.52 0-1.04.2-1.43.59L10.3 9.45l-7.72 7.72c-.78.78-.78 2.05 0 2.83L4 21.41c.39.39.9.59 1.41.59.51 0 1.02-.2 1.41-.59l7.78-7.78 2.81-2.81c.8-.78.8-2.07 0-2.86zM5.41 20L4 18.59l7.72-7.72 1.47 1.35L5.41 20z\"/>\n",
              "  </svg>\n",
              "      </button>\n",
              "      \n",
              "  <style>\n",
              "    .colab-df-container {\n",
              "      display:flex;\n",
              "      flex-wrap:wrap;\n",
              "      gap: 12px;\n",
              "    }\n",
              "\n",
              "    .colab-df-convert {\n",
              "      background-color: #E8F0FE;\n",
              "      border: none;\n",
              "      border-radius: 50%;\n",
              "      cursor: pointer;\n",
              "      display: none;\n",
              "      fill: #1967D2;\n",
              "      height: 32px;\n",
              "      padding: 0 0 0 0;\n",
              "      width: 32px;\n",
              "    }\n",
              "\n",
              "    .colab-df-convert:hover {\n",
              "      background-color: #E2EBFA;\n",
              "      box-shadow: 0px 1px 2px rgba(60, 64, 67, 0.3), 0px 1px 3px 1px rgba(60, 64, 67, 0.15);\n",
              "      fill: #174EA6;\n",
              "    }\n",
              "\n",
              "    [theme=dark] .colab-df-convert {\n",
              "      background-color: #3B4455;\n",
              "      fill: #D2E3FC;\n",
              "    }\n",
              "\n",
              "    [theme=dark] .colab-df-convert:hover {\n",
              "      background-color: #434B5C;\n",
              "      box-shadow: 0px 1px 3px 1px rgba(0, 0, 0, 0.15);\n",
              "      filter: drop-shadow(0px 1px 2px rgba(0, 0, 0, 0.3));\n",
              "      fill: #FFFFFF;\n",
              "    }\n",
              "  </style>\n",
              "\n",
              "      <script>\n",
              "        const buttonEl =\n",
              "          document.querySelector('#df-6a6ccd2d-e898-411a-977e-f430c04ce55f button.colab-df-convert');\n",
              "        buttonEl.style.display =\n",
              "          google.colab.kernel.accessAllowed ? 'block' : 'none';\n",
              "\n",
              "        async function convertToInteractive(key) {\n",
              "          const element = document.querySelector('#df-6a6ccd2d-e898-411a-977e-f430c04ce55f');\n",
              "          const dataTable =\n",
              "            await google.colab.kernel.invokeFunction('convertToInteractive',\n",
              "                                                     [key], {});\n",
              "          if (!dataTable) return;\n",
              "\n",
              "          const docLinkHtml = 'Like what you see? Visit the ' +\n",
              "            '<a target=\"_blank\" href=https://colab.research.google.com/notebooks/data_table.ipynb>data table notebook</a>'\n",
              "            + ' to learn more about interactive tables.';\n",
              "          element.innerHTML = '';\n",
              "          dataTable['output_type'] = 'display_data';\n",
              "          await google.colab.output.renderOutput(dataTable, element);\n",
              "          const docLink = document.createElement('div');\n",
              "          docLink.innerHTML = docLinkHtml;\n",
              "          element.appendChild(docLink);\n",
              "        }\n",
              "      </script>\n",
              "    </div>\n",
              "  </div>\n",
              "  "
            ]
          },
          "metadata": {},
          "execution_count": 243
        }
      ]
    },
    {
      "cell_type": "code",
      "execution_count": null,
      "metadata": {
        "id": "XzXn8D0oNQT0"
      },
      "outputs": [],
      "source": [
        "pd.set_option('precision', 2)"
      ]
    },
    {
      "cell_type": "code",
      "execution_count": null,
      "metadata": {
        "id": "hw7yP4OpNQT0",
        "colab": {
          "base_uri": "https://localhost:8080/",
          "height": 300
        },
        "outputId": "d420af8e-f291-4b94-b3fc-b6cc95ac21c7"
      },
      "outputs": [
        {
          "output_type": "execute_result",
          "data": {
            "text/plain": [
              "       Wally     Eva    Sam   Katie    Bob\n",
              "count   3.00    3.00   3.00    3.00   3.00\n",
              "mean   84.33   92.33  87.00   87.67  77.67\n",
              "std    13.20    6.81   8.89   10.69  11.02\n",
              "min    70.00   87.00  77.00   81.00  65.00\n",
              "25%    78.50   88.50  83.50   81.50  74.00\n",
              "50%    87.00   90.00  90.00   82.00  83.00\n",
              "75%    91.50   95.00  92.00   91.00  84.00\n",
              "max    96.00  100.00  94.00  100.00  85.00"
            ],
            "text/html": [
              "\n",
              "  <div id=\"df-b2a972e4-101d-4cfd-84a5-68f093836b32\">\n",
              "    <div class=\"colab-df-container\">\n",
              "      <div>\n",
              "<style scoped>\n",
              "    .dataframe tbody tr th:only-of-type {\n",
              "        vertical-align: middle;\n",
              "    }\n",
              "\n",
              "    .dataframe tbody tr th {\n",
              "        vertical-align: top;\n",
              "    }\n",
              "\n",
              "    .dataframe thead th {\n",
              "        text-align: right;\n",
              "    }\n",
              "</style>\n",
              "<table border=\"1\" class=\"dataframe\">\n",
              "  <thead>\n",
              "    <tr style=\"text-align: right;\">\n",
              "      <th></th>\n",
              "      <th>Wally</th>\n",
              "      <th>Eva</th>\n",
              "      <th>Sam</th>\n",
              "      <th>Katie</th>\n",
              "      <th>Bob</th>\n",
              "    </tr>\n",
              "  </thead>\n",
              "  <tbody>\n",
              "    <tr>\n",
              "      <th>count</th>\n",
              "      <td>3.00</td>\n",
              "      <td>3.00</td>\n",
              "      <td>3.00</td>\n",
              "      <td>3.00</td>\n",
              "      <td>3.00</td>\n",
              "    </tr>\n",
              "    <tr>\n",
              "      <th>mean</th>\n",
              "      <td>84.33</td>\n",
              "      <td>92.33</td>\n",
              "      <td>87.00</td>\n",
              "      <td>87.67</td>\n",
              "      <td>77.67</td>\n",
              "    </tr>\n",
              "    <tr>\n",
              "      <th>std</th>\n",
              "      <td>13.20</td>\n",
              "      <td>6.81</td>\n",
              "      <td>8.89</td>\n",
              "      <td>10.69</td>\n",
              "      <td>11.02</td>\n",
              "    </tr>\n",
              "    <tr>\n",
              "      <th>min</th>\n",
              "      <td>70.00</td>\n",
              "      <td>87.00</td>\n",
              "      <td>77.00</td>\n",
              "      <td>81.00</td>\n",
              "      <td>65.00</td>\n",
              "    </tr>\n",
              "    <tr>\n",
              "      <th>25%</th>\n",
              "      <td>78.50</td>\n",
              "      <td>88.50</td>\n",
              "      <td>83.50</td>\n",
              "      <td>81.50</td>\n",
              "      <td>74.00</td>\n",
              "    </tr>\n",
              "    <tr>\n",
              "      <th>50%</th>\n",
              "      <td>87.00</td>\n",
              "      <td>90.00</td>\n",
              "      <td>90.00</td>\n",
              "      <td>82.00</td>\n",
              "      <td>83.00</td>\n",
              "    </tr>\n",
              "    <tr>\n",
              "      <th>75%</th>\n",
              "      <td>91.50</td>\n",
              "      <td>95.00</td>\n",
              "      <td>92.00</td>\n",
              "      <td>91.00</td>\n",
              "      <td>84.00</td>\n",
              "    </tr>\n",
              "    <tr>\n",
              "      <th>max</th>\n",
              "      <td>96.00</td>\n",
              "      <td>100.00</td>\n",
              "      <td>94.00</td>\n",
              "      <td>100.00</td>\n",
              "      <td>85.00</td>\n",
              "    </tr>\n",
              "  </tbody>\n",
              "</table>\n",
              "</div>\n",
              "      <button class=\"colab-df-convert\" onclick=\"convertToInteractive('df-b2a972e4-101d-4cfd-84a5-68f093836b32')\"\n",
              "              title=\"Convert this dataframe to an interactive table.\"\n",
              "              style=\"display:none;\">\n",
              "        \n",
              "  <svg xmlns=\"http://www.w3.org/2000/svg\" height=\"24px\"viewBox=\"0 0 24 24\"\n",
              "       width=\"24px\">\n",
              "    <path d=\"M0 0h24v24H0V0z\" fill=\"none\"/>\n",
              "    <path d=\"M18.56 5.44l.94 2.06.94-2.06 2.06-.94-2.06-.94-.94-2.06-.94 2.06-2.06.94zm-11 1L8.5 8.5l.94-2.06 2.06-.94-2.06-.94L8.5 2.5l-.94 2.06-2.06.94zm10 10l.94 2.06.94-2.06 2.06-.94-2.06-.94-.94-2.06-.94 2.06-2.06.94z\"/><path d=\"M17.41 7.96l-1.37-1.37c-.4-.4-.92-.59-1.43-.59-.52 0-1.04.2-1.43.59L10.3 9.45l-7.72 7.72c-.78.78-.78 2.05 0 2.83L4 21.41c.39.39.9.59 1.41.59.51 0 1.02-.2 1.41-.59l7.78-7.78 2.81-2.81c.8-.78.8-2.07 0-2.86zM5.41 20L4 18.59l7.72-7.72 1.47 1.35L5.41 20z\"/>\n",
              "  </svg>\n",
              "      </button>\n",
              "      \n",
              "  <style>\n",
              "    .colab-df-container {\n",
              "      display:flex;\n",
              "      flex-wrap:wrap;\n",
              "      gap: 12px;\n",
              "    }\n",
              "\n",
              "    .colab-df-convert {\n",
              "      background-color: #E8F0FE;\n",
              "      border: none;\n",
              "      border-radius: 50%;\n",
              "      cursor: pointer;\n",
              "      display: none;\n",
              "      fill: #1967D2;\n",
              "      height: 32px;\n",
              "      padding: 0 0 0 0;\n",
              "      width: 32px;\n",
              "    }\n",
              "\n",
              "    .colab-df-convert:hover {\n",
              "      background-color: #E2EBFA;\n",
              "      box-shadow: 0px 1px 2px rgba(60, 64, 67, 0.3), 0px 1px 3px 1px rgba(60, 64, 67, 0.15);\n",
              "      fill: #174EA6;\n",
              "    }\n",
              "\n",
              "    [theme=dark] .colab-df-convert {\n",
              "      background-color: #3B4455;\n",
              "      fill: #D2E3FC;\n",
              "    }\n",
              "\n",
              "    [theme=dark] .colab-df-convert:hover {\n",
              "      background-color: #434B5C;\n",
              "      box-shadow: 0px 1px 3px 1px rgba(0, 0, 0, 0.15);\n",
              "      filter: drop-shadow(0px 1px 2px rgba(0, 0, 0, 0.3));\n",
              "      fill: #FFFFFF;\n",
              "    }\n",
              "  </style>\n",
              "\n",
              "      <script>\n",
              "        const buttonEl =\n",
              "          document.querySelector('#df-b2a972e4-101d-4cfd-84a5-68f093836b32 button.colab-df-convert');\n",
              "        buttonEl.style.display =\n",
              "          google.colab.kernel.accessAllowed ? 'block' : 'none';\n",
              "\n",
              "        async function convertToInteractive(key) {\n",
              "          const element = document.querySelector('#df-b2a972e4-101d-4cfd-84a5-68f093836b32');\n",
              "          const dataTable =\n",
              "            await google.colab.kernel.invokeFunction('convertToInteractive',\n",
              "                                                     [key], {});\n",
              "          if (!dataTable) return;\n",
              "\n",
              "          const docLinkHtml = 'Like what you see? Visit the ' +\n",
              "            '<a target=\"_blank\" href=https://colab.research.google.com/notebooks/data_table.ipynb>data table notebook</a>'\n",
              "            + ' to learn more about interactive tables.';\n",
              "          element.innerHTML = '';\n",
              "          dataTable['output_type'] = 'display_data';\n",
              "          await google.colab.output.renderOutput(dataTable, element);\n",
              "          const docLink = document.createElement('div');\n",
              "          docLink.innerHTML = docLinkHtml;\n",
              "          element.appendChild(docLink);\n",
              "        }\n",
              "      </script>\n",
              "    </div>\n",
              "  </div>\n",
              "  "
            ]
          },
          "metadata": {},
          "execution_count": 245
        }
      ],
      "source": [
        "grades.describe()"
      ]
    },
    {
      "cell_type": "code",
      "source": [
        "grades.mean()"
      ],
      "metadata": {
        "colab": {
          "base_uri": "https://localhost:8080/"
        },
        "id": "-IJjDQeb3rNf",
        "outputId": "a4808d85-55ca-4f3e-926c-106779e7c7e5"
      },
      "execution_count": null,
      "outputs": [
        {
          "output_type": "execute_result",
          "data": {
            "text/plain": [
              "Wally    84.33\n",
              "Eva      92.33\n",
              "Sam      87.00\n",
              "Katie    87.67\n",
              "Bob      77.67\n",
              "dtype: float64"
            ]
          },
          "metadata": {},
          "execution_count": 246
        }
      ]
    },
    {
      "cell_type": "markdown",
      "source": [],
      "metadata": {
        "id": "PVN7Vb_n3a8E"
      }
    },
    {
      "cell_type": "code",
      "source": [],
      "metadata": {
        "id": "_dXrw0Ju3WEP"
      },
      "execution_count": null,
      "outputs": []
    },
    {
      "cell_type": "markdown",
      "metadata": {
        "id": "tYwOvaYxNQT0"
      },
      "source": [
        "### Transpondo o `DataFrame` com o atributo `T`"
      ]
    },
    {
      "cell_type": "code",
      "source": [
        "grades.T"
      ],
      "metadata": {
        "colab": {
          "base_uri": "https://localhost:8080/",
          "height": 206
        },
        "id": "PsKhiplS3x63",
        "outputId": "8aec11c5-0dda-4b9b-b251-fe947b189b70"
      },
      "execution_count": null,
      "outputs": [
        {
          "output_type": "execute_result",
          "data": {
            "text/plain": [
              "       Test1  Test2  Test3\n",
              "Wally     87     96     70\n",
              "Eva      100     87     90\n",
              "Sam       94     77     90\n",
              "Katie    100     81     82\n",
              "Bob       83     65     85"
            ],
            "text/html": [
              "\n",
              "  <div id=\"df-545c2cd9-4c1c-4a42-87f7-e6167c8ec224\">\n",
              "    <div class=\"colab-df-container\">\n",
              "      <div>\n",
              "<style scoped>\n",
              "    .dataframe tbody tr th:only-of-type {\n",
              "        vertical-align: middle;\n",
              "    }\n",
              "\n",
              "    .dataframe tbody tr th {\n",
              "        vertical-align: top;\n",
              "    }\n",
              "\n",
              "    .dataframe thead th {\n",
              "        text-align: right;\n",
              "    }\n",
              "</style>\n",
              "<table border=\"1\" class=\"dataframe\">\n",
              "  <thead>\n",
              "    <tr style=\"text-align: right;\">\n",
              "      <th></th>\n",
              "      <th>Test1</th>\n",
              "      <th>Test2</th>\n",
              "      <th>Test3</th>\n",
              "    </tr>\n",
              "  </thead>\n",
              "  <tbody>\n",
              "    <tr>\n",
              "      <th>Wally</th>\n",
              "      <td>87</td>\n",
              "      <td>96</td>\n",
              "      <td>70</td>\n",
              "    </tr>\n",
              "    <tr>\n",
              "      <th>Eva</th>\n",
              "      <td>100</td>\n",
              "      <td>87</td>\n",
              "      <td>90</td>\n",
              "    </tr>\n",
              "    <tr>\n",
              "      <th>Sam</th>\n",
              "      <td>94</td>\n",
              "      <td>77</td>\n",
              "      <td>90</td>\n",
              "    </tr>\n",
              "    <tr>\n",
              "      <th>Katie</th>\n",
              "      <td>100</td>\n",
              "      <td>81</td>\n",
              "      <td>82</td>\n",
              "    </tr>\n",
              "    <tr>\n",
              "      <th>Bob</th>\n",
              "      <td>83</td>\n",
              "      <td>65</td>\n",
              "      <td>85</td>\n",
              "    </tr>\n",
              "  </tbody>\n",
              "</table>\n",
              "</div>\n",
              "      <button class=\"colab-df-convert\" onclick=\"convertToInteractive('df-545c2cd9-4c1c-4a42-87f7-e6167c8ec224')\"\n",
              "              title=\"Convert this dataframe to an interactive table.\"\n",
              "              style=\"display:none;\">\n",
              "        \n",
              "  <svg xmlns=\"http://www.w3.org/2000/svg\" height=\"24px\"viewBox=\"0 0 24 24\"\n",
              "       width=\"24px\">\n",
              "    <path d=\"M0 0h24v24H0V0z\" fill=\"none\"/>\n",
              "    <path d=\"M18.56 5.44l.94 2.06.94-2.06 2.06-.94-2.06-.94-.94-2.06-.94 2.06-2.06.94zm-11 1L8.5 8.5l.94-2.06 2.06-.94-2.06-.94L8.5 2.5l-.94 2.06-2.06.94zm10 10l.94 2.06.94-2.06 2.06-.94-2.06-.94-.94-2.06-.94 2.06-2.06.94z\"/><path d=\"M17.41 7.96l-1.37-1.37c-.4-.4-.92-.59-1.43-.59-.52 0-1.04.2-1.43.59L10.3 9.45l-7.72 7.72c-.78.78-.78 2.05 0 2.83L4 21.41c.39.39.9.59 1.41.59.51 0 1.02-.2 1.41-.59l7.78-7.78 2.81-2.81c.8-.78.8-2.07 0-2.86zM5.41 20L4 18.59l7.72-7.72 1.47 1.35L5.41 20z\"/>\n",
              "  </svg>\n",
              "      </button>\n",
              "      \n",
              "  <style>\n",
              "    .colab-df-container {\n",
              "      display:flex;\n",
              "      flex-wrap:wrap;\n",
              "      gap: 12px;\n",
              "    }\n",
              "\n",
              "    .colab-df-convert {\n",
              "      background-color: #E8F0FE;\n",
              "      border: none;\n",
              "      border-radius: 50%;\n",
              "      cursor: pointer;\n",
              "      display: none;\n",
              "      fill: #1967D2;\n",
              "      height: 32px;\n",
              "      padding: 0 0 0 0;\n",
              "      width: 32px;\n",
              "    }\n",
              "\n",
              "    .colab-df-convert:hover {\n",
              "      background-color: #E2EBFA;\n",
              "      box-shadow: 0px 1px 2px rgba(60, 64, 67, 0.3), 0px 1px 3px 1px rgba(60, 64, 67, 0.15);\n",
              "      fill: #174EA6;\n",
              "    }\n",
              "\n",
              "    [theme=dark] .colab-df-convert {\n",
              "      background-color: #3B4455;\n",
              "      fill: #D2E3FC;\n",
              "    }\n",
              "\n",
              "    [theme=dark] .colab-df-convert:hover {\n",
              "      background-color: #434B5C;\n",
              "      box-shadow: 0px 1px 3px 1px rgba(0, 0, 0, 0.15);\n",
              "      filter: drop-shadow(0px 1px 2px rgba(0, 0, 0, 0.3));\n",
              "      fill: #FFFFFF;\n",
              "    }\n",
              "  </style>\n",
              "\n",
              "      <script>\n",
              "        const buttonEl =\n",
              "          document.querySelector('#df-545c2cd9-4c1c-4a42-87f7-e6167c8ec224 button.colab-df-convert');\n",
              "        buttonEl.style.display =\n",
              "          google.colab.kernel.accessAllowed ? 'block' : 'none';\n",
              "\n",
              "        async function convertToInteractive(key) {\n",
              "          const element = document.querySelector('#df-545c2cd9-4c1c-4a42-87f7-e6167c8ec224');\n",
              "          const dataTable =\n",
              "            await google.colab.kernel.invokeFunction('convertToInteractive',\n",
              "                                                     [key], {});\n",
              "          if (!dataTable) return;\n",
              "\n",
              "          const docLinkHtml = 'Like what you see? Visit the ' +\n",
              "            '<a target=\"_blank\" href=https://colab.research.google.com/notebooks/data_table.ipynb>data table notebook</a>'\n",
              "            + ' to learn more about interactive tables.';\n",
              "          element.innerHTML = '';\n",
              "          dataTable['output_type'] = 'display_data';\n",
              "          await google.colab.output.renderOutput(dataTable, element);\n",
              "          const docLink = document.createElement('div');\n",
              "          docLink.innerHTML = docLinkHtml;\n",
              "          element.appendChild(docLink);\n",
              "        }\n",
              "      </script>\n",
              "    </div>\n",
              "  </div>\n",
              "  "
            ]
          },
          "metadata": {},
          "execution_count": 247
        }
      ]
    },
    {
      "cell_type": "code",
      "source": [
        "grades.T.describe()"
      ],
      "metadata": {
        "colab": {
          "base_uri": "https://localhost:8080/",
          "height": 300
        },
        "id": "kDrbZ_CG3zfw",
        "outputId": "f8f2f326-1783-4866-f05d-1bf1b9067767"
      },
      "execution_count": null,
      "outputs": [
        {
          "output_type": "execute_result",
          "data": {
            "text/plain": [
              "        Test1  Test2  Test3\n",
              "count    5.00   5.00   5.00\n",
              "mean    92.80  81.20  83.40\n",
              "std      7.66  11.54   8.23\n",
              "min     83.00  65.00  70.00\n",
              "25%     87.00  77.00  82.00\n",
              "50%     94.00  81.00  85.00\n",
              "75%    100.00  87.00  90.00\n",
              "max    100.00  96.00  90.00"
            ],
            "text/html": [
              "\n",
              "  <div id=\"df-c785b01b-a4bd-406a-a32c-3621ac4b90d6\">\n",
              "    <div class=\"colab-df-container\">\n",
              "      <div>\n",
              "<style scoped>\n",
              "    .dataframe tbody tr th:only-of-type {\n",
              "        vertical-align: middle;\n",
              "    }\n",
              "\n",
              "    .dataframe tbody tr th {\n",
              "        vertical-align: top;\n",
              "    }\n",
              "\n",
              "    .dataframe thead th {\n",
              "        text-align: right;\n",
              "    }\n",
              "</style>\n",
              "<table border=\"1\" class=\"dataframe\">\n",
              "  <thead>\n",
              "    <tr style=\"text-align: right;\">\n",
              "      <th></th>\n",
              "      <th>Test1</th>\n",
              "      <th>Test2</th>\n",
              "      <th>Test3</th>\n",
              "    </tr>\n",
              "  </thead>\n",
              "  <tbody>\n",
              "    <tr>\n",
              "      <th>count</th>\n",
              "      <td>5.00</td>\n",
              "      <td>5.00</td>\n",
              "      <td>5.00</td>\n",
              "    </tr>\n",
              "    <tr>\n",
              "      <th>mean</th>\n",
              "      <td>92.80</td>\n",
              "      <td>81.20</td>\n",
              "      <td>83.40</td>\n",
              "    </tr>\n",
              "    <tr>\n",
              "      <th>std</th>\n",
              "      <td>7.66</td>\n",
              "      <td>11.54</td>\n",
              "      <td>8.23</td>\n",
              "    </tr>\n",
              "    <tr>\n",
              "      <th>min</th>\n",
              "      <td>83.00</td>\n",
              "      <td>65.00</td>\n",
              "      <td>70.00</td>\n",
              "    </tr>\n",
              "    <tr>\n",
              "      <th>25%</th>\n",
              "      <td>87.00</td>\n",
              "      <td>77.00</td>\n",
              "      <td>82.00</td>\n",
              "    </tr>\n",
              "    <tr>\n",
              "      <th>50%</th>\n",
              "      <td>94.00</td>\n",
              "      <td>81.00</td>\n",
              "      <td>85.00</td>\n",
              "    </tr>\n",
              "    <tr>\n",
              "      <th>75%</th>\n",
              "      <td>100.00</td>\n",
              "      <td>87.00</td>\n",
              "      <td>90.00</td>\n",
              "    </tr>\n",
              "    <tr>\n",
              "      <th>max</th>\n",
              "      <td>100.00</td>\n",
              "      <td>96.00</td>\n",
              "      <td>90.00</td>\n",
              "    </tr>\n",
              "  </tbody>\n",
              "</table>\n",
              "</div>\n",
              "      <button class=\"colab-df-convert\" onclick=\"convertToInteractive('df-c785b01b-a4bd-406a-a32c-3621ac4b90d6')\"\n",
              "              title=\"Convert this dataframe to an interactive table.\"\n",
              "              style=\"display:none;\">\n",
              "        \n",
              "  <svg xmlns=\"http://www.w3.org/2000/svg\" height=\"24px\"viewBox=\"0 0 24 24\"\n",
              "       width=\"24px\">\n",
              "    <path d=\"M0 0h24v24H0V0z\" fill=\"none\"/>\n",
              "    <path d=\"M18.56 5.44l.94 2.06.94-2.06 2.06-.94-2.06-.94-.94-2.06-.94 2.06-2.06.94zm-11 1L8.5 8.5l.94-2.06 2.06-.94-2.06-.94L8.5 2.5l-.94 2.06-2.06.94zm10 10l.94 2.06.94-2.06 2.06-.94-2.06-.94-.94-2.06-.94 2.06-2.06.94z\"/><path d=\"M17.41 7.96l-1.37-1.37c-.4-.4-.92-.59-1.43-.59-.52 0-1.04.2-1.43.59L10.3 9.45l-7.72 7.72c-.78.78-.78 2.05 0 2.83L4 21.41c.39.39.9.59 1.41.59.51 0 1.02-.2 1.41-.59l7.78-7.78 2.81-2.81c.8-.78.8-2.07 0-2.86zM5.41 20L4 18.59l7.72-7.72 1.47 1.35L5.41 20z\"/>\n",
              "  </svg>\n",
              "      </button>\n",
              "      \n",
              "  <style>\n",
              "    .colab-df-container {\n",
              "      display:flex;\n",
              "      flex-wrap:wrap;\n",
              "      gap: 12px;\n",
              "    }\n",
              "\n",
              "    .colab-df-convert {\n",
              "      background-color: #E8F0FE;\n",
              "      border: none;\n",
              "      border-radius: 50%;\n",
              "      cursor: pointer;\n",
              "      display: none;\n",
              "      fill: #1967D2;\n",
              "      height: 32px;\n",
              "      padding: 0 0 0 0;\n",
              "      width: 32px;\n",
              "    }\n",
              "\n",
              "    .colab-df-convert:hover {\n",
              "      background-color: #E2EBFA;\n",
              "      box-shadow: 0px 1px 2px rgba(60, 64, 67, 0.3), 0px 1px 3px 1px rgba(60, 64, 67, 0.15);\n",
              "      fill: #174EA6;\n",
              "    }\n",
              "\n",
              "    [theme=dark] .colab-df-convert {\n",
              "      background-color: #3B4455;\n",
              "      fill: #D2E3FC;\n",
              "    }\n",
              "\n",
              "    [theme=dark] .colab-df-convert:hover {\n",
              "      background-color: #434B5C;\n",
              "      box-shadow: 0px 1px 3px 1px rgba(0, 0, 0, 0.15);\n",
              "      filter: drop-shadow(0px 1px 2px rgba(0, 0, 0, 0.3));\n",
              "      fill: #FFFFFF;\n",
              "    }\n",
              "  </style>\n",
              "\n",
              "      <script>\n",
              "        const buttonEl =\n",
              "          document.querySelector('#df-c785b01b-a4bd-406a-a32c-3621ac4b90d6 button.colab-df-convert');\n",
              "        buttonEl.style.display =\n",
              "          google.colab.kernel.accessAllowed ? 'block' : 'none';\n",
              "\n",
              "        async function convertToInteractive(key) {\n",
              "          const element = document.querySelector('#df-c785b01b-a4bd-406a-a32c-3621ac4b90d6');\n",
              "          const dataTable =\n",
              "            await google.colab.kernel.invokeFunction('convertToInteractive',\n",
              "                                                     [key], {});\n",
              "          if (!dataTable) return;\n",
              "\n",
              "          const docLinkHtml = 'Like what you see? Visit the ' +\n",
              "            '<a target=\"_blank\" href=https://colab.research.google.com/notebooks/data_table.ipynb>data table notebook</a>'\n",
              "            + ' to learn more about interactive tables.';\n",
              "          element.innerHTML = '';\n",
              "          dataTable['output_type'] = 'display_data';\n",
              "          await google.colab.output.renderOutput(dataTable, element);\n",
              "          const docLink = document.createElement('div');\n",
              "          docLink.innerHTML = docLinkHtml;\n",
              "          element.appendChild(docLink);\n",
              "        }\n",
              "      </script>\n",
              "    </div>\n",
              "  </div>\n",
              "  "
            ]
          },
          "metadata": {},
          "execution_count": 248
        }
      ]
    },
    {
      "cell_type": "code",
      "source": [
        "grades"
      ],
      "metadata": {
        "colab": {
          "base_uri": "https://localhost:8080/",
          "height": 143
        },
        "id": "uRj3Anbo35jf",
        "outputId": "a1eaf909-7101-4dd6-bd42-6d0b2d738b9e"
      },
      "execution_count": null,
      "outputs": [
        {
          "output_type": "execute_result",
          "data": {
            "text/plain": [
              "       Wally  Eva  Sam  Katie  Bob\n",
              "Test1     87  100   94    100   83\n",
              "Test2     96   87   77     81   65\n",
              "Test3     70   90   90     82   85"
            ],
            "text/html": [
              "\n",
              "  <div id=\"df-2f2bc704-769a-4869-8fd4-32a3a8c56116\">\n",
              "    <div class=\"colab-df-container\">\n",
              "      <div>\n",
              "<style scoped>\n",
              "    .dataframe tbody tr th:only-of-type {\n",
              "        vertical-align: middle;\n",
              "    }\n",
              "\n",
              "    .dataframe tbody tr th {\n",
              "        vertical-align: top;\n",
              "    }\n",
              "\n",
              "    .dataframe thead th {\n",
              "        text-align: right;\n",
              "    }\n",
              "</style>\n",
              "<table border=\"1\" class=\"dataframe\">\n",
              "  <thead>\n",
              "    <tr style=\"text-align: right;\">\n",
              "      <th></th>\n",
              "      <th>Wally</th>\n",
              "      <th>Eva</th>\n",
              "      <th>Sam</th>\n",
              "      <th>Katie</th>\n",
              "      <th>Bob</th>\n",
              "    </tr>\n",
              "  </thead>\n",
              "  <tbody>\n",
              "    <tr>\n",
              "      <th>Test1</th>\n",
              "      <td>87</td>\n",
              "      <td>100</td>\n",
              "      <td>94</td>\n",
              "      <td>100</td>\n",
              "      <td>83</td>\n",
              "    </tr>\n",
              "    <tr>\n",
              "      <th>Test2</th>\n",
              "      <td>96</td>\n",
              "      <td>87</td>\n",
              "      <td>77</td>\n",
              "      <td>81</td>\n",
              "      <td>65</td>\n",
              "    </tr>\n",
              "    <tr>\n",
              "      <th>Test3</th>\n",
              "      <td>70</td>\n",
              "      <td>90</td>\n",
              "      <td>90</td>\n",
              "      <td>82</td>\n",
              "      <td>85</td>\n",
              "    </tr>\n",
              "  </tbody>\n",
              "</table>\n",
              "</div>\n",
              "      <button class=\"colab-df-convert\" onclick=\"convertToInteractive('df-2f2bc704-769a-4869-8fd4-32a3a8c56116')\"\n",
              "              title=\"Convert this dataframe to an interactive table.\"\n",
              "              style=\"display:none;\">\n",
              "        \n",
              "  <svg xmlns=\"http://www.w3.org/2000/svg\" height=\"24px\"viewBox=\"0 0 24 24\"\n",
              "       width=\"24px\">\n",
              "    <path d=\"M0 0h24v24H0V0z\" fill=\"none\"/>\n",
              "    <path d=\"M18.56 5.44l.94 2.06.94-2.06 2.06-.94-2.06-.94-.94-2.06-.94 2.06-2.06.94zm-11 1L8.5 8.5l.94-2.06 2.06-.94-2.06-.94L8.5 2.5l-.94 2.06-2.06.94zm10 10l.94 2.06.94-2.06 2.06-.94-2.06-.94-.94-2.06-.94 2.06-2.06.94z\"/><path d=\"M17.41 7.96l-1.37-1.37c-.4-.4-.92-.59-1.43-.59-.52 0-1.04.2-1.43.59L10.3 9.45l-7.72 7.72c-.78.78-.78 2.05 0 2.83L4 21.41c.39.39.9.59 1.41.59.51 0 1.02-.2 1.41-.59l7.78-7.78 2.81-2.81c.8-.78.8-2.07 0-2.86zM5.41 20L4 18.59l7.72-7.72 1.47 1.35L5.41 20z\"/>\n",
              "  </svg>\n",
              "      </button>\n",
              "      \n",
              "  <style>\n",
              "    .colab-df-container {\n",
              "      display:flex;\n",
              "      flex-wrap:wrap;\n",
              "      gap: 12px;\n",
              "    }\n",
              "\n",
              "    .colab-df-convert {\n",
              "      background-color: #E8F0FE;\n",
              "      border: none;\n",
              "      border-radius: 50%;\n",
              "      cursor: pointer;\n",
              "      display: none;\n",
              "      fill: #1967D2;\n",
              "      height: 32px;\n",
              "      padding: 0 0 0 0;\n",
              "      width: 32px;\n",
              "    }\n",
              "\n",
              "    .colab-df-convert:hover {\n",
              "      background-color: #E2EBFA;\n",
              "      box-shadow: 0px 1px 2px rgba(60, 64, 67, 0.3), 0px 1px 3px 1px rgba(60, 64, 67, 0.15);\n",
              "      fill: #174EA6;\n",
              "    }\n",
              "\n",
              "    [theme=dark] .colab-df-convert {\n",
              "      background-color: #3B4455;\n",
              "      fill: #D2E3FC;\n",
              "    }\n",
              "\n",
              "    [theme=dark] .colab-df-convert:hover {\n",
              "      background-color: #434B5C;\n",
              "      box-shadow: 0px 1px 3px 1px rgba(0, 0, 0, 0.15);\n",
              "      filter: drop-shadow(0px 1px 2px rgba(0, 0, 0, 0.3));\n",
              "      fill: #FFFFFF;\n",
              "    }\n",
              "  </style>\n",
              "\n",
              "      <script>\n",
              "        const buttonEl =\n",
              "          document.querySelector('#df-2f2bc704-769a-4869-8fd4-32a3a8c56116 button.colab-df-convert');\n",
              "        buttonEl.style.display =\n",
              "          google.colab.kernel.accessAllowed ? 'block' : 'none';\n",
              "\n",
              "        async function convertToInteractive(key) {\n",
              "          const element = document.querySelector('#df-2f2bc704-769a-4869-8fd4-32a3a8c56116');\n",
              "          const dataTable =\n",
              "            await google.colab.kernel.invokeFunction('convertToInteractive',\n",
              "                                                     [key], {});\n",
              "          if (!dataTable) return;\n",
              "\n",
              "          const docLinkHtml = 'Like what you see? Visit the ' +\n",
              "            '<a target=\"_blank\" href=https://colab.research.google.com/notebooks/data_table.ipynb>data table notebook</a>'\n",
              "            + ' to learn more about interactive tables.';\n",
              "          element.innerHTML = '';\n",
              "          dataTable['output_type'] = 'display_data';\n",
              "          await google.colab.output.renderOutput(dataTable, element);\n",
              "          const docLink = document.createElement('div');\n",
              "          docLink.innerHTML = docLinkHtml;\n",
              "          element.appendChild(docLink);\n",
              "        }\n",
              "      </script>\n",
              "    </div>\n",
              "  </div>\n",
              "  "
            ]
          },
          "metadata": {},
          "execution_count": 249
        }
      ]
    },
    {
      "cell_type": "code",
      "source": [],
      "metadata": {
        "id": "JbyxyBgN4BAo"
      },
      "execution_count": null,
      "outputs": []
    },
    {
      "cell_type": "markdown",
      "metadata": {
        "id": "c_eqtcqGNQT1"
      },
      "source": [
        "### Ordenando por linhas por seus índices"
      ]
    },
    {
      "cell_type": "code",
      "source": [
        "grades"
      ],
      "metadata": {
        "colab": {
          "base_uri": "https://localhost:8080/",
          "height": 143
        },
        "id": "HQ1-MlgfA4LE",
        "outputId": "a28761d2-ab27-4cad-a805-7f9e60630abc"
      },
      "execution_count": null,
      "outputs": [
        {
          "output_type": "execute_result",
          "data": {
            "text/plain": [
              "       Wally  Eva  Sam  Katie  Bob\n",
              "Test1     87  100   94    100   83\n",
              "Test2     96   87   77     81   65\n",
              "Test3     70   90   90     82   85"
            ],
            "text/html": [
              "\n",
              "  <div id=\"df-ef3ade48-da53-4df7-883f-414a1f28dfad\">\n",
              "    <div class=\"colab-df-container\">\n",
              "      <div>\n",
              "<style scoped>\n",
              "    .dataframe tbody tr th:only-of-type {\n",
              "        vertical-align: middle;\n",
              "    }\n",
              "\n",
              "    .dataframe tbody tr th {\n",
              "        vertical-align: top;\n",
              "    }\n",
              "\n",
              "    .dataframe thead th {\n",
              "        text-align: right;\n",
              "    }\n",
              "</style>\n",
              "<table border=\"1\" class=\"dataframe\">\n",
              "  <thead>\n",
              "    <tr style=\"text-align: right;\">\n",
              "      <th></th>\n",
              "      <th>Wally</th>\n",
              "      <th>Eva</th>\n",
              "      <th>Sam</th>\n",
              "      <th>Katie</th>\n",
              "      <th>Bob</th>\n",
              "    </tr>\n",
              "  </thead>\n",
              "  <tbody>\n",
              "    <tr>\n",
              "      <th>Test1</th>\n",
              "      <td>87</td>\n",
              "      <td>100</td>\n",
              "      <td>94</td>\n",
              "      <td>100</td>\n",
              "      <td>83</td>\n",
              "    </tr>\n",
              "    <tr>\n",
              "      <th>Test2</th>\n",
              "      <td>96</td>\n",
              "      <td>87</td>\n",
              "      <td>77</td>\n",
              "      <td>81</td>\n",
              "      <td>65</td>\n",
              "    </tr>\n",
              "    <tr>\n",
              "      <th>Test3</th>\n",
              "      <td>70</td>\n",
              "      <td>90</td>\n",
              "      <td>90</td>\n",
              "      <td>82</td>\n",
              "      <td>85</td>\n",
              "    </tr>\n",
              "  </tbody>\n",
              "</table>\n",
              "</div>\n",
              "      <button class=\"colab-df-convert\" onclick=\"convertToInteractive('df-ef3ade48-da53-4df7-883f-414a1f28dfad')\"\n",
              "              title=\"Convert this dataframe to an interactive table.\"\n",
              "              style=\"display:none;\">\n",
              "        \n",
              "  <svg xmlns=\"http://www.w3.org/2000/svg\" height=\"24px\"viewBox=\"0 0 24 24\"\n",
              "       width=\"24px\">\n",
              "    <path d=\"M0 0h24v24H0V0z\" fill=\"none\"/>\n",
              "    <path d=\"M18.56 5.44l.94 2.06.94-2.06 2.06-.94-2.06-.94-.94-2.06-.94 2.06-2.06.94zm-11 1L8.5 8.5l.94-2.06 2.06-.94-2.06-.94L8.5 2.5l-.94 2.06-2.06.94zm10 10l.94 2.06.94-2.06 2.06-.94-2.06-.94-.94-2.06-.94 2.06-2.06.94z\"/><path d=\"M17.41 7.96l-1.37-1.37c-.4-.4-.92-.59-1.43-.59-.52 0-1.04.2-1.43.59L10.3 9.45l-7.72 7.72c-.78.78-.78 2.05 0 2.83L4 21.41c.39.39.9.59 1.41.59.51 0 1.02-.2 1.41-.59l7.78-7.78 2.81-2.81c.8-.78.8-2.07 0-2.86zM5.41 20L4 18.59l7.72-7.72 1.47 1.35L5.41 20z\"/>\n",
              "  </svg>\n",
              "      </button>\n",
              "      \n",
              "  <style>\n",
              "    .colab-df-container {\n",
              "      display:flex;\n",
              "      flex-wrap:wrap;\n",
              "      gap: 12px;\n",
              "    }\n",
              "\n",
              "    .colab-df-convert {\n",
              "      background-color: #E8F0FE;\n",
              "      border: none;\n",
              "      border-radius: 50%;\n",
              "      cursor: pointer;\n",
              "      display: none;\n",
              "      fill: #1967D2;\n",
              "      height: 32px;\n",
              "      padding: 0 0 0 0;\n",
              "      width: 32px;\n",
              "    }\n",
              "\n",
              "    .colab-df-convert:hover {\n",
              "      background-color: #E2EBFA;\n",
              "      box-shadow: 0px 1px 2px rgba(60, 64, 67, 0.3), 0px 1px 3px 1px rgba(60, 64, 67, 0.15);\n",
              "      fill: #174EA6;\n",
              "    }\n",
              "\n",
              "    [theme=dark] .colab-df-convert {\n",
              "      background-color: #3B4455;\n",
              "      fill: #D2E3FC;\n",
              "    }\n",
              "\n",
              "    [theme=dark] .colab-df-convert:hover {\n",
              "      background-color: #434B5C;\n",
              "      box-shadow: 0px 1px 3px 1px rgba(0, 0, 0, 0.15);\n",
              "      filter: drop-shadow(0px 1px 2px rgba(0, 0, 0, 0.3));\n",
              "      fill: #FFFFFF;\n",
              "    }\n",
              "  </style>\n",
              "\n",
              "      <script>\n",
              "        const buttonEl =\n",
              "          document.querySelector('#df-ef3ade48-da53-4df7-883f-414a1f28dfad button.colab-df-convert');\n",
              "        buttonEl.style.display =\n",
              "          google.colab.kernel.accessAllowed ? 'block' : 'none';\n",
              "\n",
              "        async function convertToInteractive(key) {\n",
              "          const element = document.querySelector('#df-ef3ade48-da53-4df7-883f-414a1f28dfad');\n",
              "          const dataTable =\n",
              "            await google.colab.kernel.invokeFunction('convertToInteractive',\n",
              "                                                     [key], {});\n",
              "          if (!dataTable) return;\n",
              "\n",
              "          const docLinkHtml = 'Like what you see? Visit the ' +\n",
              "            '<a target=\"_blank\" href=https://colab.research.google.com/notebooks/data_table.ipynb>data table notebook</a>'\n",
              "            + ' to learn more about interactive tables.';\n",
              "          element.innerHTML = '';\n",
              "          dataTable['output_type'] = 'display_data';\n",
              "          await google.colab.output.renderOutput(dataTable, element);\n",
              "          const docLink = document.createElement('div');\n",
              "          docLink.innerHTML = docLinkHtml;\n",
              "          element.appendChild(docLink);\n",
              "        }\n",
              "      </script>\n",
              "    </div>\n",
              "  </div>\n",
              "  "
            ]
          },
          "metadata": {},
          "execution_count": 250
        }
      ]
    },
    {
      "cell_type": "code",
      "execution_count": null,
      "metadata": {
        "id": "xrZmq6SiNQT1",
        "colab": {
          "base_uri": "https://localhost:8080/",
          "height": 143
        },
        "outputId": "cf505fb7-1c43-43f0-ea42-ff70d6542301"
      },
      "outputs": [
        {
          "output_type": "execute_result",
          "data": {
            "text/plain": [
              "       Wally  Eva  Sam  Katie  Bob\n",
              "Test3     70   90   90     82   85\n",
              "Test2     96   87   77     81   65\n",
              "Test1     87  100   94    100   83"
            ],
            "text/html": [
              "\n",
              "  <div id=\"df-156e67ea-3d8d-4bb4-bdcd-3983c9b695dc\">\n",
              "    <div class=\"colab-df-container\">\n",
              "      <div>\n",
              "<style scoped>\n",
              "    .dataframe tbody tr th:only-of-type {\n",
              "        vertical-align: middle;\n",
              "    }\n",
              "\n",
              "    .dataframe tbody tr th {\n",
              "        vertical-align: top;\n",
              "    }\n",
              "\n",
              "    .dataframe thead th {\n",
              "        text-align: right;\n",
              "    }\n",
              "</style>\n",
              "<table border=\"1\" class=\"dataframe\">\n",
              "  <thead>\n",
              "    <tr style=\"text-align: right;\">\n",
              "      <th></th>\n",
              "      <th>Wally</th>\n",
              "      <th>Eva</th>\n",
              "      <th>Sam</th>\n",
              "      <th>Katie</th>\n",
              "      <th>Bob</th>\n",
              "    </tr>\n",
              "  </thead>\n",
              "  <tbody>\n",
              "    <tr>\n",
              "      <th>Test3</th>\n",
              "      <td>70</td>\n",
              "      <td>90</td>\n",
              "      <td>90</td>\n",
              "      <td>82</td>\n",
              "      <td>85</td>\n",
              "    </tr>\n",
              "    <tr>\n",
              "      <th>Test2</th>\n",
              "      <td>96</td>\n",
              "      <td>87</td>\n",
              "      <td>77</td>\n",
              "      <td>81</td>\n",
              "      <td>65</td>\n",
              "    </tr>\n",
              "    <tr>\n",
              "      <th>Test1</th>\n",
              "      <td>87</td>\n",
              "      <td>100</td>\n",
              "      <td>94</td>\n",
              "      <td>100</td>\n",
              "      <td>83</td>\n",
              "    </tr>\n",
              "  </tbody>\n",
              "</table>\n",
              "</div>\n",
              "      <button class=\"colab-df-convert\" onclick=\"convertToInteractive('df-156e67ea-3d8d-4bb4-bdcd-3983c9b695dc')\"\n",
              "              title=\"Convert this dataframe to an interactive table.\"\n",
              "              style=\"display:none;\">\n",
              "        \n",
              "  <svg xmlns=\"http://www.w3.org/2000/svg\" height=\"24px\"viewBox=\"0 0 24 24\"\n",
              "       width=\"24px\">\n",
              "    <path d=\"M0 0h24v24H0V0z\" fill=\"none\"/>\n",
              "    <path d=\"M18.56 5.44l.94 2.06.94-2.06 2.06-.94-2.06-.94-.94-2.06-.94 2.06-2.06.94zm-11 1L8.5 8.5l.94-2.06 2.06-.94-2.06-.94L8.5 2.5l-.94 2.06-2.06.94zm10 10l.94 2.06.94-2.06 2.06-.94-2.06-.94-.94-2.06-.94 2.06-2.06.94z\"/><path d=\"M17.41 7.96l-1.37-1.37c-.4-.4-.92-.59-1.43-.59-.52 0-1.04.2-1.43.59L10.3 9.45l-7.72 7.72c-.78.78-.78 2.05 0 2.83L4 21.41c.39.39.9.59 1.41.59.51 0 1.02-.2 1.41-.59l7.78-7.78 2.81-2.81c.8-.78.8-2.07 0-2.86zM5.41 20L4 18.59l7.72-7.72 1.47 1.35L5.41 20z\"/>\n",
              "  </svg>\n",
              "      </button>\n",
              "      \n",
              "  <style>\n",
              "    .colab-df-container {\n",
              "      display:flex;\n",
              "      flex-wrap:wrap;\n",
              "      gap: 12px;\n",
              "    }\n",
              "\n",
              "    .colab-df-convert {\n",
              "      background-color: #E8F0FE;\n",
              "      border: none;\n",
              "      border-radius: 50%;\n",
              "      cursor: pointer;\n",
              "      display: none;\n",
              "      fill: #1967D2;\n",
              "      height: 32px;\n",
              "      padding: 0 0 0 0;\n",
              "      width: 32px;\n",
              "    }\n",
              "\n",
              "    .colab-df-convert:hover {\n",
              "      background-color: #E2EBFA;\n",
              "      box-shadow: 0px 1px 2px rgba(60, 64, 67, 0.3), 0px 1px 3px 1px rgba(60, 64, 67, 0.15);\n",
              "      fill: #174EA6;\n",
              "    }\n",
              "\n",
              "    [theme=dark] .colab-df-convert {\n",
              "      background-color: #3B4455;\n",
              "      fill: #D2E3FC;\n",
              "    }\n",
              "\n",
              "    [theme=dark] .colab-df-convert:hover {\n",
              "      background-color: #434B5C;\n",
              "      box-shadow: 0px 1px 3px 1px rgba(0, 0, 0, 0.15);\n",
              "      filter: drop-shadow(0px 1px 2px rgba(0, 0, 0, 0.3));\n",
              "      fill: #FFFFFF;\n",
              "    }\n",
              "  </style>\n",
              "\n",
              "      <script>\n",
              "        const buttonEl =\n",
              "          document.querySelector('#df-156e67ea-3d8d-4bb4-bdcd-3983c9b695dc button.colab-df-convert');\n",
              "        buttonEl.style.display =\n",
              "          google.colab.kernel.accessAllowed ? 'block' : 'none';\n",
              "\n",
              "        async function convertToInteractive(key) {\n",
              "          const element = document.querySelector('#df-156e67ea-3d8d-4bb4-bdcd-3983c9b695dc');\n",
              "          const dataTable =\n",
              "            await google.colab.kernel.invokeFunction('convertToInteractive',\n",
              "                                                     [key], {});\n",
              "          if (!dataTable) return;\n",
              "\n",
              "          const docLinkHtml = 'Like what you see? Visit the ' +\n",
              "            '<a target=\"_blank\" href=https://colab.research.google.com/notebooks/data_table.ipynb>data table notebook</a>'\n",
              "            + ' to learn more about interactive tables.';\n",
              "          element.innerHTML = '';\n",
              "          dataTable['output_type'] = 'display_data';\n",
              "          await google.colab.output.renderOutput(dataTable, element);\n",
              "          const docLink = document.createElement('div');\n",
              "          docLink.innerHTML = docLinkHtml;\n",
              "          element.appendChild(docLink);\n",
              "        }\n",
              "      </script>\n",
              "    </div>\n",
              "  </div>\n",
              "  "
            ]
          },
          "metadata": {},
          "execution_count": 251
        }
      ],
      "source": [
        "grades.sort_index(ascending=False)"
      ]
    },
    {
      "cell_type": "markdown",
      "metadata": {
        "id": "RAtfg8ECNQT1"
      },
      "source": [
        "### Ordenando por indice de coluna"
      ]
    },
    {
      "cell_type": "code",
      "execution_count": null,
      "metadata": {
        "id": "bkxA51hoNQT2",
        "colab": {
          "base_uri": "https://localhost:8080/",
          "height": 143
        },
        "outputId": "ef0b5ccc-d415-4607-f7ab-3e1bc877b871"
      },
      "outputs": [
        {
          "output_type": "execute_result",
          "data": {
            "text/plain": [
              "       Bob  Eva  Katie  Sam  Wally\n",
              "Test1   83  100    100   94     87\n",
              "Test2   65   87     81   77     96\n",
              "Test3   85   90     82   90     70"
            ],
            "text/html": [
              "\n",
              "  <div id=\"df-0e7ac633-3ca1-4192-8f28-6f7efce15854\">\n",
              "    <div class=\"colab-df-container\">\n",
              "      <div>\n",
              "<style scoped>\n",
              "    .dataframe tbody tr th:only-of-type {\n",
              "        vertical-align: middle;\n",
              "    }\n",
              "\n",
              "    .dataframe tbody tr th {\n",
              "        vertical-align: top;\n",
              "    }\n",
              "\n",
              "    .dataframe thead th {\n",
              "        text-align: right;\n",
              "    }\n",
              "</style>\n",
              "<table border=\"1\" class=\"dataframe\">\n",
              "  <thead>\n",
              "    <tr style=\"text-align: right;\">\n",
              "      <th></th>\n",
              "      <th>Bob</th>\n",
              "      <th>Eva</th>\n",
              "      <th>Katie</th>\n",
              "      <th>Sam</th>\n",
              "      <th>Wally</th>\n",
              "    </tr>\n",
              "  </thead>\n",
              "  <tbody>\n",
              "    <tr>\n",
              "      <th>Test1</th>\n",
              "      <td>83</td>\n",
              "      <td>100</td>\n",
              "      <td>100</td>\n",
              "      <td>94</td>\n",
              "      <td>87</td>\n",
              "    </tr>\n",
              "    <tr>\n",
              "      <th>Test2</th>\n",
              "      <td>65</td>\n",
              "      <td>87</td>\n",
              "      <td>81</td>\n",
              "      <td>77</td>\n",
              "      <td>96</td>\n",
              "    </tr>\n",
              "    <tr>\n",
              "      <th>Test3</th>\n",
              "      <td>85</td>\n",
              "      <td>90</td>\n",
              "      <td>82</td>\n",
              "      <td>90</td>\n",
              "      <td>70</td>\n",
              "    </tr>\n",
              "  </tbody>\n",
              "</table>\n",
              "</div>\n",
              "      <button class=\"colab-df-convert\" onclick=\"convertToInteractive('df-0e7ac633-3ca1-4192-8f28-6f7efce15854')\"\n",
              "              title=\"Convert this dataframe to an interactive table.\"\n",
              "              style=\"display:none;\">\n",
              "        \n",
              "  <svg xmlns=\"http://www.w3.org/2000/svg\" height=\"24px\"viewBox=\"0 0 24 24\"\n",
              "       width=\"24px\">\n",
              "    <path d=\"M0 0h24v24H0V0z\" fill=\"none\"/>\n",
              "    <path d=\"M18.56 5.44l.94 2.06.94-2.06 2.06-.94-2.06-.94-.94-2.06-.94 2.06-2.06.94zm-11 1L8.5 8.5l.94-2.06 2.06-.94-2.06-.94L8.5 2.5l-.94 2.06-2.06.94zm10 10l.94 2.06.94-2.06 2.06-.94-2.06-.94-.94-2.06-.94 2.06-2.06.94z\"/><path d=\"M17.41 7.96l-1.37-1.37c-.4-.4-.92-.59-1.43-.59-.52 0-1.04.2-1.43.59L10.3 9.45l-7.72 7.72c-.78.78-.78 2.05 0 2.83L4 21.41c.39.39.9.59 1.41.59.51 0 1.02-.2 1.41-.59l7.78-7.78 2.81-2.81c.8-.78.8-2.07 0-2.86zM5.41 20L4 18.59l7.72-7.72 1.47 1.35L5.41 20z\"/>\n",
              "  </svg>\n",
              "      </button>\n",
              "      \n",
              "  <style>\n",
              "    .colab-df-container {\n",
              "      display:flex;\n",
              "      flex-wrap:wrap;\n",
              "      gap: 12px;\n",
              "    }\n",
              "\n",
              "    .colab-df-convert {\n",
              "      background-color: #E8F0FE;\n",
              "      border: none;\n",
              "      border-radius: 50%;\n",
              "      cursor: pointer;\n",
              "      display: none;\n",
              "      fill: #1967D2;\n",
              "      height: 32px;\n",
              "      padding: 0 0 0 0;\n",
              "      width: 32px;\n",
              "    }\n",
              "\n",
              "    .colab-df-convert:hover {\n",
              "      background-color: #E2EBFA;\n",
              "      box-shadow: 0px 1px 2px rgba(60, 64, 67, 0.3), 0px 1px 3px 1px rgba(60, 64, 67, 0.15);\n",
              "      fill: #174EA6;\n",
              "    }\n",
              "\n",
              "    [theme=dark] .colab-df-convert {\n",
              "      background-color: #3B4455;\n",
              "      fill: #D2E3FC;\n",
              "    }\n",
              "\n",
              "    [theme=dark] .colab-df-convert:hover {\n",
              "      background-color: #434B5C;\n",
              "      box-shadow: 0px 1px 3px 1px rgba(0, 0, 0, 0.15);\n",
              "      filter: drop-shadow(0px 1px 2px rgba(0, 0, 0, 0.3));\n",
              "      fill: #FFFFFF;\n",
              "    }\n",
              "  </style>\n",
              "\n",
              "      <script>\n",
              "        const buttonEl =\n",
              "          document.querySelector('#df-0e7ac633-3ca1-4192-8f28-6f7efce15854 button.colab-df-convert');\n",
              "        buttonEl.style.display =\n",
              "          google.colab.kernel.accessAllowed ? 'block' : 'none';\n",
              "\n",
              "        async function convertToInteractive(key) {\n",
              "          const element = document.querySelector('#df-0e7ac633-3ca1-4192-8f28-6f7efce15854');\n",
              "          const dataTable =\n",
              "            await google.colab.kernel.invokeFunction('convertToInteractive',\n",
              "                                                     [key], {});\n",
              "          if (!dataTable) return;\n",
              "\n",
              "          const docLinkHtml = 'Like what you see? Visit the ' +\n",
              "            '<a target=\"_blank\" href=https://colab.research.google.com/notebooks/data_table.ipynb>data table notebook</a>'\n",
              "            + ' to learn more about interactive tables.';\n",
              "          element.innerHTML = '';\n",
              "          dataTable['output_type'] = 'display_data';\n",
              "          await google.colab.output.renderOutput(dataTable, element);\n",
              "          const docLink = document.createElement('div');\n",
              "          docLink.innerHTML = docLinkHtml;\n",
              "          element.appendChild(docLink);\n",
              "        }\n",
              "      </script>\n",
              "    </div>\n",
              "  </div>\n",
              "  "
            ]
          },
          "metadata": {},
          "execution_count": 252
        }
      ],
      "source": [
        "grades.sort_index(axis=1)"
      ]
    },
    {
      "cell_type": "markdown",
      "metadata": {
        "id": "LgTPSuH6NQT2"
      },
      "source": [
        "### Ordenando por valores de colunas"
      ]
    },
    {
      "cell_type": "code",
      "execution_count": null,
      "metadata": {
        "id": "0NZHCBGJNQT2",
        "colab": {
          "base_uri": "https://localhost:8080/",
          "height": 143
        },
        "outputId": "e3604e18-c132-40f8-ef3c-7ff5efc00b6f"
      },
      "outputs": [
        {
          "output_type": "execute_result",
          "data": {
            "text/plain": [
              "       Eva  Katie  Sam  Wally  Bob\n",
              "Test1  100    100   94     87   83\n",
              "Test2   87     81   77     96   65\n",
              "Test3   90     82   90     70   85"
            ],
            "text/html": [
              "\n",
              "  <div id=\"df-824399d1-f713-4ef9-9789-6278515ee406\">\n",
              "    <div class=\"colab-df-container\">\n",
              "      <div>\n",
              "<style scoped>\n",
              "    .dataframe tbody tr th:only-of-type {\n",
              "        vertical-align: middle;\n",
              "    }\n",
              "\n",
              "    .dataframe tbody tr th {\n",
              "        vertical-align: top;\n",
              "    }\n",
              "\n",
              "    .dataframe thead th {\n",
              "        text-align: right;\n",
              "    }\n",
              "</style>\n",
              "<table border=\"1\" class=\"dataframe\">\n",
              "  <thead>\n",
              "    <tr style=\"text-align: right;\">\n",
              "      <th></th>\n",
              "      <th>Eva</th>\n",
              "      <th>Katie</th>\n",
              "      <th>Sam</th>\n",
              "      <th>Wally</th>\n",
              "      <th>Bob</th>\n",
              "    </tr>\n",
              "  </thead>\n",
              "  <tbody>\n",
              "    <tr>\n",
              "      <th>Test1</th>\n",
              "      <td>100</td>\n",
              "      <td>100</td>\n",
              "      <td>94</td>\n",
              "      <td>87</td>\n",
              "      <td>83</td>\n",
              "    </tr>\n",
              "    <tr>\n",
              "      <th>Test2</th>\n",
              "      <td>87</td>\n",
              "      <td>81</td>\n",
              "      <td>77</td>\n",
              "      <td>96</td>\n",
              "      <td>65</td>\n",
              "    </tr>\n",
              "    <tr>\n",
              "      <th>Test3</th>\n",
              "      <td>90</td>\n",
              "      <td>82</td>\n",
              "      <td>90</td>\n",
              "      <td>70</td>\n",
              "      <td>85</td>\n",
              "    </tr>\n",
              "  </tbody>\n",
              "</table>\n",
              "</div>\n",
              "      <button class=\"colab-df-convert\" onclick=\"convertToInteractive('df-824399d1-f713-4ef9-9789-6278515ee406')\"\n",
              "              title=\"Convert this dataframe to an interactive table.\"\n",
              "              style=\"display:none;\">\n",
              "        \n",
              "  <svg xmlns=\"http://www.w3.org/2000/svg\" height=\"24px\"viewBox=\"0 0 24 24\"\n",
              "       width=\"24px\">\n",
              "    <path d=\"M0 0h24v24H0V0z\" fill=\"none\"/>\n",
              "    <path d=\"M18.56 5.44l.94 2.06.94-2.06 2.06-.94-2.06-.94-.94-2.06-.94 2.06-2.06.94zm-11 1L8.5 8.5l.94-2.06 2.06-.94-2.06-.94L8.5 2.5l-.94 2.06-2.06.94zm10 10l.94 2.06.94-2.06 2.06-.94-2.06-.94-.94-2.06-.94 2.06-2.06.94z\"/><path d=\"M17.41 7.96l-1.37-1.37c-.4-.4-.92-.59-1.43-.59-.52 0-1.04.2-1.43.59L10.3 9.45l-7.72 7.72c-.78.78-.78 2.05 0 2.83L4 21.41c.39.39.9.59 1.41.59.51 0 1.02-.2 1.41-.59l7.78-7.78 2.81-2.81c.8-.78.8-2.07 0-2.86zM5.41 20L4 18.59l7.72-7.72 1.47 1.35L5.41 20z\"/>\n",
              "  </svg>\n",
              "      </button>\n",
              "      \n",
              "  <style>\n",
              "    .colab-df-container {\n",
              "      display:flex;\n",
              "      flex-wrap:wrap;\n",
              "      gap: 12px;\n",
              "    }\n",
              "\n",
              "    .colab-df-convert {\n",
              "      background-color: #E8F0FE;\n",
              "      border: none;\n",
              "      border-radius: 50%;\n",
              "      cursor: pointer;\n",
              "      display: none;\n",
              "      fill: #1967D2;\n",
              "      height: 32px;\n",
              "      padding: 0 0 0 0;\n",
              "      width: 32px;\n",
              "    }\n",
              "\n",
              "    .colab-df-convert:hover {\n",
              "      background-color: #E2EBFA;\n",
              "      box-shadow: 0px 1px 2px rgba(60, 64, 67, 0.3), 0px 1px 3px 1px rgba(60, 64, 67, 0.15);\n",
              "      fill: #174EA6;\n",
              "    }\n",
              "\n",
              "    [theme=dark] .colab-df-convert {\n",
              "      background-color: #3B4455;\n",
              "      fill: #D2E3FC;\n",
              "    }\n",
              "\n",
              "    [theme=dark] .colab-df-convert:hover {\n",
              "      background-color: #434B5C;\n",
              "      box-shadow: 0px 1px 3px 1px rgba(0, 0, 0, 0.15);\n",
              "      filter: drop-shadow(0px 1px 2px rgba(0, 0, 0, 0.3));\n",
              "      fill: #FFFFFF;\n",
              "    }\n",
              "  </style>\n",
              "\n",
              "      <script>\n",
              "        const buttonEl =\n",
              "          document.querySelector('#df-824399d1-f713-4ef9-9789-6278515ee406 button.colab-df-convert');\n",
              "        buttonEl.style.display =\n",
              "          google.colab.kernel.accessAllowed ? 'block' : 'none';\n",
              "\n",
              "        async function convertToInteractive(key) {\n",
              "          const element = document.querySelector('#df-824399d1-f713-4ef9-9789-6278515ee406');\n",
              "          const dataTable =\n",
              "            await google.colab.kernel.invokeFunction('convertToInteractive',\n",
              "                                                     [key], {});\n",
              "          if (!dataTable) return;\n",
              "\n",
              "          const docLinkHtml = 'Like what you see? Visit the ' +\n",
              "            '<a target=\"_blank\" href=https://colab.research.google.com/notebooks/data_table.ipynb>data table notebook</a>'\n",
              "            + ' to learn more about interactive tables.';\n",
              "          element.innerHTML = '';\n",
              "          dataTable['output_type'] = 'display_data';\n",
              "          await google.colab.output.renderOutput(dataTable, element);\n",
              "          const docLink = document.createElement('div');\n",
              "          docLink.innerHTML = docLinkHtml;\n",
              "          element.appendChild(docLink);\n",
              "        }\n",
              "      </script>\n",
              "    </div>\n",
              "  </div>\n",
              "  "
            ]
          },
          "metadata": {},
          "execution_count": 253
        }
      ],
      "source": [
        "grades.sort_values(by='Test1', axis=1, ascending=False)"
      ]
    },
    {
      "cell_type": "code",
      "source": [
        "grades.T.sort_values(by='Test1', ascending=False)"
      ],
      "metadata": {
        "colab": {
          "base_uri": "https://localhost:8080/",
          "height": 206
        },
        "id": "o_0bauOQ4Y1Y",
        "outputId": "794e1bd7-b99d-455e-b95c-47d0fc1b9266"
      },
      "execution_count": null,
      "outputs": [
        {
          "output_type": "execute_result",
          "data": {
            "text/plain": [
              "       Test1  Test2  Test3\n",
              "Eva      100     87     90\n",
              "Katie    100     81     82\n",
              "Sam       94     77     90\n",
              "Wally     87     96     70\n",
              "Bob       83     65     85"
            ],
            "text/html": [
              "\n",
              "  <div id=\"df-acd576c4-3a1f-4f32-897d-f608c094b577\">\n",
              "    <div class=\"colab-df-container\">\n",
              "      <div>\n",
              "<style scoped>\n",
              "    .dataframe tbody tr th:only-of-type {\n",
              "        vertical-align: middle;\n",
              "    }\n",
              "\n",
              "    .dataframe tbody tr th {\n",
              "        vertical-align: top;\n",
              "    }\n",
              "\n",
              "    .dataframe thead th {\n",
              "        text-align: right;\n",
              "    }\n",
              "</style>\n",
              "<table border=\"1\" class=\"dataframe\">\n",
              "  <thead>\n",
              "    <tr style=\"text-align: right;\">\n",
              "      <th></th>\n",
              "      <th>Test1</th>\n",
              "      <th>Test2</th>\n",
              "      <th>Test3</th>\n",
              "    </tr>\n",
              "  </thead>\n",
              "  <tbody>\n",
              "    <tr>\n",
              "      <th>Eva</th>\n",
              "      <td>100</td>\n",
              "      <td>87</td>\n",
              "      <td>90</td>\n",
              "    </tr>\n",
              "    <tr>\n",
              "      <th>Katie</th>\n",
              "      <td>100</td>\n",
              "      <td>81</td>\n",
              "      <td>82</td>\n",
              "    </tr>\n",
              "    <tr>\n",
              "      <th>Sam</th>\n",
              "      <td>94</td>\n",
              "      <td>77</td>\n",
              "      <td>90</td>\n",
              "    </tr>\n",
              "    <tr>\n",
              "      <th>Wally</th>\n",
              "      <td>87</td>\n",
              "      <td>96</td>\n",
              "      <td>70</td>\n",
              "    </tr>\n",
              "    <tr>\n",
              "      <th>Bob</th>\n",
              "      <td>83</td>\n",
              "      <td>65</td>\n",
              "      <td>85</td>\n",
              "    </tr>\n",
              "  </tbody>\n",
              "</table>\n",
              "</div>\n",
              "      <button class=\"colab-df-convert\" onclick=\"convertToInteractive('df-acd576c4-3a1f-4f32-897d-f608c094b577')\"\n",
              "              title=\"Convert this dataframe to an interactive table.\"\n",
              "              style=\"display:none;\">\n",
              "        \n",
              "  <svg xmlns=\"http://www.w3.org/2000/svg\" height=\"24px\"viewBox=\"0 0 24 24\"\n",
              "       width=\"24px\">\n",
              "    <path d=\"M0 0h24v24H0V0z\" fill=\"none\"/>\n",
              "    <path d=\"M18.56 5.44l.94 2.06.94-2.06 2.06-.94-2.06-.94-.94-2.06-.94 2.06-2.06.94zm-11 1L8.5 8.5l.94-2.06 2.06-.94-2.06-.94L8.5 2.5l-.94 2.06-2.06.94zm10 10l.94 2.06.94-2.06 2.06-.94-2.06-.94-.94-2.06-.94 2.06-2.06.94z\"/><path d=\"M17.41 7.96l-1.37-1.37c-.4-.4-.92-.59-1.43-.59-.52 0-1.04.2-1.43.59L10.3 9.45l-7.72 7.72c-.78.78-.78 2.05 0 2.83L4 21.41c.39.39.9.59 1.41.59.51 0 1.02-.2 1.41-.59l7.78-7.78 2.81-2.81c.8-.78.8-2.07 0-2.86zM5.41 20L4 18.59l7.72-7.72 1.47 1.35L5.41 20z\"/>\n",
              "  </svg>\n",
              "      </button>\n",
              "      \n",
              "  <style>\n",
              "    .colab-df-container {\n",
              "      display:flex;\n",
              "      flex-wrap:wrap;\n",
              "      gap: 12px;\n",
              "    }\n",
              "\n",
              "    .colab-df-convert {\n",
              "      background-color: #E8F0FE;\n",
              "      border: none;\n",
              "      border-radius: 50%;\n",
              "      cursor: pointer;\n",
              "      display: none;\n",
              "      fill: #1967D2;\n",
              "      height: 32px;\n",
              "      padding: 0 0 0 0;\n",
              "      width: 32px;\n",
              "    }\n",
              "\n",
              "    .colab-df-convert:hover {\n",
              "      background-color: #E2EBFA;\n",
              "      box-shadow: 0px 1px 2px rgba(60, 64, 67, 0.3), 0px 1px 3px 1px rgba(60, 64, 67, 0.15);\n",
              "      fill: #174EA6;\n",
              "    }\n",
              "\n",
              "    [theme=dark] .colab-df-convert {\n",
              "      background-color: #3B4455;\n",
              "      fill: #D2E3FC;\n",
              "    }\n",
              "\n",
              "    [theme=dark] .colab-df-convert:hover {\n",
              "      background-color: #434B5C;\n",
              "      box-shadow: 0px 1px 3px 1px rgba(0, 0, 0, 0.15);\n",
              "      filter: drop-shadow(0px 1px 2px rgba(0, 0, 0, 0.3));\n",
              "      fill: #FFFFFF;\n",
              "    }\n",
              "  </style>\n",
              "\n",
              "      <script>\n",
              "        const buttonEl =\n",
              "          document.querySelector('#df-acd576c4-3a1f-4f32-897d-f608c094b577 button.colab-df-convert');\n",
              "        buttonEl.style.display =\n",
              "          google.colab.kernel.accessAllowed ? 'block' : 'none';\n",
              "\n",
              "        async function convertToInteractive(key) {\n",
              "          const element = document.querySelector('#df-acd576c4-3a1f-4f32-897d-f608c094b577');\n",
              "          const dataTable =\n",
              "            await google.colab.kernel.invokeFunction('convertToInteractive',\n",
              "                                                     [key], {});\n",
              "          if (!dataTable) return;\n",
              "\n",
              "          const docLinkHtml = 'Like what you see? Visit the ' +\n",
              "            '<a target=\"_blank\" href=https://colab.research.google.com/notebooks/data_table.ipynb>data table notebook</a>'\n",
              "            + ' to learn more about interactive tables.';\n",
              "          element.innerHTML = '';\n",
              "          dataTable['output_type'] = 'display_data';\n",
              "          await google.colab.output.renderOutput(dataTable, element);\n",
              "          const docLink = document.createElement('div');\n",
              "          docLink.innerHTML = docLinkHtml;\n",
              "          element.appendChild(docLink);\n",
              "        }\n",
              "      </script>\n",
              "    </div>\n",
              "  </div>\n",
              "  "
            ]
          },
          "metadata": {},
          "execution_count": 254
        }
      ]
    },
    {
      "cell_type": "markdown",
      "metadata": {
        "id": "Hd1epxgYNQT2"
      },
      "source": [
        "### Cópia vs. Ordenação no local"
      ]
    },
    {
      "cell_type": "markdown",
      "source": [
        "Por padrão, sort_index e sort_values retornam uma cópia do DataFrame original, o que pode exigir memória substancial em um aplicativo de big data. Você pode classificar o DataFrame no local, em vez de copiar os dados. Para fazer isso, passe o argumento de palavra-chave inplace=True para sort_index ou sort_values."
      ],
      "metadata": {
        "id": "hxIpn8U9Bf93"
      }
    },
    {
      "cell_type": "code",
      "source": [
        "grades"
      ],
      "metadata": {
        "colab": {
          "base_uri": "https://localhost:8080/",
          "height": 143
        },
        "id": "wyUUCu2xBgwZ",
        "outputId": "613d9880-fd37-486a-c633-f519c6ce70bc"
      },
      "execution_count": null,
      "outputs": [
        {
          "output_type": "execute_result",
          "data": {
            "text/plain": [
              "       Wally  Eva  Sam  Katie  Bob\n",
              "Test1     87    0   94    100   83\n",
              "Test2     96   87   77     81   65\n",
              "Test3     70   90   90     82   85"
            ],
            "text/html": [
              "\n",
              "  <div id=\"df-f588d02d-f8aa-40b5-8529-45aaf2709936\">\n",
              "    <div class=\"colab-df-container\">\n",
              "      <div>\n",
              "<style scoped>\n",
              "    .dataframe tbody tr th:only-of-type {\n",
              "        vertical-align: middle;\n",
              "    }\n",
              "\n",
              "    .dataframe tbody tr th {\n",
              "        vertical-align: top;\n",
              "    }\n",
              "\n",
              "    .dataframe thead th {\n",
              "        text-align: right;\n",
              "    }\n",
              "</style>\n",
              "<table border=\"1\" class=\"dataframe\">\n",
              "  <thead>\n",
              "    <tr style=\"text-align: right;\">\n",
              "      <th></th>\n",
              "      <th>Wally</th>\n",
              "      <th>Eva</th>\n",
              "      <th>Sam</th>\n",
              "      <th>Katie</th>\n",
              "      <th>Bob</th>\n",
              "    </tr>\n",
              "  </thead>\n",
              "  <tbody>\n",
              "    <tr>\n",
              "      <th>Test1</th>\n",
              "      <td>87</td>\n",
              "      <td>0</td>\n",
              "      <td>94</td>\n",
              "      <td>100</td>\n",
              "      <td>83</td>\n",
              "    </tr>\n",
              "    <tr>\n",
              "      <th>Test2</th>\n",
              "      <td>96</td>\n",
              "      <td>87</td>\n",
              "      <td>77</td>\n",
              "      <td>81</td>\n",
              "      <td>65</td>\n",
              "    </tr>\n",
              "    <tr>\n",
              "      <th>Test3</th>\n",
              "      <td>70</td>\n",
              "      <td>90</td>\n",
              "      <td>90</td>\n",
              "      <td>82</td>\n",
              "      <td>85</td>\n",
              "    </tr>\n",
              "  </tbody>\n",
              "</table>\n",
              "</div>\n",
              "      <button class=\"colab-df-convert\" onclick=\"convertToInteractive('df-f588d02d-f8aa-40b5-8529-45aaf2709936')\"\n",
              "              title=\"Convert this dataframe to an interactive table.\"\n",
              "              style=\"display:none;\">\n",
              "        \n",
              "  <svg xmlns=\"http://www.w3.org/2000/svg\" height=\"24px\"viewBox=\"0 0 24 24\"\n",
              "       width=\"24px\">\n",
              "    <path d=\"M0 0h24v24H0V0z\" fill=\"none\"/>\n",
              "    <path d=\"M18.56 5.44l.94 2.06.94-2.06 2.06-.94-2.06-.94-.94-2.06-.94 2.06-2.06.94zm-11 1L8.5 8.5l.94-2.06 2.06-.94-2.06-.94L8.5 2.5l-.94 2.06-2.06.94zm10 10l.94 2.06.94-2.06 2.06-.94-2.06-.94-.94-2.06-.94 2.06-2.06.94z\"/><path d=\"M17.41 7.96l-1.37-1.37c-.4-.4-.92-.59-1.43-.59-.52 0-1.04.2-1.43.59L10.3 9.45l-7.72 7.72c-.78.78-.78 2.05 0 2.83L4 21.41c.39.39.9.59 1.41.59.51 0 1.02-.2 1.41-.59l7.78-7.78 2.81-2.81c.8-.78.8-2.07 0-2.86zM5.41 20L4 18.59l7.72-7.72 1.47 1.35L5.41 20z\"/>\n",
              "  </svg>\n",
              "      </button>\n",
              "      \n",
              "  <style>\n",
              "    .colab-df-container {\n",
              "      display:flex;\n",
              "      flex-wrap:wrap;\n",
              "      gap: 12px;\n",
              "    }\n",
              "\n",
              "    .colab-df-convert {\n",
              "      background-color: #E8F0FE;\n",
              "      border: none;\n",
              "      border-radius: 50%;\n",
              "      cursor: pointer;\n",
              "      display: none;\n",
              "      fill: #1967D2;\n",
              "      height: 32px;\n",
              "      padding: 0 0 0 0;\n",
              "      width: 32px;\n",
              "    }\n",
              "\n",
              "    .colab-df-convert:hover {\n",
              "      background-color: #E2EBFA;\n",
              "      box-shadow: 0px 1px 2px rgba(60, 64, 67, 0.3), 0px 1px 3px 1px rgba(60, 64, 67, 0.15);\n",
              "      fill: #174EA6;\n",
              "    }\n",
              "\n",
              "    [theme=dark] .colab-df-convert {\n",
              "      background-color: #3B4455;\n",
              "      fill: #D2E3FC;\n",
              "    }\n",
              "\n",
              "    [theme=dark] .colab-df-convert:hover {\n",
              "      background-color: #434B5C;\n",
              "      box-shadow: 0px 1px 3px 1px rgba(0, 0, 0, 0.15);\n",
              "      filter: drop-shadow(0px 1px 2px rgba(0, 0, 0, 0.3));\n",
              "      fill: #FFFFFF;\n",
              "    }\n",
              "  </style>\n",
              "\n",
              "      <script>\n",
              "        const buttonEl =\n",
              "          document.querySelector('#df-f588d02d-f8aa-40b5-8529-45aaf2709936 button.colab-df-convert');\n",
              "        buttonEl.style.display =\n",
              "          google.colab.kernel.accessAllowed ? 'block' : 'none';\n",
              "\n",
              "        async function convertToInteractive(key) {\n",
              "          const element = document.querySelector('#df-f588d02d-f8aa-40b5-8529-45aaf2709936');\n",
              "          const dataTable =\n",
              "            await google.colab.kernel.invokeFunction('convertToInteractive',\n",
              "                                                     [key], {});\n",
              "          if (!dataTable) return;\n",
              "\n",
              "          const docLinkHtml = 'Like what you see? Visit the ' +\n",
              "            '<a target=\"_blank\" href=https://colab.research.google.com/notebooks/data_table.ipynb>data table notebook</a>'\n",
              "            + ' to learn more about interactive tables.';\n",
              "          element.innerHTML = '';\n",
              "          dataTable['output_type'] = 'display_data';\n",
              "          await google.colab.output.renderOutput(dataTable, element);\n",
              "          const docLink = document.createElement('div');\n",
              "          docLink.innerHTML = docLinkHtml;\n",
              "          element.appendChild(docLink);\n",
              "        }\n",
              "      </script>\n",
              "    </div>\n",
              "  </div>\n",
              "  "
            ]
          },
          "metadata": {},
          "execution_count": 107
        }
      ]
    },
    {
      "cell_type": "code",
      "source": [
        "grades.sort_values(by='Test1', axis=1)"
      ],
      "metadata": {
        "colab": {
          "base_uri": "https://localhost:8080/",
          "height": 143
        },
        "id": "GtesRoQ34hMT",
        "outputId": "deed0c29-3a89-44e4-de2a-111c86869f9b"
      },
      "execution_count": null,
      "outputs": [
        {
          "output_type": "execute_result",
          "data": {
            "text/plain": [
              "       Bob  Wally  Sam  Eva  Katie\n",
              "Test1   83     87   94  100    100\n",
              "Test2   65     96   77   87     81\n",
              "Test3   85     70   90   90     82"
            ],
            "text/html": [
              "\n",
              "  <div id=\"df-cd2bc86c-81aa-419f-a9b4-91bf814c1e38\">\n",
              "    <div class=\"colab-df-container\">\n",
              "      <div>\n",
              "<style scoped>\n",
              "    .dataframe tbody tr th:only-of-type {\n",
              "        vertical-align: middle;\n",
              "    }\n",
              "\n",
              "    .dataframe tbody tr th {\n",
              "        vertical-align: top;\n",
              "    }\n",
              "\n",
              "    .dataframe thead th {\n",
              "        text-align: right;\n",
              "    }\n",
              "</style>\n",
              "<table border=\"1\" class=\"dataframe\">\n",
              "  <thead>\n",
              "    <tr style=\"text-align: right;\">\n",
              "      <th></th>\n",
              "      <th>Bob</th>\n",
              "      <th>Wally</th>\n",
              "      <th>Sam</th>\n",
              "      <th>Eva</th>\n",
              "      <th>Katie</th>\n",
              "    </tr>\n",
              "  </thead>\n",
              "  <tbody>\n",
              "    <tr>\n",
              "      <th>Test1</th>\n",
              "      <td>83</td>\n",
              "      <td>87</td>\n",
              "      <td>94</td>\n",
              "      <td>100</td>\n",
              "      <td>100</td>\n",
              "    </tr>\n",
              "    <tr>\n",
              "      <th>Test2</th>\n",
              "      <td>65</td>\n",
              "      <td>96</td>\n",
              "      <td>77</td>\n",
              "      <td>87</td>\n",
              "      <td>81</td>\n",
              "    </tr>\n",
              "    <tr>\n",
              "      <th>Test3</th>\n",
              "      <td>85</td>\n",
              "      <td>70</td>\n",
              "      <td>90</td>\n",
              "      <td>90</td>\n",
              "      <td>82</td>\n",
              "    </tr>\n",
              "  </tbody>\n",
              "</table>\n",
              "</div>\n",
              "      <button class=\"colab-df-convert\" onclick=\"convertToInteractive('df-cd2bc86c-81aa-419f-a9b4-91bf814c1e38')\"\n",
              "              title=\"Convert this dataframe to an interactive table.\"\n",
              "              style=\"display:none;\">\n",
              "        \n",
              "  <svg xmlns=\"http://www.w3.org/2000/svg\" height=\"24px\"viewBox=\"0 0 24 24\"\n",
              "       width=\"24px\">\n",
              "    <path d=\"M0 0h24v24H0V0z\" fill=\"none\"/>\n",
              "    <path d=\"M18.56 5.44l.94 2.06.94-2.06 2.06-.94-2.06-.94-.94-2.06-.94 2.06-2.06.94zm-11 1L8.5 8.5l.94-2.06 2.06-.94-2.06-.94L8.5 2.5l-.94 2.06-2.06.94zm10 10l.94 2.06.94-2.06 2.06-.94-2.06-.94-.94-2.06-.94 2.06-2.06.94z\"/><path d=\"M17.41 7.96l-1.37-1.37c-.4-.4-.92-.59-1.43-.59-.52 0-1.04.2-1.43.59L10.3 9.45l-7.72 7.72c-.78.78-.78 2.05 0 2.83L4 21.41c.39.39.9.59 1.41.59.51 0 1.02-.2 1.41-.59l7.78-7.78 2.81-2.81c.8-.78.8-2.07 0-2.86zM5.41 20L4 18.59l7.72-7.72 1.47 1.35L5.41 20z\"/>\n",
              "  </svg>\n",
              "      </button>\n",
              "      \n",
              "  <style>\n",
              "    .colab-df-container {\n",
              "      display:flex;\n",
              "      flex-wrap:wrap;\n",
              "      gap: 12px;\n",
              "    }\n",
              "\n",
              "    .colab-df-convert {\n",
              "      background-color: #E8F0FE;\n",
              "      border: none;\n",
              "      border-radius: 50%;\n",
              "      cursor: pointer;\n",
              "      display: none;\n",
              "      fill: #1967D2;\n",
              "      height: 32px;\n",
              "      padding: 0 0 0 0;\n",
              "      width: 32px;\n",
              "    }\n",
              "\n",
              "    .colab-df-convert:hover {\n",
              "      background-color: #E2EBFA;\n",
              "      box-shadow: 0px 1px 2px rgba(60, 64, 67, 0.3), 0px 1px 3px 1px rgba(60, 64, 67, 0.15);\n",
              "      fill: #174EA6;\n",
              "    }\n",
              "\n",
              "    [theme=dark] .colab-df-convert {\n",
              "      background-color: #3B4455;\n",
              "      fill: #D2E3FC;\n",
              "    }\n",
              "\n",
              "    [theme=dark] .colab-df-convert:hover {\n",
              "      background-color: #434B5C;\n",
              "      box-shadow: 0px 1px 3px 1px rgba(0, 0, 0, 0.15);\n",
              "      filter: drop-shadow(0px 1px 2px rgba(0, 0, 0, 0.3));\n",
              "      fill: #FFFFFF;\n",
              "    }\n",
              "  </style>\n",
              "\n",
              "      <script>\n",
              "        const buttonEl =\n",
              "          document.querySelector('#df-cd2bc86c-81aa-419f-a9b4-91bf814c1e38 button.colab-df-convert');\n",
              "        buttonEl.style.display =\n",
              "          google.colab.kernel.accessAllowed ? 'block' : 'none';\n",
              "\n",
              "        async function convertToInteractive(key) {\n",
              "          const element = document.querySelector('#df-cd2bc86c-81aa-419f-a9b4-91bf814c1e38');\n",
              "          const dataTable =\n",
              "            await google.colab.kernel.invokeFunction('convertToInteractive',\n",
              "                                                     [key], {});\n",
              "          if (!dataTable) return;\n",
              "\n",
              "          const docLinkHtml = 'Like what you see? Visit the ' +\n",
              "            '<a target=\"_blank\" href=https://colab.research.google.com/notebooks/data_table.ipynb>data table notebook</a>'\n",
              "            + ' to learn more about interactive tables.';\n",
              "          element.innerHTML = '';\n",
              "          dataTable['output_type'] = 'display_data';\n",
              "          await google.colab.output.renderOutput(dataTable, element);\n",
              "          const docLink = document.createElement('div');\n",
              "          docLink.innerHTML = docLinkHtml;\n",
              "          element.appendChild(docLink);\n",
              "        }\n",
              "      </script>\n",
              "    </div>\n",
              "  </div>\n",
              "  "
            ]
          },
          "metadata": {},
          "execution_count": 255
        }
      ]
    },
    {
      "cell_type": "code",
      "source": [
        "grades"
      ],
      "metadata": {
        "colab": {
          "base_uri": "https://localhost:8080/",
          "height": 143
        },
        "id": "htC3BA_I4iwk",
        "outputId": "c8f03cb1-da24-4fc0-f04f-6a50729a9adf"
      },
      "execution_count": null,
      "outputs": [
        {
          "output_type": "execute_result",
          "data": {
            "text/plain": [
              "       Wally  Eva  Sam  Katie  Bob\n",
              "Test1     87  100   94    100   83\n",
              "Test2     96   87   77     81   65\n",
              "Test3     70   90   90     82   85"
            ],
            "text/html": [
              "\n",
              "  <div id=\"df-484ae944-961b-46cb-a2da-b1de90501ab5\">\n",
              "    <div class=\"colab-df-container\">\n",
              "      <div>\n",
              "<style scoped>\n",
              "    .dataframe tbody tr th:only-of-type {\n",
              "        vertical-align: middle;\n",
              "    }\n",
              "\n",
              "    .dataframe tbody tr th {\n",
              "        vertical-align: top;\n",
              "    }\n",
              "\n",
              "    .dataframe thead th {\n",
              "        text-align: right;\n",
              "    }\n",
              "</style>\n",
              "<table border=\"1\" class=\"dataframe\">\n",
              "  <thead>\n",
              "    <tr style=\"text-align: right;\">\n",
              "      <th></th>\n",
              "      <th>Wally</th>\n",
              "      <th>Eva</th>\n",
              "      <th>Sam</th>\n",
              "      <th>Katie</th>\n",
              "      <th>Bob</th>\n",
              "    </tr>\n",
              "  </thead>\n",
              "  <tbody>\n",
              "    <tr>\n",
              "      <th>Test1</th>\n",
              "      <td>87</td>\n",
              "      <td>100</td>\n",
              "      <td>94</td>\n",
              "      <td>100</td>\n",
              "      <td>83</td>\n",
              "    </tr>\n",
              "    <tr>\n",
              "      <th>Test2</th>\n",
              "      <td>96</td>\n",
              "      <td>87</td>\n",
              "      <td>77</td>\n",
              "      <td>81</td>\n",
              "      <td>65</td>\n",
              "    </tr>\n",
              "    <tr>\n",
              "      <th>Test3</th>\n",
              "      <td>70</td>\n",
              "      <td>90</td>\n",
              "      <td>90</td>\n",
              "      <td>82</td>\n",
              "      <td>85</td>\n",
              "    </tr>\n",
              "  </tbody>\n",
              "</table>\n",
              "</div>\n",
              "      <button class=\"colab-df-convert\" onclick=\"convertToInteractive('df-484ae944-961b-46cb-a2da-b1de90501ab5')\"\n",
              "              title=\"Convert this dataframe to an interactive table.\"\n",
              "              style=\"display:none;\">\n",
              "        \n",
              "  <svg xmlns=\"http://www.w3.org/2000/svg\" height=\"24px\"viewBox=\"0 0 24 24\"\n",
              "       width=\"24px\">\n",
              "    <path d=\"M0 0h24v24H0V0z\" fill=\"none\"/>\n",
              "    <path d=\"M18.56 5.44l.94 2.06.94-2.06 2.06-.94-2.06-.94-.94-2.06-.94 2.06-2.06.94zm-11 1L8.5 8.5l.94-2.06 2.06-.94-2.06-.94L8.5 2.5l-.94 2.06-2.06.94zm10 10l.94 2.06.94-2.06 2.06-.94-2.06-.94-.94-2.06-.94 2.06-2.06.94z\"/><path d=\"M17.41 7.96l-1.37-1.37c-.4-.4-.92-.59-1.43-.59-.52 0-1.04.2-1.43.59L10.3 9.45l-7.72 7.72c-.78.78-.78 2.05 0 2.83L4 21.41c.39.39.9.59 1.41.59.51 0 1.02-.2 1.41-.59l7.78-7.78 2.81-2.81c.8-.78.8-2.07 0-2.86zM5.41 20L4 18.59l7.72-7.72 1.47 1.35L5.41 20z\"/>\n",
              "  </svg>\n",
              "      </button>\n",
              "      \n",
              "  <style>\n",
              "    .colab-df-container {\n",
              "      display:flex;\n",
              "      flex-wrap:wrap;\n",
              "      gap: 12px;\n",
              "    }\n",
              "\n",
              "    .colab-df-convert {\n",
              "      background-color: #E8F0FE;\n",
              "      border: none;\n",
              "      border-radius: 50%;\n",
              "      cursor: pointer;\n",
              "      display: none;\n",
              "      fill: #1967D2;\n",
              "      height: 32px;\n",
              "      padding: 0 0 0 0;\n",
              "      width: 32px;\n",
              "    }\n",
              "\n",
              "    .colab-df-convert:hover {\n",
              "      background-color: #E2EBFA;\n",
              "      box-shadow: 0px 1px 2px rgba(60, 64, 67, 0.3), 0px 1px 3px 1px rgba(60, 64, 67, 0.15);\n",
              "      fill: #174EA6;\n",
              "    }\n",
              "\n",
              "    [theme=dark] .colab-df-convert {\n",
              "      background-color: #3B4455;\n",
              "      fill: #D2E3FC;\n",
              "    }\n",
              "\n",
              "    [theme=dark] .colab-df-convert:hover {\n",
              "      background-color: #434B5C;\n",
              "      box-shadow: 0px 1px 3px 1px rgba(0, 0, 0, 0.15);\n",
              "      filter: drop-shadow(0px 1px 2px rgba(0, 0, 0, 0.3));\n",
              "      fill: #FFFFFF;\n",
              "    }\n",
              "  </style>\n",
              "\n",
              "      <script>\n",
              "        const buttonEl =\n",
              "          document.querySelector('#df-484ae944-961b-46cb-a2da-b1de90501ab5 button.colab-df-convert');\n",
              "        buttonEl.style.display =\n",
              "          google.colab.kernel.accessAllowed ? 'block' : 'none';\n",
              "\n",
              "        async function convertToInteractive(key) {\n",
              "          const element = document.querySelector('#df-484ae944-961b-46cb-a2da-b1de90501ab5');\n",
              "          const dataTable =\n",
              "            await google.colab.kernel.invokeFunction('convertToInteractive',\n",
              "                                                     [key], {});\n",
              "          if (!dataTable) return;\n",
              "\n",
              "          const docLinkHtml = 'Like what you see? Visit the ' +\n",
              "            '<a target=\"_blank\" href=https://colab.research.google.com/notebooks/data_table.ipynb>data table notebook</a>'\n",
              "            + ' to learn more about interactive tables.';\n",
              "          element.innerHTML = '';\n",
              "          dataTable['output_type'] = 'display_data';\n",
              "          await google.colab.output.renderOutput(dataTable, element);\n",
              "          const docLink = document.createElement('div');\n",
              "          docLink.innerHTML = docLinkHtml;\n",
              "          element.appendChild(docLink);\n",
              "        }\n",
              "      </script>\n",
              "    </div>\n",
              "  </div>\n",
              "  "
            ]
          },
          "metadata": {},
          "execution_count": 256
        }
      ]
    },
    {
      "cell_type": "code",
      "source": [
        "grades.sort_values(by='Test1', axis=1, inplace=True)"
      ],
      "metadata": {
        "id": "hhCKv57p4jQZ"
      },
      "execution_count": null,
      "outputs": []
    },
    {
      "cell_type": "code",
      "source": [
        "grades"
      ],
      "metadata": {
        "colab": {
          "base_uri": "https://localhost:8080/",
          "height": 143
        },
        "id": "oV_vLwcL4oDA",
        "outputId": "ee14110f-395a-4fe8-8eda-4553e78b8db3"
      },
      "execution_count": null,
      "outputs": [
        {
          "output_type": "execute_result",
          "data": {
            "text/plain": [
              "       Bob  Wally  Sam  Eva  Katie\n",
              "Test1   83     87   94  100    100\n",
              "Test2   65     96   77   87     81\n",
              "Test3   85     70   90   90     82"
            ],
            "text/html": [
              "\n",
              "  <div id=\"df-0bb1588b-5a07-4ad0-8c62-12e55165c2a3\">\n",
              "    <div class=\"colab-df-container\">\n",
              "      <div>\n",
              "<style scoped>\n",
              "    .dataframe tbody tr th:only-of-type {\n",
              "        vertical-align: middle;\n",
              "    }\n",
              "\n",
              "    .dataframe tbody tr th {\n",
              "        vertical-align: top;\n",
              "    }\n",
              "\n",
              "    .dataframe thead th {\n",
              "        text-align: right;\n",
              "    }\n",
              "</style>\n",
              "<table border=\"1\" class=\"dataframe\">\n",
              "  <thead>\n",
              "    <tr style=\"text-align: right;\">\n",
              "      <th></th>\n",
              "      <th>Bob</th>\n",
              "      <th>Wally</th>\n",
              "      <th>Sam</th>\n",
              "      <th>Eva</th>\n",
              "      <th>Katie</th>\n",
              "    </tr>\n",
              "  </thead>\n",
              "  <tbody>\n",
              "    <tr>\n",
              "      <th>Test1</th>\n",
              "      <td>83</td>\n",
              "      <td>87</td>\n",
              "      <td>94</td>\n",
              "      <td>100</td>\n",
              "      <td>100</td>\n",
              "    </tr>\n",
              "    <tr>\n",
              "      <th>Test2</th>\n",
              "      <td>65</td>\n",
              "      <td>96</td>\n",
              "      <td>77</td>\n",
              "      <td>87</td>\n",
              "      <td>81</td>\n",
              "    </tr>\n",
              "    <tr>\n",
              "      <th>Test3</th>\n",
              "      <td>85</td>\n",
              "      <td>70</td>\n",
              "      <td>90</td>\n",
              "      <td>90</td>\n",
              "      <td>82</td>\n",
              "    </tr>\n",
              "  </tbody>\n",
              "</table>\n",
              "</div>\n",
              "      <button class=\"colab-df-convert\" onclick=\"convertToInteractive('df-0bb1588b-5a07-4ad0-8c62-12e55165c2a3')\"\n",
              "              title=\"Convert this dataframe to an interactive table.\"\n",
              "              style=\"display:none;\">\n",
              "        \n",
              "  <svg xmlns=\"http://www.w3.org/2000/svg\" height=\"24px\"viewBox=\"0 0 24 24\"\n",
              "       width=\"24px\">\n",
              "    <path d=\"M0 0h24v24H0V0z\" fill=\"none\"/>\n",
              "    <path d=\"M18.56 5.44l.94 2.06.94-2.06 2.06-.94-2.06-.94-.94-2.06-.94 2.06-2.06.94zm-11 1L8.5 8.5l.94-2.06 2.06-.94-2.06-.94L8.5 2.5l-.94 2.06-2.06.94zm10 10l.94 2.06.94-2.06 2.06-.94-2.06-.94-.94-2.06-.94 2.06-2.06.94z\"/><path d=\"M17.41 7.96l-1.37-1.37c-.4-.4-.92-.59-1.43-.59-.52 0-1.04.2-1.43.59L10.3 9.45l-7.72 7.72c-.78.78-.78 2.05 0 2.83L4 21.41c.39.39.9.59 1.41.59.51 0 1.02-.2 1.41-.59l7.78-7.78 2.81-2.81c.8-.78.8-2.07 0-2.86zM5.41 20L4 18.59l7.72-7.72 1.47 1.35L5.41 20z\"/>\n",
              "  </svg>\n",
              "      </button>\n",
              "      \n",
              "  <style>\n",
              "    .colab-df-container {\n",
              "      display:flex;\n",
              "      flex-wrap:wrap;\n",
              "      gap: 12px;\n",
              "    }\n",
              "\n",
              "    .colab-df-convert {\n",
              "      background-color: #E8F0FE;\n",
              "      border: none;\n",
              "      border-radius: 50%;\n",
              "      cursor: pointer;\n",
              "      display: none;\n",
              "      fill: #1967D2;\n",
              "      height: 32px;\n",
              "      padding: 0 0 0 0;\n",
              "      width: 32px;\n",
              "    }\n",
              "\n",
              "    .colab-df-convert:hover {\n",
              "      background-color: #E2EBFA;\n",
              "      box-shadow: 0px 1px 2px rgba(60, 64, 67, 0.3), 0px 1px 3px 1px rgba(60, 64, 67, 0.15);\n",
              "      fill: #174EA6;\n",
              "    }\n",
              "\n",
              "    [theme=dark] .colab-df-convert {\n",
              "      background-color: #3B4455;\n",
              "      fill: #D2E3FC;\n",
              "    }\n",
              "\n",
              "    [theme=dark] .colab-df-convert:hover {\n",
              "      background-color: #434B5C;\n",
              "      box-shadow: 0px 1px 3px 1px rgba(0, 0, 0, 0.15);\n",
              "      filter: drop-shadow(0px 1px 2px rgba(0, 0, 0, 0.3));\n",
              "      fill: #FFFFFF;\n",
              "    }\n",
              "  </style>\n",
              "\n",
              "      <script>\n",
              "        const buttonEl =\n",
              "          document.querySelector('#df-0bb1588b-5a07-4ad0-8c62-12e55165c2a3 button.colab-df-convert');\n",
              "        buttonEl.style.display =\n",
              "          google.colab.kernel.accessAllowed ? 'block' : 'none';\n",
              "\n",
              "        async function convertToInteractive(key) {\n",
              "          const element = document.querySelector('#df-0bb1588b-5a07-4ad0-8c62-12e55165c2a3');\n",
              "          const dataTable =\n",
              "            await google.colab.kernel.invokeFunction('convertToInteractive',\n",
              "                                                     [key], {});\n",
              "          if (!dataTable) return;\n",
              "\n",
              "          const docLinkHtml = 'Like what you see? Visit the ' +\n",
              "            '<a target=\"_blank\" href=https://colab.research.google.com/notebooks/data_table.ipynb>data table notebook</a>'\n",
              "            + ' to learn more about interactive tables.';\n",
              "          element.innerHTML = '';\n",
              "          dataTable['output_type'] = 'display_data';\n",
              "          await google.colab.output.renderOutput(dataTable, element);\n",
              "          const docLink = document.createElement('div');\n",
              "          docLink.innerHTML = docLinkHtml;\n",
              "          element.appendChild(docLink);\n",
              "        }\n",
              "      </script>\n",
              "    </div>\n",
              "  </div>\n",
              "  "
            ]
          },
          "metadata": {},
          "execution_count": 258
        }
      ]
    },
    {
      "cell_type": "code",
      "source": [],
      "metadata": {
        "id": "MRvpA8Tk4pQ4"
      },
      "execution_count": null,
      "outputs": []
    },
    {
      "cell_type": "markdown",
      "metadata": {
        "id": "FLxIquvrNQT3"
      },
      "source": [
        "\n",
        "## Atividade"
      ]
    },
    {
      "cell_type": "markdown",
      "metadata": {
        "id": "STibK9fnNQT3"
      },
      "source": [
        "### Dado o seguinte dicionátior:\n",
        "```python \n",
        "temps = {'Mon': [68, 89], 'Tue': [71, 93], 'Wed': [66, 82],\n",
        "         'Thu': [75, 97], 'Fri': [62, 79]}\n",
        "```\n",
        "execute as seguintes tarefas:\n",
        "\n",
        "**a.** Converta o dicionário no `DataFrame` chamado `temperatures` com `'Low'` e `'High'` como os índices, então exiba o `DataFrame`.\n",
        "\n",
        "**b.** Use os nomes das colunas para selecionar apenas as colunas para `'Seg'` a `'Qua'`.\n",
        "\n",
        "**c.** Use o índice de linha `'Baixo'` para selecionar apenas as temperaturas baixas para cada dia.\n",
        "\n",
        "**d.** Defina a precisão do ponto flutuante como 2 e calcule a temperatura média para cada dia.\n",
        "\n",
        "**e.** Calcule as temperaturas médias baixas e altas.\n",
        "\n"
      ]
    },
    {
      "cell_type": "markdown",
      "source": [
        "Resposta"
      ],
      "metadata": {
        "id": "bJmWwBZbDAua"
      }
    },
    {
      "cell_type": "code",
      "source": [],
      "metadata": {
        "id": "hCFteJ7N4xrU"
      },
      "execution_count": null,
      "outputs": []
    }
  ]
}