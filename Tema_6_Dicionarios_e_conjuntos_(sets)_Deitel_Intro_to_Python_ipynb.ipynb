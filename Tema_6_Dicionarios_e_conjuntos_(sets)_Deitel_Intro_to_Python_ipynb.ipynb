{
  "nbformat": 4,
  "nbformat_minor": 0,
  "metadata": {
    "colab": {
      "provenance": [],
      "toc_visible": true
    },
    "kernelspec": {
      "name": "python3",
      "display_name": "Python 3"
    },
    "language_info": {
      "name": "python"
    }
  },
  "cells": [
    {
      "cell_type": "markdown",
      "source": [
        "#1 Dicionário e conjunto (set)"
      ],
      "metadata": {
        "id": "cPoz5o9opqgx"
      }
    },
    {
      "cell_type": "markdown",
      "source": [
        "* Discutimos três coleções de sequências integradas — strings, listas e tuplas. \n",
        "\n",
        "* Agora, consideramos as coleções não sequenciais incorporadas ao python – dicionários e conjuntos. \n",
        "\n"
      ],
      "metadata": {
        "id": "wPpUMavfpTEw"
      }
    },
    {
      "cell_type": "markdown",
      "source": [
        "* Um dicionário é uma coleção não ordenada que armazena pares chave-valor que mapeiam chaves imutáveis para valores, assim como um dicionário convencional mapeia palavras para definições. \n",
        "\n",
        "* Um conjunto é uma coleção não ordenada de elementos imutáveis únicos."
      ],
      "metadata": {
        "id": "KCxw08RtpmlE"
      }
    },
    {
      "cell_type": "markdown",
      "source": [
        "#2 Dicionário"
      ],
      "metadata": {
        "id": "mSqY_7ytp2J-"
      }
    },
    {
      "cell_type": "markdown",
      "source": [
        "Um dicionário associa chaves a valores. Cada chave mapeia para um valor específico. \n",
        "\n",
        "A tabela a seguir contém exemplos de dicionários com suas chaves, tipos de chave, valores e tipos de valor:\n",
        "\n",
        "* Chave: Nome de país  - Valor: Código de países na Internet\n",
        "* Chave: Número decimal - Valor: Número romanos str\n",
        "* Chave: Estado - Valor: Lista de produtos agrícolas\n",
        "* Chave: Paciente do hospital - Valor: Sinais vitais \n",
        "* Chave: Jogador de futebol - Valor: Média de roubadas de bola\n",
        "* Chave: Unidade métrica (m, cm, Km...) - Valor: Abreviatura\n",
        "* Chave: Código de estoque - Valor: Quantidade em estoque "
      ],
      "metadata": {
        "id": "-DPEk4pJqA-N"
      }
    },
    {
      "cell_type": "markdown",
      "metadata": {
        "id": "WKmv2wtFpLQG"
      },
      "source": [
        "## 2.1 Criando um dicionário"
      ]
    },
    {
      "cell_type": "code",
      "source": [
        "country_codes = {'Finland': 'fi', 'South Africa': 'za', \n",
        "                  'Nepal': 'np'}\n",
        "                 "
      ],
      "metadata": {
        "id": "f_5SpkQBce-O"
      },
      "execution_count": null,
      "outputs": []
    },
    {
      "cell_type": "code",
      "source": [
        "country_codes"
      ],
      "metadata": {
        "colab": {
          "base_uri": "https://localhost:8080/"
        },
        "id": "WZvxTOqJcw2K",
        "outputId": "122e9402-4f4d-46f4-b205-7b260012f019"
      },
      "execution_count": null,
      "outputs": [
        {
          "output_type": "execute_result",
          "data": {
            "text/plain": [
              "{'Finland': 'fi', 'South Africa': 'za', 'Nepal': 'np'}"
            ]
          },
          "metadata": {},
          "execution_count": 2
        }
      ]
    },
    {
      "cell_type": "markdown",
      "metadata": {
        "id": "PE3niFBrpLQN"
      },
      "source": [
        "### Determinando se um dicionário está vazio"
      ]
    },
    {
      "cell_type": "code",
      "execution_count": null,
      "metadata": {
        "colab": {
          "base_uri": "https://localhost:8080/"
        },
        "id": "6jHvzKkmpLQN",
        "outputId": "24da0976-3859-4431-c268-93451291f8a4"
      },
      "outputs": [
        {
          "output_type": "execute_result",
          "data": {
            "text/plain": [
              "3"
            ]
          },
          "metadata": {},
          "execution_count": 3
        }
      ],
      "source": [
        "len(country_codes)"
      ]
    },
    {
      "cell_type": "code",
      "source": [
        "if country_codes:\n",
        "  print('dicionario nao esta vazio')"
      ],
      "metadata": {
        "colab": {
          "base_uri": "https://localhost:8080/"
        },
        "id": "sFPMfpyZc1XR",
        "outputId": "13d2486a-adb7-4f44-f804-a380e741d175"
      },
      "execution_count": null,
      "outputs": [
        {
          "output_type": "stream",
          "name": "stdout",
          "text": [
            "dicionario nao esta vazio\n"
          ]
        }
      ]
    },
    {
      "cell_type": "code",
      "source": [
        "country_codes.clear()"
      ],
      "metadata": {
        "id": "G1Yk6LLNc-0_"
      },
      "execution_count": null,
      "outputs": []
    },
    {
      "cell_type": "code",
      "source": [
        "country_codes"
      ],
      "metadata": {
        "colab": {
          "base_uri": "https://localhost:8080/"
        },
        "id": "q4I4M20bdDoc",
        "outputId": "bdc85677-63fb-477d-8e66-911b4d0c14e3"
      },
      "execution_count": null,
      "outputs": [
        {
          "output_type": "execute_result",
          "data": {
            "text/plain": [
              "{}"
            ]
          },
          "metadata": {},
          "execution_count": 6
        }
      ]
    },
    {
      "cell_type": "code",
      "source": [
        "if country_codes:\n",
        "  print('dicionario nao esta vazio')\n",
        "else:\n",
        "  print('dicionario vazio')"
      ],
      "metadata": {
        "colab": {
          "base_uri": "https://localhost:8080/"
        },
        "id": "QV1JNXlLdFnF",
        "outputId": "1a12ec12-9121-4e46-f390-6dab0c3c70d4"
      },
      "execution_count": null,
      "outputs": [
        {
          "output_type": "stream",
          "name": "stdout",
          "text": [
            "dicionario vazio\n"
          ]
        }
      ]
    },
    {
      "cell_type": "code",
      "source": [],
      "metadata": {
        "id": "7IZqePgRdMfs"
      },
      "execution_count": null,
      "outputs": []
    },
    {
      "cell_type": "markdown",
      "metadata": {
        "id": "YoHO2uRFpLQT"
      },
      "source": [
        "## 2.2 Iterando um dicionário"
      ]
    },
    {
      "cell_type": "code",
      "execution_count": null,
      "metadata": {
        "id": "7dSm8MkIpLQT"
      },
      "outputs": [],
      "source": [
        "days_per_month = {'January': 31, 'February': 28, 'March': 31}"
      ]
    },
    {
      "cell_type": "code",
      "execution_count": null,
      "metadata": {
        "colab": {
          "base_uri": "https://localhost:8080/"
        },
        "id": "eJq5XJ20pLQU",
        "outputId": "db988d0e-7d6b-40bd-f049-4976c907927f"
      },
      "outputs": [
        {
          "output_type": "execute_result",
          "data": {
            "text/plain": [
              "{'January': 31, 'February': 28, 'March': 31}"
            ]
          },
          "metadata": {},
          "execution_count": 10
        }
      ],
      "source": [
        "days_per_month"
      ]
    },
    {
      "cell_type": "code",
      "source": [
        "days_per_month.items()"
      ],
      "metadata": {
        "colab": {
          "base_uri": "https://localhost:8080/"
        },
        "id": "CSrtWgAWdV9Z",
        "outputId": "b4ddbcff-272d-4bf3-fa4d-6a7c6a7adc64"
      },
      "execution_count": null,
      "outputs": [
        {
          "output_type": "execute_result",
          "data": {
            "text/plain": [
              "dict_items([('January', 31), ('February', 28), ('March', 31)])"
            ]
          },
          "metadata": {},
          "execution_count": 13
        }
      ]
    },
    {
      "cell_type": "code",
      "source": [
        "for mes, dias in days_per_month.items():\n",
        "  print(f'{mes} tem {dias} dias')"
      ],
      "metadata": {
        "colab": {
          "base_uri": "https://localhost:8080/"
        },
        "id": "gVl56ipYdY87",
        "outputId": "2a13959f-4c7b-452f-de77-885f339fd63a"
      },
      "execution_count": null,
      "outputs": [
        {
          "output_type": "stream",
          "name": "stdout",
          "text": [
            "January tem 31 dias\n",
            "February tem 28 dias\n",
            "March tem 31 dias\n"
          ]
        }
      ]
    },
    {
      "cell_type": "markdown",
      "metadata": {
        "id": "5yuuYdXQpLQV"
      },
      "source": [
        "## 2.3 Operações básicas em dicionário"
      ]
    },
    {
      "cell_type": "code",
      "execution_count": null,
      "metadata": {
        "id": "loZwGosppLQV"
      },
      "outputs": [],
      "source": [
        "roman_numerals = {'I': 1, 'II': 2, 'III': 3, 'V': 5, 'X': 100}"
      ]
    },
    {
      "cell_type": "code",
      "execution_count": null,
      "metadata": {
        "colab": {
          "base_uri": "https://localhost:8080/"
        },
        "id": "WReM-l6ypLQV",
        "outputId": "75f482dd-4a7b-4802-e6d4-59cbc6fb0068"
      },
      "outputs": [
        {
          "output_type": "execute_result",
          "data": {
            "text/plain": [
              "{'I': 1, 'II': 2, 'III': 3, 'V': 5, 'X': 100}"
            ]
          },
          "metadata": {},
          "execution_count": 16
        }
      ],
      "source": [
        "roman_numerals"
      ]
    },
    {
      "cell_type": "markdown",
      "metadata": {
        "id": "RLldL2vkpLQV"
      },
      "source": [
        "### Acessando o valor associado a uma chave"
      ]
    },
    {
      "cell_type": "code",
      "execution_count": null,
      "metadata": {
        "colab": {
          "base_uri": "https://localhost:8080/"
        },
        "id": "t-scE2fBpLQV",
        "outputId": "7549bce2-6d13-4fc6-ec3d-e69da3f30962"
      },
      "outputs": [
        {
          "output_type": "execute_result",
          "data": {
            "text/plain": [
              "5"
            ]
          },
          "metadata": {},
          "execution_count": 17
        }
      ],
      "source": [
        "roman_numerals['V']"
      ]
    },
    {
      "cell_type": "markdown",
      "metadata": {
        "id": "ktR5nAHGpLQW"
      },
      "source": [
        "### Atualizando o valor de um par de chave-valor existente"
      ]
    },
    {
      "cell_type": "code",
      "execution_count": null,
      "metadata": {
        "id": "LlcG91A-pLQW"
      },
      "outputs": [],
      "source": [
        "roman_numerals['X'] = 10"
      ]
    },
    {
      "cell_type": "code",
      "source": [
        "roman_numerals"
      ],
      "metadata": {
        "colab": {
          "base_uri": "https://localhost:8080/"
        },
        "id": "KlUqYUSCeARE",
        "outputId": "2f6fb46a-7c0e-4817-8872-7061b862c851"
      },
      "execution_count": null,
      "outputs": [
        {
          "output_type": "execute_result",
          "data": {
            "text/plain": [
              "{'I': 1, 'II': 2, 'III': 3, 'V': 5, 'X': 10}"
            ]
          },
          "metadata": {},
          "execution_count": 19
        }
      ]
    },
    {
      "cell_type": "markdown",
      "metadata": {
        "id": "zigfRCzipLQW"
      },
      "source": [
        "### Adicionando um novo par chave-valor"
      ]
    },
    {
      "cell_type": "code",
      "execution_count": null,
      "metadata": {
        "id": "INjd1ZuqpLQW"
      },
      "outputs": [],
      "source": [
        "roman_numerals['L'] = 50"
      ]
    },
    {
      "cell_type": "code",
      "source": [
        "roman_numerals"
      ],
      "metadata": {
        "colab": {
          "base_uri": "https://localhost:8080/"
        },
        "id": "dGgA2i-aeMRu",
        "outputId": "453eef5f-cf7e-47fa-9420-9bbaa6e858a2"
      },
      "execution_count": null,
      "outputs": [
        {
          "output_type": "execute_result",
          "data": {
            "text/plain": [
              "{'I': 1, 'II': 2, 'III': 3, 'V': 5, 'X': 10, 'L': 50}"
            ]
          },
          "metadata": {},
          "execution_count": 21
        }
      ]
    },
    {
      "cell_type": "markdown",
      "metadata": {
        "id": "j5UzWwHhpLQX"
      },
      "source": [
        "### Removendo um par chave-valor"
      ]
    },
    {
      "cell_type": "code",
      "execution_count": null,
      "metadata": {
        "id": "2_NxoBhApLQX"
      },
      "outputs": [],
      "source": [
        "del roman_numerals['III']"
      ]
    },
    {
      "cell_type": "code",
      "source": [
        "roman_numerals"
      ],
      "metadata": {
        "colab": {
          "base_uri": "https://localhost:8080/"
        },
        "id": "KWpWN0a0eZ4C",
        "outputId": "cc3036fb-c7fc-4ade-db38-f82aaebb1619"
      },
      "execution_count": null,
      "outputs": [
        {
          "output_type": "execute_result",
          "data": {
            "text/plain": [
              "{'I': 1, 'II': 2, 'V': 5, 'X': 10, 'L': 50}"
            ]
          },
          "metadata": {},
          "execution_count": 23
        }
      ]
    },
    {
      "cell_type": "code",
      "source": [
        "roman_numerals.pop('X')"
      ],
      "metadata": {
        "colab": {
          "base_uri": "https://localhost:8080/"
        },
        "id": "VFNTnJ-aedTn",
        "outputId": "ac47c386-3d20-4cde-d29f-bfbe66764138"
      },
      "execution_count": null,
      "outputs": [
        {
          "output_type": "execute_result",
          "data": {
            "text/plain": [
              "10"
            ]
          },
          "metadata": {},
          "execution_count": 25
        }
      ]
    },
    {
      "cell_type": "code",
      "source": [
        "roman_numerals"
      ],
      "metadata": {
        "colab": {
          "base_uri": "https://localhost:8080/"
        },
        "id": "NryBirjeerO-",
        "outputId": "7bd2a6e6-447f-4d8a-ea47-84708b5bd675"
      },
      "execution_count": null,
      "outputs": [
        {
          "output_type": "execute_result",
          "data": {
            "text/plain": [
              "{'I': 1, 'II': 2, 'V': 5, 'L': 50}"
            ]
          },
          "metadata": {},
          "execution_count": 26
        }
      ]
    },
    {
      "cell_type": "markdown",
      "metadata": {
        "id": "exVlQiwdpLQY"
      },
      "source": [
        "### Tentando acessar uma chave inexistente"
      ]
    },
    {
      "cell_type": "code",
      "execution_count": null,
      "metadata": {
        "colab": {
          "base_uri": "https://localhost:8080/",
          "height": 167
        },
        "id": "_VEbDvSOpLQY",
        "outputId": "e9839a83-0446-4f6d-ba5d-e0b35f87a5f3"
      },
      "outputs": [
        {
          "output_type": "error",
          "ename": "KeyError",
          "evalue": "ignored",
          "traceback": [
            "\u001b[0;31m---------------------------------------------------------------------------\u001b[0m",
            "\u001b[0;31mKeyError\u001b[0m                                  Traceback (most recent call last)",
            "\u001b[0;32m<ipython-input-27-ccd50c7f0c8b>\u001b[0m in \u001b[0;36m<module>\u001b[0;34m\u001b[0m\n\u001b[0;32m----> 1\u001b[0;31m \u001b[0mroman_numerals\u001b[0m\u001b[0;34m[\u001b[0m\u001b[0;34m'III'\u001b[0m\u001b[0;34m]\u001b[0m\u001b[0;34m\u001b[0m\u001b[0;34m\u001b[0m\u001b[0m\n\u001b[0m",
            "\u001b[0;31mKeyError\u001b[0m: 'III'"
          ]
        }
      ],
      "source": [
        "roman_numerals['III']"
      ]
    },
    {
      "cell_type": "markdown",
      "source": [
        "Para não dar erro podemos usar o get"
      ],
      "metadata": {
        "id": "_wcqaf5AxXv9"
      }
    },
    {
      "cell_type": "code",
      "execution_count": null,
      "metadata": {
        "id": "bXjwd5DQpLQY"
      },
      "outputs": [],
      "source": [
        "roman_numerals.get('III')"
      ]
    },
    {
      "cell_type": "code",
      "source": [
        "roman_numerals.get('II')"
      ],
      "metadata": {
        "colab": {
          "base_uri": "https://localhost:8080/"
        },
        "id": "EPtcH0ZEfOeT",
        "outputId": "c423f644-91d2-4f57-cc19-15f901d75096"
      },
      "execution_count": null,
      "outputs": [
        {
          "output_type": "execute_result",
          "data": {
            "text/plain": [
              "2"
            ]
          },
          "metadata": {},
          "execution_count": 29
        }
      ]
    },
    {
      "cell_type": "code",
      "source": [
        "roman_numerals.get('III','nao tem esse item')"
      ],
      "metadata": {
        "colab": {
          "base_uri": "https://localhost:8080/",
          "height": 35
        },
        "id": "kzk5bePefPki",
        "outputId": "7458f4a0-c68c-4699-d121-32337eb19a03"
      },
      "execution_count": null,
      "outputs": [
        {
          "output_type": "execute_result",
          "data": {
            "text/plain": [
              "'nao tem esse item'"
            ],
            "application/vnd.google.colaboratory.intrinsic+json": {
              "type": "string"
            }
          },
          "metadata": {},
          "execution_count": 30
        }
      ]
    },
    {
      "cell_type": "code",
      "source": [],
      "metadata": {
        "id": "fo6ddv0ofVPD"
      },
      "execution_count": null,
      "outputs": []
    },
    {
      "cell_type": "markdown",
      "metadata": {
        "id": "prmdobfCpLQY"
      },
      "source": [
        "### Testando se um dicionário contém uma chave especificada"
      ]
    },
    {
      "cell_type": "code",
      "execution_count": null,
      "metadata": {
        "colab": {
          "base_uri": "https://localhost:8080/"
        },
        "id": "zy9Qlo0ppLQY",
        "outputId": "e2929b1b-09c5-4258-f0bd-3294152e9a7d"
      },
      "outputs": [
        {
          "output_type": "execute_result",
          "data": {
            "text/plain": [
              "True"
            ]
          },
          "metadata": {},
          "execution_count": 31
        }
      ],
      "source": [
        "'V' in roman_numerals"
      ]
    },
    {
      "cell_type": "code",
      "source": [
        "'III' in roman_numerals"
      ],
      "metadata": {
        "colab": {
          "base_uri": "https://localhost:8080/"
        },
        "id": "r_egDxpkfhFM",
        "outputId": "e55a2a37-f63e-4ac5-8fb6-12f5bacc6e19"
      },
      "execution_count": null,
      "outputs": [
        {
          "output_type": "execute_result",
          "data": {
            "text/plain": [
              "False"
            ]
          },
          "metadata": {},
          "execution_count": 32
        }
      ]
    },
    {
      "cell_type": "code",
      "source": [
        "'III' not in roman_numerals"
      ],
      "metadata": {
        "colab": {
          "base_uri": "https://localhost:8080/"
        },
        "id": "GgSJqPV4fkcA",
        "outputId": "df4382e0-c74e-4251-8909-b1df4e37c431"
      },
      "execution_count": null,
      "outputs": [
        {
          "output_type": "execute_result",
          "data": {
            "text/plain": [
              "True"
            ]
          },
          "metadata": {},
          "execution_count": 33
        }
      ]
    },
    {
      "cell_type": "code",
      "source": [
        "'III' not in roman_numerals"
      ],
      "metadata": {
        "colab": {
          "base_uri": "https://localhost:8080/"
        },
        "id": "yJSqsgrJflG0",
        "outputId": "58313006-a784-4b5d-ef1d-3f268b506655"
      },
      "execution_count": null,
      "outputs": [
        {
          "output_type": "execute_result",
          "data": {
            "text/plain": [
              "True"
            ]
          },
          "metadata": {},
          "execution_count": 34
        }
      ]
    },
    {
      "cell_type": "markdown",
      "metadata": {
        "id": "99VZ2Rl3pLQZ"
      },
      "source": [
        "### Atividade"
      ]
    },
    {
      "cell_type": "markdown",
      "metadata": {
        "id": "7WvxBp_KpLQZ"
      },
      "source": [
        "As chaves de um dicionário de strings diferenciam maiúsculas de minúsculas. Confirme isso usando o seguinte dicionário e atribuindo `10` à chave `'x'`—fazendo isso adiciona um novo par chave-valor em vez de corrigir o valor da chave `'X'`:\n",
        "```python\n",
        "roman_numerals = {'I': 1, 'II': 2, 'III': 3, 'V': 5, 'X': 100}\n",
        "```\n",
        "\n"
      ]
    },
    {
      "cell_type": "code",
      "source": [
        "roman_numerals = {'I': 1, 'II': 2, 'III': 3, 'V': 5, 'X': 100}"
      ],
      "metadata": {
        "id": "00NH5j_khBq-"
      },
      "execution_count": null,
      "outputs": []
    },
    {
      "cell_type": "code",
      "source": [
        "roman_numerals['x']=10"
      ],
      "metadata": {
        "id": "N8F_vXoQhIYO"
      },
      "execution_count": null,
      "outputs": []
    },
    {
      "cell_type": "code",
      "source": [
        "roman_numerals"
      ],
      "metadata": {
        "colab": {
          "base_uri": "https://localhost:8080/"
        },
        "id": "Bte1WPXQhK32",
        "outputId": "696ac135-2d8d-4188-a372-523912a1c074"
      },
      "execution_count": null,
      "outputs": [
        {
          "output_type": "execute_result",
          "data": {
            "text/plain": [
              "{'I': 1, 'II': 2, 'III': 3, 'V': 5, 'X': 100, 'x': 10}"
            ]
          },
          "metadata": {},
          "execution_count": 45
        }
      ]
    },
    {
      "cell_type": "markdown",
      "metadata": {
        "id": "bDEIu_9xpLQa"
      },
      "source": [
        "## 2.4 Métodos de Dicionário `keys` e `values`"
      ]
    },
    {
      "cell_type": "code",
      "execution_count": null,
      "metadata": {
        "id": "pTcGhW6YpLQa"
      },
      "outputs": [],
      "source": [
        "months = {'January': 1, 'February': 2, 'March': 3}"
      ]
    },
    {
      "cell_type": "code",
      "source": [
        "for name in months.keys():\n",
        "  print(name)"
      ],
      "metadata": {
        "colab": {
          "base_uri": "https://localhost:8080/"
        },
        "id": "jBxvYv62hUpU",
        "outputId": "869bd314-f17a-4895-fdfa-09fe6350f1a7"
      },
      "execution_count": null,
      "outputs": [
        {
          "output_type": "stream",
          "name": "stdout",
          "text": [
            "January\n",
            "February\n",
            "March\n"
          ]
        }
      ]
    },
    {
      "cell_type": "code",
      "source": [
        "for dias in months.values():\n",
        "  print(dias)"
      ],
      "metadata": {
        "colab": {
          "base_uri": "https://localhost:8080/"
        },
        "id": "65Zc0DhuhbEj",
        "outputId": "bd31b72f-26fb-40f7-a17e-cb2053f22502"
      },
      "execution_count": null,
      "outputs": [
        {
          "output_type": "stream",
          "name": "stdout",
          "text": [
            "1\n",
            "2\n",
            "3\n"
          ]
        }
      ]
    },
    {
      "cell_type": "markdown",
      "metadata": {
        "id": "rSyl2KGnpLQa"
      },
      "source": [
        "### Visualizações de dicionário"
      ]
    },
    {
      "cell_type": "code",
      "execution_count": null,
      "metadata": {
        "id": "l8UpjEPUpLQb"
      },
      "outputs": [],
      "source": [
        "months_view = months.keys()"
      ]
    },
    {
      "cell_type": "code",
      "source": [
        "type(months_view)"
      ],
      "metadata": {
        "colab": {
          "base_uri": "https://localhost:8080/"
        },
        "id": "nMGZ7Hnih5yI",
        "outputId": "67f299ad-ffbf-4e03-bd95-fd4d8f03e086"
      },
      "execution_count": null,
      "outputs": [
        {
          "output_type": "execute_result",
          "data": {
            "text/plain": [
              "dict_keys"
            ]
          },
          "metadata": {},
          "execution_count": 53
        }
      ]
    },
    {
      "cell_type": "code",
      "source": [
        "for chave in months_view:\n",
        "  print(chave)"
      ],
      "metadata": {
        "colab": {
          "base_uri": "https://localhost:8080/"
        },
        "id": "jWpyGaoTh-zW",
        "outputId": "60e5975a-6455-44e7-f5e2-84b88d53cfcc"
      },
      "execution_count": null,
      "outputs": [
        {
          "output_type": "stream",
          "name": "stdout",
          "text": [
            "January\n",
            "February\n",
            "March\n"
          ]
        }
      ]
    },
    {
      "cell_type": "code",
      "source": [
        "months['December'] = 12"
      ],
      "metadata": {
        "id": "tWp6aorqiBwC"
      },
      "execution_count": null,
      "outputs": []
    },
    {
      "cell_type": "code",
      "source": [
        "months"
      ],
      "metadata": {
        "colab": {
          "base_uri": "https://localhost:8080/"
        },
        "id": "urQFioAZiMBx",
        "outputId": "8b3dc4cd-f902-4024-e0bd-cc7e2c5e89d5"
      },
      "execution_count": null,
      "outputs": [
        {
          "output_type": "execute_result",
          "data": {
            "text/plain": [
              "{'January': 1, 'February': 2, 'March': 3, 'December': 12}"
            ]
          },
          "metadata": {},
          "execution_count": 57
        }
      ]
    },
    {
      "cell_type": "code",
      "source": [
        "for chave in months_view:\n",
        "  print(chave)"
      ],
      "metadata": {
        "colab": {
          "base_uri": "https://localhost:8080/"
        },
        "id": "F9eW_9cOiOLO",
        "outputId": "a2e0def9-7ebc-4cab-80c8-88ed01619a40"
      },
      "execution_count": null,
      "outputs": [
        {
          "output_type": "stream",
          "name": "stdout",
          "text": [
            "January\n",
            "February\n",
            "March\n",
            "December\n"
          ]
        }
      ]
    },
    {
      "cell_type": "code",
      "source": [],
      "metadata": {
        "id": "W5znTSI-i4E6"
      },
      "execution_count": null,
      "outputs": []
    },
    {
      "cell_type": "markdown",
      "metadata": {
        "id": "OvlCkpltpLQb"
      },
      "source": [
        "### Convertendo chaves de dicionário, valores e pares chave-valor em listas"
      ]
    },
    {
      "cell_type": "code",
      "execution_count": null,
      "metadata": {
        "colab": {
          "base_uri": "https://localhost:8080/"
        },
        "id": "4TjVWXqvpLQb",
        "outputId": "184ad596-9fae-429f-ce8d-e09a124a0ae7"
      },
      "outputs": [
        {
          "output_type": "execute_result",
          "data": {
            "text/plain": [
              "['January', 'February', 'March', 'December']"
            ]
          },
          "metadata": {},
          "execution_count": 60
        }
      ],
      "source": [
        "list(months.keys())"
      ]
    },
    {
      "cell_type": "code",
      "source": [
        "list(months.values())"
      ],
      "metadata": {
        "colab": {
          "base_uri": "https://localhost:8080/"
        },
        "id": "4pVgzM6sjFAa",
        "outputId": "de5d0ccc-4f70-4703-e764-ecff29d1c163"
      },
      "execution_count": null,
      "outputs": [
        {
          "output_type": "execute_result",
          "data": {
            "text/plain": [
              "[1, 2, 3, 12]"
            ]
          },
          "metadata": {},
          "execution_count": 61
        }
      ]
    },
    {
      "cell_type": "code",
      "source": [
        "list(months.items())"
      ],
      "metadata": {
        "colab": {
          "base_uri": "https://localhost:8080/"
        },
        "id": "rNNk720UjGpy",
        "outputId": "9b06137f-3d82-4798-c8e6-4ee664b78f3e"
      },
      "execution_count": null,
      "outputs": [
        {
          "output_type": "execute_result",
          "data": {
            "text/plain": [
              "[('January', 1), ('February', 2), ('March', 3), ('December', 12)]"
            ]
          },
          "metadata": {},
          "execution_count": 62
        }
      ]
    },
    {
      "cell_type": "code",
      "source": [],
      "metadata": {
        "id": "NFjXVpScjKNK"
      },
      "execution_count": null,
      "outputs": []
    },
    {
      "cell_type": "markdown",
      "metadata": {
        "id": "eV_Jm2HVpLQc"
      },
      "source": [
        "### Processando chaves em ordem ordenada"
      ]
    },
    {
      "cell_type": "code",
      "execution_count": null,
      "metadata": {
        "colab": {
          "base_uri": "https://localhost:8080/"
        },
        "id": "ssSCr8KApLQc",
        "outputId": "f8648173-6bd2-4ef9-803f-5a599d4cf29b"
      },
      "outputs": [
        {
          "output_type": "stream",
          "name": "stdout",
          "text": [
            "December  February  January  March  "
          ]
        }
      ],
      "source": [
        "for month_name in sorted(months.keys()):\n",
        "     print(month_name, end='  ')"
      ]
    },
    {
      "cell_type": "markdown",
      "metadata": {
        "id": "7sicOwzhpLQd"
      },
      "source": [
        "## 2.5 Comparações do dicionário"
      ]
    },
    {
      "cell_type": "code",
      "execution_count": null,
      "metadata": {
        "id": "vYU5KY_hpLQd"
      },
      "outputs": [],
      "source": [
        "country_capitals1 = {'Belgium': 'Brussels',\n",
        "                     'Haiti': 'Port-au-Prince'}\n",
        "                        "
      ]
    },
    {
      "cell_type": "code",
      "execution_count": null,
      "metadata": {
        "id": "FEYAHxbhpLQd"
      },
      "outputs": [],
      "source": [
        "country_capitals2 = {'Nepal': 'Kathmandu',\n",
        "                     'Uruguay': 'Montevideo'}\n",
        "                        "
      ]
    },
    {
      "cell_type": "code",
      "execution_count": null,
      "metadata": {
        "id": "kfl9D-TKpLQe"
      },
      "outputs": [],
      "source": [
        "country_capitals3 = {'Haiti': 'Port-au-Prince',\n",
        "                     'Belgium': 'Brussels'}\n",
        "                        "
      ]
    },
    {
      "cell_type": "code",
      "source": [
        "country_capitals1 == country_capitals2 "
      ],
      "metadata": {
        "colab": {
          "base_uri": "https://localhost:8080/"
        },
        "id": "A3HWh33Njg7E",
        "outputId": "3a568b02-c8fc-4547-8c75-8f6a3ac7474d"
      },
      "execution_count": null,
      "outputs": [
        {
          "output_type": "execute_result",
          "data": {
            "text/plain": [
              "False"
            ]
          },
          "metadata": {},
          "execution_count": 68
        }
      ]
    },
    {
      "cell_type": "code",
      "source": [
        "country_capitals1 == country_capitals3 "
      ],
      "metadata": {
        "colab": {
          "base_uri": "https://localhost:8080/"
        },
        "id": "Q4vftDf3jlUJ",
        "outputId": "b8430f3a-af6a-4e09-fdb1-fd685f0d4f60"
      },
      "execution_count": null,
      "outputs": [
        {
          "output_type": "execute_result",
          "data": {
            "text/plain": [
              "True"
            ]
          },
          "metadata": {},
          "execution_count": 69
        }
      ]
    },
    {
      "cell_type": "code",
      "source": [
        "country_capitals1 != country_capitals2 "
      ],
      "metadata": {
        "colab": {
          "base_uri": "https://localhost:8080/"
        },
        "id": "aOiHNVWYjrBQ",
        "outputId": "4a993fcf-9719-4528-d302-2462c547bb2b"
      },
      "execution_count": null,
      "outputs": [
        {
          "output_type": "execute_result",
          "data": {
            "text/plain": [
              "True"
            ]
          },
          "metadata": {},
          "execution_count": 70
        }
      ]
    },
    {
      "cell_type": "markdown",
      "metadata": {
        "id": "w5qq1wiUpLQe"
      },
      "source": [
        "## 2.7 Exemplo de uso de dicionário: contagem de palavras\n",
        "### Módulo da biblioteca padrão do Python chamado `collections`"
      ]
    },
    {
      "cell_type": "code",
      "execution_count": null,
      "metadata": {
        "id": "rk1brUwcpLQe"
      },
      "outputs": [],
      "source": [
        "from collections import Counter"
      ]
    },
    {
      "cell_type": "code",
      "execution_count": null,
      "metadata": {
        "id": "3HYTtBJgpLQf"
      },
      "outputs": [],
      "source": [
        "text = ('este é um texto de exemplo com várias palavras '\n",
        "        'este é mais um texto de exemplo com algumas palavras diferentes')"
      ]
    },
    {
      "cell_type": "code",
      "source": [
        "text"
      ],
      "metadata": {
        "colab": {
          "base_uri": "https://localhost:8080/",
          "height": 52
        },
        "id": "jLUQyXH_kEM_",
        "outputId": "464b0b96-510e-41df-f955-cef1b44e3387"
      },
      "execution_count": null,
      "outputs": [
        {
          "output_type": "execute_result",
          "data": {
            "text/plain": [
              "'este é um texto de exemplo com várias palavras este é mais um texto de exemplo com algumas palavras diferentes'"
            ],
            "application/vnd.google.colaboratory.intrinsic+json": {
              "type": "string"
            }
          },
          "metadata": {},
          "execution_count": 73
        }
      ]
    },
    {
      "cell_type": "code",
      "source": [
        "contador = Counter(text.split())"
      ],
      "metadata": {
        "id": "1RnOuYetkE3Y"
      },
      "execution_count": null,
      "outputs": []
    },
    {
      "cell_type": "code",
      "source": [
        "print(contador)"
      ],
      "metadata": {
        "colab": {
          "base_uri": "https://localhost:8080/"
        },
        "id": "H-bkdzpukMcT",
        "outputId": "143682fb-7b40-4d57-8d4e-f0ff7702771d"
      },
      "execution_count": null,
      "outputs": [
        {
          "output_type": "stream",
          "name": "stdout",
          "text": [
            "Counter({'este': 2, 'é': 2, 'um': 2, 'texto': 2, 'de': 2, 'exemplo': 2, 'com': 2, 'palavras': 2, 'várias': 1, 'mais': 1, 'algumas': 1, 'diferentes': 1})\n"
          ]
        }
      ]
    },
    {
      "cell_type": "code",
      "source": [
        "contador.items()"
      ],
      "metadata": {
        "colab": {
          "base_uri": "https://localhost:8080/"
        },
        "id": "6ReZuL6LkTrz",
        "outputId": "a00c4e5d-318a-4406-8e87-27e5ba284fec"
      },
      "execution_count": null,
      "outputs": [
        {
          "output_type": "execute_result",
          "data": {
            "text/plain": [
              "dict_items([('este', 2), ('é', 2), ('um', 2), ('texto', 2), ('de', 2), ('exemplo', 2), ('com', 2), ('várias', 1), ('palavras', 2), ('mais', 1), ('algumas', 1), ('diferentes', 1)])"
            ]
          },
          "metadata": {},
          "execution_count": 77
        }
      ]
    },
    {
      "cell_type": "code",
      "source": [
        "for palavra, contagem in sorted(contador.items()):\n",
        "  print(f'{palavra:<12}{contagem}')"
      ],
      "metadata": {
        "colab": {
          "base_uri": "https://localhost:8080/"
        },
        "id": "MBBtrNq5kj5h",
        "outputId": "c17380bd-c67f-4bb2-afb4-db9f5207b520"
      },
      "execution_count": null,
      "outputs": [
        {
          "output_type": "stream",
          "name": "stdout",
          "text": [
            "algumas     1\n",
            "com         2\n",
            "de          2\n",
            "diferentes  1\n",
            "este        2\n",
            "exemplo     2\n",
            "mais        1\n",
            "palavras    2\n",
            "texto       2\n",
            "um          2\n",
            "várias      1\n",
            "é           2\n"
          ]
        }
      ]
    },
    {
      "cell_type": "code",
      "source": [
        "print(len(contador.keys()))"
      ],
      "metadata": {
        "colab": {
          "base_uri": "https://localhost:8080/"
        },
        "id": "0zLhhIvuk0Ox",
        "outputId": "97898ca7-3d6d-4c1b-b0c4-96655d2e8307"
      },
      "execution_count": null,
      "outputs": [
        {
          "output_type": "stream",
          "name": "stdout",
          "text": [
            "12\n"
          ]
        }
      ]
    },
    {
      "cell_type": "markdown",
      "metadata": {
        "id": "X9EIbiy7pLQg"
      },
      "source": [
        "## 2.8 Método de dicionário `update`"
      ]
    },
    {
      "cell_type": "code",
      "execution_count": null,
      "metadata": {
        "id": "HLXPmEeMpLQh"
      },
      "outputs": [],
      "source": [
        "country_codes = {}"
      ]
    },
    {
      "cell_type": "code",
      "source": [
        "country_codes"
      ],
      "metadata": {
        "colab": {
          "base_uri": "https://localhost:8080/"
        },
        "id": "5Y3NHm8BlOEd",
        "outputId": "eff01d64-b0f5-474a-d6c9-78349ea3f77f"
      },
      "execution_count": null,
      "outputs": [
        {
          "output_type": "execute_result",
          "data": {
            "text/plain": [
              "{}"
            ]
          },
          "metadata": {},
          "execution_count": 82
        }
      ]
    },
    {
      "cell_type": "code",
      "execution_count": null,
      "metadata": {
        "id": "9YaIOL3jpLQh"
      },
      "outputs": [],
      "source": [
        "country_codes.update({'South Africa': 'za'})"
      ]
    },
    {
      "cell_type": "code",
      "source": [
        "country_codes"
      ],
      "metadata": {
        "colab": {
          "base_uri": "https://localhost:8080/"
        },
        "id": "NJcYW5XFlRHK",
        "outputId": "34619823-d628-4b10-e3e0-4fe37df99615"
      },
      "execution_count": null,
      "outputs": [
        {
          "output_type": "execute_result",
          "data": {
            "text/plain": [
              "{'South Africa': 'za'}"
            ]
          },
          "metadata": {},
          "execution_count": 84
        }
      ]
    },
    {
      "cell_type": "code",
      "source": [
        "country_codes.update(Australia='ar',Brasil='br')"
      ],
      "metadata": {
        "id": "mvd2faQAlTvL"
      },
      "execution_count": null,
      "outputs": []
    },
    {
      "cell_type": "code",
      "source": [
        "country_codes"
      ],
      "metadata": {
        "colab": {
          "base_uri": "https://localhost:8080/"
        },
        "id": "xJd5dnNRlYRq",
        "outputId": "46349bea-0a0b-43ed-92b6-db762d251d4b"
      },
      "execution_count": null,
      "outputs": [
        {
          "output_type": "execute_result",
          "data": {
            "text/plain": [
              "{'South Africa': 'za', 'Australia': 'ar', 'Brasil': 'br'}"
            ]
          },
          "metadata": {},
          "execution_count": 86
        }
      ]
    },
    {
      "cell_type": "code",
      "source": [
        "country_codes.update((('Brasil','br'),('França','fr')))"
      ],
      "metadata": {
        "id": "4fvTwlQXlcan"
      },
      "execution_count": null,
      "outputs": []
    },
    {
      "cell_type": "markdown",
      "metadata": {
        "id": "QKo9tMjSpLQh"
      },
      "source": [
        "## 2.9 Compreensão de dicionário"
      ]
    },
    {
      "cell_type": "code",
      "execution_count": null,
      "metadata": {
        "id": "2KydNjPNpLQi"
      },
      "outputs": [],
      "source": [
        "months = {'January': 1, 'February': 2, 'March': 3}"
      ]
    },
    {
      "cell_type": "code",
      "source": [
        "month2 = {numero: nome for nome, numero in months.items() }"
      ],
      "metadata": {
        "id": "uSGig3wvllQV"
      },
      "execution_count": null,
      "outputs": []
    },
    {
      "cell_type": "code",
      "source": [
        "month2"
      ],
      "metadata": {
        "colab": {
          "base_uri": "https://localhost:8080/"
        },
        "id": "_zWmTbLilyix",
        "outputId": "3edf1633-b720-4070-c350-4c4628bed49a"
      },
      "execution_count": null,
      "outputs": [
        {
          "output_type": "execute_result",
          "data": {
            "text/plain": [
              "{1: 'January', 2: 'February', 3: 'March'}"
            ]
          },
          "metadata": {},
          "execution_count": 93
        }
      ]
    },
    {
      "cell_type": "code",
      "source": [
        "notas = {'Sue': [98, 87, 94], 'Bob': [84, 95, 91]}"
      ],
      "metadata": {
        "id": "-k5vqX88l47v"
      },
      "execution_count": null,
      "outputs": []
    },
    {
      "cell_type": "code",
      "source": [
        "medias = {nome: sum(valores)/len(valores) for nome, valores in notas.items()}"
      ],
      "metadata": {
        "id": "xpfZ5tJzl8s6"
      },
      "execution_count": null,
      "outputs": []
    },
    {
      "cell_type": "code",
      "source": [
        "medias"
      ],
      "metadata": {
        "colab": {
          "base_uri": "https://localhost:8080/"
        },
        "id": "0s79qy7vmI7B",
        "outputId": "fa989886-0993-4734-c247-c535cd98f476"
      },
      "execution_count": null,
      "outputs": [
        {
          "output_type": "execute_result",
          "data": {
            "text/plain": [
              "{'Sue': 93.0, 'Bob': 90.0}"
            ]
          },
          "metadata": {},
          "execution_count": 100
        }
      ]
    },
    {
      "cell_type": "code",
      "source": [],
      "metadata": {
        "id": "8u94yGkTmJ4R"
      },
      "execution_count": null,
      "outputs": []
    },
    {
      "cell_type": "markdown",
      "metadata": {
        "id": "VKkWQ2MRpLQi"
      },
      "source": [
        "\n",
        "### Atividade"
      ]
    },
    {
      "cell_type": "markdown",
      "metadata": {
        "id": "xY1A_p19pLQj"
      },
      "source": [
        "Use uma compreensão de dicionário para criar um dicionário dos números de 1 a 5 e seus cubos:\n",
        "\n",
        "\n",
        "    "
      ]
    },
    {
      "cell_type": "code",
      "source": [
        "print(*range(1,6))"
      ],
      "metadata": {
        "colab": {
          "base_uri": "https://localhost:8080/"
        },
        "id": "EwJc2jfynF-b",
        "outputId": "29716344-ff46-4a2e-bd94-0f844ba4a8c2"
      },
      "execution_count": null,
      "outputs": [
        {
          "output_type": "stream",
          "name": "stdout",
          "text": [
            "1 2 3 4 5\n"
          ]
        }
      ]
    },
    {
      "cell_type": "code",
      "source": [
        "cubos = {numero: numero ** 3 for numero in range(1,6)}"
      ],
      "metadata": {
        "id": "mMZ4oWrznNAX"
      },
      "execution_count": null,
      "outputs": []
    },
    {
      "cell_type": "code",
      "source": [
        "cubos"
      ],
      "metadata": {
        "colab": {
          "base_uri": "https://localhost:8080/"
        },
        "id": "EGZR8_y5obn2",
        "outputId": "9b0e1131-7367-46d1-bfe2-8cd3bc6eec57"
      },
      "execution_count": null,
      "outputs": [
        {
          "output_type": "execute_result",
          "data": {
            "text/plain": [
              "{1: 1, 2: 8, 3: 27, 4: 64, 5: 125}"
            ]
          },
          "metadata": {},
          "execution_count": 110
        }
      ]
    },
    {
      "cell_type": "code",
      "source": [
        "print(*range(len(cubos)))"
      ],
      "metadata": {
        "colab": {
          "base_uri": "https://localhost:8080/"
        },
        "id": "yVj76vZLoX_u",
        "outputId": "8197f0e8-2827-4a66-819d-f7d1a0d9c1bc"
      },
      "execution_count": null,
      "outputs": [
        {
          "output_type": "stream",
          "name": "stdout",
          "text": [
            "0 1 2 3 4\n"
          ]
        }
      ]
    },
    {
      "cell_type": "markdown",
      "metadata": {
        "id": "X-0TkIxDpLQj"
      },
      "source": [
        "# 3 Conjuntos (Sets)\n",
        "\n"
      ]
    },
    {
      "cell_type": "markdown",
      "source": [
        "Um conjunto é uma coleção não ordenada de valores únicos. \n",
        "\n",
        "Os conjuntos podem conter apenas objetos imutáveis, como strings, ints, floats e tuplas que contêm apenas elementos imutáveis. \n",
        "\n",
        "Embora os conjuntos sejam iteráveis, eles não são sequências e não suportam indexação e fatiamento com colchetes, []. \n",
        "\n",
        "Os dicionários também não suportam fatiamento."
      ],
      "metadata": {
        "id": "rUErnC_17Wgc"
      }
    },
    {
      "cell_type": "markdown",
      "source": [
        "### Criando um conjunto com chaves"
      ],
      "metadata": {
        "id": "rRHIyost7Y_6"
      }
    },
    {
      "cell_type": "code",
      "execution_count": null,
      "metadata": {
        "id": "qCIL002opLQj"
      },
      "outputs": [],
      "source": [
        "colors = {'red', 'orange', 'yellow', 'green', 'red', 'blue'}"
      ]
    },
    {
      "cell_type": "code",
      "execution_count": null,
      "metadata": {
        "colab": {
          "base_uri": "https://localhost:8080/"
        },
        "id": "NS-2aVX_pLQj",
        "outputId": "ff1584a1-17ea-426d-f555-bbf5665669a3"
      },
      "outputs": [
        {
          "output_type": "execute_result",
          "data": {
            "text/plain": [
              "{'blue', 'green', 'orange', 'red', 'yellow'}"
            ]
          },
          "metadata": {},
          "execution_count": 116
        }
      ],
      "source": [
        "colors"
      ]
    },
    {
      "cell_type": "markdown",
      "metadata": {
        "id": "kSfE7jF1pLQj"
      },
      "source": [
        "### Determinando o comprimento de um conjunto"
      ]
    },
    {
      "cell_type": "code",
      "execution_count": null,
      "metadata": {
        "colab": {
          "base_uri": "https://localhost:8080/"
        },
        "id": "KGAAmPWhpLQj",
        "outputId": "19a4bfa8-266d-4e13-9c3c-f32f5c54e49c"
      },
      "outputs": [
        {
          "output_type": "execute_result",
          "data": {
            "text/plain": [
              "5"
            ]
          },
          "metadata": {},
          "execution_count": 117
        }
      ],
      "source": [
        "len(colors)"
      ]
    },
    {
      "cell_type": "markdown",
      "metadata": {
        "id": "84bxiXFopLQk"
      },
      "source": [
        "### Verificando se um valor está em um conjunto"
      ]
    },
    {
      "cell_type": "code",
      "execution_count": null,
      "metadata": {
        "colab": {
          "base_uri": "https://localhost:8080/"
        },
        "id": "ftU92deFpLQk",
        "outputId": "0703c2ad-3284-489c-c5d2-ca219fb04b2b"
      },
      "outputs": [
        {
          "output_type": "execute_result",
          "data": {
            "text/plain": [
              "True"
            ]
          },
          "metadata": {},
          "execution_count": 118
        }
      ],
      "source": [
        "'red' in colors"
      ]
    },
    {
      "cell_type": "code",
      "execution_count": null,
      "metadata": {
        "colab": {
          "base_uri": "https://localhost:8080/"
        },
        "id": "DWihPyyvpLQk",
        "outputId": "94a1c430-d945-482b-bc7f-19a46346557e"
      },
      "outputs": [
        {
          "output_type": "execute_result",
          "data": {
            "text/plain": [
              "False"
            ]
          },
          "metadata": {},
          "execution_count": 119
        }
      ],
      "source": [
        "'purple' in colors"
      ]
    },
    {
      "cell_type": "code",
      "execution_count": null,
      "metadata": {
        "colab": {
          "base_uri": "https://localhost:8080/"
        },
        "id": "Bp-am-DPpLQk",
        "outputId": "d06ad305-5d4b-4bae-8441-43746a02e25c"
      },
      "outputs": [
        {
          "output_type": "execute_result",
          "data": {
            "text/plain": [
              "True"
            ]
          },
          "metadata": {},
          "execution_count": 120
        }
      ],
      "source": [
        "'purple' not in colors"
      ]
    },
    {
      "cell_type": "markdown",
      "metadata": {
        "id": "QxXQv9L_pLQk"
      },
      "source": [
        "### Iterando um conjunto"
      ]
    },
    {
      "cell_type": "code",
      "execution_count": null,
      "metadata": {
        "colab": {
          "base_uri": "https://localhost:8080/"
        },
        "id": "8opDD8EFpLQk",
        "outputId": "09bc794c-f891-4b79-9172-8110294ae612"
      },
      "outputs": [
        {
          "output_type": "stream",
          "name": "stdout",
          "text": [
            "RED GREEN ORANGE YELLOW BLUE "
          ]
        }
      ],
      "source": [
        "for cor in colors:\n",
        "    print(cor.upper(), end=' ')\n",
        "    "
      ]
    },
    {
      "cell_type": "markdown",
      "metadata": {
        "id": "mVY8QjdJpLQk"
      },
      "source": [
        "### Criando um conjunto com a função interna `set`"
      ]
    },
    {
      "cell_type": "code",
      "execution_count": null,
      "metadata": {
        "id": "6Umz6GiqpLQl"
      },
      "outputs": [],
      "source": [
        "numbers = list(range(10)) + list(range(5))"
      ]
    },
    {
      "cell_type": "code",
      "source": [
        "numbers"
      ],
      "metadata": {
        "colab": {
          "base_uri": "https://localhost:8080/"
        },
        "id": "wLBVea_TpTbS",
        "outputId": "794ece0e-aec4-4a4f-9d12-eb527d6977f7"
      },
      "execution_count": null,
      "outputs": [
        {
          "output_type": "execute_result",
          "data": {
            "text/plain": [
              "[0, 1, 2, 3, 4, 5, 6, 7, 8, 9, 0, 1, 2, 3, 4]"
            ]
          },
          "metadata": {},
          "execution_count": 123
        }
      ]
    },
    {
      "cell_type": "code",
      "source": [
        "set(numbers)"
      ],
      "metadata": {
        "colab": {
          "base_uri": "https://localhost:8080/"
        },
        "id": "vy_F3nj-pT43",
        "outputId": "7a74dfb6-04b8-4846-fc90-8332de70eb85"
      },
      "execution_count": null,
      "outputs": [
        {
          "output_type": "execute_result",
          "data": {
            "text/plain": [
              "{0, 1, 2, 3, 4, 5, 6, 7, 8, 9}"
            ]
          },
          "metadata": {},
          "execution_count": 124
        }
      ]
    },
    {
      "cell_type": "code",
      "source": [
        "set()"
      ],
      "metadata": {
        "colab": {
          "base_uri": "https://localhost:8080/"
        },
        "id": "I0Qmi27opalW",
        "outputId": "132152ea-b805-4c50-c048-0264cd6801f3"
      },
      "execution_count": null,
      "outputs": [
        {
          "output_type": "execute_result",
          "data": {
            "text/plain": [
              "set()"
            ]
          },
          "metadata": {},
          "execution_count": 125
        }
      ]
    },
    {
      "cell_type": "code",
      "source": [
        "conjunto=set(numbers)"
      ],
      "metadata": {
        "id": "LLdbdnwtpcvA"
      },
      "execution_count": null,
      "outputs": []
    },
    {
      "cell_type": "code",
      "source": [
        "conjunto"
      ],
      "metadata": {
        "colab": {
          "base_uri": "https://localhost:8080/"
        },
        "id": "Rxbx17ZBpfZD",
        "outputId": "ab4cbf0f-56b9-45ba-d61f-9751bc8d78b8"
      },
      "execution_count": null,
      "outputs": [
        {
          "output_type": "execute_result",
          "data": {
            "text/plain": [
              "{0, 1, 2, 3, 4, 5, 6, 7, 8, 9}"
            ]
          },
          "metadata": {},
          "execution_count": 127
        }
      ]
    },
    {
      "cell_type": "code",
      "source": [
        "conjunto=set()"
      ],
      "metadata": {
        "id": "WdwA_bj4peNS"
      },
      "execution_count": null,
      "outputs": []
    },
    {
      "cell_type": "markdown",
      "metadata": {
        "id": "7w47hlPApLQn"
      },
      "source": [
        "## 3.1 Comparando conjuntos"
      ]
    },
    {
      "cell_type": "code",
      "execution_count": null,
      "metadata": {
        "colab": {
          "base_uri": "https://localhost:8080/"
        },
        "id": "FGWq9CgRpLQn",
        "outputId": "d646b3eb-a496-44dc-ff63-3ae58c8f7437"
      },
      "outputs": [
        {
          "output_type": "execute_result",
          "data": {
            "text/plain": [
              "True"
            ]
          },
          "metadata": {},
          "execution_count": 129
        }
      ],
      "source": [
        "{1, 3, 5} == {3, 5, 1}"
      ]
    },
    {
      "cell_type": "code",
      "execution_count": null,
      "metadata": {
        "colab": {
          "base_uri": "https://localhost:8080/"
        },
        "id": "H54ESF6SpLQn",
        "outputId": "26ea4ef9-059b-462c-f7c5-2a1fbe3fe843"
      },
      "outputs": [
        {
          "output_type": "execute_result",
          "data": {
            "text/plain": [
              "False"
            ]
          },
          "metadata": {},
          "execution_count": 130
        }
      ],
      "source": [
        "{1, 3, 5} != {3, 5, 1}"
      ]
    },
    {
      "cell_type": "code",
      "execution_count": null,
      "metadata": {
        "colab": {
          "base_uri": "https://localhost:8080/"
        },
        "id": "cdSSjORWpLQn",
        "outputId": "ce8372c8-f12b-4117-c10b-29871bff40ce"
      },
      "outputs": [
        {
          "output_type": "execute_result",
          "data": {
            "text/plain": [
              "False"
            ]
          },
          "metadata": {},
          "execution_count": 139
        }
      ],
      "source": [
        "{1, 3, 5} < {3, 5, 1}"
      ]
    },
    {
      "cell_type": "code",
      "source": [
        "{1, 3, 5} < {7, 3, 5, 1}"
      ],
      "metadata": {
        "colab": {
          "base_uri": "https://localhost:8080/"
        },
        "id": "zzNMabDdpsax",
        "outputId": "e988d56a-8401-4313-9aa9-1cca16c20dcb"
      },
      "execution_count": null,
      "outputs": [
        {
          "output_type": "execute_result",
          "data": {
            "text/plain": [
              "True"
            ]
          },
          "metadata": {},
          "execution_count": 131
        }
      ]
    },
    {
      "cell_type": "code",
      "source": [
        "{1, 3, 5} <= {3, 5, 1}"
      ],
      "metadata": {
        "colab": {
          "base_uri": "https://localhost:8080/"
        },
        "id": "io9LTP2Xpvwe",
        "outputId": "dd8e57d6-5e23-4314-8dc8-19c58cb32387"
      },
      "execution_count": null,
      "outputs": [
        {
          "output_type": "execute_result",
          "data": {
            "text/plain": [
              "True"
            ]
          },
          "metadata": {},
          "execution_count": 132
        }
      ]
    },
    {
      "cell_type": "code",
      "source": [
        "{1, 3} <= {3, 5, 1}"
      ],
      "metadata": {
        "colab": {
          "base_uri": "https://localhost:8080/"
        },
        "id": "pibj7RNNpyvz",
        "outputId": "b6500941-c31c-495a-fc69-de8f69d36ee8"
      },
      "execution_count": null,
      "outputs": [
        {
          "output_type": "execute_result",
          "data": {
            "text/plain": [
              "True"
            ]
          },
          "metadata": {},
          "execution_count": 133
        }
      ]
    },
    {
      "cell_type": "code",
      "source": [
        "{1, 3, 5}.issubset({3, 5, 1})"
      ],
      "metadata": {
        "colab": {
          "base_uri": "https://localhost:8080/"
        },
        "id": "nqrWR0Kyp2pR",
        "outputId": "b1b13fd4-4861-4d76-e2cf-aff496677d66"
      },
      "execution_count": null,
      "outputs": [
        {
          "output_type": "execute_result",
          "data": {
            "text/plain": [
              "False"
            ]
          },
          "metadata": {},
          "execution_count": 136
        }
      ]
    },
    {
      "cell_type": "code",
      "source": [
        "{1, 2}.issubset({3, 5, 1})"
      ],
      "metadata": {
        "colab": {
          "base_uri": "https://localhost:8080/"
        },
        "id": "q41k0jvZp7jB",
        "outputId": "495ebeaf-ce1f-47ff-918d-2e4f57d7e861"
      },
      "execution_count": null,
      "outputs": [
        {
          "output_type": "execute_result",
          "data": {
            "text/plain": [
              "False"
            ]
          },
          "metadata": {},
          "execution_count": 135
        }
      ]
    },
    {
      "cell_type": "code",
      "source": [
        "{1, 3, 5} > {3, 5, 1}"
      ],
      "metadata": {
        "colab": {
          "base_uri": "https://localhost:8080/"
        },
        "id": "DBnBOEWNqK4S",
        "outputId": "45bfebb0-e246-43d9-d7ed-a7d10ea7dce6"
      },
      "execution_count": null,
      "outputs": [
        {
          "output_type": "execute_result",
          "data": {
            "text/plain": [
              "False"
            ]
          },
          "metadata": {},
          "execution_count": 137
        }
      ]
    },
    {
      "cell_type": "code",
      "source": [
        "{1, 3, 5, 7} > {3, 5, 1}"
      ],
      "metadata": {
        "colab": {
          "base_uri": "https://localhost:8080/"
        },
        "id": "zfylshjUqNE5",
        "outputId": "fa5d47be-9ae5-4e7d-d1bd-de4c091b4c9e"
      },
      "execution_count": null,
      "outputs": [
        {
          "output_type": "execute_result",
          "data": {
            "text/plain": [
              "True"
            ]
          },
          "metadata": {},
          "execution_count": 138
        }
      ]
    },
    {
      "cell_type": "code",
      "source": [
        "{1, 3, 5}.issuperset({3, 5, 1})"
      ],
      "metadata": {
        "colab": {
          "base_uri": "https://localhost:8080/"
        },
        "id": "qUXf4TSkqPY-",
        "outputId": "2cebe640-9c5b-4ede-ded0-707831e110f6"
      },
      "execution_count": null,
      "outputs": [
        {
          "output_type": "execute_result",
          "data": {
            "text/plain": [
              "True"
            ]
          },
          "metadata": {},
          "execution_count": 139
        }
      ]
    },
    {
      "cell_type": "code",
      "source": [
        "{1, 3, 5}.issuperset({3, 2})"
      ],
      "metadata": {
        "colab": {
          "base_uri": "https://localhost:8080/"
        },
        "id": "VaVTwdHAqYLP",
        "outputId": "9ba0bd5b-8433-45d6-c674-22350eb692fd"
      },
      "execution_count": null,
      "outputs": [
        {
          "output_type": "execute_result",
          "data": {
            "text/plain": [
              "False"
            ]
          },
          "metadata": {},
          "execution_count": 140
        }
      ]
    },
    {
      "cell_type": "code",
      "source": [
        "{1, 3, 5}.issuperset({3})"
      ],
      "metadata": {
        "colab": {
          "base_uri": "https://localhost:8080/"
        },
        "id": "14LrNh_Pqbyp",
        "outputId": "cddacd49-3eb5-471c-c6a5-55754e555d82"
      },
      "execution_count": null,
      "outputs": [
        {
          "output_type": "execute_result",
          "data": {
            "text/plain": [
              "True"
            ]
          },
          "metadata": {},
          "execution_count": 141
        }
      ]
    },
    {
      "cell_type": "markdown",
      "metadata": {
        "id": "bVUUaFRupLQp"
      },
      "source": [
        "### Atividade"
      ]
    },
    {
      "cell_type": "markdown",
      "metadata": {
        "id": "olIEzcGSpLQp"
      },
      "source": [
        "Use sets e `issuperset` para determinar se os caracteres da string `'abc def ghi jkl mno'` são um superconjunto (contém) dos caracteres da string `'hi mom'`.\n"
      ]
    },
    {
      "cell_type": "markdown",
      "source": [
        "Resposta"
      ],
      "metadata": {
        "id": "VGlduRuW8MY9"
      }
    },
    {
      "cell_type": "code",
      "source": [
        "texto = set('abc def ghi jkl mno')"
      ],
      "metadata": {
        "id": "NA1mK-VMqhdp"
      },
      "execution_count": null,
      "outputs": []
    },
    {
      "cell_type": "code",
      "source": [
        "texto.issuperset('hi mom')"
      ],
      "metadata": {
        "colab": {
          "base_uri": "https://localhost:8080/"
        },
        "id": "naanswyErdsH",
        "outputId": "38086cf6-f435-4058-d11e-400e1ee28acf"
      },
      "execution_count": null,
      "outputs": [
        {
          "output_type": "execute_result",
          "data": {
            "text/plain": [
              "True"
            ]
          },
          "metadata": {},
          "execution_count": 144
        }
      ]
    },
    {
      "cell_type": "code",
      "source": [],
      "metadata": {
        "id": "mnc2l5HhreN3"
      },
      "execution_count": null,
      "outputs": []
    },
    {
      "cell_type": "markdown",
      "metadata": {
        "id": "Mt1e8agppLQq"
      },
      "source": [
        "## 3.2 Operações de conjuntos matemáticos\n",
        "\n"
      ]
    },
    {
      "cell_type": "markdown",
      "source": [
        "### União"
      ],
      "metadata": {
        "id": "pya2TF3t8X0r"
      }
    },
    {
      "cell_type": "code",
      "execution_count": null,
      "metadata": {
        "colab": {
          "base_uri": "https://localhost:8080/"
        },
        "id": "AQFiN_UwpLQq",
        "outputId": "e3a5836d-72f3-4f74-8fae-4fb2c8d922bc"
      },
      "outputs": [
        {
          "output_type": "execute_result",
          "data": {
            "text/plain": [
              "{1, 2, 3, 4, 5}"
            ]
          },
          "metadata": {},
          "execution_count": 145
        }
      ],
      "source": [
        "{1, 3, 5} | {2, 3, 4}"
      ]
    },
    {
      "cell_type": "code",
      "source": [
        "{1, 3, 5}.union([20, 20, 3, 40, 40])"
      ],
      "metadata": {
        "colab": {
          "base_uri": "https://localhost:8080/"
        },
        "id": "HwX7JD-Srt0t",
        "outputId": "baec9e53-faeb-4a3e-8b2b-3c407e689242"
      },
      "execution_count": null,
      "outputs": [
        {
          "output_type": "execute_result",
          "data": {
            "text/plain": [
              "{1, 3, 5, 20, 40}"
            ]
          },
          "metadata": {},
          "execution_count": 146
        }
      ]
    },
    {
      "cell_type": "markdown",
      "source": [
        "### Interseção"
      ],
      "metadata": {
        "id": "5E7KWe1br72v"
      }
    },
    {
      "cell_type": "code",
      "source": [
        "{1, 3, 5} & {2, 3, 4}"
      ],
      "metadata": {
        "colab": {
          "base_uri": "https://localhost:8080/"
        },
        "id": "xlpZ_zMcrxSU",
        "outputId": "4196e4c3-45ef-4b87-a790-bbbdd59ede1b"
      },
      "execution_count": null,
      "outputs": [
        {
          "output_type": "execute_result",
          "data": {
            "text/plain": [
              "{3}"
            ]
          },
          "metadata": {},
          "execution_count": 147
        }
      ]
    },
    {
      "cell_type": "code",
      "source": [
        "{1, 3, 5}.intersection([1, 2, 2, 3, 3, 4, 4])"
      ],
      "metadata": {
        "colab": {
          "base_uri": "https://localhost:8080/"
        },
        "id": "nqhQeeAPr00g",
        "outputId": "538e80b5-0214-4b52-d5d2-caff6920e46f"
      },
      "execution_count": null,
      "outputs": [
        {
          "output_type": "execute_result",
          "data": {
            "text/plain": [
              "{1, 3}"
            ]
          },
          "metadata": {},
          "execution_count": 148
        }
      ]
    },
    {
      "cell_type": "markdown",
      "metadata": {
        "id": "RbAtvFW9pLQq"
      },
      "source": [
        "### Diferença"
      ]
    },
    {
      "cell_type": "code",
      "execution_count": null,
      "metadata": {
        "colab": {
          "base_uri": "https://localhost:8080/"
        },
        "id": "ajh1QbRWpLQq",
        "outputId": "6e6afbd8-3f0c-4ca2-e749-dff8ee924a78"
      },
      "outputs": [
        {
          "output_type": "execute_result",
          "data": {
            "text/plain": [
              "{1, 5}"
            ]
          },
          "metadata": {},
          "execution_count": 149
        }
      ],
      "source": [
        "{1, 3, 5} - {2, 3, 4}"
      ]
    },
    {
      "cell_type": "code",
      "execution_count": null,
      "metadata": {
        "colab": {
          "base_uri": "https://localhost:8080/"
        },
        "id": "GER4Cf46pLQr",
        "outputId": "408d8ae9-5b44-47b8-99fc-b1a0548b5c7a"
      },
      "outputs": [
        {
          "output_type": "execute_result",
          "data": {
            "text/plain": [
              "{1, 5, 7}"
            ]
          },
          "metadata": {},
          "execution_count": 150
        }
      ],
      "source": [
        "{1, 3, 5, 7}.difference([2, 2, 3, 3, 4, 4])"
      ]
    },
    {
      "cell_type": "markdown",
      "metadata": {
        "id": "Fli-iuTgpLQr"
      },
      "source": [
        "### Diferença Simétrica"
      ]
    },
    {
      "cell_type": "code",
      "execution_count": null,
      "metadata": {
        "colab": {
          "base_uri": "https://localhost:8080/"
        },
        "id": "AVRjAetNpLQr",
        "outputId": "91e5b6b8-723f-4afa-f852-392f65070a8b"
      },
      "outputs": [
        {
          "output_type": "execute_result",
          "data": {
            "text/plain": [
              "{1, 2, 4, 5}"
            ]
          },
          "metadata": {},
          "execution_count": 151
        }
      ],
      "source": [
        "{1, 3, 5} ^ {2, 3, 4}"
      ]
    },
    {
      "cell_type": "markdown",
      "metadata": {
        "id": "rS6sBuyxpLQr"
      },
      "source": [
        "### Disjunção"
      ]
    },
    {
      "cell_type": "code",
      "execution_count": null,
      "metadata": {
        "colab": {
          "base_uri": "https://localhost:8080/"
        },
        "id": "tAesM0JgpLQr",
        "outputId": "feea58f2-0cd0-43da-e5b7-287f37849938"
      },
      "outputs": [
        {
          "output_type": "execute_result",
          "data": {
            "text/plain": [
              "True"
            ]
          },
          "metadata": {},
          "execution_count": 152
        }
      ],
      "source": [
        "{1, 3, 5}.isdisjoint({2, 4, 6})"
      ]
    },
    {
      "cell_type": "code",
      "source": [
        "{1, 3, 5}.isdisjoint({4, 6, 1})"
      ],
      "metadata": {
        "colab": {
          "base_uri": "https://localhost:8080/"
        },
        "id": "Y6alQ0_wsTAe",
        "outputId": "f7f66037-7d46-440e-b697-72d3d1198140"
      },
      "execution_count": null,
      "outputs": [
        {
          "output_type": "execute_result",
          "data": {
            "text/plain": [
              "False"
            ]
          },
          "metadata": {},
          "execution_count": 153
        }
      ]
    },
    {
      "cell_type": "markdown",
      "metadata": {
        "id": "diOLWmiGpLQs"
      },
      "source": [
        "## 3.3 Operadores e métodos para alterar conjuntos \n",
        "\n"
      ]
    },
    {
      "cell_type": "markdown",
      "source": [
        "### Operações matemáticas mutáveis em conjuntos"
      ],
      "metadata": {
        "id": "_PkajNVEANjr"
      }
    },
    {
      "cell_type": "code",
      "execution_count": null,
      "metadata": {
        "id": "bToVdaGIpLQs"
      },
      "outputs": [],
      "source": [
        "numbers = {1, 3, 5}"
      ]
    },
    {
      "cell_type": "code",
      "source": [
        "id(numbers)"
      ],
      "metadata": {
        "colab": {
          "base_uri": "https://localhost:8080/"
        },
        "id": "CHU-Bfc7FWVC",
        "outputId": "25845ff2-2639-4f67-89ac-1c21bc98d53f"
      },
      "execution_count": null,
      "outputs": [
        {
          "output_type": "execute_result",
          "data": {
            "text/plain": [
              "140076717565664"
            ]
          },
          "metadata": {},
          "execution_count": 155
        }
      ]
    },
    {
      "cell_type": "code",
      "source": [
        "numbers |= {2, 3, 4}"
      ],
      "metadata": {
        "id": "8SpdL1pvsjcC"
      },
      "execution_count": null,
      "outputs": []
    },
    {
      "cell_type": "code",
      "source": [
        "numbers"
      ],
      "metadata": {
        "colab": {
          "base_uri": "https://localhost:8080/"
        },
        "id": "t4e0iLRTspLE",
        "outputId": "b5c11566-48bf-4575-b42f-b0a4916f6656"
      },
      "execution_count": null,
      "outputs": [
        {
          "output_type": "execute_result",
          "data": {
            "text/plain": [
              "{1, 2, 3, 4, 5}"
            ]
          },
          "metadata": {},
          "execution_count": 158
        }
      ]
    },
    {
      "cell_type": "code",
      "source": [
        "id(numbers)"
      ],
      "metadata": {
        "colab": {
          "base_uri": "https://localhost:8080/"
        },
        "id": "7LyydV7bsp0H",
        "outputId": "8a226f56-8030-423b-a42e-758aa058f831"
      },
      "execution_count": null,
      "outputs": [
        {
          "output_type": "execute_result",
          "data": {
            "text/plain": [
              "140076717565664"
            ]
          },
          "metadata": {},
          "execution_count": 159
        }
      ]
    },
    {
      "cell_type": "code",
      "source": [
        "numbers.update(range(10))"
      ],
      "metadata": {
        "id": "bi1iquF8s5uu"
      },
      "execution_count": null,
      "outputs": []
    },
    {
      "cell_type": "code",
      "source": [
        "numbers"
      ],
      "metadata": {
        "colab": {
          "base_uri": "https://localhost:8080/"
        },
        "id": "KB8DFGo5s8ZM",
        "outputId": "89a6d3ac-38eb-41a6-f70e-19236556920d"
      },
      "execution_count": null,
      "outputs": [
        {
          "output_type": "execute_result",
          "data": {
            "text/plain": [
              "{0, 1, 2, 3, 4, 5, 6, 7, 8, 9}"
            ]
          },
          "metadata": {},
          "execution_count": 161
        }
      ]
    },
    {
      "cell_type": "code",
      "source": [
        "id(numbers)"
      ],
      "metadata": {
        "colab": {
          "base_uri": "https://localhost:8080/"
        },
        "id": "1Xvk4Z7Rs9Il",
        "outputId": "4931da55-ad1f-478e-ee6f-d5810da0be1b"
      },
      "execution_count": null,
      "outputs": [
        {
          "output_type": "execute_result",
          "data": {
            "text/plain": [
              "140076717565664"
            ]
          },
          "metadata": {},
          "execution_count": 162
        }
      ]
    },
    {
      "cell_type": "markdown",
      "metadata": {
        "id": "bkSVKwWUpLQt"
      },
      "source": [
        "### Métodos para adicionar e remover elementos"
      ]
    },
    {
      "cell_type": "code",
      "execution_count": null,
      "metadata": {
        "id": "UJI01qhfpLQt"
      },
      "outputs": [],
      "source": [
        "numbers.add(17)"
      ]
    },
    {
      "cell_type": "code",
      "execution_count": null,
      "metadata": {
        "id": "rnMVXIGHpLQt"
      },
      "outputs": [],
      "source": [
        "numbers.add(3)"
      ]
    },
    {
      "cell_type": "code",
      "execution_count": null,
      "metadata": {
        "colab": {
          "base_uri": "https://localhost:8080/"
        },
        "id": "n8qaNQ2ipLQt",
        "outputId": "aee210fe-be12-4cbd-eb8e-6a5f699f044a"
      },
      "outputs": [
        {
          "output_type": "execute_result",
          "data": {
            "text/plain": [
              "{0, 1, 2, 3, 4, 5, 6, 7, 8, 9, 17}"
            ]
          },
          "metadata": {},
          "execution_count": 165
        }
      ],
      "source": [
        "numbers"
      ]
    },
    {
      "cell_type": "code",
      "execution_count": null,
      "metadata": {
        "id": "acc3uNZepLQt"
      },
      "outputs": [],
      "source": [
        "numbers.remove(3)"
      ]
    },
    {
      "cell_type": "code",
      "execution_count": null,
      "metadata": {
        "colab": {
          "base_uri": "https://localhost:8080/"
        },
        "id": "-ULfDriJpLQt",
        "outputId": "94ff502f-61ad-4165-ea1d-d7273faa6d20"
      },
      "outputs": [
        {
          "output_type": "execute_result",
          "data": {
            "text/plain": [
              "{0, 1, 2, 4, 5, 6, 7, 8, 9, 17}"
            ]
          },
          "metadata": {},
          "execution_count": 167
        }
      ],
      "source": [
        "numbers"
      ]
    },
    {
      "cell_type": "code",
      "source": [
        "numbers.pop()"
      ],
      "metadata": {
        "colab": {
          "base_uri": "https://localhost:8080/"
        },
        "id": "Uo1aKzuvtH2r",
        "outputId": "03e6844b-8205-4395-f760-137d67e2c09b"
      },
      "execution_count": null,
      "outputs": [
        {
          "output_type": "execute_result",
          "data": {
            "text/plain": [
              "0"
            ]
          },
          "metadata": {},
          "execution_count": 168
        }
      ]
    },
    {
      "cell_type": "code",
      "source": [
        "numbers"
      ],
      "metadata": {
        "colab": {
          "base_uri": "https://localhost:8080/"
        },
        "id": "K1M_9UfEtN8_",
        "outputId": "542708d5-6a14-4a03-a541-4335243004d4"
      },
      "execution_count": null,
      "outputs": [
        {
          "output_type": "execute_result",
          "data": {
            "text/plain": [
              "{1, 2, 4, 5, 6, 7, 8, 9, 17}"
            ]
          },
          "metadata": {},
          "execution_count": 169
        }
      ]
    },
    {
      "cell_type": "code",
      "source": [
        "numbers.pop()"
      ],
      "metadata": {
        "colab": {
          "base_uri": "https://localhost:8080/"
        },
        "id": "U8jfi625tUCd",
        "outputId": "cbf02001-f6eb-4b35-b957-5be379583d31"
      },
      "execution_count": null,
      "outputs": [
        {
          "output_type": "execute_result",
          "data": {
            "text/plain": [
              "1"
            ]
          },
          "metadata": {},
          "execution_count": 170
        }
      ]
    },
    {
      "cell_type": "code",
      "source": [
        "numbers"
      ],
      "metadata": {
        "colab": {
          "base_uri": "https://localhost:8080/"
        },
        "id": "N33Vmex-tZ7B",
        "outputId": "8b232297-cb53-4bab-d005-751260116564"
      },
      "execution_count": null,
      "outputs": [
        {
          "output_type": "execute_result",
          "data": {
            "text/plain": [
              "{2, 4, 5, 6, 7, 8, 9, 17}"
            ]
          },
          "metadata": {},
          "execution_count": 171
        }
      ]
    },
    {
      "cell_type": "markdown",
      "metadata": {
        "id": "Nu4ilihlpLQv"
      },
      "source": [
        "## 3.4 Compreensão com conjuntos"
      ]
    },
    {
      "cell_type": "code",
      "execution_count": null,
      "metadata": {
        "id": "zKUrJWobpLQv"
      },
      "outputs": [],
      "source": [
        "numeros = [1, 2, 2, 3, 4, 5, 6, 6, 7, 8, 9, 10, 10]"
      ]
    },
    {
      "cell_type": "code",
      "source": [
        "pares = {item for item in numeros if item % 2 == 0}"
      ],
      "metadata": {
        "id": "eSgSxOiRtgz5"
      },
      "execution_count": null,
      "outputs": []
    },
    {
      "cell_type": "code",
      "source": [
        "pares"
      ],
      "metadata": {
        "colab": {
          "base_uri": "https://localhost:8080/"
        },
        "id": "I8kYo4rBtrl1",
        "outputId": "dc4e41e5-0a5a-45de-965e-ea83da0bc011"
      },
      "execution_count": null,
      "outputs": [
        {
          "output_type": "execute_result",
          "data": {
            "text/plain": [
              "{2, 4, 6, 8, 10}"
            ]
          },
          "metadata": {},
          "execution_count": 176
        }
      ]
    },
    {
      "cell_type": "markdown",
      "source": [
        "# Exercícios selecionados"
      ],
      "metadata": {
        "id": "I-a6fx6XGDmQ"
      }
    },
    {
      "cell_type": "markdown",
      "metadata": {
        "id": "92QqQFiBpLQw"
      },
      "source": [
        "## 6.2 \n",
        "\n",
        "O código a seguir não está funcionando. Ele deveria exibir as palavras únicas na string `texto` e o número de ocorrências de cada palavra. Corrija o código.\n",
        "```python\n",
        "from collections import Counter\n",
        "texto = ('ser ou não ser eis a questão')\n",
        "contador = Counter(texto.split())\n",
        "for palavra, contagem in sorted(contador):\n",
        "    print(f'{palavra:<12}{contagem}')\n",
        "```"
      ]
    },
    {
      "cell_type": "code",
      "source": [
        "from collections import Counter\n",
        "texto = ('ser ou não ser eis a questão')\n",
        "contador = Counter(texto.split())\n",
        "for palavra, contagem in sorted(contador):\n",
        "    print(f'{palavra:<12}{contagem}')"
      ],
      "metadata": {
        "colab": {
          "base_uri": "https://localhost:8080/",
          "height": 219
        },
        "id": "jWkp3he3uHe5",
        "outputId": "3f64125a-fd19-47fd-fdf3-04d3f830c1d5"
      },
      "execution_count": null,
      "outputs": [
        {
          "output_type": "error",
          "ename": "ValueError",
          "evalue": "ignored",
          "traceback": [
            "\u001b[0;31m---------------------------------------------------------------------------\u001b[0m",
            "\u001b[0;31mValueError\u001b[0m                                Traceback (most recent call last)",
            "\u001b[0;32m<ipython-input-177-ff36269192a9>\u001b[0m in \u001b[0;36m<module>\u001b[0;34m\u001b[0m\n\u001b[1;32m      2\u001b[0m \u001b[0mtexto\u001b[0m \u001b[0;34m=\u001b[0m \u001b[0;34m(\u001b[0m\u001b[0;34m'ser ou não ser eis a questão'\u001b[0m\u001b[0;34m)\u001b[0m\u001b[0;34m\u001b[0m\u001b[0;34m\u001b[0m\u001b[0m\n\u001b[1;32m      3\u001b[0m \u001b[0mcontador\u001b[0m \u001b[0;34m=\u001b[0m \u001b[0mCounter\u001b[0m\u001b[0;34m(\u001b[0m\u001b[0mtexto\u001b[0m\u001b[0;34m.\u001b[0m\u001b[0msplit\u001b[0m\u001b[0;34m(\u001b[0m\u001b[0;34m)\u001b[0m\u001b[0;34m)\u001b[0m\u001b[0;34m\u001b[0m\u001b[0;34m\u001b[0m\u001b[0m\n\u001b[0;32m----> 4\u001b[0;31m \u001b[0;32mfor\u001b[0m \u001b[0mpalavra\u001b[0m\u001b[0;34m,\u001b[0m \u001b[0mcontagem\u001b[0m \u001b[0;32min\u001b[0m \u001b[0msorted\u001b[0m\u001b[0;34m(\u001b[0m\u001b[0mcontador\u001b[0m\u001b[0;34m)\u001b[0m\u001b[0;34m:\u001b[0m\u001b[0;34m\u001b[0m\u001b[0;34m\u001b[0m\u001b[0m\n\u001b[0m\u001b[1;32m      5\u001b[0m     \u001b[0mprint\u001b[0m\u001b[0;34m(\u001b[0m\u001b[0;34mf'{palavra:<12}{contagem}'\u001b[0m\u001b[0;34m)\u001b[0m\u001b[0;34m\u001b[0m\u001b[0;34m\u001b[0m\u001b[0m\n",
            "\u001b[0;31mValueError\u001b[0m: not enough values to unpack (expected 2, got 1)"
          ]
        }
      ]
    },
    {
      "cell_type": "code",
      "source": [
        "from collections import Counter\n",
        "texto = ('ser ou não ser eis a questão')\n",
        "contador = Counter(texto.split())\n",
        "for palavra, contagem in sorted(contador.items()):\n",
        "    print(f'{palavra:<12}{contagem}')"
      ],
      "metadata": {
        "colab": {
          "base_uri": "https://localhost:8080/"
        },
        "id": "Nh-boZkku0Uj",
        "outputId": "0c8b47ea-ed86-4414-a4ef-e956056f110c"
      },
      "execution_count": null,
      "outputs": [
        {
          "output_type": "stream",
          "name": "stdout",
          "text": [
            "a           1\n",
            "eis         1\n",
            "não         1\n",
            "ou          1\n",
            "questão     1\n",
            "ser         2\n"
          ]
        }
      ]
    },
    {
      "cell_type": "code",
      "source": [],
      "metadata": {
        "id": "K4JD8d1ru6dH"
      },
      "execution_count": null,
      "outputs": []
    }
  ]
}